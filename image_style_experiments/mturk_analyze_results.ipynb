{
 "metadata": {
  "name": "",
  "signature": "sha256:019a57e9680b29650c29b79ee2fd517dcf2d2976ec472518ee8168098c76a3a9"
 },
 "nbformat": 3,
 "nbformat_minor": 0,
 "worksheets": [
  {
   "cells": [
    {
     "cell_type": "code",
     "collapsed": false,
     "input": [
      "%load_ext autoreload\n",
      "%autoreload 2\n",
      "\n",
      "import sys\n",
      "import uuid\n",
      "import math\n",
      "import urllib\n",
      "import urlparse\n",
      "import time\n",
      "import numpy as np\n",
      "\n",
      "from boto.mturk.connection import *\n",
      "from boto.mturk.question import ExternalQuestion\n",
      "from boto.mturk.qualification import *\n",
      "from boto.mturk.price import *\n",
      "\n",
      "import pandas as pd\n",
      "import vislab.datasets"
     ],
     "language": "python",
     "metadata": {},
     "outputs": [
      {
       "output_type": "stream",
       "stream": "stdout",
       "text": [
        "The autoreload extension is already loaded. To reload it, use:\n",
        "  %reload_ext autoreload\n"
       ]
      }
     ],
     "prompt_number": 28
    },
    {
     "cell_type": "code",
     "collapsed": false,
     "input": [
      "%matplotlib inline\n",
      "import matplotlib.pyplot as plt"
     ],
     "language": "python",
     "metadata": {},
     "outputs": [],
     "prompt_number": 3
    },
    {
     "cell_type": "code",
     "collapsed": false,
     "input": [
      "answer_df = pd.read_hdf( '/Users/sergeyk/Dropbox/mturk-results/mturk-answers.h5', 'df' )\n",
      "print len( answer_df )\n",
      "answer_df.head()"
     ],
     "language": "python",
     "metadata": {},
     "outputs": [
      {
       "output_type": "stream",
       "stream": "stdout",
       "text": [
        "216796\n"
       ]
      },
      {
       "html": [
        "<div style=\"max-height:1000px;max-width:1500px;overflow:auto;\">\n",
        "<table border=\"1\" class=\"dataframe\">\n",
        "  <thead>\n",
        "    <tr style=\"text-align: right;\">\n",
        "      <th></th>\n",
        "      <th>assignment_id</th>\n",
        "      <th>hit_id</th>\n",
        "      <th>tagged_Bright</th>\n",
        "      <th>tagged_Depth_of_Field</th>\n",
        "      <th>tagged_Detailed</th>\n",
        "      <th>tagged_Ethereal</th>\n",
        "      <th>tagged_Geometric_Composition</th>\n",
        "      <th>tagged_HDR</th>\n",
        "      <th>tagged_Hazy</th>\n",
        "      <th>tagged_Horror</th>\n",
        "      <th>tagged_Long_Exposure</th>\n",
        "      <th>tagged_Macro</th>\n",
        "      <th>tagged_Melancholy</th>\n",
        "      <th>tagged_Minimal</th>\n",
        "      <th>tagged_Noir</th>\n",
        "      <th>tagged_Pastel</th>\n",
        "      <th>tagged_Romantic</th>\n",
        "      <th>tagged_Serene</th>\n",
        "      <th>tagged_Sunny</th>\n",
        "      <th>tagged_Vintage</th>\n",
        "      <th></th>\n",
        "    </tr>\n",
        "  </thead>\n",
        "  <tbody>\n",
        "    <tr>\n",
        "      <th>12750600883</th>\n",
        "      <td> 3DZQRBDBSLEAV2ZYGLOU1XEOXCR3S0</td>\n",
        "      <td> 3T2EL38U0LJ8C0T5I41BOTS8ILLXQB</td>\n",
        "      <td> NaN</td>\n",
        "      <td> NaN</td>\n",
        "      <td> NaN</td>\n",
        "      <td> NaN</td>\n",
        "      <td> NaN</td>\n",
        "      <td> NaN</td>\n",
        "      <td> NaN</td>\n",
        "      <td> NaN</td>\n",
        "      <td> NaN</td>\n",
        "      <td> NaN</td>\n",
        "      <td> NaN</td>\n",
        "      <td> NaN</td>\n",
        "      <td> NaN</td>\n",
        "      <td> False</td>\n",
        "      <td> NaN</td>\n",
        "      <td> NaN</td>\n",
        "      <td> NaN</td>\n",
        "      <td> NaN</td>\n",
        "      <td>...</td>\n",
        "    </tr>\n",
        "    <tr>\n",
        "      <th>3640743068</th>\n",
        "      <td> 3DZQRBDBSLEAV2ZYGLOU1XEOXCR3S0</td>\n",
        "      <td> 3T2EL38U0LJ8C0T5I41BOTS8ILLXQB</td>\n",
        "      <td> NaN</td>\n",
        "      <td> NaN</td>\n",
        "      <td> NaN</td>\n",
        "      <td> NaN</td>\n",
        "      <td> NaN</td>\n",
        "      <td> NaN</td>\n",
        "      <td> NaN</td>\n",
        "      <td> NaN</td>\n",
        "      <td> NaN</td>\n",
        "      <td> NaN</td>\n",
        "      <td> NaN</td>\n",
        "      <td> NaN</td>\n",
        "      <td> NaN</td>\n",
        "      <td> False</td>\n",
        "      <td> NaN</td>\n",
        "      <td> NaN</td>\n",
        "      <td> NaN</td>\n",
        "      <td> NaN</td>\n",
        "      <td>...</td>\n",
        "    </tr>\n",
        "    <tr>\n",
        "      <th>12664369395</th>\n",
        "      <td> 3DZQRBDBSLEAV2ZYGLOU1XEOXCR3S0</td>\n",
        "      <td> 3T2EL38U0LJ8C0T5I41BOTS8ILLXQB</td>\n",
        "      <td> NaN</td>\n",
        "      <td> NaN</td>\n",
        "      <td> NaN</td>\n",
        "      <td> NaN</td>\n",
        "      <td> NaN</td>\n",
        "      <td> NaN</td>\n",
        "      <td> NaN</td>\n",
        "      <td> NaN</td>\n",
        "      <td> NaN</td>\n",
        "      <td> NaN</td>\n",
        "      <td> NaN</td>\n",
        "      <td> NaN</td>\n",
        "      <td> NaN</td>\n",
        "      <td> False</td>\n",
        "      <td> NaN</td>\n",
        "      <td> NaN</td>\n",
        "      <td> NaN</td>\n",
        "      <td> NaN</td>\n",
        "      <td>...</td>\n",
        "    </tr>\n",
        "    <tr>\n",
        "      <th>11617034266</th>\n",
        "      <td> 3DZQRBDBSLEAV2ZYGLOU1XEOXCR3S0</td>\n",
        "      <td> 3T2EL38U0LJ8C0T5I41BOTS8ILLXQB</td>\n",
        "      <td> NaN</td>\n",
        "      <td> NaN</td>\n",
        "      <td> NaN</td>\n",
        "      <td> NaN</td>\n",
        "      <td> NaN</td>\n",
        "      <td> NaN</td>\n",
        "      <td> NaN</td>\n",
        "      <td> NaN</td>\n",
        "      <td> NaN</td>\n",
        "      <td> NaN</td>\n",
        "      <td> NaN</td>\n",
        "      <td> NaN</td>\n",
        "      <td> NaN</td>\n",
        "      <td> False</td>\n",
        "      <td> NaN</td>\n",
        "      <td> NaN</td>\n",
        "      <td> NaN</td>\n",
        "      <td> NaN</td>\n",
        "      <td>...</td>\n",
        "    </tr>\n",
        "    <tr>\n",
        "      <th>13317660883</th>\n",
        "      <td> 3DZQRBDBSLEAV2ZYGLOU1XEOXCR3S0</td>\n",
        "      <td> 3T2EL38U0LJ8C0T5I41BOTS8ILLXQB</td>\n",
        "      <td> NaN</td>\n",
        "      <td> NaN</td>\n",
        "      <td> NaN</td>\n",
        "      <td> NaN</td>\n",
        "      <td> NaN</td>\n",
        "      <td> NaN</td>\n",
        "      <td> NaN</td>\n",
        "      <td> NaN</td>\n",
        "      <td> NaN</td>\n",
        "      <td> NaN</td>\n",
        "      <td> NaN</td>\n",
        "      <td> NaN</td>\n",
        "      <td> NaN</td>\n",
        "      <td> False</td>\n",
        "      <td> NaN</td>\n",
        "      <td> NaN</td>\n",
        "      <td> NaN</td>\n",
        "      <td> NaN</td>\n",
        "      <td>...</td>\n",
        "    </tr>\n",
        "  </tbody>\n",
        "</table>\n",
        "<p>5 rows \u00d7 21 columns</p>\n",
        "</div>"
       ],
       "metadata": {},
       "output_type": "pyout",
       "prompt_number": 5,
       "text": [
        "                              assignment_id                          hit_id  \\\n",
        "12750600883  3DZQRBDBSLEAV2ZYGLOU1XEOXCR3S0  3T2EL38U0LJ8C0T5I41BOTS8ILLXQB   \n",
        "3640743068   3DZQRBDBSLEAV2ZYGLOU1XEOXCR3S0  3T2EL38U0LJ8C0T5I41BOTS8ILLXQB   \n",
        "12664369395  3DZQRBDBSLEAV2ZYGLOU1XEOXCR3S0  3T2EL38U0LJ8C0T5I41BOTS8ILLXQB   \n",
        "11617034266  3DZQRBDBSLEAV2ZYGLOU1XEOXCR3S0  3T2EL38U0LJ8C0T5I41BOTS8ILLXQB   \n",
        "13317660883  3DZQRBDBSLEAV2ZYGLOU1XEOXCR3S0  3T2EL38U0LJ8C0T5I41BOTS8ILLXQB   \n",
        "\n",
        "            tagged_Bright tagged_Depth_of_Field tagged_Detailed  \\\n",
        "12750600883           NaN                   NaN             NaN   \n",
        "3640743068            NaN                   NaN             NaN   \n",
        "12664369395           NaN                   NaN             NaN   \n",
        "11617034266           NaN                   NaN             NaN   \n",
        "13317660883           NaN                   NaN             NaN   \n",
        "\n",
        "            tagged_Ethereal tagged_Geometric_Composition tagged_HDR  \\\n",
        "12750600883             NaN                          NaN        NaN   \n",
        "3640743068              NaN                          NaN        NaN   \n",
        "12664369395             NaN                          NaN        NaN   \n",
        "11617034266             NaN                          NaN        NaN   \n",
        "13317660883             NaN                          NaN        NaN   \n",
        "\n",
        "            tagged_Hazy tagged_Horror tagged_Long_Exposure tagged_Macro  \\\n",
        "12750600883         NaN           NaN                  NaN          NaN   \n",
        "3640743068          NaN           NaN                  NaN          NaN   \n",
        "12664369395         NaN           NaN                  NaN          NaN   \n",
        "11617034266         NaN           NaN                  NaN          NaN   \n",
        "13317660883         NaN           NaN                  NaN          NaN   \n",
        "\n",
        "            tagged_Melancholy tagged_Minimal tagged_Noir tagged_Pastel  \\\n",
        "12750600883               NaN            NaN         NaN         False   \n",
        "3640743068                NaN            NaN         NaN         False   \n",
        "12664369395               NaN            NaN         NaN         False   \n",
        "11617034266               NaN            NaN         NaN         False   \n",
        "13317660883               NaN            NaN         NaN         False   \n",
        "\n",
        "            tagged_Romantic tagged_Serene tagged_Sunny tagged_Vintage      \n",
        "12750600883             NaN           NaN          NaN            NaN ...  \n",
        "3640743068              NaN           NaN          NaN            NaN ...  \n",
        "12664369395             NaN           NaN          NaN            NaN ...  \n",
        "11617034266             NaN           NaN          NaN            NaN ...  \n",
        "13317660883             NaN           NaN          NaN            NaN ...  \n",
        "\n",
        "[5 rows x 21 columns]"
       ]
      }
     ],
     "prompt_number": 5
    },
    {
     "cell_type": "code",
     "collapsed": false,
     "input": [
      "result_df = pd.read_hdf( '/Users/sergeyk/Dropbox/mturk-results/mturk-results.h5', 'df' )\n",
      "print len( result_df )\n",
      "result_df.head()"
     ],
     "language": "python",
     "metadata": {},
     "outputs": [
      {
       "output_type": "stream",
       "stream": "stdout",
       "text": [
        "14721\n"
       ]
      },
      {
       "html": [
        "<div style=\"max-height:1000px;max-width:1500px;overflow:auto;\">\n",
        "<table border=\"1\" class=\"dataframe\">\n",
        "  <thead>\n",
        "    <tr style=\"text-align: right;\">\n",
        "      <th></th>\n",
        "      <th>assignment_id</th>\n",
        "      <th>conf_Bright</th>\n",
        "      <th>conf_Depth_of_Field</th>\n",
        "      <th>conf_Detailed</th>\n",
        "      <th>conf_Ethereal</th>\n",
        "      <th>conf_Geometric_Composition</th>\n",
        "      <th>conf_HDR</th>\n",
        "      <th>conf_Hazy</th>\n",
        "      <th>conf_Horror</th>\n",
        "      <th>conf_Long_Exposure</th>\n",
        "      <th>conf_Macro</th>\n",
        "      <th>conf_Melancholy</th>\n",
        "      <th>conf_Minimal</th>\n",
        "      <th>conf_Noir</th>\n",
        "      <th>conf_Pastel</th>\n",
        "      <th>conf_Romantic</th>\n",
        "      <th>conf_Serene</th>\n",
        "      <th>conf_Sunny</th>\n",
        "      <th>conf_Vintage</th>\n",
        "      <th>hit_id</th>\n",
        "      <th></th>\n",
        "    </tr>\n",
        "  </thead>\n",
        "  <tbody>\n",
        "    <tr>\n",
        "      <th>10001822913</th>\n",
        "      <td> 3OXV7EAXLEP5841198LR0SIWGZA36J</td>\n",
        "      <td>NaN</td>\n",
        "      <td>NaN</td>\n",
        "      <td>NaN</td>\n",
        "      <td> 0.333333</td>\n",
        "      <td>NaN</td>\n",
        "      <td>NaN</td>\n",
        "      <td>NaN</td>\n",
        "      <td>NaN</td>\n",
        "      <td>NaN</td>\n",
        "      <td>NaN</td>\n",
        "      <td>NaN</td>\n",
        "      <td> 0.666667</td>\n",
        "      <td>NaN</td>\n",
        "      <td>NaN</td>\n",
        "      <td>NaN</td>\n",
        "      <td>      NaN</td>\n",
        "      <td> 0.333333</td>\n",
        "      <td>NaN</td>\n",
        "      <td> 3EKZL9T8Y7L7W9J78IIU12FXRY5HC2</td>\n",
        "      <td>...</td>\n",
        "    </tr>\n",
        "    <tr>\n",
        "      <th>10005136676</th>\n",
        "      <td> 3K9FOBBF2HIUVTXIEVB8YPYZBCHNLK</td>\n",
        "      <td>NaN</td>\n",
        "      <td>NaN</td>\n",
        "      <td>NaN</td>\n",
        "      <td>      NaN</td>\n",
        "      <td>  0</td>\n",
        "      <td>NaN</td>\n",
        "      <td>NaN</td>\n",
        "      <td>NaN</td>\n",
        "      <td>  0</td>\n",
        "      <td>  0</td>\n",
        "      <td>NaN</td>\n",
        "      <td>      NaN</td>\n",
        "      <td>NaN</td>\n",
        "      <td>NaN</td>\n",
        "      <td>NaN</td>\n",
        "      <td> 0.000000</td>\n",
        "      <td>      NaN</td>\n",
        "      <td>NaN</td>\n",
        "      <td> 3B0MCRZMBQTI3FQZW0C5UBGVC8WPPV</td>\n",
        "      <td>...</td>\n",
        "    </tr>\n",
        "    <tr>\n",
        "      <th>10005459576</th>\n",
        "      <td> 37KGEN7NJ3PKPZOTM2H7JVCEG18PP5</td>\n",
        "      <td>NaN</td>\n",
        "      <td>NaN</td>\n",
        "      <td>NaN</td>\n",
        "      <td>      NaN</td>\n",
        "      <td>  0</td>\n",
        "      <td>NaN</td>\n",
        "      <td>NaN</td>\n",
        "      <td>NaN</td>\n",
        "      <td>NaN</td>\n",
        "      <td>NaN</td>\n",
        "      <td>NaN</td>\n",
        "      <td>      NaN</td>\n",
        "      <td>NaN</td>\n",
        "      <td>NaN</td>\n",
        "      <td>  0</td>\n",
        "      <td>      NaN</td>\n",
        "      <td>      NaN</td>\n",
        "      <td>NaN</td>\n",
        "      <td> 3GMLHYZ0LDWP4YQW497IH8W6OUQUYP</td>\n",
        "      <td>...</td>\n",
        "    </tr>\n",
        "    <tr>\n",
        "      <th>10008818046</th>\n",
        "      <td> 3GLB5JMZFXU5NPS4EA0PPSHX1RVGDR</td>\n",
        "      <td>NaN</td>\n",
        "      <td>NaN</td>\n",
        "      <td>NaN</td>\n",
        "      <td> 1.000000</td>\n",
        "      <td>NaN</td>\n",
        "      <td>NaN</td>\n",
        "      <td>NaN</td>\n",
        "      <td>NaN</td>\n",
        "      <td>NaN</td>\n",
        "      <td>NaN</td>\n",
        "      <td>NaN</td>\n",
        "      <td>      NaN</td>\n",
        "      <td>NaN</td>\n",
        "      <td>  0</td>\n",
        "      <td>  0</td>\n",
        "      <td>      NaN</td>\n",
        "      <td>      NaN</td>\n",
        "      <td>NaN</td>\n",
        "      <td> 36818Z1KV2C49MFA9JX1RDOZ8Q6A3Q</td>\n",
        "      <td>...</td>\n",
        "    </tr>\n",
        "    <tr>\n",
        "      <th>10009428143</th>\n",
        "      <td> 3DBQWDE4Y6XGT4UXM8V1H022PMJN5Y</td>\n",
        "      <td>NaN</td>\n",
        "      <td>NaN</td>\n",
        "      <td>NaN</td>\n",
        "      <td>      NaN</td>\n",
        "      <td>NaN</td>\n",
        "      <td>NaN</td>\n",
        "      <td>NaN</td>\n",
        "      <td>NaN</td>\n",
        "      <td>NaN</td>\n",
        "      <td>NaN</td>\n",
        "      <td>NaN</td>\n",
        "      <td>      NaN</td>\n",
        "      <td>NaN</td>\n",
        "      <td>NaN</td>\n",
        "      <td>NaN</td>\n",
        "      <td> 0.666667</td>\n",
        "      <td>      NaN</td>\n",
        "      <td>NaN</td>\n",
        "      <td> 3BAKUKE49GB0Y0NCOQ54YAYCAAF1RW</td>\n",
        "      <td>...</td>\n",
        "    </tr>\n",
        "  </tbody>\n",
        "</table>\n",
        "<p>5 rows \u00d7 63 columns</p>\n",
        "</div>"
       ],
       "metadata": {},
       "output_type": "pyout",
       "prompt_number": 45,
       "text": [
        "                              assignment_id  conf_Bright  conf_Depth_of_Field  \\\n",
        "10001822913  3OXV7EAXLEP5841198LR0SIWGZA36J          NaN                  NaN   \n",
        "10005136676  3K9FOBBF2HIUVTXIEVB8YPYZBCHNLK          NaN                  NaN   \n",
        "10005459576  37KGEN7NJ3PKPZOTM2H7JVCEG18PP5          NaN                  NaN   \n",
        "10008818046  3GLB5JMZFXU5NPS4EA0PPSHX1RVGDR          NaN                  NaN   \n",
        "10009428143  3DBQWDE4Y6XGT4UXM8V1H022PMJN5Y          NaN                  NaN   \n",
        "\n",
        "             conf_Detailed  conf_Ethereal  conf_Geometric_Composition  \\\n",
        "10001822913            NaN       0.333333                         NaN   \n",
        "10005136676            NaN            NaN                           0   \n",
        "10005459576            NaN            NaN                           0   \n",
        "10008818046            NaN       1.000000                         NaN   \n",
        "10009428143            NaN            NaN                         NaN   \n",
        "\n",
        "             conf_HDR  conf_Hazy  conf_Horror  conf_Long_Exposure  conf_Macro  \\\n",
        "10001822913       NaN        NaN          NaN                 NaN         NaN   \n",
        "10005136676       NaN        NaN          NaN                   0           0   \n",
        "10005459576       NaN        NaN          NaN                 NaN         NaN   \n",
        "10008818046       NaN        NaN          NaN                 NaN         NaN   \n",
        "10009428143       NaN        NaN          NaN                 NaN         NaN   \n",
        "\n",
        "             conf_Melancholy  conf_Minimal  conf_Noir  conf_Pastel  \\\n",
        "10001822913              NaN      0.666667        NaN          NaN   \n",
        "10005136676              NaN           NaN        NaN          NaN   \n",
        "10005459576              NaN           NaN        NaN          NaN   \n",
        "10008818046              NaN           NaN        NaN            0   \n",
        "10009428143              NaN           NaN        NaN          NaN   \n",
        "\n",
        "             conf_Romantic  conf_Serene  conf_Sunny  conf_Vintage  \\\n",
        "10001822913            NaN          NaN    0.333333           NaN   \n",
        "10005136676            NaN     0.000000         NaN           NaN   \n",
        "10005459576              0          NaN         NaN           NaN   \n",
        "10008818046              0          NaN         NaN           NaN   \n",
        "10009428143            NaN     0.666667         NaN           NaN   \n",
        "\n",
        "                                     hit_id      \n",
        "10001822913  3EKZL9T8Y7L7W9J78IIU12FXRY5HC2 ...  \n",
        "10005136676  3B0MCRZMBQTI3FQZW0C5UBGVC8WPPV ...  \n",
        "10005459576  3GMLHYZ0LDWP4YQW497IH8W6OUQUYP ...  \n",
        "10008818046  36818Z1KV2C49MFA9JX1RDOZ8Q6A3Q ...  \n",
        "10009428143  3BAKUKE49GB0Y0NCOQ54YAYCAAF1RW ...  \n",
        "\n",
        "[5 rows x 63 columns]"
       ]
      }
     ],
     "prompt_number": 45
    },
    {
     "cell_type": "code",
     "collapsed": false,
     "input": [
      "style_cols = [name for name in result_df.columns if 'style' in name]\n",
      "style_cols.remove( 'style_Bokeh' )\n",
      "style_cols.remove( 'style_Texture' )\n",
      "print style_cols"
     ],
     "language": "python",
     "metadata": {},
     "outputs": [
      {
       "output_type": "stream",
       "stream": "stdout",
       "text": [
        "['style_Bright', 'style_Depth_of_Field', 'style_Detailed', 'style_Ethereal', 'style_Geometric_Composition', 'style_HDR', 'style_Hazy', 'style_Horror', 'style_Long_Exposure', 'style_Macro', 'style_Melancholy', 'style_Minimal', 'style_Noir', 'style_Pastel', 'style_Romantic', 'style_Serene', 'style_Sunny', 'style_Vintage']\n"
       ]
      }
     ],
     "prompt_number": 7
    },
    {
     "cell_type": "markdown",
     "metadata": {},
     "source": [
      "# Helper functions"
     ]
    },
    {
     "cell_type": "code",
     "collapsed": false,
     "input": [
      "def assignment_df_tag( df, drop=True ):\n",
      "    if drop: df = df.dropna( axis=1 )\n",
      "    return [name for name in df.columns.tolist() if 'tagged' in name][0]\n",
      "\n",
      "def assignment_series_tag( ser, drop=True ):\n",
      "    if drop: ser = ser.dropna()\n",
      "    return [name for name in ser.index.tolist() if 'tagged' in name][0]"
     ],
     "language": "python",
     "metadata": {},
     "outputs": [],
     "prompt_number": 8
    },
    {
     "cell_type": "markdown",
     "metadata": {},
     "source": [
      "# Test split"
     ]
    },
    {
     "cell_type": "code",
     "collapsed": false,
     "input": [
      "test_df = result_df[ result_df['_split'] == 'test' ]"
     ],
     "language": "python",
     "metadata": {},
     "outputs": [],
     "prompt_number": 9
    },
    {
     "cell_type": "code",
     "collapsed": false,
     "input": [
      "[ ( len( test_df[ test_df[sn] == True ] ), sn ) for sn in style_cols ]"
     ],
     "language": "python",
     "metadata": {},
     "outputs": [
      {
       "metadata": {},
       "output_type": "pyout",
       "prompt_number": 10,
       "text": [
        "[(743, 'style_Bright'),\n",
        " (756, 'style_Depth_of_Field'),\n",
        " (743, 'style_Detailed'),\n",
        " (764, 'style_Ethereal'),\n",
        " (765, 'style_Geometric_Composition'),\n",
        " (760, 'style_HDR'),\n",
        " (750, 'style_Hazy'),\n",
        " (756, 'style_Horror'),\n",
        " (730, 'style_Long_Exposure'),\n",
        " (799, 'style_Macro'),\n",
        " (743, 'style_Melancholy'),\n",
        " (766, 'style_Minimal'),\n",
        " (765, 'style_Noir'),\n",
        " (761, 'style_Pastel'),\n",
        " (745, 'style_Romantic'),\n",
        " (765, 'style_Serene'),\n",
        " (727, 'style_Sunny'),\n",
        " (756, 'style_Vintage')]"
       ]
      }
     ],
     "prompt_number": 10
    },
    {
     "cell_type": "markdown",
     "metadata": {},
     "source": [
      "# Worker distribution"
     ]
    },
    {
     "cell_type": "code",
     "collapsed": false,
     "input": [
      "# total number of unique workers\n",
      "unique_workers = answer_df.drop_duplicates( cols=['worker_id'] )['worker_id'].tolist()\n",
      "print len( unique_workers )"
     ],
     "language": "python",
     "metadata": {},
     "outputs": [
      {
       "output_type": "stream",
       "stream": "stdout",
       "text": [
        "730\n"
       ]
      }
     ],
     "prompt_number": 11
    },
    {
     "cell_type": "code",
     "collapsed": false,
     "input": [
      "answers_per_worker = [ len( answer_df[ answer_df['worker_id'] == worker_id ] ) \n",
      "                       for worker_id in unique_workers ]\n",
      "answers_per_worker = pd.DataFrame( answers_per_worker, index=unique_workers, columns=['count'] )\n",
      "answers_per_worker.sort( columns='count', ascending=False, inplace=True )"
     ],
     "language": "python",
     "metadata": {},
     "outputs": [],
     "prompt_number": 12
    },
    {
     "cell_type": "code",
     "collapsed": false,
     "input": [
      "answers_per_worker.head(15)"
     ],
     "language": "python",
     "metadata": {},
     "outputs": [
      {
       "html": [
        "<div style=\"max-height:1000px;max-width:1500px;overflow:auto;\">\n",
        "<table border=\"1\" class=\"dataframe\">\n",
        "  <thead>\n",
        "    <tr style=\"text-align: right;\">\n",
        "      <th></th>\n",
        "      <th>count</th>\n",
        "    </tr>\n",
        "  </thead>\n",
        "  <tbody>\n",
        "    <tr>\n",
        "      <th>A1QCQE5XW37LN1</th>\n",
        "      <td> 4040</td>\n",
        "    </tr>\n",
        "    <tr>\n",
        "      <th>A9K0CV70JWG1W</th>\n",
        "      <td> 3717</td>\n",
        "    </tr>\n",
        "    <tr>\n",
        "      <th>A3JG1P42AS7WKH</th>\n",
        "      <td> 3134</td>\n",
        "    </tr>\n",
        "    <tr>\n",
        "      <th>A18TXM6GMU1411</th>\n",
        "      <td> 3106</td>\n",
        "    </tr>\n",
        "    <tr>\n",
        "      <th>A1HGC1W5EWXUYS</th>\n",
        "      <td> 3105</td>\n",
        "    </tr>\n",
        "    <tr>\n",
        "      <th>A2CSQNLTE06WZS</th>\n",
        "      <td> 3087</td>\n",
        "    </tr>\n",
        "    <tr>\n",
        "      <th>A340DZFTU1OSQQ</th>\n",
        "      <td> 3036</td>\n",
        "    </tr>\n",
        "    <tr>\n",
        "      <th>AN3KR7C1SLYY3</th>\n",
        "      <td> 2863</td>\n",
        "    </tr>\n",
        "    <tr>\n",
        "      <th>A9QYAH5BONH1W</th>\n",
        "      <td> 2449</td>\n",
        "    </tr>\n",
        "    <tr>\n",
        "      <th>AEVU71Z2FDTUX</th>\n",
        "      <td> 2367</td>\n",
        "    </tr>\n",
        "    <tr>\n",
        "      <th>ADJ9I7ZBFYFH7</th>\n",
        "      <td> 2352</td>\n",
        "    </tr>\n",
        "    <tr>\n",
        "      <th>A18RDBJFY3QWZL</th>\n",
        "      <td> 2327</td>\n",
        "    </tr>\n",
        "    <tr>\n",
        "      <th>AA7BTDZQNHW5</th>\n",
        "      <td> 2168</td>\n",
        "    </tr>\n",
        "    <tr>\n",
        "      <th>A35Z1QH3JQEZG6</th>\n",
        "      <td> 2004</td>\n",
        "    </tr>\n",
        "    <tr>\n",
        "      <th>A3DFJV1RD653DQ</th>\n",
        "      <td> 1997</td>\n",
        "    </tr>\n",
        "  </tbody>\n",
        "</table>\n",
        "<p>15 rows \u00d7 1 columns</p>\n",
        "</div>"
       ],
       "metadata": {},
       "output_type": "pyout",
       "prompt_number": 13,
       "text": [
        "                count\n",
        "A1QCQE5XW37LN1   4040\n",
        "A9K0CV70JWG1W    3717\n",
        "A3JG1P42AS7WKH   3134\n",
        "A18TXM6GMU1411   3106\n",
        "A1HGC1W5EWXUYS   3105\n",
        "A2CSQNLTE06WZS   3087\n",
        "A340DZFTU1OSQQ   3036\n",
        "AN3KR7C1SLYY3    2863\n",
        "A9QYAH5BONH1W    2449\n",
        "AEVU71Z2FDTUX    2367\n",
        "ADJ9I7ZBFYFH7    2352\n",
        "A18RDBJFY3QWZL   2327\n",
        "AA7BTDZQNHW5     2168\n",
        "A35Z1QH3JQEZG6   2004\n",
        "A3DFJV1RD653DQ   1997\n",
        "\n",
        "[15 rows x 1 columns]"
       ]
      }
     ],
     "prompt_number": 13
    },
    {
     "cell_type": "code",
     "collapsed": false,
     "input": [
      "plt.rcParams['figure.figsize'] = ( 16, 8 )\n",
      "\n",
      "plt.plot( range( len( answers_per_worker ) ), answers_per_worker['count'] )\n",
      "plt.ylabel( 'num answers' )\n",
      "plt.xlabel( 'worker' )"
     ],
     "language": "python",
     "metadata": {},
     "outputs": [
      {
       "metadata": {},
       "output_type": "pyout",
       "prompt_number": 14,
       "text": [
        "<matplotlib.text.Text at 0x118d94790>"
       ]
      },
      {
       "metadata": {},
       "output_type": "display_data",
       "png": "[encoded data removed]",
       "text": [
        "<matplotlib.figure.Figure at 0x114584c50>"
       ]
      }
     ],
     "prompt_number": 14
    },
    {
     "cell_type": "markdown",
     "metadata": {},
     "source": [
      "# Assignment answer distribution"
     ]
    },
    {
     "cell_type": "code",
     "collapsed": false,
     "input": [
      "assignments = answer_df.drop_duplicates( cols=['assignment_id'] )['assignment_id'].tolist()\n",
      "print len( assignments )\n",
      "\n",
      "assign_means = []\n",
      "for assign in assignments:\n",
      "    assign_df = answer_df[ answer_df['assignment_id'] == assign ]\n",
      "\n",
      "    tag_col = assignment_df_tag( assign_df )\n",
      "\n",
      "    assign_means += [ assign_df[ tag_col ].astype( 'int' ).mean() ]"
     ],
     "language": "python",
     "metadata": {},
     "outputs": [
      {
       "output_type": "stream",
       "stream": "stdout",
       "text": [
        "18920\n"
       ]
      },
      {
       "ename": "KeyboardInterrupt",
       "evalue": "",
       "output_type": "pyerr",
       "traceback": [
        "\u001b[0;31m---------------------------------------------------------------------------\u001b[0m\n\u001b[0;31mKeyboardInterrupt\u001b[0m                         Traceback (most recent call last)",
        "\u001b[0;32m<ipython-input-15-2ecff3bba77c>\u001b[0m in \u001b[0;36m<module>\u001b[0;34m()\u001b[0m\n\u001b[1;32m      4\u001b[0m \u001b[0massign_means\u001b[0m \u001b[0;34m=\u001b[0m \u001b[0;34m[\u001b[0m\u001b[0;34m]\u001b[0m\u001b[0;34m\u001b[0m\u001b[0m\n\u001b[1;32m      5\u001b[0m \u001b[0;32mfor\u001b[0m \u001b[0massign\u001b[0m \u001b[0;32min\u001b[0m \u001b[0massignments\u001b[0m\u001b[0;34m:\u001b[0m\u001b[0;34m\u001b[0m\u001b[0m\n\u001b[0;32m----> 6\u001b[0;31m     \u001b[0massign_df\u001b[0m \u001b[0;34m=\u001b[0m \u001b[0manswer_df\u001b[0m\u001b[0;34m[\u001b[0m \u001b[0manswer_df\u001b[0m\u001b[0;34m[\u001b[0m\u001b[0;34m'assignment_id'\u001b[0m\u001b[0;34m]\u001b[0m \u001b[0;34m==\u001b[0m \u001b[0massign\u001b[0m \u001b[0;34m]\u001b[0m\u001b[0;34m\u001b[0m\u001b[0m\n\u001b[0m\u001b[1;32m      7\u001b[0m \u001b[0;34m\u001b[0m\u001b[0m\n\u001b[1;32m      8\u001b[0m     \u001b[0mtag_col\u001b[0m \u001b[0;34m=\u001b[0m \u001b[0massignment_df_tag\u001b[0m\u001b[0;34m(\u001b[0m \u001b[0massign_df\u001b[0m \u001b[0;34m)\u001b[0m\u001b[0;34m\u001b[0m\u001b[0m\n",
        "\u001b[0;32m/Users/sergeyk/anaconda/lib/python2.7/site-packages/pandas/core/ops.pyc\u001b[0m in \u001b[0;36mwrapper\u001b[0;34m(self, other)\u001b[0m\n\u001b[1;32m    561\u001b[0m \u001b[0;34m\u001b[0m\u001b[0m\n\u001b[1;32m    562\u001b[0m             \u001b[0;31m# scalars\u001b[0m\u001b[0;34m\u001b[0m\u001b[0;34m\u001b[0m\u001b[0m\n\u001b[0;32m--> 563\u001b[0;31m             \u001b[0mres\u001b[0m \u001b[0;34m=\u001b[0m \u001b[0mna_op\u001b[0m\u001b[0;34m(\u001b[0m\u001b[0mvalues\u001b[0m\u001b[0;34m,\u001b[0m \u001b[0mother\u001b[0m\u001b[0;34m)\u001b[0m\u001b[0;34m\u001b[0m\u001b[0m\n\u001b[0m\u001b[1;32m    564\u001b[0m             \u001b[0;32mif\u001b[0m \u001b[0mnp\u001b[0m\u001b[0;34m.\u001b[0m\u001b[0misscalar\u001b[0m\u001b[0;34m(\u001b[0m\u001b[0mres\u001b[0m\u001b[0;34m)\u001b[0m\u001b[0;34m:\u001b[0m\u001b[0;34m\u001b[0m\u001b[0m\n\u001b[1;32m    565\u001b[0m                 raise TypeError('Could not compare %s type with Series'\n",
        "\u001b[0;32m/Users/sergeyk/anaconda/lib/python2.7/site-packages/pandas/core/ops.pyc\u001b[0m in \u001b[0;36mna_op\u001b[0;34m(x, y)\u001b[0m\n\u001b[1;32m    524\u001b[0m                     \u001b[0mresult\u001b[0m \u001b[0;34m=\u001b[0m \u001b[0mlib\u001b[0m\u001b[0;34m.\u001b[0m\u001b[0mvec_compare\u001b[0m\u001b[0;34m(\u001b[0m\u001b[0mx\u001b[0m\u001b[0;34m,\u001b[0m \u001b[0my\u001b[0m\u001b[0;34m,\u001b[0m \u001b[0mop\u001b[0m\u001b[0;34m)\u001b[0m\u001b[0;34m\u001b[0m\u001b[0m\n\u001b[1;32m    525\u001b[0m             \u001b[0;32melse\u001b[0m\u001b[0;34m:\u001b[0m\u001b[0;34m\u001b[0m\u001b[0m\n\u001b[0;32m--> 526\u001b[0;31m                 \u001b[0mresult\u001b[0m \u001b[0;34m=\u001b[0m \u001b[0mlib\u001b[0m\u001b[0;34m.\u001b[0m\u001b[0mscalar_compare\u001b[0m\u001b[0;34m(\u001b[0m\u001b[0mx\u001b[0m\u001b[0;34m,\u001b[0m \u001b[0my\u001b[0m\u001b[0;34m,\u001b[0m \u001b[0mop\u001b[0m\u001b[0;34m)\u001b[0m\u001b[0;34m\u001b[0m\u001b[0m\n\u001b[0m\u001b[1;32m    527\u001b[0m         \u001b[0;32melse\u001b[0m\u001b[0;34m:\u001b[0m\u001b[0;34m\u001b[0m\u001b[0m\n\u001b[1;32m    528\u001b[0m \u001b[0;34m\u001b[0m\u001b[0m\n",
        "\u001b[0;31mKeyboardInterrupt\u001b[0m: "
       ]
      }
     ],
     "prompt_number": 15
    },
    {
     "cell_type": "code",
     "collapsed": false,
     "input": [
      "print len( assign_means )\n",
      "print assign_means[:10]"
     ],
     "language": "python",
     "metadata": {},
     "outputs": []
    },
    {
     "cell_type": "code",
     "collapsed": false,
     "input": [
      "plt.rcParams['figure.figsize'] = ( 8, 6 )\n",
      "\n",
      "plt.hist( assign_means, bins=10, range=(0,1) )\n",
      "plt.xlabel( 'percent answered true' )\n",
      "plt.ylabel( 'number of assignments' )\n",
      "axs = plt.axis()\n",
      "axs = [ 0, 1 ] + list( axs[2:] )\n",
      "plt.axis( axs )"
     ],
     "language": "python",
     "metadata": {},
     "outputs": []
    },
    {
     "cell_type": "markdown",
     "metadata": {},
     "source": [
      "In this plot, we've looked at each assignment individually, computed the perecent of the 10 questions that were answered true.  This plot is a histogram of those percentages.  Across all assignments, we see a pretty good distribution centered around 50% of the images being of the style, with a slight bias towards less than half."
     ]
    },
    {
     "cell_type": "markdown",
     "metadata": {},
     "source": [
      "# Assignment outliers"
     ]
    },
    {
     "cell_type": "code",
     "collapsed": false,
     "input": [
      "assign_allone_df = pd.DataFrame()\n",
      "\n",
      "for assign in assignments:\n",
      "    assign_df = answer_df[ answer_df['assignment_id'] == assign ]\n",
      "    \n",
      "    tag_col = assignment_df_tag( assign_df )\n",
      "\n",
      "    update = False\n",
      "    if len( assign_df[ assign_df[tag_col] == True ] ) is len( assign_df ):\n",
      "        update = True\n",
      "    if len( assign_df[ assign_df[tag_col] == False ] ) is len( assign_df ):\n",
      "        update = True\n",
      "        \n",
      "    if update:\n",
      "        assign_allone_df = pd.concat( [ assign_allone_df, assign_df ] )"
     ],
     "language": "python",
     "metadata": {},
     "outputs": [
      {
       "ename": "KeyboardInterrupt",
       "evalue": "",
       "output_type": "pyerr",
       "traceback": [
        "\u001b[0;31m---------------------------------------------------------------------------\u001b[0m\n\u001b[0;31mKeyboardInterrupt\u001b[0m                         Traceback (most recent call last)",
        "\u001b[0;32m<ipython-input-16-2ed9281121ba>\u001b[0m in \u001b[0;36m<module>\u001b[0;34m()\u001b[0m\n\u001b[1;32m      2\u001b[0m \u001b[0;34m\u001b[0m\u001b[0m\n\u001b[1;32m      3\u001b[0m \u001b[0;32mfor\u001b[0m \u001b[0massign\u001b[0m \u001b[0;32min\u001b[0m \u001b[0massignments\u001b[0m\u001b[0;34m:\u001b[0m\u001b[0;34m\u001b[0m\u001b[0m\n\u001b[0;32m----> 4\u001b[0;31m     \u001b[0massign_df\u001b[0m \u001b[0;34m=\u001b[0m \u001b[0manswer_df\u001b[0m\u001b[0;34m[\u001b[0m \u001b[0manswer_df\u001b[0m\u001b[0;34m[\u001b[0m\u001b[0;34m'assignment_id'\u001b[0m\u001b[0;34m]\u001b[0m \u001b[0;34m==\u001b[0m \u001b[0massign\u001b[0m \u001b[0;34m]\u001b[0m\u001b[0;34m\u001b[0m\u001b[0m\n\u001b[0m\u001b[1;32m      5\u001b[0m \u001b[0;34m\u001b[0m\u001b[0m\n\u001b[1;32m      6\u001b[0m     \u001b[0mtag_col\u001b[0m \u001b[0;34m=\u001b[0m \u001b[0massignment_df_tag\u001b[0m\u001b[0;34m(\u001b[0m \u001b[0massign_df\u001b[0m \u001b[0;34m)\u001b[0m\u001b[0;34m\u001b[0m\u001b[0m\n",
        "\u001b[0;32m/Users/sergeyk/anaconda/lib/python2.7/site-packages/pandas/core/ops.pyc\u001b[0m in \u001b[0;36mwrapper\u001b[0;34m(self, other)\u001b[0m\n\u001b[1;32m    552\u001b[0m         \u001b[0;32melse\u001b[0m\u001b[0;34m:\u001b[0m\u001b[0;34m\u001b[0m\u001b[0m\n\u001b[1;32m    553\u001b[0m \u001b[0;34m\u001b[0m\u001b[0m\n\u001b[0;32m--> 554\u001b[0;31m             \u001b[0mmask\u001b[0m \u001b[0;34m=\u001b[0m \u001b[0misnull\u001b[0m\u001b[0;34m(\u001b[0m\u001b[0mself\u001b[0m\u001b[0;34m)\u001b[0m\u001b[0;34m\u001b[0m\u001b[0m\n\u001b[0m\u001b[1;32m    555\u001b[0m \u001b[0;34m\u001b[0m\u001b[0m\n\u001b[1;32m    556\u001b[0m             \u001b[0mvalues\u001b[0m \u001b[0;34m=\u001b[0m \u001b[0mself\u001b[0m\u001b[0;34m.\u001b[0m\u001b[0mvalues\u001b[0m\u001b[0;34m\u001b[0m\u001b[0m\n",
        "\u001b[0;32m/Users/sergeyk/anaconda/lib/python2.7/site-packages/pandas/core/common.pyc\u001b[0m in \u001b[0;36misnull\u001b[0;34m(obj)\u001b[0m\n\u001b[1;32m    123\u001b[0m         \u001b[0mgiven\u001b[0m \u001b[0mwhich\u001b[0m \u001b[0mof\u001b[0m \u001b[0mthe\u001b[0m \u001b[0melement\u001b[0m \u001b[0;32mis\u001b[0m \u001b[0mnull\u001b[0m\u001b[0;34m.\u001b[0m\u001b[0;34m\u001b[0m\u001b[0m\n\u001b[1;32m    124\u001b[0m     \"\"\"\n\u001b[0;32m--> 125\u001b[0;31m     \u001b[0;32mreturn\u001b[0m \u001b[0m_isnull\u001b[0m\u001b[0;34m(\u001b[0m\u001b[0mobj\u001b[0m\u001b[0;34m)\u001b[0m\u001b[0;34m\u001b[0m\u001b[0m\n\u001b[0m\u001b[1;32m    126\u001b[0m \u001b[0;34m\u001b[0m\u001b[0m\n\u001b[1;32m    127\u001b[0m \u001b[0;34m\u001b[0m\u001b[0m\n",
        "\u001b[0;32m/Users/sergeyk/anaconda/lib/python2.7/site-packages/pandas/core/common.pyc\u001b[0m in \u001b[0;36m_isnull_new\u001b[0;34m(obj)\u001b[0m\n\u001b[1;32m    133\u001b[0m         \u001b[0;32mraise\u001b[0m \u001b[0mNotImplementedError\u001b[0m\u001b[0;34m(\u001b[0m\u001b[0;34m\"isnull is not defined for MultiIndex\"\u001b[0m\u001b[0;34m)\u001b[0m\u001b[0;34m\u001b[0m\u001b[0m\n\u001b[1;32m    134\u001b[0m     \u001b[0;32melif\u001b[0m \u001b[0misinstance\u001b[0m\u001b[0;34m(\u001b[0m\u001b[0mobj\u001b[0m\u001b[0;34m,\u001b[0m \u001b[0;34m(\u001b[0m\u001b[0mABCSeries\u001b[0m\u001b[0;34m,\u001b[0m \u001b[0mnp\u001b[0m\u001b[0;34m.\u001b[0m\u001b[0mndarray\u001b[0m\u001b[0;34m)\u001b[0m\u001b[0;34m)\u001b[0m\u001b[0;34m:\u001b[0m\u001b[0;34m\u001b[0m\u001b[0m\n\u001b[0;32m--> 135\u001b[0;31m         \u001b[0;32mreturn\u001b[0m \u001b[0m_isnull_ndarraylike\u001b[0m\u001b[0;34m(\u001b[0m\u001b[0mobj\u001b[0m\u001b[0;34m)\u001b[0m\u001b[0;34m\u001b[0m\u001b[0m\n\u001b[0m\u001b[1;32m    136\u001b[0m     \u001b[0;32melif\u001b[0m \u001b[0misinstance\u001b[0m\u001b[0;34m(\u001b[0m\u001b[0mobj\u001b[0m\u001b[0;34m,\u001b[0m \u001b[0mABCGeneric\u001b[0m\u001b[0;34m)\u001b[0m\u001b[0;34m:\u001b[0m\u001b[0;34m\u001b[0m\u001b[0m\n\u001b[1;32m    137\u001b[0m         \u001b[0;32mreturn\u001b[0m \u001b[0mobj\u001b[0m\u001b[0;34m.\u001b[0m\u001b[0m_constructor\u001b[0m\u001b[0;34m(\u001b[0m\u001b[0mobj\u001b[0m\u001b[0;34m.\u001b[0m\u001b[0m_data\u001b[0m\u001b[0;34m.\u001b[0m\u001b[0mapply\u001b[0m\u001b[0;34m(\u001b[0m\u001b[0;32mlambda\u001b[0m \u001b[0mx\u001b[0m\u001b[0;34m:\u001b[0m \u001b[0misnull\u001b[0m\u001b[0;34m(\u001b[0m\u001b[0mx\u001b[0m\u001b[0;34m.\u001b[0m\u001b[0mvalues\u001b[0m\u001b[0;34m)\u001b[0m\u001b[0;34m)\u001b[0m\u001b[0;34m)\u001b[0m\u001b[0;34m\u001b[0m\u001b[0m\n",
        "\u001b[0;32m/Users/sergeyk/anaconda/lib/python2.7/site-packages/pandas/core/common.pyc\u001b[0m in \u001b[0;36m_isnull_ndarraylike\u001b[0;34m(obj)\u001b[0m\n\u001b[1;32m    210\u001b[0m         \u001b[0;32melse\u001b[0m\u001b[0;34m:\u001b[0m\u001b[0;34m\u001b[0m\u001b[0m\n\u001b[1;32m    211\u001b[0m             \u001b[0mresult\u001b[0m \u001b[0;34m=\u001b[0m \u001b[0mnp\u001b[0m\u001b[0;34m.\u001b[0m\u001b[0mempty\u001b[0m\u001b[0;34m(\u001b[0m\u001b[0mshape\u001b[0m\u001b[0;34m,\u001b[0m \u001b[0mdtype\u001b[0m\u001b[0;34m=\u001b[0m\u001b[0mbool\u001b[0m\u001b[0;34m)\u001b[0m\u001b[0;34m\u001b[0m\u001b[0m\n\u001b[0;32m--> 212\u001b[0;31m             \u001b[0mvec\u001b[0m \u001b[0;34m=\u001b[0m \u001b[0mlib\u001b[0m\u001b[0;34m.\u001b[0m\u001b[0misnullobj\u001b[0m\u001b[0;34m(\u001b[0m\u001b[0mvalues\u001b[0m\u001b[0;34m.\u001b[0m\u001b[0mravel\u001b[0m\u001b[0;34m(\u001b[0m\u001b[0;34m)\u001b[0m\u001b[0;34m)\u001b[0m\u001b[0;34m\u001b[0m\u001b[0m\n\u001b[0m\u001b[1;32m    213\u001b[0m             \u001b[0mresult\u001b[0m\u001b[0;34m[\u001b[0m\u001b[0;34m:\u001b[0m\u001b[0;34m]\u001b[0m \u001b[0;34m=\u001b[0m \u001b[0mvec\u001b[0m\u001b[0;34m.\u001b[0m\u001b[0mreshape\u001b[0m\u001b[0;34m(\u001b[0m\u001b[0mshape\u001b[0m\u001b[0;34m)\u001b[0m\u001b[0;34m\u001b[0m\u001b[0m\n\u001b[1;32m    214\u001b[0m \u001b[0;34m\u001b[0m\u001b[0m\n",
        "\u001b[0;31mKeyboardInterrupt\u001b[0m: "
       ]
      }
     ],
     "prompt_number": 16
    },
    {
     "cell_type": "code",
     "collapsed": false,
     "input": [
      "assign_allone_df.head()"
     ],
     "language": "python",
     "metadata": {},
     "outputs": []
    },
    {
     "cell_type": "code",
     "collapsed": false,
     "input": [
      "assign_allone_df = assign_allone_df.drop_duplicates( cols=['assignment_id'] )\n",
      "assign_allone_df"
     ],
     "language": "python",
     "metadata": {},
     "outputs": []
    },
    {
     "cell_type": "code",
     "collapsed": false,
     "input": [
      "allone_assigns = [ ( row['worker_id'], assignment_series_tag( row ) ) \n",
      "                   for index, row in assign_allone_df.iterrows() ]\n",
      "allone_assigns"
     ],
     "language": "python",
     "metadata": {},
     "outputs": []
    },
    {
     "cell_type": "markdown",
     "metadata": {},
     "source": [
      "I'd be interested in any other suggestions on how to validate worker answers."
     ]
    },
    {
     "cell_type": "markdown",
     "metadata": {},
     "source": [
      "# Per-style answer distribution"
     ]
    },
    {
     "cell_type": "code",
     "collapsed": false,
     "input": [
      "style_means = []\n",
      "\n",
      "for sn in style_cols:\n",
      "    \n",
      "    tn = 'tagged_' + sn[6:]\n",
      "    style_df = answer_df[ answer_df[tn].notnull() ]\n",
      "    \n",
      "    assignments = style_df.drop_duplicates( cols=['assignment_id'] )['assignment_id'].tolist()\n",
      "    \n",
      "    means = [ style_df[ style_df['assignment_id'] == assign ][tn].astype( 'int' ).mean()\n",
      "              for assign in assignments ]\n",
      "        \n",
      "    style_means += [ means ]"
     ],
     "language": "python",
     "metadata": {},
     "outputs": [],
     "prompt_number": 17
    },
    {
     "cell_type": "code",
     "collapsed": false,
     "input": [
      "print len( style_means )"
     ],
     "language": "python",
     "metadata": {},
     "outputs": [
      {
       "output_type": "stream",
       "stream": "stdout",
       "text": [
        "18\n"
       ]
      }
     ],
     "prompt_number": 18
    },
    {
     "cell_type": "code",
     "collapsed": false,
     "input": [
      "plt.rcParams['figure.figsize'] = ( 16, 18 )\n",
      "\n",
      "for i, m in enumerate( style_means ):\n",
      "    plt.subplot( 6, 3, i )\n",
      "    plt.title( style_cols[i][6:] )\n",
      "    plt.ylabel( 'n. assignments' )\n",
      "    plt.hist( m, bins=10, range=(0,1) )\n",
      "    axs = plt.axis()\n",
      "    axs = [ 0, 1 ] + list( axs[2:] )\n",
      "    plt.axis( axs )"
     ],
     "language": "python",
     "metadata": {},
     "outputs": [
      {
       "metadata": {},
       "output_type": "display_data",
       "png": "[encoded data removed]",
       "text": [
        "<matplotlib.figure.Figure at 0x11b2fad50>"
       ]
      }
     ],
     "prompt_number": 19
    },
    {
     "cell_type": "markdown",
     "metadata": {},
     "source": [
      "Plots similar to the above all-assignment plot, but broken down by style.  We selected all the assignments corresponding to a given style, computed the percent tagged true in each assignment, and created a histogram. \n",
      "\n",
      "Most styles are pretty well distributed.  `Long_Exposure`, `Pastel`, `Romantic` and `Melancholy` all have biases toward marking less that 50% true, while several others have slight biases towards marking more than 50% true."
     ]
    },
    {
     "cell_type": "markdown",
     "metadata": {},
     "source": [
      "# Per-worker answer distribution"
     ]
    },
    {
     "cell_type": "code",
     "collapsed": false,
     "input": [
      "turker_means = []\n",
      "\n",
      "for turker in answers_per_worker.index.tolist():\n",
      "    \n",
      "    worker_df = answer_df[ answer_df['worker_id'] == turker ]\n",
      "    \n",
      "    assignments = worker_df.drop_duplicates( cols=['assignment_id'] )['assignment_id'].tolist()\n",
      "    \n",
      "    means = []\n",
      "    for assign in assignments:\n",
      "        assign_df = worker_df[ worker_df['assignment_id'] == assign ]\n",
      "        assign_df = assign_df.dropna( axis=1 )\n",
      "        \n",
      "        tag_cols = [name for name in assign_df.columns.tolist() if 'tagged' in name]\n",
      "    \n",
      "        means += [ assign_df[ tag_cols[0] ].astype( 'int' ).mean() ]\n",
      "        \n",
      "    turker_means += [ means ]"
     ],
     "language": "python",
     "metadata": {},
     "outputs": []
    },
    {
     "cell_type": "code",
     "collapsed": false,
     "input": [
      "plt.rcParams['figure.figsize'] = ( 16, 16 )\n",
      "\n",
      "for i, m in enumerate( turker_means[:15] ):\n",
      "    plt.subplot( 6, 3, i+1 )\n",
      "    plt.title( unique_workers[i] + ' : ' + str(len(m)) )\n",
      "    plt.ylabel( 'n. assignments' )\n",
      "    plt.hist( m, bins=5, range=(0,1) )\n",
      "    axs = plt.axis()\n",
      "    axs = [ 0, 1 ] + list( axs[2:] )\n",
      "    plt.axis( axs )"
     ],
     "language": "python",
     "metadata": {},
     "outputs": []
    },
    {
     "cell_type": "markdown",
     "metadata": {},
     "source": [
      "Same style of plot, but broken down by turker, showing the top 15 turkers, all of which completed at least 10 HITs.  Again, a strong central distribution."
     ]
    },
    {
     "cell_type": "markdown",
     "metadata": {},
     "source": [
      "# Correctly answered"
     ]
    },
    {
     "cell_type": "code",
     "collapsed": false,
     "input": [
      "flickr_df = vislab.datasets.flickr.get_df()"
     ],
     "language": "python",
     "metadata": {},
     "outputs": [],
     "prompt_number": 20
    },
    {
     "cell_type": "code",
     "collapsed": false,
     "input": [
      "sn = style_cols[0]\n",
      "tn = 'tagged_' + sn[6:]\n",
      "print sn, tn"
     ],
     "language": "python",
     "metadata": {},
     "outputs": [
      {
       "output_type": "stream",
       "stream": "stdout",
       "text": [
        "style_Bright tagged_Bright\n"
       ]
      }
     ],
     "prompt_number": 21
    },
    {
     "cell_type": "code",
     "collapsed": false,
     "input": [
      "print len( result_df )\n",
      "print len( result_df[ result_df[tn].isnull() ] )\n",
      "print len( result_df ) - len( result_df[ result_df[tn].isnull() ] )"
     ],
     "language": "python",
     "metadata": {},
     "outputs": [
      {
       "output_type": "stream",
       "stream": "stdout",
       "text": [
        "14721\n",
        "13163\n",
        "1558\n"
       ]
      }
     ],
     "prompt_number": 22
    },
    {
     "cell_type": "code",
     "collapsed": false,
     "input": [
      "tag_df = result_df.dropna( subset=[tn] )"
     ],
     "language": "python",
     "metadata": {},
     "outputs": [],
     "prompt_number": 23
    },
    {
     "cell_type": "code",
     "collapsed": false,
     "input": [
      "tag_df.head(9)[ [ 'assignment_id', 'hit_id', 'worker_id', tn, sn ] ]"
     ],
     "language": "python",
     "metadata": {},
     "outputs": [
      {
       "html": [
        "<div style=\"max-height:1000px;max-width:1500px;overflow:auto;\">\n",
        "<table border=\"1\" class=\"dataframe\">\n",
        "  <thead>\n",
        "    <tr style=\"text-align: right;\">\n",
        "      <th></th>\n",
        "      <th>assignment_id</th>\n",
        "      <th>hit_id</th>\n",
        "      <th>worker_id</th>\n",
        "      <th>tagged_Bright</th>\n",
        "      <th>style_Bright</th>\n",
        "    </tr>\n",
        "  </thead>\n",
        "  <tbody>\n",
        "    <tr>\n",
        "      <th>10041013705</th>\n",
        "      <td> 3ZQIG0FLQEFNESIQK041HH9SVMKVWZ</td>\n",
        "      <td> 3ECKRY5B1PVK0X516EKNCCHX0T8IZX</td>\n",
        "      <td> A2H7BU993SYRJG</td>\n",
        "      <td>  True</td>\n",
        "      <td> False</td>\n",
        "    </tr>\n",
        "    <tr>\n",
        "      <th>10050082426</th>\n",
        "      <td> 3X65QVEQI0MB4P0RP52UIE4NC7CLC7</td>\n",
        "      <td> 34KYK9TV2Q7DCD5H5CYYUWGHIOMSBR</td>\n",
        "      <td> A3ORE2BNURPVNI</td>\n",
        "      <td>  True</td>\n",
        "      <td> False</td>\n",
        "    </tr>\n",
        "    <tr>\n",
        "      <th>10065812373</th>\n",
        "      <td> 3KB8R4ZV1E6C8SUK0E9JU2TXY6HBGD</td>\n",
        "      <td> 306W7JMRYXXVTTQ8RESTD5GG6UI8BA</td>\n",
        "      <td> A1WR2AKX164FZO</td>\n",
        "      <td>  True</td>\n",
        "      <td> False</td>\n",
        "    </tr>\n",
        "    <tr>\n",
        "      <th>10072845645</th>\n",
        "      <td> 3G2UL9A02DDN9N2OBKOHD9UCLQM67V</td>\n",
        "      <td> 3ULIZ0H1V94BTDPERJS1V9TGIPZ51P</td>\n",
        "      <td> A1OVDEQPK8O5PG</td>\n",
        "      <td> False</td>\n",
        "      <td> False</td>\n",
        "    </tr>\n",
        "    <tr>\n",
        "      <th>10074144685</th>\n",
        "      <td> 3IXEICO792IA7LZVONRII5MUAZ4T69</td>\n",
        "      <td> 32204AGAAABKDLZCA4EDRT0CPQZGHD</td>\n",
        "      <td>  AQOYZ1NB7R5UY</td>\n",
        "      <td>  True</td>\n",
        "      <td> False</td>\n",
        "    </tr>\n",
        "    <tr>\n",
        "      <th>10077053056</th>\n",
        "      <td> 3ZPBJO59KP0JNLNFYGI7ASTYGQCHDT</td>\n",
        "      <td> 3LAZVA75NHQ4Q8DSF2OE9Y3CRT72O3</td>\n",
        "      <td> A1QCQE5XW37LN1</td>\n",
        "      <td> False</td>\n",
        "      <td> False</td>\n",
        "    </tr>\n",
        "    <tr>\n",
        "      <th>10083205423</th>\n",
        "      <td> 3DUZQ9U6SMNU7B1H0VU0KS67P40VSM</td>\n",
        "      <td> 3S4TINXCCZMYELDOYVHPAR6GLX7BOX</td>\n",
        "      <td>   AA7BTDZQNHW5</td>\n",
        "      <td>  True</td>\n",
        "      <td> False</td>\n",
        "    </tr>\n",
        "    <tr>\n",
        "      <th>10089985664</th>\n",
        "      <td> 3WYP994K17Q6O7YPYTEHQME9P1O6YD</td>\n",
        "      <td> 3XEDXEGFX2NE47PZ2NS7JTTOAQF0KZ</td>\n",
        "      <td> A27QLSB53XTM7U</td>\n",
        "      <td> False</td>\n",
        "      <td> False</td>\n",
        "    </tr>\n",
        "    <tr>\n",
        "      <th>10105089606</th>\n",
        "      <td> 34BBWHLWHAAISMYQLT5I2SJYNKGWIV</td>\n",
        "      <td> 3LN3BXKGCZU2ABU1530DSWAZ4EBWGS</td>\n",
        "      <td> A18TCR555RWUZV</td>\n",
        "      <td>  True</td>\n",
        "      <td> False</td>\n",
        "    </tr>\n",
        "  </tbody>\n",
        "</table>\n",
        "<p>9 rows \u00d7 5 columns</p>\n",
        "</div>"
       ],
       "metadata": {},
       "output_type": "pyout",
       "prompt_number": 24,
       "text": [
        "                              assignment_id                          hit_id  \\\n",
        "10041013705  3ZQIG0FLQEFNESIQK041HH9SVMKVWZ  3ECKRY5B1PVK0X516EKNCCHX0T8IZX   \n",
        "10050082426  3X65QVEQI0MB4P0RP52UIE4NC7CLC7  34KYK9TV2Q7DCD5H5CYYUWGHIOMSBR   \n",
        "10065812373  3KB8R4ZV1E6C8SUK0E9JU2TXY6HBGD  306W7JMRYXXVTTQ8RESTD5GG6UI8BA   \n",
        "10072845645  3G2UL9A02DDN9N2OBKOHD9UCLQM67V  3ULIZ0H1V94BTDPERJS1V9TGIPZ51P   \n",
        "10074144685  3IXEICO792IA7LZVONRII5MUAZ4T69  32204AGAAABKDLZCA4EDRT0CPQZGHD   \n",
        "10077053056  3ZPBJO59KP0JNLNFYGI7ASTYGQCHDT  3LAZVA75NHQ4Q8DSF2OE9Y3CRT72O3   \n",
        "10083205423  3DUZQ9U6SMNU7B1H0VU0KS67P40VSM  3S4TINXCCZMYELDOYVHPAR6GLX7BOX   \n",
        "10089985664  3WYP994K17Q6O7YPYTEHQME9P1O6YD  3XEDXEGFX2NE47PZ2NS7JTTOAQF0KZ   \n",
        "10105089606  34BBWHLWHAAISMYQLT5I2SJYNKGWIV  3LN3BXKGCZU2ABU1530DSWAZ4EBWGS   \n",
        "\n",
        "                  worker_id tagged_Bright style_Bright  \n",
        "10041013705  A2H7BU993SYRJG          True        False  \n",
        "10050082426  A3ORE2BNURPVNI          True        False  \n",
        "10065812373  A1WR2AKX164FZO          True        False  \n",
        "10072845645  A1OVDEQPK8O5PG         False        False  \n",
        "10074144685   AQOYZ1NB7R5UY          True        False  \n",
        "10077053056  A1QCQE5XW37LN1         False        False  \n",
        "10083205423    AA7BTDZQNHW5          True        False  \n",
        "10089985664  A27QLSB53XTM7U         False        False  \n",
        "10105089606  A18TCR555RWUZV          True        False  \n",
        "\n",
        "[9 rows x 5 columns]"
       ]
      }
     ],
     "prompt_number": 24
    },
    {
     "cell_type": "code",
     "collapsed": false,
     "input": [
      "len( tag_df.dropna( subset=[sn] ) )"
     ],
     "language": "python",
     "metadata": {},
     "outputs": [
      {
       "metadata": {},
       "output_type": "pyout",
       "prompt_number": 25,
       "text": [
        "1558"
       ]
      }
     ],
     "prompt_number": 25
    },
    {
     "cell_type": "code",
     "collapsed": false,
     "input": [
      "pred_list = tag_df[tn].astype(int)\n",
      "truth_list = tag_df[sn].astype(int)\n",
      "print len( pred_list ) == len( truth_list )\n",
      "print np.array( [ p == t for p,t in zip( pred_list.index, truth_list.index )] ).all()"
     ],
     "language": "python",
     "metadata": {},
     "outputs": [
      {
       "output_type": "stream",
       "stream": "stdout",
       "text": [
        "True\n",
        "True\n"
       ]
      }
     ],
     "prompt_number": 29
    },
    {
     "cell_type": "code",
     "collapsed": false,
     "input": [
      "import sklearn.metrics"
     ],
     "language": "python",
     "metadata": {},
     "outputs": [],
     "prompt_number": 30
    },
    {
     "cell_type": "code",
     "collapsed": false,
     "input": [
      "print sklearn.metrics.accuracy_score( truth_list, pred_list )\n",
      "print sklearn.metrics.precision_recall_fscore_support( truth_list, pred_list, pos_label=1, average='micro' )"
     ],
     "language": "python",
     "metadata": {},
     "outputs": [
      {
       "output_type": "stream",
       "stream": "stdout",
       "text": [
        "0.68485237484\n",
        "(0.59713168187744459, 0.71562499999999996, 0.65103056147832272, 640)\n"
       ]
      }
     ],
     "prompt_number": 31
    },
    {
     "cell_type": "code",
     "collapsed": false,
     "input": [
      "result_df.shape"
     ],
     "language": "python",
     "metadata": {},
     "outputs": [
      {
       "metadata": {},
       "output_type": "pyout",
       "prompt_number": 43,
       "text": [
        "(14721, 63)"
       ]
      }
     ],
     "prompt_number": 43
    },
    {
     "cell_type": "code",
     "collapsed": false,
     "input": [
      "acc_l = []\n",
      "pre_l = []\n",
      "rec_l = []\n",
      "len_l = []\n",
      "cor_l = []\n",
      "\n",
      "for sn in style_cols:\n",
      "    \n",
      "    tn = 'tagged_' + sn[6:]\n",
      "    \n",
      "    tag_df = test_df.dropna( subset=[tn] )\n",
      "    \n",
      "    pred_list = tag_df[tn].astype(int)\n",
      "    truth_list = tag_df[sn].astype(int)\n",
      "    \n",
      "    acc = sklearn.metrics.accuracy_score( truth_list, pred_list )\n",
      "    prec_rec = sklearn.metrics.precision_recall_fscore_support( truth_list, pred_list, pos_label=1, average='micro' )\n",
      "    \n",
      "    acc_l += [ acc ]\n",
      "    pre_l += [ prec_rec[0] ]\n",
      "    rec_l += [ prec_rec[1] ]\n",
      "    len_l += [ len( truth_list ) ]\n",
      "    cor_l += [ len( [ t for t in truth_list if t ] ) / float( len( truth_list ) ) ]\n",
      "\n",
      "d = {\n",
      "    'accuracy': pd.Series( acc_l, index=style_cols ),\n",
      "    'precision': pd.Series( pre_l, index=style_cols ),\n",
      "    'recall':  pd.Series( rec_l, index=style_cols ),\n",
      "    '_length':  pd.Series( len_l, index=style_cols ),\n",
      "    '_%true': pd.Series( cor_l, index=style_cols ),\n",
      "}\n"
     ],
     "language": "python",
     "metadata": {},
     "outputs": [],
     "prompt_number": 41
    },
    {
     "cell_type": "code",
     "collapsed": false,
     "input": [
      "acc_df = pd.DataFrame( d )\n",
      "# acc_df.to_hdf('/Users/sergeyk/Dropbox/mturk-results/acc_df.h5', 'df', mode='w')\n",
      "acc_df"
     ],
     "language": "python",
     "metadata": {},
     "outputs": [
      {
       "html": [
        "<div style=\"max-height:1000px;max-width:1500px;overflow:auto;\">\n",
        "<table border=\"1\" class=\"dataframe\">\n",
        "  <thead>\n",
        "    <tr style=\"text-align: right;\">\n",
        "      <th></th>\n",
        "      <th>_%true</th>\n",
        "      <th>_length</th>\n",
        "      <th>accuracy</th>\n",
        "      <th>precision</th>\n",
        "      <th>recall</th>\n",
        "    </tr>\n",
        "  </thead>\n",
        "  <tbody>\n",
        "    <tr>\n",
        "      <th>style_Bright</th>\n",
        "      <td> 0.410783</td>\n",
        "      <td> 1558</td>\n",
        "      <td> 0.684852</td>\n",
        "      <td> 0.597132</td>\n",
        "      <td> 0.715625</td>\n",
        "    </tr>\n",
        "    <tr>\n",
        "      <th>style_Depth_of_Field</th>\n",
        "      <td> 0.404703</td>\n",
        "      <td> 1616</td>\n",
        "      <td> 0.702351</td>\n",
        "      <td> 0.626647</td>\n",
        "      <td> 0.654434</td>\n",
        "    </tr>\n",
        "    <tr>\n",
        "      <th>style_Detailed</th>\n",
        "      <td> 0.397460</td>\n",
        "      <td> 1575</td>\n",
        "      <td> 0.643175</td>\n",
        "      <td> 0.538835</td>\n",
        "      <td> 0.709265</td>\n",
        "    </tr>\n",
        "    <tr>\n",
        "      <th>style_Ethereal</th>\n",
        "      <td> 0.428144</td>\n",
        "      <td> 1670</td>\n",
        "      <td> 0.777844</td>\n",
        "      <td> 0.773885</td>\n",
        "      <td> 0.679720</td>\n",
        "    </tr>\n",
        "    <tr>\n",
        "      <th>style_Geometric_Composition</th>\n",
        "      <td> 0.415640</td>\n",
        "      <td> 1624</td>\n",
        "      <td> 0.829433</td>\n",
        "      <td> 0.817891</td>\n",
        "      <td> 0.758519</td>\n",
        "    </tr>\n",
        "    <tr>\n",
        "      <th>style_HDR</th>\n",
        "      <td> 0.405292</td>\n",
        "      <td> 1663</td>\n",
        "      <td> 0.763680</td>\n",
        "      <td> 0.843521</td>\n",
        "      <td> 0.511869</td>\n",
        "    </tr>\n",
        "    <tr>\n",
        "      <th>style_Hazy</th>\n",
        "      <td> 0.389941</td>\n",
        "      <td> 1690</td>\n",
        "      <td> 0.842012</td>\n",
        "      <td> 0.807210</td>\n",
        "      <td> 0.781487</td>\n",
        "    </tr>\n",
        "    <tr>\n",
        "      <th>style_Horror</th>\n",
        "      <td> 0.393692</td>\n",
        "      <td> 1712</td>\n",
        "      <td> 0.907126</td>\n",
        "      <td> 0.913323</td>\n",
        "      <td> 0.844214</td>\n",
        "    </tr>\n",
        "    <tr>\n",
        "      <th>style_Long_Exposure</th>\n",
        "      <td> 0.398401</td>\n",
        "      <td> 1501</td>\n",
        "      <td> 0.772818</td>\n",
        "      <td> 0.828645</td>\n",
        "      <td> 0.541806</td>\n",
        "    </tr>\n",
        "    <tr>\n",
        "      <th>style_Macro</th>\n",
        "      <td> 0.404895</td>\n",
        "      <td> 1961</td>\n",
        "      <td> 0.917899</td>\n",
        "      <td> 0.858437</td>\n",
        "      <td> 0.954660</td>\n",
        "    </tr>\n",
        "    <tr>\n",
        "      <th>style_Melancholy</th>\n",
        "      <td> 0.398765</td>\n",
        "      <td> 1620</td>\n",
        "      <td> 0.696296</td>\n",
        "      <td> 0.628333</td>\n",
        "      <td> 0.583591</td>\n",
        "    </tr>\n",
        "    <tr>\n",
        "      <th>style_Minimal</th>\n",
        "      <td> 0.407662</td>\n",
        "      <td> 1749</td>\n",
        "      <td> 0.795883</td>\n",
        "      <td> 0.709412</td>\n",
        "      <td> 0.845722</td>\n",
        "    </tr>\n",
        "    <tr>\n",
        "      <th>style_Noir</th>\n",
        "      <td> 0.401153</td>\n",
        "      <td> 1735</td>\n",
        "      <td> 0.840922</td>\n",
        "      <td> 0.863322</td>\n",
        "      <td> 0.716954</td>\n",
        "    </tr>\n",
        "    <tr>\n",
        "      <th>style_Pastel</th>\n",
        "      <td> 0.408798</td>\n",
        "      <td> 1705</td>\n",
        "      <td> 0.714370</td>\n",
        "      <td> 0.756098</td>\n",
        "      <td> 0.444763</td>\n",
        "    </tr>\n",
        "    <tr>\n",
        "      <th>style_Romantic</th>\n",
        "      <td> 0.424516</td>\n",
        "      <td> 1550</td>\n",
        "      <td> 0.658065</td>\n",
        "      <td> 0.778261</td>\n",
        "      <td> 0.272036</td>\n",
        "    </tr>\n",
        "    <tr>\n",
        "      <th>style_Serene</th>\n",
        "      <td> 0.441358</td>\n",
        "      <td> 1620</td>\n",
        "      <td> 0.694444</td>\n",
        "      <td> 0.638889</td>\n",
        "      <td> 0.707692</td>\n",
        "    </tr>\n",
        "    <tr>\n",
        "      <th>style_Sunny</th>\n",
        "      <td> 0.409925</td>\n",
        "      <td> 1471</td>\n",
        "      <td> 0.852481</td>\n",
        "      <td> 0.790663</td>\n",
        "      <td> 0.870647</td>\n",
        "    </tr>\n",
        "    <tr>\n",
        "      <th>style_Vintage</th>\n",
        "      <td> 0.405965</td>\n",
        "      <td> 1643</td>\n",
        "      <td> 0.706634</td>\n",
        "      <td> 0.672897</td>\n",
        "      <td> 0.539730</td>\n",
        "    </tr>\n",
        "  </tbody>\n",
        "</table>\n",
        "<p>18 rows \u00d7 5 columns</p>\n",
        "</div>"
       ],
       "metadata": {},
       "output_type": "pyout",
       "prompt_number": 40,
       "text": [
        "                               _%true  _length  accuracy  precision    recall\n",
        "style_Bright                 0.410783     1558  0.684852   0.597132  0.715625\n",
        "style_Depth_of_Field         0.404703     1616  0.702351   0.626647  0.654434\n",
        "style_Detailed               0.397460     1575  0.643175   0.538835  0.709265\n",
        "style_Ethereal               0.428144     1670  0.777844   0.773885  0.679720\n",
        "style_Geometric_Composition  0.415640     1624  0.829433   0.817891  0.758519\n",
        "style_HDR                    0.405292     1663  0.763680   0.843521  0.511869\n",
        "style_Hazy                   0.389941     1690  0.842012   0.807210  0.781487\n",
        "style_Horror                 0.393692     1712  0.907126   0.913323  0.844214\n",
        "style_Long_Exposure          0.398401     1501  0.772818   0.828645  0.541806\n",
        "style_Macro                  0.404895     1961  0.917899   0.858437  0.954660\n",
        "style_Melancholy             0.398765     1620  0.696296   0.628333  0.583591\n",
        "style_Minimal                0.407662     1749  0.795883   0.709412  0.845722\n",
        "style_Noir                   0.401153     1735  0.840922   0.863322  0.716954\n",
        "style_Pastel                 0.408798     1705  0.714370   0.756098  0.444763\n",
        "style_Romantic               0.424516     1550  0.658065   0.778261  0.272036\n",
        "style_Serene                 0.441358     1620  0.694444   0.638889  0.707692\n",
        "style_Sunny                  0.409925     1471  0.852481   0.790663  0.870647\n",
        "style_Vintage                0.405965     1643  0.706634   0.672897  0.539730\n",
        "\n",
        "[18 rows x 5 columns]"
       ]
      }
     ],
     "prompt_number": 40
    },
    {
     "cell_type": "markdown",
     "metadata": {},
     "source": [
      "# Representative images"
     ]
    },
    {
     "cell_type": "code",
     "collapsed": false,
     "input": [
      "sn = style_cols[1]\n",
      "tn = 'tagged_' + sn[6:]\n",
      "cn = 'conf_' + tn[7:]\n",
      "print sn, tn, cn"
     ],
     "language": "python",
     "metadata": {},
     "outputs": [
      {
       "output_type": "stream",
       "stream": "stdout",
       "text": [
        "style_Depth_of_Field tagged_Depth_of_Field conf_Depth_of_Field\n"
       ]
      }
     ],
     "prompt_number": 108
    },
    {
     "cell_type": "code",
     "collapsed": false,
     "input": [
      "tag_df = result_df.dropna( subset=[tn] )"
     ],
     "language": "python",
     "metadata": {},
     "outputs": [],
     "prompt_number": 109
    },
    {
     "cell_type": "code",
     "collapsed": false,
     "input": [
      "images = tag_df.index.unique()\n",
      "print len( images )\n",
      "print images[:10]"
     ],
     "language": "python",
     "metadata": {},
     "outputs": [
      {
       "output_type": "stream",
       "stream": "stdout",
       "text": [
        "1080\n",
        "[u'10021507425' u'10022874434' u'10056442674' u'10060247253' u'10061889464'\n",
        " u'10078352273' u'10098154893' u'10116691656' u'10144729766' u'10224811456']\n"
       ]
      }
     ],
     "prompt_number": 110
    },
    {
     "cell_type": "code",
     "collapsed": false,
     "input": [
      "img = images[2]"
     ],
     "language": "python",
     "metadata": {},
     "outputs": [],
     "prompt_number": 111
    },
    {
     "cell_type": "code",
     "collapsed": false,
     "input": [
      "temp_df = tag_df.ix[ img ]"
     ],
     "language": "python",
     "metadata": {},
     "outputs": [],
     "prompt_number": 112
    },
    {
     "cell_type": "code",
     "collapsed": false,
     "input": [
      "print len( temp_df )\n",
      "print len( temp_df[ temp_df[tn] == True ] )"
     ],
     "language": "python",
     "metadata": {},
     "outputs": [
      {
       "output_type": "stream",
       "stream": "stdout",
       "text": [
        "63\n",
        "30\n"
       ]
      }
     ],
     "prompt_number": 113
    },
    {
     "cell_type": "code",
     "collapsed": false,
     "input": [
      "tag_df.ix[img][cn]"
     ],
     "language": "python",
     "metadata": {},
     "outputs": [
      {
       "metadata": {},
       "output_type": "pyout",
       "prompt_number": 114,
       "text": [
        "0.0"
       ]
      }
     ],
     "prompt_number": 114
    },
    {
     "cell_type": "code",
     "collapsed": false,
     "input": [
      "true_imgs = []\n",
      "for i in range(4):\n",
      "    true_imgs += [[]]\n",
      "\n",
      "for img in images:\n",
      "    \n",
      "    cn = 'conf_' + tn[7:]\n",
      "    \n",
      "    true_len = int( tag_df.ix[img][cn] * 3 )\n",
      "    \n",
      "    true_imgs[ true_len ] += [ img ]"
     ],
     "language": "python",
     "metadata": {},
     "outputs": [],
     "prompt_number": 115
    },
    {
     "cell_type": "code",
     "collapsed": false,
     "input": [
      "dis_html = '''\n",
      "<table>\n",
      "<tr>\n",
      "<td width=\"50px\">{}</td>\n",
      "<td><img src=\"{}\"></td>\n",
      "<td><img src=\"{}\"></td>\n",
      "<td><img src=\"{}\"></td>\n",
      "<td><img src=\"{}\"></td>\n",
      "</tr>\n",
      "</table>'''"
     ],
     "language": "python",
     "metadata": {},
     "outputs": [],
     "prompt_number": 116
    },
    {
     "cell_type": "code",
     "collapsed": false,
     "input": [
      "from IPython.display import HTML"
     ],
     "language": "python",
     "metadata": {},
     "outputs": [],
     "prompt_number": 117
    },
    {
     "cell_type": "code",
     "collapsed": false,
     "input": [
      "img_urls = tag_df.ix[ true_imgs[2][:4] ]['image_url'].unique()\n",
      "img_urls"
     ],
     "language": "python",
     "metadata": {},
     "outputs": [
      {
       "metadata": {},
       "output_type": "pyout",
       "prompt_number": 118,
       "text": [
        "array(['http://farm8.staticflickr.com/7454/10375133286_3575007e0e.jpg',\n",
        "       'http://farm3.staticflickr.com/2894/10422429886_a1e6988011.jpg',\n",
        "       'http://farm8.staticflickr.com/7311/10890133193_f87b7ca2e5.jpg',\n",
        "       'http://farm4.staticflickr.com/3768/11002493336_e281b1de3e.jpg'], dtype=object)"
       ]
      }
     ],
     "prompt_number": 118
    },
    {
     "cell_type": "code",
     "collapsed": false,
     "input": [
      "HTML( dis_html.format( *( ['2 true'] + list( img_urls ) ) ) )"
     ],
     "language": "python",
     "metadata": {},
     "outputs": [
      {
       "html": [
        "\n",
        "<table>\n",
        "<tr>\n",
        "<td width=\"50px\">2 true</td>\n",
        "<td><img src=\"http://farm8.staticflickr.com/7454/10375133286_3575007e0e.jpg\"></td>\n",
        "<td><img src=\"http://farm3.staticflickr.com/2894/10422429886_a1e6988011.jpg\"></td>\n",
        "<td><img src=\"http://farm8.staticflickr.com/7311/10890133193_f87b7ca2e5.jpg\"></td>\n",
        "<td><img src=\"http://farm4.staticflickr.com/3768/11002493336_e281b1de3e.jpg\"></td>\n",
        "</tr>\n",
        "</table>"
       ],
       "metadata": {},
       "output_type": "pyout",
       "prompt_number": 119,
       "text": [
        "<IPython.core.display.HTML at 0x131ba9c50>"
       ]
      }
     ],
     "prompt_number": 119
    },
    {
     "cell_type": "code",
     "collapsed": false,
     "input": [
      "def ranked_images_for_style( sn ):\n",
      "    \n",
      "    tn = 'tagged_' + sn[6:]\n",
      "    cn = 'conf_' + tn[7:]    \n",
      "    tag_df = result_df.dropna( subset=[tn] )\n",
      "\n",
      "    images = tag_df.index.unique()\n",
      "\n",
      "    true_imgs = []\n",
      "    for i in range(4):\n",
      "        true_imgs += [[]]\n",
      "\n",
      "    for img in images:\n",
      "\n",
      "        temp_df = tag_df.ix[img]\n",
      "        true_len = int( tag_df.ix[img][cn] * 3 )\n",
      "\n",
      "        true_imgs[ true_len ] += [ img ]\n",
      "        \n",
      "    return true_imgs"
     ],
     "language": "python",
     "metadata": {},
     "outputs": [],
     "prompt_number": 120
    },
    {
     "cell_type": "code",
     "collapsed": false,
     "input": [
      "def display_ranked_images( sn ):\n",
      "    \n",
      "    true_imgs = ranked_images_for_style( sn )\n",
      "        \n",
      "    tn = 'tagged_' + sn[6:]\n",
      "    tag_df = result_df.dropna( subset=[tn] )\n",
      "    \n",
      "    answer = ''\n",
      "    \n",
      "    for i in range( 4 ):\n",
      "        img_urls = tag_df.ix[ true_imgs[i][:4] ]['image_url'].unique()\n",
      "        result = dis_html.format( *( ['{} true'.format(i)] + list( img_urls ) ) )\n",
      "        answer += result\n",
      "        \n",
      "    return HTML( answer )"
     ],
     "language": "python",
     "metadata": {},
     "outputs": [],
     "prompt_number": 121
    },
    {
     "cell_type": "code",
     "collapsed": false,
     "input": [
      "i = 0\n",
      "sn = style_cols[i]\n",
      "display( HTML( '''<h1>{}</h1>'''.format(sn) ) )\n",
      "display( display_ranked_images( sn ) )"
     ],
     "language": "python",
     "metadata": {},
     "outputs": [
      {
       "html": [
        "<h1>style_Bright</h1>"
       ],
       "metadata": {},
       "output_type": "display_data",
       "text": [
        "<IPython.core.display.HTML at 0x116938990>"
       ]
      },
      {
       "html": [
        "\n",
        "<table>\n",
        "<tr>\n",
        "<td width=\"50px\">0 true</td>\n",
        "<td><img src=\"http://farm3.staticflickr.com/2889/10280995365_14570c2de7.jpg\"></td>\n",
        "<td><img src=\"http://farm4.staticflickr.com/3668/10286148254_626cfe2a4f.jpg\"></td>\n",
        "<td><img src=\"http://farm2.staticflickr.com/1325/1035405151_5e529440ab.jpg\"></td>\n",
        "<td><img src=\"http://farm4.staticflickr.com/3830/10409003684_d742f3c55e.jpg\"></td>\n",
        "</tr>\n",
        "</table>\n",
        "<table>\n",
        "<tr>\n",
        "<td width=\"50px\">1 true</td>\n",
        "<td><img src=\"http://farm8.staticflickr.com/7459/10072845645_8abc71b436.jpg\"></td>\n",
        "<td><img src=\"http://farm8.staticflickr.com/7346/10077053056_ab5b7dbac3.jpg\"></td>\n",
        "<td><img src=\"http://farm3.staticflickr.com/2816/10135757256_52d00e2ac5.jpg\"></td>\n",
        "<td><img src=\"http://farm6.staticflickr.com/5518/10519170724_0722782665.jpg\"></td>\n",
        "</tr>\n",
        "</table>\n",
        "<table>\n",
        "<tr>\n",
        "<td width=\"50px\">2 true</td>\n",
        "<td><img src=\"http://farm8.staticflickr.com/7293/10050082426_e5b481a78a.jpg\"></td>\n",
        "<td><img src=\"http://farm8.staticflickr.com/7338/10153483994_65d8c08f61.jpg\"></td>\n",
        "<td><img src=\"http://farm8.staticflickr.com/7334/10384944624_ea23f655e7.jpg\"></td>\n",
        "<td><img src=\"http://farm6.staticflickr.com/5534/10616163566_fa299c759d.jpg\"></td>\n",
        "</tr>\n",
        "</table>\n",
        "<table>\n",
        "<tr>\n",
        "<td width=\"50px\">3 true</td>\n",
        "<td><img src=\"http://farm4.staticflickr.com/3834/10041013705_e9e4c25f6c.jpg\"></td>\n",
        "<td><img src=\"http://farm4.staticflickr.com/3692/10105089606_7be9e9a4f1.jpg\"></td>\n",
        "<td><img src=\"http://farm4.staticflickr.com/3798/10122765885_5a0db881fa.jpg\"></td>\n",
        "<td><img src=\"http://farm6.staticflickr.com/5495/10131394443_9bb94ebc47.jpg\"></td>\n",
        "</tr>\n",
        "</table>"
       ],
       "metadata": {},
       "output_type": "display_data",
       "text": [
        "<IPython.core.display.HTML at 0x116938bd0>"
       ]
      }
     ],
     "prompt_number": 122
    },
    {
     "cell_type": "code",
     "collapsed": false,
     "input": [
      "i = 1\n",
      "sn = style_cols[i]\n",
      "display( HTML( '''<h1>{}</h1>'''.format(sn) ) )\n",
      "display( display_ranked_images( sn ) )"
     ],
     "language": "python",
     "metadata": {},
     "outputs": [
      {
       "html": [
        "<h1>style_Depth_of_Field</h1>"
       ],
       "metadata": {},
       "output_type": "display_data",
       "text": [
        "<IPython.core.display.HTML at 0x116938b10>"
       ]
      },
      {
       "html": [
        "\n",
        "<table>\n",
        "<tr>\n",
        "<td width=\"50px\">0 true</td>\n",
        "<td><img src=\"http://farm4.staticflickr.com/3752/10021507425_4e1912f587.jpg\"></td>\n",
        "<td><img src=\"http://farm4.staticflickr.com/3736/10022874434_4671bae109.jpg\"></td>\n",
        "<td><img src=\"http://farm4.staticflickr.com/3823/10056442674_2bd3097ef7.jpg\"></td>\n",
        "<td><img src=\"http://farm6.staticflickr.com/5488/10060247253_3661f5447e.jpg\"></td>\n",
        "</tr>\n",
        "</table>\n",
        "<table>\n",
        "<tr>\n",
        "<td width=\"50px\">1 true</td>\n",
        "<td><img src=\"http://farm4.staticflickr.com/3749/10224811456_f29ca4a3fa.jpg\"></td>\n",
        "<td><img src=\"http://farm4.staticflickr.com/3737/10225377243_e06888497a.jpg\"></td>\n",
        "<td><img src=\"http://farm4.staticflickr.com/3783/10347506764_808bc1953e.jpg\"></td>\n",
        "<td><img src=\"http://farm6.staticflickr.com/5486/10412717866_4806533b5c.jpg\"></td>\n",
        "</tr>\n",
        "</table>\n",
        "<table>\n",
        "<tr>\n",
        "<td width=\"50px\">2 true</td>\n",
        "<td><img src=\"http://farm8.staticflickr.com/7454/10375133286_3575007e0e.jpg\"></td>\n",
        "<td><img src=\"http://farm3.staticflickr.com/2894/10422429886_a1e6988011.jpg\"></td>\n",
        "<td><img src=\"http://farm8.staticflickr.com/7311/10890133193_f87b7ca2e5.jpg\"></td>\n",
        "<td><img src=\"http://farm4.staticflickr.com/3768/11002493336_e281b1de3e.jpg\"></td>\n",
        "</tr>\n",
        "</table>\n",
        "<table>\n",
        "<tr>\n",
        "<td width=\"50px\">3 true</td>\n",
        "<td><img src=\"http://farm8.staticflickr.com/7379/10098154893_2bedd5be87.jpg\"></td>\n",
        "<td><img src=\"http://farm6.staticflickr.com/5529/10475974986_cf9fe142ff.jpg\"></td>\n",
        "<td><img src=\"http://farm6.staticflickr.com/5534/10616163566_fa299c759d.jpg\"></td>\n",
        "<td><img src=\"http://farm3.staticflickr.com/2823/11108049183_f67b10c5d0.jpg\"></td>\n",
        "</tr>\n",
        "</table>"
       ],
       "metadata": {},
       "output_type": "display_data",
       "text": [
        "<IPython.core.display.HTML at 0x131ba9650>"
       ]
      }
     ],
     "prompt_number": 123
    },
    {
     "cell_type": "code",
     "collapsed": false,
     "input": [
      "i = 2\n",
      "sn = style_cols[i]\n",
      "display( HTML( '''<h1>{}</h1>'''.format(sn) ) )\n",
      "display( display_ranked_images( sn ) )"
     ],
     "language": "python",
     "metadata": {},
     "outputs": [
      {
       "html": [
        "<h1>style_Detailed</h1>"
       ],
       "metadata": {},
       "output_type": "display_data",
       "text": [
        "<IPython.core.display.HTML at 0x116938990>"
       ]
      },
      {
       "html": [
        "\n",
        "<table>\n",
        "<tr>\n",
        "<td width=\"50px\">0 true</td>\n",
        "<td><img src=\"http://farm3.staticflickr.com/2894/10038881505_001192e0eb.jpg\"></td>\n",
        "<td><img src=\"http://farm8.staticflickr.com/7293/10050082426_e5b481a78a.jpg\"></td>\n",
        "<td><img src=\"http://farm8.staticflickr.com/7331/10297629633_f0d1c3861b.jpg\"></td>\n",
        "<td><img src=\"http://farm4.staticflickr.com/3753/10357410513_3f4214eec4.jpg\"></td>\n",
        "</tr>\n",
        "</table>\n",
        "<table>\n",
        "<tr>\n",
        "<td width=\"50px\">1 true</td>\n",
        "<td><img src=\"http://farm8.staticflickr.com/7353/10033305173_6ee5fab67e.jpg\"></td>\n",
        "<td><img src=\"http://farm8.staticflickr.com/7329/10132348864_2a0e186fbd.jpg\"></td>\n",
        "<td><img src=\"http://farm6.staticflickr.com/5336/10219780294_7f1f4e38d7.jpg\"></td>\n",
        "<td><img src=\"http://farm4.staticflickr.com/3791/10463005654_1b4d1f89e1.jpg\"></td>\n",
        "</tr>\n",
        "</table>\n",
        "<table>\n",
        "<tr>\n",
        "<td width=\"50px\">2 true</td>\n",
        "<td><img src=\"http://farm8.staticflickr.com/7376/10109686895_8c37b7d02e.jpg\"></td>\n",
        "<td><img src=\"http://farm8.staticflickr.com/7308/10132408355_49b09ca399.jpg\"></td>\n",
        "<td><img src=\"http://farm4.staticflickr.com/3735/10377412445_69ebd3e881.jpg\"></td>\n",
        "<td><img src=\"http://farm6.staticflickr.com/5511/10518060376_32148f8ca8.jpg\"></td>\n",
        "</tr>\n",
        "</table>\n",
        "<table>\n",
        "<tr>\n",
        "<td width=\"50px\">3 true</td>\n",
        "<td><img src=\"http://farm4.staticflickr.com/3752/10021507425_4e1912f587.jpg\"></td>\n",
        "<td><img src=\"http://farm8.staticflickr.com/7304/10122751486_7b4547b8f6.jpg\"></td>\n",
        "<td><img src=\"http://farm4.staticflickr.com/3798/10122765885_5a0db881fa.jpg\"></td>\n",
        "<td><img src=\"http://farm3.staticflickr.com/2877/10127826185_a472a4cb8c.jpg\"></td>\n",
        "</tr>\n",
        "</table>"
       ],
       "metadata": {},
       "output_type": "display_data",
       "text": [
        "<IPython.core.display.HTML at 0x120eeb4d0>"
       ]
      }
     ],
     "prompt_number": 124
    },
    {
     "cell_type": "code",
     "collapsed": false,
     "input": [
      "i = 3\n",
      "sn = style_cols[i]\n",
      "display( HTML( '''<h1>{}</h1>'''.format(sn) ) )\n",
      "display( display_ranked_images( sn ) )"
     ],
     "language": "python",
     "metadata": {},
     "outputs": [
      {
       "html": [
        "<h1>style_Ethereal</h1>"
       ],
       "metadata": {},
       "output_type": "display_data",
       "text": [
        "<IPython.core.display.HTML at 0x116938bd0>"
       ]
      },
      {
       "html": [
        "\n",
        "<table>\n",
        "<tr>\n",
        "<td width=\"50px\">0 true</td>\n",
        "<td><img src=\"http://farm8.staticflickr.com/7382/10047999266_a12ab2d010.jpg\"></td>\n",
        "<td><img src=\"http://farm4.staticflickr.com/3824/10072846474_de0aca2ab7.jpg\"></td>\n",
        "<td><img src=\"http://farm3.staticflickr.com/2863/10101815525_049d034a6d.jpg\"></td>\n",
        "<td><img src=\"http://farm8.staticflickr.com/7294/10117664354_d152a5fe37.jpg\"></td>\n",
        "</tr>\n",
        "</table>\n",
        "<table>\n",
        "<tr>\n",
        "<td width=\"50px\">1 true</td>\n",
        "<td><img src=\"http://farm8.staticflickr.com/7333/10001822913_45cf02673c.jpg\"></td>\n",
        "<td><img src=\"http://farm8.staticflickr.com/7456/10021049915_37ae95e460.jpg\"></td>\n",
        "<td><img src=\"http://farm3.staticflickr.com/2884/10024730964_cc69913db7.jpg\"></td>\n",
        "<td><img src=\"http://farm8.staticflickr.com/7379/10031022454_cecf032e32.jpg\"></td>\n",
        "</tr>\n",
        "</table>\n",
        "<table>\n",
        "<tr>\n",
        "<td width=\"50px\">2 true</td>\n",
        "<td><img src=\"http://farm8.staticflickr.com/7420/10033500453_7ac104beb4.jpg\"></td>\n",
        "<td><img src=\"http://farm6.staticflickr.com/5488/10035946813_1217e573b9.jpg\"></td>\n",
        "<td><img src=\"http://farm6.staticflickr.com/5463/10041948996_0482d6be6b.jpg\"></td>\n",
        "<td><img src=\"http://farm4.staticflickr.com/3735/10125443566_5d4399421e.jpg\"></td>\n",
        "</tr>\n",
        "</table>\n",
        "<table>\n",
        "<tr>\n",
        "<td width=\"50px\">3 true</td>\n",
        "<td><img src=\"http://farm6.staticflickr.com/5495/10008818046_7eb2101e77.jpg\"></td>\n",
        "<td><img src=\"http://farm8.staticflickr.com/7422/10019337243_48b88e1aa0.jpg\"></td>\n",
        "<td><img src=\"http://farm4.staticflickr.com/3683/10045560455_96e70e9f7d.jpg\"></td>\n",
        "<td><img src=\"http://farm6.staticflickr.com/5345/10057865396_7d99120e9a.jpg\"></td>\n",
        "</tr>\n",
        "</table>"
       ],
       "metadata": {},
       "output_type": "display_data",
       "text": [
        "<IPython.core.display.HTML at 0x120ef2510>"
       ]
      }
     ],
     "prompt_number": 125
    },
    {
     "cell_type": "code",
     "collapsed": false,
     "input": [
      "i = 4\n",
      "sn = style_cols[i]\n",
      "display( HTML( '''<h1>{}</h1>'''.format(sn) ) )\n",
      "display( display_ranked_images( sn ) )"
     ],
     "language": "python",
     "metadata": {},
     "outputs": [
      {
       "html": [
        "<h1>style_Geometric_Composition</h1>"
       ],
       "metadata": {},
       "output_type": "display_data",
       "text": [
        "<IPython.core.display.HTML at 0x116938750>"
       ]
      },
      {
       "html": [
        "\n",
        "<table>\n",
        "<tr>\n",
        "<td width=\"50px\">0 true</td>\n",
        "<td><img src=\"http://farm8.staticflickr.com/7400/10005136676_7b08bd38a4.jpg\"></td>\n",
        "<td><img src=\"http://farm8.staticflickr.com/7434/10040349805_041be4a0e9.jpg\"></td>\n",
        "<td><img src=\"http://farm6.staticflickr.com/5456/10061889464_9c636018cf.jpg\"></td>\n",
        "<td><img src=\"http://farm6.staticflickr.com/5512/10072881004_5b4a750d8e.jpg\"></td>\n",
        "</tr>\n",
        "</table>\n",
        "<table>\n",
        "<tr>\n",
        "<td width=\"50px\">1 true</td>\n",
        "<td><img src=\"http://farm8.staticflickr.com/7346/10018005846_9b712f038e.jpg\"></td>\n",
        "<td><img src=\"http://farm6.staticflickr.com/5455/10093237804_d60d6a4728.jpg\"></td>\n",
        "<td><img src=\"http://farm4.staticflickr.com/3721/10859258626_5540a2b501.jpg\"></td>\n",
        "<td><img src=\"http://farm3.staticflickr.com/2890/11024954216_f9c3c9e22a.jpg\"></td>\n",
        "</tr>\n",
        "</table>\n",
        "<table>\n",
        "<tr>\n",
        "<td width=\"50px\">2 true</td>\n",
        "<td><img src=\"http://farm8.staticflickr.com/7316/10138776395_bfc539927c.jpg\"></td>\n",
        "<td><img src=\"http://farm4.staticflickr.com/3673/10199511414_b4f8fc8fee.jpg\"></td>\n",
        "<td><img src=\"http://farm4.staticflickr.com/3796/10297508515_5f5a2c4032.jpg\"></td>\n",
        "<td><img src=\"http://farm8.staticflickr.com/7330/10939100025_3d7a20bf60.jpg\"></td>\n",
        "</tr>\n",
        "</table>\n",
        "<table>\n",
        "<tr>\n",
        "<td width=\"50px\">3 true</td>\n",
        "<td><img src=\"http://farm3.staticflickr.com/2874/10659087356_bd186cfa8a.jpg\"></td>\n",
        "<td><img src=\"http://farm4.staticflickr.com/3737/10916446556_209166d03c.jpg\"></td>\n",
        "<td><img src=\"http://farm4.staticflickr.com/3770/11627455436_17b7e41f5a.jpg\"></td>\n",
        "<td><img src=\"http://farm6.staticflickr.com/5533/11628022264_8f40975fcf.jpg\"></td>\n",
        "</tr>\n",
        "</table>"
       ],
       "metadata": {},
       "output_type": "display_data",
       "text": [
        "<IPython.core.display.HTML at 0x116938990>"
       ]
      }
     ],
     "prompt_number": 126
    },
    {
     "cell_type": "code",
     "collapsed": false,
     "input": [
      "i = 5\n",
      "sn = style_cols[i]\n",
      "display( HTML( '''<h1>{}</h1>'''.format(sn) ) )\n",
      "display( display_ranked_images( sn ) )"
     ],
     "language": "python",
     "metadata": {},
     "outputs": [
      {
       "html": [
        "<h1>style_HDR</h1>"
       ],
       "metadata": {},
       "output_type": "display_data",
       "text": [
        "<IPython.core.display.HTML at 0x116938990>"
       ]
      },
      {
       "html": [
        "\n",
        "<table>\n",
        "<tr>\n",
        "<td width=\"50px\">0 true</td>\n",
        "<td><img src=\"http://farm8.staticflickr.com/7379/10031022454_cecf032e32.jpg\"></td>\n",
        "<td><img src=\"http://farm4.staticflickr.com/3690/10167205375_fc03e54c3d.jpg\"></td>\n",
        "<td><img src=\"http://farm3.staticflickr.com/2868/10179268565_1710e97e41.jpg\"></td>\n",
        "<td><img src=\"http://farm8.staticflickr.com/7328/10187983203_b72b3b9a72.jpg\"></td>\n",
        "</tr>\n",
        "</table>\n",
        "<table>\n",
        "<tr>\n",
        "<td width=\"50px\">1 true</td>\n",
        "<td><img src=\"http://farm8.staticflickr.com/7335/10258613876_fee94e158a.jpg\"></td>\n",
        "<td><img src=\"http://farm4.staticflickr.com/3724/10338631804_d4ab5f75a3.jpg\"></td>\n",
        "<td><img src=\"http://farm8.staticflickr.com/7360/10460267993_e3f0844479.jpg\"></td>\n",
        "<td><img src=\"http://farm6.staticflickr.com/5525/10693725755_73f3a6f7d4.jpg\"></td>\n",
        "</tr>\n",
        "</table>\n",
        "<table>\n",
        "<tr>\n",
        "<td width=\"50px\">2 true</td>\n",
        "<td><img src=\"http://farm6.staticflickr.com/5490/11723238313_915b9ab716.jpg\"></td>\n",
        "<td><img src=\"http://farm8.staticflickr.com/7441/11840536954_6f95339630.jpg\"></td>\n",
        "<td><img src=\"http://farm8.staticflickr.com/7325/12179078496_59e1e8176d.jpg\"></td>\n",
        "<td><img src=\"http://farm4.staticflickr.com/3753/12290730783_2a04465dd7.jpg\"></td>\n",
        "</tr>\n",
        "</table>\n",
        "<table>\n",
        "<tr>\n",
        "<td width=\"50px\">3 true</td>\n",
        "<td><img src=\"http://farm6.staticflickr.com/5488/10035946813_1217e573b9.jpg\"></td>\n",
        "<td><img src=\"http://farm4.staticflickr.com/3778/11661829994_7cecd51268.jpg\"></td>\n",
        "<td><img src=\"http://farm6.staticflickr.com/5532/11954501046_8cb96534fb.jpg\"></td>\n",
        "<td><img src=\"http://farm3.staticflickr.com/2808/12265676274_d1f6a0e7f4.jpg\"></td>\n",
        "</tr>\n",
        "</table>"
       ],
       "metadata": {},
       "output_type": "display_data",
       "text": [
        "<IPython.core.display.HTML at 0x116938bd0>"
       ]
      }
     ],
     "prompt_number": 127
    },
    {
     "cell_type": "code",
     "collapsed": false,
     "input": [
      "i = 6\n",
      "sn = style_cols[i]\n",
      "display( HTML( '''<h1>{}</h1>'''.format(sn) ) )\n",
      "display( display_ranked_images( sn ) )"
     ],
     "language": "python",
     "metadata": {},
     "outputs": [
      {
       "html": [
        "<h1>style_Hazy</h1>"
       ],
       "metadata": {},
       "output_type": "display_data",
       "text": [
        "<IPython.core.display.HTML at 0x116938f90>"
       ]
      },
      {
       "html": [
        "\n",
        "<table>\n",
        "<tr>\n",
        "<td width=\"50px\">0 true</td>\n",
        "<td><img src=\"http://farm3.staticflickr.com/2838/10039620644_34dc22778e.jpg\"></td>\n",
        "<td><img src=\"http://farm8.staticflickr.com/7304/10122751486_7b4547b8f6.jpg\"></td>\n",
        "<td><img src=\"http://farm8.staticflickr.com/7408/10143823985_0be63394dc.jpg\"></td>\n",
        "<td><img src=\"http://farm4.staticflickr.com/3691/10147344955_305c7f1d9a.jpg\"></td>\n",
        "</tr>\n",
        "</table>\n",
        "<table>\n",
        "<tr>\n",
        "<td width=\"50px\">1 true</td>\n",
        "<td><img src=\"http://farm6.staticflickr.com/5504/10378812083_979644533c.jpg\"></td>\n",
        "<td><img src=\"http://farm6.staticflickr.com/5512/10509148824_0838b781c9.jpg\"></td>\n",
        "<td><img src=\"http://farm4.staticflickr.com/3831/10539389075_6e53b50496.jpg\"></td>\n",
        "<td><img src=\"http://farm2.staticflickr.com/1053/1062623444_89e16862f0.jpg\"></td>\n",
        "</tr>\n",
        "</table>\n",
        "<table>\n",
        "<tr>\n",
        "<td width=\"50px\">2 true</td>\n",
        "<td><img src=\"http://farm8.staticflickr.com/7452/10313818906_d651fd5246.jpg\"></td>\n",
        "<td><img src=\"http://farm6.staticflickr.com/5476/10341126486_34b370639b.jpg\"></td>\n",
        "<td><img src=\"http://farm6.staticflickr.com/5521/10345330174_e73f799d8a.jpg\"></td>\n",
        "<td><img src=\"http://farm6.staticflickr.com/5536/10366942624_6dd1287c59.jpg\"></td>\n",
        "</tr>\n",
        "</table>\n",
        "<table>\n",
        "<tr>\n",
        "<td width=\"50px\">3 true</td>\n",
        "<td><img src=\"http://farm6.staticflickr.com/5543/10332979835_64587e991c.jpg\"></td>\n",
        "<td><img src=\"http://farm8.staticflickr.com/7436/10343825145_edb14d3890.jpg\"></td>\n",
        "<td><img src=\"http://farm4.staticflickr.com/3781/10343895883_0dd7da5bed.jpg\"></td>\n",
        "<td><img src=\"http://farm8.staticflickr.com/7349/10343928066_8a0cd81e46.jpg\"></td>\n",
        "</tr>\n",
        "</table>"
       ],
       "metadata": {},
       "output_type": "display_data",
       "text": [
        "<IPython.core.display.HTML at 0x120ef3750>"
       ]
      }
     ],
     "prompt_number": 128
    },
    {
     "cell_type": "code",
     "collapsed": false,
     "input": [
      "i = 7\n",
      "sn = style_cols[i]\n",
      "display( HTML( '''<h1>{}</h1>'''.format(sn) ) )\n",
      "display( display_ranked_images( sn ) )"
     ],
     "language": "python",
     "metadata": {},
     "outputs": [
      {
       "html": [
        "<h1>style_Horror</h1>"
       ],
       "metadata": {},
       "output_type": "display_data",
       "text": [
        "<IPython.core.display.HTML at 0x116938950>"
       ]
      },
      {
       "html": [
        "\n",
        "<table>\n",
        "<tr>\n",
        "<td width=\"50px\">0 true</td>\n",
        "<td><img src=\"http://farm6.staticflickr.com/5490/10029322395_cfb927ca12.jpg\"></td>\n",
        "<td><img src=\"http://farm8.staticflickr.com/7357/10074670244_d53f348294.jpg\"></td>\n",
        "<td><img src=\"http://farm4.staticflickr.com/3679/10076558974_ec21e7d7e8.jpg\"></td>\n",
        "<td><img src=\"http://farm4.staticflickr.com/3828/10082489913_c0b85ef75a.jpg\"></td>\n",
        "</tr>\n",
        "</table>\n",
        "<table>\n",
        "<tr>\n",
        "<td width=\"50px\">1 true</td>\n",
        "<td><img src=\"http://farm8.staticflickr.com/7420/10033500453_7ac104beb4.jpg\"></td>\n",
        "<td><img src=\"http://farm3.staticflickr.com/2806/10223857743_271d58b04c.jpg\"></td>\n",
        "<td><img src=\"http://farm4.staticflickr.com/3780/10340184953_5f4b72a188.jpg\"></td>\n",
        "<td><img src=\"http://farm8.staticflickr.com/7307/10624165485_a4363eb7a6.jpg\"></td>\n",
        "</tr>\n",
        "</table>\n",
        "<table>\n",
        "<tr>\n",
        "<td width=\"50px\">2 true</td>\n",
        "<td><img src=\"http://farm4.staticflickr.com/3676/10319071894_780b619f0d.jpg\"></td>\n",
        "<td><img src=\"http://farm4.staticflickr.com/3704/10425581056_0af27e6d6b.jpg\"></td>\n",
        "<td><img src=\"http://farm8.staticflickr.com/7302/10474807143_9d5a4dc4f7.jpg\"></td>\n",
        "<td><img src=\"http://farm4.staticflickr.com/3804/10970118725_756c68e726.jpg\"></td>\n",
        "</tr>\n",
        "</table>\n",
        "<table>\n",
        "<tr>\n",
        "<td width=\"50px\">3 true</td>\n",
        "<td><img src=\"http://farm4.staticflickr.com/3694/10112814766_ac4c4ca33b.jpg\"></td>\n",
        "<td><img src=\"http://farm8.staticflickr.com/7414/10123189956_87fc515e08.jpg\"></td>\n",
        "<td><img src=\"http://farm6.staticflickr.com/5336/10219780294_7f1f4e38d7.jpg\"></td>\n",
        "<td><img src=\"http://farm4.staticflickr.com/3703/10388503093_ac1de84a3d.jpg\"></td>\n",
        "</tr>\n",
        "</table>"
       ],
       "metadata": {},
       "output_type": "display_data",
       "text": [
        "<IPython.core.display.HTML at 0x11c8b4150>"
       ]
      }
     ],
     "prompt_number": 129
    },
    {
     "cell_type": "code",
     "collapsed": false,
     "input": [
      "i = 8\n",
      "sn = style_cols[i]\n",
      "display( HTML( '''<h1>{}</h1>'''.format(sn) ) )\n",
      "display( display_ranked_images( sn ) )"
     ],
     "language": "python",
     "metadata": {},
     "outputs": [
      {
       "html": [
        "<h1>style_Long_Exposure</h1>"
       ],
       "metadata": {},
       "output_type": "display_data",
       "text": [
        "<IPython.core.display.HTML at 0x116938bd0>"
       ]
      },
      {
       "html": [
        "\n",
        "<table>\n",
        "<tr>\n",
        "<td width=\"50px\">0 true</td>\n",
        "<td><img src=\"http://farm8.staticflickr.com/7400/10005136676_7b08bd38a4.jpg\"></td>\n",
        "<td><img src=\"http://farm4.staticflickr.com/3711/10056793076_f75bce6b8b.jpg\"></td>\n",
        "<td><img src=\"http://farm6.staticflickr.com/5327/10084801485_d8c55301a1.jpg\"></td>\n",
        "<td><img src=\"http://farm6.staticflickr.com/5454/10089585575_6613bc828d.jpg\"></td>\n",
        "</tr>\n",
        "</table>\n",
        "<table>\n",
        "<tr>\n",
        "<td width=\"50px\">1 true</td>\n",
        "<td><img src=\"http://farm8.staticflickr.com/7346/10077053056_ab5b7dbac3.jpg\"></td>\n",
        "<td><img src=\"http://farm4.staticflickr.com/3755/10256304296_02326822c6.jpg\"></td>\n",
        "<td><img src=\"http://farm6.staticflickr.com/5488/10362601625_79d332b1f0.jpg\"></td>\n",
        "<td><img src=\"http://farm4.staticflickr.com/3828/10653600915_6b118a2b75.jpg\"></td>\n",
        "</tr>\n",
        "</table>\n",
        "<table>\n",
        "<tr>\n",
        "<td width=\"50px\">2 true</td>\n",
        "<td><img src=\"http://farm6.staticflickr.com/5484/10579878365_0c0e7097fd.jpg\"></td>\n",
        "<td><img src=\"http://farm8.staticflickr.com/7457/10838534953_165507ff91.jpg\"></td>\n",
        "<td><img src=\"http://farm6.staticflickr.com/5489/11090138035_bde9ebd752.jpg\"></td>\n",
        "<td><img src=\"http://farm8.staticflickr.com/7416/11656744275_a1da4ac4d1.jpg\"></td>\n",
        "</tr>\n",
        "</table>\n",
        "<table>\n",
        "<tr>\n",
        "<td width=\"50px\">3 true</td>\n",
        "<td><img src=\"http://farm3.staticflickr.com/2869/10764389015_bcb835ed5a.jpg\"></td>\n",
        "<td><img src=\"http://farm6.staticflickr.com/5513/11111640244_16b1d051eb.jpg\"></td>\n",
        "<td><img src=\"http://farm8.staticflickr.com/7407/12150476915_61ce9dd813.jpg\"></td>\n",
        "<td><img src=\"http://farm8.staticflickr.com/7331/12322108534_6e7f6d34c3.jpg\"></td>\n",
        "</tr>\n",
        "</table>"
       ],
       "metadata": {},
       "output_type": "display_data",
       "text": [
        "<IPython.core.display.HTML at 0x131ba9f10>"
       ]
      }
     ],
     "prompt_number": 130
    },
    {
     "cell_type": "code",
     "collapsed": false,
     "input": [
      "i = 9\n",
      "sn = style_cols[i]\n",
      "display( HTML( '''<h1>{}</h1>'''.format(sn) ) )\n",
      "display( display_ranked_images( sn ) )"
     ],
     "language": "python",
     "metadata": {},
     "outputs": [
      {
       "html": [
        "<h1>style_Macro</h1>"
       ],
       "metadata": {},
       "output_type": "display_data",
       "text": [
        "<IPython.core.display.HTML at 0x116938f90>"
       ]
      },
      {
       "html": [
        "\n",
        "<table>\n",
        "<tr>\n",
        "<td width=\"50px\">0 true</td>\n",
        "<td><img src=\"http://farm8.staticflickr.com/7400/10005136676_7b08bd38a4.jpg\"></td>\n",
        "<td><img src=\"http://farm8.staticflickr.com/7422/10019337243_48b88e1aa0.jpg\"></td>\n",
        "<td><img src=\"http://farm8.staticflickr.com/7456/10021049915_37ae95e460.jpg\"></td>\n",
        "<td><img src=\"http://farm3.staticflickr.com/2882/10102267916_18a9dbe54a.jpg\"></td>\n",
        "</tr>\n",
        "</table>\n",
        "<table>\n",
        "<tr>\n",
        "<td width=\"50px\">1 true</td>\n",
        "<td><img src=\"http://farm4.staticflickr.com/3834/10041013705_e9e4c25f6c.jpg\"></td>\n",
        "<td><img src=\"http://farm8.staticflickr.com/7415/10165079654_6555315aa3.jpg\"></td>\n",
        "<td><img src=\"http://farm6.staticflickr.com/5546/10613290465_02f7169430.jpg\"></td>\n",
        "<td><img src=\"http://farm4.staticflickr.com/3789/10641903944_ee76095b00.jpg\"></td>\n",
        "</tr>\n",
        "</table>\n",
        "<table>\n",
        "<tr>\n",
        "<td width=\"50px\">2 true</td>\n",
        "<td><img src=\"http://farm3.staticflickr.com/2816/10086032684_ae5bd8685e.jpg\"></td>\n",
        "<td><img src=\"http://farm4.staticflickr.com/3764/11360176505_e7a41a690f.jpg\"></td>\n",
        "<td><img src=\"http://farm6.staticflickr.com/5492/11687052485_9c89a0dc09.jpg\"></td>\n",
        "<td><img src=\"http://farm4.staticflickr.com/3834/11812792954_e0aae95378.jpg\"></td>\n",
        "</tr>\n",
        "</table>\n",
        "<table>\n",
        "<tr>\n",
        "<td width=\"50px\">3 true</td>\n",
        "<td><img src=\"http://farm8.staticflickr.com/7402/10182239385_d3ec5d3ffc.jpg\"></td>\n",
        "<td><img src=\"http://farm4.staticflickr.com/3774/10291545395_dd8501c2c4.jpg\"></td>\n",
        "<td><img src=\"http://farm3.staticflickr.com/2827/10435406113_1d57bb9abd.jpg\"></td>\n",
        "<td><img src=\"http://farm6.staticflickr.com/5488/10618809686_8741c9516a.jpg\"></td>\n",
        "</tr>\n",
        "</table>"
       ],
       "metadata": {},
       "output_type": "display_data",
       "text": [
        "<IPython.core.display.HTML at 0x120ef5510>"
       ]
      }
     ],
     "prompt_number": 131
    },
    {
     "cell_type": "code",
     "collapsed": false,
     "input": [
      "i = 10\n",
      "sn = style_cols[i]\n",
      "display( HTML( '''<h1>{}</h1>'''.format(sn) ) )\n",
      "display( display_ranked_images( sn ) )"
     ],
     "language": "python",
     "metadata": {},
     "outputs": [
      {
       "html": [
        "<h1>style_Melancholy</h1>"
       ],
       "metadata": {},
       "output_type": "display_data",
       "text": [
        "<IPython.core.display.HTML at 0x116938f90>"
       ]
      },
      {
       "html": [
        "\n",
        "<table>\n",
        "<tr>\n",
        "<td width=\"50px\">0 true</td>\n",
        "<td><img src=\"http://farm4.staticflickr.com/3665/10035977325_9fd63021a8.jpg\"></td>\n",
        "<td><img src=\"http://farm6.staticflickr.com/5493/10050592655_5d417dc0d7.jpg\"></td>\n",
        "<td><img src=\"http://farm8.staticflickr.com/7388/10060413064_13171775ac.jpg\"></td>\n",
        "<td><img src=\"http://farm4.staticflickr.com/3824/10072846474_de0aca2ab7.jpg\"></td>\n",
        "</tr>\n",
        "</table>\n",
        "<table>\n",
        "<tr>\n",
        "<td width=\"50px\">1 true</td>\n",
        "<td><img src=\"http://farm6.staticflickr.com/5500/10055424805_3f73f8845b.jpg\"></td>\n",
        "<td><img src=\"http://farm8.staticflickr.com/7294/10117664354_d152a5fe37.jpg\"></td>\n",
        "<td><img src=\"http://farm8.staticflickr.com/7362/10144287923_28d8a694e9.jpg\"></td>\n",
        "<td><img src=\"http://farm4.staticflickr.com/3801/10294427746_80d4de6586.jpg\"></td>\n",
        "</tr>\n",
        "</table>\n",
        "<table>\n",
        "<tr>\n",
        "<td width=\"50px\">2 true</td>\n",
        "<td><img src=\"http://farm4.staticflickr.com/3806/10238976616_7410e28e5f.jpg\"></td>\n",
        "<td><img src=\"http://farm8.staticflickr.com/7350/10789447205_e3edc33791.jpg\"></td>\n",
        "<td><img src=\"http://farm4.staticflickr.com/3708/11010029083_f416425ec8.jpg\"></td>\n",
        "<td><img src=\"http://farm2.staticflickr.com/1037/1109646053_60c16076a4.jpg\"></td>\n",
        "</tr>\n",
        "</table>\n",
        "<table>\n",
        "<tr>\n",
        "<td width=\"50px\">3 true</td>\n",
        "<td><img src=\"http://farm4.staticflickr.com/3720/10056002606_85be69ebb3.jpg\"></td>\n",
        "<td><img src=\"http://farm3.staticflickr.com/2848/10233596924_ae3119010a.jpg\"></td>\n",
        "<td><img src=\"http://farm6.staticflickr.com/5495/10500511624_03fba3fbd8.jpg\"></td>\n",
        "<td><img src=\"http://farm6.staticflickr.com/5515/11055215525_ec93d70737.jpg\"></td>\n",
        "</tr>\n",
        "</table>"
       ],
       "metadata": {},
       "output_type": "display_data",
       "text": [
        "<IPython.core.display.HTML at 0x120ef3d90>"
       ]
      }
     ],
     "prompt_number": 132
    },
    {
     "cell_type": "code",
     "collapsed": false,
     "input": [
      "i = 11\n",
      "sn = style_cols[i]\n",
      "display( HTML( '''<h1>{}</h1>'''.format(sn) ) )\n",
      "display( display_ranked_images( sn ) )"
     ],
     "language": "python",
     "metadata": {},
     "outputs": [
      {
       "html": [
        "<h1>style_Minimal</h1>"
       ],
       "metadata": {},
       "output_type": "display_data",
       "text": [
        "<IPython.core.display.HTML at 0x116938990>"
       ]
      },
      {
       "html": [
        "\n",
        "<table>\n",
        "<tr>\n",
        "<td width=\"50px\">0 true</td>\n",
        "<td><img src=\"http://farm3.staticflickr.com/2835/10040629443_ee0b06027c.jpg\"></td>\n",
        "<td><img src=\"http://farm6.staticflickr.com/5454/10089585575_6613bc828d.jpg\"></td>\n",
        "<td><img src=\"http://farm4.staticflickr.com/3681/10223528784_1995e6069b.jpg\"></td>\n",
        "<td><img src=\"http://farm4.staticflickr.com/3815/10228702074_a7940d50b7.jpg\"></td>\n",
        "</tr>\n",
        "</table>\n",
        "<table>\n",
        "<tr>\n",
        "<td width=\"50px\">1 true</td>\n",
        "<td><img src=\"http://farm8.staticflickr.com/7385/10099478666_b2ccd0f274.jpg\"></td>\n",
        "<td><img src=\"http://farm4.staticflickr.com/3815/10137394683_966646d690.jpg\"></td>\n",
        "<td><img src=\"http://farm6.staticflickr.com/5496/10226503083_16bdfd1854.jpg\"></td>\n",
        "<td><img src=\"http://farm8.staticflickr.com/7352/10313533536_b2d23f865b.jpg\"></td>\n",
        "</tr>\n",
        "</table>\n",
        "<table>\n",
        "<tr>\n",
        "<td width=\"50px\">2 true</td>\n",
        "<td><img src=\"http://farm3.staticflickr.com/2852/10043322025_89e9948c17.jpg\"></td>\n",
        "<td><img src=\"http://farm6.staticflickr.com/5521/10185871073_64e7e917d0.jpg\"></td>\n",
        "<td><img src=\"http://farm4.staticflickr.com/3806/10238976616_7410e28e5f.jpg\"></td>\n",
        "<td><img src=\"http://farm3.staticflickr.com/2825/10261317164_3743d67925.jpg\"></td>\n",
        "</tr>\n",
        "</table>\n",
        "<table>\n",
        "<tr>\n",
        "<td width=\"50px\">3 true</td>\n",
        "<td><img src=\"http://farm8.staticflickr.com/7353/10033305173_6ee5fab67e.jpg\"></td>\n",
        "<td><img src=\"http://farm4.staticflickr.com/3754/10261559613_a6fd8e44b7.jpg\"></td>\n",
        "<td><img src=\"http://farm8.staticflickr.com/7300/10331160635_72cbddeeee.jpg\"></td>\n",
        "<td><img src=\"http://farm8.staticflickr.com/7348/10388741895_4a7063e231.jpg\"></td>\n",
        "</tr>\n",
        "</table>"
       ],
       "metadata": {},
       "output_type": "display_data",
       "text": [
        "<IPython.core.display.HTML at 0x10d84f910>"
       ]
      }
     ],
     "prompt_number": 133
    },
    {
     "cell_type": "code",
     "collapsed": false,
     "input": [
      "i = 12\n",
      "sn = style_cols[i]\n",
      "display( HTML( '''<h1>{}</h1>'''.format(sn) ) )\n",
      "display( display_ranked_images( sn ) )"
     ],
     "language": "python",
     "metadata": {},
     "outputs": [
      {
       "html": [
        "<h1>style_Noir</h1>"
       ],
       "metadata": {},
       "output_type": "display_data",
       "text": [
        "<IPython.core.display.HTML at 0x116938f90>"
       ]
      },
      {
       "html": [
        "\n",
        "<table>\n",
        "<tr>\n",
        "<td width=\"50px\">0 true</td>\n",
        "<td><img src=\"http://farm4.staticflickr.com/3813/10026738744_7b75083b3c.jpg\"></td>\n",
        "<td><img src=\"http://farm4.staticflickr.com/3730/10028450536_3ff1847164.jpg\"></td>\n",
        "<td><img src=\"http://farm3.staticflickr.com/2852/10043322025_89e9948c17.jpg\"></td>\n",
        "<td><img src=\"http://farm6.staticflickr.com/5479/10074119863_bdf10d74c1.jpg\"></td>\n",
        "</tr>\n",
        "</table>\n",
        "<table>\n",
        "<tr>\n",
        "<td width=\"50px\">1 true</td>\n",
        "<td><img src=\"http://farm6.staticflickr.com/5443/10118370415_aca87de602.jpg\"></td>\n",
        "<td><img src=\"http://farm4.staticflickr.com/3704/10425581056_0af27e6d6b.jpg\"></td>\n",
        "<td><img src=\"http://farm2.staticflickr.com/1220/1043849797_7dc968f724.jpg\"></td>\n",
        "<td><img src=\"http://farm4.staticflickr.com/3693/10511275315_4e22933bf2.jpg\"></td>\n",
        "</tr>\n",
        "</table>\n",
        "<table>\n",
        "<tr>\n",
        "<td width=\"50px\">2 true</td>\n",
        "<td><img src=\"http://farm8.staticflickr.com/7349/10343928066_8a0cd81e46.jpg\"></td>\n",
        "<td><img src=\"http://farm6.staticflickr.com/5549/10541728396_d21a682b8e.jpg\"></td>\n",
        "<td><img src=\"http://farm2.staticflickr.com/1377/1057568430_79ec1dff67.jpg\"></td>\n",
        "<td><img src=\"http://farm2.staticflickr.com/1053/1062623444_89e16862f0.jpg\"></td>\n",
        "</tr>\n",
        "</table>\n",
        "<table>\n",
        "<tr>\n",
        "<td width=\"50px\">3 true</td>\n",
        "<td><img src=\"http://farm3.staticflickr.com/2827/10115889755_f9ea9f2a24.jpg\"></td>\n",
        "<td><img src=\"http://farm2.staticflickr.com/1325/1035405151_5e529440ab.jpg\"></td>\n",
        "<td><img src=\"http://farm2.staticflickr.com/1214/1048828405_5682be87df.jpg\"></td>\n",
        "<td><img src=\"http://farm4.staticflickr.com/3748/10490868586_87110ea7e8.jpg\"></td>\n",
        "</tr>\n",
        "</table>"
       ],
       "metadata": {},
       "output_type": "display_data",
       "text": [
        "<IPython.core.display.HTML at 0x120ef2510>"
       ]
      }
     ],
     "prompt_number": 134
    },
    {
     "cell_type": "code",
     "collapsed": false,
     "input": [
      "i = 13\n",
      "sn = style_cols[i]\n",
      "display( HTML( '''<h1>{}</h1>'''.format(sn) ) )\n",
      "display( display_ranked_images( sn ) )"
     ],
     "language": "python",
     "metadata": {},
     "outputs": [
      {
       "html": [
        "<h1>style_Pastel</h1>"
       ],
       "metadata": {},
       "output_type": "display_data",
       "text": [
        "<IPython.core.display.HTML at 0x116938950>"
       ]
      },
      {
       "html": [
        "\n",
        "<table>\n",
        "<tr>\n",
        "<td width=\"50px\">0 true</td>\n",
        "<td><img src=\"http://farm6.staticflickr.com/5495/10008818046_7eb2101e77.jpg\"></td>\n",
        "<td><img src=\"http://farm4.staticflickr.com/3752/10021507425_4e1912f587.jpg\"></td>\n",
        "<td><img src=\"http://farm3.staticflickr.com/2848/10026342663_cbf18caa8d.jpg\"></td>\n",
        "<td><img src=\"http://farm4.staticflickr.com/3777/10034330946_7e08328c0b.jpg\"></td>\n",
        "</tr>\n",
        "</table>\n",
        "<table>\n",
        "<tr>\n",
        "<td width=\"50px\">1 true</td>\n",
        "<td><img src=\"http://farm6.staticflickr.com/5488/10035946813_1217e573b9.jpg\"></td>\n",
        "<td><img src=\"http://farm6.staticflickr.com/5533/10313271063_c3eae0f1db.jpg\"></td>\n",
        "<td><img src=\"http://farm4.staticflickr.com/3692/10576426604_75792a62a2.jpg\"></td>\n",
        "<td><img src=\"http://farm6.staticflickr.com/5476/10621925933_5041910925.jpg\"></td>\n",
        "</tr>\n",
        "</table>\n",
        "<table>\n",
        "<tr>\n",
        "<td width=\"50px\">2 true</td>\n",
        "<td><img src=\"http://farm8.staticflickr.com/7429/10116691656_0023447f24.jpg\"></td>\n",
        "<td><img src=\"http://farm4.staticflickr.com/3771/10352487856_ab6737002e.jpg\"></td>\n",
        "<td><img src=\"http://farm4.staticflickr.com/3729/10783748765_10f954e850.jpg\"></td>\n",
        "<td><img src=\"http://farm3.staticflickr.com/2871/10932094166_9e4689866a.jpg\"></td>\n",
        "</tr>\n",
        "</table>\n",
        "<table>\n",
        "<tr>\n",
        "<td width=\"50px\">3 true</td>\n",
        "<td><img src=\"http://farm6.staticflickr.com/5475/10383647943_96be1f6110.jpg\"></td>\n",
        "<td><img src=\"http://farm6.staticflickr.com/5539/10494092756_ecf7bbf312.jpg\"></td>\n",
        "<td><img src=\"http://farm4.staticflickr.com/3734/10532727344_b8d5db6e08.jpg\"></td>\n",
        "<td><img src=\"http://farm6.staticflickr.com/5540/11035488195_522dec0797.jpg\"></td>\n",
        "</tr>\n",
        "</table>"
       ],
       "metadata": {},
       "output_type": "display_data",
       "text": [
        "<IPython.core.display.HTML at 0x12877d2d0>"
       ]
      }
     ],
     "prompt_number": 135
    },
    {
     "cell_type": "code",
     "collapsed": false,
     "input": [
      "i = 14\n",
      "sn = style_cols[i]\n",
      "display( HTML( '''<h1>{}</h1>'''.format(sn) ) )\n",
      "display( display_ranked_images( sn ) )"
     ],
     "language": "python",
     "metadata": {},
     "outputs": [
      {
       "html": [
        "<h1>style_Romantic</h1>"
       ],
       "metadata": {},
       "output_type": "display_data",
       "text": [
        "<IPython.core.display.HTML at 0x116938d10>"
       ]
      },
      {
       "html": [
        "\n",
        "<table>\n",
        "<tr>\n",
        "<td width=\"50px\">0 true</td>\n",
        "<td><img src=\"http://farm6.staticflickr.com/5495/10008818046_7eb2101e77.jpg\"></td>\n",
        "<td><img src=\"http://farm6.staticflickr.com/5497/10010846816_63ebff6330.jpg\"></td>\n",
        "<td><img src=\"http://farm4.staticflickr.com/3805/10020771376_de6b4edf55.jpg\"></td>\n",
        "<td><img src=\"http://farm4.staticflickr.com/3821/10023589485_9017b93d9f.jpg\"></td>\n",
        "</tr>\n",
        "</table>\n",
        "<table>\n",
        "<tr>\n",
        "<td width=\"50px\">1 true</td>\n",
        "<td><img src=\"http://farm8.staticflickr.com/7358/10025058156_e7cf65f3d5.jpg\"></td>\n",
        "<td><img src=\"http://farm3.staticflickr.com/2838/10039620644_34dc22778e.jpg\"></td>\n",
        "<td><img src=\"http://farm6.staticflickr.com/5477/10155771526_bd34ae54b3.jpg\"></td>\n",
        "<td><img src=\"http://farm6.staticflickr.com/5511/10251239796_d361063ef8.jpg\"></td>\n",
        "</tr>\n",
        "</table>\n",
        "<table>\n",
        "<tr>\n",
        "<td width=\"50px\">2 true</td>\n",
        "<td><img src=\"http://farm3.staticflickr.com/2852/10043322025_89e9948c17.jpg\"></td>\n",
        "<td><img src=\"http://farm3.staticflickr.com/2837/10083205423_e90574965f.jpg\"></td>\n",
        "<td><img src=\"http://farm8.staticflickr.com/7382/10281516335_38a573b6a8.jpg\"></td>\n",
        "<td><img src=\"http://farm8.staticflickr.com/7401/10788991713_055b0f58b8.jpg\"></td>\n",
        "</tr>\n",
        "</table>\n",
        "<table>\n",
        "<tr>\n",
        "<td width=\"50px\">3 true</td>\n",
        "<td><img src=\"http://farm8.staticflickr.com/7404/10535011675_8062c36c65.jpg\"></td>\n",
        "<td><img src=\"http://farm6.staticflickr.com/5543/10740768084_58da0d6baf.jpg\"></td>\n",
        "<td><img src=\"http://farm4.staticflickr.com/3677/11091890435_d2f4a497ef.jpg\"></td>\n",
        "<td><img src=\"http://farm6.staticflickr.com/5510/11203640396_1a74515099.jpg\"></td>\n",
        "</tr>\n",
        "</table>"
       ],
       "metadata": {},
       "output_type": "display_data",
       "text": [
        "<IPython.core.display.HTML at 0x11c8b4150>"
       ]
      }
     ],
     "prompt_number": 136
    },
    {
     "cell_type": "code",
     "collapsed": false,
     "input": [
      "i = 15\n",
      "sn = style_cols[i]\n",
      "display( HTML( '''<h1>{}</h1>'''.format(sn) ) )\n",
      "display( display_ranked_images( sn ) )"
     ],
     "language": "python",
     "metadata": {},
     "outputs": [
      {
       "html": [
        "<h1>style_Serene</h1>"
       ],
       "metadata": {},
       "output_type": "display_data",
       "text": [
        "<IPython.core.display.HTML at 0x116938f90>"
       ]
      },
      {
       "html": [
        "\n",
        "<table>\n",
        "<tr>\n",
        "<td width=\"50px\">0 true</td>\n",
        "<td><img src=\"http://farm4.staticflickr.com/3809/10040500536_18c0d9a088.jpg\"></td>\n",
        "<td><img src=\"http://farm3.staticflickr.com/2863/10101815525_049d034a6d.jpg\"></td>\n",
        "<td><img src=\"http://farm6.staticflickr.com/5486/10121786636_c512d3870a.jpg\"></td>\n",
        "<td><img src=\"http://farm4.staticflickr.com/3742/10185273075_e6c348661c.jpg\"></td>\n",
        "</tr>\n",
        "</table>\n",
        "<table>\n",
        "<tr>\n",
        "<td width=\"50px\">1 true</td>\n",
        "<td><img src=\"http://farm6.staticflickr.com/5463/10027787516_2a30f3a947.jpg\"></td>\n",
        "<td><img src=\"http://farm4.staticflickr.com/3743/10135081106_af95cdb5b6.jpg\"></td>\n",
        "<td><img src=\"http://farm6.staticflickr.com/5508/10400620773_020097f7e5.jpg\"></td>\n",
        "<td><img src=\"http://farm6.staticflickr.com/5529/10475974986_cf9fe142ff.jpg\"></td>\n",
        "</tr>\n",
        "</table>\n",
        "<table>\n",
        "<tr>\n",
        "<td width=\"50px\">2 true</td>\n",
        "<td><img src=\"http://farm3.staticflickr.com/2849/10120740486_0de5c90716.jpg\"></td>\n",
        "<td><img src=\"http://farm8.staticflickr.com/7310/10146311604_dc605d0af8.jpg\"></td>\n",
        "<td><img src=\"http://farm9.staticflickr.com/8419/10258247844_bf8119f743.jpg\"></td>\n",
        "<td><img src=\"http://farm3.staticflickr.com/2858/10353490423_a25cbd9d4e.jpg\"></td>\n",
        "</tr>\n",
        "</table>\n",
        "<table>\n",
        "<tr>\n",
        "<td width=\"50px\">3 true</td>\n",
        "<td><img src=\"http://farm4.staticflickr.com/3830/10022686294_33b4ccd069.jpg\"></td>\n",
        "<td><img src=\"http://farm4.staticflickr.com/3821/10023589485_9017b93d9f.jpg\"></td>\n",
        "<td><img src=\"http://farm4.staticflickr.com/3665/10035977325_9fd63021a8.jpg\"></td>\n",
        "<td><img src=\"http://farm8.staticflickr.com/7346/10120513985_f7d55350f8.jpg\"></td>\n",
        "</tr>\n",
        "</table>"
       ],
       "metadata": {},
       "output_type": "display_data",
       "text": [
        "<IPython.core.display.HTML at 0x10d345fd0>"
       ]
      }
     ],
     "prompt_number": 137
    },
    {
     "cell_type": "code",
     "collapsed": false,
     "input": [
      "i = 16\n",
      "sn = style_cols[i]\n",
      "display( HTML( '''<h1>{}</h1>'''.format(sn) ) )\n",
      "display( display_ranked_images( sn ) )"
     ],
     "language": "python",
     "metadata": {},
     "outputs": [
      {
       "html": [
        "<h1>style_Sunny</h1>"
       ],
       "metadata": {},
       "output_type": "display_data",
       "text": [
        "<IPython.core.display.HTML at 0x116938990>"
       ]
      },
      {
       "html": [
        "\n",
        "<table>\n",
        "<tr>\n",
        "<td width=\"50px\">0 true</td>\n",
        "<td><img src=\"http://farm4.staticflickr.com/3777/10034330946_7e08328c0b.jpg\"></td>\n",
        "<td><img src=\"http://farm6.staticflickr.com/5463/10041948996_0482d6be6b.jpg\"></td>\n",
        "<td><img src=\"http://farm4.staticflickr.com/3824/10072846474_de0aca2ab7.jpg\"></td>\n",
        "<td><img src=\"http://farm6.staticflickr.com/5508/10298504354_74558cc00d.jpg\"></td>\n",
        "</tr>\n",
        "</table>\n",
        "<table>\n",
        "<tr>\n",
        "<td width=\"50px\">1 true</td>\n",
        "<td><img src=\"http://farm8.staticflickr.com/7333/10001822913_45cf02673c.jpg\"></td>\n",
        "<td><img src=\"http://farm6.staticflickr.com/5345/10020718036_ae4d1db431.jpg\"></td>\n",
        "<td><img src=\"http://farm4.staticflickr.com/3739/10185711185_9b9081aa1e.jpg\"></td>\n",
        "<td><img src=\"http://farm8.staticflickr.com/7451/10312111016_1c5d7b17ac.jpg\"></td>\n",
        "</tr>\n",
        "</table>\n",
        "<table>\n",
        "<tr>\n",
        "<td width=\"50px\">2 true</td>\n",
        "<td><img src=\"http://farm8.staticflickr.com/7300/10388139733_1456544b87.jpg\"></td>\n",
        "<td><img src=\"http://farm6.staticflickr.com/5511/10518060376_32148f8ca8.jpg\"></td>\n",
        "<td><img src=\"http://farm6.staticflickr.com/5474/10552400145_6036399a8d.jpg\"></td>\n",
        "<td><img src=\"http://farm8.staticflickr.com/7393/10757217264_8e3a75256c.jpg\"></td>\n",
        "</tr>\n",
        "</table>\n",
        "<table>\n",
        "<tr>\n",
        "<td width=\"50px\">3 true</td>\n",
        "<td><img src=\"http://farm4.staticflickr.com/3757/10334457595_83956030f3.jpg\"></td>\n",
        "<td><img src=\"http://farm8.staticflickr.com/7376/10539968864_b0504e582d.jpg\"></td>\n",
        "<td><img src=\"http://farm8.staticflickr.com/7295/10642992766_f734226014.jpg\"></td>\n",
        "<td><img src=\"http://farm4.staticflickr.com/3691/10713197744_a3d5a4d6d7.jpg\"></td>\n",
        "</tr>\n",
        "</table>"
       ],
       "metadata": {},
       "output_type": "display_data",
       "text": [
        "<IPython.core.display.HTML at 0x116938750>"
       ]
      }
     ],
     "prompt_number": 138
    },
    {
     "cell_type": "code",
     "collapsed": false,
     "input": [
      "i = 17\n",
      "sn = style_cols[i]\n",
      "display( HTML( '''<h1>{}</h1>'''.format(sn) ) )\n",
      "display( display_ranked_images( sn ) )"
     ],
     "language": "python",
     "metadata": {},
     "outputs": [
      {
       "html": [
        "<h1>style_Vintage</h1>"
       ],
       "metadata": {},
       "output_type": "display_data",
       "text": [
        "<IPython.core.display.HTML at 0x1169389d0>"
       ]
      },
      {
       "html": [
        "\n",
        "<table>\n",
        "<tr>\n",
        "<td width=\"50px\">0 true</td>\n",
        "<td><img src=\"http://farm4.staticflickr.com/3821/10023589485_9017b93d9f.jpg\"></td>\n",
        "<td><img src=\"http://farm6.staticflickr.com/5456/10061889464_9c636018cf.jpg\"></td>\n",
        "<td><img src=\"http://farm6.staticflickr.com/5529/10076488545_d65f85b334.jpg\"></td>\n",
        "<td><img src=\"http://farm6.staticflickr.com/5525/10083701186_629dd7d7fb.jpg\"></td>\n",
        "</tr>\n",
        "</table>\n",
        "<table>\n",
        "<tr>\n",
        "<td width=\"50px\">1 true</td>\n",
        "<td><img src=\"http://farm4.staticflickr.com/3800/10300247874_cf9160c6e3.jpg\"></td>\n",
        "<td><img src=\"http://farm8.staticflickr.com/7349/10343928066_8a0cd81e46.jpg\"></td>\n",
        "<td><img src=\"http://farm8.staticflickr.com/7395/10388077846_b9ca736f70.jpg\"></td>\n",
        "<td><img src=\"http://farm6.staticflickr.com/5481/10429156425_121fdfcde8.jpg\"></td>\n",
        "</tr>\n",
        "</table>\n",
        "<table>\n",
        "<tr>\n",
        "<td width=\"50px\">2 true</td>\n",
        "<td><img src=\"http://farm8.staticflickr.com/7346/10257711953_05a2977ec9.jpg\"></td>\n",
        "<td><img src=\"http://farm3.staticflickr.com/2844/10422490634_d4099408c3.jpg\"></td>\n",
        "<td><img src=\"http://farm4.staticflickr.com/3781/10535597606_ceae128c92.jpg\"></td>\n",
        "<td><img src=\"http://farm4.staticflickr.com/3682/10823247323_1bd7a4db5a.jpg\"></td>\n",
        "</tr>\n",
        "</table>\n",
        "<table>\n",
        "<tr>\n",
        "<td width=\"50px\">3 true</td>\n",
        "<td><img src=\"http://farm4.staticflickr.com/3831/10842194024_90052498b4.jpg\"></td>\n",
        "<td><img src=\"http://farm8.staticflickr.com/7314/11291289863_1c550cb88d.jpg\"></td>\n",
        "<td><img src=\"http://farm6.staticflickr.com/5499/11362154844_c4c5edfcc3.jpg\"></td>\n",
        "<td><img src=\"http://farm4.staticflickr.com/3716/11730240673_3d707a29b2.jpg\"></td>\n",
        "</tr>\n",
        "</table>"
       ],
       "metadata": {},
       "output_type": "display_data",
       "text": [
        "<IPython.core.display.HTML at 0x12877d350>"
       ]
      }
     ],
     "prompt_number": 139
    },
    {
     "cell_type": "code",
     "collapsed": false,
     "input": [],
     "language": "python",
     "metadata": {},
     "outputs": []
    }
   ],
   "metadata": {}
  }
 ]
}