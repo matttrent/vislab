{
 "metadata": {
  "name": ""
 },
 "nbformat": 3,
 "nbformat_minor": 0,
 "worksheets": [
  {
   "cells": [
    {
     "cell_type": "code",
     "collapsed": false,
     "input": [
      "%load_ext autoreload\n",
      "%autoreload 2\n",
      "from IPython.display import HTML\n",
      "import vislab.datasets\n",
      "import vislab._results\n",
      "import os"
     ],
     "language": "python",
     "metadata": {},
     "outputs": [
      {
       "output_type": "stream",
       "stream": "stdout",
       "text": [
        "The autoreload extension is already loaded. To reload it, use:\n",
        "  %reload_ext autoreload\n"
       ]
      }
     ],
     "prompt_number": 2
    },
    {
     "cell_type": "code",
     "collapsed": false,
     "input": [
      "def top_k_images(df, k=10):\n",
      "    return HTML(' '.join('<img src=\"{}\" width=\"210px\" />'.format(x) for x in df['image_url'].iloc[:k]))"
     ],
     "language": "python",
     "metadata": {},
     "outputs": [],
     "prompt_number": 3
    },
    {
     "cell_type": "markdown",
     "metadata": {},
     "source": [
      "## Flickr and PASCAL on Flickr"
     ]
    },
    {
     "cell_type": "code",
     "collapsed": false,
     "input": [
      "# Flickr predictions, ground truth, and split info is all here.\n",
      "\n",
      "results_df, preds_panel = aphrodite.results.load_pred_results(\n",
      "    'flickr_oct26', os.path.expanduser('~/work/aphrodite/data/results2'),\n",
      "    multiclass=False, force=False)\n",
      "\n",
      "mc_pred_df = preds_panel.minor_xs('fusion_flickr_oct26 None vw')"
     ],
     "language": "python",
     "metadata": {},
     "outputs": [
      {
       "output_type": "stream",
       "stream": "stdout",
       "text": [
        "Loaded from cache: 7 records\n"
       ]
      },
      {
       "html": [
        "<pre>\n",
        "&lt;class 'pandas.core.frame.DataFrame'&gt;\n",
        "Index: 50198 entries, f_1094854525 to f_99137295\n",
        "Data columns (total 37 columns):\n",
        "importance                          50198  non-null values\n",
        "label                               50198  non-null values\n",
        "pred_style_Bright,_Energetic        50198  non-null values\n",
        "pred_style_Depth_of_Field           50198  non-null values\n",
        "pred_style_Ethereal                 50198  non-null values\n",
        "pred_style_Geometric_Composition    50198  non-null values\n",
        "pred_style_HDR                      50198  non-null values\n",
        "pred_style_Hazy                     50198  non-null values\n",
        "pred_style_Horror                   50198  non-null values\n",
        "pred_style_Long_Exposure            50198  non-null values\n",
        "pred_style_Macro                    50198  non-null values\n",
        "pred_style_Melancholy               50198  non-null values\n",
        "pred_style_Minimal                  50198  non-null values\n",
        "pred_style_Noir                     50198  non-null values\n",
        "pred_style_Romantic                 50198  non-null values\n",
        "pred_style_Serene                   50198  non-null values\n",
        "pred_style_Soft,_Pastel             50198  non-null values\n",
        "pred_style_Sunny                    50198  non-null values\n",
        "pred_style_Vintage                  50198  non-null values\n",
        "split                               50198  non-null values\n",
        "style_Bright,_Energetic             50198  non-null values\n",
        "style_Depth_of_Field                50198  non-null values\n",
        "style_Ethereal                      50198  non-null values\n",
        "style_Geometric_Composition         50198  non-null values\n",
        "style_HDR                           50198  non-null values\n",
        "style_Hazy                          50198  non-null values\n",
        "style_Horror                        50198  non-null values\n",
        "style_Long_Exposure                 50198  non-null values\n",
        "style_Macro                         50198  non-null values\n",
        "style_Melancholy                    50198  non-null values\n",
        "style_Minimal                       50198  non-null values\n",
        "style_Noir                          50198  non-null values\n",
        "style_Romantic                      50198  non-null values\n",
        "style_Serene                        50198  non-null values\n",
        "style_Soft,_Pastel                  50198  non-null values\n",
        "style_Sunny                         50198  non-null values\n",
        "style_Vintage                       50198  non-null values\n",
        "dtypes: object(37)\n",
        "</pre>"
       ],
       "metadata": {},
       "output_type": "pyout",
       "prompt_number": 63,
       "text": [
        "<class 'pandas.core.frame.DataFrame'>\n",
        "Index: 50198 entries, f_1094854525 to f_99137295\n",
        "Data columns (total 37 columns):\n",
        "importance                          50198  non-null values\n",
        "label                               50198  non-null values\n",
        "pred_style_Bright,_Energetic        50198  non-null values\n",
        "pred_style_Depth_of_Field           50198  non-null values\n",
        "pred_style_Ethereal                 50198  non-null values\n",
        "pred_style_Geometric_Composition    50198  non-null values\n",
        "pred_style_HDR                      50198  non-null values\n",
        "pred_style_Hazy                     50198  non-null values\n",
        "pred_style_Horror                   50198  non-null values\n",
        "pred_style_Long_Exposure            50198  non-null values\n",
        "pred_style_Macro                    50198  non-null values\n",
        "pred_style_Melancholy               50198  non-null values\n",
        "pred_style_Minimal                  50198  non-null values\n",
        "pred_style_Noir                     50198  non-null values\n",
        "pred_style_Romantic                 50198  non-null values\n",
        "pred_style_Serene                   50198  non-null values\n",
        "pred_style_Soft,_Pastel             50198  non-null values\n",
        "pred_style_Sunny                    50198  non-null values\n",
        "pred_style_Vintage                  50198  non-null values\n",
        "split                               50198  non-null values\n",
        "style_Bright,_Energetic             50198  non-null values\n",
        "style_Depth_of_Field                50198  non-null values\n",
        "style_Ethereal                      50198  non-null values\n",
        "style_Geometric_Composition         50198  non-null values\n",
        "style_HDR                           50198  non-null values\n",
        "style_Hazy                          50198  non-null values\n",
        "style_Horror                        50198  non-null values\n",
        "style_Long_Exposure                 50198  non-null values\n",
        "style_Macro                         50198  non-null values\n",
        "style_Melancholy                    50198  non-null values\n",
        "style_Minimal                       50198  non-null values\n",
        "style_Noir                          50198  non-null values\n",
        "style_Romantic                      50198  non-null values\n",
        "style_Serene                        50198  non-null values\n",
        "style_Soft,_Pastel                  50198  non-null values\n",
        "style_Sunny                         50198  non-null values\n",
        "style_Vintage                       50198  non-null values\n",
        "dtypes: object(37)"
       ]
      }
     ],
     "prompt_number": 63
    },
    {
     "cell_type": "code",
     "collapsed": false,
     "input": [
      "# PASCAL predictions\n",
      "\n",
      "results_df, preds_panel = aphrodite.results.load_pred_results(\n",
      "    'pascal_on_flickr_oct29', os.path.expanduser('~/work/aphrodite/data/results2'),\n",
      "    multiclass=False, force=False)\n",
      "\n",
      "content_pred_df = preds_panel.minor_xs('decaf_fc6 False vw')\n",
      "content_pred_df.columns = [x.replace('clf flickr_', '') for x in content_pred_df.columns]\n",
      "content_pred_df = content_pred_df.astype(float)"
     ],
     "language": "python",
     "metadata": {},
     "outputs": [
      {
       "output_type": "stream",
       "stream": "stdout",
       "text": [
        "Loaded from cache: 10 records\n"
       ]
      }
     ],
     "prompt_number": 64
    },
    {
     "cell_type": "code",
     "collapsed": false,
     "input": [
      "mc_pred_df = mc_pred_df.join(content_pred_df)\n",
      "mc_pred_df['image_url'] = flickr_df['image_url']\n",
      "flickr_df = mc_pred_df"
     ],
     "language": "python",
     "metadata": {},
     "outputs": [],
     "prompt_number": 73
    },
    {
     "cell_type": "code",
     "collapsed": false,
     "input": [
      "# top cats\n",
      "top_k_images(flickr_df.sort('class_cat', ascending=False))"
     ],
     "language": "python",
     "metadata": {},
     "outputs": [
      {
       "html": [
        "<img src=\"http://farm8.staticflickr.com/7380/9353579809_a14633c9ab.jpg\" width=\"210px\" /> <img src=\"http://farm4.staticflickr.com/3719/9332010261_c2e684952b.jpg\" width=\"210px\" /> <img src=\"http://farm8.staticflickr.com/7395/9303670866_bb2276b325.jpg\" width=\"210px\" /> <img src=\"http://farm3.staticflickr.com/2880/9357549544_1c84c15e43.jpg\" width=\"210px\" /> <img src=\"http://farm8.staticflickr.com/7343/9589429346_56f201d92d.jpg\" width=\"210px\" /> <img src=\"http://farm8.staticflickr.com/7326/9460879740_e323a0ed66.jpg\" width=\"210px\" /> <img src=\"http://farm6.staticflickr.com/5460/9438610698_b617c4ce79.jpg\" width=\"210px\" /> <img src=\"http://farm4.staticflickr.com/3683/9332258408_0cd5879ed2.jpg\" width=\"210px\" /> <img src=\"http://farm8.staticflickr.com/7451/9587808711_00d06e6be1.jpg\" width=\"210px\" /> <img src=\"http://farm6.staticflickr.com/5329/9314780834_29c08c30c5.jpg\" width=\"210px\" />"
       ],
       "metadata": {},
       "output_type": "pyout",
       "prompt_number": 74,
       "text": [
        "<IPython.core.display.HTML at 0x11e9404d0>"
       ]
      }
     ],
     "prompt_number": 74
    },
    {
     "cell_type": "code",
     "collapsed": false,
     "input": [
      "# ground truth bright, sorted by cat\n",
      "top_k_images(flickr_df[flickr_df['style_Bright,_Energetic']].sort('class_cat', ascending=False))"
     ],
     "language": "python",
     "metadata": {},
     "outputs": [
      {
       "html": [
        "<img src=\"http://farm3.staticflickr.com/2875/9358127267_9f139b9055.jpg\" width=\"210px\" /> <img src=\"http://farm3.staticflickr.com/2867/9286212390_7d39dc9700.jpg\" width=\"210px\" /> <img src=\"http://farm6.staticflickr.com/5466/9378052521_08aab5a83f.jpg\" width=\"210px\" /> <img src=\"http://farm6.staticflickr.com/5474/9232321564_f60a8ff7e1.jpg\" width=\"210px\" /> <img src=\"http://farm3.staticflickr.com/2887/9546721577_f23f0c6f82.jpg\" width=\"210px\" /> <img src=\"http://farm8.staticflickr.com/7380/9199809935_8698e0f032.jpg\" width=\"210px\" /> <img src=\"http://farm4.staticflickr.com/3798/9264349647_0f6896f7f9.jpg\" width=\"210px\" /> <img src=\"http://farm3.staticflickr.com/2890/9445462993_1bdec28d56.jpg\" width=\"210px\" /> <img src=\"http://farm4.staticflickr.com/3718/9388363458_d8a3b852bb.jpg\" width=\"210px\" /> <img src=\"http://farm8.staticflickr.com/7321/9304283571_75b464a9f1.jpg\" width=\"210px\" />"
       ],
       "metadata": {},
       "output_type": "pyout",
       "prompt_number": 75,
       "text": [
        "<IPython.core.display.HTML at 0x119266850>"
       ]
      }
     ],
     "prompt_number": 75
    },
    {
     "cell_type": "code",
     "collapsed": false,
     "input": [
      "# cats sorted by bright\n",
      "top_k_images(flickr_df.sort('class_cat', ascending=False).iloc[:1000].sort('pred_style_Bright,_Energetic', ascending=False))"
     ],
     "language": "python",
     "metadata": {},
     "outputs": [
      {
       "html": [
        "<img src=\"http://farm4.staticflickr.com/3686/9328589073_a299a3512a.jpg\" width=\"210px\" /> <img src=\"http://farm4.staticflickr.com/3665/9389847688_c78d1660d3.jpg\" width=\"210px\" /> <img src=\"http://farm6.staticflickr.com/5465/9444224855_5b011cbde2.jpg\" width=\"210px\" /> <img src=\"http://farm8.staticflickr.com/7358/9484239739_a809813530.jpg\" width=\"210px\" /> <img src=\"http://farm8.staticflickr.com/7310/9593581861_5330e0fa64.jpg\" width=\"210px\" /> <img src=\"http://farm3.staticflickr.com/2880/9583189229_5d3bd31392.jpg\" width=\"210px\" /> <img src=\"http://farm3.staticflickr.com/2875/9298859152_9f34fea0b6.jpg\" width=\"210px\" /> <img src=\"http://farm6.staticflickr.com/5550/9585766016_498506e7ae.jpg\" width=\"210px\" /> <img src=\"http://farm3.staticflickr.com/2862/9527921517_5798bfe5b3.jpg\" width=\"210px\" /> <img src=\"http://farm4.staticflickr.com/3798/9254075827_0b65ae2012.jpg\" width=\"210px\" />"
       ],
       "metadata": {},
       "output_type": "pyout",
       "prompt_number": 86,
       "text": [
        "<IPython.core.display.HTML at 0x1225874d0>"
       ]
      }
     ],
     "prompt_number": 86
    },
    {
     "cell_type": "code",
     "collapsed": false,
     "input": [
      "top_k_images(flickr_df[flickr_df['style_HDR']].sort('class_cat', ascending=False))"
     ],
     "language": "python",
     "metadata": {},
     "outputs": [
      {
       "html": [
        "<img src=\"http://farm8.staticflickr.com/7402/9592491004_152d875d0c.jpg\" width=\"210px\" /> <img src=\"http://farm6.staticflickr.com/5533/9569968290_d899a1859d.jpg\" width=\"210px\" /> <img src=\"http://farm6.staticflickr.com/5505/9588390493_384d72d7d2.jpg\" width=\"210px\" /> <img src=\"http://farm8.staticflickr.com/7364/9468434478_3755bbbb04.jpg\" width=\"210px\" /> <img src=\"http://farm6.staticflickr.com/5339/9481109057_24d5795fcc.jpg\" width=\"210px\" /> <img src=\"http://farm8.staticflickr.com/7396/9516259904_cbef860899.jpg\" width=\"210px\" /> <img src=\"http://farm3.staticflickr.com/2815/9577874210_006d90030d.jpg\" width=\"210px\" /> <img src=\"http://farm6.staticflickr.com/5466/9550822316_307f920d13.jpg\" width=\"210px\" /> <img src=\"http://farm6.staticflickr.com/5340/9497555016_65c536eb3a.jpg\" width=\"210px\" /> <img src=\"http://farm6.staticflickr.com/5504/9501826598_98ccd11589.jpg\" width=\"210px\" />"
       ],
       "metadata": {},
       "output_type": "pyout",
       "prompt_number": 59,
       "text": [
        "<IPython.core.display.HTML at 0x119266310>"
       ]
      }
     ],
     "prompt_number": 59
    },
    {
     "cell_type": "code",
     "collapsed": false,
     "input": [
      "top_k_images(flickr_df[flickr_df['style_Romantic']].sort('class_cat', ascending=False))"
     ],
     "language": "python",
     "metadata": {},
     "outputs": [
      {
       "html": [
        "<img src=\"http://farm9.staticflickr.com/8068/8240149993_c3de9fb9f0.jpg\" width=\"210px\" /> <img src=\"http://farm8.staticflickr.com/7382/9603330641_3b34a43fdb.jpg\" width=\"210px\" /> <img src=\"http://farm9.staticflickr.com/8350/8284567578_002282e7b7.jpg\" width=\"210px\" /> <img src=\"http://farm9.staticflickr.com/8376/8597245166_d66e4f58bf.jpg\" width=\"210px\" /> <img src=\"http://farm9.staticflickr.com/8466/8099103643_e2686cda79.jpg\" width=\"210px\" /> <img src=\"http://farm9.staticflickr.com/8448/7995840437_dfe428837d.jpg\" width=\"210px\" /> <img src=\"http://farm9.staticflickr.com/8327/8380929159_8c71e27d12.jpg\" width=\"210px\" /> <img src=\"http://farm3.staticflickr.com/2811/9257971487_5922ae472d.jpg\" width=\"210px\" /> <img src=\"http://farm9.staticflickr.com/8442/7812097512_6c1873da89.jpg\" width=\"210px\" /> <img src=\"http://farm8.staticflickr.com/7334/9010618067_80ea8f3cb1.jpg\" width=\"210px\" />"
       ],
       "metadata": {},
       "output_type": "pyout",
       "prompt_number": 46,
       "text": [
        "<IPython.core.display.HTML at 0x119169ed0>"
       ]
      }
     ],
     "prompt_number": 46
    },
    {
     "cell_type": "code",
     "collapsed": false,
     "input": [
      "top_k_images(flickr_df[flickr_df['style_Vintage']].sort('class_cat', ascending=False))"
     ],
     "language": "python",
     "metadata": {},
     "outputs": [
      {
       "html": [
        "<img src=\"http://farm8.staticflickr.com/7168/6724427087_8100cc3887.jpg\" width=\"210px\" /> <img src=\"http://farm8.staticflickr.com/7057/6952152969_d29020b504.jpg\" width=\"210px\" /> <img src=\"http://farm5.staticflickr.com/4100/4830016885_afa1864805.jpg\" width=\"210px\" /> <img src=\"http://farm4.staticflickr.com/3465/3997237600_b755dda490.jpg\" width=\"210px\" /> <img src=\"http://farm6.staticflickr.com/5244/5220375924_a7ae3bac50.jpg\" width=\"210px\" /> <img src=\"http://farm5.staticflickr.com/4115/4879120086_baefc8c423.jpg\" width=\"210px\" /> <img src=\"http://farm5.staticflickr.com/4025/4587578602_4cef2e4650.jpg\" width=\"210px\" /> <img src=\"http://farm8.staticflickr.com/7112/7056257099_5e4a84db6d.jpg\" width=\"210px\" /> <img src=\"http://farm3.staticflickr.com/2623/4049754866_b72bfeb629.jpg\" width=\"210px\" /> <img src=\"http://farm3.staticflickr.com/2700/4441104934_72ee1bdacf.jpg\" width=\"210px\" />"
       ],
       "metadata": {},
       "output_type": "pyout",
       "prompt_number": 47,
       "text": [
        "<IPython.core.display.HTML at 0x11d21a110>"
       ]
      }
     ],
     "prompt_number": 47
    },
    {
     "cell_type": "code",
     "collapsed": false,
     "input": [
      "top_k_images(flickr_df[flickr_df['style_Horror']].sort('class_cat', ascending=False))"
     ],
     "language": "python",
     "metadata": {},
     "outputs": [
      {
       "html": [
        "<img src=\"http://farm2.staticflickr.com/1350/577861644_3aed14123a.jpg\" width=\"210px\" /> <img src=\"http://farm4.staticflickr.com/3496/3291063981_1216d52f23.jpg\" width=\"210px\" /> <img src=\"http://farm4.staticflickr.com/3664/3355539727_2e2d8b4442.jpg\" width=\"210px\" /> <img src=\"http://farm4.staticflickr.com/3333/3515612365_3a13a6a840.jpg\" width=\"210px\" /> <img src=\"http://farm3.staticflickr.com/2457/3725018449_d4e56c7a8a.jpg\" width=\"210px\" /> <img src=\"http://farm4.staticflickr.com/3329/3414406222_81e423c6d9.jpg\" width=\"210px\" /> <img src=\"http://farm3.staticflickr.com/2543/3760995211_4b744f2403.jpg\" width=\"210px\" /> <img src=\"http://farm3.staticflickr.com/2489/3723182356_1517cf97ea.jpg\" width=\"210px\" /> <img src=\"http://farm2.staticflickr.com/1382/5118277481_88c0d7ca24.jpg\" width=\"210px\" /> <img src=\"http://farm3.staticflickr.com/2501/4200618356_190cf164a6.jpg\" width=\"210px\" />"
       ],
       "metadata": {},
       "output_type": "pyout",
       "prompt_number": 48,
       "text": [
        "<IPython.core.display.HTML at 0x11d21a210>"
       ]
      }
     ],
     "prompt_number": 48
    },
    {
     "cell_type": "code",
     "collapsed": false,
     "input": [
      "top_k_images(flickr_df[flickr_df['style_Melancholy']].sort('class_cat', ascending=False))"
     ],
     "language": "python",
     "metadata": {},
     "outputs": [
      {
       "html": [
        "<img src=\"http://farm8.staticflickr.com/7395/9303670866_bb2276b325.jpg\" width=\"210px\" /> <img src=\"http://farm6.staticflickr.com/5329/9314780834_29c08c30c5.jpg\" width=\"210px\" /> <img src=\"http://farm4.staticflickr.com/3671/9450149635_d1be5583ac.jpg\" width=\"210px\" /> <img src=\"http://farm4.staticflickr.com/3829/9385578667_cb5ab9ee37.jpg\" width=\"210px\" /> <img src=\"http://farm8.staticflickr.com/7368/9204161282_6e81978d49.jpg\" width=\"210px\" /> <img src=\"http://farm8.staticflickr.com/7312/9576559011_83baa32f8a.jpg\" width=\"210px\" /> <img src=\"http://farm6.staticflickr.com/5523/9282618299_56f5988343.jpg\" width=\"210px\" /> <img src=\"http://farm4.staticflickr.com/3708/9360843487_da2f173f09.jpg\" width=\"210px\" /> <img src=\"http://farm3.staticflickr.com/2890/9421824172_bd6fb3884a.jpg\" width=\"210px\" /> <img src=\"http://farm3.staticflickr.com/2805/9371743904_9e2a90ee07.jpg\" width=\"210px\" />"
       ],
       "metadata": {},
       "output_type": "pyout",
       "prompt_number": 56,
       "text": [
        "<IPython.core.display.HTML at 0x11e3cdbd0>"
       ]
      }
     ],
     "prompt_number": 56
    },
    {
     "cell_type": "markdown",
     "metadata": {},
     "source": [
      "## PASCAL on Wikipaintings"
     ]
    },
    {
     "cell_type": "code",
     "collapsed": false,
     "input": [
      "results_df, preds_panel = vislab._results.load_pred_results(\n",
      "    'pascal_mc_on_wikipaintings_mar23', os.path.expanduser('~/work/aphrodite/data/results'),\n",
      "    multiclass=True, force=False)\n",
      "\n",
      "content_pred_df = preds_panel.minor_xs('caffe_fc7 False vw')"
     ],
     "language": "python",
     "metadata": {},
     "outputs": [
      {
       "output_type": "stream",
       "stream": "stdout",
       "text": [
        "Loaded from cache: 1 records\n"
       ]
      }
     ],
     "prompt_number": 18
    },
    {
     "cell_type": "code",
     "collapsed": false,
     "input": [
      "label_df = vislab.datasets.wikipaintings.get_style_df()\n",
      "df = content_pred_df.join(label_df)"
     ],
     "language": "python",
     "metadata": {},
     "outputs": [],
     "prompt_number": 19
    },
    {
     "cell_type": "code",
     "collapsed": false,
     "input": [
      "top_k_images(df[df['style_Impressionism']].sort('pred_metaclass_animal', ascending=False))"
     ],
     "language": "python",
     "metadata": {},
     "outputs": [
      {
       "html": [
        "<img src=\"http://uploads5.wikipaintings.org/images/edgar-degas/study-for-semiramis-building-babylon-1861.jpg\" width=\"210px\" /> <img src=\"http://uploads0.wikipaintings.org/images/edgar-degas/dancer-adjusting-her-sandel.jpg\" width=\"210px\" /> <img src=\"http://uploads7.wikipaintings.org/images/gustave-caillebotte/yerres-dark-bay-horse-in-the-stable.jpg\" width=\"210px\" /> <img src=\"http://uploads4.wikipaintings.org/images/john-singer-sargent/oxen-in-repose.jpg\" width=\"210px\" /> <img src=\"http://uploads2.wikipaintings.org/images/theophrastos-triantafyllidis/two-children-on-the-beach-1919.jpg\" width=\"210px\" /> <img src=\"http://uploads7.wikipaintings.org/images/auguste-rodin/three-views-of-a-mask-6.jpg\" width=\"210px\" /> <img src=\"http://uploads6.wikipaintings.org/images/edgar-degas/dancer-adjusting-her-slipper-1885.jpg\" width=\"210px\" /> <img src=\"http://uploads1.wikipaintings.org/images/peder-severin-kroyer/oscar-bj-rck-and-eilif-peterssen-painting-portraits-of-georg-brandes-1883.jpg\" width=\"210px\" /> <img src=\"http://uploads3.wikipaintings.org/images/edgar-degas/laundresses-carrying-linen-in-town-1878.jpg\" width=\"210px\" /> <img src=\"http://uploads4.wikipaintings.org/images/edgar-degas/edouard-manet-standing.jpg\" width=\"210px\" />"
       ],
       "metadata": {},
       "output_type": "pyout",
       "prompt_number": 21,
       "text": [
        "<IPython.core.display.HTML at 0x11a1c08d0>"
       ]
      }
     ],
     "prompt_number": 21
    },
    {
     "cell_type": "code",
     "collapsed": false,
     "input": [
      "top_k_images(df[df['style_Impressionism']].sort('pred_metaclass_indoor', ascending=False))"
     ],
     "language": "python",
     "metadata": {},
     "outputs": [
      {
       "html": [
        "<img src=\"http://uploads4.wikipaintings.org/images/gustave-caillebotte/still-life-with-a-vase-of-lilacs.jpg\" width=\"210px\" /> <img src=\"http://uploads2.wikipaintings.org/images/edgar-degas/the-billiard-room-at-menil-hubert-1892.jpg\" width=\"210px\" /> <img src=\"http://uploads6.wikipaintings.org/images/gregoire-boonzaier/arum-lilies-in-a-vase-1940.jpg\" width=\"210px\" /> <img src=\"http://uploads8.wikipaintings.org/images/theodor-pallady/still-life-with-may-lilies-1935.jpg\" width=\"210px\" /> <img src=\"http://uploads3.wikipaintings.org/images/claude-monet/three-pots-of-tulips.jpg\" width=\"210px\" /> <img src=\"http://uploads4.wikipaintings.org/images/salvador-dali/view-of-portdogue-port-aluger.jpg\" width=\"210px\" /> <img src=\"http://uploads6.wikipaintings.org/images/walter-battiss/arabian-city.jpg\" width=\"210px\" /> <img src=\"http://uploads4.wikipaintings.org/images/william-merritt-chase/the-old-book.jpg\" width=\"210px\" /> <img src=\"http://uploads3.wikipaintings.org/images/stefan-luchian/springtime-flowers.jpg\" width=\"210px\" /> <img src=\"http://uploads0.wikipaintings.org/images/stefan-luchian/vase-with-chrysanthemums.jpg\" width=\"210px\" />"
       ],
       "metadata": {},
       "output_type": "pyout",
       "prompt_number": 22,
       "text": [
        "<IPython.core.display.HTML at 0x11a1c0250>"
       ]
      }
     ],
     "prompt_number": 22
    },
    {
     "cell_type": "code",
     "collapsed": false,
     "input": [
      "top_k_images(df[df['style_Impressionism']].sort('pred_metaclass_vehicle', ascending=False))"
     ],
     "language": "python",
     "metadata": {},
     "outputs": [
      {
       "html": [
        "<img src=\"http://uploads0.wikipaintings.org/images/eugene-boudin/deauville-the-harbor-1897.jpg\" width=\"210px\" /> <img src=\"http://uploads6.wikipaintings.org/images/john-henry-twachtman/waterside-scene.jpg\" width=\"210px\" /> <img src=\"http://uploads0.wikipaintings.org/images/eugene-boudin/three-masted-ship-in-port-bordeaux.jpg\" width=\"210px\" /> <img src=\"http://uploads2.wikipaintings.org/images/eugene-boudin/le-havre-three-master-at-anchor-in-the-harbor.jpg\" width=\"210px\" /> <img src=\"http://uploads3.wikipaintings.org/images/eugene-boudin/le-havre-avent-port.jpg\" width=\"210px\" /> <img src=\"http://uploads2.wikipaintings.org/images/eugene-boudin/le-havre-basin-of-eure-1894.jpg\" width=\"210px\" /> <img src=\"http://uploads1.wikipaintings.org/images/claude-monet/gestrandetes-boot-in-fecamp.jpg\" width=\"210px\" /> <img src=\"http://uploads3.wikipaintings.org/images/eugene-boudin/the-trouville-basin.jpg\" width=\"210px\" /> <img src=\"http://uploads1.wikipaintings.org/images/eugene-boudin/bordeaux-the-port.jpg\" width=\"210px\" /> <img src=\"http://uploads7.wikipaintings.org/images/eugene-boudin/deauville-the-port-1888.jpg\" width=\"210px\" />"
       ],
       "metadata": {},
       "output_type": "pyout",
       "prompt_number": 23,
       "text": [
        "<IPython.core.display.HTML at 0x11a1eae50>"
       ]
      }
     ],
     "prompt_number": 23
    },
    {
     "cell_type": "code",
     "collapsed": false,
     "input": [
      "top_k_images(df[df['style_Impressionism']].sort('pred_metaclass_person', ascending=False))"
     ],
     "language": "python",
     "metadata": {},
     "outputs": [
      {
       "html": [
        "<img src=\"http://uploads1.wikipaintings.org/images/edgar-degas/giovanna-and-giulia-bellelli.jpg\" width=\"210px\" /> <img src=\"http://uploads1.wikipaintings.org/images/mary-cassatt/moses-dreyfus-1879.jpg\" width=\"210px\" /> <img src=\"http://uploads3.wikipaintings.org/images/pierre-auguste-renoir/woman-with-a-white-jabot-1880.jpg\" width=\"210px\" /> <img src=\"http://uploads6.wikipaintings.org/images/gustave-caillebotte/portrait-of-jean-daurelle.jpg\" width=\"210px\" /> <img src=\"http://uploads3.wikipaintings.org/images/george-luks/girl-with-pink-ribbon.jpg\" width=\"210px\" /> <img src=\"http://uploads0.wikipaintings.org/images/mary-cassatt/jenny-and-her-sleepy-child.jpg\" width=\"210px\" /> <img src=\"http://uploads7.wikipaintings.org/images/edgar-degas/violinist-and-young-woman.jpg\" width=\"210px\" /> <img src=\"http://uploads3.wikipaintings.org/images/charles-demuth/self-portrait-1907.jpg\" width=\"210px\" /> <img src=\"http://uploads2.wikipaintings.org/images/edouard-manet/portrait-of-faure-as-hamlet.jpg\" width=\"210px\" /> <img src=\"http://uploads7.wikipaintings.org/images/edgar-degas/comte-le-pic-and-his-sons.jpg\" width=\"210px\" />"
       ],
       "metadata": {},
       "output_type": "pyout",
       "prompt_number": 24,
       "text": [
        "<IPython.core.display.HTML at 0x11a1eac10>"
       ]
      }
     ],
     "prompt_number": 24
    }
   ],
   "metadata": {}
  }
 ]
}