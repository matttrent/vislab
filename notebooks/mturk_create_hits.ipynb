{
 "metadata": {
  "name": "",
  "signature": "sha256:4b88c3b525c93e2a7801a488ebbe33bc64926864bbfe297dfa81fdc208463460"
 },
 "nbformat": 3,
 "nbformat_minor": 0,
 "worksheets": [
  {
   "cells": [
    {
     "cell_type": "code",
     "collapsed": false,
     "input": [
      "%load_ext autoreload\n",
      "%autoreload 2\n",
      "\n",
      "import os\n",
      "import sys\n",
      "import uuid\n",
      "import math\n",
      "import urllib\n",
      "import urlparse\n",
      "import datetime\n",
      "\n",
      "from boto.mturk.connection import *\n",
      "from boto.mturk.question import ExternalQuestion\n",
      "from boto.mturk.qualification import *\n",
      "from boto.mturk.price import *\n",
      "\n",
      "import pandas as pd\n",
      "import vislab.datasets"
     ],
     "language": "python",
     "metadata": {},
     "outputs": [],
     "prompt_number": 1
    },
    {
     "cell_type": "markdown",
     "metadata": {},
     "source": [
      "# Load New DataFrame"
     ]
    },
    {
     "cell_type": "code",
     "collapsed": false,
     "input": [
      "flickr_df = vislab.datasets.flickr.get_df()"
     ],
     "language": "python",
     "metadata": {},
     "outputs": [],
     "prompt_number": 2
    },
    {
     "cell_type": "code",
     "collapsed": false,
     "input": [
      "flickr_df.ix[0]"
     ],
     "language": "python",
     "metadata": {},
     "outputs": [
      {
       "metadata": {},
       "output_type": "pyout",
       "prompt_number": 3,
       "text": [
        "image_url                      http://farm2.staticflickr.com/1227/5159730964_...\n",
        "owner                                                               48664097@N02\n",
        "page_url                       http://www.flickr.com/photos/48664097@N02/5159...\n",
        "style_Bokeh                                                                False\n",
        "style_Bright                                                               False\n",
        "style_Depth_of_Field                                                       False\n",
        "style_Detailed                                                              True\n",
        "style_Ethereal                                                             False\n",
        "style_Geometric_Composition                                                False\n",
        "style_HDR                                                                  False\n",
        "style_Hazy                                                                 False\n",
        "style_Horror                                                               False\n",
        "style_Long_Exposure                                                        False\n",
        "style_Macro                                                                False\n",
        "style_Melancholy                                                           False\n",
        "style_Minimal                                                              False\n",
        "style_Noir                                                                 False\n",
        "style_Pastel                                                               False\n",
        "style_Romantic                                                             False\n",
        "style_Serene                                                               False\n",
        "style_Sunny                                                                False\n",
        "style_Texture                                                              False\n",
        "style_Vintage                                                              False\n",
        "_split                                                                     train\n",
        "Name: 5159730964, dtype: object"
       ]
      }
     ],
     "prompt_number": 3
    },
    {
     "cell_type": "code",
     "collapsed": false,
     "input": [
      "len( flickr_df.index )"
     ],
     "language": "python",
     "metadata": {},
     "outputs": [
      {
       "metadata": {},
       "output_type": "pyout",
       "prompt_number": 4,
       "text": [
        "80000"
       ]
      }
     ],
     "prompt_number": 4
    },
    {
     "cell_type": "code",
     "collapsed": false,
     "input": [
      "# write out to the static image server df\n",
      "flickr_df.to_pickle( '/Users/mmt/Archive/Code/behance-image-style/flask-static-serve/data/flickr_df.pickle' )"
     ],
     "language": "python",
     "metadata": {},
     "outputs": [],
     "prompt_number": 5
    },
    {
     "cell_type": "markdown",
     "metadata": {},
     "source": [
      "# Configuration"
     ]
    },
    {
     "cell_type": "code",
     "collapsed": false,
     "input": [
      "# style were are testing\n",
      "POS_STYLE = 'Vintage'\n",
      "\n",
      "# base url for the test server\n",
      "SERVER_URL = 'https://image-style-mturk.herokuapp.com/'\n",
      "\n",
      "# total positive + negative images in the set\n",
      "TOTAL_IMAGES  = 2000\n",
      "\n",
      "# split of positive/negative examples in the set\n",
      "POS_NEG_SPLIT = .5\n",
      "\n",
      "# we won't use the first n images from any of the different styles for inclusion \n",
      "# in any of the test tests.  this can be used to serve any number of purposes,\n",
      "# such as example images, spam-detection samples, etc...  example images are the\n",
      "# only current use.\n",
      "RESERVE_IMAGES = 100\n",
      "\n",
      "# how many images per hit\n",
      "IMAGES_PER_HIT = 10\n",
      "\n",
      "# how many different turkers we want to view each job\n",
      "HIT_REPEAT = 3\n",
      "\n",
      "# aws secret keys\n",
      "vislab = reload( vislab )\n",
      "AWS_ACCESS_KEY_ID     = vislab.config['api_keys']['mturk_aaron']['awsAccessKeyId']\n",
      "AWS_SECRET_ACCESS_KEY = vislab.config['api_keys']['mturk_aaron']['awsSecretAccessKey']\n",
      "\n",
      "# mechanical turk server\n",
      "# AWS_HOST = 'mechanicalturk.sandbox.amazonaws.com'\n",
      "AWS_HOST = 'mechanicalturk.amazonaws.com'\n",
      "\n",
      "# top-level hit information\n",
      "HIT_TITLE    = 'Tag whether the style of photos is {}';\n",
      "HIT_DESC     = 'Given examples of a {} style, tag whether or not a photo matches that style.'\n",
      "HIT_KEYWORDS = 'photograph, photographs, photo, photos, image, images, style, look, classification, tagging'\n",
      "\n",
      "# hit specifics\n",
      "HIT_DURATION = datetime.timedelta(1)  # 7 days\n",
      "HIT_PRICE = 0.1"
     ],
     "language": "python",
     "metadata": {},
     "outputs": [],
     "prompt_number": 6
    },
    {
     "cell_type": "code",
     "collapsed": false,
     "input": [
      "%qtconsole"
     ],
     "language": "python",
     "metadata": {},
     "outputs": [],
     "prompt_number": 5
    },
    {
     "cell_type": "markdown",
     "metadata": {},
     "source": [
      "# Helper functions"
     ]
    },
    {
     "cell_type": "code",
     "collapsed": false,
     "input": [
      "import re\n",
      "from unicodedata import normalize\n",
      "\n",
      "_punct_re = re.compile(r'[\\t !\"#$%&\\'()*\\-/<=>?@\\[\\\\\\]^_`{|},.]+')\n",
      "\n",
      "def slugify(text, delim=u'-'):\n",
      "    \"\"\"Generates an slightly worse ASCII-only slug.\"\"\"\n",
      "    text = unicode( text )\n",
      "    result = []\n",
      "    for word in _punct_re.split(text.lower()):\n",
      "        word = normalize('NFKD', word).encode('ascii', 'ignore')\n",
      "        if word:\n",
      "            result.append(word)\n",
      "    return unicode(delim.join(result))"
     ],
     "language": "python",
     "metadata": {},
     "outputs": [],
     "prompt_number": 7
    },
    {
     "cell_type": "code",
     "collapsed": false,
     "input": [
      "def create_hit_url( style, df, debug=False, local=False ):\n",
      "    \n",
      "    if local:\n",
      "        base_url = 'http://localhost:5000/'\n",
      "    else:\n",
      "        base_url = SERVER_URL\n",
      "    \n",
      "    params = {}\n",
      "\n",
      "    params['tagName'] = slugify( style )\n",
      "    \n",
      "    imgIds = df.index.tolist()\n",
      "    imgStr = ','.join( imgIds )\n",
      "    params['imgIds'] = imgStr\n",
      "    \n",
      "    if debug:\n",
      "        params['debug'] = True\n",
      "    \n",
      "    url_parts = list( urlparse.urlparse( base_url ) )\n",
      "    query = dict( urlparse.parse_qsl( url_parts[4] ) )\n",
      "    query.update(params)\n",
      "\n",
      "    url_parts[4] = urllib.urlencode( query )\n",
      "\n",
      "    return urlparse.urlunparse( url_parts )"
     ],
     "language": "python",
     "metadata": {},
     "outputs": [],
     "prompt_number": 8
    },
    {
     "cell_type": "markdown",
     "metadata": {},
     "source": [
      "# Style tag name extraction"
     ]
    },
    {
     "cell_type": "code",
     "collapsed": false,
     "input": [
      "style_cols = [name for name in flickr_df.columns.tolist() if 'style' in name]\n",
      "style_cols.remove( 'style_Bokeh' )\n",
      "style_cols.remove( 'style_Texture' )\n",
      "style_cols"
     ],
     "language": "python",
     "metadata": {},
     "outputs": [
      {
       "metadata": {},
       "output_type": "pyout",
       "prompt_number": 9,
       "text": [
        "['style_Bright',\n",
        " 'style_Depth_of_Field',\n",
        " 'style_Detailed',\n",
        " 'style_Ethereal',\n",
        " 'style_Geometric_Composition',\n",
        " 'style_HDR',\n",
        " 'style_Hazy',\n",
        " 'style_Horror',\n",
        " 'style_Long_Exposure',\n",
        " 'style_Macro',\n",
        " 'style_Melancholy',\n",
        " 'style_Minimal',\n",
        " 'style_Noir',\n",
        " 'style_Pastel',\n",
        " 'style_Romantic',\n",
        " 'style_Serene',\n",
        " 'style_Sunny',\n",
        " 'style_Vintage']"
       ]
      }
     ],
     "prompt_number": 9
    },
    {
     "cell_type": "code",
     "collapsed": false,
     "input": [
      "style_names = [name[6:].replace('_', ' ') for name in style_cols]\n",
      "style_names"
     ],
     "language": "python",
     "metadata": {},
     "outputs": [
      {
       "metadata": {},
       "output_type": "pyout",
       "prompt_number": 10,
       "text": [
        "['Bright',\n",
        " 'Depth of Field',\n",
        " 'Detailed',\n",
        " 'Ethereal',\n",
        " 'Geometric Composition',\n",
        " 'HDR',\n",
        " 'Hazy',\n",
        " 'Horror',\n",
        " 'Long Exposure',\n",
        " 'Macro',\n",
        " 'Melancholy',\n",
        " 'Minimal',\n",
        " 'Noir',\n",
        " 'Pastel',\n",
        " 'Romantic',\n",
        " 'Serene',\n",
        " 'Sunny',\n",
        " 'Vintage']"
       ]
      }
     ],
     "prompt_number": 10
    },
    {
     "cell_type": "code",
     "collapsed": false,
     "input": [
      "slug_names = [slugify(name) for name in style_names]\n",
      "slug_names"
     ],
     "language": "python",
     "metadata": {},
     "outputs": [
      {
       "metadata": {},
       "output_type": "pyout",
       "prompt_number": 11,
       "text": [
        "[u'bright',\n",
        " u'depth-of-field',\n",
        " u'detailed',\n",
        " u'ethereal',\n",
        " u'geometric-composition',\n",
        " u'hdr',\n",
        " u'hazy',\n",
        " u'horror',\n",
        " u'long-exposure',\n",
        " u'macro',\n",
        " u'melancholy',\n",
        " u'minimal',\n",
        " u'noir',\n",
        " u'pastel',\n",
        " u'romantic',\n",
        " u'serene',\n",
        " u'sunny',\n",
        " u'vintage']"
       ]
      }
     ],
     "prompt_number": 11
    },
    {
     "cell_type": "code",
     "collapsed": false,
     "input": [
      "style_dict = dict( zip( slug_names, zip( style_names, style_cols ) ) )\n",
      "style_dict"
     ],
     "language": "python",
     "metadata": {},
     "outputs": [
      {
       "metadata": {},
       "output_type": "pyout",
       "prompt_number": 12,
       "text": [
        "{u'bright': ('Bright', 'style_Bright'),\n",
        " u'depth-of-field': ('Depth of Field', 'style_Depth_of_Field'),\n",
        " u'detailed': ('Detailed', 'style_Detailed'),\n",
        " u'ethereal': ('Ethereal', 'style_Ethereal'),\n",
        " u'geometric-composition': ('Geometric Composition',\n",
        "  'style_Geometric_Composition'),\n",
        " u'hazy': ('Hazy', 'style_Hazy'),\n",
        " u'hdr': ('HDR', 'style_HDR'),\n",
        " u'horror': ('Horror', 'style_Horror'),\n",
        " u'long-exposure': ('Long Exposure', 'style_Long_Exposure'),\n",
        " u'macro': ('Macro', 'style_Macro'),\n",
        " u'melancholy': ('Melancholy', 'style_Melancholy'),\n",
        " u'minimal': ('Minimal', 'style_Minimal'),\n",
        " u'noir': ('Noir', 'style_Noir'),\n",
        " u'pastel': ('Pastel', 'style_Pastel'),\n",
        " u'romantic': ('Romantic', 'style_Romantic'),\n",
        " u'serene': ('Serene', 'style_Serene'),\n",
        " u'sunny': ('Sunny', 'style_Sunny'),\n",
        " u'vintage': ('Vintage', 'style_Vintage')}"
       ]
      }
     ],
     "prompt_number": 12
    },
    {
     "cell_type": "code",
     "collapsed": false,
     "input": [
      "%qtconsole"
     ],
     "language": "python",
     "metadata": {},
     "outputs": [],
     "prompt_number": 13
    },
    {
     "cell_type": "markdown",
     "metadata": {},
     "source": [
      "# Create spam-detection images"
     ]
    },
    {
     "cell_type": "code",
     "collapsed": false,
     "input": [
      "spam_images = {}\n",
      "spam_images['style_Bright']                = [ '13276349735', '13202986955' ]\n",
      "spam_images['style_Depth_of_Field']        = [ '12275097686', '12618937364' ]\n",
      "spam_images['style_Detailed']\t             = [ '12678909473', '9584007214' ]\n",
      "spam_images['style_Ethereal']\t             = [ '11196553984', '12103191336' ]\n",
      "spam_images['style_Geometric_Composition'] = [ '12361280943', '11728222814' ]\n",
      "spam_images['style_HDR']\t                 = [ '12985120954', '13080484014' ]\n",
      "spam_images['style_Hazy']\t                 = [ '8123136180', '8710649981' ]\n",
      "spam_images['style_Horror']\t             = [ '3540879185', '3190181306' ]\n",
      "spam_images['style_Long_Exposure']\t     = [ '13077420234', '13039543873' ]\n",
      "spam_images['style_Macro']\t             = [ '12874682495', '13237561944' ]\n",
      "spam_images['style_Melancholy']\t         = [ '13035627133', '12652741963' ]\n",
      "spam_images['style_Minimal']\t             = [ '9389108329', '9499757804' ]\n",
      "spam_images['style_Noir']\t                 = [ '11158990436', '3330508474' ]\n",
      "spam_images['style_Pastel']\t             = [ '13163996094', '12772046043' ]\n",
      "spam_images['style_Romantic']\t             = [ '8875030224', '9390762719' ]\n",
      "spam_images['style_Serene']\t             = [ '9572023253', '9700306653' ]\n",
      "spam_images['style_Sunny']\t             = [ '11433844095', '11156368195' ]\n",
      "spam_images['style_Vintage']\t             = [ '5710850998', '5798828322' ]"
     ],
     "language": "python",
     "metadata": {},
     "outputs": [],
     "prompt_number": 14
    },
    {
     "cell_type": "markdown",
     "metadata": {},
     "source": [
      "# Create reserve and working DFs"
     ]
    },
    {
     "cell_type": "code",
     "collapsed": false,
     "input": [
      "example_images = {}\n",
      "\n",
      "for name in slug_names:\n",
      "    exfile = open( os.path.join( '../../example-images', name + '.txt' ) )\n",
      "    lines  = exfile.readlines()\n",
      "    poslines = lines[:12]\n",
      "    neglines = lines[13:]\n",
      "    posfids   = [ url.split('/')[-1].strip() for url in poslines ]\n",
      "    negfids   = [ url.split('/')[-1].strip() for url in neglines ]\n",
      "    example_images[name] = ( posfids, negfids )"
     ],
     "language": "python",
     "metadata": {},
     "outputs": [],
     "prompt_number": 15
    },
    {
     "cell_type": "code",
     "collapsed": false,
     "input": [
      "print len( example_images['bright'][0] )\n",
      "print len( example_images['bright'][1] )\n",
      "print example_images['bright'][0]\n",
      "print example_images['bright'][1]"
     ],
     "language": "python",
     "metadata": {},
     "outputs": [
      {
       "output_type": "stream",
       "stream": "stdout",
       "text": [
        "12\n",
        "12\n",
        "['13262683763', '13269173703', '13264495034', '13250660483', '13264720805', '13268526985', '13265978523', '13266006985', '13263693813', '13264189403', '13268380143', '13255475655']\n",
        "['13246911233', '13212624173', '13248377733', '12529307075', '12730776674', '13224430023', '13240655863', '13201708943', '7128926709', '13191318234', '13239155405', '13175225793']\n"
       ]
      }
     ],
     "prompt_number": 16
    },
    {
     "cell_type": "code",
     "collapsed": false,
     "input": [
      "example_fids = map( lambda x: x[0] + x[1], example_images.values() )\n",
      "example_fids = reduce( lambda x, y: x + y, example_fids )"
     ],
     "language": "python",
     "metadata": {},
     "outputs": [],
     "prompt_number": 17
    },
    {
     "cell_type": "code",
     "collapsed": false,
     "input": [
      "example_fids[0]"
     ],
     "language": "python",
     "metadata": {},
     "outputs": [
      {
       "metadata": {},
       "output_type": "pyout",
       "prompt_number": 18,
       "text": [
        "'12953344624'"
       ]
      }
     ],
     "prompt_number": 18
    },
    {
     "cell_type": "code",
     "collapsed": false,
     "input": [
      "len( example_fids )"
     ],
     "language": "python",
     "metadata": {},
     "outputs": [
      {
       "metadata": {},
       "output_type": "pyout",
       "prompt_number": 19,
       "text": [
        "432"
       ]
      }
     ],
     "prompt_number": 19
    },
    {
     "cell_type": "code",
     "collapsed": false,
     "input": [
      "example_fids = list( set( example_fids ) )"
     ],
     "language": "python",
     "metadata": {},
     "outputs": [],
     "prompt_number": 20
    },
    {
     "cell_type": "code",
     "collapsed": false,
     "input": [
      "print len( example_fids )"
     ],
     "language": "python",
     "metadata": {},
     "outputs": [
      {
       "output_type": "stream",
       "stream": "stdout",
       "text": [
        "289\n"
       ]
      }
     ],
     "prompt_number": 21
    },
    {
     "cell_type": "code",
     "collapsed": false,
     "input": [
      "example_df = flickr_df.ix[ example_fids ]"
     ],
     "language": "python",
     "metadata": {},
     "outputs": [],
     "prompt_number": 22
    },
    {
     "cell_type": "code",
     "collapsed": false,
     "input": [
      "len( example_df )"
     ],
     "language": "python",
     "metadata": {},
     "outputs": [
      {
       "metadata": {},
       "output_type": "pyout",
       "prompt_number": 23,
       "text": [
        "289"
       ]
      }
     ],
     "prompt_number": 23
    },
    {
     "cell_type": "code",
     "collapsed": false,
     "input": [
      "example_df.iloc[0]"
     ],
     "language": "python",
     "metadata": {},
     "outputs": [
      {
       "metadata": {},
       "output_type": "pyout",
       "prompt_number": 24,
       "text": [
        "image_url                      http://farm8.staticflickr.com/7407/13291154153...\n",
        "owner                                                               94807198@N03\n",
        "page_url                       http://www.flickr.com/photos/94807198@N03/1329...\n",
        "style_Bokeh                                                                False\n",
        "style_Bright                                                               False\n",
        "style_Depth_of_Field                                                       False\n",
        "style_Detailed                                                             False\n",
        "style_Ethereal                                                             False\n",
        "style_Geometric_Composition                                                False\n",
        "style_HDR                                                                  False\n",
        "style_Hazy                                                                 False\n",
        "style_Horror                                                               False\n",
        "style_Long_Exposure                                                         True\n",
        "style_Macro                                                                False\n",
        "style_Melancholy                                                           False\n",
        "style_Minimal                                                              False\n",
        "style_Noir                                                                 False\n",
        "style_Pastel                                                               False\n",
        "style_Romantic                                                             False\n",
        "style_Serene                                                               False\n",
        "style_Sunny                                                                False\n",
        "style_Texture                                                              False\n",
        "style_Vintage                                                              False\n",
        "_split                                                                     train\n",
        "Name: 13291154153, dtype: object"
       ]
      }
     ],
     "prompt_number": 24
    },
    {
     "cell_type": "code",
     "collapsed": false,
     "input": [
      "work_fids = [ fid for fid in flickr_df.index.tolist() if fid not in example_fids ]"
     ],
     "language": "python",
     "metadata": {},
     "outputs": [],
     "prompt_number": 25
    },
    {
     "cell_type": "code",
     "collapsed": false,
     "input": [
      "len( work_fids )"
     ],
     "language": "python",
     "metadata": {},
     "outputs": [
      {
       "metadata": {},
       "output_type": "pyout",
       "prompt_number": 26,
       "text": [
        "79711"
       ]
      }
     ],
     "prompt_number": 26
    },
    {
     "cell_type": "code",
     "collapsed": false,
     "input": [
      "spam_fids = reduce( lambda x, y: x + y, spam_images.values() )\n",
      "print len( spam_fids )\n",
      "print spam_fids "
     ],
     "language": "python",
     "metadata": {},
     "outputs": [
      {
       "output_type": "stream",
       "stream": "stdout",
       "text": [
        "36\n",
        "['11433844095', '11156368195', '12361280943', '11728222814', '12678909473', '9584007214', '13276349735', '13202986955', '12275097686', '12618937364', '12985120954', '13080484014', '8123136180', '8710649981', '3540879185', '3190181306', '9572023253', '9700306653', '13077420234', '13039543873', '5710850998', '5798828322', '9389108329', '9499757804', '13163996094', '12772046043', '11158990436', '3330508474', '11196553984', '12103191336', '8875030224', '9390762719', '12874682495', '13237561944', '13035627133', '12652741963']\n"
       ]
      }
     ],
     "prompt_number": 27
    },
    {
     "cell_type": "code",
     "collapsed": false,
     "input": [
      "spam_df = flickr_df.ix[ spam_fids ]"
     ],
     "language": "python",
     "metadata": {},
     "outputs": [],
     "prompt_number": 28
    },
    {
     "cell_type": "code",
     "collapsed": false,
     "input": [
      "work_fids = [ fid for fid in work_fids if fid not in spam_fids ]"
     ],
     "language": "python",
     "metadata": {},
     "outputs": [],
     "prompt_number": 29
    },
    {
     "cell_type": "code",
     "collapsed": false,
     "input": [
      "len( work_fids )"
     ],
     "language": "python",
     "metadata": {},
     "outputs": [
      {
       "metadata": {},
       "output_type": "pyout",
       "prompt_number": 30,
       "text": [
        "79675"
       ]
      }
     ],
     "prompt_number": 30
    },
    {
     "cell_type": "code",
     "collapsed": false,
     "input": [
      "work_df = flickr_df.ix[ work_fids ]"
     ],
     "language": "python",
     "metadata": {},
     "outputs": [],
     "prompt_number": 31
    },
    {
     "cell_type": "code",
     "collapsed": false,
     "input": [
      "work_df.ix[0]"
     ],
     "language": "python",
     "metadata": {},
     "outputs": [
      {
       "metadata": {},
       "output_type": "pyout",
       "prompt_number": 32,
       "text": [
        "image_url                      http://farm2.staticflickr.com/1227/5159730964_...\n",
        "owner                                                               48664097@N02\n",
        "page_url                       http://www.flickr.com/photos/48664097@N02/5159...\n",
        "style_Bokeh                                                                False\n",
        "style_Bright                                                               False\n",
        "style_Depth_of_Field                                                       False\n",
        "style_Detailed                                                              True\n",
        "style_Ethereal                                                             False\n",
        "style_Geometric_Composition                                                False\n",
        "style_HDR                                                                  False\n",
        "style_Hazy                                                                 False\n",
        "style_Horror                                                               False\n",
        "style_Long_Exposure                                                        False\n",
        "style_Macro                                                                False\n",
        "style_Melancholy                                                           False\n",
        "style_Minimal                                                              False\n",
        "style_Noir                                                                 False\n",
        "style_Pastel                                                               False\n",
        "style_Romantic                                                             False\n",
        "style_Serene                                                               False\n",
        "style_Sunny                                                                False\n",
        "style_Texture                                                              False\n",
        "style_Vintage                                                              False\n",
        "_split                                                                     train\n",
        "Name: 5159730964, dtype: object"
       ]
      }
     ],
     "prompt_number": 32
    },
    {
     "cell_type": "code",
     "collapsed": false,
     "input": [
      "work_df = work_df[ work_df['_split'] == 'test' ]"
     ],
     "language": "python",
     "metadata": {},
     "outputs": [],
     "prompt_number": 33
    },
    {
     "cell_type": "code",
     "collapsed": false,
     "input": [
      "len( work_df )"
     ],
     "language": "python",
     "metadata": {},
     "outputs": [
      {
       "metadata": {},
       "output_type": "pyout",
       "prompt_number": 56,
       "text": [
        "15943"
       ]
      }
     ],
     "prompt_number": 56
    },
    {
     "cell_type": "code",
     "collapsed": false,
     "input": [
      "len( work_df[ work_df['_split'] == 'test' ] )"
     ],
     "language": "python",
     "metadata": {},
     "outputs": [
      {
       "metadata": {},
       "output_type": "pyout",
       "prompt_number": 57,
       "text": [
        "15943"
       ]
      }
     ],
     "prompt_number": 57
    },
    {
     "cell_type": "code",
     "collapsed": false,
     "input": [
      "import pickle"
     ],
     "language": "python",
     "metadata": {},
     "outputs": [],
     "prompt_number": 36
    },
    {
     "cell_type": "code",
     "collapsed": false,
     "input": [
      "#pickle.dump( example_images, \n",
      "#    open( '/Users/mmt/Archive/Code/behance-image-style/flask-static-serve/data/example_fids.pickle', 'w' ) )"
     ],
     "language": "python",
     "metadata": {},
     "outputs": [],
     "prompt_number": 37
    },
    {
     "cell_type": "markdown",
     "metadata": {},
     "source": [
      "# Create positive/negative sets"
     ]
    },
    {
     "cell_type": "code",
     "collapsed": false,
     "input": [
      "pos_style = 'style_' + POS_STYLE"
     ],
     "language": "python",
     "metadata": {},
     "outputs": [],
     "prompt_number": 38
    },
    {
     "cell_type": "code",
     "collapsed": false,
     "input": [
      "posdf = work_df[ work_df[pos_style] == True ]\n",
      "negdf = work_df[ work_df[pos_style] == False ]\n",
      "\n",
      "print len( posdf ), len( negdf )"
     ],
     "language": "python",
     "metadata": {},
     "outputs": [
      {
       "output_type": "stream",
       "stream": "stdout",
       "text": [
        "795 15148\n"
       ]
      }
     ],
     "prompt_number": 39
    },
    {
     "cell_type": "code",
     "collapsed": false,
     "input": [
      "posdf[:10].index.tolist()"
     ],
     "language": "python",
     "metadata": {},
     "outputs": [
      {
       "metadata": {},
       "output_type": "pyout",
       "prompt_number": 40,
       "text": [
        "['2609553631',\n",
        " '7165173917',\n",
        " '7338765564',\n",
        " '7337932868',\n",
        " '7291200868',\n",
        " '7283085408',\n",
        " '7258668146',\n",
        " '7255009988',\n",
        " '7245639996',\n",
        " '7241147476']"
       ]
      }
     ],
     "prompt_number": 40
    },
    {
     "cell_type": "code",
     "collapsed": false,
     "input": [
      "negdf[:10].index.tolist()"
     ],
     "language": "python",
     "metadata": {},
     "outputs": [
      {
       "metadata": {},
       "output_type": "pyout",
       "prompt_number": 41,
       "text": [
        "['13244621853',\n",
        " '13238489435',\n",
        " '13173247293',\n",
        " '13165266645',\n",
        " '13161312274',\n",
        " '13157400423',\n",
        " '13146737364',\n",
        " '13146295173',\n",
        " '13143966603',\n",
        " '13136918605']"
       ]
      }
     ],
     "prompt_number": 41
    },
    {
     "cell_type": "code",
     "collapsed": false,
     "input": [
      "posdf = posdf[ RESERVE_IMAGES : ]\n",
      "negdf = negdf[ RESERVE_IMAGES : ]\n",
      "\n",
      "print len( posdf ), len( negdf )"
     ],
     "language": "python",
     "metadata": {},
     "outputs": [
      {
       "output_type": "stream",
       "stream": "stdout",
       "text": [
        "695 15048\n"
       ]
      }
     ],
     "prompt_number": 42
    },
    {
     "cell_type": "code",
     "collapsed": false,
     "input": [
      "n_pos_images = int( ceil( IMAGES_PER_HIT * POS_NEG_SPLIT ) )\n",
      "n_neg_images = IMAGES_PER_HIT - n_pos_images\n",
      "\n",
      "print n_pos_images, n_neg_images"
     ],
     "language": "python",
     "metadata": {},
     "outputs": [
      {
       "output_type": "stream",
       "stream": "stdout",
       "text": [
        "5 5\n"
       ]
      }
     ],
     "prompt_number": 43
    },
    {
     "cell_type": "code",
     "collapsed": false,
     "input": [
      "DFs = []\n",
      "pcount = 0\n",
      "ncount = 0\n",
      "\n",
      "while pcount + ncount < TOTAL_IMAGES:\n",
      "    \n",
      "    # sample our rows\n",
      "    pdf = posdf[ pcount : pcount + n_pos_images ]\n",
      "    ndf = negdf[ ncount : ncount + n_neg_images ]\n",
      "    \n",
      "    # merge dfs\n",
      "    df = pd.concat( [ pdf, ndf ] )\n",
      "    \n",
      "    # shuffle\n",
      "    df = df.reindex( np.random.permutation( df.index ) )\n",
      "    \n",
      "    # add to list and increment counts\n",
      "    DFs += [ df ]\n",
      "    pcount += n_pos_images\n",
      "    ncount += n_neg_images"
     ],
     "language": "python",
     "metadata": {},
     "outputs": [],
     "prompt_number": 44
    },
    {
     "cell_type": "code",
     "collapsed": false,
     "input": [
      "len( DFs )"
     ],
     "language": "python",
     "metadata": {},
     "outputs": [
      {
       "metadata": {},
       "output_type": "pyout",
       "prompt_number": 45,
       "text": [
        "200"
       ]
      }
     ],
     "prompt_number": 45
    },
    {
     "cell_type": "code",
     "collapsed": false,
     "input": [
      "print DFs[0]['style_'+POS_STYLE]"
     ],
     "language": "python",
     "metadata": {},
     "outputs": [
      {
       "output_type": "stream",
       "stream": "stdout",
       "text": [
        "13310752643     True\n",
        "13309228593     True\n",
        "12474052284    False\n",
        "12478051833    False\n",
        "13305670474     True\n",
        "12524589634    False\n",
        "13311711475     True\n",
        "12497277695    False\n",
        "13305355894     True\n",
        "12494521125    False\n",
        "Name: style_Vintage, dtype: bool\n"
       ]
      }
     ],
     "prompt_number": 46
    },
    {
     "cell_type": "code",
     "collapsed": false,
     "input": [
      "DFs[0]"
     ],
     "language": "python",
     "metadata": {},
     "outputs": [
      {
       "html": [
        "<div style=\"max-height:1000px;max-width:1500px;overflow:auto;\">\n",
        "<table border=\"1\" class=\"dataframe\">\n",
        "  <thead>\n",
        "    <tr style=\"text-align: right;\">\n",
        "      <th></th>\n",
        "      <th>image_url</th>\n",
        "      <th>owner</th>\n",
        "      <th>page_url</th>\n",
        "      <th>style_Bokeh</th>\n",
        "      <th>style_Bright</th>\n",
        "      <th>style_Depth_of_Field</th>\n",
        "      <th>style_Detailed</th>\n",
        "      <th>style_Ethereal</th>\n",
        "      <th>style_Geometric_Composition</th>\n",
        "      <th>style_HDR</th>\n",
        "      <th>style_Hazy</th>\n",
        "      <th>style_Horror</th>\n",
        "      <th>style_Long_Exposure</th>\n",
        "      <th>style_Macro</th>\n",
        "      <th>style_Melancholy</th>\n",
        "      <th>style_Minimal</th>\n",
        "      <th>style_Noir</th>\n",
        "      <th>style_Pastel</th>\n",
        "      <th>style_Romantic</th>\n",
        "      <th>style_Serene</th>\n",
        "      <th></th>\n",
        "    </tr>\n",
        "  </thead>\n",
        "  <tbody>\n",
        "    <tr>\n",
        "      <th>13310752643</th>\n",
        "      <td> http://farm8.staticflickr.com/7425/13310752643...</td>\n",
        "      <td> 76740876@N07</td>\n",
        "      <td> http://www.flickr.com/photos/76740876@N07/1331...</td>\n",
        "      <td> False</td>\n",
        "      <td> False</td>\n",
        "      <td> False</td>\n",
        "      <td> False</td>\n",
        "      <td> False</td>\n",
        "      <td> False</td>\n",
        "      <td> False</td>\n",
        "      <td> False</td>\n",
        "      <td> False</td>\n",
        "      <td> False</td>\n",
        "      <td> False</td>\n",
        "      <td> False</td>\n",
        "      <td> False</td>\n",
        "      <td> False</td>\n",
        "      <td> False</td>\n",
        "      <td> False</td>\n",
        "      <td> False</td>\n",
        "      <td>...</td>\n",
        "    </tr>\n",
        "    <tr>\n",
        "      <th>13309228593</th>\n",
        "      <td> http://farm3.staticflickr.com/2806/13309228593...</td>\n",
        "      <td> 92819023@N02</td>\n",
        "      <td> http://www.flickr.com/photos/92819023@N02/1330...</td>\n",
        "      <td> False</td>\n",
        "      <td> False</td>\n",
        "      <td> False</td>\n",
        "      <td> False</td>\n",
        "      <td> False</td>\n",
        "      <td> False</td>\n",
        "      <td> False</td>\n",
        "      <td> False</td>\n",
        "      <td> False</td>\n",
        "      <td> False</td>\n",
        "      <td> False</td>\n",
        "      <td> False</td>\n",
        "      <td> False</td>\n",
        "      <td> False</td>\n",
        "      <td> False</td>\n",
        "      <td> False</td>\n",
        "      <td> False</td>\n",
        "      <td>...</td>\n",
        "    </tr>\n",
        "    <tr>\n",
        "      <th>12474052284</th>\n",
        "      <td> http://farm8.staticflickr.com/7421/12474052284...</td>\n",
        "      <td> 95601568@N02</td>\n",
        "      <td> http://www.flickr.com/photos/95601568@N02/1247...</td>\n",
        "      <td> False</td>\n",
        "      <td> False</td>\n",
        "      <td> False</td>\n",
        "      <td>  True</td>\n",
        "      <td> False</td>\n",
        "      <td> False</td>\n",
        "      <td> False</td>\n",
        "      <td> False</td>\n",
        "      <td> False</td>\n",
        "      <td> False</td>\n",
        "      <td> False</td>\n",
        "      <td> False</td>\n",
        "      <td> False</td>\n",
        "      <td> False</td>\n",
        "      <td> False</td>\n",
        "      <td> False</td>\n",
        "      <td> False</td>\n",
        "      <td>...</td>\n",
        "    </tr>\n",
        "    <tr>\n",
        "      <th>12478051833</th>\n",
        "      <td> http://farm8.staticflickr.com/7343/12478051833...</td>\n",
        "      <td> 93116352@N03</td>\n",
        "      <td> http://www.flickr.com/photos/93116352@N03/1247...</td>\n",
        "      <td> False</td>\n",
        "      <td> False</td>\n",
        "      <td> False</td>\n",
        "      <td>  True</td>\n",
        "      <td> False</td>\n",
        "      <td> False</td>\n",
        "      <td> False</td>\n",
        "      <td> False</td>\n",
        "      <td> False</td>\n",
        "      <td> False</td>\n",
        "      <td> False</td>\n",
        "      <td> False</td>\n",
        "      <td> False</td>\n",
        "      <td> False</td>\n",
        "      <td> False</td>\n",
        "      <td> False</td>\n",
        "      <td> False</td>\n",
        "      <td>...</td>\n",
        "    </tr>\n",
        "    <tr>\n",
        "      <th>13305670474</th>\n",
        "      <td> http://farm8.staticflickr.com/7229/13305670474...</td>\n",
        "      <td> 74038263@N07</td>\n",
        "      <td> http://www.flickr.com/photos/74038263@N07/1330...</td>\n",
        "      <td> False</td>\n",
        "      <td> False</td>\n",
        "      <td> False</td>\n",
        "      <td> False</td>\n",
        "      <td> False</td>\n",
        "      <td> False</td>\n",
        "      <td> False</td>\n",
        "      <td> False</td>\n",
        "      <td> False</td>\n",
        "      <td> False</td>\n",
        "      <td> False</td>\n",
        "      <td> False</td>\n",
        "      <td> False</td>\n",
        "      <td> False</td>\n",
        "      <td> False</td>\n",
        "      <td> False</td>\n",
        "      <td> False</td>\n",
        "      <td>...</td>\n",
        "    </tr>\n",
        "    <tr>\n",
        "      <th>12524589634</th>\n",
        "      <td> http://farm8.staticflickr.com/7364/12524589634...</td>\n",
        "      <td> 54063974@N03</td>\n",
        "      <td> http://www.flickr.com/photos/54063974@N03/1252...</td>\n",
        "      <td> False</td>\n",
        "      <td> False</td>\n",
        "      <td> False</td>\n",
        "      <td>  True</td>\n",
        "      <td> False</td>\n",
        "      <td> False</td>\n",
        "      <td> False</td>\n",
        "      <td> False</td>\n",
        "      <td> False</td>\n",
        "      <td> False</td>\n",
        "      <td> False</td>\n",
        "      <td> False</td>\n",
        "      <td> False</td>\n",
        "      <td> False</td>\n",
        "      <td> False</td>\n",
        "      <td> False</td>\n",
        "      <td> False</td>\n",
        "      <td>...</td>\n",
        "    </tr>\n",
        "    <tr>\n",
        "      <th>13311711475</th>\n",
        "      <td> http://farm8.staticflickr.com/7315/13311711475...</td>\n",
        "      <td> 76740876@N07</td>\n",
        "      <td> http://www.flickr.com/photos/76740876@N07/1331...</td>\n",
        "      <td> False</td>\n",
        "      <td> False</td>\n",
        "      <td> False</td>\n",
        "      <td> False</td>\n",
        "      <td> False</td>\n",
        "      <td> False</td>\n",
        "      <td> False</td>\n",
        "      <td> False</td>\n",
        "      <td> False</td>\n",
        "      <td> False</td>\n",
        "      <td> False</td>\n",
        "      <td> False</td>\n",
        "      <td> False</td>\n",
        "      <td> False</td>\n",
        "      <td> False</td>\n",
        "      <td> False</td>\n",
        "      <td> False</td>\n",
        "      <td>...</td>\n",
        "    </tr>\n",
        "    <tr>\n",
        "      <th>12497277695</th>\n",
        "      <td> http://farm8.staticflickr.com/7449/12497277695...</td>\n",
        "      <td> 97058572@N05</td>\n",
        "      <td> http://www.flickr.com/photos/97058572@N05/1249...</td>\n",
        "      <td> False</td>\n",
        "      <td> False</td>\n",
        "      <td> False</td>\n",
        "      <td>  True</td>\n",
        "      <td> False</td>\n",
        "      <td> False</td>\n",
        "      <td> False</td>\n",
        "      <td> False</td>\n",
        "      <td> False</td>\n",
        "      <td> False</td>\n",
        "      <td> False</td>\n",
        "      <td> False</td>\n",
        "      <td> False</td>\n",
        "      <td> False</td>\n",
        "      <td> False</td>\n",
        "      <td> False</td>\n",
        "      <td> False</td>\n",
        "      <td>...</td>\n",
        "    </tr>\n",
        "    <tr>\n",
        "      <th>13305355894</th>\n",
        "      <td> http://farm3.staticflickr.com/2876/13305355894...</td>\n",
        "      <td> 74038263@N07</td>\n",
        "      <td> http://www.flickr.com/photos/74038263@N07/1330...</td>\n",
        "      <td> False</td>\n",
        "      <td> False</td>\n",
        "      <td> False</td>\n",
        "      <td> False</td>\n",
        "      <td> False</td>\n",
        "      <td> False</td>\n",
        "      <td> False</td>\n",
        "      <td> False</td>\n",
        "      <td> False</td>\n",
        "      <td> False</td>\n",
        "      <td> False</td>\n",
        "      <td> False</td>\n",
        "      <td> False</td>\n",
        "      <td> False</td>\n",
        "      <td> False</td>\n",
        "      <td> False</td>\n",
        "      <td> False</td>\n",
        "      <td>...</td>\n",
        "    </tr>\n",
        "    <tr>\n",
        "      <th>12494521125</th>\n",
        "      <td> http://farm8.staticflickr.com/7382/12494521125...</td>\n",
        "      <td> 40036489@N00</td>\n",
        "      <td> http://www.flickr.com/photos/40036489@N00/1249...</td>\n",
        "      <td> False</td>\n",
        "      <td> False</td>\n",
        "      <td> False</td>\n",
        "      <td>  True</td>\n",
        "      <td> False</td>\n",
        "      <td> False</td>\n",
        "      <td> False</td>\n",
        "      <td> False</td>\n",
        "      <td> False</td>\n",
        "      <td> False</td>\n",
        "      <td> False</td>\n",
        "      <td> False</td>\n",
        "      <td> False</td>\n",
        "      <td> False</td>\n",
        "      <td> False</td>\n",
        "      <td> False</td>\n",
        "      <td> False</td>\n",
        "      <td>...</td>\n",
        "    </tr>\n",
        "  </tbody>\n",
        "</table>\n",
        "<p>10 rows \u00d7 24 columns</p>\n",
        "</div>"
       ],
       "metadata": {},
       "output_type": "pyout",
       "prompt_number": 47,
       "text": [
        "                                                     image_url         owner  \\\n",
        "13310752643  http://farm8.staticflickr.com/7425/13310752643...  76740876@N07   \n",
        "13309228593  http://farm3.staticflickr.com/2806/13309228593...  92819023@N02   \n",
        "12474052284  http://farm8.staticflickr.com/7421/12474052284...  95601568@N02   \n",
        "12478051833  http://farm8.staticflickr.com/7343/12478051833...  93116352@N03   \n",
        "13305670474  http://farm8.staticflickr.com/7229/13305670474...  74038263@N07   \n",
        "12524589634  http://farm8.staticflickr.com/7364/12524589634...  54063974@N03   \n",
        "13311711475  http://farm8.staticflickr.com/7315/13311711475...  76740876@N07   \n",
        "12497277695  http://farm8.staticflickr.com/7449/12497277695...  97058572@N05   \n",
        "13305355894  http://farm3.staticflickr.com/2876/13305355894...  74038263@N07   \n",
        "12494521125  http://farm8.staticflickr.com/7382/12494521125...  40036489@N00   \n",
        "\n",
        "                                                      page_url style_Bokeh  \\\n",
        "13310752643  http://www.flickr.com/photos/76740876@N07/1331...       False   \n",
        "13309228593  http://www.flickr.com/photos/92819023@N02/1330...       False   \n",
        "12474052284  http://www.flickr.com/photos/95601568@N02/1247...       False   \n",
        "12478051833  http://www.flickr.com/photos/93116352@N03/1247...       False   \n",
        "13305670474  http://www.flickr.com/photos/74038263@N07/1330...       False   \n",
        "12524589634  http://www.flickr.com/photos/54063974@N03/1252...       False   \n",
        "13311711475  http://www.flickr.com/photos/76740876@N07/1331...       False   \n",
        "12497277695  http://www.flickr.com/photos/97058572@N05/1249...       False   \n",
        "13305355894  http://www.flickr.com/photos/74038263@N07/1330...       False   \n",
        "12494521125  http://www.flickr.com/photos/40036489@N00/1249...       False   \n",
        "\n",
        "            style_Bright style_Depth_of_Field style_Detailed style_Ethereal  \\\n",
        "13310752643        False                False          False          False   \n",
        "13309228593        False                False          False          False   \n",
        "12474052284        False                False           True          False   \n",
        "12478051833        False                False           True          False   \n",
        "13305670474        False                False          False          False   \n",
        "12524589634        False                False           True          False   \n",
        "13311711475        False                False          False          False   \n",
        "12497277695        False                False           True          False   \n",
        "13305355894        False                False          False          False   \n",
        "12494521125        False                False           True          False   \n",
        "\n",
        "            style_Geometric_Composition style_HDR style_Hazy style_Horror  \\\n",
        "13310752643                       False     False      False        False   \n",
        "13309228593                       False     False      False        False   \n",
        "12474052284                       False     False      False        False   \n",
        "12478051833                       False     False      False        False   \n",
        "13305670474                       False     False      False        False   \n",
        "12524589634                       False     False      False        False   \n",
        "13311711475                       False     False      False        False   \n",
        "12497277695                       False     False      False        False   \n",
        "13305355894                       False     False      False        False   \n",
        "12494521125                       False     False      False        False   \n",
        "\n",
        "            style_Long_Exposure style_Macro style_Melancholy style_Minimal  \\\n",
        "13310752643               False       False            False         False   \n",
        "13309228593               False       False            False         False   \n",
        "12474052284               False       False            False         False   \n",
        "12478051833               False       False            False         False   \n",
        "13305670474               False       False            False         False   \n",
        "12524589634               False       False            False         False   \n",
        "13311711475               False       False            False         False   \n",
        "12497277695               False       False            False         False   \n",
        "13305355894               False       False            False         False   \n",
        "12494521125               False       False            False         False   \n",
        "\n",
        "            style_Noir style_Pastel style_Romantic style_Serene      \n",
        "13310752643      False        False          False        False ...  \n",
        "13309228593      False        False          False        False ...  \n",
        "12474052284      False        False          False        False ...  \n",
        "12478051833      False        False          False        False ...  \n",
        "13305670474      False        False          False        False ...  \n",
        "12524589634      False        False          False        False ...  \n",
        "13311711475      False        False          False        False ...  \n",
        "12497277695      False        False          False        False ...  \n",
        "13305355894      False        False          False        False ...  \n",
        "12494521125      False        False          False        False ...  \n",
        "\n",
        "[10 rows x 24 columns]"
       ]
      }
     ],
     "prompt_number": 47
    },
    {
     "cell_type": "markdown",
     "metadata": {},
     "source": [
      "## Automate"
     ]
    },
    {
     "cell_type": "code",
     "collapsed": false,
     "input": [
      "spam_images.values()[0]"
     ],
     "language": "python",
     "metadata": {},
     "outputs": [
      {
       "metadata": {},
       "output_type": "pyout",
       "prompt_number": 48,
       "text": [
        "['11433844095', '11156368195']"
       ]
      }
     ],
     "prompt_number": 48
    },
    {
     "cell_type": "code",
     "collapsed": false,
     "input": [
      "print spam_images.keys()[0]\n",
      "sdf = spam_df.ix[ spam_images.values()[0] ]\n",
      "sdf"
     ],
     "language": "python",
     "metadata": {},
     "outputs": [
      {
       "output_type": "stream",
       "stream": "stdout",
       "text": [
        "style_Sunny\n"
       ]
      },
      {
       "html": [
        "<div style=\"max-height:1000px;max-width:1500px;overflow:auto;\">\n",
        "<table border=\"1\" class=\"dataframe\">\n",
        "  <thead>\n",
        "    <tr style=\"text-align: right;\">\n",
        "      <th></th>\n",
        "      <th>image_url</th>\n",
        "      <th>owner</th>\n",
        "      <th>page_url</th>\n",
        "      <th>style_Bokeh</th>\n",
        "      <th>style_Bright</th>\n",
        "      <th>style_Depth_of_Field</th>\n",
        "      <th>style_Detailed</th>\n",
        "      <th>style_Ethereal</th>\n",
        "      <th>style_Geometric_Composition</th>\n",
        "      <th>style_HDR</th>\n",
        "      <th>style_Hazy</th>\n",
        "      <th>style_Horror</th>\n",
        "      <th>style_Long_Exposure</th>\n",
        "      <th>style_Macro</th>\n",
        "      <th>style_Melancholy</th>\n",
        "      <th>style_Minimal</th>\n",
        "      <th>style_Noir</th>\n",
        "      <th>style_Pastel</th>\n",
        "      <th>style_Romantic</th>\n",
        "      <th>style_Serene</th>\n",
        "      <th></th>\n",
        "    </tr>\n",
        "  </thead>\n",
        "  <tbody>\n",
        "    <tr>\n",
        "      <th>11433844095</th>\n",
        "      <td> http://farm6.staticflickr.com/5539/11433844095...</td>\n",
        "      <td> 90535787@N08</td>\n",
        "      <td> http://www.flickr.com/photos/90535787@N08/1143...</td>\n",
        "      <td> False</td>\n",
        "      <td> False</td>\n",
        "      <td> False</td>\n",
        "      <td> False</td>\n",
        "      <td> False</td>\n",
        "      <td> False</td>\n",
        "      <td> False</td>\n",
        "      <td> False</td>\n",
        "      <td> False</td>\n",
        "      <td> False</td>\n",
        "      <td> False</td>\n",
        "      <td> False</td>\n",
        "      <td> False</td>\n",
        "      <td> False</td>\n",
        "      <td> False</td>\n",
        "      <td> False</td>\n",
        "      <td> False</td>\n",
        "      <td>...</td>\n",
        "    </tr>\n",
        "    <tr>\n",
        "      <th>11156368195</th>\n",
        "      <td> http://farm8.staticflickr.com/7437/11156368195...</td>\n",
        "      <td> 48392371@N08</td>\n",
        "      <td> http://www.flickr.com/photos/48392371@N08/1115...</td>\n",
        "      <td> False</td>\n",
        "      <td> False</td>\n",
        "      <td> False</td>\n",
        "      <td> False</td>\n",
        "      <td> False</td>\n",
        "      <td> False</td>\n",
        "      <td> False</td>\n",
        "      <td> False</td>\n",
        "      <td> False</td>\n",
        "      <td> False</td>\n",
        "      <td> False</td>\n",
        "      <td> False</td>\n",
        "      <td> False</td>\n",
        "      <td> False</td>\n",
        "      <td> False</td>\n",
        "      <td> False</td>\n",
        "      <td> False</td>\n",
        "      <td>...</td>\n",
        "    </tr>\n",
        "  </tbody>\n",
        "</table>\n",
        "<p>2 rows \u00d7 24 columns</p>\n",
        "</div>"
       ],
       "metadata": {},
       "output_type": "pyout",
       "prompt_number": 49,
       "text": [
        "                                                     image_url         owner  \\\n",
        "11433844095  http://farm6.staticflickr.com/5539/11433844095...  90535787@N08   \n",
        "11156368195  http://farm8.staticflickr.com/7437/11156368195...  48392371@N08   \n",
        "\n",
        "                                                      page_url style_Bokeh  \\\n",
        "11433844095  http://www.flickr.com/photos/90535787@N08/1143...       False   \n",
        "11156368195  http://www.flickr.com/photos/48392371@N08/1115...       False   \n",
        "\n",
        "            style_Bright style_Depth_of_Field style_Detailed style_Ethereal  \\\n",
        "11433844095        False                False          False          False   \n",
        "11156368195        False                False          False          False   \n",
        "\n",
        "            style_Geometric_Composition style_HDR style_Hazy style_Horror  \\\n",
        "11433844095                       False     False      False        False   \n",
        "11156368195                       False     False      False        False   \n",
        "\n",
        "            style_Long_Exposure style_Macro style_Melancholy style_Minimal  \\\n",
        "11433844095               False       False            False         False   \n",
        "11156368195               False       False            False         False   \n",
        "\n",
        "            style_Noir style_Pastel style_Romantic style_Serene      \n",
        "11433844095      False        False          False        False ...  \n",
        "11156368195      False        False          False        False ...  \n",
        "\n",
        "[2 rows x 24 columns]"
       ]
      }
     ],
     "prompt_number": 49
    },
    {
     "cell_type": "code",
     "collapsed": false,
     "input": [
      "def dfs_for_style( style ):\n",
      "    \n",
      "    # df style name\n",
      "    pos_style = style\n",
      "    slug = slugify\n",
      "    \n",
      "    # split dfs into those containing and not containing the test style\n",
      "    posdf = work_df[ work_df[pos_style] == True ]\n",
      "    negdf = work_df[ work_df[pos_style] == False ]\n",
      "        \n",
      "    # shuffle negative examples\n",
      "    negdf = negdf.reindex( np.random.permutation( negdf.index ) )\n",
      "    \n",
      "    DFs = []\n",
      "    pcount = 0\n",
      "    ncount = 0\n",
      "\n",
      "    while pcount + ncount < TOTAL_IMAGES:\n",
      "        \n",
      "        # sample our rows\n",
      "        pdf = posdf[ pcount : pcount + n_pos_images ]\n",
      "        ndf = negdf[ ncount : ncount + n_neg_images ]\n",
      "        \n",
      "        sdf = spam_df.ix[ spam_images[style] ]\n",
      "        \n",
      "        # merge dfs\n",
      "        df = pd.concat( [ pdf, ndf, sdf ] )\n",
      "        \n",
      "        # shuffle\n",
      "        df = df.reindex( np.random.permutation( df.index ) )\n",
      "        \n",
      "        # add to list and increment counts\n",
      "        DFs += [ df ]\n",
      "        pcount += n_pos_images\n",
      "        ncount += n_neg_images\n",
      "        \n",
      "    return DFs"
     ],
     "language": "python",
     "metadata": {},
     "outputs": [],
     "prompt_number": 50
    },
    {
     "cell_type": "code",
     "collapsed": false,
     "input": [
      "len( work_df )"
     ],
     "language": "python",
     "metadata": {},
     "outputs": [
      {
       "metadata": {},
       "output_type": "pyout",
       "prompt_number": 55,
       "text": [
        "15943"
       ]
      }
     ],
     "prompt_number": 55
    },
    {
     "cell_type": "code",
     "collapsed": false,
     "input": [
      "DFs_dict = {}\n",
      "\n",
      "for key, value in style_dict.items():\n",
      "    DFs_dict[key] = dfs_for_style( value[1] )"
     ],
     "language": "python",
     "metadata": {},
     "outputs": [],
     "prompt_number": 51
    },
    {
     "cell_type": "code",
     "collapsed": false,
     "input": [
      "len( DFs_dict.values()[0] )"
     ],
     "language": "python",
     "metadata": {},
     "outputs": [
      {
       "metadata": {},
       "output_type": "pyout",
       "prompt_number": 52,
       "text": [
        "200"
       ]
      }
     ],
     "prompt_number": 52
    },
    {
     "cell_type": "code",
     "collapsed": false,
     "input": [
      "DFs_dict.values()[0][0]"
     ],
     "language": "python",
     "metadata": {},
     "outputs": [
      {
       "html": [
        "<div style=\"max-height:1000px;max-width:1500px;overflow:auto;\">\n",
        "<table border=\"1\" class=\"dataframe\">\n",
        "  <thead>\n",
        "    <tr style=\"text-align: right;\">\n",
        "      <th></th>\n",
        "      <th>image_url</th>\n",
        "      <th>owner</th>\n",
        "      <th>page_url</th>\n",
        "      <th>style_Bokeh</th>\n",
        "      <th>style_Bright</th>\n",
        "      <th>style_Depth_of_Field</th>\n",
        "      <th>style_Detailed</th>\n",
        "      <th>style_Ethereal</th>\n",
        "      <th>style_Geometric_Composition</th>\n",
        "      <th>style_HDR</th>\n",
        "      <th>style_Hazy</th>\n",
        "      <th>style_Horror</th>\n",
        "      <th>style_Long_Exposure</th>\n",
        "      <th>style_Macro</th>\n",
        "      <th>style_Melancholy</th>\n",
        "      <th>style_Minimal</th>\n",
        "      <th>style_Noir</th>\n",
        "      <th>style_Pastel</th>\n",
        "      <th>style_Romantic</th>\n",
        "      <th>style_Serene</th>\n",
        "      <th></th>\n",
        "    </tr>\n",
        "  </thead>\n",
        "  <tbody>\n",
        "    <tr>\n",
        "      <th>12678909473</th>\n",
        "      <td> http://farm8.staticflickr.com/7301/12678909473...</td>\n",
        "      <td>  25238068@N04</td>\n",
        "      <td> http://www.flickr.com/photos/25238068@N04/1267...</td>\n",
        "      <td> False</td>\n",
        "      <td> False</td>\n",
        "      <td> False</td>\n",
        "      <td>  True</td>\n",
        "      <td> False</td>\n",
        "      <td> False</td>\n",
        "      <td> False</td>\n",
        "      <td> False</td>\n",
        "      <td> False</td>\n",
        "      <td> False</td>\n",
        "      <td> False</td>\n",
        "      <td> False</td>\n",
        "      <td> False</td>\n",
        "      <td> False</td>\n",
        "      <td> False</td>\n",
        "      <td> False</td>\n",
        "      <td> False</td>\n",
        "      <td>...</td>\n",
        "    </tr>\n",
        "    <tr>\n",
        "      <th>12829211004</th>\n",
        "      <td> http://farm8.staticflickr.com/7372/12829211004...</td>\n",
        "      <td>  21796240@N06</td>\n",
        "      <td> http://www.flickr.com/photos/21796240@N06/1282...</td>\n",
        "      <td> False</td>\n",
        "      <td> False</td>\n",
        "      <td> False</td>\n",
        "      <td> False</td>\n",
        "      <td> False</td>\n",
        "      <td>  True</td>\n",
        "      <td> False</td>\n",
        "      <td> False</td>\n",
        "      <td> False</td>\n",
        "      <td> False</td>\n",
        "      <td> False</td>\n",
        "      <td> False</td>\n",
        "      <td> False</td>\n",
        "      <td> False</td>\n",
        "      <td> False</td>\n",
        "      <td> False</td>\n",
        "      <td> False</td>\n",
        "      <td>...</td>\n",
        "    </tr>\n",
        "    <tr>\n",
        "      <th>12990020223</th>\n",
        "      <td> http://farm8.staticflickr.com/7381/12990020223...</td>\n",
        "      <td>  94734311@N03</td>\n",
        "      <td> http://www.flickr.com/photos/94734311@N03/1299...</td>\n",
        "      <td> False</td>\n",
        "      <td> False</td>\n",
        "      <td> False</td>\n",
        "      <td> False</td>\n",
        "      <td> False</td>\n",
        "      <td> False</td>\n",
        "      <td> False</td>\n",
        "      <td> False</td>\n",
        "      <td> False</td>\n",
        "      <td> False</td>\n",
        "      <td> False</td>\n",
        "      <td> False</td>\n",
        "      <td> False</td>\n",
        "      <td> False</td>\n",
        "      <td> False</td>\n",
        "      <td> False</td>\n",
        "      <td> False</td>\n",
        "      <td>...</td>\n",
        "    </tr>\n",
        "    <tr>\n",
        "      <th>13161312274</th>\n",
        "      <td> http://farm8.staticflickr.com/7172/13161312274...</td>\n",
        "      <td> 104118717@N06</td>\n",
        "      <td> http://www.flickr.com/photos/104118717@N06/131...</td>\n",
        "      <td> False</td>\n",
        "      <td> False</td>\n",
        "      <td> False</td>\n",
        "      <td>  True</td>\n",
        "      <td> False</td>\n",
        "      <td> False</td>\n",
        "      <td> False</td>\n",
        "      <td> False</td>\n",
        "      <td> False</td>\n",
        "      <td> False</td>\n",
        "      <td> False</td>\n",
        "      <td> False</td>\n",
        "      <td> False</td>\n",
        "      <td> False</td>\n",
        "      <td> False</td>\n",
        "      <td> False</td>\n",
        "      <td> False</td>\n",
        "      <td>...</td>\n",
        "    </tr>\n",
        "    <tr>\n",
        "      <th>9584007214</th>\n",
        "      <td> http://farm4.staticflickr.com/3793/9584007214_...</td>\n",
        "      <td>  46566506@N03</td>\n",
        "      <td> http://www.flickr.com/photos/46566506@N03/9584...</td>\n",
        "      <td> False</td>\n",
        "      <td> False</td>\n",
        "      <td> False</td>\n",
        "      <td>  True</td>\n",
        "      <td> False</td>\n",
        "      <td> False</td>\n",
        "      <td> False</td>\n",
        "      <td> False</td>\n",
        "      <td> False</td>\n",
        "      <td> False</td>\n",
        "      <td> False</td>\n",
        "      <td> False</td>\n",
        "      <td> False</td>\n",
        "      <td> False</td>\n",
        "      <td> False</td>\n",
        "      <td> False</td>\n",
        "      <td> False</td>\n",
        "      <td>...</td>\n",
        "    </tr>\n",
        "    <tr>\n",
        "      <th>13238489435</th>\n",
        "      <td> http://farm8.staticflickr.com/7073/13238489435...</td>\n",
        "      <td>  29354962@N03</td>\n",
        "      <td> http://www.flickr.com/photos/29354962@N03/1323...</td>\n",
        "      <td> False</td>\n",
        "      <td> False</td>\n",
        "      <td> False</td>\n",
        "      <td>  True</td>\n",
        "      <td> False</td>\n",
        "      <td> False</td>\n",
        "      <td> False</td>\n",
        "      <td> False</td>\n",
        "      <td> False</td>\n",
        "      <td> False</td>\n",
        "      <td> False</td>\n",
        "      <td> False</td>\n",
        "      <td> False</td>\n",
        "      <td> False</td>\n",
        "      <td> False</td>\n",
        "      <td> False</td>\n",
        "      <td> False</td>\n",
        "      <td>...</td>\n",
        "    </tr>\n",
        "    <tr>\n",
        "      <th>13173247293</th>\n",
        "      <td> http://farm4.staticflickr.com/3768/13173247293...</td>\n",
        "      <td>  55560848@N06</td>\n",
        "      <td> http://www.flickr.com/photos/55560848@N06/1317...</td>\n",
        "      <td> False</td>\n",
        "      <td> False</td>\n",
        "      <td> False</td>\n",
        "      <td>  True</td>\n",
        "      <td> False</td>\n",
        "      <td> False</td>\n",
        "      <td> False</td>\n",
        "      <td> False</td>\n",
        "      <td> False</td>\n",
        "      <td> False</td>\n",
        "      <td> False</td>\n",
        "      <td> False</td>\n",
        "      <td> False</td>\n",
        "      <td> False</td>\n",
        "      <td> False</td>\n",
        "      <td> False</td>\n",
        "      <td> False</td>\n",
        "      <td>...</td>\n",
        "    </tr>\n",
        "    <tr>\n",
        "      <th>13165266645</th>\n",
        "      <td> http://farm3.staticflickr.com/2048/13165266645...</td>\n",
        "      <td>  24773750@N08</td>\n",
        "      <td> http://www.flickr.com/photos/24773750@N08/1316...</td>\n",
        "      <td> False</td>\n",
        "      <td> False</td>\n",
        "      <td> False</td>\n",
        "      <td>  True</td>\n",
        "      <td> False</td>\n",
        "      <td> False</td>\n",
        "      <td> False</td>\n",
        "      <td> False</td>\n",
        "      <td> False</td>\n",
        "      <td> False</td>\n",
        "      <td> False</td>\n",
        "      <td> False</td>\n",
        "      <td> False</td>\n",
        "      <td> False</td>\n",
        "      <td> False</td>\n",
        "      <td> False</td>\n",
        "      <td> False</td>\n",
        "      <td>...</td>\n",
        "    </tr>\n",
        "    <tr>\n",
        "      <th>11975489905</th>\n",
        "      <td> http://farm6.staticflickr.com/5521/11975489905...</td>\n",
        "      <td> 101037172@N04</td>\n",
        "      <td> http://www.flickr.com/photos/101037172@N04/119...</td>\n",
        "      <td> False</td>\n",
        "      <td> False</td>\n",
        "      <td> False</td>\n",
        "      <td> False</td>\n",
        "      <td>  True</td>\n",
        "      <td> False</td>\n",
        "      <td> False</td>\n",
        "      <td> False</td>\n",
        "      <td> False</td>\n",
        "      <td> False</td>\n",
        "      <td> False</td>\n",
        "      <td> False</td>\n",
        "      <td> False</td>\n",
        "      <td> False</td>\n",
        "      <td> False</td>\n",
        "      <td> False</td>\n",
        "      <td> False</td>\n",
        "      <td>...</td>\n",
        "    </tr>\n",
        "    <tr>\n",
        "      <th>9615079404</th>\n",
        "      <td> http://farm8.staticflickr.com/7458/9615079404_...</td>\n",
        "      <td>  35541543@N08</td>\n",
        "      <td> http://www.flickr.com/photos/35541543@N08/9615...</td>\n",
        "      <td> False</td>\n",
        "      <td> False</td>\n",
        "      <td> False</td>\n",
        "      <td> False</td>\n",
        "      <td> False</td>\n",
        "      <td> False</td>\n",
        "      <td> False</td>\n",
        "      <td>  True</td>\n",
        "      <td> False</td>\n",
        "      <td> False</td>\n",
        "      <td> False</td>\n",
        "      <td> False</td>\n",
        "      <td> False</td>\n",
        "      <td> False</td>\n",
        "      <td> False</td>\n",
        "      <td> False</td>\n",
        "      <td> False</td>\n",
        "      <td>...</td>\n",
        "    </tr>\n",
        "    <tr>\n",
        "      <th>12652109395</th>\n",
        "      <td> http://farm4.staticflickr.com/3695/12652109395...</td>\n",
        "      <td>  37845580@N08</td>\n",
        "      <td> http://www.flickr.com/photos/37845580@N08/1265...</td>\n",
        "      <td> False</td>\n",
        "      <td> False</td>\n",
        "      <td> False</td>\n",
        "      <td> False</td>\n",
        "      <td> False</td>\n",
        "      <td> False</td>\n",
        "      <td> False</td>\n",
        "      <td> False</td>\n",
        "      <td> False</td>\n",
        "      <td> False</td>\n",
        "      <td> False</td>\n",
        "      <td>  True</td>\n",
        "      <td> False</td>\n",
        "      <td> False</td>\n",
        "      <td> False</td>\n",
        "      <td> False</td>\n",
        "      <td> False</td>\n",
        "      <td>...</td>\n",
        "    </tr>\n",
        "    <tr>\n",
        "      <th>13244621853</th>\n",
        "      <td> http://farm4.staticflickr.com/3668/13244621853...</td>\n",
        "      <td> 116179736@N08</td>\n",
        "      <td> http://www.flickr.com/photos/116179736@N08/132...</td>\n",
        "      <td> False</td>\n",
        "      <td> False</td>\n",
        "      <td> False</td>\n",
        "      <td>  True</td>\n",
        "      <td> False</td>\n",
        "      <td> False</td>\n",
        "      <td> False</td>\n",
        "      <td> False</td>\n",
        "      <td> False</td>\n",
        "      <td> False</td>\n",
        "      <td> False</td>\n",
        "      <td> False</td>\n",
        "      <td> False</td>\n",
        "      <td> False</td>\n",
        "      <td> False</td>\n",
        "      <td> False</td>\n",
        "      <td> False</td>\n",
        "      <td>...</td>\n",
        "    </tr>\n",
        "  </tbody>\n",
        "</table>\n",
        "<p>12 rows \u00d7 24 columns</p>\n",
        "</div>"
       ],
       "metadata": {},
       "output_type": "pyout",
       "prompt_number": 53,
       "text": [
        "                                                     image_url          owner  \\\n",
        "12678909473  http://farm8.staticflickr.com/7301/12678909473...   25238068@N04   \n",
        "12829211004  http://farm8.staticflickr.com/7372/12829211004...   21796240@N06   \n",
        "12990020223  http://farm8.staticflickr.com/7381/12990020223...   94734311@N03   \n",
        "13161312274  http://farm8.staticflickr.com/7172/13161312274...  104118717@N06   \n",
        "9584007214   http://farm4.staticflickr.com/3793/9584007214_...   46566506@N03   \n",
        "13238489435  http://farm8.staticflickr.com/7073/13238489435...   29354962@N03   \n",
        "13173247293  http://farm4.staticflickr.com/3768/13173247293...   55560848@N06   \n",
        "13165266645  http://farm3.staticflickr.com/2048/13165266645...   24773750@N08   \n",
        "11975489905  http://farm6.staticflickr.com/5521/11975489905...  101037172@N04   \n",
        "9615079404   http://farm8.staticflickr.com/7458/9615079404_...   35541543@N08   \n",
        "12652109395  http://farm4.staticflickr.com/3695/12652109395...   37845580@N08   \n",
        "13244621853  http://farm4.staticflickr.com/3668/13244621853...  116179736@N08   \n",
        "\n",
        "                                                      page_url style_Bokeh  \\\n",
        "12678909473  http://www.flickr.com/photos/25238068@N04/1267...       False   \n",
        "12829211004  http://www.flickr.com/photos/21796240@N06/1282...       False   \n",
        "12990020223  http://www.flickr.com/photos/94734311@N03/1299...       False   \n",
        "13161312274  http://www.flickr.com/photos/104118717@N06/131...       False   \n",
        "9584007214   http://www.flickr.com/photos/46566506@N03/9584...       False   \n",
        "13238489435  http://www.flickr.com/photos/29354962@N03/1323...       False   \n",
        "13173247293  http://www.flickr.com/photos/55560848@N06/1317...       False   \n",
        "13165266645  http://www.flickr.com/photos/24773750@N08/1316...       False   \n",
        "11975489905  http://www.flickr.com/photos/101037172@N04/119...       False   \n",
        "9615079404   http://www.flickr.com/photos/35541543@N08/9615...       False   \n",
        "12652109395  http://www.flickr.com/photos/37845580@N08/1265...       False   \n",
        "13244621853  http://www.flickr.com/photos/116179736@N08/132...       False   \n",
        "\n",
        "            style_Bright style_Depth_of_Field style_Detailed style_Ethereal  \\\n",
        "12678909473        False                False           True          False   \n",
        "12829211004        False                False          False          False   \n",
        "12990020223        False                False          False          False   \n",
        "13161312274        False                False           True          False   \n",
        "9584007214         False                False           True          False   \n",
        "13238489435        False                False           True          False   \n",
        "13173247293        False                False           True          False   \n",
        "13165266645        False                False           True          False   \n",
        "11975489905        False                False          False           True   \n",
        "9615079404         False                False          False          False   \n",
        "12652109395        False                False          False          False   \n",
        "13244621853        False                False           True          False   \n",
        "\n",
        "            style_Geometric_Composition style_HDR style_Hazy style_Horror  \\\n",
        "12678909473                       False     False      False        False   \n",
        "12829211004                        True     False      False        False   \n",
        "12990020223                       False     False      False        False   \n",
        "13161312274                       False     False      False        False   \n",
        "9584007214                        False     False      False        False   \n",
        "13238489435                       False     False      False        False   \n",
        "13173247293                       False     False      False        False   \n",
        "13165266645                       False     False      False        False   \n",
        "11975489905                       False     False      False        False   \n",
        "9615079404                        False     False       True        False   \n",
        "12652109395                       False     False      False        False   \n",
        "13244621853                       False     False      False        False   \n",
        "\n",
        "            style_Long_Exposure style_Macro style_Melancholy style_Minimal  \\\n",
        "12678909473               False       False            False         False   \n",
        "12829211004               False       False            False         False   \n",
        "12990020223               False       False            False         False   \n",
        "13161312274               False       False            False         False   \n",
        "9584007214                False       False            False         False   \n",
        "13238489435               False       False            False         False   \n",
        "13173247293               False       False            False         False   \n",
        "13165266645               False       False            False         False   \n",
        "11975489905               False       False            False         False   \n",
        "9615079404                False       False            False         False   \n",
        "12652109395               False       False             True         False   \n",
        "13244621853               False       False            False         False   \n",
        "\n",
        "            style_Noir style_Pastel style_Romantic style_Serene      \n",
        "12678909473      False        False          False        False ...  \n",
        "12829211004      False        False          False        False ...  \n",
        "12990020223      False        False          False        False ...  \n",
        "13161312274      False        False          False        False ...  \n",
        "9584007214       False        False          False        False ...  \n",
        "13238489435      False        False          False        False ...  \n",
        "13173247293      False        False          False        False ...  \n",
        "13165266645      False        False          False        False ...  \n",
        "11975489905      False        False          False        False ...  \n",
        "9615079404       False        False          False        False ...  \n",
        "12652109395      False        False          False        False ...  \n",
        "13244621853      False        False          False        False ...  \n",
        "\n",
        "[12 rows x 24 columns]"
       ]
      }
     ],
     "prompt_number": 53
    },
    {
     "cell_type": "code",
     "collapsed": false,
     "input": [
      "DFs_dict.values()[12][100]['_split']"
     ],
     "language": "python",
     "metadata": {},
     "outputs": [
      {
       "metadata": {},
       "output_type": "pyout",
       "prompt_number": 83,
       "text": [
        "8439461605      test\n",
        "8123136180     train\n",
        "10429156425     test\n",
        "8435844066      test\n",
        "10089921243     test\n",
        "12881263193     test\n",
        "8438583365      test\n",
        "10903576085     test\n",
        "8439460799      test\n",
        "8444616879      test\n",
        "8710649981     train\n",
        "13135588845     test\n",
        "Name: _split, dtype: object"
       ]
      }
     ],
     "prompt_number": 83
    },
    {
     "cell_type": "code",
     "collapsed": false,
     "input": [
      "for dfs in DFs_dict.values():\n",
      "    for i in range(200):\n",
      "        df = dfs[i]\n",
      "        if len( df[ df['_split'] == 'train' ] ) != 2:\n",
      "            print 'DANGER'"
     ],
     "language": "python",
     "metadata": {},
     "outputs": [],
     "prompt_number": 85
    },
    {
     "cell_type": "code",
     "collapsed": false,
     "input": [
      "import pickle"
     ],
     "language": "python",
     "metadata": {},
     "outputs": [],
     "prompt_number": 68
    },
    {
     "cell_type": "code",
     "collapsed": false,
     "input": [
      "pickle.dump( DFs_dict, open( '../../DFs_dict_spam.pickle', 'w' ) )"
     ],
     "language": "python",
     "metadata": {},
     "outputs": [],
     "prompt_number": 69
    },
    {
     "cell_type": "code",
     "collapsed": false,
     "input": [
      "# DFs_dict = pickle.load( open( '../../DFs_dict.pickle' ) )"
     ],
     "language": "python",
     "metadata": {},
     "outputs": [
      {
       "ename": "NameError",
       "evalue": "name 'pickle' is not defined",
       "output_type": "pyerr",
       "traceback": [
        "\u001b[0;31m---------------------------------------------------------------------------\u001b[0m\n\u001b[0;31mNameError\u001b[0m                                 Traceback (most recent call last)",
        "\u001b[0;32m<ipython-input-104-cb4796bb7aa1>\u001b[0m in \u001b[0;36m<module>\u001b[0;34m()\u001b[0m\n\u001b[0;32m----> 1\u001b[0;31m \u001b[0mDFs_dict\u001b[0m \u001b[0;34m=\u001b[0m \u001b[0mpickle\u001b[0m\u001b[0;34m.\u001b[0m\u001b[0mload\u001b[0m\u001b[0;34m(\u001b[0m \u001b[0mopen\u001b[0m\u001b[0;34m(\u001b[0m \u001b[0;34m'../../DFs_dict_spam.pickle'\u001b[0m \u001b[0;34m)\u001b[0m \u001b[0;34m)\u001b[0m\u001b[0;34m\u001b[0m\u001b[0m\n\u001b[0m",
        "\u001b[0;31mNameError\u001b[0m: name 'pickle' is not defined"
       ]
      }
     ],
     "prompt_number": 104
    },
    {
     "cell_type": "markdown",
     "metadata": {},
     "source": [
      "# Test sample dataframes"
     ]
    },
    {
     "cell_type": "code",
     "collapsed": false,
     "input": [
      "style = 'hazy'\n",
      "print create_hit_url( style_dict[style][0], DFs_dict[style][0], debug=True )"
     ],
     "language": "python",
     "metadata": {},
     "outputs": [
      {
       "output_type": "stream",
       "stream": "stdout",
       "text": [
        "https://image-style-mturk.herokuapp.com/?debug=True&tagName=hazy&imgIds=13224007173%2C13237466025%2C11467028096%2C13188357463%2C13223200623%2C13149167043%2C8123136180%2C8710649981%2C12809893093%2C9437592601%2C13220215943%2C8742530393\n"
       ]
      }
     ],
     "prompt_number": 70
    },
    {
     "cell_type": "markdown",
     "metadata": {},
     "source": [
      "# Setup MTurk"
     ]
    },
    {
     "cell_type": "code",
     "collapsed": false,
     "input": [
      "# create the mturk connection\n",
      "MTC = MTurkConnection(aws_access_key_id=AWS_ACCESS_KEY_ID,\n",
      "                      aws_secret_access_key=AWS_SECRET_ACCESS_KEY,\n",
      "                      host=AWS_HOST,is_secure=True)"
     ],
     "language": "python",
     "metadata": {},
     "outputs": [],
     "prompt_number": 71
    },
    {
     "cell_type": "code",
     "collapsed": false,
     "input": [
      "style_HITs = pickle.load( open( '../../style_HITs.pickle' ) )"
     ],
     "language": "python",
     "metadata": {},
     "outputs": [],
     "prompt_number": 72
    },
    {
     "cell_type": "code",
     "collapsed": false,
     "input": [
      "# create the hit\n",
      "style_HITs = {}\n",
      "for key, value in style_dict.items():\n",
      "    style_HITs[key] = MTC.register_hit_type( \n",
      "        HIT_TITLE.format( value[0] ), \n",
      "        HIT_DESC.format( value[0] ), \n",
      "        Price(HIT_PRICE), \n",
      "        HIT_DURATION\n",
      "    )"
     ],
     "language": "python",
     "metadata": {},
     "outputs": [],
     "prompt_number": 41
    },
    {
     "cell_type": "code",
     "collapsed": false,
     "input": [
      "#import pickle\n",
      "#pickle.dump( style_HITs, open( '../../style_HITs.pickle', 'w' ) )"
     ],
     "language": "python",
     "metadata": {},
     "outputs": [],
     "prompt_number": 43
    },
    {
     "cell_type": "code",
     "collapsed": false,
     "input": [
      "print style_HITs.items()[0]"
     ],
     "language": "python",
     "metadata": {},
     "outputs": [
      {
       "output_type": "stream",
       "stream": "stdout",
       "text": [
        "(u'detailed', [<boto.mturk.connection.HITTypeId object at 0x10e347390>])\n"
       ]
      }
     ],
     "prompt_number": 73
    },
    {
     "cell_type": "code",
     "collapsed": false,
     "input": [
      "#only get people with a good approval rating\n",
      "qual = Qualifications()\n",
      "qual.add( PercentAssignmentsApprovedRequirement( comparator=\"GreaterThan\", integer_value=\"95\" ) )\n",
      "# qual.add( NumberHitsApprovedRequirement( comparator=\"GreaterThan\", integer_value=\"5000\" ) )"
     ],
     "language": "python",
     "metadata": {},
     "outputs": [],
     "prompt_number": 74
    },
    {
     "cell_type": "markdown",
     "metadata": {},
     "source": [
      "# Create HITS"
     ]
    },
    {
     "cell_type": "code",
     "collapsed": false,
     "input": [
      "%qtconsole"
     ],
     "language": "python",
     "metadata": {},
     "outputs": [],
     "prompt_number": 262
    },
    {
     "cell_type": "code",
     "collapsed": false,
     "input": [
      "hitlist = []"
     ],
     "language": "python",
     "metadata": {},
     "outputs": [],
     "prompt_number": 75
    },
    {
     "cell_type": "code",
     "collapsed": false,
     "input": [
      "def release_hit_batch( count ):\n",
      "\n",
      "    hitlist = []\n",
      "\n",
      "    for key, value in style_dict.items():\n",
      "\n",
      "        if count >= len( DFs_dict[key] ):\n",
      "            break\n",
      "\n",
      "        hit = style_HITs[key]\n",
      "\n",
      "        df  = DFs_dict[key][count]    \n",
      "        eq  = ExternalQuestion( create_hit_url( value[0], df ), 640 )\n",
      "\n",
      "        hit_title = HIT_TITLE.format( value[0] )\n",
      "        hit_desc  = HIT_DESC.format( value[0] )\n",
      "\n",
      "        hit_set = MTC.create_hit(\n",
      "            hit_type = hit[0].HITTypeId, \n",
      "            question = eq,\n",
      "            max_assignments = HIT_REPEAT,\n",
      "            title = hit_title,\n",
      "            description = hit_desc,\n",
      "            reward = HIT_PRICE,\n",
      "            qualifications = qual,\n",
      "            keywords = HIT_KEYWORDS,\n",
      "            duration = datetime.timedelta( minutes=60 )\n",
      "        )\n",
      "\n",
      "        hitlist += [ hit_set[0] ]\n",
      "\n",
      "    print datetime.datetime.now(), count\n",
      "    ff = open( '../../count.txt', 'a' )\n",
      "    ff.write( '{} {}\\n'.format( datetime.datetime.now().isoformat(), count ) )\n",
      "    ff.close()\n",
      "\n",
      "    return hitlist"
     ],
     "language": "python",
     "metadata": {},
     "outputs": [],
     "prompt_number": 76
    },
    {
     "cell_type": "code",
     "collapsed": false,
     "input": [
      "for i in range( 44, 200 ):\n",
      "    hitlist += release_hit_batch( i )"
     ],
     "language": "python",
     "metadata": {},
     "outputs": [
      {
       "output_type": "stream",
       "stream": "stdout",
       "text": [
        "2014-05-08 18:00:52.432371 44\n",
        "2014-05-08 18:00:58.558614"
       ]
      },
      {
       "output_type": "stream",
       "stream": "stdout",
       "text": [
        " 45\n",
        "2014-05-08 18:01:03.902936"
       ]
      },
      {
       "output_type": "stream",
       "stream": "stdout",
       "text": [
        " 46\n",
        "2014-05-08 18:01:09.738456"
       ]
      },
      {
       "output_type": "stream",
       "stream": "stdout",
       "text": [
        " 47\n",
        "2014-05-08 18:01:15.186643"
       ]
      },
      {
       "output_type": "stream",
       "stream": "stdout",
       "text": [
        " 48\n",
        "2014-05-08 18:01:21.156411"
       ]
      },
      {
       "output_type": "stream",
       "stream": "stdout",
       "text": [
        " 49\n",
        "2014-05-08 18:01:26.351587"
       ]
      },
      {
       "output_type": "stream",
       "stream": "stdout",
       "text": [
        " 50\n",
        "2014-05-08 18:01:31.780414"
       ]
      },
      {
       "output_type": "stream",
       "stream": "stdout",
       "text": [
        " 51\n",
        "2014-05-08 18:01:36.994168"
       ]
      },
      {
       "output_type": "stream",
       "stream": "stdout",
       "text": [
        " 52\n",
        "2014-05-08 18:01:42.782903"
       ]
      },
      {
       "output_type": "stream",
       "stream": "stdout",
       "text": [
        " 53\n",
        "2014-05-08 18:01:48.527965"
       ]
      },
      {
       "output_type": "stream",
       "stream": "stdout",
       "text": [
        " 54\n",
        "2014-05-08 18:01:54.147723"
       ]
      },
      {
       "output_type": "stream",
       "stream": "stdout",
       "text": [
        " 55\n",
        "2014-05-08 18:01:59.328678"
       ]
      },
      {
       "output_type": "stream",
       "stream": "stdout",
       "text": [
        " 56\n",
        "2014-05-08 18:02:04.376132"
       ]
      },
      {
       "output_type": "stream",
       "stream": "stdout",
       "text": [
        " 57\n",
        "2014-05-08 18:02:09.790588"
       ]
      },
      {
       "output_type": "stream",
       "stream": "stdout",
       "text": [
        " 58\n",
        "2014-05-08 18:02:15.769178"
       ]
      },
      {
       "output_type": "stream",
       "stream": "stdout",
       "text": [
        " 59\n",
        "2014-05-08 18:02:21.311152"
       ]
      },
      {
       "output_type": "stream",
       "stream": "stdout",
       "text": [
        " 60\n",
        "2014-05-08 18:02:27.098579"
       ]
      },
      {
       "output_type": "stream",
       "stream": "stdout",
       "text": [
        " 61\n",
        "2014-05-08 18:02:32.747141"
       ]
      },
      {
       "output_type": "stream",
       "stream": "stdout",
       "text": [
        " 62\n",
        "2014-05-08 18:02:38.261243"
       ]
      },
      {
       "output_type": "stream",
       "stream": "stdout",
       "text": [
        " 63\n",
        "2014-05-08 18:02:43.666492"
       ]
      },
      {
       "output_type": "stream",
       "stream": "stdout",
       "text": [
        " 64\n",
        "2014-05-08 18:02:50.236044"
       ]
      },
      {
       "output_type": "stream",
       "stream": "stdout",
       "text": [
        " 65\n",
        "2014-05-08 18:02:56.201278"
       ]
      },
      {
       "output_type": "stream",
       "stream": "stdout",
       "text": [
        " 66\n",
        "2014-05-08 18:03:01.822876"
       ]
      },
      {
       "output_type": "stream",
       "stream": "stdout",
       "text": [
        " 67\n",
        "2014-05-08 18:03:06.811602"
       ]
      },
      {
       "output_type": "stream",
       "stream": "stdout",
       "text": [
        " 68\n",
        "2014-05-08 18:03:12.580431"
       ]
      },
      {
       "output_type": "stream",
       "stream": "stdout",
       "text": [
        " 69\n",
        "2014-05-08 18:03:18.195270"
       ]
      },
      {
       "output_type": "stream",
       "stream": "stdout",
       "text": [
        " 70\n",
        "2014-05-08 18:03:23.319343"
       ]
      },
      {
       "output_type": "stream",
       "stream": "stdout",
       "text": [
        " 71\n",
        "2014-05-08 18:03:28.603555"
       ]
      },
      {
       "output_type": "stream",
       "stream": "stdout",
       "text": [
        " 72\n",
        "2014-05-08 18:03:34.111758"
       ]
      },
      {
       "output_type": "stream",
       "stream": "stdout",
       "text": [
        " 73\n",
        "2014-05-08 18:03:39.201574"
       ]
      },
      {
       "output_type": "stream",
       "stream": "stdout",
       "text": [
        " 74\n",
        "2014-05-08 18:03:45.089059"
       ]
      },
      {
       "output_type": "stream",
       "stream": "stdout",
       "text": [
        " 75\n",
        "2014-05-08 18:03:50.214155"
       ]
      },
      {
       "output_type": "stream",
       "stream": "stdout",
       "text": [
        " 76\n",
        "2014-05-08 18:03:55.906715"
       ]
      },
      {
       "output_type": "stream",
       "stream": "stdout",
       "text": [
        " 77\n",
        "2014-05-08 18:04:02.116479"
       ]
      },
      {
       "output_type": "stream",
       "stream": "stdout",
       "text": [
        " 78\n",
        "2014-05-08 18:04:07.602658"
       ]
      },
      {
       "output_type": "stream",
       "stream": "stdout",
       "text": [
        " 79\n",
        "2014-05-08 18:04:13.225784"
       ]
      },
      {
       "output_type": "stream",
       "stream": "stdout",
       "text": [
        " 80\n",
        "2014-05-08 18:04:18.478826"
       ]
      },
      {
       "output_type": "stream",
       "stream": "stdout",
       "text": [
        " 81\n",
        "2014-05-08 18:04:23.445280"
       ]
      },
      {
       "output_type": "stream",
       "stream": "stdout",
       "text": [
        " 82\n",
        "2014-05-08 18:04:28.495127"
       ]
      },
      {
       "output_type": "stream",
       "stream": "stdout",
       "text": [
        " 83\n",
        "2014-05-08 18:04:33.026239"
       ]
      },
      {
       "output_type": "stream",
       "stream": "stdout",
       "text": [
        " 84\n",
        "2014-05-08 18:04:38.485645"
       ]
      },
      {
       "output_type": "stream",
       "stream": "stdout",
       "text": [
        " 85\n",
        "2014-05-08 18:04:43.299002"
       ]
      },
      {
       "output_type": "stream",
       "stream": "stdout",
       "text": [
        " 86\n",
        "2014-05-08 18:04:48.333784"
       ]
      },
      {
       "output_type": "stream",
       "stream": "stdout",
       "text": [
        " 87\n",
        "2014-05-08 18:04:53.760819"
       ]
      },
      {
       "output_type": "stream",
       "stream": "stdout",
       "text": [
        " 88\n",
        "2014-05-08 18:04:58.568133"
       ]
      },
      {
       "output_type": "stream",
       "stream": "stdout",
       "text": [
        " 89\n",
        "2014-05-08 18:05:03.717462"
       ]
      },
      {
       "output_type": "stream",
       "stream": "stdout",
       "text": [
        " 90\n",
        "2014-05-08 18:05:09.045602"
       ]
      },
      {
       "output_type": "stream",
       "stream": "stdout",
       "text": [
        " 91\n",
        "2014-05-08 18:05:15.576834"
       ]
      },
      {
       "output_type": "stream",
       "stream": "stdout",
       "text": [
        " 92\n",
        "2014-05-08 18:05:21.340483"
       ]
      },
      {
       "output_type": "stream",
       "stream": "stdout",
       "text": [
        " 93\n",
        "2014-05-08 18:05:27.579623"
       ]
      },
      {
       "output_type": "stream",
       "stream": "stdout",
       "text": [
        " 94\n",
        "2014-05-08 18:05:33.085337"
       ]
      },
      {
       "output_type": "stream",
       "stream": "stdout",
       "text": [
        " 95\n",
        "2014-05-08 18:05:38.114755"
       ]
      },
      {
       "output_type": "stream",
       "stream": "stdout",
       "text": [
        " 96\n",
        "2014-05-08 18:05:43.256748"
       ]
      },
      {
       "output_type": "stream",
       "stream": "stdout",
       "text": [
        " 97\n",
        "2014-05-08 18:05:48.320521"
       ]
      },
      {
       "output_type": "stream",
       "stream": "stdout",
       "text": [
        " 98\n",
        "2014-05-08 18:05:53.722975"
       ]
      },
      {
       "output_type": "stream",
       "stream": "stdout",
       "text": [
        " 99\n",
        "2014-05-08 18:05:59.712257"
       ]
      },
      {
       "output_type": "stream",
       "stream": "stdout",
       "text": [
        " 100\n",
        "2014-05-08 18:06:04.534050"
       ]
      },
      {
       "output_type": "stream",
       "stream": "stdout",
       "text": [
        " 101\n",
        "2014-05-08 18:06:10.325440"
       ]
      },
      {
       "output_type": "stream",
       "stream": "stdout",
       "text": [
        " 102\n",
        "2014-05-08 18:06:16.037669"
       ]
      },
      {
       "output_type": "stream",
       "stream": "stdout",
       "text": [
        " 103\n",
        "2014-05-08 18:06:21.662624"
       ]
      },
      {
       "output_type": "stream",
       "stream": "stdout",
       "text": [
        " 104\n",
        "2014-05-08 18:06:27.060592"
       ]
      },
      {
       "output_type": "stream",
       "stream": "stdout",
       "text": [
        " 105\n",
        "2014-05-08 18:06:32.677751"
       ]
      },
      {
       "output_type": "stream",
       "stream": "stdout",
       "text": [
        " 106\n",
        "2014-05-08 18:06:37.756763"
       ]
      },
      {
       "output_type": "stream",
       "stream": "stdout",
       "text": [
        " 107\n",
        "2014-05-08 18:06:43.396647"
       ]
      },
      {
       "output_type": "stream",
       "stream": "stdout",
       "text": [
        " 108\n",
        "2014-05-08 18:06:49.044506"
       ]
      },
      {
       "output_type": "stream",
       "stream": "stdout",
       "text": [
        " 109\n",
        "2014-05-08 18:06:54.435064"
       ]
      },
      {
       "output_type": "stream",
       "stream": "stdout",
       "text": [
        " 110\n",
        "2014-05-08 18:07:02.428358"
       ]
      },
      {
       "output_type": "stream",
       "stream": "stdout",
       "text": [
        " 111\n",
        "2014-05-08 18:07:08.603472"
       ]
      },
      {
       "output_type": "stream",
       "stream": "stdout",
       "text": [
        " 112\n",
        "2014-05-08 18:07:16.329573"
       ]
      },
      {
       "output_type": "stream",
       "stream": "stdout",
       "text": [
        " 113\n",
        "2014-05-08 18:07:22.021176"
       ]
      },
      {
       "output_type": "stream",
       "stream": "stdout",
       "text": [
        " 114\n",
        "2014-05-08 18:07:28.728494"
       ]
      },
      {
       "output_type": "stream",
       "stream": "stdout",
       "text": [
        " 115\n",
        "2014-05-08 18:07:34.667942"
       ]
      },
      {
       "output_type": "stream",
       "stream": "stdout",
       "text": [
        " 116\n",
        "2014-05-08 18:07:41.017401"
       ]
      },
      {
       "output_type": "stream",
       "stream": "stdout",
       "text": [
        " 117\n",
        "2014-05-08 18:07:47.733403"
       ]
      },
      {
       "output_type": "stream",
       "stream": "stdout",
       "text": [
        " 118\n",
        "2014-05-08 18:07:53.617800"
       ]
      },
      {
       "output_type": "stream",
       "stream": "stdout",
       "text": [
        " 119\n",
        "2014-05-08 18:08:00.251073"
       ]
      },
      {
       "output_type": "stream",
       "stream": "stdout",
       "text": [
        " 120\n",
        "2014-05-08 18:08:05.507404"
       ]
      },
      {
       "output_type": "stream",
       "stream": "stdout",
       "text": [
        " 121\n",
        "2014-05-08 18:08:12.348787"
       ]
      },
      {
       "output_type": "stream",
       "stream": "stdout",
       "text": [
        " 122\n",
        "2014-05-08 18:08:18.688215"
       ]
      },
      {
       "output_type": "stream",
       "stream": "stdout",
       "text": [
        " 123\n",
        "2014-05-08 18:08:24.481764"
       ]
      },
      {
       "output_type": "stream",
       "stream": "stdout",
       "text": [
        " 124\n",
        "2014-05-08 18:08:30.681161"
       ]
      },
      {
       "output_type": "stream",
       "stream": "stdout",
       "text": [
        " 125\n",
        "2014-05-08 18:08:37.103727"
       ]
      },
      {
       "output_type": "stream",
       "stream": "stdout",
       "text": [
        " 126\n",
        "2014-05-08 18:08:43.587458"
       ]
      },
      {
       "output_type": "stream",
       "stream": "stdout",
       "text": [
        " 127\n",
        "2014-05-08 18:08:50.347984"
       ]
      },
      {
       "output_type": "stream",
       "stream": "stdout",
       "text": [
        " 128\n",
        "2014-05-08 18:08:57.503857"
       ]
      },
      {
       "output_type": "stream",
       "stream": "stdout",
       "text": [
        " 129\n",
        "2014-05-08 18:09:03.870579"
       ]
      },
      {
       "output_type": "stream",
       "stream": "stdout",
       "text": [
        " 130\n",
        "2014-05-08 18:09:09.486324"
       ]
      },
      {
       "output_type": "stream",
       "stream": "stdout",
       "text": [
        " 131\n",
        "2014-05-08 18:09:16.112594"
       ]
      },
      {
       "output_type": "stream",
       "stream": "stdout",
       "text": [
        " 132\n",
        "2014-05-08 18:09:22.025916"
       ]
      },
      {
       "output_type": "stream",
       "stream": "stdout",
       "text": [
        " 133\n",
        "2014-05-08 18:09:27.494407"
       ]
      },
      {
       "output_type": "stream",
       "stream": "stdout",
       "text": [
        " 134\n",
        "2014-05-08 18:09:34.213665"
       ]
      },
      {
       "output_type": "stream",
       "stream": "stdout",
       "text": [
        " 135\n",
        "2014-05-08 18:09:39.844562"
       ]
      },
      {
       "output_type": "stream",
       "stream": "stdout",
       "text": [
        " 136\n",
        "2014-05-08 18:09:46.227682"
       ]
      },
      {
       "output_type": "stream",
       "stream": "stdout",
       "text": [
        " 137\n",
        "2014-05-08 18:09:51.732927"
       ]
      },
      {
       "output_type": "stream",
       "stream": "stdout",
       "text": [
        " 138\n",
        "2014-05-08 18:09:58.448462"
       ]
      },
      {
       "output_type": "stream",
       "stream": "stdout",
       "text": [
        " 139\n",
        "2014-05-08 18:10:06.343079"
       ]
      },
      {
       "output_type": "stream",
       "stream": "stdout",
       "text": [
        " 140\n",
        "2014-05-08 18:10:12.564883"
       ]
      },
      {
       "output_type": "stream",
       "stream": "stdout",
       "text": [
        " 141\n",
        "2014-05-08 18:10:17.750689"
       ]
      },
      {
       "output_type": "stream",
       "stream": "stdout",
       "text": [
        " 142\n",
        "2014-05-08 18:10:24.278185"
       ]
      },
      {
       "output_type": "stream",
       "stream": "stdout",
       "text": [
        " 143\n",
        "2014-05-08 18:10:30.356966"
       ]
      },
      {
       "output_type": "stream",
       "stream": "stdout",
       "text": [
        " 144\n",
        "2014-05-08 18:10:35.896023"
       ]
      },
      {
       "output_type": "stream",
       "stream": "stdout",
       "text": [
        " 145\n",
        "2014-05-08 18:10:41.656751"
       ]
      },
      {
       "output_type": "stream",
       "stream": "stdout",
       "text": [
        " 146\n",
        "2014-05-08 18:10:48.453212"
       ]
      },
      {
       "output_type": "stream",
       "stream": "stdout",
       "text": [
        " 147\n",
        "2014-05-08 18:10:54.347417"
       ]
      },
      {
       "output_type": "stream",
       "stream": "stdout",
       "text": [
        " 148\n",
        "2014-05-08 18:11:00.047841"
       ]
      },
      {
       "output_type": "stream",
       "stream": "stdout",
       "text": [
        " 149\n",
        "2014-05-08 18:11:07.474725"
       ]
      },
      {
       "output_type": "stream",
       "stream": "stdout",
       "text": [
        " 150\n",
        "2014-05-08 18:11:12.803033"
       ]
      },
      {
       "output_type": "stream",
       "stream": "stdout",
       "text": [
        " 151\n",
        "2014-05-08 18:11:20.367811"
       ]
      },
      {
       "output_type": "stream",
       "stream": "stdout",
       "text": [
        " 152\n",
        "2014-05-08 18:11:26.744851"
       ]
      },
      {
       "output_type": "stream",
       "stream": "stdout",
       "text": [
        " 153\n",
        "2014-05-08 18:11:34.294382"
       ]
      },
      {
       "output_type": "stream",
       "stream": "stdout",
       "text": [
        " 154\n",
        "2014-05-08 18:11:41.187630"
       ]
      },
      {
       "output_type": "stream",
       "stream": "stdout",
       "text": [
        " 155\n",
        "2014-05-08 18:11:47.521785"
       ]
      },
      {
       "output_type": "stream",
       "stream": "stdout",
       "text": [
        " 156\n",
        "2014-05-08 18:11:54.739571"
       ]
      },
      {
       "output_type": "stream",
       "stream": "stdout",
       "text": [
        " 157\n",
        "2014-05-08 18:12:01.309239"
       ]
      },
      {
       "output_type": "stream",
       "stream": "stdout",
       "text": [
        " 158\n",
        "2014-05-08 18:12:07.249847"
       ]
      },
      {
       "output_type": "stream",
       "stream": "stdout",
       "text": [
        " 159\n",
        "2014-05-08 18:12:13.759867"
       ]
      },
      {
       "output_type": "stream",
       "stream": "stdout",
       "text": [
        " 160\n",
        "2014-05-08 18:12:20.054892"
       ]
      },
      {
       "output_type": "stream",
       "stream": "stdout",
       "text": [
        " 161\n",
        "2014-05-08 18:12:26.182107"
       ]
      },
      {
       "output_type": "stream",
       "stream": "stdout",
       "text": [
        " 162\n",
        "2014-05-08 18:12:32.408197"
       ]
      },
      {
       "output_type": "stream",
       "stream": "stdout",
       "text": [
        " 163\n",
        "2014-05-08 18:12:38.988120"
       ]
      },
      {
       "output_type": "stream",
       "stream": "stdout",
       "text": [
        " 164\n",
        "2014-05-08 18:12:45.130688"
       ]
      },
      {
       "output_type": "stream",
       "stream": "stdout",
       "text": [
        " 165\n",
        "2014-05-08 18:12:51.510092"
       ]
      },
      {
       "output_type": "stream",
       "stream": "stdout",
       "text": [
        " 166\n",
        "2014-05-08 18:12:57.434907"
       ]
      },
      {
       "output_type": "stream",
       "stream": "stdout",
       "text": [
        " 167\n",
        "2014-05-08 18:13:03.572841"
       ]
      },
      {
       "output_type": "stream",
       "stream": "stdout",
       "text": [
        " 168\n",
        "2014-05-08 18:13:09.823421"
       ]
      },
      {
       "output_type": "stream",
       "stream": "stdout",
       "text": [
        " 169\n",
        "2014-05-08 18:13:15.159229"
       ]
      },
      {
       "output_type": "stream",
       "stream": "stdout",
       "text": [
        " 170\n",
        "2014-05-08 18:13:21.048322"
       ]
      },
      {
       "output_type": "stream",
       "stream": "stdout",
       "text": [
        " 171\n",
        "2014-05-08 18:13:27.779677"
       ]
      },
      {
       "output_type": "stream",
       "stream": "stdout",
       "text": [
        " 172\n",
        "2014-05-08 18:13:35.256910"
       ]
      },
      {
       "output_type": "stream",
       "stream": "stdout",
       "text": [
        " 173\n",
        "2014-05-08 18:13:41.961377"
       ]
      },
      {
       "output_type": "stream",
       "stream": "stdout",
       "text": [
        " 174\n",
        "2014-05-08 18:13:50.245667"
       ]
      },
      {
       "output_type": "stream",
       "stream": "stdout",
       "text": [
        " 175\n",
        "2014-05-08 18:13:57.314021"
       ]
      },
      {
       "output_type": "stream",
       "stream": "stdout",
       "text": [
        " 176\n",
        "2014-05-08 18:14:04.624786"
       ]
      },
      {
       "output_type": "stream",
       "stream": "stdout",
       "text": [
        " 177\n",
        "2014-05-08 18:14:11.734666"
       ]
      },
      {
       "output_type": "stream",
       "stream": "stdout",
       "text": [
        " 178\n",
        "2014-05-08 18:14:18.200415"
       ]
      },
      {
       "output_type": "stream",
       "stream": "stdout",
       "text": [
        " 179\n",
        "2014-05-08 18:14:24.619200"
       ]
      },
      {
       "output_type": "stream",
       "stream": "stdout",
       "text": [
        " 180\n",
        "2014-05-08 18:14:31.297906"
       ]
      },
      {
       "output_type": "stream",
       "stream": "stdout",
       "text": [
        " 181\n",
        "2014-05-08 18:14:37.163044"
       ]
      },
      {
       "output_type": "stream",
       "stream": "stdout",
       "text": [
        " 182\n",
        "2014-05-08 18:14:44.148262"
       ]
      },
      {
       "output_type": "stream",
       "stream": "stdout",
       "text": [
        " 183\n",
        "2014-05-08 18:14:50.743936"
       ]
      },
      {
       "output_type": "stream",
       "stream": "stdout",
       "text": [
        " 184\n",
        "2014-05-08 18:14:56.783864"
       ]
      },
      {
       "output_type": "stream",
       "stream": "stdout",
       "text": [
        " 185\n",
        "2014-05-08 18:15:03.404130"
       ]
      },
      {
       "output_type": "stream",
       "stream": "stdout",
       "text": [
        " 186\n",
        "2014-05-08 18:15:09.213808"
       ]
      },
      {
       "output_type": "stream",
       "stream": "stdout",
       "text": [
        " 187\n",
        "2014-05-08 18:15:16.293253"
       ]
      },
      {
       "output_type": "stream",
       "stream": "stdout",
       "text": [
        " 188\n",
        "2014-05-08 18:15:23.134424"
       ]
      },
      {
       "output_type": "stream",
       "stream": "stdout",
       "text": [
        " 189\n",
        "2014-05-08 18:15:29.286402"
       ]
      },
      {
       "output_type": "stream",
       "stream": "stdout",
       "text": [
        " 190\n",
        "2014-05-08 18:15:36.023204"
       ]
      },
      {
       "output_type": "stream",
       "stream": "stdout",
       "text": [
        " 191\n",
        "2014-05-08 18:15:42.088202"
       ]
      },
      {
       "output_type": "stream",
       "stream": "stdout",
       "text": [
        " 192\n",
        "2014-05-08 18:15:48.670412"
       ]
      },
      {
       "output_type": "stream",
       "stream": "stdout",
       "text": [
        " 193\n",
        "2014-05-08 18:15:54.648334"
       ]
      },
      {
       "output_type": "stream",
       "stream": "stdout",
       "text": [
        " 194\n",
        "2014-05-08 18:16:00.654376"
       ]
      },
      {
       "output_type": "stream",
       "stream": "stdout",
       "text": [
        " 195\n",
        "2014-05-08 18:16:07.183590"
       ]
      },
      {
       "output_type": "stream",
       "stream": "stdout",
       "text": [
        " 196\n",
        "2014-05-08 18:16:14.038572"
       ]
      },
      {
       "output_type": "stream",
       "stream": "stdout",
       "text": [
        " 197\n",
        "2014-05-08 18:16:21.092872"
       ]
      },
      {
       "output_type": "stream",
       "stream": "stdout",
       "text": [
        " 198\n",
        "2014-05-08 18:16:28.211818"
       ]
      },
      {
       "output_type": "stream",
       "stream": "stdout",
       "text": [
        " 199\n"
       ]
      }
     ],
     "prompt_number": 87
    },
    {
     "cell_type": "code",
     "collapsed": false,
     "input": [
      "count"
     ],
     "language": "python",
     "metadata": {},
     "outputs": [
      {
       "metadata": {},
       "output_type": "pyout",
       "prompt_number": 127,
       "text": [
        "11"
       ]
      }
     ],
     "prompt_number": 127
    },
    {
     "cell_type": "code",
     "collapsed": false,
     "input": [
      "len( hitlist )"
     ],
     "language": "python",
     "metadata": {},
     "outputs": [
      {
       "metadata": {},
       "output_type": "pyout",
       "prompt_number": 131,
       "text": [
        "18"
       ]
      }
     ],
     "prompt_number": 131
    },
    {
     "cell_type": "code",
     "collapsed": false,
     "input": [],
     "language": "python",
     "metadata": {},
     "outputs": []
    }
   ],
   "metadata": {}
  }
 ]
}