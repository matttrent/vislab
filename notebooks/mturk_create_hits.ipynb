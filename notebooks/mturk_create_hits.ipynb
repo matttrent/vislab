{
 "metadata": {
  "name": "",
  "signature": "sha256:39337027bf38e66bb58679f15af02c4e98ee0ccde0f34ef97e8c10456d7edad5"
 },
 "nbformat": 3,
 "nbformat_minor": 0,
 "worksheets": [
  {
   "cells": [
    {
     "cell_type": "code",
     "collapsed": false,
     "input": [
      "%load_ext autoreload\n",
      "%autoreload 2\n",
      "\n",
      "import os\n",
      "import sys\n",
      "import uuid\n",
      "import math\n",
      "import urllib\n",
      "import urlparse\n",
      "import datetime\n",
      "\n",
      "from boto.mturk.connection import *\n",
      "from boto.mturk.question import ExternalQuestion\n",
      "from boto.mturk.qualification import *\n",
      "from boto.mturk.price import *\n",
      "\n",
      "import pandas as pd\n",
      "import vislab.datasets"
     ],
     "language": "python",
     "metadata": {},
     "outputs": [],
     "prompt_number": 1
    },
    {
     "cell_type": "markdown",
     "metadata": {},
     "source": [
      "# Load New DataFrame"
     ]
    },
    {
     "cell_type": "code",
     "collapsed": false,
     "input": [
      "flickr_df = vislab.datasets.flickr.get_df()"
     ],
     "language": "python",
     "metadata": {},
     "outputs": [],
     "prompt_number": 2
    },
    {
     "cell_type": "code",
     "collapsed": false,
     "input": [
      "flickr_df.ix[0]"
     ],
     "language": "python",
     "metadata": {},
     "outputs": [
      {
       "metadata": {},
       "output_type": "pyout",
       "prompt_number": 3,
       "text": [
        "image_url                      http://farm2.staticflickr.com/1227/5159730964_...\n",
        "owner                                                               48664097@N02\n",
        "page_url                       http://www.flickr.com/photos/48664097@N02/5159...\n",
        "style_Bokeh                                                                False\n",
        "style_Bright                                                               False\n",
        "style_Depth_of_Field                                                       False\n",
        "style_Detailed                                                              True\n",
        "style_Ethereal                                                             False\n",
        "style_Geometric_Composition                                                False\n",
        "style_HDR                                                                  False\n",
        "style_Hazy                                                                 False\n",
        "style_Horror                                                               False\n",
        "style_Long_Exposure                                                        False\n",
        "style_Macro                                                                False\n",
        "style_Melancholy                                                           False\n",
        "style_Minimal                                                              False\n",
        "style_Noir                                                                 False\n",
        "style_Pastel                                                               False\n",
        "style_Romantic                                                             False\n",
        "style_Serene                                                               False\n",
        "style_Sunny                                                                False\n",
        "style_Texture                                                              False\n",
        "style_Vintage                                                              False\n",
        "_split                                                                     train\n",
        "Name: 5159730964, dtype: object"
       ]
      }
     ],
     "prompt_number": 3
    },
    {
     "cell_type": "code",
     "collapsed": false,
     "input": [
      "len( flickr_df.index )"
     ],
     "language": "python",
     "metadata": {},
     "outputs": [
      {
       "metadata": {},
       "output_type": "pyout",
       "prompt_number": 4,
       "text": [
        "80000"
       ]
      }
     ],
     "prompt_number": 4
    },
    {
     "cell_type": "code",
     "collapsed": false,
     "input": [
      "# write out to the static image server df\n",
      "flickr_df.to_pickle( '/Users/mmt/Archive/Code/behance-image-style/flask-static-serve/data/flickr_df.pickle' )"
     ],
     "language": "python",
     "metadata": {},
     "outputs": [],
     "prompt_number": 5
    },
    {
     "cell_type": "markdown",
     "metadata": {},
     "source": [
      "# Configuration"
     ]
    },
    {
     "cell_type": "code",
     "collapsed": false,
     "input": [
      "# style were are testing\n",
      "POS_STYLE = 'Vintage'\n",
      "\n",
      "# base url for the test server\n",
      "SERVER_URL = 'https://image-style-mturk.herokuapp.com/'\n",
      "\n",
      "# total positive + negative images in the set\n",
      "TOTAL_IMAGES  = 2000\n",
      "\n",
      "# split of positive/negative examples in the set\n",
      "POS_NEG_SPLIT = .5\n",
      "\n",
      "# we won't use the first n images from any of the different styles for inclusion \n",
      "# in any of the test tests.  this can be used to serve any number of purposes,\n",
      "# such as example images, spam-detection samples, etc...  example images are the\n",
      "# only current use.\n",
      "RESERVE_IMAGES = 100\n",
      "\n",
      "# how many images per hit\n",
      "IMAGES_PER_HIT = 10\n",
      "\n",
      "# how many different turkers we want to view each job\n",
      "HIT_REPEAT = 3\n",
      "\n",
      "# aws secret keys\n",
      "vislab = reload( vislab )\n",
      "AWS_ACCESS_KEY_ID     = vislab.config['api_keys']['mturk_aaron']['awsAccessKeyId']\n",
      "AWS_SECRET_ACCESS_KEY = vislab.config['api_keys']['mturk_aaron']['awsSecretAccessKey']\n",
      "\n",
      "# mechanical turk server\n",
      "# AWS_HOST = 'mechanicalturk.sandbox.amazonaws.com'\n",
      "AWS_HOST = 'mechanicalturk.amazonaws.com'\n",
      "\n",
      "# top-level hit information\n",
      "HIT_TITLE    = 'Tag whether the style of photos is {}';\n",
      "HIT_DESC     = 'Given examples of a {} style, tag whether or not a photo matches that style.'\n",
      "HIT_KEYWORDS = 'photograph, photographs, photo, photos, image, images, style, look, classification, tagging'\n",
      "\n",
      "# hit specifics\n",
      "HIT_DURATION = datetime.timedelta(1)  # 7 days\n",
      "HIT_PRICE = 0.1"
     ],
     "language": "python",
     "metadata": {},
     "outputs": [],
     "prompt_number": 6
    },
    {
     "cell_type": "code",
     "collapsed": false,
     "input": [
      "%qtconsole"
     ],
     "language": "python",
     "metadata": {},
     "outputs": [],
     "prompt_number": 5
    },
    {
     "cell_type": "markdown",
     "metadata": {},
     "source": [
      "# Helper functions"
     ]
    },
    {
     "cell_type": "code",
     "collapsed": false,
     "input": [
      "import re\n",
      "from unicodedata import normalize\n",
      "\n",
      "_punct_re = re.compile(r'[\\t !\"#$%&\\'()*\\-/<=>?@\\[\\\\\\]^_`{|},.]+')\n",
      "\n",
      "def slugify(text, delim=u'-'):\n",
      "    \"\"\"Generates an slightly worse ASCII-only slug.\"\"\"\n",
      "    text = unicode( text )\n",
      "    result = []\n",
      "    for word in _punct_re.split(text.lower()):\n",
      "        word = normalize('NFKD', word).encode('ascii', 'ignore')\n",
      "        if word:\n",
      "            result.append(word)\n",
      "    return unicode(delim.join(result))"
     ],
     "language": "python",
     "metadata": {},
     "outputs": [],
     "prompt_number": 7
    },
    {
     "cell_type": "code",
     "collapsed": false,
     "input": [
      "def create_hit_url( style, df, debug=False, local=False ):\n",
      "    \n",
      "    if local:\n",
      "        base_url = 'http://localhost:5000/'\n",
      "    else:\n",
      "        base_url = SERVER_URL\n",
      "    \n",
      "    params = {}\n",
      "\n",
      "    params['tagName'] = slugify( style )\n",
      "    \n",
      "    imgIds = df.index.tolist()\n",
      "    imgStr = ','.join( imgIds )\n",
      "    params['imgIds'] = imgStr\n",
      "    \n",
      "    if debug:\n",
      "        params['debug'] = True\n",
      "    \n",
      "    url_parts = list( urlparse.urlparse( base_url ) )\n",
      "    query = dict( urlparse.parse_qsl( url_parts[4] ) )\n",
      "    query.update(params)\n",
      "\n",
      "    url_parts[4] = urllib.urlencode( query )\n",
      "\n",
      "    return urlparse.urlunparse( url_parts )"
     ],
     "language": "python",
     "metadata": {},
     "outputs": [],
     "prompt_number": 8
    },
    {
     "cell_type": "markdown",
     "metadata": {},
     "source": [
      "# Style tag name extraction"
     ]
    },
    {
     "cell_type": "code",
     "collapsed": false,
     "input": [
      "style_cols = [name for name in flickr_df.columns.tolist() if 'style' in name]\n",
      "style_cols.remove( 'style_Bokeh' )\n",
      "style_cols.remove( 'style_Texture' )\n",
      "style_cols"
     ],
     "language": "python",
     "metadata": {},
     "outputs": [
      {
       "metadata": {},
       "output_type": "pyout",
       "prompt_number": 9,
       "text": [
        "['style_Bright',\n",
        " 'style_Depth_of_Field',\n",
        " 'style_Detailed',\n",
        " 'style_Ethereal',\n",
        " 'style_Geometric_Composition',\n",
        " 'style_HDR',\n",
        " 'style_Hazy',\n",
        " 'style_Horror',\n",
        " 'style_Long_Exposure',\n",
        " 'style_Macro',\n",
        " 'style_Melancholy',\n",
        " 'style_Minimal',\n",
        " 'style_Noir',\n",
        " 'style_Pastel',\n",
        " 'style_Romantic',\n",
        " 'style_Serene',\n",
        " 'style_Sunny',\n",
        " 'style_Vintage']"
       ]
      }
     ],
     "prompt_number": 9
    },
    {
     "cell_type": "code",
     "collapsed": false,
     "input": [
      "style_names = [name[6:].replace('_', ' ') for name in style_cols]\n",
      "style_names"
     ],
     "language": "python",
     "metadata": {},
     "outputs": [
      {
       "metadata": {},
       "output_type": "pyout",
       "prompt_number": 10,
       "text": [
        "['Bright',\n",
        " 'Depth of Field',\n",
        " 'Detailed',\n",
        " 'Ethereal',\n",
        " 'Geometric Composition',\n",
        " 'HDR',\n",
        " 'Hazy',\n",
        " 'Horror',\n",
        " 'Long Exposure',\n",
        " 'Macro',\n",
        " 'Melancholy',\n",
        " 'Minimal',\n",
        " 'Noir',\n",
        " 'Pastel',\n",
        " 'Romantic',\n",
        " 'Serene',\n",
        " 'Sunny',\n",
        " 'Vintage']"
       ]
      }
     ],
     "prompt_number": 10
    },
    {
     "cell_type": "code",
     "collapsed": false,
     "input": [
      "slug_names = [slugify(name) for name in style_names]\n",
      "slug_names"
     ],
     "language": "python",
     "metadata": {},
     "outputs": [
      {
       "metadata": {},
       "output_type": "pyout",
       "prompt_number": 11,
       "text": [
        "[u'bright',\n",
        " u'depth-of-field',\n",
        " u'detailed',\n",
        " u'ethereal',\n",
        " u'geometric-composition',\n",
        " u'hdr',\n",
        " u'hazy',\n",
        " u'horror',\n",
        " u'long-exposure',\n",
        " u'macro',\n",
        " u'melancholy',\n",
        " u'minimal',\n",
        " u'noir',\n",
        " u'pastel',\n",
        " u'romantic',\n",
        " u'serene',\n",
        " u'sunny',\n",
        " u'vintage']"
       ]
      }
     ],
     "prompt_number": 11
    },
    {
     "cell_type": "code",
     "collapsed": false,
     "input": [
      "style_dict = dict( zip( slug_names, zip( style_names, style_cols ) ) )\n",
      "style_dict"
     ],
     "language": "python",
     "metadata": {},
     "outputs": [
      {
       "metadata": {},
       "output_type": "pyout",
       "prompt_number": 12,
       "text": [
        "{u'bright': ('Bright', 'style_Bright'),\n",
        " u'depth-of-field': ('Depth of Field', 'style_Depth_of_Field'),\n",
        " u'detailed': ('Detailed', 'style_Detailed'),\n",
        " u'ethereal': ('Ethereal', 'style_Ethereal'),\n",
        " u'geometric-composition': ('Geometric Composition',\n",
        "  'style_Geometric_Composition'),\n",
        " u'hazy': ('Hazy', 'style_Hazy'),\n",
        " u'hdr': ('HDR', 'style_HDR'),\n",
        " u'horror': ('Horror', 'style_Horror'),\n",
        " u'long-exposure': ('Long Exposure', 'style_Long_Exposure'),\n",
        " u'macro': ('Macro', 'style_Macro'),\n",
        " u'melancholy': ('Melancholy', 'style_Melancholy'),\n",
        " u'minimal': ('Minimal', 'style_Minimal'),\n",
        " u'noir': ('Noir', 'style_Noir'),\n",
        " u'pastel': ('Pastel', 'style_Pastel'),\n",
        " u'romantic': ('Romantic', 'style_Romantic'),\n",
        " u'serene': ('Serene', 'style_Serene'),\n",
        " u'sunny': ('Sunny', 'style_Sunny'),\n",
        " u'vintage': ('Vintage', 'style_Vintage')}"
       ]
      }
     ],
     "prompt_number": 12
    },
    {
     "cell_type": "code",
     "collapsed": false,
     "input": [
      "%qtconsole"
     ],
     "language": "python",
     "metadata": {},
     "outputs": [],
     "prompt_number": 13
    },
    {
     "cell_type": "markdown",
     "metadata": {},
     "source": [
      "# Create spam-detection images"
     ]
    },
    {
     "cell_type": "code",
     "collapsed": false,
     "input": [
      "spam_images = {}\n",
      "spam_images['style_Bright']                = [ '13276349735', '13202986955' ]\n",
      "spam_images['style_Depth_of_Field']        = [ '12275097686', '12618937364' ]\n",
      "spam_images['style_Detailed']\t             = [ '12678909473', '9584007214' ]\n",
      "spam_images['style_Ethereal']\t             = [ '11196553984', '12103191336' ]\n",
      "spam_images['style_Geometric_Composition'] = [ '12361280943', '11728222814' ]\n",
      "spam_images['style_HDR']\t                 = [ '12985120954', '13080484014' ]\n",
      "spam_images['style_Hazy']\t                 = [ '8123136180', '8710649981' ]\n",
      "spam_images['style_Horror']\t             = [ '3540879185', '3190181306' ]\n",
      "spam_images['style_Long_Exposure']\t     = [ '13077420234', '13039543873' ]\n",
      "spam_images['style_Macro']\t             = [ '12874682495', '13237561944' ]\n",
      "spam_images['style_Melancholy']\t         = [ '13035627133', '12652741963' ]\n",
      "spam_images['style_Minimal']\t             = [ '9389108329', '9499757804' ]\n",
      "spam_images['style_Noir']\t                 = [ '11158990436', '3330508474' ]\n",
      "spam_images['style_Pastel']\t             = [ '13163996094', '12772046043' ]\n",
      "spam_images['style_Romantic']\t             = [ '8875030224', '9390762719' ]\n",
      "spam_images['style_Serene']\t             = [ '9572023253', '9700306653' ]\n",
      "spam_images['style_Sunny']\t             = [ '11433844095', '11156368195' ]\n",
      "spam_images['style_Vintage']\t             = [ '5710850998', '5798828322' ]"
     ],
     "language": "python",
     "metadata": {},
     "outputs": [],
     "prompt_number": 14
    },
    {
     "cell_type": "markdown",
     "metadata": {},
     "source": [
      "# Create reserve and working DFs"
     ]
    },
    {
     "cell_type": "code",
     "collapsed": false,
     "input": [
      "example_images = {}\n",
      "\n",
      "for name in slug_names:\n",
      "    exfile = open( os.path.join( '../../example-images', name + '.txt' ) )\n",
      "    lines  = exfile.readlines()\n",
      "    poslines = lines[:12]\n",
      "    neglines = lines[13:]\n",
      "    posfids   = [ url.split('/')[-1].strip() for url in poslines ]\n",
      "    negfids   = [ url.split('/')[-1].strip() for url in neglines ]\n",
      "    example_images[name] = ( posfids, negfids )"
     ],
     "language": "python",
     "metadata": {},
     "outputs": [],
     "prompt_number": 63
    },
    {
     "cell_type": "code",
     "collapsed": false,
     "input": [
      "print len( example_images['bright'][0] )\n",
      "print len( example_images['bright'][1] )\n",
      "print example_images['bright'][0]\n",
      "print example_images['bright'][1]"
     ],
     "language": "python",
     "metadata": {},
     "outputs": [
      {
       "output_type": "stream",
       "stream": "stdout",
       "text": [
        "12\n",
        "12\n",
        "['13262683763', '13269173703', '13264495034', '13250660483', '13264720805', '13268526985', '13265978523', '13266006985', '13263693813', '13264189403', '13268380143', '13255475655']\n",
        "['13246911233', '13212624173', '13248377733', '12529307075', '12730776674', '13224430023', '13240655863', '13201708943', '7128926709', '13191318234', '13239155405', '13175225793']\n"
       ]
      }
     ],
     "prompt_number": 64
    },
    {
     "cell_type": "code",
     "collapsed": false,
     "input": [
      "example_fids = map( lambda x: x[0] + x[1], example_images.values() )\n",
      "example_fids = reduce( lambda x, y: x + y, example_fids )"
     ],
     "language": "python",
     "metadata": {},
     "outputs": [],
     "prompt_number": 65
    },
    {
     "cell_type": "code",
     "collapsed": false,
     "input": [
      "example_fids[0]"
     ],
     "language": "python",
     "metadata": {},
     "outputs": [
      {
       "metadata": {},
       "output_type": "pyout",
       "prompt_number": 66,
       "text": [
        "'12953344624'"
       ]
      }
     ],
     "prompt_number": 66
    },
    {
     "cell_type": "code",
     "collapsed": false,
     "input": [
      "len( example_fids )"
     ],
     "language": "python",
     "metadata": {},
     "outputs": [
      {
       "metadata": {},
       "output_type": "pyout",
       "prompt_number": 67,
       "text": [
        "432"
       ]
      }
     ],
     "prompt_number": 67
    },
    {
     "cell_type": "code",
     "collapsed": false,
     "input": [
      "example_fids = list( set( example_fids ) )"
     ],
     "language": "python",
     "metadata": {},
     "outputs": [],
     "prompt_number": 68
    },
    {
     "cell_type": "code",
     "collapsed": false,
     "input": [
      "print len( example_fids )"
     ],
     "language": "python",
     "metadata": {},
     "outputs": [
      {
       "output_type": "stream",
       "stream": "stdout",
       "text": [
        "289\n"
       ]
      }
     ],
     "prompt_number": 69
    },
    {
     "cell_type": "code",
     "collapsed": false,
     "input": [
      "example_df = flickr_df.ix[ example_fids ]"
     ],
     "language": "python",
     "metadata": {},
     "outputs": [],
     "prompt_number": 70
    },
    {
     "cell_type": "code",
     "collapsed": false,
     "input": [
      "len( example_df )"
     ],
     "language": "python",
     "metadata": {},
     "outputs": [
      {
       "metadata": {},
       "output_type": "pyout",
       "prompt_number": 71,
       "text": [
        "289"
       ]
      }
     ],
     "prompt_number": 71
    },
    {
     "cell_type": "code",
     "collapsed": false,
     "input": [
      "example_df.iloc[0]"
     ],
     "language": "python",
     "metadata": {},
     "outputs": [
      {
       "metadata": {},
       "output_type": "pyout",
       "prompt_number": 72,
       "text": [
        "image_url                      http://farm8.staticflickr.com/7407/13291154153...\n",
        "owner                                                               94807198@N03\n",
        "page_url                       http://www.flickr.com/photos/94807198@N03/1329...\n",
        "style_Bokeh                                                                False\n",
        "style_Bright                                                               False\n",
        "style_Depth_of_Field                                                       False\n",
        "style_Detailed                                                             False\n",
        "style_Ethereal                                                             False\n",
        "style_Geometric_Composition                                                False\n",
        "style_HDR                                                                  False\n",
        "style_Hazy                                                                 False\n",
        "style_Horror                                                               False\n",
        "style_Long_Exposure                                                         True\n",
        "style_Macro                                                                False\n",
        "style_Melancholy                                                           False\n",
        "style_Minimal                                                              False\n",
        "style_Noir                                                                 False\n",
        "style_Pastel                                                               False\n",
        "style_Romantic                                                             False\n",
        "style_Serene                                                               False\n",
        "style_Sunny                                                                False\n",
        "style_Texture                                                              False\n",
        "style_Vintage                                                              False\n",
        "Name: 13291154153, dtype: object"
       ]
      }
     ],
     "prompt_number": 72
    },
    {
     "cell_type": "code",
     "collapsed": false,
     "input": [
      "work_fids = [ fid for fid in flickr_df.index.tolist() if fid not in example_fids ]"
     ],
     "language": "python",
     "metadata": {},
     "outputs": [],
     "prompt_number": 73
    },
    {
     "cell_type": "code",
     "collapsed": false,
     "input": [
      "len( work_fids )"
     ],
     "language": "python",
     "metadata": {},
     "outputs": [
      {
       "metadata": {},
       "output_type": "pyout",
       "prompt_number": 74,
       "text": [
        "79711"
       ]
      }
     ],
     "prompt_number": 74
    },
    {
     "cell_type": "code",
     "collapsed": false,
     "input": [
      "spam_fids = reduce( lambda x, y: x + y, spam_images.values() )\n",
      "print len( spam_fids )\n",
      "print spam_fids "
     ],
     "language": "python",
     "metadata": {},
     "outputs": [
      {
       "output_type": "stream",
       "stream": "stdout",
       "text": [
        "36\n",
        "['12678909473', '9584007214', '13163996094', '12772046043', '13035627133', '12652741963', '11158990436', '3330508474', '12985120954', '13080484014', '12874682495', '13237561944', '3540879185', '3190181306', '11433844095', '11156368195', '9572023253', '9700306653', '12275097686', '12618937364', '13077420234', '13039543873', '13276349735', '13202986955', '8123136180', '8710649981', '11196553984', '12103191336', '12361280943', '11728222814', '5710850998', '5798828322', '9389108329', '9499757804', '8875030224', '9390762719']\n"
       ]
      }
     ],
     "prompt_number": 75
    },
    {
     "cell_type": "code",
     "collapsed": false,
     "input": [
      "spam_df = flickr_df.ix[ spam_fids ]"
     ],
     "language": "python",
     "metadata": {},
     "outputs": [],
     "prompt_number": 76
    },
    {
     "cell_type": "code",
     "collapsed": false,
     "input": [
      "work_fids = [ fid for fid in work_fids if fid not in spam_fids ]"
     ],
     "language": "python",
     "metadata": {},
     "outputs": [],
     "prompt_number": 77
    },
    {
     "cell_type": "code",
     "collapsed": false,
     "input": [
      "len( work_fids )"
     ],
     "language": "python",
     "metadata": {},
     "outputs": [
      {
       "metadata": {},
       "output_type": "pyout",
       "prompt_number": 78,
       "text": [
        "79675"
       ]
      }
     ],
     "prompt_number": 78
    },
    {
     "cell_type": "code",
     "collapsed": false,
     "input": [
      "work_df = flickr_df.ix[ work_fids ]"
     ],
     "language": "python",
     "metadata": {},
     "outputs": [],
     "prompt_number": 79
    },
    {
     "cell_type": "code",
     "collapsed": false,
     "input": [
      "work_df.ix[0]"
     ],
     "language": "python",
     "metadata": {},
     "outputs": [
      {
       "metadata": {},
       "output_type": "pyout",
       "prompt_number": 143,
       "text": [
        "image_url                      http://farm2.staticflickr.com/1227/5159730964_...\n",
        "owner                                                               48664097@N02\n",
        "page_url                       http://www.flickr.com/photos/48664097@N02/5159...\n",
        "style_Bokeh                                                                False\n",
        "style_Bright                                                               False\n",
        "style_Depth_of_Field                                                       False\n",
        "style_Detailed                                                              True\n",
        "style_Ethereal                                                             False\n",
        "style_Geometric_Composition                                                False\n",
        "style_HDR                                                                  False\n",
        "style_Hazy                                                                 False\n",
        "style_Horror                                                               False\n",
        "style_Long_Exposure                                                        False\n",
        "style_Macro                                                                False\n",
        "style_Melancholy                                                           False\n",
        "style_Minimal                                                              False\n",
        "style_Noir                                                                 False\n",
        "style_Pastel                                                               False\n",
        "style_Romantic                                                             False\n",
        "style_Serene                                                               False\n",
        "style_Sunny                                                                False\n",
        "style_Texture                                                              False\n",
        "style_Vintage                                                              False\n",
        "Name: 5159730964, dtype: object"
       ]
      }
     ],
     "prompt_number": 143
    },
    {
     "cell_type": "code",
     "collapsed": false,
     "input": [
      "work_df = work_df[ work_df['_split'] == 'test' ]"
     ],
     "language": "python",
     "metadata": {},
     "outputs": [
      {
       "ename": "KeyError",
       "evalue": "u'no item named _split'",
       "output_type": "pyerr",
       "traceback": [
        "\u001b[0;31m---------------------------------------------------------------------------\u001b[0m\n\u001b[0;31mKeyError\u001b[0m                                  Traceback (most recent call last)",
        "\u001b[0;32m<ipython-input-142-87fcd17227c1>\u001b[0m in \u001b[0;36m<module>\u001b[0;34m()\u001b[0m\n\u001b[0;32m----> 1\u001b[0;31m \u001b[0mwork_df\u001b[0m \u001b[0;34m=\u001b[0m \u001b[0mwork_df\u001b[0m\u001b[0;34m[\u001b[0m \u001b[0mwork_df\u001b[0m\u001b[0;34m[\u001b[0m\u001b[0;34m'_split'\u001b[0m\u001b[0;34m]\u001b[0m \u001b[0;34m==\u001b[0m \u001b[0;34m'test'\u001b[0m \u001b[0;34m]\u001b[0m\u001b[0;34m\u001b[0m\u001b[0m\n\u001b[0m",
        "\u001b[0;32m/Users/mmt/anaconda/envs/aphrodite/lib/python2.7/site-packages/pandas/core/frame.pyc\u001b[0m in \u001b[0;36m__getitem__\u001b[0;34m(self, key)\u001b[0m\n\u001b[1;32m   1656\u001b[0m             \u001b[0;32mreturn\u001b[0m \u001b[0mself\u001b[0m\u001b[0;34m.\u001b[0m\u001b[0m_getitem_multilevel\u001b[0m\u001b[0;34m(\u001b[0m\u001b[0mkey\u001b[0m\u001b[0;34m)\u001b[0m\u001b[0;34m\u001b[0m\u001b[0m\n\u001b[1;32m   1657\u001b[0m         \u001b[0;32melse\u001b[0m\u001b[0;34m:\u001b[0m\u001b[0;34m\u001b[0m\u001b[0m\n\u001b[0;32m-> 1658\u001b[0;31m             \u001b[0;32mreturn\u001b[0m \u001b[0mself\u001b[0m\u001b[0;34m.\u001b[0m\u001b[0m_getitem_column\u001b[0m\u001b[0;34m(\u001b[0m\u001b[0mkey\u001b[0m\u001b[0;34m)\u001b[0m\u001b[0;34m\u001b[0m\u001b[0m\n\u001b[0m\u001b[1;32m   1659\u001b[0m \u001b[0;34m\u001b[0m\u001b[0m\n\u001b[1;32m   1660\u001b[0m     \u001b[0;32mdef\u001b[0m \u001b[0m_getitem_column\u001b[0m\u001b[0;34m(\u001b[0m\u001b[0mself\u001b[0m\u001b[0;34m,\u001b[0m \u001b[0mkey\u001b[0m\u001b[0;34m)\u001b[0m\u001b[0;34m:\u001b[0m\u001b[0;34m\u001b[0m\u001b[0m\n",
        "\u001b[0;32m/Users/mmt/anaconda/envs/aphrodite/lib/python2.7/site-packages/pandas/core/frame.pyc\u001b[0m in \u001b[0;36m_getitem_column\u001b[0;34m(self, key)\u001b[0m\n\u001b[1;32m   1663\u001b[0m         \u001b[0;31m# get column\u001b[0m\u001b[0;34m\u001b[0m\u001b[0;34m\u001b[0m\u001b[0m\n\u001b[1;32m   1664\u001b[0m         \u001b[0;32mif\u001b[0m \u001b[0mself\u001b[0m\u001b[0;34m.\u001b[0m\u001b[0mcolumns\u001b[0m\u001b[0;34m.\u001b[0m\u001b[0mis_unique\u001b[0m\u001b[0;34m:\u001b[0m\u001b[0;34m\u001b[0m\u001b[0m\n\u001b[0;32m-> 1665\u001b[0;31m             \u001b[0;32mreturn\u001b[0m \u001b[0mself\u001b[0m\u001b[0;34m.\u001b[0m\u001b[0m_get_item_cache\u001b[0m\u001b[0;34m(\u001b[0m\u001b[0mkey\u001b[0m\u001b[0;34m)\u001b[0m\u001b[0;34m\u001b[0m\u001b[0m\n\u001b[0m\u001b[1;32m   1666\u001b[0m \u001b[0;34m\u001b[0m\u001b[0m\n\u001b[1;32m   1667\u001b[0m         \u001b[0;31m# duplicate columns & possible reduce dimensionaility\u001b[0m\u001b[0;34m\u001b[0m\u001b[0;34m\u001b[0m\u001b[0m\n",
        "\u001b[0;32m/Users/mmt/anaconda/envs/aphrodite/lib/python2.7/site-packages/pandas/core/generic.pyc\u001b[0m in \u001b[0;36m_get_item_cache\u001b[0;34m(self, item)\u001b[0m\n\u001b[1;32m   1003\u001b[0m         \u001b[0mres\u001b[0m \u001b[0;34m=\u001b[0m \u001b[0mcache\u001b[0m\u001b[0;34m.\u001b[0m\u001b[0mget\u001b[0m\u001b[0;34m(\u001b[0m\u001b[0mitem\u001b[0m\u001b[0;34m)\u001b[0m\u001b[0;34m\u001b[0m\u001b[0m\n\u001b[1;32m   1004\u001b[0m         \u001b[0;32mif\u001b[0m \u001b[0mres\u001b[0m \u001b[0;32mis\u001b[0m \u001b[0mNone\u001b[0m\u001b[0;34m:\u001b[0m\u001b[0;34m\u001b[0m\u001b[0m\n\u001b[0;32m-> 1005\u001b[0;31m             \u001b[0mvalues\u001b[0m \u001b[0;34m=\u001b[0m \u001b[0mself\u001b[0m\u001b[0;34m.\u001b[0m\u001b[0m_data\u001b[0m\u001b[0;34m.\u001b[0m\u001b[0mget\u001b[0m\u001b[0;34m(\u001b[0m\u001b[0mitem\u001b[0m\u001b[0;34m)\u001b[0m\u001b[0;34m\u001b[0m\u001b[0m\n\u001b[0m\u001b[1;32m   1006\u001b[0m             \u001b[0mres\u001b[0m \u001b[0;34m=\u001b[0m \u001b[0mself\u001b[0m\u001b[0;34m.\u001b[0m\u001b[0m_box_item_values\u001b[0m\u001b[0;34m(\u001b[0m\u001b[0mitem\u001b[0m\u001b[0;34m,\u001b[0m \u001b[0mvalues\u001b[0m\u001b[0;34m)\u001b[0m\u001b[0;34m\u001b[0m\u001b[0m\n\u001b[1;32m   1007\u001b[0m             \u001b[0mcache\u001b[0m\u001b[0;34m[\u001b[0m\u001b[0mitem\u001b[0m\u001b[0;34m]\u001b[0m \u001b[0;34m=\u001b[0m \u001b[0mres\u001b[0m\u001b[0;34m\u001b[0m\u001b[0m\n",
        "\u001b[0;32m/Users/mmt/anaconda/envs/aphrodite/lib/python2.7/site-packages/pandas/core/internals.pyc\u001b[0m in \u001b[0;36mget\u001b[0;34m(self, item)\u001b[0m\n\u001b[1;32m   2871\u001b[0m                 \u001b[0;32mreturn\u001b[0m \u001b[0mself\u001b[0m\u001b[0;34m.\u001b[0m\u001b[0mget_for_nan_indexer\u001b[0m\u001b[0;34m(\u001b[0m\u001b[0mindexer\u001b[0m\u001b[0;34m)\u001b[0m\u001b[0;34m\u001b[0m\u001b[0m\n\u001b[1;32m   2872\u001b[0m \u001b[0;34m\u001b[0m\u001b[0m\n\u001b[0;32m-> 2873\u001b[0;31m             \u001b[0m_\u001b[0m\u001b[0;34m,\u001b[0m \u001b[0mblock\u001b[0m \u001b[0;34m=\u001b[0m \u001b[0mself\u001b[0m\u001b[0;34m.\u001b[0m\u001b[0m_find_block\u001b[0m\u001b[0;34m(\u001b[0m\u001b[0mitem\u001b[0m\u001b[0;34m)\u001b[0m\u001b[0;34m\u001b[0m\u001b[0m\n\u001b[0m\u001b[1;32m   2874\u001b[0m             \u001b[0;32mreturn\u001b[0m \u001b[0mblock\u001b[0m\u001b[0;34m.\u001b[0m\u001b[0mget\u001b[0m\u001b[0;34m(\u001b[0m\u001b[0mitem\u001b[0m\u001b[0;34m)\u001b[0m\u001b[0;34m\u001b[0m\u001b[0m\n\u001b[1;32m   2875\u001b[0m         \u001b[0;32melse\u001b[0m\u001b[0;34m:\u001b[0m\u001b[0;34m\u001b[0m\u001b[0m\n",
        "\u001b[0;32m/Users/mmt/anaconda/envs/aphrodite/lib/python2.7/site-packages/pandas/core/internals.pyc\u001b[0m in \u001b[0;36m_find_block\u001b[0;34m(self, item)\u001b[0m\n\u001b[1;32m   3183\u001b[0m \u001b[0;34m\u001b[0m\u001b[0m\n\u001b[1;32m   3184\u001b[0m     \u001b[0;32mdef\u001b[0m \u001b[0m_find_block\u001b[0m\u001b[0;34m(\u001b[0m\u001b[0mself\u001b[0m\u001b[0;34m,\u001b[0m \u001b[0mitem\u001b[0m\u001b[0;34m)\u001b[0m\u001b[0;34m:\u001b[0m\u001b[0;34m\u001b[0m\u001b[0m\n\u001b[0;32m-> 3185\u001b[0;31m         \u001b[0mself\u001b[0m\u001b[0;34m.\u001b[0m\u001b[0m_check_have\u001b[0m\u001b[0;34m(\u001b[0m\u001b[0mitem\u001b[0m\u001b[0;34m)\u001b[0m\u001b[0;34m\u001b[0m\u001b[0m\n\u001b[0m\u001b[1;32m   3186\u001b[0m         \u001b[0;32mfor\u001b[0m \u001b[0mi\u001b[0m\u001b[0;34m,\u001b[0m \u001b[0mblock\u001b[0m \u001b[0;32min\u001b[0m \u001b[0menumerate\u001b[0m\u001b[0;34m(\u001b[0m\u001b[0mself\u001b[0m\u001b[0;34m.\u001b[0m\u001b[0mblocks\u001b[0m\u001b[0;34m)\u001b[0m\u001b[0;34m:\u001b[0m\u001b[0;34m\u001b[0m\u001b[0m\n\u001b[1;32m   3187\u001b[0m             \u001b[0;32mif\u001b[0m \u001b[0mitem\u001b[0m \u001b[0;32min\u001b[0m \u001b[0mblock\u001b[0m\u001b[0;34m:\u001b[0m\u001b[0;34m\u001b[0m\u001b[0m\n",
        "\u001b[0;32m/Users/mmt/anaconda/envs/aphrodite/lib/python2.7/site-packages/pandas/core/internals.pyc\u001b[0m in \u001b[0;36m_check_have\u001b[0;34m(self, item)\u001b[0m\n\u001b[1;32m   3190\u001b[0m     \u001b[0;32mdef\u001b[0m \u001b[0m_check_have\u001b[0m\u001b[0;34m(\u001b[0m\u001b[0mself\u001b[0m\u001b[0;34m,\u001b[0m \u001b[0mitem\u001b[0m\u001b[0;34m)\u001b[0m\u001b[0;34m:\u001b[0m\u001b[0;34m\u001b[0m\u001b[0m\n\u001b[1;32m   3191\u001b[0m         \u001b[0;32mif\u001b[0m \u001b[0mitem\u001b[0m \u001b[0;32mnot\u001b[0m \u001b[0;32min\u001b[0m \u001b[0mself\u001b[0m\u001b[0;34m.\u001b[0m\u001b[0mitems\u001b[0m\u001b[0;34m:\u001b[0m\u001b[0;34m\u001b[0m\u001b[0m\n\u001b[0;32m-> 3192\u001b[0;31m             \u001b[0;32mraise\u001b[0m \u001b[0mKeyError\u001b[0m\u001b[0;34m(\u001b[0m\u001b[0;34m'no item named %s'\u001b[0m \u001b[0;34m%\u001b[0m \u001b[0mcom\u001b[0m\u001b[0;34m.\u001b[0m\u001b[0mpprint_thing\u001b[0m\u001b[0;34m(\u001b[0m\u001b[0mitem\u001b[0m\u001b[0;34m)\u001b[0m\u001b[0;34m)\u001b[0m\u001b[0;34m\u001b[0m\u001b[0m\n\u001b[0m\u001b[1;32m   3193\u001b[0m \u001b[0;34m\u001b[0m\u001b[0m\n\u001b[1;32m   3194\u001b[0m     def reindex_axis(self, new_axis, indexer=None, method=None, axis=0,\n",
        "\u001b[0;31mKeyError\u001b[0m: u'no item named _split'"
       ]
      }
     ],
     "prompt_number": 142
    },
    {
     "cell_type": "code",
     "collapsed": false,
     "input": [
      "len( work_df )"
     ],
     "language": "python",
     "metadata": {},
     "outputs": [
      {
       "metadata": {},
       "output_type": "pyout",
       "prompt_number": 80,
       "text": [
        "79675"
       ]
      }
     ],
     "prompt_number": 80
    },
    {
     "cell_type": "code",
     "collapsed": false,
     "input": [
      "import pickle"
     ],
     "language": "python",
     "metadata": {},
     "outputs": [],
     "prompt_number": 26
    },
    {
     "cell_type": "code",
     "collapsed": false,
     "input": [
      "#pickle.dump( example_images, \n",
      "#    open( '/Users/mmt/Archive/Code/behance-image-style/flask-static-serve/data/example_fids.pickle', 'w' ) )"
     ],
     "language": "python",
     "metadata": {},
     "outputs": [],
     "prompt_number": 189
    },
    {
     "cell_type": "markdown",
     "metadata": {},
     "source": [
      "# Create positive/negative sets"
     ]
    },
    {
     "cell_type": "code",
     "collapsed": false,
     "input": [
      "pos_style = 'style_' + POS_STYLE"
     ],
     "language": "python",
     "metadata": {},
     "outputs": [],
     "prompt_number": 81
    },
    {
     "cell_type": "code",
     "collapsed": false,
     "input": [
      "posdf = work_df[ work_df[pos_style] == True ]\n",
      "negdf = work_df[ work_df[pos_style] == False ]\n",
      "\n",
      "print len( posdf ), len( negdf )"
     ],
     "language": "python",
     "metadata": {},
     "outputs": [
      {
       "output_type": "stream",
       "stream": "stdout",
       "text": [
        "3986 75689\n"
       ]
      }
     ],
     "prompt_number": 82
    },
    {
     "cell_type": "code",
     "collapsed": false,
     "input": [
      "posdf[:10].index.tolist()"
     ],
     "language": "python",
     "metadata": {},
     "outputs": [
      {
       "metadata": {},
       "output_type": "pyout",
       "prompt_number": 83,
       "text": [
        "['2609553631',\n",
        " '5477197444',\n",
        " '4621023946',\n",
        " '7355547050',\n",
        " '7352690094',\n",
        " '7165554327',\n",
        " '7165392223',\n",
        " '7165173917',\n",
        " '7350086494',\n",
        " '7349128320']"
       ]
      }
     ],
     "prompt_number": 83
    },
    {
     "cell_type": "code",
     "collapsed": false,
     "input": [
      "negdf[:10].index.tolist()"
     ],
     "language": "python",
     "metadata": {},
     "outputs": [
      {
       "metadata": {},
       "output_type": "pyout",
       "prompt_number": 84,
       "text": [
        "['5159730964',\n",
        " '8530766395',\n",
        " '13297737684',\n",
        " '13293240683',\n",
        " '13293330564',\n",
        " '13292959265',\n",
        " '13292864304',\n",
        " '13292286774',\n",
        " '13292086673',\n",
        " '13283837825']"
       ]
      }
     ],
     "prompt_number": 84
    },
    {
     "cell_type": "code",
     "collapsed": false,
     "input": [
      "posdf = posdf[ RESERVE_IMAGES : ]\n",
      "negdf = negdf[ RESERVE_IMAGES : ]\n",
      "\n",
      "print len( posdf ), len( negdf )"
     ],
     "language": "python",
     "metadata": {},
     "outputs": [
      {
       "output_type": "stream",
       "stream": "stdout",
       "text": [
        "3886 75589\n"
       ]
      }
     ],
     "prompt_number": 85
    },
    {
     "cell_type": "code",
     "collapsed": false,
     "input": [
      "n_pos_images = int( ceil( IMAGES_PER_HIT * POS_NEG_SPLIT ) )\n",
      "n_neg_images = IMAGES_PER_HIT - n_pos_images\n",
      "\n",
      "print n_pos_images, n_neg_images"
     ],
     "language": "python",
     "metadata": {},
     "outputs": [
      {
       "output_type": "stream",
       "stream": "stdout",
       "text": [
        "5 5\n"
       ]
      }
     ],
     "prompt_number": 86
    },
    {
     "cell_type": "code",
     "collapsed": false,
     "input": [
      "DFs = []\n",
      "pcount = 0\n",
      "ncount = 0\n",
      "\n",
      "while pcount + ncount < TOTAL_IMAGES:\n",
      "    \n",
      "    # sample our rows\n",
      "    pdf = posdf[ pcount : pcount + n_pos_images ]\n",
      "    ndf = negdf[ ncount : ncount + n_neg_images ]\n",
      "    \n",
      "    # merge dfs\n",
      "    df = pd.concat( [ pdf, ndf ] )\n",
      "    \n",
      "    # shuffle\n",
      "    df = df.reindex( np.random.permutation( df.index ) )\n",
      "    \n",
      "    # add to list and increment counts\n",
      "    DFs += [ df ]\n",
      "    pcount += n_pos_images\n",
      "    ncount += n_neg_images"
     ],
     "language": "python",
     "metadata": {},
     "outputs": [],
     "prompt_number": 87
    },
    {
     "cell_type": "code",
     "collapsed": false,
     "input": [
      "len( DFs )"
     ],
     "language": "python",
     "metadata": {},
     "outputs": [
      {
       "metadata": {},
       "output_type": "pyout",
       "prompt_number": 88,
       "text": [
        "200"
       ]
      }
     ],
     "prompt_number": 88
    },
    {
     "cell_type": "code",
     "collapsed": false,
     "input": [
      "print DFs[0]['style_'+POS_STYLE]"
     ],
     "language": "python",
     "metadata": {},
     "outputs": [
      {
       "output_type": "stream",
       "stream": "stdout",
       "text": [
        "7177299046      True\n",
        "13152375144    False\n",
        "7173033228      True\n",
        "7177064854      True\n",
        "13152054945    False\n",
        "13156933443    False\n",
        "7177732582      True\n",
        "13156940073    False\n",
        "13156307585    False\n",
        "7173929938      True\n",
        "Name: style_Vintage, dtype: bool\n"
       ]
      }
     ],
     "prompt_number": 89
    },
    {
     "cell_type": "code",
     "collapsed": false,
     "input": [
      "DFs[0]"
     ],
     "language": "python",
     "metadata": {},
     "outputs": [
      {
       "html": [
        "<div style=\"max-height:1000px;max-width:1500px;overflow:auto;\">\n",
        "<table border=\"1\" class=\"dataframe\">\n",
        "  <thead>\n",
        "    <tr style=\"text-align: right;\">\n",
        "      <th></th>\n",
        "      <th>image_url</th>\n",
        "      <th>owner</th>\n",
        "      <th>page_url</th>\n",
        "      <th>style_Bokeh</th>\n",
        "      <th>style_Bright</th>\n",
        "      <th>style_Depth_of_Field</th>\n",
        "      <th>style_Detailed</th>\n",
        "      <th>style_Ethereal</th>\n",
        "      <th>style_Geometric_Composition</th>\n",
        "      <th>style_HDR</th>\n",
        "      <th>style_Hazy</th>\n",
        "      <th>style_Horror</th>\n",
        "      <th>style_Long_Exposure</th>\n",
        "      <th>style_Macro</th>\n",
        "      <th>style_Melancholy</th>\n",
        "      <th>style_Minimal</th>\n",
        "      <th>style_Noir</th>\n",
        "      <th>style_Pastel</th>\n",
        "      <th>style_Romantic</th>\n",
        "      <th>style_Serene</th>\n",
        "      <th></th>\n",
        "    </tr>\n",
        "  </thead>\n",
        "  <tbody>\n",
        "    <tr>\n",
        "      <th>7177299046</th>\n",
        "      <td> http://farm6.staticflickr.com/5336/7177299046_...</td>\n",
        "      <td> 66527053@N04</td>\n",
        "      <td> http://www.flickr.com/photos/66527053@N04/7177...</td>\n",
        "      <td> False</td>\n",
        "      <td> False</td>\n",
        "      <td> False</td>\n",
        "      <td> False</td>\n",
        "      <td> False</td>\n",
        "      <td> False</td>\n",
        "      <td> False</td>\n",
        "      <td> False</td>\n",
        "      <td> False</td>\n",
        "      <td> False</td>\n",
        "      <td> False</td>\n",
        "      <td> False</td>\n",
        "      <td> False</td>\n",
        "      <td> False</td>\n",
        "      <td> False</td>\n",
        "      <td> False</td>\n",
        "      <td> False</td>\n",
        "      <td>...</td>\n",
        "    </tr>\n",
        "    <tr>\n",
        "      <th>13152375144</th>\n",
        "      <td> http://farm8.staticflickr.com/7386/13152375144...</td>\n",
        "      <td> 54063974@N03</td>\n",
        "      <td> http://www.flickr.com/photos/54063974@N03/1315...</td>\n",
        "      <td> False</td>\n",
        "      <td> False</td>\n",
        "      <td> False</td>\n",
        "      <td>  True</td>\n",
        "      <td> False</td>\n",
        "      <td> False</td>\n",
        "      <td> False</td>\n",
        "      <td> False</td>\n",
        "      <td> False</td>\n",
        "      <td> False</td>\n",
        "      <td> False</td>\n",
        "      <td> False</td>\n",
        "      <td> False</td>\n",
        "      <td> False</td>\n",
        "      <td> False</td>\n",
        "      <td> False</td>\n",
        "      <td> False</td>\n",
        "      <td>...</td>\n",
        "    </tr>\n",
        "    <tr>\n",
        "      <th>7173033228</th>\n",
        "      <td> http://farm8.staticflickr.com/7098/7173033228_...</td>\n",
        "      <td> 30394302@N05</td>\n",
        "      <td> http://www.flickr.com/photos/30394302@N05/7173...</td>\n",
        "      <td> False</td>\n",
        "      <td> False</td>\n",
        "      <td> False</td>\n",
        "      <td> False</td>\n",
        "      <td> False</td>\n",
        "      <td> False</td>\n",
        "      <td> False</td>\n",
        "      <td> False</td>\n",
        "      <td> False</td>\n",
        "      <td> False</td>\n",
        "      <td> False</td>\n",
        "      <td> False</td>\n",
        "      <td> False</td>\n",
        "      <td> False</td>\n",
        "      <td> False</td>\n",
        "      <td> False</td>\n",
        "      <td> False</td>\n",
        "      <td>...</td>\n",
        "    </tr>\n",
        "    <tr>\n",
        "      <th>7177064854</th>\n",
        "      <td> http://farm8.staticflickr.com/7224/7177064854_...</td>\n",
        "      <td> 76231614@N04</td>\n",
        "      <td> http://www.flickr.com/photos/76231614@N04/7177...</td>\n",
        "      <td> False</td>\n",
        "      <td> False</td>\n",
        "      <td> False</td>\n",
        "      <td> False</td>\n",
        "      <td> False</td>\n",
        "      <td> False</td>\n",
        "      <td> False</td>\n",
        "      <td> False</td>\n",
        "      <td> False</td>\n",
        "      <td> False</td>\n",
        "      <td> False</td>\n",
        "      <td> False</td>\n",
        "      <td> False</td>\n",
        "      <td> False</td>\n",
        "      <td> False</td>\n",
        "      <td> False</td>\n",
        "      <td> False</td>\n",
        "      <td>...</td>\n",
        "    </tr>\n",
        "    <tr>\n",
        "      <th>13152054945</th>\n",
        "      <td> http://farm8.staticflickr.com/7295/13152054945...</td>\n",
        "      <td> 46566506@N03</td>\n",
        "      <td> http://www.flickr.com/photos/46566506@N03/1315...</td>\n",
        "      <td> False</td>\n",
        "      <td> False</td>\n",
        "      <td> False</td>\n",
        "      <td>  True</td>\n",
        "      <td> False</td>\n",
        "      <td> False</td>\n",
        "      <td> False</td>\n",
        "      <td> False</td>\n",
        "      <td> False</td>\n",
        "      <td> False</td>\n",
        "      <td> False</td>\n",
        "      <td> False</td>\n",
        "      <td> False</td>\n",
        "      <td> False</td>\n",
        "      <td> False</td>\n",
        "      <td> False</td>\n",
        "      <td> False</td>\n",
        "      <td>...</td>\n",
        "    </tr>\n",
        "    <tr>\n",
        "      <th>13156933443</th>\n",
        "      <td> http://farm3.staticflickr.com/2120/13156933443...</td>\n",
        "      <td> 35818225@N03</td>\n",
        "      <td> http://www.flickr.com/photos/35818225@N03/1315...</td>\n",
        "      <td> False</td>\n",
        "      <td> False</td>\n",
        "      <td> False</td>\n",
        "      <td>  True</td>\n",
        "      <td> False</td>\n",
        "      <td> False</td>\n",
        "      <td> False</td>\n",
        "      <td> False</td>\n",
        "      <td> False</td>\n",
        "      <td> False</td>\n",
        "      <td> False</td>\n",
        "      <td> False</td>\n",
        "      <td> False</td>\n",
        "      <td> False</td>\n",
        "      <td> False</td>\n",
        "      <td> False</td>\n",
        "      <td> False</td>\n",
        "      <td>...</td>\n",
        "    </tr>\n",
        "    <tr>\n",
        "      <th>7177732582</th>\n",
        "      <td> http://farm8.staticflickr.com/7223/7177732582_...</td>\n",
        "      <td> 50662172@N07</td>\n",
        "      <td> http://www.flickr.com/photos/50662172@N07/7177...</td>\n",
        "      <td> False</td>\n",
        "      <td> False</td>\n",
        "      <td> False</td>\n",
        "      <td> False</td>\n",
        "      <td> False</td>\n",
        "      <td> False</td>\n",
        "      <td> False</td>\n",
        "      <td> False</td>\n",
        "      <td> False</td>\n",
        "      <td> False</td>\n",
        "      <td> False</td>\n",
        "      <td> False</td>\n",
        "      <td> False</td>\n",
        "      <td> False</td>\n",
        "      <td> False</td>\n",
        "      <td> False</td>\n",
        "      <td> False</td>\n",
        "      <td>...</td>\n",
        "    </tr>\n",
        "    <tr>\n",
        "      <th>13156940073</th>\n",
        "      <td> http://farm8.staticflickr.com/7106/13156940073...</td>\n",
        "      <td> 35818225@N03</td>\n",
        "      <td> http://www.flickr.com/photos/35818225@N03/1315...</td>\n",
        "      <td> False</td>\n",
        "      <td> False</td>\n",
        "      <td> False</td>\n",
        "      <td>  True</td>\n",
        "      <td> False</td>\n",
        "      <td> False</td>\n",
        "      <td> False</td>\n",
        "      <td> False</td>\n",
        "      <td> False</td>\n",
        "      <td> False</td>\n",
        "      <td> False</td>\n",
        "      <td> False</td>\n",
        "      <td> False</td>\n",
        "      <td> False</td>\n",
        "      <td> False</td>\n",
        "      <td> False</td>\n",
        "      <td> False</td>\n",
        "      <td>...</td>\n",
        "    </tr>\n",
        "    <tr>\n",
        "      <th>13156307585</th>\n",
        "      <td> http://farm4.staticflickr.com/3725/13156307585...</td>\n",
        "      <td> 46465237@N03</td>\n",
        "      <td> http://www.flickr.com/photos/46465237@N03/1315...</td>\n",
        "      <td> False</td>\n",
        "      <td> False</td>\n",
        "      <td> False</td>\n",
        "      <td>  True</td>\n",
        "      <td> False</td>\n",
        "      <td> False</td>\n",
        "      <td> False</td>\n",
        "      <td> False</td>\n",
        "      <td> False</td>\n",
        "      <td> False</td>\n",
        "      <td> False</td>\n",
        "      <td> False</td>\n",
        "      <td> False</td>\n",
        "      <td> False</td>\n",
        "      <td> False</td>\n",
        "      <td> False</td>\n",
        "      <td> False</td>\n",
        "      <td>...</td>\n",
        "    </tr>\n",
        "    <tr>\n",
        "      <th>7173929938</th>\n",
        "      <td> http://farm8.staticflickr.com/7101/7173929938_...</td>\n",
        "      <td> 63581292@N02</td>\n",
        "      <td> http://www.flickr.com/photos/63581292@N02/7173...</td>\n",
        "      <td> False</td>\n",
        "      <td> False</td>\n",
        "      <td> False</td>\n",
        "      <td> False</td>\n",
        "      <td> False</td>\n",
        "      <td> False</td>\n",
        "      <td> False</td>\n",
        "      <td> False</td>\n",
        "      <td> False</td>\n",
        "      <td> False</td>\n",
        "      <td> False</td>\n",
        "      <td> False</td>\n",
        "      <td> False</td>\n",
        "      <td> False</td>\n",
        "      <td> False</td>\n",
        "      <td> False</td>\n",
        "      <td> False</td>\n",
        "      <td>...</td>\n",
        "    </tr>\n",
        "  </tbody>\n",
        "</table>\n",
        "<p>10 rows \u00d7 23 columns</p>\n",
        "</div>"
       ],
       "metadata": {},
       "output_type": "pyout",
       "prompt_number": 90,
       "text": [
        "                                                     image_url         owner  \\\n",
        "7177299046   http://farm6.staticflickr.com/5336/7177299046_...  66527053@N04   \n",
        "13152375144  http://farm8.staticflickr.com/7386/13152375144...  54063974@N03   \n",
        "7173033228   http://farm8.staticflickr.com/7098/7173033228_...  30394302@N05   \n",
        "7177064854   http://farm8.staticflickr.com/7224/7177064854_...  76231614@N04   \n",
        "13152054945  http://farm8.staticflickr.com/7295/13152054945...  46566506@N03   \n",
        "13156933443  http://farm3.staticflickr.com/2120/13156933443...  35818225@N03   \n",
        "7177732582   http://farm8.staticflickr.com/7223/7177732582_...  50662172@N07   \n",
        "13156940073  http://farm8.staticflickr.com/7106/13156940073...  35818225@N03   \n",
        "13156307585  http://farm4.staticflickr.com/3725/13156307585...  46465237@N03   \n",
        "7173929938   http://farm8.staticflickr.com/7101/7173929938_...  63581292@N02   \n",
        "\n",
        "                                                      page_url style_Bokeh  \\\n",
        "7177299046   http://www.flickr.com/photos/66527053@N04/7177...       False   \n",
        "13152375144  http://www.flickr.com/photos/54063974@N03/1315...       False   \n",
        "7173033228   http://www.flickr.com/photos/30394302@N05/7173...       False   \n",
        "7177064854   http://www.flickr.com/photos/76231614@N04/7177...       False   \n",
        "13152054945  http://www.flickr.com/photos/46566506@N03/1315...       False   \n",
        "13156933443  http://www.flickr.com/photos/35818225@N03/1315...       False   \n",
        "7177732582   http://www.flickr.com/photos/50662172@N07/7177...       False   \n",
        "13156940073  http://www.flickr.com/photos/35818225@N03/1315...       False   \n",
        "13156307585  http://www.flickr.com/photos/46465237@N03/1315...       False   \n",
        "7173929938   http://www.flickr.com/photos/63581292@N02/7173...       False   \n",
        "\n",
        "            style_Bright style_Depth_of_Field style_Detailed style_Ethereal  \\\n",
        "7177299046         False                False          False          False   \n",
        "13152375144        False                False           True          False   \n",
        "7173033228         False                False          False          False   \n",
        "7177064854         False                False          False          False   \n",
        "13152054945        False                False           True          False   \n",
        "13156933443        False                False           True          False   \n",
        "7177732582         False                False          False          False   \n",
        "13156940073        False                False           True          False   \n",
        "13156307585        False                False           True          False   \n",
        "7173929938         False                False          False          False   \n",
        "\n",
        "            style_Geometric_Composition style_HDR style_Hazy style_Horror  \\\n",
        "7177299046                        False     False      False        False   \n",
        "13152375144                       False     False      False        False   \n",
        "7173033228                        False     False      False        False   \n",
        "7177064854                        False     False      False        False   \n",
        "13152054945                       False     False      False        False   \n",
        "13156933443                       False     False      False        False   \n",
        "7177732582                        False     False      False        False   \n",
        "13156940073                       False     False      False        False   \n",
        "13156307585                       False     False      False        False   \n",
        "7173929938                        False     False      False        False   \n",
        "\n",
        "            style_Long_Exposure style_Macro style_Melancholy style_Minimal  \\\n",
        "7177299046                False       False            False         False   \n",
        "13152375144               False       False            False         False   \n",
        "7173033228                False       False            False         False   \n",
        "7177064854                False       False            False         False   \n",
        "13152054945               False       False            False         False   \n",
        "13156933443               False       False            False         False   \n",
        "7177732582                False       False            False         False   \n",
        "13156940073               False       False            False         False   \n",
        "13156307585               False       False            False         False   \n",
        "7173929938                False       False            False         False   \n",
        "\n",
        "            style_Noir style_Pastel style_Romantic style_Serene      \n",
        "7177299046       False        False          False        False ...  \n",
        "13152375144      False        False          False        False ...  \n",
        "7173033228       False        False          False        False ...  \n",
        "7177064854       False        False          False        False ...  \n",
        "13152054945      False        False          False        False ...  \n",
        "13156933443      False        False          False        False ...  \n",
        "7177732582       False        False          False        False ...  \n",
        "13156940073      False        False          False        False ...  \n",
        "13156307585      False        False          False        False ...  \n",
        "7173929938       False        False          False        False ...  \n",
        "\n",
        "[10 rows x 23 columns]"
       ]
      }
     ],
     "prompt_number": 90
    },
    {
     "cell_type": "markdown",
     "metadata": {},
     "source": [
      "## Automate"
     ]
    },
    {
     "cell_type": "code",
     "collapsed": false,
     "input": [
      "spam_images.values()[0]"
     ],
     "language": "python",
     "metadata": {},
     "outputs": [
      {
       "metadata": {},
       "output_type": "pyout",
       "prompt_number": 91,
       "text": [
        "['12678909473', '9584007214']"
       ]
      }
     ],
     "prompt_number": 91
    },
    {
     "cell_type": "code",
     "collapsed": false,
     "input": [
      "print spam_images.keys()[0]\n",
      "sdf = spam_df.ix[ spam_images.values()[0] ]\n",
      "sdf"
     ],
     "language": "python",
     "metadata": {},
     "outputs": [
      {
       "output_type": "stream",
       "stream": "stdout",
       "text": [
        "detailed\n"
       ]
      },
      {
       "html": [
        "<div style=\"max-height:1000px;max-width:1500px;overflow:auto;\">\n",
        "<table border=\"1\" class=\"dataframe\">\n",
        "  <thead>\n",
        "    <tr style=\"text-align: right;\">\n",
        "      <th></th>\n",
        "      <th>image_url</th>\n",
        "      <th>owner</th>\n",
        "      <th>page_url</th>\n",
        "      <th>style_Bokeh</th>\n",
        "      <th>style_Bright</th>\n",
        "      <th>style_Depth_of_Field</th>\n",
        "      <th>style_Detailed</th>\n",
        "      <th>style_Ethereal</th>\n",
        "      <th>style_Geometric_Composition</th>\n",
        "      <th>style_HDR</th>\n",
        "      <th>style_Hazy</th>\n",
        "      <th>style_Horror</th>\n",
        "      <th>style_Long_Exposure</th>\n",
        "      <th>style_Macro</th>\n",
        "      <th>style_Melancholy</th>\n",
        "      <th>style_Minimal</th>\n",
        "      <th>style_Noir</th>\n",
        "      <th>style_Pastel</th>\n",
        "      <th>style_Romantic</th>\n",
        "      <th>style_Serene</th>\n",
        "      <th></th>\n",
        "    </tr>\n",
        "  </thead>\n",
        "  <tbody>\n",
        "    <tr>\n",
        "      <th>12678909473</th>\n",
        "      <td> http://farm8.staticflickr.com/7301/12678909473...</td>\n",
        "      <td> 25238068@N04</td>\n",
        "      <td> http://www.flickr.com/photos/25238068@N04/1267...</td>\n",
        "      <td> False</td>\n",
        "      <td> False</td>\n",
        "      <td> False</td>\n",
        "      <td> True</td>\n",
        "      <td> False</td>\n",
        "      <td> False</td>\n",
        "      <td> False</td>\n",
        "      <td> False</td>\n",
        "      <td> False</td>\n",
        "      <td> False</td>\n",
        "      <td> False</td>\n",
        "      <td> False</td>\n",
        "      <td> False</td>\n",
        "      <td> False</td>\n",
        "      <td> False</td>\n",
        "      <td> False</td>\n",
        "      <td> False</td>\n",
        "      <td>...</td>\n",
        "    </tr>\n",
        "    <tr>\n",
        "      <th>9584007214</th>\n",
        "      <td> http://farm4.staticflickr.com/3793/9584007214_...</td>\n",
        "      <td> 46566506@N03</td>\n",
        "      <td> http://www.flickr.com/photos/46566506@N03/9584...</td>\n",
        "      <td> False</td>\n",
        "      <td> False</td>\n",
        "      <td> False</td>\n",
        "      <td> True</td>\n",
        "      <td> False</td>\n",
        "      <td> False</td>\n",
        "      <td> False</td>\n",
        "      <td> False</td>\n",
        "      <td> False</td>\n",
        "      <td> False</td>\n",
        "      <td> False</td>\n",
        "      <td> False</td>\n",
        "      <td> False</td>\n",
        "      <td> False</td>\n",
        "      <td> False</td>\n",
        "      <td> False</td>\n",
        "      <td> False</td>\n",
        "      <td>...</td>\n",
        "    </tr>\n",
        "  </tbody>\n",
        "</table>\n",
        "<p>2 rows \u00d7 23 columns</p>\n",
        "</div>"
       ],
       "metadata": {},
       "output_type": "pyout",
       "prompt_number": 92,
       "text": [
        "                                                     image_url         owner  \\\n",
        "12678909473  http://farm8.staticflickr.com/7301/12678909473...  25238068@N04   \n",
        "9584007214   http://farm4.staticflickr.com/3793/9584007214_...  46566506@N03   \n",
        "\n",
        "                                                      page_url style_Bokeh  \\\n",
        "12678909473  http://www.flickr.com/photos/25238068@N04/1267...       False   \n",
        "9584007214   http://www.flickr.com/photos/46566506@N03/9584...       False   \n",
        "\n",
        "            style_Bright style_Depth_of_Field style_Detailed style_Ethereal  \\\n",
        "12678909473        False                False           True          False   \n",
        "9584007214         False                False           True          False   \n",
        "\n",
        "            style_Geometric_Composition style_HDR style_Hazy style_Horror  \\\n",
        "12678909473                       False     False      False        False   \n",
        "9584007214                        False     False      False        False   \n",
        "\n",
        "            style_Long_Exposure style_Macro style_Melancholy style_Minimal  \\\n",
        "12678909473               False       False            False         False   \n",
        "9584007214                False       False            False         False   \n",
        "\n",
        "            style_Noir style_Pastel style_Romantic style_Serene      \n",
        "12678909473      False        False          False        False ...  \n",
        "9584007214       False        False          False        False ...  \n",
        "\n",
        "[2 rows x 23 columns]"
       ]
      }
     ],
     "prompt_number": 92
    },
    {
     "cell_type": "code",
     "collapsed": false,
     "input": [
      "def dfs_for_style( style ):\n",
      "    \n",
      "    # df style name\n",
      "    pos_style = style\n",
      "    slug = slugify\n",
      "    \n",
      "    # split dfs into those containing and not containing the test style\n",
      "    posdf = work_df[ work_df[pos_style] == True ]\n",
      "    negdf = work_df[ work_df[pos_style] == False ]\n",
      "        \n",
      "    # shuffle negative examples\n",
      "    negdf = negdf.reindex( np.random.permutation( negdf.index ) )\n",
      "    \n",
      "    DFs = []\n",
      "    pcount = 0\n",
      "    ncount = 0\n",
      "\n",
      "    while pcount + ncount < TOTAL_IMAGES:\n",
      "        \n",
      "        # sample our rows\n",
      "        pdf = posdf[ pcount : pcount + n_pos_images ]\n",
      "        ndf = negdf[ ncount : ncount + n_neg_images ]\n",
      "        \n",
      "        sdf = spam_df.ix[ spam_images[style] ]\n",
      "        \n",
      "        # merge dfs\n",
      "        df = pd.concat( [ pdf, ndf, sdf ] )\n",
      "        \n",
      "        # shuffle\n",
      "        df = df.reindex( np.random.permutation( df.index ) )\n",
      "        \n",
      "        # add to list and increment counts\n",
      "        DFs += [ df ]\n",
      "        pcount += n_pos_images\n",
      "        ncount += n_neg_images\n",
      "        \n",
      "    return DFs"
     ],
     "language": "python",
     "metadata": {},
     "outputs": [],
     "prompt_number": 100
    },
    {
     "cell_type": "code",
     "collapsed": false,
     "input": [
      "DFs_dict = {}\n",
      "\n",
      "for key, value in style_dict.items():\n",
      "    DFs_dict[key] = dfs_for_style( value[1] )"
     ],
     "language": "python",
     "metadata": {},
     "outputs": [],
     "prompt_number": 101
    },
    {
     "cell_type": "code",
     "collapsed": false,
     "input": [
      "len( DFs_dict.values()[0] )"
     ],
     "language": "python",
     "metadata": {},
     "outputs": [
      {
       "metadata": {},
       "output_type": "pyout",
       "prompt_number": 102,
       "text": [
        "200"
       ]
      }
     ],
     "prompt_number": 102
    },
    {
     "cell_type": "code",
     "collapsed": false,
     "input": [
      "DFs_dict.values()[0][0]"
     ],
     "language": "python",
     "metadata": {},
     "outputs": [
      {
       "html": [
        "<div style=\"max-height:1000px;max-width:1500px;overflow:auto;\">\n",
        "<table border=\"1\" class=\"dataframe\">\n",
        "  <thead>\n",
        "    <tr style=\"text-align: right;\">\n",
        "      <th></th>\n",
        "      <th>image_url</th>\n",
        "      <th>owner</th>\n",
        "      <th>page_url</th>\n",
        "      <th>style_Bokeh</th>\n",
        "      <th>style_Bright</th>\n",
        "      <th>style_Depth_of_Field</th>\n",
        "      <th>style_Detailed</th>\n",
        "      <th>style_Ethereal</th>\n",
        "      <th>style_Geometric_Composition</th>\n",
        "      <th>style_HDR</th>\n",
        "      <th>style_Hazy</th>\n",
        "      <th>style_Horror</th>\n",
        "      <th>style_Long_Exposure</th>\n",
        "      <th>style_Macro</th>\n",
        "      <th>style_Melancholy</th>\n",
        "      <th>style_Minimal</th>\n",
        "      <th>style_Noir</th>\n",
        "      <th>style_Pastel</th>\n",
        "      <th>style_Romantic</th>\n",
        "      <th>style_Serene</th>\n",
        "      <th></th>\n",
        "    </tr>\n",
        "  </thead>\n",
        "  <tbody>\n",
        "    <tr>\n",
        "      <th>8530766395</th>\n",
        "      <td> http://farm9.staticflickr.com/8368/8530766395_...</td>\n",
        "      <td>  48664097@N02</td>\n",
        "      <td> http://www.flickr.com/photos/48664097@N02/8530...</td>\n",
        "      <td> False</td>\n",
        "      <td> False</td>\n",
        "      <td> False</td>\n",
        "      <td>  True</td>\n",
        "      <td> False</td>\n",
        "      <td> False</td>\n",
        "      <td> False</td>\n",
        "      <td> False</td>\n",
        "      <td> False</td>\n",
        "      <td> False</td>\n",
        "      <td> False</td>\n",
        "      <td> False</td>\n",
        "      <td> False</td>\n",
        "      <td> False</td>\n",
        "      <td> False</td>\n",
        "      <td> False</td>\n",
        "      <td> False</td>\n",
        "      <td>...</td>\n",
        "    </tr>\n",
        "    <tr>\n",
        "      <th>12444027363</th>\n",
        "      <td> http://farm8.staticflickr.com/7383/12444027363...</td>\n",
        "      <td>  90563935@N08</td>\n",
        "      <td> http://www.flickr.com/photos/90563935@N08/1244...</td>\n",
        "      <td> False</td>\n",
        "      <td> False</td>\n",
        "      <td> False</td>\n",
        "      <td> False</td>\n",
        "      <td> False</td>\n",
        "      <td> False</td>\n",
        "      <td> False</td>\n",
        "      <td> False</td>\n",
        "      <td> False</td>\n",
        "      <td> False</td>\n",
        "      <td>  True</td>\n",
        "      <td> False</td>\n",
        "      <td> False</td>\n",
        "      <td> False</td>\n",
        "      <td> False</td>\n",
        "      <td> False</td>\n",
        "      <td> False</td>\n",
        "      <td>...</td>\n",
        "    </tr>\n",
        "    <tr>\n",
        "      <th>8082105048</th>\n",
        "      <td> http://farm9.staticflickr.com/8188/8082105048_...</td>\n",
        "      <td>  58402751@N00</td>\n",
        "      <td> http://www.flickr.com/photos/58402751@N00/8082...</td>\n",
        "      <td> False</td>\n",
        "      <td> False</td>\n",
        "      <td> False</td>\n",
        "      <td> False</td>\n",
        "      <td> False</td>\n",
        "      <td> False</td>\n",
        "      <td> False</td>\n",
        "      <td>  True</td>\n",
        "      <td> False</td>\n",
        "      <td> False</td>\n",
        "      <td> False</td>\n",
        "      <td> False</td>\n",
        "      <td> False</td>\n",
        "      <td> False</td>\n",
        "      <td> False</td>\n",
        "      <td> False</td>\n",
        "      <td> False</td>\n",
        "      <td>...</td>\n",
        "    </tr>\n",
        "    <tr>\n",
        "      <th>9584007214</th>\n",
        "      <td> http://farm4.staticflickr.com/3793/9584007214_...</td>\n",
        "      <td>  46566506@N03</td>\n",
        "      <td> http://www.flickr.com/photos/46566506@N03/9584...</td>\n",
        "      <td> False</td>\n",
        "      <td> False</td>\n",
        "      <td> False</td>\n",
        "      <td>  True</td>\n",
        "      <td> False</td>\n",
        "      <td> False</td>\n",
        "      <td> False</td>\n",
        "      <td> False</td>\n",
        "      <td> False</td>\n",
        "      <td> False</td>\n",
        "      <td> False</td>\n",
        "      <td> False</td>\n",
        "      <td> False</td>\n",
        "      <td> False</td>\n",
        "      <td> False</td>\n",
        "      <td> False</td>\n",
        "      <td> False</td>\n",
        "      <td>...</td>\n",
        "    </tr>\n",
        "    <tr>\n",
        "      <th>12584458034</th>\n",
        "      <td> http://farm6.staticflickr.com/5520/12584458034...</td>\n",
        "      <td>  66806895@N04</td>\n",
        "      <td> http://www.flickr.com/photos/66806895@N04/1258...</td>\n",
        "      <td> False</td>\n",
        "      <td> False</td>\n",
        "      <td> False</td>\n",
        "      <td> False</td>\n",
        "      <td> False</td>\n",
        "      <td> False</td>\n",
        "      <td> False</td>\n",
        "      <td> False</td>\n",
        "      <td> False</td>\n",
        "      <td> False</td>\n",
        "      <td>  True</td>\n",
        "      <td> False</td>\n",
        "      <td> False</td>\n",
        "      <td> False</td>\n",
        "      <td> False</td>\n",
        "      <td> False</td>\n",
        "      <td> False</td>\n",
        "      <td>...</td>\n",
        "    </tr>\n",
        "    <tr>\n",
        "      <th>12678909473</th>\n",
        "      <td> http://farm8.staticflickr.com/7301/12678909473...</td>\n",
        "      <td>  25238068@N04</td>\n",
        "      <td> http://www.flickr.com/photos/25238068@N04/1267...</td>\n",
        "      <td> False</td>\n",
        "      <td> False</td>\n",
        "      <td> False</td>\n",
        "      <td>  True</td>\n",
        "      <td> False</td>\n",
        "      <td> False</td>\n",
        "      <td> False</td>\n",
        "      <td> False</td>\n",
        "      <td> False</td>\n",
        "      <td> False</td>\n",
        "      <td> False</td>\n",
        "      <td> False</td>\n",
        "      <td> False</td>\n",
        "      <td> False</td>\n",
        "      <td> False</td>\n",
        "      <td> False</td>\n",
        "      <td> False</td>\n",
        "      <td>...</td>\n",
        "    </tr>\n",
        "    <tr>\n",
        "      <th>5159730964</th>\n",
        "      <td> http://farm2.staticflickr.com/1227/5159730964_...</td>\n",
        "      <td>  48664097@N02</td>\n",
        "      <td> http://www.flickr.com/photos/48664097@N02/5159...</td>\n",
        "      <td> False</td>\n",
        "      <td> False</td>\n",
        "      <td> False</td>\n",
        "      <td>  True</td>\n",
        "      <td> False</td>\n",
        "      <td> False</td>\n",
        "      <td> False</td>\n",
        "      <td> False</td>\n",
        "      <td> False</td>\n",
        "      <td> False</td>\n",
        "      <td> False</td>\n",
        "      <td> False</td>\n",
        "      <td> False</td>\n",
        "      <td> False</td>\n",
        "      <td> False</td>\n",
        "      <td> False</td>\n",
        "      <td> False</td>\n",
        "      <td>...</td>\n",
        "    </tr>\n",
        "    <tr>\n",
        "      <th>13297737684</th>\n",
        "      <td> http://farm3.staticflickr.com/2875/13297737684...</td>\n",
        "      <td>  92325042@N02</td>\n",
        "      <td> http://www.flickr.com/photos/92325042@N02/1329...</td>\n",
        "      <td> False</td>\n",
        "      <td> False</td>\n",
        "      <td> False</td>\n",
        "      <td>  True</td>\n",
        "      <td> False</td>\n",
        "      <td> False</td>\n",
        "      <td> False</td>\n",
        "      <td> False</td>\n",
        "      <td> False</td>\n",
        "      <td> False</td>\n",
        "      <td> False</td>\n",
        "      <td> False</td>\n",
        "      <td> False</td>\n",
        "      <td> False</td>\n",
        "      <td> False</td>\n",
        "      <td> False</td>\n",
        "      <td> False</td>\n",
        "      <td>...</td>\n",
        "    </tr>\n",
        "    <tr>\n",
        "      <th>12695140633</th>\n",
        "      <td> http://farm8.staticflickr.com/7316/12695140633...</td>\n",
        "      <td>   7132158@N07</td>\n",
        "      <td> http://www.flickr.com/photos/7132158@N07/12695...</td>\n",
        "      <td> False</td>\n",
        "      <td> False</td>\n",
        "      <td> False</td>\n",
        "      <td> False</td>\n",
        "      <td> False</td>\n",
        "      <td> False</td>\n",
        "      <td>  True</td>\n",
        "      <td> False</td>\n",
        "      <td> False</td>\n",
        "      <td> False</td>\n",
        "      <td> False</td>\n",
        "      <td> False</td>\n",
        "      <td> False</td>\n",
        "      <td> False</td>\n",
        "      <td> False</td>\n",
        "      <td> False</td>\n",
        "      <td> False</td>\n",
        "      <td>...</td>\n",
        "    </tr>\n",
        "    <tr>\n",
        "      <th>13293240683</th>\n",
        "      <td> http://farm8.staticflickr.com/7218/13293240683...</td>\n",
        "      <td> 116179736@N08</td>\n",
        "      <td> http://www.flickr.com/photos/116179736@N08/132...</td>\n",
        "      <td> False</td>\n",
        "      <td> False</td>\n",
        "      <td> False</td>\n",
        "      <td>  True</td>\n",
        "      <td> False</td>\n",
        "      <td> False</td>\n",
        "      <td> False</td>\n",
        "      <td> False</td>\n",
        "      <td> False</td>\n",
        "      <td> False</td>\n",
        "      <td> False</td>\n",
        "      <td> False</td>\n",
        "      <td> False</td>\n",
        "      <td> False</td>\n",
        "      <td> False</td>\n",
        "      <td> False</td>\n",
        "      <td> False</td>\n",
        "      <td>...</td>\n",
        "    </tr>\n",
        "    <tr>\n",
        "      <th>12403048223</th>\n",
        "      <td> http://farm8.staticflickr.com/7389/12403048223...</td>\n",
        "      <td>  55056562@N05</td>\n",
        "      <td> http://www.flickr.com/photos/55056562@N05/1240...</td>\n",
        "      <td> False</td>\n",
        "      <td> False</td>\n",
        "      <td> False</td>\n",
        "      <td> False</td>\n",
        "      <td> False</td>\n",
        "      <td> False</td>\n",
        "      <td> False</td>\n",
        "      <td> False</td>\n",
        "      <td> False</td>\n",
        "      <td> False</td>\n",
        "      <td> False</td>\n",
        "      <td>  True</td>\n",
        "      <td> False</td>\n",
        "      <td> False</td>\n",
        "      <td> False</td>\n",
        "      <td> False</td>\n",
        "      <td> False</td>\n",
        "      <td>...</td>\n",
        "    </tr>\n",
        "    <tr>\n",
        "      <th>13293330564</th>\n",
        "      <td> http://farm4.staticflickr.com/3712/13293330564...</td>\n",
        "      <td>  33784579@N05</td>\n",
        "      <td> http://www.flickr.com/photos/33784579@N05/1329...</td>\n",
        "      <td> False</td>\n",
        "      <td> False</td>\n",
        "      <td> False</td>\n",
        "      <td>  True</td>\n",
        "      <td> False</td>\n",
        "      <td> False</td>\n",
        "      <td> False</td>\n",
        "      <td> False</td>\n",
        "      <td> False</td>\n",
        "      <td> False</td>\n",
        "      <td> False</td>\n",
        "      <td> False</td>\n",
        "      <td> False</td>\n",
        "      <td> False</td>\n",
        "      <td> False</td>\n",
        "      <td> False</td>\n",
        "      <td> False</td>\n",
        "      <td>...</td>\n",
        "    </tr>\n",
        "  </tbody>\n",
        "</table>\n",
        "<p>12 rows \u00d7 23 columns</p>\n",
        "</div>"
       ],
       "metadata": {},
       "output_type": "pyout",
       "prompt_number": 103,
       "text": [
        "                                                     image_url          owner  \\\n",
        "8530766395   http://farm9.staticflickr.com/8368/8530766395_...   48664097@N02   \n",
        "12444027363  http://farm8.staticflickr.com/7383/12444027363...   90563935@N08   \n",
        "8082105048   http://farm9.staticflickr.com/8188/8082105048_...   58402751@N00   \n",
        "9584007214   http://farm4.staticflickr.com/3793/9584007214_...   46566506@N03   \n",
        "12584458034  http://farm6.staticflickr.com/5520/12584458034...   66806895@N04   \n",
        "12678909473  http://farm8.staticflickr.com/7301/12678909473...   25238068@N04   \n",
        "5159730964   http://farm2.staticflickr.com/1227/5159730964_...   48664097@N02   \n",
        "13297737684  http://farm3.staticflickr.com/2875/13297737684...   92325042@N02   \n",
        "12695140633  http://farm8.staticflickr.com/7316/12695140633...    7132158@N07   \n",
        "13293240683  http://farm8.staticflickr.com/7218/13293240683...  116179736@N08   \n",
        "12403048223  http://farm8.staticflickr.com/7389/12403048223...   55056562@N05   \n",
        "13293330564  http://farm4.staticflickr.com/3712/13293330564...   33784579@N05   \n",
        "\n",
        "                                                      page_url style_Bokeh  \\\n",
        "8530766395   http://www.flickr.com/photos/48664097@N02/8530...       False   \n",
        "12444027363  http://www.flickr.com/photos/90563935@N08/1244...       False   \n",
        "8082105048   http://www.flickr.com/photos/58402751@N00/8082...       False   \n",
        "9584007214   http://www.flickr.com/photos/46566506@N03/9584...       False   \n",
        "12584458034  http://www.flickr.com/photos/66806895@N04/1258...       False   \n",
        "12678909473  http://www.flickr.com/photos/25238068@N04/1267...       False   \n",
        "5159730964   http://www.flickr.com/photos/48664097@N02/5159...       False   \n",
        "13297737684  http://www.flickr.com/photos/92325042@N02/1329...       False   \n",
        "12695140633  http://www.flickr.com/photos/7132158@N07/12695...       False   \n",
        "13293240683  http://www.flickr.com/photos/116179736@N08/132...       False   \n",
        "12403048223  http://www.flickr.com/photos/55056562@N05/1240...       False   \n",
        "13293330564  http://www.flickr.com/photos/33784579@N05/1329...       False   \n",
        "\n",
        "            style_Bright style_Depth_of_Field style_Detailed style_Ethereal  \\\n",
        "8530766395         False                False           True          False   \n",
        "12444027363        False                False          False          False   \n",
        "8082105048         False                False          False          False   \n",
        "9584007214         False                False           True          False   \n",
        "12584458034        False                False          False          False   \n",
        "12678909473        False                False           True          False   \n",
        "5159730964         False                False           True          False   \n",
        "13297737684        False                False           True          False   \n",
        "12695140633        False                False          False          False   \n",
        "13293240683        False                False           True          False   \n",
        "12403048223        False                False          False          False   \n",
        "13293330564        False                False           True          False   \n",
        "\n",
        "            style_Geometric_Composition style_HDR style_Hazy style_Horror  \\\n",
        "8530766395                        False     False      False        False   \n",
        "12444027363                       False     False      False        False   \n",
        "8082105048                        False     False       True        False   \n",
        "9584007214                        False     False      False        False   \n",
        "12584458034                       False     False      False        False   \n",
        "12678909473                       False     False      False        False   \n",
        "5159730964                        False     False      False        False   \n",
        "13297737684                       False     False      False        False   \n",
        "12695140633                       False      True      False        False   \n",
        "13293240683                       False     False      False        False   \n",
        "12403048223                       False     False      False        False   \n",
        "13293330564                       False     False      False        False   \n",
        "\n",
        "            style_Long_Exposure style_Macro style_Melancholy style_Minimal  \\\n",
        "8530766395                False       False            False         False   \n",
        "12444027363               False        True            False         False   \n",
        "8082105048                False       False            False         False   \n",
        "9584007214                False       False            False         False   \n",
        "12584458034               False        True            False         False   \n",
        "12678909473               False       False            False         False   \n",
        "5159730964                False       False            False         False   \n",
        "13297737684               False       False            False         False   \n",
        "12695140633               False       False            False         False   \n",
        "13293240683               False       False            False         False   \n",
        "12403048223               False       False             True         False   \n",
        "13293330564               False       False            False         False   \n",
        "\n",
        "            style_Noir style_Pastel style_Romantic style_Serene      \n",
        "8530766395       False        False          False        False ...  \n",
        "12444027363      False        False          False        False ...  \n",
        "8082105048       False        False          False        False ...  \n",
        "9584007214       False        False          False        False ...  \n",
        "12584458034      False        False          False        False ...  \n",
        "12678909473      False        False          False        False ...  \n",
        "5159730964       False        False          False        False ...  \n",
        "13297737684      False        False          False        False ...  \n",
        "12695140633      False        False          False        False ...  \n",
        "13293240683      False        False          False        False ...  \n",
        "12403048223      False        False          False        False ...  \n",
        "13293330564      False        False          False        False ...  \n",
        "\n",
        "[12 rows x 23 columns]"
       ]
      }
     ],
     "prompt_number": 103
    },
    {
     "cell_type": "code",
     "collapsed": false,
     "input": [
      "import pickle"
     ],
     "language": "python",
     "metadata": {},
     "outputs": [],
     "prompt_number": 105
    },
    {
     "cell_type": "code",
     "collapsed": false,
     "input": [
      "#pickle.dump( DFs_dict, open( '../../DFs_dict_spam.pickle', 'w' ) )"
     ],
     "language": "python",
     "metadata": {},
     "outputs": [],
     "prompt_number": 108
    },
    {
     "cell_type": "code",
     "collapsed": false,
     "input": [
      "# DFs_dict = pickle.load( open( '../../DFs_dict.pickle' ) )"
     ],
     "language": "python",
     "metadata": {},
     "outputs": [
      {
       "ename": "NameError",
       "evalue": "name 'pickle' is not defined",
       "output_type": "pyerr",
       "traceback": [
        "\u001b[0;31m---------------------------------------------------------------------------\u001b[0m\n\u001b[0;31mNameError\u001b[0m                                 Traceback (most recent call last)",
        "\u001b[0;32m<ipython-input-104-cb4796bb7aa1>\u001b[0m in \u001b[0;36m<module>\u001b[0;34m()\u001b[0m\n\u001b[0;32m----> 1\u001b[0;31m \u001b[0mDFs_dict\u001b[0m \u001b[0;34m=\u001b[0m \u001b[0mpickle\u001b[0m\u001b[0;34m.\u001b[0m\u001b[0mload\u001b[0m\u001b[0;34m(\u001b[0m \u001b[0mopen\u001b[0m\u001b[0;34m(\u001b[0m \u001b[0;34m'../../DFs_dict_spam.pickle'\u001b[0m \u001b[0;34m)\u001b[0m \u001b[0;34m)\u001b[0m\u001b[0;34m\u001b[0m\u001b[0m\n\u001b[0m",
        "\u001b[0;31mNameError\u001b[0m: name 'pickle' is not defined"
       ]
      }
     ],
     "prompt_number": 104
    },
    {
     "cell_type": "markdown",
     "metadata": {},
     "source": [
      "# Test sample dataframes"
     ]
    },
    {
     "cell_type": "code",
     "collapsed": false,
     "input": [
      "style = 'hazy'\n",
      "print create_hit_url( style_dict[style][0], DFs_dict[style][0], debug=True )"
     ],
     "language": "python",
     "metadata": {},
     "outputs": [
      {
       "output_type": "stream",
       "stream": "stdout",
       "text": [
        "https://image-style-mturk.herokuapp.com/?debug=True&tagName=hazy&imgIds=13300468073%2C12661902455%2C13188533374%2C12908843123%2C13274334913%2C13272037004%2C13284842653%2C8710649981%2C13159494543%2C13271516884%2C8123136180%2C12570799695\n"
       ]
      }
     ],
     "prompt_number": 109
    },
    {
     "cell_type": "markdown",
     "metadata": {},
     "source": [
      "# Setup MTurk"
     ]
    },
    {
     "cell_type": "code",
     "collapsed": false,
     "input": [
      "# create the mturk connection\n",
      "MTC = MTurkConnection(aws_access_key_id=AWS_ACCESS_KEY_ID,\n",
      "                      aws_secret_access_key=AWS_SECRET_ACCESS_KEY,\n",
      "                      host=AWS_HOST,is_secure=True)"
     ],
     "language": "python",
     "metadata": {},
     "outputs": [],
     "prompt_number": 122
    },
    {
     "cell_type": "code",
     "collapsed": false,
     "input": [
      "style_HITs = pickle.load( open( '../../style_HITs.pickle' ) )"
     ],
     "language": "python",
     "metadata": {},
     "outputs": [],
     "prompt_number": 117
    },
    {
     "cell_type": "code",
     "collapsed": false,
     "input": [
      "# create the hit\n",
      "style_HITs = {}\n",
      "for key, value in style_dict.items():\n",
      "    style_HITs[key] = MTC.register_hit_type( \n",
      "        HIT_TITLE.format( value[0] ), \n",
      "        HIT_DESC.format( value[0] ), \n",
      "        Price(HIT_PRICE), \n",
      "        HIT_DURATION\n",
      "    )"
     ],
     "language": "python",
     "metadata": {},
     "outputs": [],
     "prompt_number": 41
    },
    {
     "cell_type": "code",
     "collapsed": false,
     "input": [
      "#import pickle\n",
      "#pickle.dump( style_HITs, open( '../../style_HITs.pickle', 'w' ) )"
     ],
     "language": "python",
     "metadata": {},
     "outputs": [],
     "prompt_number": 43
    },
    {
     "cell_type": "code",
     "collapsed": false,
     "input": [
      "print style_HITs.items()[0]"
     ],
     "language": "python",
     "metadata": {},
     "outputs": [
      {
       "output_type": "stream",
       "stream": "stdout",
       "text": [
        "(u'detailed', [<boto.mturk.connection.HITTypeId object at 0x10db628d0>])\n"
       ]
      }
     ],
     "prompt_number": 118
    },
    {
     "cell_type": "code",
     "collapsed": false,
     "input": [
      "#only get people with a good approval rating\n",
      "qual = Qualifications()\n",
      "qual.add( PercentAssignmentsApprovedRequirement( comparator=\"GreaterThan\", integer_value=\"95\" ) )"
     ],
     "language": "python",
     "metadata": {},
     "outputs": [],
     "prompt_number": 119
    },
    {
     "cell_type": "markdown",
     "metadata": {},
     "source": [
      "# Create HITS"
     ]
    },
    {
     "cell_type": "code",
     "collapsed": false,
     "input": [
      "%qtconsole"
     ],
     "language": "python",
     "metadata": {},
     "outputs": [],
     "prompt_number": 262
    },
    {
     "cell_type": "code",
     "collapsed": false,
     "input": [
      "hitlist = []\n",
      "count = 10"
     ],
     "language": "python",
     "metadata": {},
     "outputs": [],
     "prompt_number": 120
    },
    {
     "cell_type": "code",
     "collapsed": true,
     "input": [
      "to_count = 30"
     ],
     "language": "python",
     "metadata": {},
     "outputs": [],
     "prompt_number": 125
    },
    {
     "cell_type": "code",
     "collapsed": false,
     "input": [
      "range( count, to_count )"
     ],
     "language": "python",
     "metadata": {},
     "outputs": [
      {
       "metadata": {},
       "output_type": "pyout",
       "prompt_number": 126,
       "text": [
        "[11, 12, 13, 14, 15, 16, 17, 18, 19, 20, 21, 22, 23, 24, 25, 26, 27, 28, 29]"
       ]
      }
     ],
     "prompt_number": 126
    },
    {
     "cell_type": "code",
     "collapsed": false,
     "input": [
      "def release_hit_batch( count ):\n",
      "\n",
      "    hitlist = []\n",
      "\n",
      "    for key, value in style_dict.items():\n",
      "\n",
      "        if count >= len( DFs_dict[key] ):\n",
      "            break\n",
      "\n",
      "        hit = style_HITs[key]\n",
      "\n",
      "        df  = DFs_dict[key][count]    \n",
      "        eq  = ExternalQuestion( create_hit_url( value[0], df ), 640 )\n",
      "\n",
      "        hit_title = HIT_TITLE.format( value[0] )\n",
      "        hit_desc  = HIT_DESC.format( value[0] )\n",
      "\n",
      "        hit_set = MTC.create_hit(\n",
      "            hit_type = hit[0].HITTypeId, \n",
      "            question = eq,\n",
      "            max_assignments = HIT_REPEAT,\n",
      "            title = hit_title,\n",
      "            description = hit_desc,\n",
      "            reward = HIT_PRICE,\n",
      "            qualifications = qual,\n",
      "            keywords = HIT_KEYWORDS,\n",
      "            duration = datetime.timedelta( minutes=60 )\n",
      "        )\n",
      "\n",
      "        hitlist += [ hit_set[0] ]\n",
      "\n",
      "    print datetime.datetime.now(), count\n",
      "    ff = open( '../../count.txt', 'a' )\n",
      "    ff.write( '{} {}\\n'.format( datetime.datetime.now().isoformat(), count ) )\n",
      "    ff.close()\n",
      "\n",
      "    return hitlist"
     ],
     "language": "python",
     "metadata": {},
     "outputs": [],
     "prompt_number": 134
    },
    {
     "cell_type": "code",
     "collapsed": false,
     "input": [
      "for i in range( 150,200 ):\n",
      "    hitlist += release_hit_batch( i )"
     ],
     "language": "python",
     "metadata": {},
     "outputs": [
      {
       "output_type": "stream",
       "stream": "stdout",
       "text": [
        "2014-05-07 17:16:25.984829 150\n",
        "2014-05-07 17:16:31.791858"
       ]
      },
      {
       "output_type": "stream",
       "stream": "stdout",
       "text": [
        " 151\n",
        "2014-05-07 17:16:36.770206"
       ]
      },
      {
       "output_type": "stream",
       "stream": "stdout",
       "text": [
        " 152\n",
        "2014-05-07 17:16:42.225671"
       ]
      },
      {
       "output_type": "stream",
       "stream": "stdout",
       "text": [
        " 153\n",
        "2014-05-07 17:16:48.709999"
       ]
      },
      {
       "output_type": "stream",
       "stream": "stdout",
       "text": [
        " 154\n",
        "2014-05-07 17:16:53.918038"
       ]
      },
      {
       "output_type": "stream",
       "stream": "stdout",
       "text": [
        " 155\n",
        "2014-05-07 17:16:59.030713"
       ]
      },
      {
       "output_type": "stream",
       "stream": "stdout",
       "text": [
        " 156\n",
        "2014-05-07 17:17:04.704325"
       ]
      },
      {
       "output_type": "stream",
       "stream": "stdout",
       "text": [
        " 157\n",
        "2014-05-07 17:17:10.944235"
       ]
      },
      {
       "output_type": "stream",
       "stream": "stdout",
       "text": [
        " 158\n",
        "2014-05-07 17:17:16.930959"
       ]
      },
      {
       "output_type": "stream",
       "stream": "stdout",
       "text": [
        " 159\n",
        "2014-05-07 17:17:22.141326"
       ]
      },
      {
       "output_type": "stream",
       "stream": "stdout",
       "text": [
        " 160\n",
        "2014-05-07 17:17:28.248399"
       ]
      },
      {
       "output_type": "stream",
       "stream": "stdout",
       "text": [
        " 161\n",
        "2014-05-07 17:17:33.672532"
       ]
      },
      {
       "output_type": "stream",
       "stream": "stdout",
       "text": [
        " 162\n",
        "2014-05-07 17:17:40.001187"
       ]
      },
      {
       "output_type": "stream",
       "stream": "stdout",
       "text": [
        " 163\n",
        "2014-05-07 17:17:46.878962"
       ]
      },
      {
       "output_type": "stream",
       "stream": "stdout",
       "text": [
        " 164\n",
        "2014-05-07 17:17:52.610515"
       ]
      },
      {
       "output_type": "stream",
       "stream": "stdout",
       "text": [
        " 165\n",
        "2014-05-07 17:17:58.508310"
       ]
      },
      {
       "output_type": "stream",
       "stream": "stdout",
       "text": [
        " 166\n",
        "2014-05-07 17:18:04.443829"
       ]
      },
      {
       "output_type": "stream",
       "stream": "stdout",
       "text": [
        " 167\n",
        "2014-05-07 17:18:09.666515"
       ]
      },
      {
       "output_type": "stream",
       "stream": "stdout",
       "text": [
        " 168\n",
        "2014-05-07 17:18:16.365588"
       ]
      },
      {
       "output_type": "stream",
       "stream": "stdout",
       "text": [
        " 169\n",
        "2014-05-07 17:18:22.188052"
       ]
      },
      {
       "output_type": "stream",
       "stream": "stdout",
       "text": [
        " 170\n",
        "2014-05-07 17:18:27.953586"
       ]
      },
      {
       "output_type": "stream",
       "stream": "stdout",
       "text": [
        " 171\n",
        "2014-05-07 17:18:33.775379"
       ]
      },
      {
       "output_type": "stream",
       "stream": "stdout",
       "text": [
        " 172\n",
        "2014-05-07 17:18:39.400033"
       ]
      },
      {
       "output_type": "stream",
       "stream": "stdout",
       "text": [
        " 173\n",
        "2014-05-07 17:18:44.566428"
       ]
      },
      {
       "output_type": "stream",
       "stream": "stdout",
       "text": [
        " 174\n",
        "2014-05-07 17:18:49.627781"
       ]
      },
      {
       "output_type": "stream",
       "stream": "stdout",
       "text": [
        " 175\n",
        "2014-05-07 17:18:55.624181"
       ]
      },
      {
       "output_type": "stream",
       "stream": "stdout",
       "text": [
        " 176\n",
        "2014-05-07 17:19:00.851417"
       ]
      },
      {
       "output_type": "stream",
       "stream": "stdout",
       "text": [
        " 177\n",
        "2014-05-07 17:19:05.892641"
       ]
      },
      {
       "output_type": "stream",
       "stream": "stdout",
       "text": [
        " 178\n",
        "2014-05-07 17:19:13.800145"
       ]
      },
      {
       "output_type": "stream",
       "stream": "stdout",
       "text": [
        " 179\n",
        "2014-05-07 17:19:19.636644"
       ]
      },
      {
       "output_type": "stream",
       "stream": "stdout",
       "text": [
        " 180\n",
        "2014-05-07 17:19:24.589042"
       ]
      },
      {
       "output_type": "stream",
       "stream": "stdout",
       "text": [
        " 181\n",
        "2014-05-07 17:19:29.961489"
       ]
      },
      {
       "output_type": "stream",
       "stream": "stdout",
       "text": [
        " 182\n",
        "2014-05-07 17:19:35.956151"
       ]
      },
      {
       "output_type": "stream",
       "stream": "stdout",
       "text": [
        " 183\n",
        "2014-05-07 17:19:41.409297"
       ]
      },
      {
       "output_type": "stream",
       "stream": "stdout",
       "text": [
        " 184\n",
        "2014-05-07 17:19:46.971528"
       ]
      },
      {
       "output_type": "stream",
       "stream": "stdout",
       "text": [
        " 185\n",
        "2014-05-07 17:19:53.421779"
       ]
      },
      {
       "output_type": "stream",
       "stream": "stdout",
       "text": [
        " 186\n",
        "2014-05-07 17:19:58.980257"
       ]
      },
      {
       "output_type": "stream",
       "stream": "stdout",
       "text": [
        " 187\n",
        "2014-05-07 17:20:04.062789"
       ]
      },
      {
       "output_type": "stream",
       "stream": "stdout",
       "text": [
        " 188\n",
        "2014-05-07 17:20:09.294838"
       ]
      },
      {
       "output_type": "stream",
       "stream": "stdout",
       "text": [
        " 189\n",
        "2014-05-07 17:20:14.797945"
       ]
      },
      {
       "output_type": "stream",
       "stream": "stdout",
       "text": [
        " 190\n",
        "2014-05-07 17:20:19.877472"
       ]
      },
      {
       "output_type": "stream",
       "stream": "stdout",
       "text": [
        " 191\n",
        "2014-05-07 17:20:25.484130"
       ]
      },
      {
       "output_type": "stream",
       "stream": "stdout",
       "text": [
        " 192\n",
        "2014-05-07 17:20:32.122422"
       ]
      },
      {
       "output_type": "stream",
       "stream": "stdout",
       "text": [
        " 193\n",
        "2014-05-07 17:20:38.573850"
       ]
      },
      {
       "output_type": "stream",
       "stream": "stdout",
       "text": [
        " 194\n",
        "2014-05-07 17:20:45.633337"
       ]
      },
      {
       "output_type": "stream",
       "stream": "stdout",
       "text": [
        " 195\n",
        "2014-05-07 17:20:51.161539"
       ]
      },
      {
       "output_type": "stream",
       "stream": "stdout",
       "text": [
        " 196\n",
        "2014-05-07 17:20:56.870542"
       ]
      },
      {
       "output_type": "stream",
       "stream": "stdout",
       "text": [
        " 197\n",
        "2014-05-07 17:21:03.302094"
       ]
      },
      {
       "output_type": "stream",
       "stream": "stdout",
       "text": [
        " 198\n",
        "2014-05-07 17:21:09.275949"
       ]
      },
      {
       "output_type": "stream",
       "stream": "stdout",
       "text": [
        " 199\n"
       ]
      }
     ],
     "prompt_number": 141
    },
    {
     "cell_type": "code",
     "collapsed": false,
     "input": [
      "len( hitlist )"
     ],
     "language": "python",
     "metadata": {},
     "outputs": [
      {
       "metadata": {},
       "output_type": "pyout",
       "prompt_number": 131,
       "text": [
        "18"
       ]
      }
     ],
     "prompt_number": 131
    },
    {
     "cell_type": "code",
     "collapsed": false,
     "input": [
      "count"
     ],
     "language": "python",
     "metadata": {},
     "outputs": [
      {
       "metadata": {},
       "output_type": "pyout",
       "prompt_number": 127,
       "text": [
        "11"
       ]
      }
     ],
     "prompt_number": 127
    },
    {
     "cell_type": "code",
     "collapsed": false,
     "input": [],
     "language": "python",
     "metadata": {},
     "outputs": []
    }
   ],
   "metadata": {}
  }
 ]
}