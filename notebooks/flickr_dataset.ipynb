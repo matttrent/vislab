{
 "metadata": {
  "name": ""
 },
 "nbformat": 3,
 "nbformat_minor": 0,
 "worksheets": [
  {
   "cells": [
    {
     "cell_type": "code",
     "collapsed": false,
     "input": [
      "%load_ext autoreload\n",
      "%autoreload 2\n",
      "import pandas as pd\n",
      "import vislab.datasets"
     ],
     "language": "python",
     "metadata": {},
     "outputs": [],
     "prompt_number": 1
    },
    {
     "cell_type": "code",
     "collapsed": false,
     "input": [
      "client = vislab.util.get_mongodb_client()\n",
      "collection = client['flickr']['Bright, Energetic']\n",
      "print collection.find_one()\n",
      "print collection.count()"
     ],
     "language": "python",
     "metadata": {},
     "outputs": [
      {
       "output_type": "stream",
       "stream": "stdout",
       "text": [
        "{u'isfamily': 0, u'title': u'Medusa', u'farm': 8, u'ispublic': 1, u'owner': u'112843356@N05', u'rejected': False, u'server': u'7040', u'image_id': u'13269537615', u'secret': u'c4cf602be0', u'isfriend': 0, u'_id': ObjectId('532ccc961288dd35c4be1ade'), u'id': u'13269537615'}\n",
        "4498\n"
       ]
      }
     ],
     "prompt_number": 13
    },
    {
     "cell_type": "code",
     "collapsed": false,
     "input": [
      "sum([_.startswith('f') for _ in pd.DataFrame(list(client['flickr']['Bright, Energetic'].find()))['id']])"
     ],
     "language": "python",
     "metadata": {},
     "outputs": [
      {
       "metadata": {},
       "output_type": "pyout",
       "prompt_number": 18,
       "text": [
        "0"
       ]
      }
     ],
     "prompt_number": 18
    },
    {
     "cell_type": "code",
     "collapsed": false,
     "input": [
      "vislab.datasets.flickr.populate_database(photos_per_style=4300)"
     ],
     "language": "python",
     "metadata": {},
     "outputs": [
      {
       "output_type": "stream",
       "stream": "stdout",
       "text": [
        "\n",
        "get_photos_for_style: Detailed\n",
        "No new photos need to be fetched.\n",
        "\n",
        "get_photos_for_style: Pastel\n",
        "No new photos need to be fetched."
       ]
      },
      {
       "output_type": "stream",
       "stream": "stdout",
       "text": [
        "\n",
        "\n",
        "get_photos_for_style: Melancholy\n",
        "No new photos need to be fetched.\n",
        "\n",
        "get_photos_for_style: Noir\n",
        "No new photos need to be fetched.\n",
        "\n",
        "get_photos_for_style: HDR\n",
        "No new photos need to be fetched."
       ]
      },
      {
       "output_type": "stream",
       "stream": "stdout",
       "text": [
        "\n",
        "\n",
        "get_photos_for_style: Vintage\n",
        "No new photos need to be fetched.\n",
        "\n",
        "get_photos_for_style: Long Exposure\n",
        "No new photos need to be fetched.\n",
        "\n",
        "get_photos_for_style: Horror\n",
        "No new photos need to be fetched."
       ]
      },
      {
       "output_type": "stream",
       "stream": "stdout",
       "text": [
        "\n",
        "\n",
        "get_photos_for_style: Sunny\n",
        "No new photos need to be fetched.\n",
        "\n",
        "get_photos_for_style: Bright\n",
        "Old collection size: 0"
       ]
      },
      {
       "output_type": "stream",
       "stream": "stdout",
       "text": [
        "\n",
        "http://api.flickr.com/services/rest/?method=flickr.photos.search&format=json&nojsoncallback=1&api_key=2d5f50b3cd465055d83a5a8cc1a4985e&content_type=1&group_id=799643@N24&page=0&per_page=500\n",
        "New collection size: 500"
       ]
      },
      {
       "output_type": "stream",
       "stream": "stdout",
       "text": [
        "\n",
        "http://api.flickr.com/services/rest/?method=flickr.photos.search&format=json&nojsoncallback=1&api_key=2d5f50b3cd465055d83a5a8cc1a4985e&content_type=1&group_id=799643@N24&page=1&per_page=500\n",
        "New collection size: 500"
       ]
      },
      {
       "output_type": "stream",
       "stream": "stdout",
       "text": [
        "\n",
        "http://api.flickr.com/services/rest/?method=flickr.photos.search&format=json&nojsoncallback=1&api_key=2d5f50b3cd465055d83a5a8cc1a4985e&content_type=1&group_id=799643@N24&page=2&per_page=500\n",
        "New collection size: 1000"
       ]
      },
      {
       "output_type": "stream",
       "stream": "stdout",
       "text": [
        "\n",
        "http://api.flickr.com/services/rest/?method=flickr.photos.search&format=json&nojsoncallback=1&api_key=2d5f50b3cd465055d83a5a8cc1a4985e&content_type=1&group_id=799643@N24&page=3&per_page=500\n",
        "New collection size: 1500"
       ]
      },
      {
       "output_type": "stream",
       "stream": "stdout",
       "text": [
        "\n",
        "http://api.flickr.com/services/rest/?method=flickr.photos.search&format=json&nojsoncallback=1&api_key=2d5f50b3cd465055d83a5a8cc1a4985e&content_type=1&group_id=799643@N24&page=4&per_page=500\n",
        "New collection size: 1999"
       ]
      },
      {
       "output_type": "stream",
       "stream": "stdout",
       "text": [
        "\n",
        "http://api.flickr.com/services/rest/?method=flickr.photos.search&format=json&nojsoncallback=1&api_key=2d5f50b3cd465055d83a5a8cc1a4985e&content_type=1&group_id=799643@N24&page=5&per_page=500\n",
        "New collection size: 2499"
       ]
      },
      {
       "output_type": "stream",
       "stream": "stdout",
       "text": [
        "\n",
        "http://api.flickr.com/services/rest/?method=flickr.photos.search&format=json&nojsoncallback=1&api_key=2d5f50b3cd465055d83a5a8cc1a4985e&content_type=1&group_id=799643@N24&page=6&per_page=500\n",
        "New collection size: 2999"
       ]
      },
      {
       "output_type": "stream",
       "stream": "stdout",
       "text": [
        "\n",
        "http://api.flickr.com/services/rest/?method=flickr.photos.search&format=json&nojsoncallback=1&api_key=2d5f50b3cd465055d83a5a8cc1a4985e&content_type=1&group_id=799643@N24&page=7&per_page=500\n",
        "New collection size: 3499"
       ]
      },
      {
       "output_type": "stream",
       "stream": "stdout",
       "text": [
        "\n",
        "http://api.flickr.com/services/rest/?method=flickr.photos.search&format=json&nojsoncallback=1&api_key=2d5f50b3cd465055d83a5a8cc1a4985e&content_type=1&group_id=799643@N24&page=8&per_page=500\n",
        "New collection size: 3998"
       ]
      },
      {
       "output_type": "stream",
       "stream": "stdout",
       "text": [
        "\n",
        "\n",
        "get_photos_for_style: Hazy\n",
        "No new photos need to be fetched.\n",
        "\n",
        "get_photos_for_style: Bokeh\n",
        "No new photos need to be fetched.\n",
        "\n",
        "get_photos_for_style: Serene\n",
        "No new photos need to be fetched."
       ]
      },
      {
       "output_type": "stream",
       "stream": "stdout",
       "text": [
        "\n",
        "\n",
        "get_photos_for_style: Texture\n",
        "No new photos need to be fetched.\n",
        "\n",
        "get_photos_for_style: Ethereal\n",
        "No new photos need to be fetched.\n",
        "\n",
        "get_photos_for_style: Macro\n",
        "No new photos need to be fetched.\n",
        "\n",
        "get_photos_for_style: Depth of Field\n",
        "No new photos need to be fetched."
       ]
      },
      {
       "output_type": "stream",
       "stream": "stdout",
       "text": [
        "\n",
        "\n",
        "get_photos_for_style: Geometric Composition\n",
        "No new photos need to be fetched.\n",
        "\n",
        "get_photos_for_style: Minimal\n",
        "No new photos need to be fetched.\n",
        "\n",
        "get_photos_for_style: Romantic\n",
        "No new photos need to be fetched.\n"
       ]
      }
     ],
     "prompt_number": 3
    },
    {
     "cell_type": "code",
     "collapsed": false,
     "input": [
      "df = vislab.datasets.flickr._fetch_df()"
     ],
     "language": "python",
     "metadata": {},
     "outputs": [],
     "prompt_number": 19
    },
    {
     "cell_type": "code",
     "collapsed": false,
     "input": [
      "df[vislab.datasets.flickr.underscored_style_names].sum(0)"
     ],
     "language": "python",
     "metadata": {},
     "outputs": [
      {
       "metadata": {},
       "output_type": "pyout",
       "prompt_number": 20,
       "text": [
        "style_Detailed                 7000\n",
        "style_Pastel                   7000\n",
        "style_Melancholy               4496\n",
        "style_Noir                     4496\n",
        "style_HDR                      4497\n",
        "style_Vintage                  5996\n",
        "style_Long_Exposure            4500\n",
        "style_Horror                   4493\n",
        "style_Sunny                    4492\n",
        "style_Bright                   4498\n",
        "style_Hazy                     4483\n",
        "style_Bokeh                    4497\n",
        "style_Serene                   4497\n",
        "style_Texture                  4479\n",
        "style_Ethereal                 4487\n",
        "style_Macro                    4500\n",
        "style_Depth_of_Field           5506\n",
        "style_Geometric_Composition    4498\n",
        "style_Minimal                  4478\n",
        "style_Romantic                 4489\n",
        "dtype: int64"
       ]
      }
     ],
     "prompt_number": 20
    },
    {
     "cell_type": "code",
     "collapsed": false,
     "input": [
      "df['_index'] = df.index\n",
      "df = df.drop_duplicates('_index')\n",
      "del df['_index']"
     ],
     "language": "python",
     "metadata": {},
     "outputs": [],
     "prompt_number": 21
    },
    {
     "cell_type": "code",
     "collapsed": false,
     "input": [
      "df[vislab.datasets.flickr.underscored_style_names].sum(0)"
     ],
     "language": "python",
     "metadata": {},
     "outputs": [
      {
       "metadata": {},
       "output_type": "pyout",
       "prompt_number": 22,
       "text": [
        "style_Detailed                 7000\n",
        "style_Pastel                   6994\n",
        "style_Melancholy               4310\n",
        "style_Noir                     4496\n",
        "style_HDR                      4462\n",
        "style_Vintage                  5647\n",
        "style_Long_Exposure            4343\n",
        "style_Horror                   4492\n",
        "style_Sunny                    4350\n",
        "style_Bright                   4229\n",
        "style_Hazy                     4452\n",
        "style_Bokeh                    4219\n",
        "style_Serene                   4343\n",
        "style_Texture                  4358\n",
        "style_Ethereal                 4300\n",
        "style_Macro                    4402\n",
        "style_Depth_of_Field           4777\n",
        "style_Geometric_Composition    4272\n",
        "style_Minimal                  4302\n",
        "style_Romantic                 4193\n",
        "dtype: int64"
       ]
      }
     ],
     "prompt_number": 22
    },
    {
     "cell_type": "code",
     "collapsed": false,
     "input": [
      "print df.index.shape\n",
      "print df.index.unique().shape"
     ],
     "language": "python",
     "metadata": {},
     "outputs": [
      {
       "output_type": "stream",
       "stream": "stdout",
       "text": [
        "(93941,)\n",
        "(93941,)\n"
       ]
      }
     ],
     "prompt_number": 23
    },
    {
     "cell_type": "code",
     "collapsed": false,
     "input": [
      "# Limit to 4000 examples each\n",
      "indices = []\n",
      "for style in vislab.datasets.flickr.underscored_style_names:\n",
      "    indices += df.index[df[style]].tolist()[:4000]\n",
      "print len(indices)\n",
      "print len(np.unique(indices))\n",
      "df = df.loc[indices]"
     ],
     "language": "python",
     "metadata": {},
     "outputs": [
      {
       "output_type": "stream",
       "stream": "stdout",
       "text": [
        "80000\n",
        "80000"
       ]
      },
      {
       "output_type": "stream",
       "stream": "stdout",
       "text": [
        "\n"
       ]
      }
     ],
     "prompt_number": 30
    },
    {
     "cell_type": "code",
     "collapsed": false,
     "input": [
      "df[vislab.datasets.flickr.underscored_style_names].sum(1).value_counts()\n",
      "# Cool, no images with more than one label."
     ],
     "language": "python",
     "metadata": {},
     "outputs": [
      {
       "metadata": {},
       "output_type": "pyout",
       "prompt_number": 31,
       "text": [
        "1    80000\n",
        "dtype: int64"
       ]
      }
     ],
     "prompt_number": 31
    },
    {
     "cell_type": "code",
     "collapsed": false,
     "input": [
      "df2 = pd.read_hdf('../data/shared/flickr_df.h5', 'df')\n",
      "print df2.index.intersection(['f_'+_ for _ in df.index]).shape\n",
      "print df2.shape[0]\n",
      "# cool, so about 35% of the old dataset is in the new dataset"
     ],
     "language": "python",
     "metadata": {},
     "outputs": [
      {
       "output_type": "stream",
       "stream": "stdout",
       "text": [
        "(14868,)\n",
        "50198\n"
       ]
      }
     ],
     "prompt_number": 32
    },
    {
     "cell_type": "code",
     "collapsed": false,
     "input": [
      "df.to_hdf('../data/shared/flickr_df_mar2014.h5', 'df', mode='w', complib='blosc', complevel=9)"
     ],
     "language": "python",
     "metadata": {},
     "outputs": [
      {
       "output_type": "stream",
       "stream": "stderr",
       "text": [
        "/usr/local/Cellar/python/2.7.6/Frameworks/Python.framework/Versions/2.7/lib/python2.7/site-packages/pandas/io/pytables.py:1251: DeprecationWarning: createGroup() is pending deprecation, use create_group() instead. You may use the pt2to3 tool to update your source code.\n",
        "  group = self._handle.createGroup(path, p)\n",
        "/usr/local/Cellar/python/2.7.6/Frameworks/Python.framework/Versions/2.7/lib/python2.7/site-packages/pandas/io/pytables.py:2422: DeprecationWarning: createCArray() is pending deprecation, use create_carray() instead. You may use the pt2to3 tool to update your source code.\n",
        "  filters=self._filters)\n",
        "/usr/local/Cellar/python/2.7.6/Frameworks/Python.framework/Versions/2.7/lib/python2.7/site-packages/pandas/io/pytables.py:2422: DeprecationWarning: createCArray() is pending deprecation, use create_carray() instead. You may use the pt2to3 tool to update your source code.\n",
        "  filters=self._filters)\n",
        "/usr/local/Cellar/python/2.7.6/Frameworks/Python.framework/Versions/2.7/lib/python2.7/site-packages/pandas/io/pytables.py:2422: DeprecationWarning: createCArray() is pending deprecation, use create_carray() instead. You may use the pt2to3 tool to update your source code.\n",
        "  filters=self._filters)\n",
        "/usr/local/Cellar/python/2.7.6/Frameworks/Python.framework/Versions/2.7/lib/python2.7/site-packages/pandas/io/pytables.py:2422: DeprecationWarning: createCArray() is pending deprecation, use create_carray() instead. You may use the pt2to3 tool to update your source code.\n",
        "  filters=self._filters)\n",
        "/usr/local/Cellar/python/2.7.6/Frameworks/Python.framework/Versions/2.7/lib/python2.7/site-packages/pandas/io/pytables.py:2449: DeprecationWarning: createVLArray() is pending deprecation, use create_vlarray() instead. You may use the pt2to3 tool to update your source code.\n",
        "  _tables().ObjectAtom())\n",
        "/usr/local/Cellar/python/2.7.6/Frameworks/Python.framework/Versions/2.7/lib/python2.7/site-packages/pandas/io/pytables.py:2422: DeprecationWarning: createCArray() is pending deprecation, use create_carray() instead. You may use the pt2to3 tool to update your source code.\n",
        "  filters=self._filters)\n"
       ]
      }
     ],
     "prompt_number": 34
    },
    {
     "cell_type": "code",
     "collapsed": false,
     "input": [
      "%timeit pd.read_hdf('../data/shared/flickr_df_mar2014.h5', 'df')"
     ],
     "language": "python",
     "metadata": {},
     "outputs": [
      {
       "output_type": "stream",
       "stream": "stdout",
       "text": [
        "10 loops, best of 3: 158 ms per loop\n"
       ]
      }
     ],
     "prompt_number": 28
    }
   ],
   "metadata": {}
  }
 ]
}