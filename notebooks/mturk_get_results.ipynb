{
 "metadata": {
  "name": "",
  "signature": "sha256:593e0b0098ac33c961952e29b2ccbf6fe4dcae866ace8f7c0d1b56263e21de31"
 },
 "nbformat": 3,
 "nbformat_minor": 0,
 "worksheets": [
  {
   "cells": [
    {
     "cell_type": "code",
     "collapsed": false,
     "input": [
      "%load_ext autoreload\n",
      "%autoreload 2\n",
      "\n",
      "import sys\n",
      "import uuid\n",
      "import math\n",
      "import urllib\n",
      "import urlparse\n",
      "import time\n",
      "\n",
      "from boto.mturk.connection import *\n",
      "from boto.mturk.question import ExternalQuestion\n",
      "from boto.mturk.qualification import *\n",
      "from boto.mturk.price import *\n",
      "\n",
      "import pandas as pd\n",
      "import vislab.datasets"
     ],
     "language": "python",
     "metadata": {},
     "outputs": [],
     "prompt_number": 1
    },
    {
     "cell_type": "markdown",
     "metadata": {},
     "source": [
      "# Configuration"
     ]
    },
    {
     "cell_type": "code",
     "collapsed": false,
     "input": [
      "# style were are testing\n",
      "POS_STYLE = 'Vintage'\n",
      "\n",
      "# base url for the test server\n",
      "SERVER_URL = 'https://image-style-mturk.herokuapp.com/'\n",
      "\n",
      "# total positive + negative images in the set\n",
      "TOTAL_IMAGES  = 2000\n",
      "\n",
      "# split of positive/negative examples in the set\n",
      "POS_NEG_SPLIT = .5\n",
      "\n",
      "# we won't use the first n images from any of the different styles for inclusion \n",
      "# in any of the test tests.  this can be used to serve any number of purposes,\n",
      "# such as example images, spam-detection samples, etc...  example images are the\n",
      "# only current use.\n",
      "RESERVE_IMAGES = 100\n",
      "\n",
      "# how many images per hit\n",
      "IMAGES_PER_HIT = 10\n",
      "\n",
      "# how many different turkers we want to view each job\n",
      "HIT_REPEAT = 1\n",
      "\n",
      "# aws secret keys\n",
      "AWS_ACCESS_KEY_ID     = vislab.config['api_keys']['mturk_aaron']['awsAccessKeyId']\n",
      "AWS_SECRET_ACCESS_KEY = vislab.config['api_keys']['mturk_aaron']['awsSecretAccessKey']\n",
      "\n",
      "# mechanical turk server\n",
      "# AWS_HOST = 'mechanicalturk.sandbox.amazonaws.com'\n",
      "AWS_HOST = 'mechanicalturk.amazonaws.com'\n",
      "\n",
      "# top-level hit information\n",
      "HIT_TITLE    = 'Tag the style of photos';\n",
      "HIT_DESC     = 'Given examples of a given photographic style, tag whether or not a photo matches that style.'\n",
      "HIT_KEYWORDS = 'photograph, photographs, photo, photos, image, images, style, look, classification, tagging'\n",
      "\n",
      "# hit specifics\n",
      "HIT_DURATION = datetime.timedelta(7)  # 7 days\n",
      "HIT_PRICE = 0.1"
     ],
     "language": "python",
     "metadata": {},
     "outputs": [],
     "prompt_number": 2
    },
    {
     "cell_type": "markdown",
     "metadata": {},
     "source": [
      "# Setup MTurk"
     ]
    },
    {
     "cell_type": "code",
     "collapsed": false,
     "input": [
      "# create the mturk connection\n",
      "MTC = MTurkConnection(aws_access_key_id=AWS_ACCESS_KEY_ID,\n",
      "                      aws_secret_access_key=AWS_SECRET_ACCESS_KEY,\n",
      "                      host=AWS_HOST,is_secure=True)"
     ],
     "language": "python",
     "metadata": {},
     "outputs": [],
     "prompt_number": 3
    },
    {
     "cell_type": "markdown",
     "metadata": {},
     "source": [
      "# Data setup"
     ]
    },
    {
     "cell_type": "code",
     "collapsed": false,
     "input": [
      "flickr_df = vislab.datasets.flickr.get_df()"
     ],
     "language": "python",
     "metadata": {},
     "outputs": [],
     "prompt_number": 4
    },
    {
     "cell_type": "markdown",
     "metadata": {},
     "source": [
      "## Helper functions"
     ]
    },
    {
     "cell_type": "code",
     "collapsed": false,
     "input": [
      "import re\n",
      "from unicodedata import normalize\n",
      "\n",
      "_punct_re = re.compile(r'[\\t !\"#$%&\\'()*\\-/<=>?@\\[\\\\\\]^_`{|},.]+')\n",
      "\n",
      "def slugify(text, delim=u'-'):\n",
      "    \"\"\"Generates an slightly worse ASCII-only slug.\"\"\"\n",
      "    text = unicode( text )\n",
      "    result = []\n",
      "    for word in _punct_re.split(text.lower()):\n",
      "        word = normalize('NFKD', word).encode('ascii', 'ignore')\n",
      "        if word:\n",
      "            result.append(word)\n",
      "    return unicode(delim.join(result))"
     ],
     "language": "python",
     "metadata": {},
     "outputs": [],
     "prompt_number": 5
    },
    {
     "cell_type": "markdown",
     "metadata": {},
     "source": [
      "# Style tag name extraction"
     ]
    },
    {
     "cell_type": "code",
     "collapsed": false,
     "input": [
      "style_cols = [name for name in flickr_df.columns.tolist() if 'style' in name]\n",
      "style_cols.remove( 'style_Bokeh' )\n",
      "style_cols.remove( 'style_Texture' )\n",
      "print style_cols"
     ],
     "language": "python",
     "metadata": {},
     "outputs": [
      {
       "output_type": "stream",
       "stream": "stdout",
       "text": [
        "['style_Bright', 'style_Depth_of_Field', 'style_Detailed', 'style_Ethereal', 'style_Geometric_Composition', 'style_HDR', 'style_Hazy', 'style_Horror', 'style_Long_Exposure', 'style_Macro', 'style_Melancholy', 'style_Minimal', 'style_Noir', 'style_Pastel', 'style_Romantic', 'style_Serene', 'style_Sunny', 'style_Vintage']\n"
       ]
      }
     ],
     "prompt_number": 6
    },
    {
     "cell_type": "code",
     "collapsed": false,
     "input": [
      "style_names = [name[6:].replace('_', ' ') for name in style_cols]\n",
      "slug_names = [slugify(name) for name in style_names]\n",
      "style_dict = dict( zip( slug_names, style_names ) )\n",
      "style_dict"
     ],
     "language": "python",
     "metadata": {},
     "outputs": [
      {
       "metadata": {},
       "output_type": "pyout",
       "prompt_number": 7,
       "text": [
        "{u'bright': 'Bright',\n",
        " u'depth-of-field': 'Depth of Field',\n",
        " u'detailed': 'Detailed',\n",
        " u'ethereal': 'Ethereal',\n",
        " u'geometric-composition': 'Geometric Composition',\n",
        " u'hazy': 'Hazy',\n",
        " u'hdr': 'HDR',\n",
        " u'horror': 'Horror',\n",
        " u'long-exposure': 'Long Exposure',\n",
        " u'macro': 'Macro',\n",
        " u'melancholy': 'Melancholy',\n",
        " u'minimal': 'Minimal',\n",
        " u'noir': 'Noir',\n",
        " u'pastel': 'Pastel',\n",
        " u'romantic': 'Romantic',\n",
        " u'serene': 'Serene',\n",
        " u'sunny': 'Sunny',\n",
        " u'vintage': 'Vintage'}"
       ]
      }
     ],
     "prompt_number": 7
    },
    {
     "cell_type": "markdown",
     "metadata": {},
     "source": [
      "# Load existing work"
     ]
    },
    {
     "cell_type": "code",
     "collapsed": false,
     "input": [
      "answer_df = pd.read_hdf( '../../mturk-results/mturk-answers.h5', 'df' )"
     ],
     "language": "python",
     "metadata": {},
     "outputs": [],
     "prompt_number": 8
    },
    {
     "cell_type": "code",
     "collapsed": false,
     "input": [
      "print len( answer_df )"
     ],
     "language": "python",
     "metadata": {},
     "outputs": [
      {
       "output_type": "stream",
       "stream": "stdout",
       "text": [
        "4950\n"
       ]
      }
     ],
     "prompt_number": 9
    },
    {
     "cell_type": "markdown",
     "metadata": {},
     "source": [
      "# Collect HITs"
     ]
    },
    {
     "cell_type": "code",
     "collapsed": false,
     "input": [
      "HITs = []"
     ],
     "language": "python",
     "metadata": {},
     "outputs": [],
     "prompt_number": 10
    },
    {
     "cell_type": "code",
     "collapsed": false,
     "input": [
      "old_len = -1\n",
      "count = 1\n",
      "\n",
      "while len( HITs ) is not old_len:\n",
      "\n",
      "    hits = MTC.search_hits( page_size=100, \n",
      "                            page_number=count, \n",
      "                            sort_by='CreationTime', \n",
      "                            sort_direction='Ascending' )\n",
      "    \n",
      "    old_len = len( HITs )\n",
      "    HITs += hits \n",
      "    count += 1 "
     ],
     "language": "python",
     "metadata": {},
     "outputs": [],
     "prompt_number": 11
    },
    {
     "cell_type": "code",
     "collapsed": false,
     "input": [
      "len( HITs )"
     ],
     "language": "python",
     "metadata": {},
     "outputs": [
      {
       "metadata": {},
       "output_type": "pyout",
       "prompt_number": 12,
       "text": [
        "180"
       ]
      }
     ],
     "prompt_number": 12
    },
    {
     "cell_type": "code",
     "collapsed": false,
     "input": [
      "len( [hit for hit in HITs if hit.HITStatus == 'Reviewable' ] )"
     ],
     "language": "python",
     "metadata": {},
     "outputs": [
      {
       "metadata": {},
       "output_type": "pyout",
       "prompt_number": 13,
       "text": [
        "165"
       ]
      }
     ],
     "prompt_number": 13
    },
    {
     "cell_type": "markdown",
     "metadata": {},
     "source": [
      "# Collect assignments"
     ]
    },
    {
     "cell_type": "code",
     "collapsed": false,
     "input": [
      "assignments = []"
     ],
     "language": "python",
     "metadata": {},
     "outputs": [],
     "prompt_number": 14
    },
    {
     "cell_type": "code",
     "collapsed": false,
     "input": [
      "for i, hit in enumerate( HITs ):\n",
      "    \n",
      "    if hit.HITStatus != 'Reviewable':\n",
      "        continue\n",
      "    \n",
      "    if len( answer_df[ answer_df['hit_id'] == hit.HITId ] ) > 0:\n",
      "#         print 'ignoring', hit.HITId\n",
      "        continue\n",
      "    \n",
      "    print i, \n",
      "    old_len = -1\n",
      "    count = 1\n",
      "    while len( assignments ) is not old_len:\n",
      "\n",
      "        assigns = MTC.get_assignments( hit_id=hit.HITId, page_number=count, page_size=10 )\n",
      "    \n",
      "        old_len = len( assignments )\n",
      "        assignments += assigns\n",
      "        count += 1 \n",
      "    print len( assignments )"
     ],
     "language": "python",
     "metadata": {},
     "outputs": [],
     "prompt_number": 15
    },
    {
     "cell_type": "code",
     "collapsed": false,
     "input": [
      "len( assignments )"
     ],
     "language": "python",
     "metadata": {},
     "outputs": [
      {
       "metadata": {},
       "output_type": "pyout",
       "prompt_number": 16,
       "text": [
        "0"
       ]
      }
     ],
     "prompt_number": 16
    },
    {
     "cell_type": "markdown",
     "metadata": {},
     "source": [
      "# Approve assignments"
     ]
    },
    {
     "cell_type": "code",
     "collapsed": false,
     "input": [
      "#assign = assignments[0]"
     ],
     "language": "python",
     "metadata": {},
     "outputs": [],
     "prompt_number": 262
    },
    {
     "cell_type": "code",
     "collapsed": false,
     "input": [
      "#assign.AssignmentStatus"
     ],
     "language": "python",
     "metadata": {},
     "outputs": [],
     "prompt_number": 263
    },
    {
     "cell_type": "code",
     "collapsed": false,
     "input": [
      "#for assign in assignments:\n",
      "#    if assign.AssignmentStatus != 'Approved':\n",
      "#        MTC.approve_assignment( assign.AssignmentId )"
     ],
     "language": "python",
     "metadata": {},
     "outputs": [],
     "prompt_number": 264
    },
    {
     "cell_type": "markdown",
     "metadata": {},
     "source": [
      "# ETL"
     ]
    },
    {
     "cell_type": "code",
     "collapsed": false,
     "input": [
      "data = []\n",
      "indices = []"
     ],
     "language": "python",
     "metadata": {},
     "outputs": [],
     "prompt_number": 17
    },
    {
     "cell_type": "code",
     "collapsed": false,
     "input": [
      "for assign in assignments:\n",
      "    for answer in assign.answers[0]:\n",
      "    \n",
      "        qid    = answer.qid\n",
      "        fields = answer.fields\n",
      "        \n",
      "        if qid == 'workerId' or qid == 'Submit':\n",
      "            continue\n",
      "\n",
      "        qparts    = qid.split('_') \n",
      "        index     = qparts[0]\n",
      "\n",
      "        style_tag = qparts[-1]\n",
      "        style_tag = 'tagged_' + style_dict[ style_tag ].replace( ' ', '_' )\n",
      "        \n",
      "        response = fields[0] == 'yes'\n",
      "    \n",
      "        d = {\n",
      "        'hit_id'         : assign.HITId,\n",
      "        'assignment_id' : assign.AssignmentId,\n",
      "        'worker_id'      : assign.WorkerId,\n",
      "        style_tag        : response\n",
      "        }\n",
      "    \n",
      "        data += [ d ]\n",
      "        indices += [ index ]"
     ],
     "language": "python",
     "metadata": {},
     "outputs": [],
     "prompt_number": 18
    },
    {
     "cell_type": "code",
     "collapsed": false,
     "input": [
      "print len(data)\n",
      "print len(indices)"
     ],
     "language": "python",
     "metadata": {},
     "outputs": [
      {
       "output_type": "stream",
       "stream": "stdout",
       "text": [
        "0\n",
        "0\n"
       ]
      }
     ],
     "prompt_number": 19
    },
    {
     "cell_type": "code",
     "collapsed": false,
     "input": [
      "new_answer_df = pd.DataFrame( data, index=indices )"
     ],
     "language": "python",
     "metadata": {},
     "outputs": [],
     "prompt_number": 20
    },
    {
     "cell_type": "code",
     "collapsed": false,
     "input": [
      "print len( new_answer_df )"
     ],
     "language": "python",
     "metadata": {},
     "outputs": [
      {
       "output_type": "stream",
       "stream": "stdout",
       "text": [
        "0\n"
       ]
      }
     ],
     "prompt_number": 21
    },
    {
     "cell_type": "code",
     "collapsed": false,
     "input": [
      "new_answer_df.ix[1]"
     ],
     "language": "python",
     "metadata": {},
     "outputs": [
      {
       "ename": "IndexError",
       "evalue": "index out of bounds",
       "output_type": "pyerr",
       "traceback": [
        "\u001b[0;31m---------------------------------------------------------------------------\u001b[0m\n\u001b[0;31mIndexError\u001b[0m                                Traceback (most recent call last)",
        "\u001b[0;32m<ipython-input-22-e7cf977fcb68>\u001b[0m in \u001b[0;36m<module>\u001b[0;34m()\u001b[0m\n\u001b[0;32m----> 1\u001b[0;31m \u001b[0mnew_answer_df\u001b[0m\u001b[0;34m.\u001b[0m\u001b[0mix\u001b[0m\u001b[0;34m[\u001b[0m\u001b[0;36m1\u001b[0m\u001b[0;34m]\u001b[0m\u001b[0;34m\u001b[0m\u001b[0m\n\u001b[0m",
        "\u001b[0;32m/Users/mmt/anaconda/envs/aphrodite/lib/python2.7/site-packages/pandas/core/indexing.pyc\u001b[0m in \u001b[0;36m__getitem__\u001b[0;34m(self, key)\u001b[0m\n\u001b[1;32m     54\u001b[0m             \u001b[0;32mreturn\u001b[0m \u001b[0mself\u001b[0m\u001b[0;34m.\u001b[0m\u001b[0m_getitem_tuple\u001b[0m\u001b[0;34m(\u001b[0m\u001b[0mkey\u001b[0m\u001b[0;34m)\u001b[0m\u001b[0;34m\u001b[0m\u001b[0m\n\u001b[1;32m     55\u001b[0m         \u001b[0;32melse\u001b[0m\u001b[0;34m:\u001b[0m\u001b[0;34m\u001b[0m\u001b[0m\n\u001b[0;32m---> 56\u001b[0;31m             \u001b[0;32mreturn\u001b[0m \u001b[0mself\u001b[0m\u001b[0;34m.\u001b[0m\u001b[0m_getitem_axis\u001b[0m\u001b[0;34m(\u001b[0m\u001b[0mkey\u001b[0m\u001b[0;34m,\u001b[0m \u001b[0maxis\u001b[0m\u001b[0;34m=\u001b[0m\u001b[0;36m0\u001b[0m\u001b[0;34m)\u001b[0m\u001b[0;34m\u001b[0m\u001b[0m\n\u001b[0m\u001b[1;32m     57\u001b[0m \u001b[0;34m\u001b[0m\u001b[0m\n\u001b[1;32m     58\u001b[0m     \u001b[0;32mdef\u001b[0m \u001b[0m_get_label\u001b[0m\u001b[0;34m(\u001b[0m\u001b[0mself\u001b[0m\u001b[0;34m,\u001b[0m \u001b[0mlabel\u001b[0m\u001b[0;34m,\u001b[0m \u001b[0maxis\u001b[0m\u001b[0;34m=\u001b[0m\u001b[0;36m0\u001b[0m\u001b[0;34m)\u001b[0m\u001b[0;34m:\u001b[0m\u001b[0;34m\u001b[0m\u001b[0m\n",
        "\u001b[0;32m/Users/mmt/anaconda/envs/aphrodite/lib/python2.7/site-packages/pandas/core/indexing.pyc\u001b[0m in \u001b[0;36m_getitem_axis\u001b[0;34m(self, key, axis)\u001b[0m\n\u001b[1;32m    754\u001b[0m                 \u001b[0;31m# this is the fallback! (for a non-float, non-integer index)\u001b[0m\u001b[0;34m\u001b[0m\u001b[0;34m\u001b[0m\u001b[0m\n\u001b[1;32m    755\u001b[0m                 \u001b[0;32mif\u001b[0m \u001b[0;32mnot\u001b[0m \u001b[0mlabels\u001b[0m\u001b[0;34m.\u001b[0m\u001b[0mis_floating\u001b[0m\u001b[0;34m(\u001b[0m\u001b[0;34m)\u001b[0m \u001b[0;32mand\u001b[0m \u001b[0;32mnot\u001b[0m \u001b[0mlabels\u001b[0m\u001b[0;34m.\u001b[0m\u001b[0mis_integer\u001b[0m\u001b[0;34m(\u001b[0m\u001b[0;34m)\u001b[0m\u001b[0;34m:\u001b[0m\u001b[0;34m\u001b[0m\u001b[0m\n\u001b[0;32m--> 756\u001b[0;31m                     \u001b[0;32mreturn\u001b[0m \u001b[0mself\u001b[0m\u001b[0;34m.\u001b[0m\u001b[0m_get_loc\u001b[0m\u001b[0;34m(\u001b[0m\u001b[0mkey\u001b[0m\u001b[0;34m,\u001b[0m \u001b[0maxis\u001b[0m\u001b[0;34m=\u001b[0m\u001b[0maxis\u001b[0m\u001b[0;34m)\u001b[0m\u001b[0;34m\u001b[0m\u001b[0m\n\u001b[0m\u001b[1;32m    757\u001b[0m \u001b[0;34m\u001b[0m\u001b[0m\n\u001b[1;32m    758\u001b[0m             \u001b[0;32mreturn\u001b[0m \u001b[0mself\u001b[0m\u001b[0;34m.\u001b[0m\u001b[0m_get_label\u001b[0m\u001b[0;34m(\u001b[0m\u001b[0mkey\u001b[0m\u001b[0;34m,\u001b[0m \u001b[0maxis\u001b[0m\u001b[0;34m=\u001b[0m\u001b[0maxis\u001b[0m\u001b[0;34m)\u001b[0m\u001b[0;34m\u001b[0m\u001b[0m\n",
        "\u001b[0;32m/Users/mmt/anaconda/envs/aphrodite/lib/python2.7/site-packages/pandas/core/indexing.pyc\u001b[0m in \u001b[0;36m_get_loc\u001b[0;34m(self, key, axis)\u001b[0m\n\u001b[1;32m     71\u001b[0m \u001b[0;34m\u001b[0m\u001b[0m\n\u001b[1;32m     72\u001b[0m     \u001b[0;32mdef\u001b[0m \u001b[0m_get_loc\u001b[0m\u001b[0;34m(\u001b[0m\u001b[0mself\u001b[0m\u001b[0;34m,\u001b[0m \u001b[0mkey\u001b[0m\u001b[0;34m,\u001b[0m \u001b[0maxis\u001b[0m\u001b[0;34m=\u001b[0m\u001b[0;36m0\u001b[0m\u001b[0;34m)\u001b[0m\u001b[0;34m:\u001b[0m\u001b[0;34m\u001b[0m\u001b[0m\n\u001b[0;32m---> 73\u001b[0;31m         \u001b[0;32mreturn\u001b[0m \u001b[0mself\u001b[0m\u001b[0;34m.\u001b[0m\u001b[0mobj\u001b[0m\u001b[0;34m.\u001b[0m\u001b[0m_ixs\u001b[0m\u001b[0;34m(\u001b[0m\u001b[0mkey\u001b[0m\u001b[0;34m,\u001b[0m \u001b[0maxis\u001b[0m\u001b[0;34m=\u001b[0m\u001b[0maxis\u001b[0m\u001b[0;34m)\u001b[0m\u001b[0;34m\u001b[0m\u001b[0m\n\u001b[0m\u001b[1;32m     74\u001b[0m \u001b[0;34m\u001b[0m\u001b[0m\n\u001b[1;32m     75\u001b[0m     \u001b[0;32mdef\u001b[0m \u001b[0m_slice\u001b[0m\u001b[0;34m(\u001b[0m\u001b[0mself\u001b[0m\u001b[0;34m,\u001b[0m \u001b[0mobj\u001b[0m\u001b[0;34m,\u001b[0m \u001b[0maxis\u001b[0m\u001b[0;34m=\u001b[0m\u001b[0;36m0\u001b[0m\u001b[0;34m,\u001b[0m \u001b[0mraise_on_error\u001b[0m\u001b[0;34m=\u001b[0m\u001b[0mFalse\u001b[0m\u001b[0;34m,\u001b[0m \u001b[0mtyp\u001b[0m\u001b[0;34m=\u001b[0m\u001b[0mNone\u001b[0m\u001b[0;34m)\u001b[0m\u001b[0;34m:\u001b[0m\u001b[0;34m\u001b[0m\u001b[0m\n",
        "\u001b[0;32m/Users/mmt/anaconda/envs/aphrodite/lib/python2.7/site-packages/pandas/core/frame.pyc\u001b[0m in \u001b[0;36m_ixs\u001b[0;34m(self, i, axis, copy)\u001b[0m\n\u001b[1;32m   1581\u001b[0m                 \u001b[0;32mreturn\u001b[0m \u001b[0mself\u001b[0m\u001b[0;34m[\u001b[0m\u001b[0mi\u001b[0m\u001b[0;34m]\u001b[0m\u001b[0;34m\u001b[0m\u001b[0m\n\u001b[1;32m   1582\u001b[0m             \u001b[0;32melse\u001b[0m\u001b[0;34m:\u001b[0m\u001b[0;34m\u001b[0m\u001b[0m\n\u001b[0;32m-> 1583\u001b[0;31m                 \u001b[0mlabel\u001b[0m \u001b[0;34m=\u001b[0m \u001b[0mself\u001b[0m\u001b[0;34m.\u001b[0m\u001b[0mindex\u001b[0m\u001b[0;34m[\u001b[0m\u001b[0mi\u001b[0m\u001b[0;34m]\u001b[0m\u001b[0;34m\u001b[0m\u001b[0m\n\u001b[0m\u001b[1;32m   1584\u001b[0m                 \u001b[0;32mif\u001b[0m \u001b[0misinstance\u001b[0m\u001b[0;34m(\u001b[0m\u001b[0mlabel\u001b[0m\u001b[0;34m,\u001b[0m \u001b[0mIndex\u001b[0m\u001b[0;34m)\u001b[0m\u001b[0;34m:\u001b[0m\u001b[0;34m\u001b[0m\u001b[0m\n\u001b[1;32m   1585\u001b[0m \u001b[0;34m\u001b[0m\u001b[0m\n",
        "\u001b[0;32m/Users/mmt/anaconda/envs/aphrodite/lib/python2.7/site-packages/pandas/core/index.pyc\u001b[0m in \u001b[0;36m__getitem__\u001b[0;34m(self, key)\u001b[0m\n\u001b[1;32m    617\u001b[0m         \u001b[0marr_idx\u001b[0m \u001b[0;34m=\u001b[0m \u001b[0mself\u001b[0m\u001b[0;34m.\u001b[0m\u001b[0mview\u001b[0m\u001b[0;34m(\u001b[0m\u001b[0mnp\u001b[0m\u001b[0;34m.\u001b[0m\u001b[0mndarray\u001b[0m\u001b[0;34m)\u001b[0m\u001b[0;34m\u001b[0m\u001b[0m\n\u001b[1;32m    618\u001b[0m         \u001b[0;32mif\u001b[0m \u001b[0mnp\u001b[0m\u001b[0;34m.\u001b[0m\u001b[0misscalar\u001b[0m\u001b[0;34m(\u001b[0m\u001b[0mkey\u001b[0m\u001b[0;34m)\u001b[0m\u001b[0;34m:\u001b[0m\u001b[0;34m\u001b[0m\u001b[0m\n\u001b[0;32m--> 619\u001b[0;31m             \u001b[0;32mreturn\u001b[0m \u001b[0marr_idx\u001b[0m\u001b[0;34m[\u001b[0m\u001b[0mkey\u001b[0m\u001b[0;34m]\u001b[0m\u001b[0;34m\u001b[0m\u001b[0m\n\u001b[0m\u001b[1;32m    620\u001b[0m         \u001b[0;32melse\u001b[0m\u001b[0;34m:\u001b[0m\u001b[0;34m\u001b[0m\u001b[0m\n\u001b[1;32m    621\u001b[0m             \u001b[0;32mif\u001b[0m \u001b[0mcom\u001b[0m\u001b[0;34m.\u001b[0m\u001b[0m_is_bool_indexer\u001b[0m\u001b[0;34m(\u001b[0m\u001b[0mkey\u001b[0m\u001b[0;34m)\u001b[0m\u001b[0;34m:\u001b[0m\u001b[0;34m\u001b[0m\u001b[0m\n",
        "\u001b[0;31mIndexError\u001b[0m: index out of bounds"
       ]
      }
     ],
     "prompt_number": 22
    },
    {
     "cell_type": "code",
     "collapsed": false,
     "input": [
      "print len( answer_df )\n",
      "print len( new_answer_df )"
     ],
     "language": "python",
     "metadata": {},
     "outputs": [
      {
       "output_type": "stream",
       "stream": "stdout",
       "text": [
        "4650\n",
        "300\n"
       ]
      }
     ],
     "prompt_number": 271
    },
    {
     "cell_type": "code",
     "collapsed": false,
     "input": [
      "answer_df = pd.concat( [ answer_df, new_answer_df ] )"
     ],
     "language": "python",
     "metadata": {},
     "outputs": [],
     "prompt_number": 272
    },
    {
     "cell_type": "code",
     "collapsed": false,
     "input": [
      "print len( answer_df )"
     ],
     "language": "python",
     "metadata": {},
     "outputs": [
      {
       "output_type": "stream",
       "stream": "stdout",
       "text": [
        "4950\n"
       ]
      }
     ],
     "prompt_number": 273
    },
    {
     "cell_type": "code",
     "collapsed": false,
     "input": [
      "answer_df.ix[-1]"
     ],
     "language": "python",
     "metadata": {},
     "outputs": [
      {
       "metadata": {},
       "output_type": "pyout",
       "prompt_number": 23,
       "text": [
        "assignment_id                   39L1G8WVWQQA1I04329A5WRF7DO13Q\n",
        "hit_id                          388FBO7JZQSC986N78VW3D4CFGSNYK\n",
        "tagged_Bright                                              NaN\n",
        "tagged_Depth_of_Field                                      NaN\n",
        "tagged_Detailed                                            NaN\n",
        "tagged_Ethereal                                           True\n",
        "tagged_Geometric_Composition                               NaN\n",
        "tagged_HDR                                                 NaN\n",
        "tagged_Hazy                                                NaN\n",
        "tagged_Horror                                              NaN\n",
        "tagged_Long_Exposure                                       NaN\n",
        "tagged_Macro                                               NaN\n",
        "tagged_Melancholy                                          NaN\n",
        "tagged_Minimal                                             NaN\n",
        "tagged_Noir                                                NaN\n",
        "tagged_Pastel                                              NaN\n",
        "tagged_Romantic                                            NaN\n",
        "tagged_Serene                                              NaN\n",
        "tagged_Sunny                                               NaN\n",
        "tagged_Vintage                                             NaN\n",
        "worker_id                                       A16WLNBWXNYSGU\n",
        "Name: 494616902, dtype: object"
       ]
      }
     ],
     "prompt_number": 23
    },
    {
     "cell_type": "code",
     "collapsed": false,
     "input": [
      "answer_df.to_hdf( '../../mturk-results/mturk-answers.h5', 'df', mode='w')"
     ],
     "language": "python",
     "metadata": {},
     "outputs": [
      {
       "output_type": "stream",
       "stream": "stderr",
       "text": [
        "/Users/mmt/anaconda/envs/aphrodite/lib/python2.7/site-packages/pandas/io/pytables.py:528: DeprecationWarning: openFile() is pending deprecation, use open_file() instead. You may use the pt2to3 tool to update your source code.\n",
        "  self._handle = tables.openFile(self._path, self._mode, **kwargs)\n",
        "/Users/mmt/anaconda/envs/aphrodite/lib/python2.7/site-packages/pandas/io/pytables.py:1044: DeprecationWarning: getNode() is pending deprecation, use get_node() instead. You may use the pt2to3 tool to update your source code.\n",
        "  return self._handle.getNode(self.root, key)\n",
        "/Users/mmt/anaconda/envs/aphrodite/lib/python2.7/site-packages/pandas/io/pytables.py:1044: DeprecationWarning: getNode() is pending deprecation, use get_node() instead. You may use the pt2to3 tool to update your source code.\n",
        "  return self._handle.getNode(self.root, key)\n",
        "/Users/mmt/anaconda/envs/aphrodite/lib/python2.7/site-packages/pandas/io/pytables.py:1251: DeprecationWarning: createGroup() is pending deprecation, use create_group() instead. You may use the pt2to3 tool to update your source code.\n",
        "  group = self._handle.createGroup(path, p)\n",
        "/Users/mmt/anaconda/envs/aphrodite/lib/python2.7/site-packages/pandas/io/pytables.py:2464: DeprecationWarning: createArray() is pending deprecation, use create_array() instead. You may use the pt2to3 tool to update your source code.\n",
        "  self._handle.createArray(self.group, key, value)\n",
        "/Users/mmt/anaconda/envs/aphrodite/lib/python2.7/site-packages/pandas/io/pytables.py:2449: DeprecationWarning: createVLArray() is pending deprecation, use create_vlarray() instead. You may use the pt2to3 tool to update your source code.\n",
        "  _tables().ObjectAtom())\n",
        "/Users/mmt/anaconda/envs/aphrodite/lib/python2.7/site-packages/pandas/io/pytables.py:2449: DeprecationWarning: createVLArray() is pending deprecation, use create_vlarray() instead. You may use the pt2to3 tool to update your source code.\n",
        "  _tables().ObjectAtom())\n",
        "/Users/mmt/anaconda/envs/aphrodite/lib/python2.7/site-packages/pandas/io/pytables.py:2464: DeprecationWarning: createArray() is pending deprecation, use create_array() instead. You may use the pt2to3 tool to update your source code.\n",
        "  self._handle.createArray(self.group, key, value)\n"
       ]
      }
     ],
     "prompt_number": 275
    },
    {
     "cell_type": "code",
     "collapsed": false,
     "input": [
      "len( answer_df )"
     ],
     "language": "python",
     "metadata": {},
     "outputs": [
      {
       "metadata": {},
       "output_type": "pyout",
       "prompt_number": 38,
       "text": [
        "4950"
       ]
      }
     ],
     "prompt_number": 38
    },
    {
     "cell_type": "code",
     "collapsed": false,
     "input": [
      "len( flickr_df.ix[ pd.Series( answer_df.index ).drop_duplicates() ] )"
     ],
     "language": "python",
     "metadata": {},
     "outputs": [
      {
       "metadata": {},
       "output_type": "pyout",
       "prompt_number": 40,
       "text": [
        "1633"
       ]
      }
     ],
     "prompt_number": 40
    },
    {
     "cell_type": "code",
     "collapsed": false,
     "input": [
      "# merge the answer dataframe with the corresponding rows of the flickr dataframe\n",
      "# join on the shared indices\n",
      "result_df = pd.merge( answer_df, \n",
      "                      flickr_df.ix[ pd.Series( answer_df.index ).drop_duplicates() ], \n",
      "                      left_index=True, right_index=True )"
     ],
     "language": "python",
     "metadata": {},
     "outputs": [],
     "prompt_number": 43
    },
    {
     "cell_type": "code",
     "collapsed": false,
     "input": [
      "len( result_df )"
     ],
     "language": "python",
     "metadata": {},
     "outputs": [
      {
       "metadata": {},
       "output_type": "pyout",
       "prompt_number": 44,
       "text": [
        "4950"
       ]
      }
     ],
     "prompt_number": 44
    },
    {
     "cell_type": "code",
     "collapsed": false,
     "input": [
      "result_df.to_hdf( '../../mturk-results/mturk-results.h5', 'df', mode='w')"
     ],
     "language": "python",
     "metadata": {},
     "outputs": [
      {
       "output_type": "stream",
       "stream": "stderr",
       "text": [
        "/Users/mmt/anaconda/envs/aphrodite/lib/python2.7/site-packages/pandas/io/pytables.py:2446: PerformanceWarning: \n",
        "your performance may suffer as PyTables will pickle object types that it cannot\n",
        "map directly to c-types [inferred_type->unicode,key->axis1] [items->None]\n",
        "\n",
        "  warnings.warn(ws, PerformanceWarning)\n",
        "/Users/mmt/anaconda/envs/aphrodite/lib/python2.7/site-packages/pandas/io/pytables.py:2446: PerformanceWarning: \n",
        "your performance may suffer as PyTables will pickle object types that it cannot\n",
        "map directly to c-types [inferred_type->mixed,key->block1_values] [items->['assignment_id', 'hit_id', 'tagged_Bright', 'tagged_Depth_of_Field', 'tagged_Detailed', 'tagged_Ethereal', 'tagged_Geometric_Composition', 'tagged_HDR', 'tagged_Hazy', 'tagged_Horror', 'tagged_Long_Exposure', 'tagged_Macro', 'tagged_Melancholy', 'tagged_Minimal', 'tagged_Noir', 'tagged_Pastel', 'tagged_Romantic', 'tagged_Serene', 'tagged_Sunny', 'tagged_Vintage', 'worker_id', 'image_url', 'owner', 'page_url', '_split']]\n",
        "\n",
        "  warnings.warn(ws, PerformanceWarning)\n"
       ]
      }
     ],
     "prompt_number": 45
    },
    {
     "cell_type": "markdown",
     "metadata": {},
     "source": [
      "# Answer analysis"
     ]
    },
    {
     "cell_type": "code",
     "collapsed": false,
     "input": [
      "# number of independent workers\n",
      "len( answer_df.drop_duplicates( cols=['worker_id'] ) )"
     ],
     "language": "python",
     "metadata": {},
     "outputs": [
      {
       "metadata": {},
       "output_type": "pyout",
       "prompt_number": 178,
       "text": [
        "102"
       ]
      }
     ],
     "prompt_number": 178
    },
    {
     "cell_type": "code",
     "collapsed": false,
     "input": [
      "import sklearn.metrics"
     ],
     "language": "python",
     "metadata": {},
     "outputs": [],
     "prompt_number": 179
    },
    {
     "cell_type": "code",
     "collapsed": false,
     "input": [
      "print result_df['style_Vintage'][:10]\n",
      "truth_list = [ int(r) for r in result_df['style_Vintage'] ]\n",
      "truth_list[:10]"
     ],
     "language": "python",
     "metadata": {},
     "outputs": [
      {
       "output_type": "stream",
       "stream": "stdout",
       "text": [
        "10004487845    False\n",
        "10004487845    False\n",
        "10004487845    False\n",
        "10004487845    False\n",
        "10004487845    False\n",
        "10004487845    False\n",
        "10004487845    False\n",
        "10004487845    False\n",
        "10004487845    False\n",
        "10061654134    False\n",
        "Name: style_Vintage, dtype: bool\n"
       ]
      },
      {
       "metadata": {},
       "output_type": "pyout",
       "prompt_number": 180,
       "text": [
        "[0, 0, 0, 0, 0, 0, 0, 0, 0, 0]"
       ]
      }
     ],
     "prompt_number": 180
    },
    {
     "cell_type": "code",
     "collapsed": false,
     "input": [
      "pred_list = [ int(r) for r in result_df['tagged_Vintage'].dropna() ]\n",
      "pred_list[:10]"
     ],
     "language": "python",
     "metadata": {},
     "outputs": [
      {
       "metadata": {},
       "output_type": "pyout",
       "prompt_number": 181,
       "text": [
        "[0, 0, 0, 0, 0, 0, 0, 0, 0, 1]"
       ]
      }
     ],
     "prompt_number": 181
    },
    {
     "cell_type": "code",
     "collapsed": false,
     "input": [
      "print sklearn.metrics.accuracy_score( truth_list[:len(pred_list)], pred_list )"
     ],
     "language": "python",
     "metadata": {},
     "outputs": [
      {
       "output_type": "stream",
       "stream": "stdout",
       "text": [
        "0.488888888889\n"
       ]
      }
     ],
     "prompt_number": 182
    },
    {
     "cell_type": "code",
     "collapsed": false,
     "input": [
      "print sklearn.metrics.precision_recall_fscore_support( truth_list[:len(pred_list)], pred_list, pos_label=1, average='micro' )"
     ],
     "language": "python",
     "metadata": {},
     "outputs": [
      {
       "output_type": "stream",
       "stream": "stdout",
       "text": [
        "(0.0, 0.0, 0.0, 0)\n"
       ]
      }
     ],
     "prompt_number": 183
    },
    {
     "cell_type": "markdown",
     "metadata": {},
     "source": [
      "# Worker analysis"
     ]
    },
    {
     "cell_type": "code",
     "collapsed": false,
     "input": [
      "unique_workers = answer_df.drop_duplicates( cols=['worker_id'] )['worker_id'].tolist()\n",
      "unique_workers"
     ],
     "language": "python",
     "metadata": {},
     "outputs": [
      {
       "metadata": {},
       "output_type": "pyout",
       "prompt_number": 184,
       "text": [
        "[u'AO3XB5I5QNNUI',\n",
        " u'AU2NVT51E749C',\n",
        " u'A3IU6GG9HKX4JQ',\n",
        " u'A17UXYM7D324MI',\n",
        " u'A101WUMP4O5DY7',\n",
        " u'A1LZWU72K42V92',\n",
        " u'AECIGP7A435LI',\n",
        " u'ANJRINRP821LY',\n",
        " u'A2TB9OJDTAMABG',\n",
        " u'A2A1KCORH7FMKC',\n",
        " u'A26DPX7A0M1X5',\n",
        " u'A2VD06PK1DG87O',\n",
        " u'AEVU71Z2FDTUX',\n",
        " u'ASOOONBGQ48YI',\n",
        " u'A3GXAXI3YT155C',\n",
        " u'A137AMJ2GMFI78',\n",
        " u'A17B7QTKWFQ5PQ',\n",
        " u'A1QKX5CZJQONP',\n",
        " u'A24ZXEL71CZ28R',\n",
        " u'A2ZCZYY4SS4PT6',\n",
        " u'A3BXSMRCP1I2UN',\n",
        " u'ACS65VMF32SF3',\n",
        " u'A1OPAQ2OPIUUOB',\n",
        " u'A2CSQNLTE06WZS',\n",
        " u'A2XJCQWVAZLW69',\n",
        " u'A34DWBBWZRLO1X',\n",
        " u'A2TQO1OQHNZ994',\n",
        " u'A109DH65MXHL0Q',\n",
        " u'AVC62JNYAXA45',\n",
        " u'A2RVKQ541U9VGP',\n",
        " u'AUKZKPLQ04H1E',\n",
        " u'A3AN3KVN7RGW7H',\n",
        " u'A2W7O2ONL04GAP',\n",
        " u'A18RDBJFY3QWZL',\n",
        " u'A4158R4Y06ZB4',\n",
        " u'A301GNFG8W711Q',\n",
        " u'A3DFJV1RD653DQ',\n",
        " u'A2KJNKCTHNF8JS',\n",
        " u'A1FBD0P6GEJ2X',\n",
        " u'AZ8KL6F16ZS7G',\n",
        " u'A2U3TW5GB06QZE',\n",
        " u'A1GHKKR97LHLNN',\n",
        " u'A168LFJNV9DSTS',\n",
        " u'A1G9G9IQV38J9P',\n",
        " u'A1DCWB8DXPA0BW',\n",
        " u'A5CTF5NSGIBMT',\n",
        " u'A38LBDI4T61CA7',\n",
        " u'A35CSDNQYK408H',\n",
        " u'A1OVDEQPK8O5PG',\n",
        " u'ASZME2HK3WFW2',\n",
        " u'AS9E0S6DBSWH7',\n",
        " u'A1XFDV8QBVQC9L',\n",
        " u'ARFV302JOUOF',\n",
        " u'A24YG85HFTHGP7',\n",
        " u'A111JI6APXR6QV',\n",
        " u'A1DJDT4B5B19Q2',\n",
        " u'A3W037AYBB91V4',\n",
        " u'A3T61LJ1WNOL6Z',\n",
        " u'A2A9JD9UV8DQZX',\n",
        " u'A2BOTRWMX54PI5',\n",
        " u'A3TTEI8GKK93FO',\n",
        " u'ADVZ6ZG7MEOKE',\n",
        " u'A1QRWMTTQCLVY7',\n",
        " u'A1FK01GE7K8DBU',\n",
        " u'A14GZ7D1B3JSAW',\n",
        " u'A2QDHXAVBCNMEL',\n",
        " u'A2AB2LSLME1VLP',\n",
        " u'A2UF2FRGVW4T89',\n",
        " u'A3A1BY5BZCHV2S',\n",
        " u'AJGWVHAH1PT36',\n",
        " u'ALEJV7D94ZLHF',\n",
        " u'AIVNDSKD4755M',\n",
        " u'A1AZTV54VEF51N',\n",
        " u'A3TXJLD6JNR280',\n",
        " u'A29K9D52SY42OU',\n",
        " u'A2U0P2JY8T4YNS',\n",
        " u'A746183X8258H',\n",
        " u'A33DSATES6RA2K',\n",
        " u'A20ZKYBXB8QLTG',\n",
        " u'A171HR7IQW4KA4',\n",
        " u'A218S9QMWS15U',\n",
        " u'A35ARURSRU6UAZ',\n",
        " u'A2L2P8RVIAJC8D',\n",
        " u'A3L8SWMZLG2X96',\n",
        " u'A2OLVF6P86QSQJ',\n",
        " u'A5OJ7FHDAEHR9',\n",
        " u'AUD3A4YDWWZCY',\n",
        " u'A3UYK0Z6ZHS7I4',\n",
        " u'A2FLZZ8Z4YEOPR',\n",
        " u'AT8TYABSKT3MW',\n",
        " u'A2MCG5W6LHSRG9',\n",
        " u'A2HV92ESLVWTP8',\n",
        " u'A3KTXVX21A6RXT',\n",
        " u'A177I8PLPR36T3',\n",
        " u'A2GK561TFAVTPY',\n",
        " u'A123F7829DTAYZ',\n",
        " u'A2BY4F7LXUBH9C',\n",
        " u'AC9HB5CXPAW6N',\n",
        " u'A1KFK92GEFQ9F5',\n",
        " u'A2W2LWXXV878CJ',\n",
        " u'ALIEYEJDKD6U7',\n",
        " u'A1BLJZMHHWHT4Y']"
       ]
      }
     ],
     "prompt_number": 184
    },
    {
     "cell_type": "code",
     "collapsed": false,
     "input": [
      "answers_per_worker = [ len( answer_df[ answer_df['worker_id'] == worker_id ] ) \n",
      "                       for worker_id in unique_workers ] "
     ],
     "language": "python",
     "metadata": {},
     "outputs": [],
     "prompt_number": 185
    },
    {
     "cell_type": "code",
     "collapsed": false,
     "input": [
      "answers_per_worker = pd.DataFrame( answers_per_worker, index=unique_workers, columns=['count'] )\n",
      "answers_per_worker.sort( columns='count', ascending=False, inplace=True )\n",
      "answers_per_worker"
     ],
     "language": "python",
     "metadata": {},
     "outputs": [
      {
       "html": [
        "<div style=\"max-height:1000px;max-width:1500px;overflow:auto;\">\n",
        "<table border=\"1\" class=\"dataframe\">\n",
        "  <thead>\n",
        "    <tr style=\"text-align: right;\">\n",
        "      <th></th>\n",
        "      <th>count</th>\n",
        "    </tr>\n",
        "  </thead>\n",
        "  <tbody>\n",
        "    <tr>\n",
        "      <th>A17UXYM7D324MI</th>\n",
        "      <td> 440</td>\n",
        "    </tr>\n",
        "    <tr>\n",
        "      <th>A101WUMP4O5DY7</th>\n",
        "      <td> 180</td>\n",
        "    </tr>\n",
        "    <tr>\n",
        "      <th>AU2NVT51E749C</th>\n",
        "      <td> 170</td>\n",
        "    </tr>\n",
        "    <tr>\n",
        "      <th>AEVU71Z2FDTUX</th>\n",
        "      <td> 170</td>\n",
        "    </tr>\n",
        "    <tr>\n",
        "      <th>A1LZWU72K42V92</th>\n",
        "      <td> 160</td>\n",
        "    </tr>\n",
        "    <tr>\n",
        "      <th>A137AMJ2GMFI78</th>\n",
        "      <td> 160</td>\n",
        "    </tr>\n",
        "    <tr>\n",
        "      <th>A20ZKYBXB8QLTG</th>\n",
        "      <td> 150</td>\n",
        "    </tr>\n",
        "    <tr>\n",
        "      <th>A1OPAQ2OPIUUOB</th>\n",
        "      <td> 140</td>\n",
        "    </tr>\n",
        "    <tr>\n",
        "      <th>A33DSATES6RA2K</th>\n",
        "      <td> 140</td>\n",
        "    </tr>\n",
        "    <tr>\n",
        "      <th>A2VD06PK1DG87O</th>\n",
        "      <td> 130</td>\n",
        "    </tr>\n",
        "    <tr>\n",
        "      <th>AVC62JNYAXA45</th>\n",
        "      <td> 130</td>\n",
        "    </tr>\n",
        "    <tr>\n",
        "      <th>AO3XB5I5QNNUI</th>\n",
        "      <td> 120</td>\n",
        "    </tr>\n",
        "    <tr>\n",
        "      <th>A2U3TW5GB06QZE</th>\n",
        "      <td> 110</td>\n",
        "    </tr>\n",
        "    <tr>\n",
        "      <th>ASZME2HK3WFW2</th>\n",
        "      <td> 110</td>\n",
        "    </tr>\n",
        "    <tr>\n",
        "      <th>A3DFJV1RD653DQ</th>\n",
        "      <td>  90</td>\n",
        "    </tr>\n",
        "    <tr>\n",
        "      <th>AS9E0S6DBSWH7</th>\n",
        "      <td>  90</td>\n",
        "    </tr>\n",
        "    <tr>\n",
        "      <th>A1G9G9IQV38J9P</th>\n",
        "      <td>  80</td>\n",
        "    </tr>\n",
        "    <tr>\n",
        "      <th>A177I8PLPR36T3</th>\n",
        "      <td>  70</td>\n",
        "    </tr>\n",
        "    <tr>\n",
        "      <th>A1FBD0P6GEJ2X</th>\n",
        "      <td>  70</td>\n",
        "    </tr>\n",
        "    <tr>\n",
        "      <th>A746183X8258H</th>\n",
        "      <td>  70</td>\n",
        "    </tr>\n",
        "    <tr>\n",
        "      <th>A2OLVF6P86QSQJ</th>\n",
        "      <td>  70</td>\n",
        "    </tr>\n",
        "    <tr>\n",
        "      <th>A109DH65MXHL0Q</th>\n",
        "      <td>  50</td>\n",
        "    </tr>\n",
        "    <tr>\n",
        "      <th>A3KTXVX21A6RXT</th>\n",
        "      <td>  50</td>\n",
        "    </tr>\n",
        "    <tr>\n",
        "      <th>A171HR7IQW4KA4</th>\n",
        "      <td>  50</td>\n",
        "    </tr>\n",
        "    <tr>\n",
        "      <th>ASOOONBGQ48YI</th>\n",
        "      <td>  50</td>\n",
        "    </tr>\n",
        "    <tr>\n",
        "      <th>A3IU6GG9HKX4JQ</th>\n",
        "      <td>  50</td>\n",
        "    </tr>\n",
        "    <tr>\n",
        "      <th>A1GHKKR97LHLNN</th>\n",
        "      <td>  50</td>\n",
        "    </tr>\n",
        "    <tr>\n",
        "      <th>A2ZCZYY4SS4PT6</th>\n",
        "      <td>  50</td>\n",
        "    </tr>\n",
        "    <tr>\n",
        "      <th>ARFV302JOUOF</th>\n",
        "      <td>  40</td>\n",
        "    </tr>\n",
        "    <tr>\n",
        "      <th>A2A9JD9UV8DQZX</th>\n",
        "      <td>  40</td>\n",
        "    </tr>\n",
        "    <tr>\n",
        "      <th>A2TB9OJDTAMABG</th>\n",
        "      <td>  40</td>\n",
        "    </tr>\n",
        "    <tr>\n",
        "      <th>A3A1BY5BZCHV2S</th>\n",
        "      <td>  40</td>\n",
        "    </tr>\n",
        "    <tr>\n",
        "      <th>A3UYK0Z6ZHS7I4</th>\n",
        "      <td>  40</td>\n",
        "    </tr>\n",
        "    <tr>\n",
        "      <th>A34DWBBWZRLO1X</th>\n",
        "      <td>  40</td>\n",
        "    </tr>\n",
        "    <tr>\n",
        "      <th>A2TQO1OQHNZ994</th>\n",
        "      <td>  40</td>\n",
        "    </tr>\n",
        "    <tr>\n",
        "      <th>A218S9QMWS15U</th>\n",
        "      <td>  40</td>\n",
        "    </tr>\n",
        "    <tr>\n",
        "      <th>A38LBDI4T61CA7</th>\n",
        "      <td>  30</td>\n",
        "    </tr>\n",
        "    <tr>\n",
        "      <th>AT8TYABSKT3MW</th>\n",
        "      <td>  30</td>\n",
        "    </tr>\n",
        "    <tr>\n",
        "      <th>A2A1KCORH7FMKC</th>\n",
        "      <td>  30</td>\n",
        "    </tr>\n",
        "    <tr>\n",
        "      <th>A26DPX7A0M1X5</th>\n",
        "      <td>  30</td>\n",
        "    </tr>\n",
        "    <tr>\n",
        "      <th>A2GK561TFAVTPY</th>\n",
        "      <td>  30</td>\n",
        "    </tr>\n",
        "    <tr>\n",
        "      <th>A2XJCQWVAZLW69</th>\n",
        "      <td>  30</td>\n",
        "    </tr>\n",
        "    <tr>\n",
        "      <th>A2HV92ESLVWTP8</th>\n",
        "      <td>  30</td>\n",
        "    </tr>\n",
        "    <tr>\n",
        "      <th>A35ARURSRU6UAZ</th>\n",
        "      <td>  30</td>\n",
        "    </tr>\n",
        "    <tr>\n",
        "      <th>AUKZKPLQ04H1E</th>\n",
        "      <td>  20</td>\n",
        "    </tr>\n",
        "    <tr>\n",
        "      <th>ACS65VMF32SF3</th>\n",
        "      <td>  20</td>\n",
        "    </tr>\n",
        "    <tr>\n",
        "      <th>A2KJNKCTHNF8JS</th>\n",
        "      <td>  20</td>\n",
        "    </tr>\n",
        "    <tr>\n",
        "      <th>A5CTF5NSGIBMT</th>\n",
        "      <td>  20</td>\n",
        "    </tr>\n",
        "    <tr>\n",
        "      <th>A18RDBJFY3QWZL</th>\n",
        "      <td>  20</td>\n",
        "    </tr>\n",
        "    <tr>\n",
        "      <th>A301GNFG8W711Q</th>\n",
        "      <td>  20</td>\n",
        "    </tr>\n",
        "    <tr>\n",
        "      <th>A1OVDEQPK8O5PG</th>\n",
        "      <td>  20</td>\n",
        "    </tr>\n",
        "    <tr>\n",
        "      <th>A2RVKQ541U9VGP</th>\n",
        "      <td>  20</td>\n",
        "    </tr>\n",
        "    <tr>\n",
        "      <th>AC9HB5CXPAW6N</th>\n",
        "      <td>  20</td>\n",
        "    </tr>\n",
        "    <tr>\n",
        "      <th>A24YG85HFTHGP7</th>\n",
        "      <td>  20</td>\n",
        "    </tr>\n",
        "    <tr>\n",
        "      <th>A3L8SWMZLG2X96</th>\n",
        "      <td>  20</td>\n",
        "    </tr>\n",
        "    <tr>\n",
        "      <th>A1QKX5CZJQONP</th>\n",
        "      <td>  20</td>\n",
        "    </tr>\n",
        "    <tr>\n",
        "      <th>A2L2P8RVIAJC8D</th>\n",
        "      <td>  20</td>\n",
        "    </tr>\n",
        "    <tr>\n",
        "      <th>A3GXAXI3YT155C</th>\n",
        "      <td>  20</td>\n",
        "    </tr>\n",
        "    <tr>\n",
        "      <th>ADVZ6ZG7MEOKE</th>\n",
        "      <td>  20</td>\n",
        "    </tr>\n",
        "    <tr>\n",
        "      <th>AUD3A4YDWWZCY</th>\n",
        "      <td>  20</td>\n",
        "    </tr>\n",
        "    <tr>\n",
        "      <th></th>\n",
        "      <td>...</td>\n",
        "    </tr>\n",
        "  </tbody>\n",
        "</table>\n",
        "<p>102 rows \u00d7 1 columns</p>\n",
        "</div>"
       ],
       "metadata": {},
       "output_type": "pyout",
       "prompt_number": 186,
       "text": [
        "                count\n",
        "A17UXYM7D324MI    440\n",
        "A101WUMP4O5DY7    180\n",
        "AU2NVT51E749C     170\n",
        "AEVU71Z2FDTUX     170\n",
        "A1LZWU72K42V92    160\n",
        "A137AMJ2GMFI78    160\n",
        "A20ZKYBXB8QLTG    150\n",
        "A1OPAQ2OPIUUOB    140\n",
        "A33DSATES6RA2K    140\n",
        "A2VD06PK1DG87O    130\n",
        "AVC62JNYAXA45     130\n",
        "AO3XB5I5QNNUI     120\n",
        "A2U3TW5GB06QZE    110\n",
        "ASZME2HK3WFW2     110\n",
        "A3DFJV1RD653DQ     90\n",
        "AS9E0S6DBSWH7      90\n",
        "A1G9G9IQV38J9P     80\n",
        "A177I8PLPR36T3     70\n",
        "A1FBD0P6GEJ2X      70\n",
        "A746183X8258H      70\n",
        "A2OLVF6P86QSQJ     70\n",
        "A109DH65MXHL0Q     50\n",
        "A3KTXVX21A6RXT     50\n",
        "A171HR7IQW4KA4     50\n",
        "ASOOONBGQ48YI      50\n",
        "A3IU6GG9HKX4JQ     50\n",
        "A1GHKKR97LHLNN     50\n",
        "A2ZCZYY4SS4PT6     50\n",
        "ARFV302JOUOF       40\n",
        "A2A9JD9UV8DQZX     40\n",
        "A2TB9OJDTAMABG     40\n",
        "A3A1BY5BZCHV2S     40\n",
        "A3UYK0Z6ZHS7I4     40\n",
        "A34DWBBWZRLO1X     40\n",
        "A2TQO1OQHNZ994     40\n",
        "A218S9QMWS15U      40\n",
        "A38LBDI4T61CA7     30\n",
        "AT8TYABSKT3MW      30\n",
        "A2A1KCORH7FMKC     30\n",
        "A26DPX7A0M1X5      30\n",
        "A2GK561TFAVTPY     30\n",
        "A2XJCQWVAZLW69     30\n",
        "A2HV92ESLVWTP8     30\n",
        "A35ARURSRU6UAZ     30\n",
        "AUKZKPLQ04H1E      20\n",
        "ACS65VMF32SF3      20\n",
        "A2KJNKCTHNF8JS     20\n",
        "A5CTF5NSGIBMT      20\n",
        "A18RDBJFY3QWZL     20\n",
        "A301GNFG8W711Q     20\n",
        "A1OVDEQPK8O5PG     20\n",
        "A2RVKQ541U9VGP     20\n",
        "AC9HB5CXPAW6N      20\n",
        "A24YG85HFTHGP7     20\n",
        "A3L8SWMZLG2X96     20\n",
        "A1QKX5CZJQONP      20\n",
        "A2L2P8RVIAJC8D     20\n",
        "A3GXAXI3YT155C     20\n",
        "ADVZ6ZG7MEOKE      20\n",
        "AUD3A4YDWWZCY      20\n",
        "                  ...\n",
        "\n",
        "[102 rows x 1 columns]"
       ]
      }
     ],
     "prompt_number": 186
    },
    {
     "cell_type": "code",
     "collapsed": false,
     "input": [
      "plt.bar( range( len( answers_per_worker ) ), answers_per_worker['count'].tolist() )\n",
      "plt.ylabel( 'num answers' )"
     ],
     "language": "python",
     "metadata": {},
     "outputs": [
      {
       "metadata": {},
       "output_type": "pyout",
       "prompt_number": 187,
       "text": [
        "<matplotlib.text.Text at 0x10cead490>"
       ]
      },
      {
       "metadata": {},
       "output_type": "display_data",
       "png": "[encoded data removed]",
       "text": [
        "<matplotlib.figure.Figure at 0x10ceabc90>"
       ]
      }
     ],
     "prompt_number": 187
    },
    {
     "cell_type": "code",
     "collapsed": false,
     "input": [
      "answers_per_worker.index"
     ],
     "language": "python",
     "metadata": {},
     "outputs": [
      {
       "metadata": {},
       "output_type": "pyout",
       "prompt_number": 188,
       "text": [
        "Index([u'A17UXYM7D324MI', u'A101WUMP4O5DY7', u'AU2NVT51E749C', u'AEVU71Z2FDTUX', u'A1LZWU72K42V92', u'A137AMJ2GMFI78', u'A20ZKYBXB8QLTG', u'A1OPAQ2OPIUUOB', u'A33DSATES6RA2K', u'A2VD06PK1DG87O', u'AVC62JNYAXA45', u'AO3XB5I5QNNUI', u'A2U3TW5GB06QZE', u'ASZME2HK3WFW2', u'A3DFJV1RD653DQ', u'AS9E0S6DBSWH7', u'A1G9G9IQV38J9P', u'A177I8PLPR36T3', u'A1FBD0P6GEJ2X', u'A746183X8258H', u'A2OLVF6P86QSQJ', u'A109DH65MXHL0Q', u'A3KTXVX21A6RXT', u'A171HR7IQW4KA4', u'ASOOONBGQ48YI', u'A3IU6GG9HKX4JQ', u'A1GHKKR97LHLNN', u'A2ZCZYY4SS4PT6', u'ARFV302JOUOF', u'A2A9JD9UV8DQZX', u'A2TB9OJDTAMABG', u'A3A1BY5BZCHV2S', u'A3UYK0Z6ZHS7I4', u'A34DWBBWZRLO1X', u'A2TQO1OQHNZ994', u'A218S9QMWS15U', u'A38LBDI4T61CA7', u'AT8TYABSKT3MW', u'A2A1KCORH7FMKC', u'A26DPX7A0M1X5', u'A2GK561TFAVTPY', u'A2XJCQWVAZLW69', u'A2HV92ESLVWTP8', u'A35ARURSRU6UAZ', u'AUKZKPLQ04H1E', u'ACS65VMF32SF3', u'A2KJNKCTHNF8JS', u'A5CTF5NSGIBMT', u'A18RDBJFY3QWZL', u'A301GNFG8W711Q', u'A1OVDEQPK8O5PG', u'A2RVKQ541U9VGP', u'AC9HB5CXPAW6N', u'A24YG85HFTHGP7', u'A3L8SWMZLG2X96', u'A1QKX5CZJQONP', u'A2L2P8RVIAJC8D', u'A3GXAXI3YT155C', u'ADVZ6ZG7MEOKE', u'AUD3A4YDWWZCY', u'A2UF2FRGVW4T89', u'A1XFDV8QBVQC9L', u'AECIGP7A435LI', u'A3BXSMRCP1I2UN', u'A2W2LWXXV878CJ', u'A1KFK92GEFQ9F5', u'A2CSQNLTE06WZS', u'A2BY4F7LXUBH9C', u'ANJRINRP821LY', u'A123F7829DTAYZ', u'A17B7QTKWFQ5PQ', u'A24ZXEL71CZ28R', u'A5OJ7FHDAEHR9', u'A168LFJNV9DSTS', u'A3AN3KVN7RGW7H', u'A2W7O2ONL04GAP', u'A2U0P2JY8T4YNS', u'A29K9D52SY42OU', u'A3TXJLD6JNR280', u'A1AZTV54VEF51N', u'AIVNDSKD4755M', u'ALEJV7D94ZLHF', u'AJGWVHAH1PT36', u'A2AB2LSLME1VLP', u'A2QDHXAVBCNMEL', u'A14GZ7D1B3JSAW', u'A1FK01GE7K8DBU', u'A1QRWMTTQCLVY7', u'A3TTEI8GKK93FO', u'A2BOTRWMX54PI5', u'A3T61LJ1WNOL6Z', u'A3W037AYBB91V4', u'A1DJDT4B5B19Q2', u'A111JI6APXR6QV', u'ALIEYEJDKD6U7', u'A2FLZZ8Z4YEOPR', u'A35CSDNQYK408H', u'A1DCWB8DXPA0BW', u'AZ8KL6F16ZS7G', u'A2MCG5W6LHSRG9', ...], dtype='object')"
       ]
      }
     ],
     "prompt_number": 188
    },
    {
     "cell_type": "markdown",
     "metadata": {},
     "source": [
      "# Answer distribution per-worker"
     ]
    },
    {
     "cell_type": "code",
     "collapsed": false,
     "input": [
      "mean_answer = []\n",
      "n_trues = []\n",
      "n_totals = []"
     ],
     "language": "python",
     "metadata": {},
     "outputs": [],
     "prompt_number": 197
    },
    {
     "cell_type": "code",
     "collapsed": false,
     "input": [
      "for worker in answers_per_worker.index:\n",
      "    worker_df = result_df[ result_df['worker_id'] == worker ]\n",
      "    num_true  = len( worker_df[ worker_df['tagged_Romantic'] == True ] )\n",
      "    num_total = len( worker_df['tagged_Romantic'].dropna() )\n",
      "    \n",
      "    if num_total > 0:\n",
      "        n_trues  += [ num_true ]\n",
      "        n_totals += [ num_total ]\n",
      "        mean_answer += [ float( num_true ) / float( num_total ) ]"
     ],
     "language": "python",
     "metadata": {},
     "outputs": [],
     "prompt_number": 198
    },
    {
     "cell_type": "code",
     "collapsed": false,
     "input": [
      "print mean_answer\n",
      "print n_trues\n",
      "print n_totals"
     ],
     "language": "python",
     "metadata": {},
     "outputs": [
      {
       "output_type": "stream",
       "stream": "stdout",
       "text": [
        "[0.2903225806451613, 0.36363636363636365, 0.4, 0.4, 0.3, 0.3, 0.5, 0.4, 0.0, 0.2, 0.4, 0.36363636363636365, 0.2, 0.14285714285714285, 0.36363636363636365, 0.0, 0.1, 0.36363636363636365, 0.4, 0.3, 0.3, 0.3, 0.5, 0.2]\n",
        "[27, 12, 12, 12, 9, 9, 15, 12, 0, 6, 12, 12, 6, 9, 12, 0, 3, 12, 12, 9, 9, 9, 15, 6]\n",
        "[93, 33, 30, 30, 30, 30, 30, 30, 30, 30, 30, 33, 30, 63, 33, 30, 30, 33, 30, 30, 30, 30, 30, 30]\n"
       ]
      }
     ],
     "prompt_number": 199
    },
    {
     "cell_type": "code",
     "collapsed": false,
     "input": [
      "plt.plot( mean_answer )\n",
      "plt.xlabel( 'worker index' )\n",
      "plt.ylabel( 'percent labeled vintage' )\n",
      "axs = plt.axis()\n",
      "axs = list( axs[:2] ) + [ 0, 1 ]\n",
      "plt.axis( axs )"
     ],
     "language": "python",
     "metadata": {},
     "outputs": [
      {
       "metadata": {},
       "output_type": "pyout",
       "prompt_number": 200,
       "text": [
        "[0.0, 25.0, 0, 1]"
       ]
      },
      {
       "metadata": {},
       "output_type": "display_data",
       "png": "[encoded data removed]",
       "text": [
        "<matplotlib.figure.Figure at 0x10cdfa210>"
       ]
      }
     ],
     "prompt_number": 200
    },
    {
     "cell_type": "code",
     "collapsed": false,
     "input": [
      "csum_true  = np.cumsum( n_trues )\n",
      "csum_total = np.cumsum( n_totals )"
     ],
     "language": "python",
     "metadata": {},
     "outputs": [],
     "prompt_number": 201
    },
    {
     "cell_type": "code",
     "collapsed": false,
     "input": [
      "plt.plot( [ t / float(total) for t,total in zip( csum_true, csum_total ) ] )\n",
      "plt.xlabel( 'worker index' )\n",
      "plt.ylabel( 'cummulative percent vintage' )\n",
      "axs = plt.axis()\n",
      "axs = list( axs[:2] ) + [ 0, 1 ]\n",
      "plt.axis( axs )"
     ],
     "language": "python",
     "metadata": {},
     "outputs": [
      {
       "metadata": {},
       "output_type": "pyout",
       "prompt_number": 202,
       "text": [
        "[0.0, 25.0, 0, 1]"
       ]
      },
      {
       "metadata": {},
       "output_type": "display_data",
       "png": "[encoded data removed]",
       "text": [
        "<matplotlib.figure.Figure at 0x10dfce410>"
       ]
      }
     ],
     "prompt_number": 202
    },
    {
     "cell_type": "code",
     "collapsed": false,
     "input": [
      "len( result_df[ result_df['assignment_id'] == '3F0BG9B9MPMPS7CUH3J9W0E5JZDY7I' ] )"
     ],
     "language": "python",
     "metadata": {},
     "outputs": [
      {
       "metadata": {},
       "output_type": "pyout",
       "prompt_number": 270,
       "text": [
        "10"
       ]
      }
     ],
     "prompt_number": 270
    },
    {
     "cell_type": "code",
     "collapsed": false,
     "input": [
      "s"
     ],
     "language": "python",
     "metadata": {},
     "outputs": []
    }
   ],
   "metadata": {}
  }
 ]
}