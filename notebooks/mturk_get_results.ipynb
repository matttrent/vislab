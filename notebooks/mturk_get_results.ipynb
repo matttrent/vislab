{
 "metadata": {
  "name": ""
 },
 "nbformat": 3,
 "nbformat_minor": 0,
 "worksheets": [
  {
   "cells": [
    {
     "cell_type": "code",
     "collapsed": false,
     "input": [
      "%load_ext autoreload\n",
      "%autoreload 2\n",
      "\n",
      "import sys\n",
      "import uuid\n",
      "import math\n",
      "import urllib\n",
      "import urlparse\n",
      "\n",
      "from boto.mturk.connection import *\n",
      "from boto.mturk.question import ExternalQuestion\n",
      "from boto.mturk.qualification import *\n",
      "from boto.mturk.price import *\n",
      "\n",
      "import pandas as pd\n",
      "import vislab.datasets"
     ],
     "language": "python",
     "metadata": {},
     "outputs": [],
     "prompt_number": 1
    },
    {
     "cell_type": "markdown",
     "metadata": {},
     "source": [
      "# Configuration"
     ]
    },
    {
     "cell_type": "code",
     "collapsed": false,
     "input": [
      "# style were are testing\n",
      "POS_STYLE = 'Vintage'\n",
      "\n",
      "# style we are using for the negative test set\n",
      "# general photos from flickr interestingness\n",
      "NEG_STYLE = 'Interesting'\n",
      "\n",
      "# base url for the test server\n",
      "SERVER_URL = 'https://image-style-mturk.herokuapp.com/'\n",
      "\n",
      "# total positive + negative images in the set\n",
      "TOTAL_IMAGES  = 1000\n",
      "\n",
      "# split of positive/negative examples in the set\n",
      "POS_NEG_SPLIT = .5\n",
      "\n",
      "# we won't use the first n images from any of the different styles for inclusion \n",
      "# in any of the test tests.  this can be used to serve any number of purposes,\n",
      "# such as example images, spam-detection samples, etc...  example images are the\n",
      "# only current use.\n",
      "RESERVE_IMAGES = 100\n",
      "\n",
      "# how many images per hit\n",
      "IMAGES_PER_HIT = 10\n",
      "\n",
      "# how many different turkers we want to view each job\n",
      "HIT_REPEAT = 1\n",
      "\n",
      "# aws secret keys\n",
      "AWS_ACCESS_KEY_ID     = vislab.config['trent']['awsAccessKeyId']\n",
      "AWS_SECRET_ACCESS_KEY = vislab.config['trent']['awsSecretAccessKey']\n",
      "\n",
      "# mechanical turk server\n",
      "# AWS_HOST = 'mechanicalturk.sandbox.amazonaws.com'\n",
      "AWS_HOST = 'mechanicalturk.amazonaws.com'\n",
      "\n",
      "# top-level hit information\n",
      "HIT_TITLE    = 'Tag the style of photos';\n",
      "HIT_DESC     = 'Given examples of a given photographic style, tag whether or not a photo matches that style.'\n",
      "HIT_KEYWORDS = 'photograph, photographs, photo, photos, image, images, style, look, classification, tagging'\n",
      "\n",
      "# hit specifics\n",
      "HIT_DURATION = datetime.timedelta(7)  # 7 days\n",
      "HIT_PRICE = 0.1"
     ],
     "language": "python",
     "metadata": {},
     "outputs": [],
     "prompt_number": 2
    },
    {
     "cell_type": "markdown",
     "metadata": {},
     "source": [
      "# Setup MTurk"
     ]
    },
    {
     "cell_type": "code",
     "collapsed": false,
     "input": [
      "# create the mturk connection\n",
      "MTC = MTurkConnection(aws_access_key_id=AWS_ACCESS_KEY_ID,\n",
      "                      aws_secret_access_key=AWS_SECRET_ACCESS_KEY,\n",
      "                      host=AWS_HOST,is_secure=True)"
     ],
     "language": "python",
     "metadata": {},
     "outputs": [],
     "prompt_number": 3
    },
    {
     "cell_type": "markdown",
     "metadata": {},
     "source": [
      "# Data setup"
     ]
    },
    {
     "cell_type": "code",
     "collapsed": false,
     "input": [
      "flickr_df = vislab.datasets.flickr.load_flickr_df()"
     ],
     "language": "python",
     "metadata": {},
     "outputs": [],
     "prompt_number": 4
    },
    {
     "cell_type": "markdown",
     "metadata": {},
     "source": [
      "## Helper functions"
     ]
    },
    {
     "cell_type": "code",
     "collapsed": false,
     "input": [
      "import re\n",
      "from unicodedata import normalize\n",
      "\n",
      "_punct_re = re.compile(r'[\\t !\"#$%&\\'()*\\-/<=>?@\\[\\\\\\]^_`{|},.]+')\n",
      "\n",
      "def slugify(text, delim=u'-'):\n",
      "    \"\"\"Generates an slightly worse ASCII-only slug.\"\"\"\n",
      "    text = unicode( text )\n",
      "    result = []\n",
      "    for word in _punct_re.split(text.lower()):\n",
      "        word = normalize('NFKD', word).encode('ascii', 'ignore')\n",
      "        if word:\n",
      "            result.append(word)\n",
      "    return unicode(delim.join(result))"
     ],
     "language": "python",
     "metadata": {},
     "outputs": [],
     "prompt_number": 5
    },
    {
     "cell_type": "markdown",
     "metadata": {},
     "source": [
      "# Style tag name extraction"
     ]
    },
    {
     "cell_type": "code",
     "collapsed": false,
     "input": [
      "style_names = [name for name in flickr_df.columns.tolist() if 'style' in name]\n",
      "style_names = [name[6:].replace('_', ' ') for name in style_names]\n",
      "slug_names = [slugify(name) for name in style_names]\n",
      "style_dict = dict( zip( slug_names, style_names ) )\n",
      "style_dict"
     ],
     "language": "python",
     "metadata": {},
     "outputs": [
      {
       "metadata": {},
       "output_type": "pyout",
       "prompt_number": 6,
       "text": [
        "{u'bright-energetic': 'Bright, Energetic',\n",
        " u'depth-of-field': 'Depth of Field',\n",
        " u'ethereal': 'Ethereal',\n",
        " u'geometric-composition': 'Geometric Composition',\n",
        " u'hazy': 'Hazy',\n",
        " u'hdr': 'HDR',\n",
        " u'horror': 'Horror',\n",
        " u'interesting': 'Interesting',\n",
        " u'long-exposure': 'Long Exposure',\n",
        " u'macro': 'Macro',\n",
        " u'melancholy': 'Melancholy',\n",
        " u'minimal': 'Minimal',\n",
        " u'noir': 'Noir',\n",
        " u'romantic': 'Romantic',\n",
        " u'serene': 'Serene',\n",
        " u'soft-pastel': 'Soft, Pastel',\n",
        " u'sunny': 'Sunny',\n",
        " u'vintage': 'Vintage'}"
       ]
      }
     ],
     "prompt_number": 6
    },
    {
     "cell_type": "markdown",
     "metadata": {},
     "source": [
      "# Collect HITs"
     ]
    },
    {
     "cell_type": "code",
     "collapsed": false,
     "input": [
      "HITs = []"
     ],
     "language": "python",
     "metadata": {},
     "outputs": [],
     "prompt_number": 7
    },
    {
     "cell_type": "code",
     "collapsed": false,
     "input": [
      "old_len = -1\n",
      "count = 1\n",
      "\n",
      "while len( HITs ) is not old_len:\n",
      "\n",
      "    hits = MTC.search_hits( page_size=100, \n",
      "                            page_number=count, \n",
      "                            sort_by='CreationTime', \n",
      "                            sort_direction='Descending' )\n",
      "    \n",
      "    old_len = len( HITs )\n",
      "    HITs += hits \n",
      "    count += 1 "
     ],
     "language": "python",
     "metadata": {},
     "outputs": [],
     "prompt_number": 8
    },
    {
     "cell_type": "code",
     "collapsed": false,
     "input": [
      "len( HITs )"
     ],
     "language": "python",
     "metadata": {},
     "outputs": [
      {
       "metadata": {},
       "output_type": "pyout",
       "prompt_number": 9,
       "text": [
        "100"
       ]
      }
     ],
     "prompt_number": 9
    },
    {
     "cell_type": "markdown",
     "metadata": {},
     "source": [
      "# Collect assignments"
     ]
    },
    {
     "cell_type": "code",
     "collapsed": false,
     "input": [
      "assignments = []"
     ],
     "language": "python",
     "metadata": {},
     "outputs": [],
     "prompt_number": 10
    },
    {
     "cell_type": "code",
     "collapsed": false,
     "input": [
      "for hit in HITs:\n",
      "    \n",
      "    old_len = -1\n",
      "    count = 1\n",
      "    while len( assignments ) is not old_len:\n",
      "\n",
      "        assigns = MTC.get_assignments( hit_id=hit.HITId, page_number=count, page_size=100 )\n",
      "    \n",
      "        old_len = len( assignments )\n",
      "        assignments += assigns\n",
      "        count += 1 "
     ],
     "language": "python",
     "metadata": {},
     "outputs": [],
     "prompt_number": 11
    },
    {
     "cell_type": "code",
     "collapsed": false,
     "input": [
      "len( assignments )"
     ],
     "language": "python",
     "metadata": {},
     "outputs": [
      {
       "metadata": {},
       "output_type": "pyout",
       "prompt_number": 12,
       "text": [
        "100"
       ]
      }
     ],
     "prompt_number": 12
    },
    {
     "cell_type": "markdown",
     "metadata": {},
     "source": [
      "# Approve assignments"
     ]
    },
    {
     "cell_type": "code",
     "collapsed": false,
     "input": [
      "assign = assignments[0]"
     ],
     "language": "python",
     "metadata": {},
     "outputs": [],
     "prompt_number": 22
    },
    {
     "cell_type": "code",
     "collapsed": false,
     "input": [
      "assign.AssignmentStatus"
     ],
     "language": "python",
     "metadata": {},
     "outputs": [
      {
       "metadata": {},
       "output_type": "pyout",
       "prompt_number": 23,
       "text": [
        "u'Approved'"
       ]
      }
     ],
     "prompt_number": 23
    },
    {
     "cell_type": "code",
     "collapsed": false,
     "input": [
      "for assign in assignments:\n",
      "    if assign.AssignmentStatus != 'Approved':\n",
      "        MTC.approve_assignment( assign.AssignmentId )"
     ],
     "language": "python",
     "metadata": {},
     "outputs": [],
     "prompt_number": 26
    },
    {
     "cell_type": "markdown",
     "metadata": {},
     "source": [
      "# ETL"
     ]
    },
    {
     "cell_type": "code",
     "collapsed": false,
     "input": [
      "data = []\n",
      "indices = []"
     ],
     "language": "python",
     "metadata": {},
     "outputs": [],
     "prompt_number": 13
    },
    {
     "cell_type": "code",
     "collapsed": false,
     "input": [
      "for assign in assignments:\n",
      "    for answer in assign.answers[0]:\n",
      "    \n",
      "        qid    = answer.qid\n",
      "        fields = answer.fields\n",
      "        \n",
      "        if qid == 'workerId' or qid == 'Submit':\n",
      "            continue\n",
      "\n",
      "        qparts    = qid.split('_') \n",
      "        index     = '_'.join( qparts[:2] )\n",
      "\n",
      "        style_tag = qparts[-1]\n",
      "        style_tag = 'tagged_' + style_dict[ style_tag ]\n",
      "        \n",
      "        response = fields[0] == 'yes'\n",
      "    \n",
      "        d = {\n",
      "        'hit_id'         : assign.HITId,\n",
      "        'assignement_id' : assign.AssignmentId,\n",
      "        'worker_id'      : assign.WorkerId,\n",
      "        style_tag        : response\n",
      "        }\n",
      "    \n",
      "        data += [ d ]\n",
      "        indices += [ index ]"
     ],
     "language": "python",
     "metadata": {},
     "outputs": [],
     "prompt_number": 14
    },
    {
     "cell_type": "code",
     "collapsed": false,
     "input": [
      "print len(data)\n",
      "print len(indices)"
     ],
     "language": "python",
     "metadata": {},
     "outputs": [
      {
       "output_type": "stream",
       "stream": "stdout",
       "text": [
        "1000\n",
        "1000\n"
       ]
      }
     ],
     "prompt_number": 15
    },
    {
     "cell_type": "code",
     "collapsed": false,
     "input": [
      "answer_df = pd.DataFrame( data, index=indices )"
     ],
     "language": "python",
     "metadata": {},
     "outputs": [],
     "prompt_number": 16
    },
    {
     "cell_type": "markdown",
     "metadata": {},
     "source": [
      "# Answer analysis"
     ]
    },
    {
     "cell_type": "code",
     "collapsed": false,
     "input": [
      "answer_df.ix[0]"
     ],
     "language": "python",
     "metadata": {},
     "outputs": [
      {
       "metadata": {},
       "output_type": "pyout",
       "prompt_number": 17,
       "text": [
        "assignement_id    3A7Y0R2P2PYC9AYDY513OIPKGIPJX4\n",
        "hit_id            30F94FBDNRUWNQUNF1IND8QISOPBTU\n",
        "tagged_Vintage                             False\n",
        "worker_id                         A39OVWIB5SN5T6\n",
        "Name: f_11137371646, dtype: object"
       ]
      }
     ],
     "prompt_number": 17
    },
    {
     "cell_type": "code",
     "collapsed": false,
     "input": [
      "# number of independent workers\n",
      "len( answer_df.drop_duplicates( cols=['worker_id'] ) )"
     ],
     "language": "python",
     "metadata": {},
     "outputs": [
      {
       "metadata": {},
       "output_type": "pyout",
       "prompt_number": 18,
       "text": [
        "17"
       ]
      }
     ],
     "prompt_number": 18
    },
    {
     "cell_type": "code",
     "collapsed": false,
     "input": [
      "# merge the answer dataframe with the corresponding rows of the flickr dataframe\n",
      "# join on the shared indices\n",
      "result_df = pd.merge( answer_df, flickr_df.ix[ indices ], \n",
      "                    left_index=True, right_index=True )"
     ],
     "language": "python",
     "metadata": {},
     "outputs": [],
     "prompt_number": 19
    },
    {
     "cell_type": "code",
     "collapsed": false,
     "input": [
      "len( result_df )"
     ],
     "language": "python",
     "metadata": {},
     "outputs": [
      {
       "metadata": {},
       "output_type": "pyout",
       "prompt_number": 20,
       "text": [
        "1000"
       ]
      }
     ],
     "prompt_number": 20
    },
    {
     "cell_type": "code",
     "collapsed": false,
     "input": [
      "result_df.ix[0]"
     ],
     "language": "python",
     "metadata": {},
     "outputs": [
      {
       "metadata": {},
       "output_type": "pyout",
       "prompt_number": 21,
       "text": [
        "assignement_id                                    3A7Y0R2P2PYC9AYDY513OIPKGIPJX4\n",
        "hit_id                                            30F94FBDNRUWNQUNF1IND8QISOPBTU\n",
        "tagged_Vintage                                                             False\n",
        "worker_id                                                         A39OVWIB5SN5T6\n",
        "image_url                      http://farm6.staticflickr.com/5541/11137371646...\n",
        "page_url                       http://www.flickr.com/photos/55032983@N07/1113...\n",
        "style_Bright,_Energetic                                                    False\n",
        "style_Depth_of_Field                                                       False\n",
        "style_Ethereal                                                             False\n",
        "style_Geometric_Composition                                                False\n",
        "style_HDR                                                                  False\n",
        "style_Hazy                                                                 False\n",
        "style_Horror                                                               False\n",
        "style_Interesting                                                           True\n",
        "style_Long_Exposure                                                        False\n",
        "style_Macro                                                                False\n",
        "style_Melancholy                                                           False\n",
        "style_Minimal                                                              False\n",
        "style_Noir                                                                 False\n",
        "style_Romantic                                                             False\n",
        "style_Serene                                                               False\n",
        "style_Soft,_Pastel                                                         False\n",
        "style_Sunny                                                                False\n",
        "style_Vintage                                                              False\n",
        "_split                                                                     train\n",
        "Name: f_11137371646, dtype: object"
       ]
      }
     ],
     "prompt_number": 21
    },
    {
     "cell_type": "code",
     "collapsed": false,
     "input": [
      "import sklearn.metrics"
     ],
     "language": "python",
     "metadata": {},
     "outputs": [],
     "prompt_number": 22
    },
    {
     "cell_type": "code",
     "collapsed": false,
     "input": [
      "print result_df['style_Vintage'][:10]\n",
      "truth_list = [ int(r) for r in result_df['style_Vintage'] ]\n",
      "truth_list[:10]"
     ],
     "language": "python",
     "metadata": {},
     "outputs": [
      {
       "output_type": "stream",
       "stream": "stdout",
       "text": [
        "f_11137371646    False\n",
        "f_11137474193    False\n",
        "f_4545063438      True\n",
        "f_4545706203      True\n",
        "f_11137467705    False\n",
        "f_11137364103    False\n",
        "f_4545816209      True\n",
        "f_4544551766      True\n",
        "f_4544916909      True\n",
        "f_11137374393    False\n",
        "Name: style_Vintage, dtype: bool\n"
       ]
      },
      {
       "metadata": {},
       "output_type": "pyout",
       "prompt_number": 23,
       "text": [
        "[0, 0, 1, 1, 0, 0, 1, 1, 1, 0]"
       ]
      }
     ],
     "prompt_number": 23
    },
    {
     "cell_type": "code",
     "collapsed": false,
     "input": [
      "pred_list = [ int(r) for r in result_df['tagged_Vintage'] ]\n",
      "pred_list[:10]"
     ],
     "language": "python",
     "metadata": {},
     "outputs": [
      {
       "metadata": {},
       "output_type": "pyout",
       "prompt_number": 24,
       "text": [
        "[0, 1, 1, 0, 0, 0, 0, 0, 0, 0]"
       ]
      }
     ],
     "prompt_number": 24
    },
    {
     "cell_type": "code",
     "collapsed": false,
     "input": [
      "print sklearn.metrics.accuracy_score( truth_list, pred_list )"
     ],
     "language": "python",
     "metadata": {},
     "outputs": [
      {
       "output_type": "stream",
       "stream": "stdout",
       "text": [
        "0.702\n"
       ]
      }
     ],
     "prompt_number": 25
    },
    {
     "cell_type": "code",
     "collapsed": false,
     "input": [
      "print sklearn.metrics.precision_recall_fscore_support( truth_list, pred_list, pos_label=1, average='micro' )"
     ],
     "language": "python",
     "metadata": {},
     "outputs": [
      {
       "output_type": "stream",
       "stream": "stdout",
       "text": [
        "(0.71218487394957986, 0.67800000000000005, 0.69467213114754101, 500)\n"
       ]
      }
     ],
     "prompt_number": 26
    },
    {
     "cell_type": "markdown",
     "metadata": {},
     "source": [
      "# Worker analysis"
     ]
    },
    {
     "cell_type": "code",
     "collapsed": false,
     "input": [
      "unique_workers = answer_df.drop_duplicates( cols=['worker_id'] )['worker_id'].tolist()\n",
      "unique_workers"
     ],
     "language": "python",
     "metadata": {},
     "outputs": [
      {
       "metadata": {},
       "output_type": "pyout",
       "prompt_number": 27,
       "text": [
        "[u'A39OVWIB5SN5T6',\n",
        " u'A3ABJN1IL7UCZ8',\n",
        " u'A2UUT3XS4L80YU',\n",
        " u'A1H8KB7BM8X7EL',\n",
        " u'ADJMZSRMFT3RG',\n",
        " u'A2FLZZ8Z4YEOPR',\n",
        " u'AD5IKFAK8KN4P',\n",
        " u'AOSFK4SX61DUA',\n",
        " u'A510NKLV727GZ',\n",
        " u'A36RSPJYGSUWQT',\n",
        " u'A3N6C8962TXPVH',\n",
        " u'AVGIHT7FXQ816',\n",
        " u'A3008AQVE4FSIE',\n",
        " u'A2KEOU752LUBZC',\n",
        " u'A2CCL5NW0DNJN8',\n",
        " u'A27KTIX29MYGVU',\n",
        " u'A36LOA6VLJU157']"
       ]
      }
     ],
     "prompt_number": 27
    },
    {
     "cell_type": "code",
     "collapsed": false,
     "input": [
      "answers_per_worker = [ len( answer_df[ answer_df['worker_id'] == worker_id ] ) \n",
      "                       for worker_id in unique_workers ] "
     ],
     "language": "python",
     "metadata": {},
     "outputs": [],
     "prompt_number": 28
    },
    {
     "cell_type": "code",
     "collapsed": false,
     "input": [
      "answers_per_worker = pd.DataFrame( answers_per_worker, index=unique_workers, columns=['count'] )\n",
      "answers_per_worker.sort( columns='count', ascending=False, inplace=True )\n",
      "answers_per_worker"
     ],
     "language": "python",
     "metadata": {},
     "outputs": [
      {
       "output_type": "stream",
       "stream": "stderr",
       "text": [
        "/Users/mmt/anaconda/envs/aphrodite/lib/python2.7/site-packages/pandas/core/config.py:570: DeprecationWarning: height has been deprecated.\n",
        "\n",
        "  warnings.warn(d.msg, DeprecationWarning)\n",
        "/Users/mmt/anaconda/envs/aphrodite/lib/python2.7/site-packages/pandas/core/config.py:570: DeprecationWarning: height has been deprecated.\n",
        "\n",
        "  warnings.warn(d.msg, DeprecationWarning)\n"
       ]
      },
      {
       "html": [
        "<div style=\"max-height:1000px;max-width:1500px;overflow:auto;\">\n",
        "<table border=\"1\" class=\"dataframe\">\n",
        "  <thead>\n",
        "    <tr style=\"text-align: right;\">\n",
        "      <th></th>\n",
        "      <th>count</th>\n",
        "    </tr>\n",
        "  </thead>\n",
        "  <tbody>\n",
        "    <tr>\n",
        "      <th>A39OVWIB5SN5T6</th>\n",
        "      <td> 260</td>\n",
        "    </tr>\n",
        "    <tr>\n",
        "      <th>A3ABJN1IL7UCZ8</th>\n",
        "      <td> 170</td>\n",
        "    </tr>\n",
        "    <tr>\n",
        "      <th>A1H8KB7BM8X7EL</th>\n",
        "      <td> 140</td>\n",
        "    </tr>\n",
        "    <tr>\n",
        "      <th>A2FLZZ8Z4YEOPR</th>\n",
        "      <td> 130</td>\n",
        "    </tr>\n",
        "    <tr>\n",
        "      <th>A2UUT3XS4L80YU</th>\n",
        "      <td>  90</td>\n",
        "    </tr>\n",
        "    <tr>\n",
        "      <th>A36RSPJYGSUWQT</th>\n",
        "      <td>  60</td>\n",
        "    </tr>\n",
        "    <tr>\n",
        "      <th>A3008AQVE4FSIE</th>\n",
        "      <td>  40</td>\n",
        "    </tr>\n",
        "    <tr>\n",
        "      <th>AD5IKFAK8KN4P</th>\n",
        "      <td>  20</td>\n",
        "    </tr>\n",
        "    <tr>\n",
        "      <th>ADJMZSRMFT3RG</th>\n",
        "      <td>  10</td>\n",
        "    </tr>\n",
        "    <tr>\n",
        "      <th>A36LOA6VLJU157</th>\n",
        "      <td>  10</td>\n",
        "    </tr>\n",
        "    <tr>\n",
        "      <th>AOSFK4SX61DUA</th>\n",
        "      <td>  10</td>\n",
        "    </tr>\n",
        "    <tr>\n",
        "      <th>A27KTIX29MYGVU</th>\n",
        "      <td>  10</td>\n",
        "    </tr>\n",
        "    <tr>\n",
        "      <th>A3N6C8962TXPVH</th>\n",
        "      <td>  10</td>\n",
        "    </tr>\n",
        "    <tr>\n",
        "      <th>AVGIHT7FXQ816</th>\n",
        "      <td>  10</td>\n",
        "    </tr>\n",
        "    <tr>\n",
        "      <th>A2KEOU752LUBZC</th>\n",
        "      <td>  10</td>\n",
        "    </tr>\n",
        "    <tr>\n",
        "      <th>A2CCL5NW0DNJN8</th>\n",
        "      <td>  10</td>\n",
        "    </tr>\n",
        "    <tr>\n",
        "      <th>A510NKLV727GZ</th>\n",
        "      <td>  10</td>\n",
        "    </tr>\n",
        "  </tbody>\n",
        "</table>\n",
        "</div>"
       ],
       "metadata": {},
       "output_type": "pyout",
       "prompt_number": 29,
       "text": [
        "                count\n",
        "A39OVWIB5SN5T6    260\n",
        "A3ABJN1IL7UCZ8    170\n",
        "A1H8KB7BM8X7EL    140\n",
        "A2FLZZ8Z4YEOPR    130\n",
        "A2UUT3XS4L80YU     90\n",
        "A36RSPJYGSUWQT     60\n",
        "A3008AQVE4FSIE     40\n",
        "AD5IKFAK8KN4P      20\n",
        "ADJMZSRMFT3RG      10\n",
        "A36LOA6VLJU157     10\n",
        "AOSFK4SX61DUA      10\n",
        "A27KTIX29MYGVU     10\n",
        "A3N6C8962TXPVH     10\n",
        "AVGIHT7FXQ816      10\n",
        "A2KEOU752LUBZC     10\n",
        "A2CCL5NW0DNJN8     10\n",
        "A510NKLV727GZ      10"
       ]
      }
     ],
     "prompt_number": 29
    },
    {
     "cell_type": "code",
     "collapsed": false,
     "input": [
      "plt.bar( range( len( answers_per_worker ) ), answers_per_worker['count'].tolist() )\n",
      "plt.ylabel( 'num answers' )"
     ],
     "language": "python",
     "metadata": {},
     "outputs": [
      {
       "metadata": {},
       "output_type": "pyout",
       "prompt_number": 51,
       "text": [
        "<matplotlib.text.Text at 0x10d51ca90>"
       ]
      },
      {
       "metadata": {},
       "output_type": "display_data",
       "png": "[encoded data removed]",
       "text": [
        "<matplotlib.figure.Figure at 0x10d505ed0>"
       ]
      }
     ],
     "prompt_number": 51
    },
    {
     "cell_type": "code",
     "collapsed": false,
     "input": [
      "answers_per_worker.index"
     ],
     "language": "python",
     "metadata": {},
     "outputs": [
      {
       "metadata": {},
       "output_type": "pyout",
       "prompt_number": 36,
       "text": [
        "Index([u'A39OVWIB5SN5T6', u'A3ABJN1IL7UCZ8', u'A1H8KB7BM8X7EL', u'A2FLZZ8Z4YEOPR', u'A2UUT3XS4L80YU', u'A36RSPJYGSUWQT', u'A3008AQVE4FSIE', u'AD5IKFAK8KN4P', u'ADJMZSRMFT3RG', u'A36LOA6VLJU157', u'AOSFK4SX61DUA', u'A27KTIX29MYGVU', u'A3N6C8962TXPVH', u'AVGIHT7FXQ816', u'A2KEOU752LUBZC', u'A2CCL5NW0DNJN8', u'A510NKLV727GZ'], dtype=object)"
       ]
      }
     ],
     "prompt_number": 36
    },
    {
     "cell_type": "markdown",
     "metadata": {},
     "source": [
      "# Answer distribution per-worker"
     ]
    },
    {
     "cell_type": "code",
     "collapsed": false,
     "input": [
      "mean_answer = []\n",
      "n_trues = []\n",
      "n_totals = []"
     ],
     "language": "python",
     "metadata": {},
     "outputs": [],
     "prompt_number": 41
    },
    {
     "cell_type": "code",
     "collapsed": false,
     "input": [
      "for worker in answers_per_worker.index:\n",
      "    worker_df = result_df[ result_df['worker_id'] == worker ]\n",
      "    num_true  = len( worker_df[ worker_df['tagged_Vintage'] == True ] )\n",
      "    num_total = len( worker_df )\n",
      "    n_trues  += [ num_true ]\n",
      "    n_totals += [ num_total ]\n",
      "    mean_answer += [ float( num_true ) / float( num_total ) ]"
     ],
     "language": "python",
     "metadata": {},
     "outputs": [],
     "prompt_number": 42
    },
    {
     "cell_type": "code",
     "collapsed": false,
     "input": [
      "plt.plot( mean_answer )\n",
      "plt.xlabel( 'worker index' )\n",
      "plt.ylabel( 'percent labeled vintage' )"
     ],
     "language": "python",
     "metadata": {},
     "outputs": [
      {
       "metadata": {},
       "output_type": "pyout",
       "prompt_number": 53,
       "text": [
        "<matplotlib.text.Text at 0x10d447f10>"
       ]
      },
      {
       "metadata": {},
       "output_type": "display_data",
       "png": "[encoded data removed]",
       "text": [
        "<matplotlib.figure.Figure at 0x10d5c8710>"
       ]
      }
     ],
     "prompt_number": 53
    },
    {
     "cell_type": "code",
     "collapsed": false,
     "input": [
      "csum_true  = np.cumsum( n_trues )\n",
      "csum_total = np.cumsum( n_totals )"
     ],
     "language": "python",
     "metadata": {},
     "outputs": [],
     "prompt_number": 46
    },
    {
     "cell_type": "code",
     "collapsed": false,
     "input": [
      "plt.plot( [ t / float(total) for t,total in zip( csum_true, csum_total ) ] )\n",
      "plt.xlabel( 'worker index' )\n",
      "plt.ylabel( 'cummulative percent vintage' )"
     ],
     "language": "python",
     "metadata": {},
     "outputs": [
      {
       "metadata": {},
       "output_type": "pyout",
       "prompt_number": 54,
       "text": [
        "<matplotlib.text.Text at 0x10d43a910>"
       ]
      },
      {
       "metadata": {},
       "output_type": "display_data",
       "png": "[encoded data removed]",
       "text": [
        "<matplotlib.figure.Figure at 0x10d77bed0>"
       ]
      }
     ],
     "prompt_number": 54
    },
    {
     "cell_type": "code",
     "collapsed": false,
     "input": [],
     "language": "python",
     "metadata": {},
     "outputs": []
    }
   ],
   "metadata": {}
  }
 ]
}