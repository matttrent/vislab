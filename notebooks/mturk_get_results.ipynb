{
 "metadata": {
  "name": "",
  "signature": "sha256:64122d48fddb5beea229164ba4c0d4078cd82b2c81530fc55a4a484670f73e36"
 },
 "nbformat": 3,
 "nbformat_minor": 0,
 "worksheets": [
  {
   "cells": [
    {
     "cell_type": "code",
     "collapsed": false,
     "input": [
      "%load_ext autoreload\n",
      "%autoreload 2\n",
      "\n",
      "import sys\n",
      "import uuid\n",
      "import math\n",
      "import urllib\n",
      "import urlparse\n",
      "import time\n",
      "\n",
      "from boto.mturk.connection import *\n",
      "from boto.mturk.question import ExternalQuestion\n",
      "from boto.mturk.qualification import *\n",
      "from boto.mturk.price import *\n",
      "\n",
      "import pandas as pd\n",
      "import vislab.datasets"
     ],
     "language": "python",
     "metadata": {},
     "outputs": [
      {
       "output_type": "stream",
       "stream": "stdout",
       "text": [
        "The autoreload extension is already loaded. To reload it, use:\n",
        "  %reload_ext autoreload\n"
       ]
      }
     ],
     "prompt_number": 83
    },
    {
     "cell_type": "markdown",
     "metadata": {},
     "source": [
      "# Configuration"
     ]
    },
    {
     "cell_type": "code",
     "collapsed": false,
     "input": [
      "# style were are testing\n",
      "POS_STYLE = 'Vintage'\n",
      "\n",
      "# base url for the test server\n",
      "SERVER_URL = 'https://image-style-mturk.herokuapp.com/'\n",
      "\n",
      "# total positive + negative images in the set\n",
      "TOTAL_IMAGES  = 2000\n",
      "\n",
      "# split of positive/negative examples in the set\n",
      "POS_NEG_SPLIT = .5\n",
      "\n",
      "# we won't use the first n images from any of the different styles for inclusion \n",
      "# in any of the test tests.  this can be used to serve any number of purposes,\n",
      "# such as example images, spam-detection samples, etc...  example images are the\n",
      "# only current use.\n",
      "RESERVE_IMAGES = 100\n",
      "\n",
      "# how many images per hit\n",
      "IMAGES_PER_HIT = 10\n",
      "\n",
      "# how many different turkers we want to view each job\n",
      "HIT_REPEAT = 1\n",
      "\n",
      "# aws secret keys\n",
      "AWS_ACCESS_KEY_ID     = vislab.config['api_keys']['mturk_aaron']['awsAccessKeyId']\n",
      "AWS_SECRET_ACCESS_KEY = vislab.config['api_keys']['mturk_aaron']['awsSecretAccessKey']\n",
      "\n",
      "# mechanical turk server\n",
      "# AWS_HOST = 'mechanicalturk.sandbox.amazonaws.com'\n",
      "AWS_HOST = 'mechanicalturk.amazonaws.com'\n",
      "\n",
      "# top-level hit information\n",
      "HIT_TITLE    = 'Tag the style of photos';\n",
      "HIT_DESC     = 'Given examples of a given photographic style, tag whether or not a photo matches that style.'\n",
      "HIT_KEYWORDS = 'photograph, photographs, photo, photos, image, images, style, look, classification, tagging'\n",
      "\n",
      "# hit specifics\n",
      "HIT_DURATION = datetime.timedelta(7)  # 7 days\n",
      "HIT_PRICE = 0.1"
     ],
     "language": "python",
     "metadata": {},
     "outputs": [],
     "prompt_number": 84
    },
    {
     "cell_type": "markdown",
     "metadata": {},
     "source": [
      "# Helper functions"
     ]
    },
    {
     "cell_type": "code",
     "collapsed": false,
     "input": [
      "def assignment_df_tag( df, drop=True ):\n",
      "    if drop: df = df.dropna( axis=1, how='all' )\n",
      "    return [name for name in df.columns.tolist() if 'tagged' in name]\n",
      "\n",
      "def assignment_series_tag( ser, drop=True ):\n",
      "    if drop: ser = ser.dropna()\n",
      "    return [name for name in ser.index.tolist() if 'tagged' in name][0]"
     ],
     "language": "python",
     "metadata": {},
     "outputs": [],
     "prompt_number": 517
    },
    {
     "cell_type": "markdown",
     "metadata": {},
     "source": [
      "# Spam rejection images"
     ]
    },
    {
     "cell_type": "code",
     "collapsed": false,
     "input": [
      "spam_images = {}\n",
      "spam_images['style_Bright']                = [ '13276349735', '13202986955' ]\n",
      "spam_images['style_Depth_of_Field']        = [ '12275097686', '12618937364' ]\n",
      "spam_images['style_Detailed']\t             = [ '12678909473', '9584007214' ]\n",
      "spam_images['style_Ethereal']\t             = [ '11196553984', '12103191336' ]\n",
      "spam_images['style_Geometric_Composition'] = [ '12361280943', '11728222814' ]\n",
      "spam_images['style_HDR']\t                 = [ '12985120954', '13080484014' ]\n",
      "spam_images['style_Hazy']\t                 = [ '8123136180', '8710649981' ]\n",
      "spam_images['style_Horror']\t             = [ '3540879185', '3190181306' ]\n",
      "spam_images['style_Long_Exposure']\t     = [ '13077420234', '13039543873' ]\n",
      "spam_images['style_Macro']\t             = [ '12874682495', '13237561944' ]\n",
      "spam_images['style_Melancholy']\t         = [ '13035627133', '12652741963' ]\n",
      "spam_images['style_Minimal']\t             = [ '9389108329', '9499757804' ]\n",
      "spam_images['style_Noir']\t                 = [ '11158990436', '3330508474' ]\n",
      "spam_images['style_Pastel']\t             = [ '13163996094', '12772046043' ]\n",
      "spam_images['style_Romantic']\t             = [ '8875030224', '9390762719' ]\n",
      "spam_images['style_Serene']\t             = [ '9572023253', '9700306653' ]\n",
      "spam_images['style_Sunny']\t             = [ '11433844095', '11156368195' ]\n",
      "spam_images['style_Vintage']\t             = [ '5710850998', '5798828322' ]"
     ],
     "language": "python",
     "metadata": {},
     "outputs": [],
     "prompt_number": 419
    },
    {
     "cell_type": "markdown",
     "metadata": {},
     "source": [
      "# Setup MTurk"
     ]
    },
    {
     "cell_type": "code",
     "collapsed": false,
     "input": [
      "# create the mturk connection\n",
      "MTC = MTurkConnection(aws_access_key_id=AWS_ACCESS_KEY_ID,\n",
      "                      aws_secret_access_key=AWS_SECRET_ACCESS_KEY,\n",
      "                      host=AWS_HOST,is_secure=True)"
     ],
     "language": "python",
     "metadata": {},
     "outputs": [],
     "prompt_number": 85
    },
    {
     "cell_type": "markdown",
     "metadata": {},
     "source": [
      "# Data setup"
     ]
    },
    {
     "cell_type": "code",
     "collapsed": false,
     "input": [
      "flickr_df = vislab.datasets.flickr.get_df()"
     ],
     "language": "python",
     "metadata": {},
     "outputs": [],
     "prompt_number": 4
    },
    {
     "cell_type": "markdown",
     "metadata": {},
     "source": [
      "## Helper functions"
     ]
    },
    {
     "cell_type": "code",
     "collapsed": false,
     "input": [
      "import re\n",
      "from unicodedata import normalize\n",
      "\n",
      "_punct_re = re.compile(r'[\\t !\"#$%&\\'()*\\-/<=>?@\\[\\\\\\]^_`{|},.]+')\n",
      "\n",
      "def slugify(text, delim=u'-'):\n",
      "    \"\"\"Generates an slightly worse ASCII-only slug.\"\"\"\n",
      "    text = unicode( text )\n",
      "    result = []\n",
      "    for word in _punct_re.split(text.lower()):\n",
      "        word = normalize('NFKD', word).encode('ascii', 'ignore')\n",
      "        if word:\n",
      "            result.append(word)\n",
      "    return unicode(delim.join(result))"
     ],
     "language": "python",
     "metadata": {},
     "outputs": [],
     "prompt_number": 86
    },
    {
     "cell_type": "markdown",
     "metadata": {},
     "source": [
      "# Style tag name extraction"
     ]
    },
    {
     "cell_type": "code",
     "collapsed": false,
     "input": [
      "style_cols = [name for name in flickr_df.columns.tolist() if 'style' in name]\n",
      "style_cols.remove( 'style_Bokeh' )\n",
      "style_cols.remove( 'style_Texture' )\n",
      "print style_cols"
     ],
     "language": "python",
     "metadata": {},
     "outputs": [
      {
       "output_type": "stream",
       "stream": "stdout",
       "text": [
        "['style_Bright', 'style_Depth_of_Field', 'style_Detailed', 'style_Ethereal', 'style_Geometric_Composition', 'style_HDR', 'style_Hazy', 'style_Horror', 'style_Long_Exposure', 'style_Macro', 'style_Melancholy', 'style_Minimal', 'style_Noir', 'style_Pastel', 'style_Romantic', 'style_Serene', 'style_Sunny', 'style_Vintage']\n"
       ]
      }
     ],
     "prompt_number": 87
    },
    {
     "cell_type": "code",
     "collapsed": false,
     "input": [
      "style_names = [name[6:].replace('_', ' ') for name in style_cols]\n",
      "slug_names = [slugify(name) for name in style_names]\n",
      "style_dict = dict( zip( slug_names, style_names ) )\n",
      "style_dict"
     ],
     "language": "python",
     "metadata": {},
     "outputs": [
      {
       "metadata": {},
       "output_type": "pyout",
       "prompt_number": 88,
       "text": [
        "{u'bright': 'Bright',\n",
        " u'depth-of-field': 'Depth of Field',\n",
        " u'detailed': 'Detailed',\n",
        " u'ethereal': 'Ethereal',\n",
        " u'geometric-composition': 'Geometric Composition',\n",
        " u'hazy': 'Hazy',\n",
        " u'hdr': 'HDR',\n",
        " u'horror': 'Horror',\n",
        " u'long-exposure': 'Long Exposure',\n",
        " u'macro': 'Macro',\n",
        " u'melancholy': 'Melancholy',\n",
        " u'minimal': 'Minimal',\n",
        " u'noir': 'Noir',\n",
        " u'pastel': 'Pastel',\n",
        " u'romantic': 'Romantic',\n",
        " u'serene': 'Serene',\n",
        " u'sunny': 'Sunny',\n",
        " u'vintage': 'Vintage'}"
       ]
      }
     ],
     "prompt_number": 88
    },
    {
     "cell_type": "markdown",
     "metadata": {},
     "source": [
      "# Load existing work"
     ]
    },
    {
     "cell_type": "code",
     "collapsed": false,
     "input": [
      "answer_df = pd.read_hdf( '../../mturk-results/mturk-answers.h5', 'df' )"
     ],
     "language": "python",
     "metadata": {},
     "outputs": [],
     "prompt_number": 89
    },
    {
     "cell_type": "code",
     "collapsed": false,
     "input": [
      "print len( answer_df )"
     ],
     "language": "python",
     "metadata": {},
     "outputs": [
      {
       "output_type": "stream",
       "stream": "stdout",
       "text": [
        "5390\n"
       ]
      }
     ],
     "prompt_number": 90
    },
    {
     "cell_type": "markdown",
     "metadata": {},
     "source": [
      "# Collect HITs"
     ]
    },
    {
     "cell_type": "code",
     "collapsed": false,
     "input": [
      "HITs = []"
     ],
     "language": "python",
     "metadata": {},
     "outputs": [],
     "prompt_number": 696
    },
    {
     "cell_type": "code",
     "collapsed": false,
     "input": [
      "old_len = -1\n",
      "count = 1\n",
      "\n",
      "while len( HITs ) != old_len:\n",
      "\n",
      "    print count, len(HITs), old_len\n",
      "    hits = MTC.search_hits( page_size=100, \n",
      "                            page_number=count, \n",
      "                            sort_by='CreationTime', \n",
      "                            sort_direction='Ascending' )\n",
      "    \n",
      "    old_len = len( HITs )\n",
      "    HITs += hits \n",
      "    count += 1 "
     ],
     "language": "python",
     "metadata": {},
     "outputs": [
      {
       "output_type": "stream",
       "stream": "stdout",
       "text": [
        "1 0 -1\n",
        "2"
       ]
      },
      {
       "output_type": "stream",
       "stream": "stdout",
       "text": [
        " 100 0\n",
        "3"
       ]
      },
      {
       "output_type": "stream",
       "stream": "stdout",
       "text": [
        " 200 100\n",
        "4"
       ]
      },
      {
       "output_type": "stream",
       "stream": "stdout",
       "text": [
        " 300 200\n",
        "5"
       ]
      },
      {
       "output_type": "stream",
       "stream": "stdout",
       "text": [
        " 400 300\n",
        "6"
       ]
      },
      {
       "output_type": "stream",
       "stream": "stdout",
       "text": [
        " 500 400\n",
        "7"
       ]
      },
      {
       "output_type": "stream",
       "stream": "stdout",
       "text": [
        " 600 500\n",
        "8"
       ]
      },
      {
       "output_type": "stream",
       "stream": "stdout",
       "text": [
        " 700 600\n",
        "9"
       ]
      },
      {
       "output_type": "stream",
       "stream": "stdout",
       "text": [
        " 800 700\n",
        "10"
       ]
      },
      {
       "output_type": "stream",
       "stream": "stdout",
       "text": [
        " 900 800\n",
        "11"
       ]
      },
      {
       "output_type": "stream",
       "stream": "stdout",
       "text": [
        " 1000 900\n",
        "12"
       ]
      },
      {
       "output_type": "stream",
       "stream": "stdout",
       "text": [
        " 1100 1000\n",
        "13"
       ]
      },
      {
       "output_type": "stream",
       "stream": "stdout",
       "text": [
        " 1200 1100\n",
        "14"
       ]
      },
      {
       "output_type": "stream",
       "stream": "stdout",
       "text": [
        " 1300 1200\n",
        "15"
       ]
      },
      {
       "output_type": "stream",
       "stream": "stdout",
       "text": [
        " 1400 1300\n",
        "16"
       ]
      },
      {
       "output_type": "stream",
       "stream": "stdout",
       "text": [
        " 1500 1400\n",
        "17"
       ]
      },
      {
       "output_type": "stream",
       "stream": "stdout",
       "text": [
        " 1600 1500\n",
        "18"
       ]
      },
      {
       "output_type": "stream",
       "stream": "stdout",
       "text": [
        " 1700 1600\n",
        "19"
       ]
      },
      {
       "output_type": "stream",
       "stream": "stdout",
       "text": [
        " 1800 1700\n",
        "20"
       ]
      },
      {
       "output_type": "stream",
       "stream": "stdout",
       "text": [
        " 1900 1800\n",
        "21"
       ]
      },
      {
       "output_type": "stream",
       "stream": "stdout",
       "text": [
        " 2000 1900\n",
        "22"
       ]
      },
      {
       "output_type": "stream",
       "stream": "stdout",
       "text": [
        " 2100 2000\n",
        "23"
       ]
      },
      {
       "output_type": "stream",
       "stream": "stdout",
       "text": [
        " 2200 2100\n",
        "24"
       ]
      },
      {
       "output_type": "stream",
       "stream": "stdout",
       "text": [
        " 2300 2200\n",
        "25"
       ]
      },
      {
       "output_type": "stream",
       "stream": "stdout",
       "text": [
        " 2400 2300\n",
        "26"
       ]
      },
      {
       "output_type": "stream",
       "stream": "stdout",
       "text": [
        " 2500 2400\n",
        "27"
       ]
      },
      {
       "output_type": "stream",
       "stream": "stdout",
       "text": [
        " 2600 2500\n",
        "28"
       ]
      },
      {
       "output_type": "stream",
       "stream": "stdout",
       "text": [
        " 2700 2600\n",
        "29"
       ]
      },
      {
       "output_type": "stream",
       "stream": "stdout",
       "text": [
        " 2800 2700\n",
        "30"
       ]
      },
      {
       "output_type": "stream",
       "stream": "stdout",
       "text": [
        " 2900 2800\n",
        "31"
       ]
      },
      {
       "output_type": "stream",
       "stream": "stdout",
       "text": [
        " 3000 2900\n",
        "32"
       ]
      },
      {
       "output_type": "stream",
       "stream": "stdout",
       "text": [
        " 3100 3000\n",
        "33"
       ]
      },
      {
       "output_type": "stream",
       "stream": "stdout",
       "text": [
        " 3200 3100\n",
        "34"
       ]
      },
      {
       "output_type": "stream",
       "stream": "stdout",
       "text": [
        " 3300 3200\n",
        "35"
       ]
      },
      {
       "output_type": "stream",
       "stream": "stdout",
       "text": [
        " 3400 3300\n",
        "36"
       ]
      },
      {
       "output_type": "stream",
       "stream": "stdout",
       "text": [
        " 3500 3400\n",
        "37"
       ]
      },
      {
       "output_type": "stream",
       "stream": "stdout",
       "text": [
        " 3600 3500\n",
        "38"
       ]
      },
      {
       "output_type": "stream",
       "stream": "stdout",
       "text": [
        " 3615 3600\n"
       ]
      }
     ],
     "prompt_number": 697
    },
    {
     "cell_type": "code",
     "collapsed": false,
     "input": [
      "len( HITs )"
     ],
     "language": "python",
     "metadata": {},
     "outputs": [
      {
       "metadata": {},
       "output_type": "pyout",
       "prompt_number": 698,
       "text": [
        "3615"
       ]
      }
     ],
     "prompt_number": 698
    },
    {
     "cell_type": "code",
     "collapsed": false,
     "input": [
      "len( [hit for hit in HITs if hit.HITStatus == 'Reviewable' ] )"
     ],
     "language": "python",
     "metadata": {},
     "outputs": [
      {
       "metadata": {},
       "output_type": "pyout",
       "prompt_number": 699,
       "text": [
        "3343"
       ]
      }
     ],
     "prompt_number": 699
    },
    {
     "cell_type": "markdown",
     "metadata": {},
     "source": [
      "# Collect assignments"
     ]
    },
    {
     "cell_type": "code",
     "collapsed": false,
     "input": [
      "assignments = []"
     ],
     "language": "python",
     "metadata": {},
     "outputs": [],
     "prompt_number": 700
    },
    {
     "cell_type": "code",
     "collapsed": false,
     "input": [
      "batch_count = 0\n",
      "\n",
      "for i, hit in enumerate( HITs ):\n",
      "    \n",
      "    if hit.HITStatus != 'Reviewable':\n",
      "        continue\n",
      "    \n",
      "    if len( answer_df[ answer_df['hit_id'] == hit.HITId ] ) > 0:\n",
      "#         print 'ignoring', hit.HITId\n",
      "        continue\n",
      "    \n",
      "    if batch_count % 75 == 0 and batch_count != 0:\n",
      "        time.sleep( 20 )\n",
      "    \n",
      "    print i, \n",
      "    old_len = -1\n",
      "    count = 1\n",
      "    while len( assignments ) != old_len:\n",
      "\n",
      "        assigns = MTC.get_assignments( hit_id=hit.HITId, page_number=count, page_size=10 )\n",
      "    \n",
      "        old_len = len( assignments )\n",
      "        assignments += assigns\n",
      "        count += 1 \n",
      "    print len( assignments )\n",
      "    \n",
      "    batch_count += 1"
     ],
     "language": "python",
     "metadata": {},
     "outputs": [
      {
       "output_type": "stream",
       "stream": "stdout",
       "text": [
        "1019 "
       ]
      },
      {
       "output_type": "stream",
       "stream": "stdout",
       "text": [
        "3\n",
        "1059"
       ]
      },
      {
       "output_type": "stream",
       "stream": "stdout",
       "text": [
        " 6\n",
        "1073"
       ]
      },
      {
       "output_type": "stream",
       "stream": "stdout",
       "text": [
        " 9\n",
        "1109"
       ]
      },
      {
       "output_type": "stream",
       "stream": "stdout",
       "text": [
        " 12\n",
        "1127"
       ]
      },
      {
       "output_type": "stream",
       "stream": "stdout",
       "text": [
        " 15\n",
        "1181"
       ]
      },
      {
       "output_type": "stream",
       "stream": "stdout",
       "text": [
        " 18\n",
        "1185 "
       ]
      },
      {
       "output_type": "stream",
       "stream": "stdout",
       "text": [
        "21\n",
        "1216"
       ]
      },
      {
       "output_type": "stream",
       "stream": "stdout",
       "text": [
        " 24\n",
        "1307"
       ]
      },
      {
       "output_type": "stream",
       "stream": "stdout",
       "text": [
        " 27\n",
        "1325"
       ]
      },
      {
       "output_type": "stream",
       "stream": "stdout",
       "text": [
        " 30\n",
        "1365"
       ]
      },
      {
       "output_type": "stream",
       "stream": "stdout",
       "text": [
        " 33\n",
        "1396"
       ]
      },
      {
       "output_type": "stream",
       "stream": "stdout",
       "text": [
        " 36\n",
        "1401 "
       ]
      },
      {
       "output_type": "stream",
       "stream": "stdout",
       "text": [
        "39\n",
        "1421"
       ]
      },
      {
       "output_type": "stream",
       "stream": "stdout",
       "text": [
        " 42\n",
        "1437"
       ]
      },
      {
       "output_type": "stream",
       "stream": "stdout",
       "text": [
        " 45\n",
        "1473"
       ]
      },
      {
       "output_type": "stream",
       "stream": "stdout",
       "text": [
        " 48\n",
        "1509"
       ]
      },
      {
       "output_type": "stream",
       "stream": "stdout",
       "text": [
        " 51\n",
        "1541"
       ]
      },
      {
       "output_type": "stream",
       "stream": "stdout",
       "text": [
        " 54\n",
        "1635"
       ]
      },
      {
       "output_type": "stream",
       "stream": "stdout",
       "text": [
        " 57\n",
        "1655"
       ]
      },
      {
       "output_type": "stream",
       "stream": "stdout",
       "text": [
        " 60\n",
        "1657 "
       ]
      },
      {
       "output_type": "stream",
       "stream": "stdout",
       "text": [
        "63\n",
        "1703"
       ]
      },
      {
       "output_type": "stream",
       "stream": "stdout",
       "text": [
        " 66\n",
        "1711"
       ]
      },
      {
       "output_type": "stream",
       "stream": "stdout",
       "text": [
        " 69\n",
        "1721"
       ]
      },
      {
       "output_type": "stream",
       "stream": "stdout",
       "text": [
        " 72\n",
        "1739"
       ]
      },
      {
       "output_type": "stream",
       "stream": "stdout",
       "text": [
        " 75\n",
        "1755"
       ]
      },
      {
       "output_type": "stream",
       "stream": "stdout",
       "text": [
        " 78\n",
        "1815"
       ]
      },
      {
       "output_type": "stream",
       "stream": "stdout",
       "text": [
        " 81\n",
        "1821"
       ]
      },
      {
       "output_type": "stream",
       "stream": "stdout",
       "text": [
        " 84\n",
        "1829 "
       ]
      },
      {
       "output_type": "stream",
       "stream": "stdout",
       "text": [
        "87\n",
        "1833 "
       ]
      },
      {
       "output_type": "stream",
       "stream": "stdout",
       "text": [
        "90\n",
        "1839"
       ]
      },
      {
       "output_type": "stream",
       "stream": "stdout",
       "text": [
        " 93\n",
        "1841 "
       ]
      },
      {
       "output_type": "stream",
       "stream": "stdout",
       "text": [
        "96\n",
        "1847"
       ]
      },
      {
       "output_type": "stream",
       "stream": "stdout",
       "text": [
        " 99\n",
        "1859"
       ]
      },
      {
       "output_type": "stream",
       "stream": "stdout",
       "text": [
        " 102\n",
        "1869"
       ]
      },
      {
       "output_type": "stream",
       "stream": "stdout",
       "text": [
        " 105\n",
        "1887"
       ]
      },
      {
       "output_type": "stream",
       "stream": "stdout",
       "text": [
        " 108\n",
        "1895"
       ]
      },
      {
       "output_type": "stream",
       "stream": "stdout",
       "text": [
        " 111\n",
        "1900 "
       ]
      },
      {
       "output_type": "stream",
       "stream": "stdout",
       "text": [
        "114\n",
        "1905"
       ]
      },
      {
       "output_type": "stream",
       "stream": "stdout",
       "text": [
        " 117\n",
        "1908 "
       ]
      },
      {
       "output_type": "stream",
       "stream": "stdout",
       "text": [
        "120\n",
        "1913"
       ]
      },
      {
       "output_type": "stream",
       "stream": "stdout",
       "text": [
        " 123\n",
        "1919 "
       ]
      },
      {
       "output_type": "stream",
       "stream": "stdout",
       "text": [
        "126\n",
        "1929"
       ]
      },
      {
       "output_type": "stream",
       "stream": "stdout",
       "text": [
        " 129\n",
        "1931 "
       ]
      },
      {
       "output_type": "stream",
       "stream": "stdout",
       "text": [
        "132\n",
        "1935"
       ]
      },
      {
       "output_type": "stream",
       "stream": "stdout",
       "text": [
        " 135\n",
        "1944"
       ]
      },
      {
       "output_type": "stream",
       "stream": "stdout",
       "text": [
        " 138\n",
        "1949 "
       ]
      },
      {
       "output_type": "stream",
       "stream": "stdout",
       "text": [
        "141\n",
        "1980"
       ]
      },
      {
       "output_type": "stream",
       "stream": "stdout",
       "text": [
        " 144\n",
        "1985"
       ]
      },
      {
       "output_type": "stream",
       "stream": "stdout",
       "text": [
        " 147\n",
        "1991 "
       ]
      },
      {
       "output_type": "stream",
       "stream": "stdout",
       "text": [
        "150\n",
        "1998"
       ]
      },
      {
       "output_type": "stream",
       "stream": "stdout",
       "text": [
        " 153\n",
        "2001 "
       ]
      },
      {
       "output_type": "stream",
       "stream": "stdout",
       "text": [
        "156\n",
        "2003 "
       ]
      },
      {
       "output_type": "stream",
       "stream": "stdout",
       "text": [
        "159\n",
        "2016"
       ]
      },
      {
       "output_type": "stream",
       "stream": "stdout",
       "text": [
        " 162\n",
        "2021"
       ]
      },
      {
       "output_type": "stream",
       "stream": "stdout",
       "text": [
        " 165\n",
        "2034"
       ]
      },
      {
       "output_type": "stream",
       "stream": "stdout",
       "text": [
        " 168\n",
        "2039 "
       ]
      },
      {
       "output_type": "stream",
       "stream": "stdout",
       "text": [
        "171\n",
        "2045 "
       ]
      },
      {
       "output_type": "stream",
       "stream": "stdout",
       "text": [
        "174\n",
        "2057"
       ]
      },
      {
       "output_type": "stream",
       "stream": "stdout",
       "text": [
        " 177\n",
        "2063 "
       ]
      },
      {
       "output_type": "stream",
       "stream": "stdout",
       "text": [
        "180\n",
        "2070"
       ]
      },
      {
       "output_type": "stream",
       "stream": "stdout",
       "text": [
        " 183\n",
        "2075 "
       ]
      },
      {
       "output_type": "stream",
       "stream": "stdout",
       "text": [
        "186\n",
        "2088"
       ]
      },
      {
       "output_type": "stream",
       "stream": "stdout",
       "text": [
        " 189\n",
        "2092 "
       ]
      },
      {
       "output_type": "stream",
       "stream": "stdout",
       "text": [
        "192\n",
        "2093 "
       ]
      },
      {
       "output_type": "stream",
       "stream": "stdout",
       "text": [
        "195\n",
        "2103"
       ]
      },
      {
       "output_type": "stream",
       "stream": "stdout",
       "text": [
        " 198\n",
        "2106 "
       ]
      },
      {
       "output_type": "stream",
       "stream": "stdout",
       "text": [
        "201\n",
        "2117"
       ]
      },
      {
       "output_type": "stream",
       "stream": "stdout",
       "text": [
        " 204\n",
        "2129"
       ]
      },
      {
       "output_type": "stream",
       "stream": "stdout",
       "text": [
        " 207\n",
        "2147"
       ]
      },
      {
       "output_type": "stream",
       "stream": "stdout",
       "text": [
        " 210\n",
        "2150 "
       ]
      },
      {
       "output_type": "stream",
       "stream": "stdout",
       "text": [
        "213\n",
        "2152 "
       ]
      },
      {
       "output_type": "stream",
       "stream": "stdout",
       "text": [
        "216\n",
        "2163"
       ]
      },
      {
       "output_type": "stream",
       "stream": "stdout",
       "text": [
        " 219\n",
        "2165 "
       ]
      },
      {
       "output_type": "stream",
       "stream": "stdout",
       "text": [
        "222\n",
        "2175"
       ]
      },
      {
       "output_type": "stream",
       "stream": "stdout",
       "text": [
        " 225\n",
        "2178"
       ]
      },
      {
       "output_type": "stream",
       "stream": "stdout",
       "text": [
        " 228\n",
        "2180 "
       ]
      },
      {
       "output_type": "stream",
       "stream": "stdout",
       "text": [
        "231\n",
        "2189"
       ]
      },
      {
       "output_type": "stream",
       "stream": "stdout",
       "text": [
        " 234\n",
        "2201"
       ]
      },
      {
       "output_type": "stream",
       "stream": "stdout",
       "text": [
        " 237\n",
        "2214"
       ]
      },
      {
       "output_type": "stream",
       "stream": "stdout",
       "text": [
        " 240\n",
        "2219 "
       ]
      },
      {
       "output_type": "stream",
       "stream": "stdout",
       "text": [
        "243\n",
        "2232"
       ]
      },
      {
       "output_type": "stream",
       "stream": "stdout",
       "text": [
        " 246\n",
        "2237"
       ]
      },
      {
       "output_type": "stream",
       "stream": "stdout",
       "text": [
        " 249\n",
        "2250"
       ]
      },
      {
       "output_type": "stream",
       "stream": "stdout",
       "text": [
        " 252\n",
        "2261"
       ]
      },
      {
       "output_type": "stream",
       "stream": "stdout",
       "text": [
        " 255\n",
        "2265 "
       ]
      },
      {
       "output_type": "stream",
       "stream": "stdout",
       "text": [
        "258\n",
        "2268 "
       ]
      },
      {
       "output_type": "stream",
       "stream": "stdout",
       "text": [
        "261\n",
        "2286"
       ]
      },
      {
       "output_type": "stream",
       "stream": "stdout",
       "text": [
        " 264\n",
        "2289 "
       ]
      },
      {
       "output_type": "stream",
       "stream": "stdout",
       "text": [
        "267\n",
        "2296"
       ]
      },
      {
       "output_type": "stream",
       "stream": "stdout",
       "text": [
        " 270\n",
        "2309"
       ]
      },
      {
       "output_type": "stream",
       "stream": "stdout",
       "text": [
        " 273\n",
        "2319"
       ]
      },
      {
       "output_type": "stream",
       "stream": "stdout",
       "text": [
        " 276\n",
        "2337"
       ]
      },
      {
       "output_type": "stream",
       "stream": "stdout",
       "text": [
        " 279\n",
        "2340 "
       ]
      },
      {
       "output_type": "stream",
       "stream": "stdout",
       "text": [
        "282\n",
        "2351"
       ]
      },
      {
       "output_type": "stream",
       "stream": "stdout",
       "text": [
        " 285\n",
        "2355 "
       ]
      },
      {
       "output_type": "stream",
       "stream": "stdout",
       "text": [
        "288\n",
        "2358 "
       ]
      },
      {
       "output_type": "stream",
       "stream": "stdout",
       "text": [
        "291\n",
        "2423"
       ]
      },
      {
       "output_type": "stream",
       "stream": "stdout",
       "text": [
        " 294\n",
        "2430"
       ]
      },
      {
       "output_type": "stream",
       "stream": "stdout",
       "text": [
        " 297\n",
        "2448"
       ]
      },
      {
       "output_type": "stream",
       "stream": "stdout",
       "text": [
        " 300\n",
        "2459"
       ]
      },
      {
       "output_type": "stream",
       "stream": "stdout",
       "text": [
        " 303\n",
        "2538"
       ]
      },
      {
       "output_type": "stream",
       "stream": "stdout",
       "text": [
        " 306\n",
        "2549"
       ]
      },
      {
       "output_type": "stream",
       "stream": "stdout",
       "text": [
        " 309\n",
        "2567"
       ]
      },
      {
       "output_type": "stream",
       "stream": "stdout",
       "text": [
        " 312\n",
        "2571 "
       ]
      },
      {
       "output_type": "stream",
       "stream": "stdout",
       "text": [
        "315\n",
        "2585"
       ]
      },
      {
       "output_type": "stream",
       "stream": "stdout",
       "text": [
        " 318\n",
        "2593"
       ]
      },
      {
       "output_type": "stream",
       "stream": "stdout",
       "text": [
        " 321\n",
        "2603"
       ]
      },
      {
       "output_type": "stream",
       "stream": "stdout",
       "text": [
        " 324\n",
        "2607 "
       ]
      },
      {
       "output_type": "stream",
       "stream": "stdout",
       "text": [
        "327\n",
        "2610 "
       ]
      },
      {
       "output_type": "stream",
       "stream": "stdout",
       "text": [
        "330\n",
        "2621"
       ]
      },
      {
       "output_type": "stream",
       "stream": "stdout",
       "text": [
        " 333\n",
        "2625 "
       ]
      },
      {
       "output_type": "stream",
       "stream": "stdout",
       "text": [
        "336\n",
        "2639"
       ]
      },
      {
       "output_type": "stream",
       "stream": "stdout",
       "text": [
        " 339\n",
        "2657"
       ]
      },
      {
       "output_type": "stream",
       "stream": "stdout",
       "text": [
        " 342\n",
        "2664"
       ]
      },
      {
       "output_type": "stream",
       "stream": "stdout",
       "text": [
        " 345\n",
        "2675"
       ]
      },
      {
       "output_type": "stream",
       "stream": "stdout",
       "text": [
        " 348\n",
        "2685"
       ]
      },
      {
       "output_type": "stream",
       "stream": "stdout",
       "text": [
        " 351\n",
        "2693"
       ]
      },
      {
       "output_type": "stream",
       "stream": "stdout",
       "text": [
        " 354\n",
        "2697 "
       ]
      },
      {
       "output_type": "stream",
       "stream": "stdout",
       "text": [
        "357\n",
        "2711"
       ]
      },
      {
       "output_type": "stream",
       "stream": "stdout",
       "text": [
        " 360\n",
        "2721"
       ]
      },
      {
       "output_type": "stream",
       "stream": "stdout",
       "text": [
        " 363\n",
        "2722 "
       ]
      },
      {
       "output_type": "stream",
       "stream": "stdout",
       "text": [
        "366\n",
        "2723 "
       ]
      },
      {
       "output_type": "stream",
       "stream": "stdout",
       "text": [
        "369\n",
        "2739"
       ]
      },
      {
       "output_type": "stream",
       "stream": "stdout",
       "text": [
        " 372\n",
        "2741 "
       ]
      },
      {
       "output_type": "stream",
       "stream": "stdout",
       "text": [
        "375\n",
        "2743 "
       ]
      },
      {
       "output_type": "stream",
       "stream": "stdout",
       "text": [
        "378\n",
        "2755"
       ]
      },
      {
       "output_type": "stream",
       "stream": "stdout",
       "text": [
        " 381\n",
        "2757 "
       ]
      },
      {
       "output_type": "stream",
       "stream": "stdout",
       "text": [
        "384\n",
        "2759 "
       ]
      },
      {
       "output_type": "stream",
       "stream": "stdout",
       "text": [
        "387\n",
        "2763 "
       ]
      },
      {
       "output_type": "stream",
       "stream": "stdout",
       "text": [
        "390\n",
        "2775"
       ]
      },
      {
       "output_type": "stream",
       "stream": "stdout",
       "text": [
        " 393\n",
        "2777 "
       ]
      },
      {
       "output_type": "stream",
       "stream": "stdout",
       "text": [
        "396\n",
        "2787"
       ]
      },
      {
       "output_type": "stream",
       "stream": "stdout",
       "text": [
        " 399\n",
        "2793 "
       ]
      },
      {
       "output_type": "stream",
       "stream": "stdout",
       "text": [
        "402\n",
        "2795 "
       ]
      },
      {
       "output_type": "stream",
       "stream": "stdout",
       "text": [
        "405\n",
        "2811"
       ]
      },
      {
       "output_type": "stream",
       "stream": "stdout",
       "text": [
        " 408\n",
        "2813 "
       ]
      },
      {
       "output_type": "stream",
       "stream": "stdout",
       "text": [
        "411\n",
        "2824"
       ]
      },
      {
       "output_type": "stream",
       "stream": "stdout",
       "text": [
        " 414\n",
        "2829"
       ]
      },
      {
       "output_type": "stream",
       "stream": "stdout",
       "text": [
        " 417\n",
        "2831 "
       ]
      },
      {
       "output_type": "stream",
       "stream": "stdout",
       "text": [
        "420\n",
        "2847"
       ]
      },
      {
       "output_type": "stream",
       "stream": "stdout",
       "text": [
        " 423\n",
        "2849 "
       ]
      },
      {
       "output_type": "stream",
       "stream": "stdout",
       "text": [
        "426\n",
        "2863"
       ]
      },
      {
       "output_type": "stream",
       "stream": "stdout",
       "text": [
        " 429\n",
        "2865 "
       ]
      },
      {
       "output_type": "stream",
       "stream": "stdout",
       "text": [
        "432\n",
        "2867 "
       ]
      },
      {
       "output_type": "stream",
       "stream": "stdout",
       "text": [
        "435\n",
        "2875"
       ]
      },
      {
       "output_type": "stream",
       "stream": "stdout",
       "text": [
        " 438\n",
        "2893"
       ]
      },
      {
       "output_type": "stream",
       "stream": "stdout",
       "text": [
        " 441\n",
        "2901"
       ]
      },
      {
       "output_type": "stream",
       "stream": "stdout",
       "text": [
        " 444\n",
        "2950"
       ]
      },
      {
       "output_type": "stream",
       "stream": "stdout",
       "text": [
        " 447\n",
        "2957"
       ]
      },
      {
       "output_type": "stream",
       "stream": "stdout",
       "text": [
        " 450\n",
        "2961"
       ]
      },
      {
       "output_type": "stream",
       "stream": "stdout",
       "text": [
        " 453\n",
        "2989"
       ]
      },
      {
       "output_type": "stream",
       "stream": "stdout",
       "text": [
        " 456\n",
        "2993 "
       ]
      },
      {
       "output_type": "stream",
       "stream": "stdout",
       "text": [
        "459\n",
        "3004"
       ]
      },
      {
       "output_type": "stream",
       "stream": "stdout",
       "text": [
        " 462\n",
        "3029"
       ]
      },
      {
       "output_type": "stream",
       "stream": "stdout",
       "text": [
        " 465\n",
        "3065"
       ]
      },
      {
       "output_type": "stream",
       "stream": "stdout",
       "text": [
        " 468\n",
        "3076"
       ]
      },
      {
       "output_type": "stream",
       "stream": "stdout",
       "text": [
        " 471\n",
        "3094"
       ]
      },
      {
       "output_type": "stream",
       "stream": "stdout",
       "text": [
        " 474\n",
        "3115"
       ]
      },
      {
       "output_type": "stream",
       "stream": "stdout",
       "text": [
        " 477\n",
        "3118 "
       ]
      },
      {
       "output_type": "stream",
       "stream": "stdout",
       "text": [
        "480\n",
        "3137"
       ]
      },
      {
       "output_type": "stream",
       "stream": "stdout",
       "text": [
        " 483\n",
        "3141 "
       ]
      },
      {
       "output_type": "stream",
       "stream": "stdout",
       "text": [
        "486\n",
        "3154"
       ]
      },
      {
       "output_type": "stream",
       "stream": "stdout",
       "text": [
        " 489\n",
        "3181"
       ]
      },
      {
       "output_type": "stream",
       "stream": "stdout",
       "text": [
        " 492\n",
        "3195"
       ]
      },
      {
       "output_type": "stream",
       "stream": "stdout",
       "text": [
        " 495\n",
        "3213"
       ]
      },
      {
       "output_type": "stream",
       "stream": "stdout",
       "text": [
        " 498\n",
        "3217 "
       ]
      },
      {
       "output_type": "stream",
       "stream": "stdout",
       "text": [
        "501\n",
        "3227"
       ]
      },
      {
       "output_type": "stream",
       "stream": "stdout",
       "text": [
        " 504\n",
        "3231 "
       ]
      },
      {
       "output_type": "stream",
       "stream": "stdout",
       "text": [
        "507\n",
        "3245"
       ]
      },
      {
       "output_type": "stream",
       "stream": "stdout",
       "text": [
        " 510\n",
        "3249 "
       ]
      },
      {
       "output_type": "stream",
       "stream": "stdout",
       "text": [
        "513\n",
        "3263"
       ]
      },
      {
       "output_type": "stream",
       "stream": "stdout",
       "text": [
        " 516\n",
        "3275"
       ]
      },
      {
       "output_type": "stream",
       "stream": "stdout",
       "text": [
        " 519\n",
        "3281"
       ]
      },
      {
       "output_type": "stream",
       "stream": "stdout",
       "text": [
        " 522\n",
        "3285 "
       ]
      },
      {
       "output_type": "stream",
       "stream": "stdout",
       "text": [
        "525\n",
        "3292"
       ]
      },
      {
       "output_type": "stream",
       "stream": "stdout",
       "text": [
        " 528\n",
        "3295 "
       ]
      },
      {
       "output_type": "stream",
       "stream": "stdout",
       "text": [
        "531\n",
        "3298 "
       ]
      },
      {
       "output_type": "stream",
       "stream": "stdout",
       "text": [
        "534\n",
        "3299 "
       ]
      },
      {
       "output_type": "stream",
       "stream": "stdout",
       "text": [
        "537\n",
        "3313"
       ]
      },
      {
       "output_type": "stream",
       "stream": "stdout",
       "text": [
        " 540\n",
        "3317"
       ]
      },
      {
       "output_type": "stream",
       "stream": "stdout",
       "text": [
        " 543\n",
        "3339"
       ]
      },
      {
       "output_type": "stream",
       "stream": "stdout",
       "text": [
        " 546\n",
        "3353"
       ]
      },
      {
       "output_type": "stream",
       "stream": "stdout",
       "text": [
        " 549\n",
        "3367"
       ]
      },
      {
       "output_type": "stream",
       "stream": "stdout",
       "text": [
        " 552\n",
        "3382"
       ]
      },
      {
       "output_type": "stream",
       "stream": "stdout",
       "text": [
        " 555\n",
        "3400"
       ]
      },
      {
       "output_type": "stream",
       "stream": "stdout",
       "text": [
        " 558\n",
        "3415"
       ]
      },
      {
       "output_type": "stream",
       "stream": "stdout",
       "text": [
        " 561\n",
        "3425"
       ]
      },
      {
       "output_type": "stream",
       "stream": "stdout",
       "text": [
        " 564\n",
        "3429 "
       ]
      },
      {
       "output_type": "stream",
       "stream": "stdout",
       "text": [
        "567\n",
        "3433"
       ]
      },
      {
       "output_type": "stream",
       "stream": "stdout",
       "text": [
        " 570\n",
        "3442"
       ]
      },
      {
       "output_type": "stream",
       "stream": "stdout",
       "text": [
        " 573\n",
        "3443 "
       ]
      },
      {
       "output_type": "stream",
       "stream": "stdout",
       "text": [
        "576\n",
        "3461"
       ]
      },
      {
       "output_type": "stream",
       "stream": "stdout",
       "text": [
        " 579\n",
        "3465 "
       ]
      },
      {
       "output_type": "stream",
       "stream": "stdout",
       "text": [
        "582\n",
        "3483"
       ]
      },
      {
       "output_type": "stream",
       "stream": "stdout",
       "text": [
        " 585\n",
        "3493"
       ]
      },
      {
       "output_type": "stream",
       "stream": "stdout",
       "text": [
        " 588\n",
        "3497 "
       ]
      },
      {
       "output_type": "stream",
       "stream": "stdout",
       "text": [
        "591\n",
        "3501"
       ]
      },
      {
       "output_type": "stream",
       "stream": "stdout",
       "text": [
        " 594\n",
        "3502 "
       ]
      },
      {
       "output_type": "stream",
       "stream": "stdout",
       "text": [
        "597\n",
        "3533"
       ]
      },
      {
       "output_type": "stream",
       "stream": "stdout",
       "text": [
        " 600\n",
        "3547"
       ]
      },
      {
       "output_type": "stream",
       "stream": "stdout",
       "text": [
        " 603\n",
        "3549 "
       ]
      },
      {
       "output_type": "stream",
       "stream": "stdout",
       "text": [
        "606\n",
        "3555"
       ]
      },
      {
       "output_type": "stream",
       "stream": "stdout",
       "text": [
        " 609\n",
        "3559 "
       ]
      },
      {
       "output_type": "stream",
       "stream": "stdout",
       "text": [
        "612\n",
        "3568"
       ]
      },
      {
       "output_type": "stream",
       "stream": "stdout",
       "text": [
        " 615\n",
        "3573"
       ]
      },
      {
       "output_type": "stream",
       "stream": "stdout",
       "text": [
        " 618\n",
        "3591"
       ]
      },
      {
       "output_type": "stream",
       "stream": "stdout",
       "text": [
        " 621\n",
        "3592 "
       ]
      },
      {
       "output_type": "stream",
       "stream": "stdout",
       "text": [
        "624\n",
        "3595 "
       ]
      },
      {
       "output_type": "stream",
       "stream": "stdout",
       "text": [
        "627\n",
        "3605"
       ]
      },
      {
       "output_type": "stream",
       "stream": "stdout",
       "text": [
        " 630\n",
        "3613"
       ]
      },
      {
       "output_type": "stream",
       "stream": "stdout",
       "text": [
        " 633\n"
       ]
      }
     ],
     "prompt_number": 701
    },
    {
     "cell_type": "code",
     "collapsed": false,
     "input": [
      "len( assignments )"
     ],
     "language": "python",
     "metadata": {},
     "outputs": [
      {
       "metadata": {},
       "output_type": "pyout",
       "prompt_number": 702,
       "text": [
        "633"
       ]
      }
     ],
     "prompt_number": 702
    },
    {
     "cell_type": "markdown",
     "metadata": {},
     "source": [
      "# Approve assignments"
     ]
    },
    {
     "cell_type": "code",
     "collapsed": false,
     "input": [
      "#assignment_ids = answer_df['assignment_id'].unique()\n",
      "#print len( assignment_ids )"
     ],
     "language": "python",
     "metadata": {},
     "outputs": [
      {
       "output_type": "stream",
       "stream": "stdout",
       "text": [
        "539\n"
       ]
      }
     ],
     "prompt_number": 73
    },
    {
     "cell_type": "code",
     "collapsed": false,
     "input": [
      "#ass = MTC.get_assignment( assignment_ids[0] )[0]\n",
      "#ass.AssignmentStatus"
     ],
     "language": "python",
     "metadata": {},
     "outputs": [
      {
       "metadata": {},
       "output_type": "pyout",
       "prompt_number": 80,
       "text": [
        "u'Approved'"
       ]
      }
     ],
     "prompt_number": 80
    },
    {
     "cell_type": "code",
     "collapsed": false,
     "input": [
      "# for ass_id in assignment_ids:\n",
      "\n",
      "#     try:\n",
      "#         MTC.approve_assignment( ass_id )\n",
      "#     except MTurkRequestError:\n",
      "#         pass"
     ],
     "language": "python",
     "metadata": {},
     "outputs": [],
     "prompt_number": 82
    },
    {
     "cell_type": "code",
     "collapsed": false,
     "input": [
      "#for assign in assignments:\n",
      "#    if assign.AssignmentStatus != 'Approved':\n",
      "#        MTC.approve_assignment( assign.AssignmentId )"
     ],
     "language": "python",
     "metadata": {},
     "outputs": [],
     "prompt_number": 264
    },
    {
     "cell_type": "markdown",
     "metadata": {},
     "source": [
      "# ETL"
     ]
    },
    {
     "cell_type": "code",
     "collapsed": false,
     "input": [
      "data = []\n",
      "indices = []"
     ],
     "language": "python",
     "metadata": {},
     "outputs": [],
     "prompt_number": 703
    },
    {
     "cell_type": "code",
     "collapsed": false,
     "input": [
      "for assign in assignments:\n",
      "    for answer in assign.answers[0]:\n",
      "    \n",
      "        qid    = answer.qid\n",
      "        fields = answer.fields\n",
      "        \n",
      "        if qid == 'workerId' or qid == 'Submit':\n",
      "            continue\n",
      "\n",
      "        qparts    = qid.split('_') \n",
      "        index     = qparts[0]\n",
      "\n",
      "        style_tag = qparts[-1]\n",
      "        style_tag = 'tagged_' + style_dict[ style_tag ].replace( ' ', '_' )\n",
      "        \n",
      "        response = fields[0] == 'yes'\n",
      "    \n",
      "        d = {\n",
      "        'hit_id'         : assign.HITId,\n",
      "        'assignment_id' : assign.AssignmentId,\n",
      "        'worker_id'      : assign.WorkerId,\n",
      "        style_tag        : response\n",
      "        }\n",
      "    \n",
      "        data += [ d ]\n",
      "        indices += [ index ]"
     ],
     "language": "python",
     "metadata": {},
     "outputs": [],
     "prompt_number": 704
    },
    {
     "cell_type": "code",
     "collapsed": false,
     "input": [
      "print len(data)\n",
      "print len(indices)"
     ],
     "language": "python",
     "metadata": {},
     "outputs": [
      {
       "output_type": "stream",
       "stream": "stdout",
       "text": [
        "7596\n",
        "7596\n"
       ]
      }
     ],
     "prompt_number": 705
    },
    {
     "cell_type": "code",
     "collapsed": false,
     "input": [
      "new_answer_df = pd.DataFrame( data, index=indices )"
     ],
     "language": "python",
     "metadata": {},
     "outputs": [],
     "prompt_number": 706
    },
    {
     "cell_type": "code",
     "collapsed": false,
     "input": [
      "print len( new_answer_df )"
     ],
     "language": "python",
     "metadata": {},
     "outputs": [
      {
       "output_type": "stream",
       "stream": "stdout",
       "text": [
        "7596\n"
       ]
      }
     ],
     "prompt_number": 707
    },
    {
     "cell_type": "code",
     "collapsed": false,
     "input": [
      "new_answer_df.ix[1]"
     ],
     "language": "python",
     "metadata": {},
     "outputs": [
      {
       "metadata": {},
       "output_type": "pyout",
       "prompt_number": 708,
       "text": [
        "assignment_id                   3X3OR7WPZZZ9SMAE8TMPGS84MAF8L0\n",
        "hit_id                          3BFNCI9LYJPMQKHC2GLHHMM97FS37E\n",
        "tagged_Bright                                              NaN\n",
        "tagged_Detailed                                            NaN\n",
        "tagged_Ethereal                                            NaN\n",
        "tagged_Geometric_Composition                              True\n",
        "tagged_HDR                                                 NaN\n",
        "tagged_Hazy                                                NaN\n",
        "tagged_Horror                                              NaN\n",
        "tagged_Long_Exposure                                       NaN\n",
        "tagged_Macro                                               NaN\n",
        "tagged_Melancholy                                          NaN\n",
        "tagged_Minimal                                             NaN\n",
        "tagged_Noir                                                NaN\n",
        "tagged_Pastel                                              NaN\n",
        "tagged_Serene                                              NaN\n",
        "tagged_Sunny                                               NaN\n",
        "worker_id                                        AC5LU9TF9CTK9\n",
        "Name: 13168112415, dtype: object"
       ]
      }
     ],
     "prompt_number": 708
    },
    {
     "cell_type": "code",
     "collapsed": false,
     "input": [
      "print len( answer_df )\n",
      "print len( new_answer_df )"
     ],
     "language": "python",
     "metadata": {},
     "outputs": [
      {
       "output_type": "stream",
       "stream": "stdout",
       "text": [
        "111659\n",
        "7596\n"
       ]
      }
     ],
     "prompt_number": 709
    },
    {
     "cell_type": "code",
     "collapsed": false,
     "input": [
      "answer_df = pd.concat( [ answer_df, new_answer_df ] )"
     ],
     "language": "python",
     "metadata": {},
     "outputs": [],
     "prompt_number": 710
    },
    {
     "cell_type": "code",
     "collapsed": false,
     "input": [
      "print len( answer_df )"
     ],
     "language": "python",
     "metadata": {},
     "outputs": [
      {
       "output_type": "stream",
       "stream": "stdout",
       "text": [
        "119255\n"
       ]
      }
     ],
     "prompt_number": 711
    },
    {
     "cell_type": "code",
     "collapsed": false,
     "input": [
      "answer_df.ix[-1]"
     ],
     "language": "python",
     "metadata": {},
     "outputs": [
      {
       "metadata": {},
       "output_type": "pyout",
       "prompt_number": 712,
       "text": [
        "assignment_id                   34S9DKFK73OEVS4HXA0YSX0VKMVNYC\n",
        "hit_id                          33CLA8O0MHAROFHKVPKPNC26BIJRF4\n",
        "tagged_Bright                                              NaN\n",
        "tagged_Depth_of_Field                                      NaN\n",
        "tagged_Detailed                                            NaN\n",
        "tagged_Ethereal                                            NaN\n",
        "tagged_Geometric_Composition                               NaN\n",
        "tagged_HDR                                                 NaN\n",
        "tagged_Hazy                                                NaN\n",
        "tagged_Horror                                              NaN\n",
        "tagged_Long_Exposure                                       NaN\n",
        "tagged_Macro                                               NaN\n",
        "tagged_Melancholy                                          NaN\n",
        "tagged_Minimal                                            True\n",
        "tagged_Noir                                                NaN\n",
        "tagged_Pastel                                              NaN\n",
        "tagged_Romantic                                            NaN\n",
        "tagged_Serene                                              NaN\n",
        "tagged_Sunny                                               NaN\n",
        "tagged_Vintage                                             NaN\n",
        "worker_id                                        AECIGP7A435LI\n",
        "Name: 8247680455, dtype: object"
       ]
      }
     ],
     "prompt_number": 712
    },
    {
     "cell_type": "code",
     "collapsed": false,
     "input": [
      "'{}'.format( datetime.datetime.now().isoformat()[:-7] )"
     ],
     "language": "python",
     "metadata": {},
     "outputs": [
      {
       "metadata": {},
       "output_type": "pyout",
       "prompt_number": 713,
       "text": [
        "'2014-05-08T11:27:29'"
       ]
      }
     ],
     "prompt_number": 713
    },
    {
     "cell_type": "code",
     "collapsed": false,
     "input": [
      "import shutil\n",
      "import datetime\n",
      "oldfn = '../../mturk-results/mturk-answers.h5'\n",
      "newfn = '../../mturk-results/mturk-answers-{}.h5'.format( datetime.datetime.now().isoformat()[:-7] )\n",
      "shutil.copyfile( oldfn, newfn )"
     ],
     "language": "python",
     "metadata": {},
     "outputs": [],
     "prompt_number": 714
    },
    {
     "cell_type": "code",
     "collapsed": false,
     "input": [
      "answer_df.to_hdf( '../../mturk-results/mturk-answers.h5', 'df', mode='w')"
     ],
     "language": "python",
     "metadata": {},
     "outputs": [],
     "prompt_number": 715
    },
    {
     "cell_type": "code",
     "collapsed": false,
     "input": [
      "len( answer_df )"
     ],
     "language": "python",
     "metadata": {},
     "outputs": [
      {
       "metadata": {},
       "output_type": "pyout",
       "prompt_number": 716,
       "text": [
        "119255"
       ]
      }
     ],
     "prompt_number": 716
    },
    {
     "cell_type": "markdown",
     "metadata": {},
     "source": [
      "# Spam rejection"
     ]
    },
    {
     "cell_type": "code",
     "collapsed": false,
     "input": [
      "def test_spam( group ):\n",
      "    # if earlier HIT without spam rejection, accept\n",
      "    if len( group ) == 10:\n",
      "        return group\n",
      "#         return group.drop( group.index )\n",
      "    \n",
      "    # get the tagged_ column for the group, convert to style\n",
      "    tn = assignment_df_tag( group )[0]\n",
      "    sn = 'style_' + tn[7:]\n",
      "    \n",
      "    # get the spam rejection images\n",
      "    idx1, idx2 = spam_images[sn]\n",
      "    \n",
      "    # if both test images are false, reject the group\n",
      "    # return the dataframe with all rows removed\n",
      "    # (but still having same columns)\n",
      "    if not group.ix[idx1][tn] and not group.ix[idx2][tn]:\n",
      "        return group.drop( group.index )\n",
      "    \n",
      "    # otherwise, return as-is\n",
      "    return group"
     ],
     "language": "python",
     "metadata": {},
     "outputs": [],
     "prompt_number": 717
    },
    {
     "cell_type": "code",
     "collapsed": false,
     "input": [
      "grouped = answer_df.groupby( 'assignment_id', as_index=False )"
     ],
     "language": "python",
     "metadata": {},
     "outputs": [],
     "prompt_number": 718
    },
    {
     "cell_type": "code",
     "collapsed": false,
     "input": [
      "clean_df = grouped.apply( test_spam )"
     ],
     "language": "python",
     "metadata": {},
     "outputs": [],
     "prompt_number": 719
    },
    {
     "cell_type": "code",
     "collapsed": false,
     "input": [
      "clean_df.head(10)"
     ],
     "language": "python",
     "metadata": {},
     "outputs": [
      {
       "html": [
        "<div style=\"max-height:1000px;max-width:1500px;overflow:auto;\">\n",
        "<table border=\"1\" class=\"dataframe\">\n",
        "  <thead>\n",
        "    <tr style=\"text-align: right;\">\n",
        "      <th></th>\n",
        "      <th>assignment_id</th>\n",
        "      <th>hit_id</th>\n",
        "      <th>tagged_Bright</th>\n",
        "      <th>tagged_Depth_of_Field</th>\n",
        "      <th>tagged_Detailed</th>\n",
        "      <th>tagged_Ethereal</th>\n",
        "      <th>tagged_Geometric_Composition</th>\n",
        "      <th>tagged_HDR</th>\n",
        "      <th>tagged_Hazy</th>\n",
        "      <th>tagged_Horror</th>\n",
        "      <th>tagged_Long_Exposure</th>\n",
        "      <th>tagged_Macro</th>\n",
        "      <th>tagged_Melancholy</th>\n",
        "      <th>tagged_Minimal</th>\n",
        "      <th>tagged_Noir</th>\n",
        "      <th>tagged_Pastel</th>\n",
        "      <th>tagged_Romantic</th>\n",
        "      <th>tagged_Serene</th>\n",
        "      <th>tagged_Sunny</th>\n",
        "      <th>tagged_Vintage</th>\n",
        "      <th></th>\n",
        "    </tr>\n",
        "  </thead>\n",
        "  <tbody>\n",
        "    <tr>\n",
        "      <th>12775809235</th>\n",
        "      <td> 3018Q3ZVOIPYE8Y6AB3ZYVNYIQ3RAC</td>\n",
        "      <td> 3PUOXASB562RPWCY2KEAZJIUH0G9ZU</td>\n",
        "      <td> NaN</td>\n",
        "      <td> NaN</td>\n",
        "      <td> NaN</td>\n",
        "      <td> NaN</td>\n",
        "      <td> NaN</td>\n",
        "      <td> NaN</td>\n",
        "      <td> NaN</td>\n",
        "      <td> NaN</td>\n",
        "      <td> NaN</td>\n",
        "      <td> NaN</td>\n",
        "      <td> NaN</td>\n",
        "      <td> NaN</td>\n",
        "      <td> NaN</td>\n",
        "      <td> NaN</td>\n",
        "      <td> NaN</td>\n",
        "      <td> NaN</td>\n",
        "      <td>  True</td>\n",
        "      <td> NaN</td>\n",
        "      <td>...</td>\n",
        "    </tr>\n",
        "    <tr>\n",
        "      <th>11433844095</th>\n",
        "      <td> 3018Q3ZVOIPYE8Y6AB3ZYVNYIQ3RAC</td>\n",
        "      <td> 3PUOXASB562RPWCY2KEAZJIUH0G9ZU</td>\n",
        "      <td> NaN</td>\n",
        "      <td> NaN</td>\n",
        "      <td> NaN</td>\n",
        "      <td> NaN</td>\n",
        "      <td> NaN</td>\n",
        "      <td> NaN</td>\n",
        "      <td> NaN</td>\n",
        "      <td> NaN</td>\n",
        "      <td> NaN</td>\n",
        "      <td> NaN</td>\n",
        "      <td> NaN</td>\n",
        "      <td> NaN</td>\n",
        "      <td> NaN</td>\n",
        "      <td> NaN</td>\n",
        "      <td> NaN</td>\n",
        "      <td> NaN</td>\n",
        "      <td>  True</td>\n",
        "      <td> NaN</td>\n",
        "      <td>...</td>\n",
        "    </tr>\n",
        "    <tr>\n",
        "      <th>13098089385</th>\n",
        "      <td> 3018Q3ZVOIPYE8Y6AB3ZYVNYIQ3RAC</td>\n",
        "      <td> 3PUOXASB562RPWCY2KEAZJIUH0G9ZU</td>\n",
        "      <td> NaN</td>\n",
        "      <td> NaN</td>\n",
        "      <td> NaN</td>\n",
        "      <td> NaN</td>\n",
        "      <td> NaN</td>\n",
        "      <td> NaN</td>\n",
        "      <td> NaN</td>\n",
        "      <td> NaN</td>\n",
        "      <td> NaN</td>\n",
        "      <td> NaN</td>\n",
        "      <td> NaN</td>\n",
        "      <td> NaN</td>\n",
        "      <td> NaN</td>\n",
        "      <td> NaN</td>\n",
        "      <td> NaN</td>\n",
        "      <td> NaN</td>\n",
        "      <td>  True</td>\n",
        "      <td> NaN</td>\n",
        "      <td>...</td>\n",
        "    </tr>\n",
        "    <tr>\n",
        "      <th>11664786576</th>\n",
        "      <td> 3018Q3ZVOIPYE8Y6AB3ZYVNYIQ3RAC</td>\n",
        "      <td> 3PUOXASB562RPWCY2KEAZJIUH0G9ZU</td>\n",
        "      <td> NaN</td>\n",
        "      <td> NaN</td>\n",
        "      <td> NaN</td>\n",
        "      <td> NaN</td>\n",
        "      <td> NaN</td>\n",
        "      <td> NaN</td>\n",
        "      <td> NaN</td>\n",
        "      <td> NaN</td>\n",
        "      <td> NaN</td>\n",
        "      <td> NaN</td>\n",
        "      <td> NaN</td>\n",
        "      <td> NaN</td>\n",
        "      <td> NaN</td>\n",
        "      <td> NaN</td>\n",
        "      <td> NaN</td>\n",
        "      <td> NaN</td>\n",
        "      <td>  True</td>\n",
        "      <td> NaN</td>\n",
        "      <td>...</td>\n",
        "    </tr>\n",
        "    <tr>\n",
        "      <th>12957214524</th>\n",
        "      <td> 3018Q3ZVOIPYE8Y6AB3ZYVNYIQ3RAC</td>\n",
        "      <td> 3PUOXASB562RPWCY2KEAZJIUH0G9ZU</td>\n",
        "      <td> NaN</td>\n",
        "      <td> NaN</td>\n",
        "      <td> NaN</td>\n",
        "      <td> NaN</td>\n",
        "      <td> NaN</td>\n",
        "      <td> NaN</td>\n",
        "      <td> NaN</td>\n",
        "      <td> NaN</td>\n",
        "      <td> NaN</td>\n",
        "      <td> NaN</td>\n",
        "      <td> NaN</td>\n",
        "      <td> NaN</td>\n",
        "      <td> NaN</td>\n",
        "      <td> NaN</td>\n",
        "      <td> NaN</td>\n",
        "      <td> NaN</td>\n",
        "      <td>  True</td>\n",
        "      <td> NaN</td>\n",
        "      <td>...</td>\n",
        "    </tr>\n",
        "    <tr>\n",
        "      <th>12955923054</th>\n",
        "      <td> 3018Q3ZVOIPYE8Y6AB3ZYVNYIQ3RAC</td>\n",
        "      <td> 3PUOXASB562RPWCY2KEAZJIUH0G9ZU</td>\n",
        "      <td> NaN</td>\n",
        "      <td> NaN</td>\n",
        "      <td> NaN</td>\n",
        "      <td> NaN</td>\n",
        "      <td> NaN</td>\n",
        "      <td> NaN</td>\n",
        "      <td> NaN</td>\n",
        "      <td> NaN</td>\n",
        "      <td> NaN</td>\n",
        "      <td> NaN</td>\n",
        "      <td> NaN</td>\n",
        "      <td> NaN</td>\n",
        "      <td> NaN</td>\n",
        "      <td> NaN</td>\n",
        "      <td> NaN</td>\n",
        "      <td> NaN</td>\n",
        "      <td> False</td>\n",
        "      <td> NaN</td>\n",
        "      <td>...</td>\n",
        "    </tr>\n",
        "    <tr>\n",
        "      <th>12892645225</th>\n",
        "      <td> 3018Q3ZVOIPYE8Y6AB3ZYVNYIQ3RAC</td>\n",
        "      <td> 3PUOXASB562RPWCY2KEAZJIUH0G9ZU</td>\n",
        "      <td> NaN</td>\n",
        "      <td> NaN</td>\n",
        "      <td> NaN</td>\n",
        "      <td> NaN</td>\n",
        "      <td> NaN</td>\n",
        "      <td> NaN</td>\n",
        "      <td> NaN</td>\n",
        "      <td> NaN</td>\n",
        "      <td> NaN</td>\n",
        "      <td> NaN</td>\n",
        "      <td> NaN</td>\n",
        "      <td> NaN</td>\n",
        "      <td> NaN</td>\n",
        "      <td> NaN</td>\n",
        "      <td> NaN</td>\n",
        "      <td> NaN</td>\n",
        "      <td> False</td>\n",
        "      <td> NaN</td>\n",
        "      <td>...</td>\n",
        "    </tr>\n",
        "    <tr>\n",
        "      <th>12956929213</th>\n",
        "      <td> 3018Q3ZVOIPYE8Y6AB3ZYVNYIQ3RAC</td>\n",
        "      <td> 3PUOXASB562RPWCY2KEAZJIUH0G9ZU</td>\n",
        "      <td> NaN</td>\n",
        "      <td> NaN</td>\n",
        "      <td> NaN</td>\n",
        "      <td> NaN</td>\n",
        "      <td> NaN</td>\n",
        "      <td> NaN</td>\n",
        "      <td> NaN</td>\n",
        "      <td> NaN</td>\n",
        "      <td> NaN</td>\n",
        "      <td> NaN</td>\n",
        "      <td> NaN</td>\n",
        "      <td> NaN</td>\n",
        "      <td> NaN</td>\n",
        "      <td> NaN</td>\n",
        "      <td> NaN</td>\n",
        "      <td> NaN</td>\n",
        "      <td>  True</td>\n",
        "      <td> NaN</td>\n",
        "      <td>...</td>\n",
        "    </tr>\n",
        "    <tr>\n",
        "      <th>11156368195</th>\n",
        "      <td> 3018Q3ZVOIPYE8Y6AB3ZYVNYIQ3RAC</td>\n",
        "      <td> 3PUOXASB562RPWCY2KEAZJIUH0G9ZU</td>\n",
        "      <td> NaN</td>\n",
        "      <td> NaN</td>\n",
        "      <td> NaN</td>\n",
        "      <td> NaN</td>\n",
        "      <td> NaN</td>\n",
        "      <td> NaN</td>\n",
        "      <td> NaN</td>\n",
        "      <td> NaN</td>\n",
        "      <td> NaN</td>\n",
        "      <td> NaN</td>\n",
        "      <td> NaN</td>\n",
        "      <td> NaN</td>\n",
        "      <td> NaN</td>\n",
        "      <td> NaN</td>\n",
        "      <td> NaN</td>\n",
        "      <td> NaN</td>\n",
        "      <td>  True</td>\n",
        "      <td> NaN</td>\n",
        "      <td>...</td>\n",
        "    </tr>\n",
        "    <tr>\n",
        "      <th>12957063754</th>\n",
        "      <td> 3018Q3ZVOIPYE8Y6AB3ZYVNYIQ3RAC</td>\n",
        "      <td> 3PUOXASB562RPWCY2KEAZJIUH0G9ZU</td>\n",
        "      <td> NaN</td>\n",
        "      <td> NaN</td>\n",
        "      <td> NaN</td>\n",
        "      <td> NaN</td>\n",
        "      <td> NaN</td>\n",
        "      <td> NaN</td>\n",
        "      <td> NaN</td>\n",
        "      <td> NaN</td>\n",
        "      <td> NaN</td>\n",
        "      <td> NaN</td>\n",
        "      <td> NaN</td>\n",
        "      <td> NaN</td>\n",
        "      <td> NaN</td>\n",
        "      <td> NaN</td>\n",
        "      <td> NaN</td>\n",
        "      <td> NaN</td>\n",
        "      <td>  True</td>\n",
        "      <td> NaN</td>\n",
        "      <td>...</td>\n",
        "    </tr>\n",
        "  </tbody>\n",
        "</table>\n",
        "<p>10 rows \u00d7 21 columns</p>\n",
        "</div>"
       ],
       "metadata": {},
       "output_type": "pyout",
       "prompt_number": 720,
       "text": [
        "                              assignment_id                          hit_id  \\\n",
        "12775809235  3018Q3ZVOIPYE8Y6AB3ZYVNYIQ3RAC  3PUOXASB562RPWCY2KEAZJIUH0G9ZU   \n",
        "11433844095  3018Q3ZVOIPYE8Y6AB3ZYVNYIQ3RAC  3PUOXASB562RPWCY2KEAZJIUH0G9ZU   \n",
        "13098089385  3018Q3ZVOIPYE8Y6AB3ZYVNYIQ3RAC  3PUOXASB562RPWCY2KEAZJIUH0G9ZU   \n",
        "11664786576  3018Q3ZVOIPYE8Y6AB3ZYVNYIQ3RAC  3PUOXASB562RPWCY2KEAZJIUH0G9ZU   \n",
        "12957214524  3018Q3ZVOIPYE8Y6AB3ZYVNYIQ3RAC  3PUOXASB562RPWCY2KEAZJIUH0G9ZU   \n",
        "12955923054  3018Q3ZVOIPYE8Y6AB3ZYVNYIQ3RAC  3PUOXASB562RPWCY2KEAZJIUH0G9ZU   \n",
        "12892645225  3018Q3ZVOIPYE8Y6AB3ZYVNYIQ3RAC  3PUOXASB562RPWCY2KEAZJIUH0G9ZU   \n",
        "12956929213  3018Q3ZVOIPYE8Y6AB3ZYVNYIQ3RAC  3PUOXASB562RPWCY2KEAZJIUH0G9ZU   \n",
        "11156368195  3018Q3ZVOIPYE8Y6AB3ZYVNYIQ3RAC  3PUOXASB562RPWCY2KEAZJIUH0G9ZU   \n",
        "12957063754  3018Q3ZVOIPYE8Y6AB3ZYVNYIQ3RAC  3PUOXASB562RPWCY2KEAZJIUH0G9ZU   \n",
        "\n",
        "            tagged_Bright tagged_Depth_of_Field tagged_Detailed  \\\n",
        "12775809235           NaN                   NaN             NaN   \n",
        "11433844095           NaN                   NaN             NaN   \n",
        "13098089385           NaN                   NaN             NaN   \n",
        "11664786576           NaN                   NaN             NaN   \n",
        "12957214524           NaN                   NaN             NaN   \n",
        "12955923054           NaN                   NaN             NaN   \n",
        "12892645225           NaN                   NaN             NaN   \n",
        "12956929213           NaN                   NaN             NaN   \n",
        "11156368195           NaN                   NaN             NaN   \n",
        "12957063754           NaN                   NaN             NaN   \n",
        "\n",
        "            tagged_Ethereal tagged_Geometric_Composition tagged_HDR  \\\n",
        "12775809235             NaN                          NaN        NaN   \n",
        "11433844095             NaN                          NaN        NaN   \n",
        "13098089385             NaN                          NaN        NaN   \n",
        "11664786576             NaN                          NaN        NaN   \n",
        "12957214524             NaN                          NaN        NaN   \n",
        "12955923054             NaN                          NaN        NaN   \n",
        "12892645225             NaN                          NaN        NaN   \n",
        "12956929213             NaN                          NaN        NaN   \n",
        "11156368195             NaN                          NaN        NaN   \n",
        "12957063754             NaN                          NaN        NaN   \n",
        "\n",
        "            tagged_Hazy tagged_Horror tagged_Long_Exposure tagged_Macro  \\\n",
        "12775809235         NaN           NaN                  NaN          NaN   \n",
        "11433844095         NaN           NaN                  NaN          NaN   \n",
        "13098089385         NaN           NaN                  NaN          NaN   \n",
        "11664786576         NaN           NaN                  NaN          NaN   \n",
        "12957214524         NaN           NaN                  NaN          NaN   \n",
        "12955923054         NaN           NaN                  NaN          NaN   \n",
        "12892645225         NaN           NaN                  NaN          NaN   \n",
        "12956929213         NaN           NaN                  NaN          NaN   \n",
        "11156368195         NaN           NaN                  NaN          NaN   \n",
        "12957063754         NaN           NaN                  NaN          NaN   \n",
        "\n",
        "            tagged_Melancholy tagged_Minimal tagged_Noir tagged_Pastel  \\\n",
        "12775809235               NaN            NaN         NaN           NaN   \n",
        "11433844095               NaN            NaN         NaN           NaN   \n",
        "13098089385               NaN            NaN         NaN           NaN   \n",
        "11664786576               NaN            NaN         NaN           NaN   \n",
        "12957214524               NaN            NaN         NaN           NaN   \n",
        "12955923054               NaN            NaN         NaN           NaN   \n",
        "12892645225               NaN            NaN         NaN           NaN   \n",
        "12956929213               NaN            NaN         NaN           NaN   \n",
        "11156368195               NaN            NaN         NaN           NaN   \n",
        "12957063754               NaN            NaN         NaN           NaN   \n",
        "\n",
        "            tagged_Romantic tagged_Serene tagged_Sunny tagged_Vintage      \n",
        "12775809235             NaN           NaN         True            NaN ...  \n",
        "11433844095             NaN           NaN         True            NaN ...  \n",
        "13098089385             NaN           NaN         True            NaN ...  \n",
        "11664786576             NaN           NaN         True            NaN ...  \n",
        "12957214524             NaN           NaN         True            NaN ...  \n",
        "12955923054             NaN           NaN        False            NaN ...  \n",
        "12892645225             NaN           NaN        False            NaN ...  \n",
        "12956929213             NaN           NaN         True            NaN ...  \n",
        "11156368195             NaN           NaN         True            NaN ...  \n",
        "12957063754             NaN           NaN         True            NaN ...  \n",
        "\n",
        "[10 rows x 21 columns]"
       ]
      }
     ],
     "prompt_number": 720
    },
    {
     "cell_type": "code",
     "collapsed": false,
     "input": [
      "print len( answer_df )\n",
      "print len( clean_df )\n",
      "print ( len(answer_df) - len(clean_df) ) / 10"
     ],
     "language": "python",
     "metadata": {},
     "outputs": [
      {
       "output_type": "stream",
       "stream": "stdout",
       "text": [
        "119255\n",
        "118919\n",
        "33\n"
       ]
      }
     ],
     "prompt_number": 721
    },
    {
     "cell_type": "code",
     "collapsed": false,
     "input": [
      "clean_df.to_hdf( '../../mturk-results/mturk-cleaned-answers.h5', 'df', mode='w')"
     ],
     "language": "python",
     "metadata": {},
     "outputs": [],
     "prompt_number": 722
    },
    {
     "cell_type": "markdown",
     "metadata": {},
     "source": [
      "# Summarize turker results"
     ]
    },
    {
     "cell_type": "code",
     "collapsed": false,
     "input": [
      "clean_df = clean_df.sort_index()"
     ],
     "language": "python",
     "metadata": {},
     "outputs": [],
     "prompt_number": 723
    },
    {
     "cell_type": "code",
     "collapsed": false,
     "input": [
      "grouped = clean_df.groupby( level=0, as_index=False )"
     ],
     "language": "python",
     "metadata": {},
     "outputs": [],
     "prompt_number": 724
    },
    {
     "cell_type": "code",
     "collapsed": false,
     "input": [
      "print len( clean_df )\n",
      "print len( grouped )"
     ],
     "language": "python",
     "metadata": {},
     "outputs": [
      {
       "output_type": "stream",
       "stream": "stdout",
       "text": [
        "118919\n",
        "28511"
       ]
      },
      {
       "output_type": "stream",
       "stream": "stdout",
       "text": [
        "\n"
       ]
      }
     ],
     "prompt_number": 725
    },
    {
     "cell_type": "code",
     "collapsed": false,
     "input": [
      "grouped.groups.items()[:10]"
     ],
     "language": "python",
     "metadata": {},
     "outputs": [
      {
       "metadata": {},
       "output_type": "pyout",
       "prompt_number": 726,
       "text": [
        "[(u'13295535114', [u'13295535114', u'13295535114', u'13295535114']),\n",
        " (u'12675213613', [u'12675213613', u'12675213613', u'12675213613']),\n",
        " (u'12911727275', [u'12911727275', u'12911727275', u'12911727275']),\n",
        " (u'5481811968', [u'5481811968', u'5481811968', u'5481811968']),\n",
        " (u'12175051263', [u'12175051263', u'12175051263', u'12175051263']),\n",
        " (u'13261418603', [u'13261418603', u'13261418603', u'13261418603']),\n",
        " (u'13223839474', [u'13223839474', u'13223839474', u'13223839474']),\n",
        " (u'502239383', [u'502239383', u'502239383', u'502239383']),\n",
        " (u'2317830067',\n",
        "  [u'2317830067',\n",
        "   u'2317830067',\n",
        "   u'2317830067',\n",
        "   u'2317830067',\n",
        "   u'2317830067',\n",
        "   u'2317830067']),\n",
        " (u'11442168343', [u'11442168343', u'11442168343', u'11442168343'])]"
       ]
      }
     ],
     "prompt_number": 726
    },
    {
     "cell_type": "code",
     "collapsed": false,
     "input": [
      "grouped.groups.values()[0]"
     ],
     "language": "python",
     "metadata": {},
     "outputs": [
      {
       "metadata": {},
       "output_type": "pyout",
       "prompt_number": 727,
       "text": [
        "[u'13295535114', u'13295535114', u'13295535114']"
       ]
      }
     ],
     "prompt_number": 727
    },
    {
     "cell_type": "code",
     "collapsed": false,
     "input": [
      "test_df = clean_df.ix[ grouped.groups.values()[7] ]"
     ],
     "language": "python",
     "metadata": {},
     "outputs": [],
     "prompt_number": 728
    },
    {
     "cell_type": "code",
     "collapsed": false,
     "input": [
      "assignment_df_tag( test_df )"
     ],
     "language": "python",
     "metadata": {},
     "outputs": [
      {
       "metadata": {},
       "output_type": "pyout",
       "prompt_number": 729,
       "text": [
        "['tagged_HDR']"
       ]
      }
     ],
     "prompt_number": 729
    },
    {
     "cell_type": "code",
     "collapsed": false,
     "input": [
      "def turker_majority_vote( group ):\n",
      "    \n",
      "    # get the tagged_ column for the group\n",
      "    tags = assignment_df_tag( group )\n",
      "#     if len( tags ) > 1: print tags\n",
      "\n",
      "    new_group = group.head( 1 )\n",
      "\n",
      "    for tn in tags:\n",
      "        cn = 'conf_' + tn[7:]\n",
      "        tag_group = group.dropna( subset=[tn] )\n",
      "\n",
      "        df_len   = len( tag_group )\n",
      "        true_len = len( tag_group[ tag_group[tn] == True ] )\n",
      "        \n",
      "        new_group[tn] = true_len >= df_len / 2.\n",
      "        new_group[cn] = true_len / float( df_len )\n",
      "    \n",
      "    return new_group"
     ],
     "language": "python",
     "metadata": {},
     "outputs": [],
     "prompt_number": 730
    },
    {
     "cell_type": "code",
     "collapsed": false,
     "input": [
      "majority_df = grouped.apply( turker_majority_vote )"
     ],
     "language": "python",
     "metadata": {},
     "outputs": [],
     "prompt_number": 731
    },
    {
     "cell_type": "code",
     "collapsed": false,
     "input": [
      "print len( majority_df.index.unique() )\n",
      "print len( clean_df.index )\n",
      "print len( clean_df.index.unique() )"
     ],
     "language": "python",
     "metadata": {},
     "outputs": [
      {
       "output_type": "stream",
       "stream": "stdout",
       "text": [
        "28511\n",
        "118919\n",
        "28511\n"
       ]
      }
     ],
     "prompt_number": 732
    },
    {
     "cell_type": "code",
     "collapsed": false,
     "input": [
      "majority_df.ix[3]"
     ],
     "language": "python",
     "metadata": {},
     "outputs": [
      {
       "metadata": {},
       "output_type": "pyout",
       "prompt_number": 733,
       "text": [
        "assignment_id                   3PM8NZGV8YFAYKRZ866DDDORNSQXQ7\n",
        "conf_Bright                                                NaN\n",
        "conf_Depth_of_Field                                        NaN\n",
        "conf_Detailed                                        0.6666667\n",
        "conf_Ethereal                                              NaN\n",
        "conf_Geometric_Composition                                 NaN\n",
        "conf_HDR                                                   NaN\n",
        "conf_Hazy                                                  NaN\n",
        "conf_Horror                                                NaN\n",
        "conf_Long_Exposure                                         NaN\n",
        "conf_Macro                                                 NaN\n",
        "conf_Melancholy                                            NaN\n",
        "conf_Minimal                                               NaN\n",
        "conf_Noir                                                  NaN\n",
        "conf_Pastel                                                NaN\n",
        "conf_Romantic                                              NaN\n",
        "conf_Serene                                                NaN\n",
        "conf_Sunny                                                 NaN\n",
        "conf_Vintage                                               NaN\n",
        "hit_id                          322ZSN9Z5FJU6EXNFXT1WN6XAD7T4V\n",
        "tagged_Bright                                              NaN\n",
        "tagged_Depth_of_Field                                      NaN\n",
        "tagged_Detailed                                           True\n",
        "tagged_Ethereal                                            NaN\n",
        "tagged_Geometric_Composition                               NaN\n",
        "tagged_HDR                                                 NaN\n",
        "tagged_Hazy                                                NaN\n",
        "tagged_Horror                                              NaN\n",
        "tagged_Long_Exposure                                       NaN\n",
        "tagged_Macro                                               NaN\n",
        "tagged_Melancholy                                          NaN\n",
        "tagged_Minimal                                             NaN\n",
        "tagged_Noir                                                NaN\n",
        "tagged_Pastel                                              NaN\n",
        "tagged_Romantic                                            NaN\n",
        "tagged_Serene                                              NaN\n",
        "tagged_Sunny                                               NaN\n",
        "tagged_Vintage                                             NaN\n",
        "worker_id                                       A3E73BVSABJ7LM\n",
        "Name: 10004468814, dtype: object"
       ]
      }
     ],
     "prompt_number": 733
    },
    {
     "cell_type": "code",
     "collapsed": false,
     "input": [
      "majority_df.head( 10 )"
     ],
     "language": "python",
     "metadata": {},
     "outputs": [
      {
       "html": [
        "<div style=\"max-height:1000px;max-width:1500px;overflow:auto;\">\n",
        "<table border=\"1\" class=\"dataframe\">\n",
        "  <thead>\n",
        "    <tr style=\"text-align: right;\">\n",
        "      <th></th>\n",
        "      <th>assignment_id</th>\n",
        "      <th>conf_Bright</th>\n",
        "      <th>conf_Depth_of_Field</th>\n",
        "      <th>conf_Detailed</th>\n",
        "      <th>conf_Ethereal</th>\n",
        "      <th>conf_Geometric_Composition</th>\n",
        "      <th>conf_HDR</th>\n",
        "      <th>conf_Hazy</th>\n",
        "      <th>conf_Horror</th>\n",
        "      <th>conf_Long_Exposure</th>\n",
        "      <th>conf_Macro</th>\n",
        "      <th>conf_Melancholy</th>\n",
        "      <th>conf_Minimal</th>\n",
        "      <th>conf_Noir</th>\n",
        "      <th>conf_Pastel</th>\n",
        "      <th>conf_Romantic</th>\n",
        "      <th>conf_Serene</th>\n",
        "      <th>conf_Sunny</th>\n",
        "      <th>conf_Vintage</th>\n",
        "      <th>hit_id</th>\n",
        "      <th></th>\n",
        "    </tr>\n",
        "  </thead>\n",
        "  <tbody>\n",
        "    <tr>\n",
        "      <th>10002847526</th>\n",
        "      <td> 3GFK2QRXX9G6GY3BE9MODJFTITC5WM</td>\n",
        "      <td>NaN</td>\n",
        "      <td>NaN</td>\n",
        "      <td>      NaN</td>\n",
        "      <td>NaN</td>\n",
        "      <td>NaN</td>\n",
        "      <td>NaN</td>\n",
        "      <td>NaN</td>\n",
        "      <td>NaN</td>\n",
        "      <td>  0</td>\n",
        "      <td>NaN</td>\n",
        "      <td>NaN</td>\n",
        "      <td>NaN</td>\n",
        "      <td>NaN</td>\n",
        "      <td>NaN</td>\n",
        "      <td>NaN</td>\n",
        "      <td>NaN</td>\n",
        "      <td>NaN</td>\n",
        "      <td>NaN</td>\n",
        "      <td> 3BFF0DJK8WBD8ZZY5YPJUQM3OT9TS1</td>\n",
        "      <td>...</td>\n",
        "    </tr>\n",
        "    <tr>\n",
        "      <th>10003574264</th>\n",
        "      <td> 3OWEPKL089BVG88GA1AYFKGYGN4N7T</td>\n",
        "      <td>NaN</td>\n",
        "      <td>NaN</td>\n",
        "      <td> 1.000000</td>\n",
        "      <td>NaN</td>\n",
        "      <td>NaN</td>\n",
        "      <td>NaN</td>\n",
        "      <td>NaN</td>\n",
        "      <td>NaN</td>\n",
        "      <td>NaN</td>\n",
        "      <td>NaN</td>\n",
        "      <td>NaN</td>\n",
        "      <td>NaN</td>\n",
        "      <td>NaN</td>\n",
        "      <td>NaN</td>\n",
        "      <td>NaN</td>\n",
        "      <td>NaN</td>\n",
        "      <td>NaN</td>\n",
        "      <td>NaN</td>\n",
        "      <td> 33Q5P9PUSOLTNUJ1E4O119J2NM9ZCT</td>\n",
        "      <td>...</td>\n",
        "    </tr>\n",
        "    <tr>\n",
        "      <th>10004268914</th>\n",
        "      <td> 3M1CVSFP604Y27J6XWEZT5DTM41QAA</td>\n",
        "      <td>NaN</td>\n",
        "      <td>NaN</td>\n",
        "      <td>      NaN</td>\n",
        "      <td>  0</td>\n",
        "      <td>NaN</td>\n",
        "      <td>NaN</td>\n",
        "      <td>NaN</td>\n",
        "      <td>NaN</td>\n",
        "      <td>NaN</td>\n",
        "      <td>NaN</td>\n",
        "      <td>  0</td>\n",
        "      <td>NaN</td>\n",
        "      <td>NaN</td>\n",
        "      <td>NaN</td>\n",
        "      <td>NaN</td>\n",
        "      <td>NaN</td>\n",
        "      <td>NaN</td>\n",
        "      <td>NaN</td>\n",
        "      <td> 3H781YYV6SHCYGUG435E59ION1AETT</td>\n",
        "      <td>...</td>\n",
        "    </tr>\n",
        "    <tr>\n",
        "      <th>10004468814</th>\n",
        "      <td> 3PM8NZGV8YFAYKRZ866DDDORNSQXQ7</td>\n",
        "      <td>NaN</td>\n",
        "      <td>NaN</td>\n",
        "      <td> 0.666667</td>\n",
        "      <td>NaN</td>\n",
        "      <td>NaN</td>\n",
        "      <td>NaN</td>\n",
        "      <td>NaN</td>\n",
        "      <td>NaN</td>\n",
        "      <td>NaN</td>\n",
        "      <td>NaN</td>\n",
        "      <td>NaN</td>\n",
        "      <td>NaN</td>\n",
        "      <td>NaN</td>\n",
        "      <td>NaN</td>\n",
        "      <td>NaN</td>\n",
        "      <td>NaN</td>\n",
        "      <td>NaN</td>\n",
        "      <td>NaN</td>\n",
        "      <td> 322ZSN9Z5FJU6EXNFXT1WN6XAD7T4V</td>\n",
        "      <td>...</td>\n",
        "    </tr>\n",
        "    <tr>\n",
        "      <th>10004487845</th>\n",
        "      <td> 3HHRAGRYX84HCCWLQD8V85790FB9O3</td>\n",
        "      <td>NaN</td>\n",
        "      <td>NaN</td>\n",
        "      <td> 0.666667</td>\n",
        "      <td>NaN</td>\n",
        "      <td>NaN</td>\n",
        "      <td>NaN</td>\n",
        "      <td>NaN</td>\n",
        "      <td>NaN</td>\n",
        "      <td>NaN</td>\n",
        "      <td>NaN</td>\n",
        "      <td>NaN</td>\n",
        "      <td>NaN</td>\n",
        "      <td>NaN</td>\n",
        "      <td>NaN</td>\n",
        "      <td>NaN</td>\n",
        "      <td>NaN</td>\n",
        "      <td>NaN</td>\n",
        "      <td>NaN</td>\n",
        "      <td> 3087LXLJ6LF3OLXL1C1A3G1J1CTF06</td>\n",
        "      <td>...</td>\n",
        "    </tr>\n",
        "    <tr>\n",
        "      <th>10007199026</th>\n",
        "      <td> 34T446B1C0DY7TB50CGBKUCZ93GC0S</td>\n",
        "      <td>NaN</td>\n",
        "      <td>NaN</td>\n",
        "      <td>      NaN</td>\n",
        "      <td>NaN</td>\n",
        "      <td>NaN</td>\n",
        "      <td>NaN</td>\n",
        "      <td>NaN</td>\n",
        "      <td>NaN</td>\n",
        "      <td>NaN</td>\n",
        "      <td>NaN</td>\n",
        "      <td>NaN</td>\n",
        "      <td>NaN</td>\n",
        "      <td>NaN</td>\n",
        "      <td>NaN</td>\n",
        "      <td>  0</td>\n",
        "      <td>NaN</td>\n",
        "      <td>NaN</td>\n",
        "      <td>NaN</td>\n",
        "      <td> 35F6NGNVM7IRP1F6HVR8ZZQ71E47TY</td>\n",
        "      <td>...</td>\n",
        "    </tr>\n",
        "    <tr>\n",
        "      <th>10007533796</th>\n",
        "      <td> 3OSWBBLG1EWG9BNU3K0TDEHS4CXXDW</td>\n",
        "      <td>NaN</td>\n",
        "      <td>NaN</td>\n",
        "      <td>      NaN</td>\n",
        "      <td>NaN</td>\n",
        "      <td>NaN</td>\n",
        "      <td>NaN</td>\n",
        "      <td>NaN</td>\n",
        "      <td>NaN</td>\n",
        "      <td>NaN</td>\n",
        "      <td>NaN</td>\n",
        "      <td>NaN</td>\n",
        "      <td>NaN</td>\n",
        "      <td>NaN</td>\n",
        "      <td>  0</td>\n",
        "      <td>NaN</td>\n",
        "      <td>NaN</td>\n",
        "      <td>NaN</td>\n",
        "      <td>NaN</td>\n",
        "      <td> 3XDSWAMB21RK92IAR85OAG7YIJPQCR</td>\n",
        "      <td>...</td>\n",
        "    </tr>\n",
        "    <tr>\n",
        "      <th>10008362764</th>\n",
        "      <td> 3H8DHMCCW9AAPBON41L4NK9Q830KDC</td>\n",
        "      <td>  0</td>\n",
        "      <td>NaN</td>\n",
        "      <td>      NaN</td>\n",
        "      <td>NaN</td>\n",
        "      <td>NaN</td>\n",
        "      <td>NaN</td>\n",
        "      <td>NaN</td>\n",
        "      <td>NaN</td>\n",
        "      <td>NaN</td>\n",
        "      <td>NaN</td>\n",
        "      <td>NaN</td>\n",
        "      <td>NaN</td>\n",
        "      <td>NaN</td>\n",
        "      <td>NaN</td>\n",
        "      <td>NaN</td>\n",
        "      <td>NaN</td>\n",
        "      <td>NaN</td>\n",
        "      <td>NaN</td>\n",
        "      <td> 3ULIZ0H1V94BTDPERJS1V9TGIQA512</td>\n",
        "      <td>...</td>\n",
        "    </tr>\n",
        "    <tr>\n",
        "      <th>10008818046</th>\n",
        "      <td> 3QY7M81QH7LU82NDDOIINSZUMQW7K1</td>\n",
        "      <td>NaN</td>\n",
        "      <td>NaN</td>\n",
        "      <td>      NaN</td>\n",
        "      <td>NaN</td>\n",
        "      <td>NaN</td>\n",
        "      <td>NaN</td>\n",
        "      <td>NaN</td>\n",
        "      <td>NaN</td>\n",
        "      <td>NaN</td>\n",
        "      <td>NaN</td>\n",
        "      <td>NaN</td>\n",
        "      <td>NaN</td>\n",
        "      <td>NaN</td>\n",
        "      <td>NaN</td>\n",
        "      <td>  0</td>\n",
        "      <td>NaN</td>\n",
        "      <td>NaN</td>\n",
        "      <td>NaN</td>\n",
        "      <td> 3ODOP6T3ARJ0MF3AWI95V0X7AZ124H</td>\n",
        "      <td>...</td>\n",
        "    </tr>\n",
        "    <tr>\n",
        "      <th>10009898286</th>\n",
        "      <td> 3ZAK8W07I4DUTNS5M31BE0Y5G3X0U0</td>\n",
        "      <td>NaN</td>\n",
        "      <td>NaN</td>\n",
        "      <td>      NaN</td>\n",
        "      <td>NaN</td>\n",
        "      <td>NaN</td>\n",
        "      <td>NaN</td>\n",
        "      <td>NaN</td>\n",
        "      <td>NaN</td>\n",
        "      <td>NaN</td>\n",
        "      <td>NaN</td>\n",
        "      <td>NaN</td>\n",
        "      <td>NaN</td>\n",
        "      <td>  0</td>\n",
        "      <td>NaN</td>\n",
        "      <td>NaN</td>\n",
        "      <td>NaN</td>\n",
        "      <td>NaN</td>\n",
        "      <td>NaN</td>\n",
        "      <td> 36JW4WBR05JEZL3HZK8V9800O8UFH2</td>\n",
        "      <td>...</td>\n",
        "    </tr>\n",
        "  </tbody>\n",
        "</table>\n",
        "<p>10 rows \u00d7 39 columns</p>\n",
        "</div>"
       ],
       "metadata": {},
       "output_type": "pyout",
       "prompt_number": 734,
       "text": [
        "                              assignment_id  conf_Bright  conf_Depth_of_Field  \\\n",
        "10002847526  3GFK2QRXX9G6GY3BE9MODJFTITC5WM          NaN                  NaN   \n",
        "10003574264  3OWEPKL089BVG88GA1AYFKGYGN4N7T          NaN                  NaN   \n",
        "10004268914  3M1CVSFP604Y27J6XWEZT5DTM41QAA          NaN                  NaN   \n",
        "10004468814  3PM8NZGV8YFAYKRZ866DDDORNSQXQ7          NaN                  NaN   \n",
        "10004487845  3HHRAGRYX84HCCWLQD8V85790FB9O3          NaN                  NaN   \n",
        "10007199026  34T446B1C0DY7TB50CGBKUCZ93GC0S          NaN                  NaN   \n",
        "10007533796  3OSWBBLG1EWG9BNU3K0TDEHS4CXXDW          NaN                  NaN   \n",
        "10008362764  3H8DHMCCW9AAPBON41L4NK9Q830KDC            0                  NaN   \n",
        "10008818046  3QY7M81QH7LU82NDDOIINSZUMQW7K1          NaN                  NaN   \n",
        "10009898286  3ZAK8W07I4DUTNS5M31BE0Y5G3X0U0          NaN                  NaN   \n",
        "\n",
        "             conf_Detailed  conf_Ethereal  conf_Geometric_Composition  \\\n",
        "10002847526            NaN            NaN                         NaN   \n",
        "10003574264       1.000000            NaN                         NaN   \n",
        "10004268914            NaN              0                         NaN   \n",
        "10004468814       0.666667            NaN                         NaN   \n",
        "10004487845       0.666667            NaN                         NaN   \n",
        "10007199026            NaN            NaN                         NaN   \n",
        "10007533796            NaN            NaN                         NaN   \n",
        "10008362764            NaN            NaN                         NaN   \n",
        "10008818046            NaN            NaN                         NaN   \n",
        "10009898286            NaN            NaN                         NaN   \n",
        "\n",
        "             conf_HDR  conf_Hazy  conf_Horror  conf_Long_Exposure  conf_Macro  \\\n",
        "10002847526       NaN        NaN          NaN                   0         NaN   \n",
        "10003574264       NaN        NaN          NaN                 NaN         NaN   \n",
        "10004268914       NaN        NaN          NaN                 NaN         NaN   \n",
        "10004468814       NaN        NaN          NaN                 NaN         NaN   \n",
        "10004487845       NaN        NaN          NaN                 NaN         NaN   \n",
        "10007199026       NaN        NaN          NaN                 NaN         NaN   \n",
        "10007533796       NaN        NaN          NaN                 NaN         NaN   \n",
        "10008362764       NaN        NaN          NaN                 NaN         NaN   \n",
        "10008818046       NaN        NaN          NaN                 NaN         NaN   \n",
        "10009898286       NaN        NaN          NaN                 NaN         NaN   \n",
        "\n",
        "             conf_Melancholy  conf_Minimal  conf_Noir  conf_Pastel  \\\n",
        "10002847526              NaN           NaN        NaN          NaN   \n",
        "10003574264              NaN           NaN        NaN          NaN   \n",
        "10004268914                0           NaN        NaN          NaN   \n",
        "10004468814              NaN           NaN        NaN          NaN   \n",
        "10004487845              NaN           NaN        NaN          NaN   \n",
        "10007199026              NaN           NaN        NaN          NaN   \n",
        "10007533796              NaN           NaN        NaN            0   \n",
        "10008362764              NaN           NaN        NaN          NaN   \n",
        "10008818046              NaN           NaN        NaN          NaN   \n",
        "10009898286              NaN           NaN          0          NaN   \n",
        "\n",
        "             conf_Romantic  conf_Serene  conf_Sunny  conf_Vintage  \\\n",
        "10002847526            NaN          NaN         NaN           NaN   \n",
        "10003574264            NaN          NaN         NaN           NaN   \n",
        "10004268914            NaN          NaN         NaN           NaN   \n",
        "10004468814            NaN          NaN         NaN           NaN   \n",
        "10004487845            NaN          NaN         NaN           NaN   \n",
        "10007199026              0          NaN         NaN           NaN   \n",
        "10007533796            NaN          NaN         NaN           NaN   \n",
        "10008362764            NaN          NaN         NaN           NaN   \n",
        "10008818046              0          NaN         NaN           NaN   \n",
        "10009898286            NaN          NaN         NaN           NaN   \n",
        "\n",
        "                                     hit_id      \n",
        "10002847526  3BFF0DJK8WBD8ZZY5YPJUQM3OT9TS1 ...  \n",
        "10003574264  33Q5P9PUSOLTNUJ1E4O119J2NM9ZCT ...  \n",
        "10004268914  3H781YYV6SHCYGUG435E59ION1AETT ...  \n",
        "10004468814  322ZSN9Z5FJU6EXNFXT1WN6XAD7T4V ...  \n",
        "10004487845  3087LXLJ6LF3OLXL1C1A3G1J1CTF06 ...  \n",
        "10007199026  35F6NGNVM7IRP1F6HVR8ZZQ71E47TY ...  \n",
        "10007533796  3XDSWAMB21RK92IAR85OAG7YIJPQCR ...  \n",
        "10008362764  3ULIZ0H1V94BTDPERJS1V9TGIQA512 ...  \n",
        "10008818046  3ODOP6T3ARJ0MF3AWI95V0X7AZ124H ...  \n",
        "10009898286  36JW4WBR05JEZL3HZK8V9800O8UFH2 ...  \n",
        "\n",
        "[10 rows x 39 columns]"
       ]
      }
     ],
     "prompt_number": 734
    },
    {
     "cell_type": "code",
     "collapsed": false,
     "input": [
      "majority_df.to_hdf( '../../mturk-results/mturk-majority-answers.h5', 'df', mode='w')"
     ],
     "language": "python",
     "metadata": {},
     "outputs": [],
     "prompt_number": 735
    },
    {
     "cell_type": "markdown",
     "metadata": {},
     "source": [
      "# Join with flickr dataframe"
     ]
    },
    {
     "cell_type": "code",
     "collapsed": false,
     "input": [
      "len( flickr_df.ix[ pd.Series( majority_df.index ).drop_duplicates() ] )"
     ],
     "language": "python",
     "metadata": {},
     "outputs": [
      {
       "metadata": {},
       "output_type": "pyout",
       "prompt_number": 736,
       "text": [
        "28511"
       ]
      }
     ],
     "prompt_number": 736
    },
    {
     "cell_type": "code",
     "collapsed": false,
     "input": [
      "# merge the answer dataframe with the corresponding rows of the flickr dataframe\n",
      "# join on the shared indices\n",
      "result_df = pd.merge( majority_df, \n",
      "                      flickr_df.ix[ pd.Series( majority_df.index ).drop_duplicates() ], \n",
      "                      left_index=True, right_index=True )"
     ],
     "language": "python",
     "metadata": {},
     "outputs": [],
     "prompt_number": 737
    },
    {
     "cell_type": "code",
     "collapsed": false,
     "input": [
      "len( result_df )"
     ],
     "language": "python",
     "metadata": {},
     "outputs": [
      {
       "metadata": {},
       "output_type": "pyout",
       "prompt_number": 738,
       "text": [
        "28511"
       ]
      }
     ],
     "prompt_number": 738
    },
    {
     "cell_type": "code",
     "collapsed": false,
     "input": [
      "result_df.head()"
     ],
     "language": "python",
     "metadata": {},
     "outputs": [
      {
       "html": [
        "<div style=\"max-height:1000px;max-width:1500px;overflow:auto;\">\n",
        "<table border=\"1\" class=\"dataframe\">\n",
        "  <thead>\n",
        "    <tr style=\"text-align: right;\">\n",
        "      <th></th>\n",
        "      <th>assignment_id</th>\n",
        "      <th>conf_Bright</th>\n",
        "      <th>conf_Depth_of_Field</th>\n",
        "      <th>conf_Detailed</th>\n",
        "      <th>conf_Ethereal</th>\n",
        "      <th>conf_Geometric_Composition</th>\n",
        "      <th>conf_HDR</th>\n",
        "      <th>conf_Hazy</th>\n",
        "      <th>conf_Horror</th>\n",
        "      <th>conf_Long_Exposure</th>\n",
        "      <th>conf_Macro</th>\n",
        "      <th>conf_Melancholy</th>\n",
        "      <th>conf_Minimal</th>\n",
        "      <th>conf_Noir</th>\n",
        "      <th>conf_Pastel</th>\n",
        "      <th>conf_Romantic</th>\n",
        "      <th>conf_Serene</th>\n",
        "      <th>conf_Sunny</th>\n",
        "      <th>conf_Vintage</th>\n",
        "      <th>hit_id</th>\n",
        "      <th></th>\n",
        "    </tr>\n",
        "  </thead>\n",
        "  <tbody>\n",
        "    <tr>\n",
        "      <th>10002847526</th>\n",
        "      <td> 3GFK2QRXX9G6GY3BE9MODJFTITC5WM</td>\n",
        "      <td>NaN</td>\n",
        "      <td>NaN</td>\n",
        "      <td>      NaN</td>\n",
        "      <td>NaN</td>\n",
        "      <td>NaN</td>\n",
        "      <td>NaN</td>\n",
        "      <td>NaN</td>\n",
        "      <td>NaN</td>\n",
        "      <td>  0</td>\n",
        "      <td>NaN</td>\n",
        "      <td>NaN</td>\n",
        "      <td>NaN</td>\n",
        "      <td>NaN</td>\n",
        "      <td>NaN</td>\n",
        "      <td>NaN</td>\n",
        "      <td>NaN</td>\n",
        "      <td>NaN</td>\n",
        "      <td>NaN</td>\n",
        "      <td> 3BFF0DJK8WBD8ZZY5YPJUQM3OT9TS1</td>\n",
        "      <td>...</td>\n",
        "    </tr>\n",
        "    <tr>\n",
        "      <th>10003574264</th>\n",
        "      <td> 3OWEPKL089BVG88GA1AYFKGYGN4N7T</td>\n",
        "      <td>NaN</td>\n",
        "      <td>NaN</td>\n",
        "      <td> 1.000000</td>\n",
        "      <td>NaN</td>\n",
        "      <td>NaN</td>\n",
        "      <td>NaN</td>\n",
        "      <td>NaN</td>\n",
        "      <td>NaN</td>\n",
        "      <td>NaN</td>\n",
        "      <td>NaN</td>\n",
        "      <td>NaN</td>\n",
        "      <td>NaN</td>\n",
        "      <td>NaN</td>\n",
        "      <td>NaN</td>\n",
        "      <td>NaN</td>\n",
        "      <td>NaN</td>\n",
        "      <td>NaN</td>\n",
        "      <td>NaN</td>\n",
        "      <td> 33Q5P9PUSOLTNUJ1E4O119J2NM9ZCT</td>\n",
        "      <td>...</td>\n",
        "    </tr>\n",
        "    <tr>\n",
        "      <th>10004268914</th>\n",
        "      <td> 3M1CVSFP604Y27J6XWEZT5DTM41QAA</td>\n",
        "      <td>NaN</td>\n",
        "      <td>NaN</td>\n",
        "      <td>      NaN</td>\n",
        "      <td>  0</td>\n",
        "      <td>NaN</td>\n",
        "      <td>NaN</td>\n",
        "      <td>NaN</td>\n",
        "      <td>NaN</td>\n",
        "      <td>NaN</td>\n",
        "      <td>NaN</td>\n",
        "      <td>  0</td>\n",
        "      <td>NaN</td>\n",
        "      <td>NaN</td>\n",
        "      <td>NaN</td>\n",
        "      <td>NaN</td>\n",
        "      <td>NaN</td>\n",
        "      <td>NaN</td>\n",
        "      <td>NaN</td>\n",
        "      <td> 3H781YYV6SHCYGUG435E59ION1AETT</td>\n",
        "      <td>...</td>\n",
        "    </tr>\n",
        "    <tr>\n",
        "      <th>10004468814</th>\n",
        "      <td> 3PM8NZGV8YFAYKRZ866DDDORNSQXQ7</td>\n",
        "      <td>NaN</td>\n",
        "      <td>NaN</td>\n",
        "      <td> 0.666667</td>\n",
        "      <td>NaN</td>\n",
        "      <td>NaN</td>\n",
        "      <td>NaN</td>\n",
        "      <td>NaN</td>\n",
        "      <td>NaN</td>\n",
        "      <td>NaN</td>\n",
        "      <td>NaN</td>\n",
        "      <td>NaN</td>\n",
        "      <td>NaN</td>\n",
        "      <td>NaN</td>\n",
        "      <td>NaN</td>\n",
        "      <td>NaN</td>\n",
        "      <td>NaN</td>\n",
        "      <td>NaN</td>\n",
        "      <td>NaN</td>\n",
        "      <td> 322ZSN9Z5FJU6EXNFXT1WN6XAD7T4V</td>\n",
        "      <td>...</td>\n",
        "    </tr>\n",
        "    <tr>\n",
        "      <th>10004487845</th>\n",
        "      <td> 3HHRAGRYX84HCCWLQD8V85790FB9O3</td>\n",
        "      <td>NaN</td>\n",
        "      <td>NaN</td>\n",
        "      <td> 0.666667</td>\n",
        "      <td>NaN</td>\n",
        "      <td>NaN</td>\n",
        "      <td>NaN</td>\n",
        "      <td>NaN</td>\n",
        "      <td>NaN</td>\n",
        "      <td>NaN</td>\n",
        "      <td>NaN</td>\n",
        "      <td>NaN</td>\n",
        "      <td>NaN</td>\n",
        "      <td>NaN</td>\n",
        "      <td>NaN</td>\n",
        "      <td>NaN</td>\n",
        "      <td>NaN</td>\n",
        "      <td>NaN</td>\n",
        "      <td>NaN</td>\n",
        "      <td> 3087LXLJ6LF3OLXL1C1A3G1J1CTF06</td>\n",
        "      <td>...</td>\n",
        "    </tr>\n",
        "  </tbody>\n",
        "</table>\n",
        "<p>5 rows \u00d7 63 columns</p>\n",
        "</div>"
       ],
       "metadata": {},
       "output_type": "pyout",
       "prompt_number": 739,
       "text": [
        "                              assignment_id  conf_Bright  conf_Depth_of_Field  \\\n",
        "10002847526  3GFK2QRXX9G6GY3BE9MODJFTITC5WM          NaN                  NaN   \n",
        "10003574264  3OWEPKL089BVG88GA1AYFKGYGN4N7T          NaN                  NaN   \n",
        "10004268914  3M1CVSFP604Y27J6XWEZT5DTM41QAA          NaN                  NaN   \n",
        "10004468814  3PM8NZGV8YFAYKRZ866DDDORNSQXQ7          NaN                  NaN   \n",
        "10004487845  3HHRAGRYX84HCCWLQD8V85790FB9O3          NaN                  NaN   \n",
        "\n",
        "             conf_Detailed  conf_Ethereal  conf_Geometric_Composition  \\\n",
        "10002847526            NaN            NaN                         NaN   \n",
        "10003574264       1.000000            NaN                         NaN   \n",
        "10004268914            NaN              0                         NaN   \n",
        "10004468814       0.666667            NaN                         NaN   \n",
        "10004487845       0.666667            NaN                         NaN   \n",
        "\n",
        "             conf_HDR  conf_Hazy  conf_Horror  conf_Long_Exposure  conf_Macro  \\\n",
        "10002847526       NaN        NaN          NaN                   0         NaN   \n",
        "10003574264       NaN        NaN          NaN                 NaN         NaN   \n",
        "10004268914       NaN        NaN          NaN                 NaN         NaN   \n",
        "10004468814       NaN        NaN          NaN                 NaN         NaN   \n",
        "10004487845       NaN        NaN          NaN                 NaN         NaN   \n",
        "\n",
        "             conf_Melancholy  conf_Minimal  conf_Noir  conf_Pastel  \\\n",
        "10002847526              NaN           NaN        NaN          NaN   \n",
        "10003574264              NaN           NaN        NaN          NaN   \n",
        "10004268914                0           NaN        NaN          NaN   \n",
        "10004468814              NaN           NaN        NaN          NaN   \n",
        "10004487845              NaN           NaN        NaN          NaN   \n",
        "\n",
        "             conf_Romantic  conf_Serene  conf_Sunny  conf_Vintage  \\\n",
        "10002847526            NaN          NaN         NaN           NaN   \n",
        "10003574264            NaN          NaN         NaN           NaN   \n",
        "10004268914            NaN          NaN         NaN           NaN   \n",
        "10004468814            NaN          NaN         NaN           NaN   \n",
        "10004487845            NaN          NaN         NaN           NaN   \n",
        "\n",
        "                                     hit_id      \n",
        "10002847526  3BFF0DJK8WBD8ZZY5YPJUQM3OT9TS1 ...  \n",
        "10003574264  33Q5P9PUSOLTNUJ1E4O119J2NM9ZCT ...  \n",
        "10004268914  3H781YYV6SHCYGUG435E59ION1AETT ...  \n",
        "10004468814  322ZSN9Z5FJU6EXNFXT1WN6XAD7T4V ...  \n",
        "10004487845  3087LXLJ6LF3OLXL1C1A3G1J1CTF06 ...  \n",
        "\n",
        "[5 rows x 63 columns]"
       ]
      }
     ],
     "prompt_number": 739
    },
    {
     "cell_type": "code",
     "collapsed": false,
     "input": [
      "result_df.to_hdf( '../../mturk-results/mturk-results.h5', 'df', mode='w')"
     ],
     "language": "python",
     "metadata": {},
     "outputs": [],
     "prompt_number": 740
    },
    {
     "cell_type": "code",
     "collapsed": false,
     "input": [
      "len( result_df[ result_df['_split'] == 'test' ] )"
     ],
     "language": "python",
     "metadata": {},
     "outputs": [
      {
       "metadata": {},
       "output_type": "pyout",
       "prompt_number": 741,
       "text": [
        "5776"
       ]
      }
     ],
     "prompt_number": 741
    },
    {
     "cell_type": "code",
     "collapsed": false,
     "input": [],
     "language": "python",
     "metadata": {},
     "outputs": []
    }
   ],
   "metadata": {}
  }
 ]
}