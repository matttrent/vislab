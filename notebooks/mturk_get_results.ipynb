{
 "metadata": {
  "name": "",
  "signature": "sha256:932e87cdf9c267ae96001bb7d189fb5ad1dd029abaf29a4867db9f95e185ea3e"
 },
 "nbformat": 3,
 "nbformat_minor": 0,
 "worksheets": [
  {
   "cells": [
    {
     "cell_type": "code",
     "collapsed": false,
     "input": [
      "%load_ext autoreload\n",
      "%autoreload 2\n",
      "\n",
      "import sys\n",
      "import uuid\n",
      "import math\n",
      "import urllib\n",
      "import urlparse\n",
      "import time\n",
      "\n",
      "from boto.mturk.connection import *\n",
      "from boto.mturk.question import ExternalQuestion\n",
      "from boto.mturk.qualification import *\n",
      "from boto.mturk.price import *\n",
      "\n",
      "import pandas as pd\n",
      "import vislab.datasets"
     ],
     "language": "python",
     "metadata": {},
     "outputs": [
      {
       "output_type": "stream",
       "stream": "stdout",
       "text": [
        "The autoreload extension is already loaded. To reload it, use:\n",
        "  %reload_ext autoreload\n"
       ]
      }
     ],
     "prompt_number": 83
    },
    {
     "cell_type": "markdown",
     "metadata": {},
     "source": [
      "# Configuration"
     ]
    },
    {
     "cell_type": "code",
     "collapsed": false,
     "input": [
      "# style were are testing\n",
      "POS_STYLE = 'Vintage'\n",
      "\n",
      "# base url for the test server\n",
      "SERVER_URL = 'https://image-style-mturk.herokuapp.com/'\n",
      "\n",
      "# total positive + negative images in the set\n",
      "TOTAL_IMAGES  = 2000\n",
      "\n",
      "# split of positive/negative examples in the set\n",
      "POS_NEG_SPLIT = .5\n",
      "\n",
      "# we won't use the first n images from any of the different styles for inclusion \n",
      "# in any of the test tests.  this can be used to serve any number of purposes,\n",
      "# such as example images, spam-detection samples, etc...  example images are the\n",
      "# only current use.\n",
      "RESERVE_IMAGES = 100\n",
      "\n",
      "# how many images per hit\n",
      "IMAGES_PER_HIT = 10\n",
      "\n",
      "# how many different turkers we want to view each job\n",
      "HIT_REPEAT = 1\n",
      "\n",
      "# aws secret keys\n",
      "AWS_ACCESS_KEY_ID     = vislab.config['api_keys']['mturk_aaron']['awsAccessKeyId']\n",
      "AWS_SECRET_ACCESS_KEY = vislab.config['api_keys']['mturk_aaron']['awsSecretAccessKey']\n",
      "\n",
      "# mechanical turk server\n",
      "# AWS_HOST = 'mechanicalturk.sandbox.amazonaws.com'\n",
      "AWS_HOST = 'mechanicalturk.amazonaws.com'\n",
      "\n",
      "# top-level hit information\n",
      "HIT_TITLE    = 'Tag the style of photos';\n",
      "HIT_DESC     = 'Given examples of a given photographic style, tag whether or not a photo matches that style.'\n",
      "HIT_KEYWORDS = 'photograph, photographs, photo, photos, image, images, style, look, classification, tagging'\n",
      "\n",
      "# hit specifics\n",
      "HIT_DURATION = datetime.timedelta(7)  # 7 days\n",
      "HIT_PRICE = 0.1"
     ],
     "language": "python",
     "metadata": {},
     "outputs": [],
     "prompt_number": 84
    },
    {
     "cell_type": "markdown",
     "metadata": {},
     "source": [
      "# Helper functions"
     ]
    },
    {
     "cell_type": "code",
     "collapsed": false,
     "input": [
      "def assignment_df_tag( df, drop=True ):\n",
      "    if drop: df = df.dropna( axis=1, how='all' )\n",
      "    return [name for name in df.columns.tolist() if 'tagged' in name]\n",
      "\n",
      "def assignment_series_tag( ser, drop=True ):\n",
      "    if drop: ser = ser.dropna()\n",
      "    return [name for name in ser.index.tolist() if 'tagged' in name][0]"
     ],
     "language": "python",
     "metadata": {},
     "outputs": [],
     "prompt_number": 517
    },
    {
     "cell_type": "markdown",
     "metadata": {},
     "source": [
      "# Spam rejection images"
     ]
    },
    {
     "cell_type": "code",
     "collapsed": false,
     "input": [
      "spam_images = {}\n",
      "spam_images['style_Bright']                = [ '13276349735', '13202986955' ]\n",
      "spam_images['style_Depth_of_Field']        = [ '12275097686', '12618937364' ]\n",
      "spam_images['style_Detailed']\t             = [ '12678909473', '9584007214' ]\n",
      "spam_images['style_Ethereal']\t             = [ '11196553984', '12103191336' ]\n",
      "spam_images['style_Geometric_Composition'] = [ '12361280943', '11728222814' ]\n",
      "spam_images['style_HDR']\t                 = [ '12985120954', '13080484014' ]\n",
      "spam_images['style_Hazy']\t                 = [ '8123136180', '8710649981' ]\n",
      "spam_images['style_Horror']\t             = [ '3540879185', '3190181306' ]\n",
      "spam_images['style_Long_Exposure']\t     = [ '13077420234', '13039543873' ]\n",
      "spam_images['style_Macro']\t             = [ '12874682495', '13237561944' ]\n",
      "spam_images['style_Melancholy']\t         = [ '13035627133', '12652741963' ]\n",
      "spam_images['style_Minimal']\t             = [ '9389108329', '9499757804' ]\n",
      "spam_images['style_Noir']\t                 = [ '11158990436', '3330508474' ]\n",
      "spam_images['style_Pastel']\t             = [ '13163996094', '12772046043' ]\n",
      "spam_images['style_Romantic']\t             = [ '8875030224', '9390762719' ]\n",
      "spam_images['style_Serene']\t             = [ '9572023253', '9700306653' ]\n",
      "spam_images['style_Sunny']\t             = [ '11433844095', '11156368195' ]\n",
      "spam_images['style_Vintage']\t             = [ '5710850998', '5798828322' ]"
     ],
     "language": "python",
     "metadata": {},
     "outputs": [],
     "prompt_number": 419
    },
    {
     "cell_type": "markdown",
     "metadata": {},
     "source": [
      "# Setup MTurk"
     ]
    },
    {
     "cell_type": "code",
     "collapsed": false,
     "input": [
      "# create the mturk connection\n",
      "MTC = MTurkConnection(aws_access_key_id=AWS_ACCESS_KEY_ID,\n",
      "                      aws_secret_access_key=AWS_SECRET_ACCESS_KEY,\n",
      "                      host=AWS_HOST,is_secure=True)"
     ],
     "language": "python",
     "metadata": {},
     "outputs": [],
     "prompt_number": 85
    },
    {
     "cell_type": "markdown",
     "metadata": {},
     "source": [
      "# Data setup"
     ]
    },
    {
     "cell_type": "code",
     "collapsed": false,
     "input": [
      "flickr_df = vislab.datasets.flickr.get_df()"
     ],
     "language": "python",
     "metadata": {},
     "outputs": [],
     "prompt_number": 4
    },
    {
     "cell_type": "markdown",
     "metadata": {},
     "source": [
      "## Helper functions"
     ]
    },
    {
     "cell_type": "code",
     "collapsed": false,
     "input": [
      "import re\n",
      "from unicodedata import normalize\n",
      "\n",
      "_punct_re = re.compile(r'[\\t !\"#$%&\\'()*\\-/<=>?@\\[\\\\\\]^_`{|},.]+')\n",
      "\n",
      "def slugify(text, delim=u'-'):\n",
      "    \"\"\"Generates an slightly worse ASCII-only slug.\"\"\"\n",
      "    text = unicode( text )\n",
      "    result = []\n",
      "    for word in _punct_re.split(text.lower()):\n",
      "        word = normalize('NFKD', word).encode('ascii', 'ignore')\n",
      "        if word:\n",
      "            result.append(word)\n",
      "    return unicode(delim.join(result))"
     ],
     "language": "python",
     "metadata": {},
     "outputs": [],
     "prompt_number": 86
    },
    {
     "cell_type": "markdown",
     "metadata": {},
     "source": [
      "# Style tag name extraction"
     ]
    },
    {
     "cell_type": "code",
     "collapsed": false,
     "input": [
      "style_cols = [name for name in flickr_df.columns.tolist() if 'style' in name]\n",
      "style_cols.remove( 'style_Bokeh' )\n",
      "style_cols.remove( 'style_Texture' )\n",
      "print style_cols"
     ],
     "language": "python",
     "metadata": {},
     "outputs": [
      {
       "output_type": "stream",
       "stream": "stdout",
       "text": [
        "['style_Bright', 'style_Depth_of_Field', 'style_Detailed', 'style_Ethereal', 'style_Geometric_Composition', 'style_HDR', 'style_Hazy', 'style_Horror', 'style_Long_Exposure', 'style_Macro', 'style_Melancholy', 'style_Minimal', 'style_Noir', 'style_Pastel', 'style_Romantic', 'style_Serene', 'style_Sunny', 'style_Vintage']\n"
       ]
      }
     ],
     "prompt_number": 87
    },
    {
     "cell_type": "code",
     "collapsed": false,
     "input": [
      "style_names = [name[6:].replace('_', ' ') for name in style_cols]\n",
      "slug_names = [slugify(name) for name in style_names]\n",
      "style_dict = dict( zip( slug_names, style_names ) )\n",
      "style_dict"
     ],
     "language": "python",
     "metadata": {},
     "outputs": [
      {
       "metadata": {},
       "output_type": "pyout",
       "prompt_number": 88,
       "text": [
        "{u'bright': 'Bright',\n",
        " u'depth-of-field': 'Depth of Field',\n",
        " u'detailed': 'Detailed',\n",
        " u'ethereal': 'Ethereal',\n",
        " u'geometric-composition': 'Geometric Composition',\n",
        " u'hazy': 'Hazy',\n",
        " u'hdr': 'HDR',\n",
        " u'horror': 'Horror',\n",
        " u'long-exposure': 'Long Exposure',\n",
        " u'macro': 'Macro',\n",
        " u'melancholy': 'Melancholy',\n",
        " u'minimal': 'Minimal',\n",
        " u'noir': 'Noir',\n",
        " u'pastel': 'Pastel',\n",
        " u'romantic': 'Romantic',\n",
        " u'serene': 'Serene',\n",
        " u'sunny': 'Sunny',\n",
        " u'vintage': 'Vintage'}"
       ]
      }
     ],
     "prompt_number": 88
    },
    {
     "cell_type": "markdown",
     "metadata": {},
     "source": [
      "# Load existing work"
     ]
    },
    {
     "cell_type": "code",
     "collapsed": false,
     "input": [
      "answer_df = pd.read_hdf( '../../mturk-results/mturk-answers.h5', 'df' )"
     ],
     "language": "python",
     "metadata": {},
     "outputs": [],
     "prompt_number": 89
    },
    {
     "cell_type": "code",
     "collapsed": false,
     "input": [
      "print len( answer_df )"
     ],
     "language": "python",
     "metadata": {},
     "outputs": [
      {
       "output_type": "stream",
       "stream": "stdout",
       "text": [
        "5390\n"
       ]
      }
     ],
     "prompt_number": 90
    },
    {
     "cell_type": "markdown",
     "metadata": {},
     "source": [
      "# Collect HITs"
     ]
    },
    {
     "cell_type": "code",
     "collapsed": false,
     "input": [
      "HITs = []"
     ],
     "language": "python",
     "metadata": {},
     "outputs": [],
     "prompt_number": 428
    },
    {
     "cell_type": "code",
     "collapsed": false,
     "input": [
      "old_len = -1\n",
      "count = 1\n",
      "\n",
      "while len( HITs ) != old_len:\n",
      "\n",
      "    print count, len(HITs), old_len\n",
      "    hits = MTC.search_hits( page_size=100, \n",
      "                            page_number=count, \n",
      "                            sort_by='CreationTime', \n",
      "                            sort_direction='Ascending' )\n",
      "    \n",
      "    old_len = len( HITs )\n",
      "    HITs += hits \n",
      "    count += 1 "
     ],
     "language": "python",
     "metadata": {},
     "outputs": [
      {
       "output_type": "stream",
       "stream": "stdout",
       "text": [
        "1 0 -1\n",
        "2"
       ]
      },
      {
       "output_type": "stream",
       "stream": "stdout",
       "text": [
        " 100 0\n",
        "3"
       ]
      },
      {
       "output_type": "stream",
       "stream": "stdout",
       "text": [
        " 200 100\n",
        "4"
       ]
      },
      {
       "output_type": "stream",
       "stream": "stdout",
       "text": [
        " 300 200\n",
        "5"
       ]
      },
      {
       "output_type": "stream",
       "stream": "stdout",
       "text": [
        " 400 300\n",
        "6"
       ]
      },
      {
       "output_type": "stream",
       "stream": "stdout",
       "text": [
        " 500 400\n",
        "7"
       ]
      },
      {
       "output_type": "stream",
       "stream": "stdout",
       "text": [
        " 600 500\n",
        "8"
       ]
      },
      {
       "output_type": "stream",
       "stream": "stdout",
       "text": [
        " 700 600\n",
        "9"
       ]
      },
      {
       "output_type": "stream",
       "stream": "stdout",
       "text": [
        " 800 700\n",
        "10"
       ]
      },
      {
       "output_type": "stream",
       "stream": "stdout",
       "text": [
        " 900 800\n",
        "11"
       ]
      },
      {
       "output_type": "stream",
       "stream": "stdout",
       "text": [
        " 1000 900\n",
        "12"
       ]
      },
      {
       "output_type": "stream",
       "stream": "stdout",
       "text": [
        " 1100 1000\n",
        "13"
       ]
      },
      {
       "output_type": "stream",
       "stream": "stdout",
       "text": [
        " 1200 1100\n",
        "14"
       ]
      },
      {
       "output_type": "stream",
       "stream": "stdout",
       "text": [
        " 1300 1200\n",
        "15"
       ]
      },
      {
       "output_type": "stream",
       "stream": "stdout",
       "text": [
        " 1400 1300\n",
        "16"
       ]
      },
      {
       "output_type": "stream",
       "stream": "stdout",
       "text": [
        " 1500 1400\n",
        "17"
       ]
      },
      {
       "output_type": "stream",
       "stream": "stdout",
       "text": [
        " 1600 1500\n",
        "18"
       ]
      },
      {
       "output_type": "stream",
       "stream": "stdout",
       "text": [
        " 1700 1600\n",
        "19"
       ]
      },
      {
       "output_type": "stream",
       "stream": "stdout",
       "text": [
        " 1800 1700\n",
        "20"
       ]
      },
      {
       "output_type": "stream",
       "stream": "stdout",
       "text": [
        " 1900 1800\n",
        "21"
       ]
      },
      {
       "output_type": "stream",
       "stream": "stdout",
       "text": [
        " 2000 1900\n",
        "22"
       ]
      },
      {
       "output_type": "stream",
       "stream": "stdout",
       "text": [
        " 2100 2000\n",
        "23"
       ]
      },
      {
       "output_type": "stream",
       "stream": "stdout",
       "text": [
        " 2200 2100\n",
        "24"
       ]
      },
      {
       "output_type": "stream",
       "stream": "stdout",
       "text": [
        " 2300 2200\n",
        "25"
       ]
      },
      {
       "output_type": "stream",
       "stream": "stdout",
       "text": [
        " 2400 2300\n",
        "26"
       ]
      },
      {
       "output_type": "stream",
       "stream": "stdout",
       "text": [
        " 2500 2400\n",
        "27"
       ]
      },
      {
       "output_type": "stream",
       "stream": "stdout",
       "text": [
        " 2600 2500\n",
        "28"
       ]
      },
      {
       "output_type": "stream",
       "stream": "stdout",
       "text": [
        " 2700 2600\n",
        "29"
       ]
      },
      {
       "output_type": "stream",
       "stream": "stdout",
       "text": [
        " 2800 2700\n",
        "30"
       ]
      },
      {
       "output_type": "stream",
       "stream": "stdout",
       "text": [
        " 2900 2800\n",
        "31"
       ]
      },
      {
       "output_type": "stream",
       "stream": "stdout",
       "text": [
        " 3000 2900\n",
        "32"
       ]
      },
      {
       "output_type": "stream",
       "stream": "stdout",
       "text": [
        " 3100 3000\n",
        "33"
       ]
      },
      {
       "output_type": "stream",
       "stream": "stdout",
       "text": [
        " 3200 3100\n",
        "34"
       ]
      },
      {
       "output_type": "stream",
       "stream": "stdout",
       "text": [
        " 3300 3200\n",
        "35"
       ]
      },
      {
       "output_type": "stream",
       "stream": "stdout",
       "text": [
        " 3400 3300\n",
        "36"
       ]
      },
      {
       "output_type": "stream",
       "stream": "stdout",
       "text": [
        " 3500 3400\n",
        "37"
       ]
      },
      {
       "output_type": "stream",
       "stream": "stdout",
       "text": [
        " 3600 3500\n",
        "38"
       ]
      },
      {
       "output_type": "stream",
       "stream": "stdout",
       "text": [
        " 3615 3600\n"
       ]
      }
     ],
     "prompt_number": 429
    },
    {
     "cell_type": "code",
     "collapsed": false,
     "input": [
      "len( HITs )"
     ],
     "language": "python",
     "metadata": {},
     "outputs": [
      {
       "metadata": {},
       "output_type": "pyout",
       "prompt_number": 430,
       "text": [
        "3615"
       ]
      }
     ],
     "prompt_number": 430
    },
    {
     "cell_type": "code",
     "collapsed": false,
     "input": [
      "len( [hit for hit in HITs if hit.HITStatus == 'Reviewable' ] )"
     ],
     "language": "python",
     "metadata": {},
     "outputs": [
      {
       "metadata": {},
       "output_type": "pyout",
       "prompt_number": 431,
       "text": [
        "2858"
       ]
      }
     ],
     "prompt_number": 431
    },
    {
     "cell_type": "markdown",
     "metadata": {},
     "source": [
      "# Collect assignments"
     ]
    },
    {
     "cell_type": "code",
     "collapsed": false,
     "input": [
      "assignments = []"
     ],
     "language": "python",
     "metadata": {},
     "outputs": [],
     "prompt_number": 432
    },
    {
     "cell_type": "code",
     "collapsed": false,
     "input": [
      "batch_count = 0\n",
      "\n",
      "for i, hit in enumerate( HITs ):\n",
      "    \n",
      "    if hit.HITStatus != 'Reviewable':\n",
      "        continue\n",
      "    \n",
      "    if len( answer_df[ answer_df['hit_id'] == hit.HITId ] ) > 0:\n",
      "#         print 'ignoring', hit.HITId\n",
      "        continue\n",
      "    \n",
      "    if batch_count % 75 == 0 and batch_count != 0:\n",
      "        time.sleep( 20 )\n",
      "    \n",
      "    print i, \n",
      "    old_len = -1\n",
      "    count = 1\n",
      "    while len( assignments ) != old_len:\n",
      "\n",
      "        assigns = MTC.get_assignments( hit_id=hit.HITId, page_number=count, page_size=10 )\n",
      "    \n",
      "        old_len = len( assignments )\n",
      "        assignments += assigns\n",
      "        count += 1 \n",
      "    print len( assignments )\n",
      "    \n",
      "    batch_count += 1"
     ],
     "language": "python",
     "metadata": {},
     "outputs": [
      {
       "output_type": "stream",
       "stream": "stdout",
       "text": [
        "1840 "
       ]
      },
      {
       "output_type": "stream",
       "stream": "stdout",
       "text": [
        "3\n",
        "1842 "
       ]
      },
      {
       "output_type": "stream",
       "stream": "stdout",
       "text": [
        "6\n",
        "1950"
       ]
      },
      {
       "output_type": "stream",
       "stream": "stdout",
       "text": [
        " 9\n",
        "2081"
       ]
      },
      {
       "output_type": "stream",
       "stream": "stdout",
       "text": [
        " 12\n",
        "2112"
       ]
      },
      {
       "output_type": "stream",
       "stream": "stdout",
       "text": [
        " 15\n",
        "2184"
       ]
      },
      {
       "output_type": "stream",
       "stream": "stdout",
       "text": [
        " 18\n",
        "2220"
       ]
      },
      {
       "output_type": "stream",
       "stream": "stdout",
       "text": [
        " 21\n",
        "2256"
       ]
      },
      {
       "output_type": "stream",
       "stream": "stdout",
       "text": [
        " 24\n",
        "2274"
       ]
      },
      {
       "output_type": "stream",
       "stream": "stdout",
       "text": [
        " 27\n",
        "2328"
       ]
      },
      {
       "output_type": "stream",
       "stream": "stdout",
       "text": [
        " 30\n",
        "2380"
       ]
      },
      {
       "output_type": "stream",
       "stream": "stdout",
       "text": [
        " 33\n",
        "2382 "
       ]
      },
      {
       "output_type": "stream",
       "stream": "stdout",
       "text": [
        "36\n",
        "2436"
       ]
      },
      {
       "output_type": "stream",
       "stream": "stdout",
       "text": [
        " 39\n",
        "2470"
       ]
      },
      {
       "output_type": "stream",
       "stream": "stdout",
       "text": [
        " 42\n",
        "2490"
       ]
      },
      {
       "output_type": "stream",
       "stream": "stdout",
       "text": [
        " 45\n",
        "2508"
       ]
      },
      {
       "output_type": "stream",
       "stream": "stdout",
       "text": [
        " 48\n",
        "2544"
       ]
      },
      {
       "output_type": "stream",
       "stream": "stdout",
       "text": [
        " 51\n",
        "2562"
       ]
      },
      {
       "output_type": "stream",
       "stream": "stdout",
       "text": [
        " 54\n",
        "2670"
       ]
      },
      {
       "output_type": "stream",
       "stream": "stdout",
       "text": [
        " 57\n",
        "2688"
       ]
      },
      {
       "output_type": "stream",
       "stream": "stdout",
       "text": [
        " 60\n",
        "2716"
       ]
      },
      {
       "output_type": "stream",
       "stream": "stdout",
       "text": [
        " 63\n",
        "2719 "
       ]
      },
      {
       "output_type": "stream",
       "stream": "stdout",
       "text": [
        "66\n",
        "2724 "
       ]
      },
      {
       "output_type": "stream",
       "stream": "stdout",
       "text": [
        "69\n",
        "2725 "
       ]
      },
      {
       "output_type": "stream",
       "stream": "stdout",
       "text": [
        "72\n",
        "2726 "
       ]
      },
      {
       "output_type": "stream",
       "stream": "stdout",
       "text": [
        "75\n",
        "2727 "
       ]
      },
      {
       "output_type": "stream",
       "stream": "stdout",
       "text": [
        "78\n",
        "2728 "
       ]
      },
      {
       "output_type": "stream",
       "stream": "stdout",
       "text": [
        "81\n",
        "2730 "
       ]
      },
      {
       "output_type": "stream",
       "stream": "stdout",
       "text": [
        "84\n",
        "2732 "
       ]
      },
      {
       "output_type": "stream",
       "stream": "stdout",
       "text": [
        "87\n",
        "2734 "
       ]
      },
      {
       "output_type": "stream",
       "stream": "stdout",
       "text": [
        "90\n",
        "2735 "
       ]
      },
      {
       "output_type": "stream",
       "stream": "stdout",
       "text": [
        "93\n",
        "2742 "
       ]
      },
      {
       "output_type": "stream",
       "stream": "stdout",
       "text": [
        "96\n",
        "2744 "
       ]
      },
      {
       "output_type": "stream",
       "stream": "stdout",
       "text": [
        "99\n",
        "2745 "
       ]
      },
      {
       "output_type": "stream",
       "stream": "stdout",
       "text": [
        "102\n",
        "2747 "
       ]
      },
      {
       "output_type": "stream",
       "stream": "stdout",
       "text": [
        "105\n",
        "2748 "
       ]
      },
      {
       "output_type": "stream",
       "stream": "stdout",
       "text": [
        "108\n",
        "2749 "
       ]
      },
      {
       "output_type": "stream",
       "stream": "stdout",
       "text": [
        "111\n",
        "2752 "
       ]
      },
      {
       "output_type": "stream",
       "stream": "stdout",
       "text": [
        "114\n",
        "2758 "
       ]
      },
      {
       "output_type": "stream",
       "stream": "stdout",
       "text": [
        "117\n",
        "2760 "
       ]
      },
      {
       "output_type": "stream",
       "stream": "stdout",
       "text": [
        "120\n",
        "2762 "
       ]
      },
      {
       "output_type": "stream",
       "stream": "stdout",
       "text": [
        "123\n",
        "2764 "
       ]
      },
      {
       "output_type": "stream",
       "stream": "stdout",
       "text": [
        "126\n",
        "2765 "
       ]
      },
      {
       "output_type": "stream",
       "stream": "stdout",
       "text": [
        "129\n",
        "2770 "
       ]
      },
      {
       "output_type": "stream",
       "stream": "stdout",
       "text": [
        "132\n",
        "2771 "
       ]
      },
      {
       "output_type": "stream",
       "stream": "stdout",
       "text": [
        "135\n",
        "2772 "
       ]
      },
      {
       "output_type": "stream",
       "stream": "stdout",
       "text": [
        "138\n",
        "2773 "
       ]
      },
      {
       "output_type": "stream",
       "stream": "stdout",
       "text": [
        "141\n",
        "2778 "
       ]
      },
      {
       "output_type": "stream",
       "stream": "stdout",
       "text": [
        "144\n",
        "2782 "
       ]
      },
      {
       "output_type": "stream",
       "stream": "stdout",
       "text": [
        "147\n",
        "2783 "
       ]
      },
      {
       "output_type": "stream",
       "stream": "stdout",
       "text": [
        "150\n",
        "2786 "
       ]
      },
      {
       "output_type": "stream",
       "stream": "stdout",
       "text": [
        "153\n",
        "2788 "
       ]
      },
      {
       "output_type": "stream",
       "stream": "stdout",
       "text": [
        "156\n",
        "2791 "
       ]
      },
      {
       "output_type": "stream",
       "stream": "stdout",
       "text": [
        "159\n",
        "2792 "
       ]
      },
      {
       "output_type": "stream",
       "stream": "stdout",
       "text": [
        "162\n",
        "2794 "
       ]
      },
      {
       "output_type": "stream",
       "stream": "stdout",
       "text": [
        "165\n",
        "2796 "
       ]
      },
      {
       "output_type": "stream",
       "stream": "stdout",
       "text": [
        "168\n",
        "2798 "
       ]
      },
      {
       "output_type": "stream",
       "stream": "stdout",
       "text": [
        "171\n",
        "2799 "
       ]
      },
      {
       "output_type": "stream",
       "stream": "stdout",
       "text": [
        "174\n",
        "2800 "
       ]
      },
      {
       "output_type": "stream",
       "stream": "stdout",
       "text": [
        "177\n",
        "2801 "
       ]
      },
      {
       "output_type": "stream",
       "stream": "stdout",
       "text": [
        "180\n",
        "2804 "
       ]
      },
      {
       "output_type": "stream",
       "stream": "stdout",
       "text": [
        "183\n",
        "2806 "
       ]
      },
      {
       "output_type": "stream",
       "stream": "stdout",
       "text": [
        "186\n",
        "2807 "
       ]
      },
      {
       "output_type": "stream",
       "stream": "stdout",
       "text": [
        "189\n",
        "2809 "
       ]
      },
      {
       "output_type": "stream",
       "stream": "stdout",
       "text": [
        "192\n",
        "2814 "
       ]
      },
      {
       "output_type": "stream",
       "stream": "stdout",
       "text": [
        "195\n",
        "2816 "
       ]
      },
      {
       "output_type": "stream",
       "stream": "stdout",
       "text": [
        "198\n",
        "2817 "
       ]
      },
      {
       "output_type": "stream",
       "stream": "stdout",
       "text": [
        "201\n",
        "2818 "
       ]
      },
      {
       "output_type": "stream",
       "stream": "stdout",
       "text": [
        "204\n",
        "2819 "
       ]
      },
      {
       "output_type": "stream",
       "stream": "stdout",
       "text": [
        "207\n",
        "2823 "
       ]
      },
      {
       "output_type": "stream",
       "stream": "stdout",
       "text": [
        "210\n",
        "2830 "
       ]
      },
      {
       "output_type": "stream",
       "stream": "stdout",
       "text": [
        "213\n",
        "2832 "
       ]
      },
      {
       "output_type": "stream",
       "stream": "stdout",
       "text": [
        "216\n",
        "2834 "
       ]
      },
      {
       "output_type": "stream",
       "stream": "stdout",
       "text": [
        "219\n",
        "2835 "
       ]
      },
      {
       "output_type": "stream",
       "stream": "stdout",
       "text": [
        "222\n",
        "2836 "
       ]
      },
      {
       "output_type": "stream",
       "stream": "stdout",
       "text": [
        "225\n",
        "2838"
       ]
      },
      {
       "output_type": "stream",
       "stream": "stdout",
       "text": [
        " 228\n",
        "2842 "
       ]
      },
      {
       "output_type": "stream",
       "stream": "stdout",
       "text": [
        "231\n",
        "2843 "
       ]
      },
      {
       "output_type": "stream",
       "stream": "stdout",
       "text": [
        "234\n",
        "2845 "
       ]
      },
      {
       "output_type": "stream",
       "stream": "stdout",
       "text": [
        "237\n",
        "2846 "
       ]
      },
      {
       "output_type": "stream",
       "stream": "stdout",
       "text": [
        "240\n",
        "2850 "
       ]
      },
      {
       "output_type": "stream",
       "stream": "stdout",
       "text": [
        "243\n",
        "2853 "
       ]
      },
      {
       "output_type": "stream",
       "stream": "stdout",
       "text": [
        "246\n",
        "2854 "
       ]
      },
      {
       "output_type": "stream",
       "stream": "stdout",
       "text": [
        "249\n",
        "2855 "
       ]
      },
      {
       "output_type": "stream",
       "stream": "stdout",
       "text": [
        "252\n",
        "2856 "
       ]
      },
      {
       "output_type": "stream",
       "stream": "stdout",
       "text": [
        "255\n",
        "2859 "
       ]
      },
      {
       "output_type": "stream",
       "stream": "stdout",
       "text": [
        "258\n",
        "2860 "
       ]
      },
      {
       "output_type": "stream",
       "stream": "stdout",
       "text": [
        "261\n",
        "2862 "
       ]
      },
      {
       "output_type": "stream",
       "stream": "stdout",
       "text": [
        "264\n",
        "2866 "
       ]
      },
      {
       "output_type": "stream",
       "stream": "stdout",
       "text": [
        "267\n",
        "2868 "
       ]
      },
      {
       "output_type": "stream",
       "stream": "stdout",
       "text": [
        "270\n",
        "2871 "
       ]
      },
      {
       "output_type": "stream",
       "stream": "stdout",
       "text": [
        "273\n",
        "2874 "
       ]
      },
      {
       "output_type": "stream",
       "stream": "stdout",
       "text": [
        "276\n",
        "2876 "
       ]
      },
      {
       "output_type": "stream",
       "stream": "stdout",
       "text": [
        "279\n",
        "2878 "
       ]
      },
      {
       "output_type": "stream",
       "stream": "stdout",
       "text": [
        "282\n",
        "2885 "
       ]
      },
      {
       "output_type": "stream",
       "stream": "stdout",
       "text": [
        "285\n",
        "2886 "
       ]
      },
      {
       "output_type": "stream",
       "stream": "stdout",
       "text": [
        "288\n",
        "2887 "
       ]
      },
      {
       "output_type": "stream",
       "stream": "stdout",
       "text": [
        "291\n",
        "2888 "
       ]
      },
      {
       "output_type": "stream",
       "stream": "stdout",
       "text": [
        "294\n",
        "2889 "
       ]
      },
      {
       "output_type": "stream",
       "stream": "stdout",
       "text": [
        "297\n",
        "2891 "
       ]
      },
      {
       "output_type": "stream",
       "stream": "stdout",
       "text": [
        "300\n",
        "2892 "
       ]
      },
      {
       "output_type": "stream",
       "stream": "stdout",
       "text": [
        "303\n",
        "2896 "
       ]
      },
      {
       "output_type": "stream",
       "stream": "stdout",
       "text": [
        "306\n",
        "2897 "
       ]
      },
      {
       "output_type": "stream",
       "stream": "stdout",
       "text": [
        "309\n",
        "2899 "
       ]
      },
      {
       "output_type": "stream",
       "stream": "stdout",
       "text": [
        "312\n",
        "2902 "
       ]
      },
      {
       "output_type": "stream",
       "stream": "stdout",
       "text": [
        "315\n",
        "2903 "
       ]
      },
      {
       "output_type": "stream",
       "stream": "stdout",
       "text": [
        "318\n",
        "2904 "
       ]
      },
      {
       "output_type": "stream",
       "stream": "stdout",
       "text": [
        "321\n",
        "2907 "
       ]
      },
      {
       "output_type": "stream",
       "stream": "stdout",
       "text": [
        "324\n",
        "2908 "
       ]
      },
      {
       "output_type": "stream",
       "stream": "stdout",
       "text": [
        "327\n",
        "2914 "
       ]
      },
      {
       "output_type": "stream",
       "stream": "stdout",
       "text": [
        "330\n",
        "2917 "
       ]
      },
      {
       "output_type": "stream",
       "stream": "stdout",
       "text": [
        "333\n",
        "2921 "
       ]
      },
      {
       "output_type": "stream",
       "stream": "stdout",
       "text": [
        "336\n",
        "2922 "
       ]
      },
      {
       "output_type": "stream",
       "stream": "stdout",
       "text": [
        "339\n",
        "2924 "
       ]
      },
      {
       "output_type": "stream",
       "stream": "stdout",
       "text": [
        "342\n",
        "2928 "
       ]
      },
      {
       "output_type": "stream",
       "stream": "stdout",
       "text": [
        "345\n",
        "2929 "
       ]
      },
      {
       "output_type": "stream",
       "stream": "stdout",
       "text": [
        "348\n",
        "2932 "
       ]
      },
      {
       "output_type": "stream",
       "stream": "stdout",
       "text": [
        "351\n",
        "2933 "
       ]
      },
      {
       "output_type": "stream",
       "stream": "stdout",
       "text": [
        "354\n",
        "2934 "
       ]
      },
      {
       "output_type": "stream",
       "stream": "stdout",
       "text": [
        "357\n",
        "2935 "
       ]
      },
      {
       "output_type": "stream",
       "stream": "stdout",
       "text": [
        "360\n",
        "2939 "
       ]
      },
      {
       "output_type": "stream",
       "stream": "stdout",
       "text": [
        "363\n",
        "2940 "
       ]
      },
      {
       "output_type": "stream",
       "stream": "stdout",
       "text": [
        "366\n",
        "2943 "
       ]
      },
      {
       "output_type": "stream",
       "stream": "stdout",
       "text": [
        "369\n",
        "2944 "
       ]
      },
      {
       "output_type": "stream",
       "stream": "stdout",
       "text": [
        "372\n",
        "2945 "
       ]
      },
      {
       "output_type": "stream",
       "stream": "stdout",
       "text": [
        "375\n",
        "2946 "
       ]
      },
      {
       "output_type": "stream",
       "stream": "stdout",
       "text": [
        "378\n",
        "2951 "
       ]
      },
      {
       "output_type": "stream",
       "stream": "stdout",
       "text": [
        "381\n",
        "2956 "
       ]
      },
      {
       "output_type": "stream",
       "stream": "stdout",
       "text": [
        "384\n",
        "2958 "
       ]
      },
      {
       "output_type": "stream",
       "stream": "stdout",
       "text": [
        "387\n",
        "2962 "
       ]
      },
      {
       "output_type": "stream",
       "stream": "stdout",
       "text": [
        "390\n",
        "2963 "
       ]
      },
      {
       "output_type": "stream",
       "stream": "stdout",
       "text": [
        "393\n",
        "2965 "
       ]
      },
      {
       "output_type": "stream",
       "stream": "stdout",
       "text": [
        "396\n",
        "2966 "
       ]
      },
      {
       "output_type": "stream",
       "stream": "stdout",
       "text": [
        "399\n",
        "2971 "
       ]
      },
      {
       "output_type": "stream",
       "stream": "stdout",
       "text": [
        "402\n",
        "2974 "
       ]
      },
      {
       "output_type": "stream",
       "stream": "stdout",
       "text": [
        "405\n",
        "2975 "
       ]
      },
      {
       "output_type": "stream",
       "stream": "stdout",
       "text": [
        "408\n",
        "2976 "
       ]
      },
      {
       "output_type": "stream",
       "stream": "stdout",
       "text": [
        "411\n",
        "2979 "
       ]
      },
      {
       "output_type": "stream",
       "stream": "stdout",
       "text": [
        "414\n",
        "2981 "
       ]
      },
      {
       "output_type": "stream",
       "stream": "stdout",
       "text": [
        "417\n",
        "2982 "
       ]
      },
      {
       "output_type": "stream",
       "stream": "stdout",
       "text": [
        "420\n",
        "2983 "
       ]
      },
      {
       "output_type": "stream",
       "stream": "stdout",
       "text": [
        "423\n",
        "2986 "
       ]
      },
      {
       "output_type": "stream",
       "stream": "stdout",
       "text": [
        "426\n",
        "2987 "
       ]
      },
      {
       "output_type": "stream",
       "stream": "stdout",
       "text": [
        "429\n",
        "2992 "
       ]
      },
      {
       "output_type": "stream",
       "stream": "stdout",
       "text": [
        "432\n",
        "2994 "
       ]
      },
      {
       "output_type": "stream",
       "stream": "stdout",
       "text": [
        "435\n",
        "2995 "
       ]
      },
      {
       "output_type": "stream",
       "stream": "stdout",
       "text": [
        "438\n",
        "2996 "
       ]
      },
      {
       "output_type": "stream",
       "stream": "stdout",
       "text": [
        "441\n",
        "2997 "
       ]
      },
      {
       "output_type": "stream",
       "stream": "stdout",
       "text": [
        "444\n",
        "2999 "
       ]
      },
      {
       "output_type": "stream",
       "stream": "stdout",
       "text": [
        "447\n",
        "3000 "
       ]
      },
      {
       "output_type": "stream",
       "stream": "stdout",
       "text": [
        "450\n",
        "3001"
       ]
      },
      {
       "output_type": "stream",
       "stream": "stdout",
       "text": [
        " 453\n",
        "3003 "
       ]
      },
      {
       "output_type": "stream",
       "stream": "stdout",
       "text": [
        "456\n",
        "3005 "
       ]
      },
      {
       "output_type": "stream",
       "stream": "stdout",
       "text": [
        "459\n",
        "3010 "
       ]
      },
      {
       "output_type": "stream",
       "stream": "stdout",
       "text": [
        "462\n",
        "3011 "
       ]
      },
      {
       "output_type": "stream",
       "stream": "stdout",
       "text": [
        "465\n",
        "3012 "
       ]
      },
      {
       "output_type": "stream",
       "stream": "stdout",
       "text": [
        "468\n",
        "3013 "
       ]
      },
      {
       "output_type": "stream",
       "stream": "stdout",
       "text": [
        "471\n",
        "3014 "
       ]
      },
      {
       "output_type": "stream",
       "stream": "stdout",
       "text": [
        "474\n",
        "3015 "
       ]
      },
      {
       "output_type": "stream",
       "stream": "stdout",
       "text": [
        "477\n",
        "3017 "
       ]
      },
      {
       "output_type": "stream",
       "stream": "stdout",
       "text": [
        "480\n",
        "3018 "
       ]
      },
      {
       "output_type": "stream",
       "stream": "stdout",
       "text": [
        "483\n",
        "3020 "
       ]
      },
      {
       "output_type": "stream",
       "stream": "stdout",
       "text": [
        "486\n",
        "3025 "
       ]
      },
      {
       "output_type": "stream",
       "stream": "stdout",
       "text": [
        "489\n",
        "3028 "
       ]
      },
      {
       "output_type": "stream",
       "stream": "stdout",
       "text": [
        "492\n",
        "3030 "
       ]
      },
      {
       "output_type": "stream",
       "stream": "stdout",
       "text": [
        "495\n",
        "3031 "
       ]
      },
      {
       "output_type": "stream",
       "stream": "stdout",
       "text": [
        "498\n",
        "3033 "
       ]
      },
      {
       "output_type": "stream",
       "stream": "stdout",
       "text": [
        "501\n",
        "3035 "
       ]
      },
      {
       "output_type": "stream",
       "stream": "stdout",
       "text": [
        "504\n",
        "3036 "
       ]
      },
      {
       "output_type": "stream",
       "stream": "stdout",
       "text": [
        "507\n",
        "3040 "
       ]
      },
      {
       "output_type": "stream",
       "stream": "stdout",
       "text": [
        "510\n",
        "3041 "
       ]
      },
      {
       "output_type": "stream",
       "stream": "stdout",
       "text": [
        "513\n",
        "3042 "
       ]
      },
      {
       "output_type": "stream",
       "stream": "stdout",
       "text": [
        "516\n",
        "3046 "
       ]
      },
      {
       "output_type": "stream",
       "stream": "stdout",
       "text": [
        "519\n",
        "3047 "
       ]
      },
      {
       "output_type": "stream",
       "stream": "stdout",
       "text": [
        "522\n",
        "3048 "
       ]
      },
      {
       "output_type": "stream",
       "stream": "stdout",
       "text": [
        "525\n",
        "3052 "
       ]
      },
      {
       "output_type": "stream",
       "stream": "stdout",
       "text": [
        "528\n",
        "3054 "
       ]
      },
      {
       "output_type": "stream",
       "stream": "stdout",
       "text": [
        "531\n",
        "3056 "
       ]
      },
      {
       "output_type": "stream",
       "stream": "stdout",
       "text": [
        "534\n",
        "3057 "
       ]
      },
      {
       "output_type": "stream",
       "stream": "stdout",
       "text": [
        "537\n",
        "3058 "
       ]
      },
      {
       "output_type": "stream",
       "stream": "stdout",
       "text": [
        "540\n",
        "3059 "
       ]
      },
      {
       "output_type": "stream",
       "stream": "stdout",
       "text": [
        "543\n",
        "3063 "
       ]
      },
      {
       "output_type": "stream",
       "stream": "stdout",
       "text": [
        "546\n",
        "3064 "
       ]
      },
      {
       "output_type": "stream",
       "stream": "stdout",
       "text": [
        "549\n",
        "3066 "
       ]
      },
      {
       "output_type": "stream",
       "stream": "stdout",
       "text": [
        "552\n",
        "3069 "
       ]
      },
      {
       "output_type": "stream",
       "stream": "stdout",
       "text": [
        "555\n",
        "3072 "
       ]
      },
      {
       "output_type": "stream",
       "stream": "stdout",
       "text": [
        "558\n",
        "3075 "
       ]
      },
      {
       "output_type": "stream",
       "stream": "stdout",
       "text": [
        "561\n",
        "3078 "
       ]
      },
      {
       "output_type": "stream",
       "stream": "stdout",
       "text": [
        "564\n",
        "3079 "
       ]
      },
      {
       "output_type": "stream",
       "stream": "stdout",
       "text": [
        "567\n",
        "3082 "
       ]
      },
      {
       "output_type": "stream",
       "stream": "stdout",
       "text": [
        "570\n",
        "3083 "
       ]
      },
      {
       "output_type": "stream",
       "stream": "stdout",
       "text": [
        "573\n",
        "3084 "
       ]
      },
      {
       "output_type": "stream",
       "stream": "stdout",
       "text": [
        "576\n",
        "3085 "
       ]
      },
      {
       "output_type": "stream",
       "stream": "stdout",
       "text": [
        "579\n",
        "3086 "
       ]
      },
      {
       "output_type": "stream",
       "stream": "stdout",
       "text": [
        "582\n",
        "3087 "
       ]
      },
      {
       "output_type": "stream",
       "stream": "stdout",
       "text": [
        "585\n",
        "3088 "
       ]
      },
      {
       "output_type": "stream",
       "stream": "stdout",
       "text": [
        "588\n",
        "3089 "
       ]
      },
      {
       "output_type": "stream",
       "stream": "stdout",
       "text": [
        "591\n",
        "3090 "
       ]
      },
      {
       "output_type": "stream",
       "stream": "stdout",
       "text": [
        "594\n",
        "3095 "
       ]
      },
      {
       "output_type": "stream",
       "stream": "stdout",
       "text": [
        "597\n",
        "3096 "
       ]
      },
      {
       "output_type": "stream",
       "stream": "stdout",
       "text": [
        "600\n",
        "3097 "
       ]
      },
      {
       "output_type": "stream",
       "stream": "stdout",
       "text": [
        "603\n",
        "3100 "
       ]
      },
      {
       "output_type": "stream",
       "stream": "stdout",
       "text": [
        "606\n",
        "3101 "
       ]
      },
      {
       "output_type": "stream",
       "stream": "stdout",
       "text": [
        "609\n",
        "3102 "
       ]
      },
      {
       "output_type": "stream",
       "stream": "stdout",
       "text": [
        "612\n",
        "3103 "
       ]
      },
      {
       "output_type": "stream",
       "stream": "stdout",
       "text": [
        "615\n",
        "3105 "
       ]
      },
      {
       "output_type": "stream",
       "stream": "stdout",
       "text": [
        "618\n",
        "3106 "
       ]
      },
      {
       "output_type": "stream",
       "stream": "stdout",
       "text": [
        "621\n",
        "3107 "
       ]
      },
      {
       "output_type": "stream",
       "stream": "stdout",
       "text": [
        "624\n",
        "3108 "
       ]
      },
      {
       "output_type": "stream",
       "stream": "stdout",
       "text": [
        "627\n",
        "3112 "
       ]
      },
      {
       "output_type": "stream",
       "stream": "stdout",
       "text": [
        "630\n",
        "3113 "
       ]
      },
      {
       "output_type": "stream",
       "stream": "stdout",
       "text": [
        "633\n",
        "3117 "
       ]
      },
      {
       "output_type": "stream",
       "stream": "stdout",
       "text": [
        "636\n",
        "3119 "
       ]
      },
      {
       "output_type": "stream",
       "stream": "stdout",
       "text": [
        "639\n",
        "3120 "
       ]
      },
      {
       "output_type": "stream",
       "stream": "stdout",
       "text": [
        "642\n",
        "3123 "
       ]
      },
      {
       "output_type": "stream",
       "stream": "stdout",
       "text": [
        "645\n",
        "3125 "
       ]
      },
      {
       "output_type": "stream",
       "stream": "stdout",
       "text": [
        "648\n",
        "3126 "
       ]
      },
      {
       "output_type": "stream",
       "stream": "stdout",
       "text": [
        "651\n",
        "3127 "
       ]
      },
      {
       "output_type": "stream",
       "stream": "stdout",
       "text": [
        "654\n",
        "3130 "
       ]
      },
      {
       "output_type": "stream",
       "stream": "stdout",
       "text": [
        "657\n",
        "3131 "
       ]
      },
      {
       "output_type": "stream",
       "stream": "stdout",
       "text": [
        "660\n",
        "3133 "
       ]
      },
      {
       "output_type": "stream",
       "stream": "stdout",
       "text": [
        "663\n",
        "3135 "
       ]
      },
      {
       "output_type": "stream",
       "stream": "stdout",
       "text": [
        "666\n",
        "3136 "
       ]
      },
      {
       "output_type": "stream",
       "stream": "stdout",
       "text": [
        "669\n",
        "3142 "
       ]
      },
      {
       "output_type": "stream",
       "stream": "stdout",
       "text": [
        "672\n",
        "3144 "
       ]
      },
      {
       "output_type": "stream",
       "stream": "stdout",
       "text": [
        "675\n",
        "3148"
       ]
      },
      {
       "output_type": "stream",
       "stream": "stdout",
       "text": [
        " 678\n",
        "3149 "
       ]
      },
      {
       "output_type": "stream",
       "stream": "stdout",
       "text": [
        "681\n",
        "3150 "
       ]
      },
      {
       "output_type": "stream",
       "stream": "stdout",
       "text": [
        "684\n",
        "3151 "
       ]
      },
      {
       "output_type": "stream",
       "stream": "stdout",
       "text": [
        "687\n",
        "3155 "
       ]
      },
      {
       "output_type": "stream",
       "stream": "stdout",
       "text": [
        "690\n",
        "3156 "
       ]
      },
      {
       "output_type": "stream",
       "stream": "stdout",
       "text": [
        "693\n",
        "3157 "
       ]
      },
      {
       "output_type": "stream",
       "stream": "stdout",
       "text": [
        "696\n",
        "3160 "
       ]
      },
      {
       "output_type": "stream",
       "stream": "stdout",
       "text": [
        "699\n",
        "3161 "
       ]
      },
      {
       "output_type": "stream",
       "stream": "stdout",
       "text": [
        "702\n",
        "3165 "
       ]
      },
      {
       "output_type": "stream",
       "stream": "stdout",
       "text": [
        "705\n",
        "3166 "
       ]
      },
      {
       "output_type": "stream",
       "stream": "stdout",
       "text": [
        "708\n",
        "3168 "
       ]
      },
      {
       "output_type": "stream",
       "stream": "stdout",
       "text": [
        "711\n",
        "3169 "
       ]
      },
      {
       "output_type": "stream",
       "stream": "stdout",
       "text": [
        "714\n",
        "3170 "
       ]
      },
      {
       "output_type": "stream",
       "stream": "stdout",
       "text": [
        "717\n",
        "3171 "
       ]
      },
      {
       "output_type": "stream",
       "stream": "stdout",
       "text": [
        "720\n",
        "3172 "
       ]
      },
      {
       "output_type": "stream",
       "stream": "stdout",
       "text": [
        "723\n",
        "3173 "
       ]
      },
      {
       "output_type": "stream",
       "stream": "stdout",
       "text": [
        "726\n",
        "3174 "
       ]
      },
      {
       "output_type": "stream",
       "stream": "stdout",
       "text": [
        "729\n",
        "3176 "
       ]
      },
      {
       "output_type": "stream",
       "stream": "stdout",
       "text": [
        "732\n",
        "3177 "
       ]
      },
      {
       "output_type": "stream",
       "stream": "stdout",
       "text": [
        "735\n",
        "3178 "
       ]
      },
      {
       "output_type": "stream",
       "stream": "stdout",
       "text": [
        "738\n",
        "3179 "
       ]
      },
      {
       "output_type": "stream",
       "stream": "stdout",
       "text": [
        "741\n",
        "3184 "
       ]
      },
      {
       "output_type": "stream",
       "stream": "stdout",
       "text": [
        "744\n",
        "3187 "
       ]
      },
      {
       "output_type": "stream",
       "stream": "stdout",
       "text": [
        "747\n",
        "3188 "
       ]
      },
      {
       "output_type": "stream",
       "stream": "stdout",
       "text": [
        "750\n",
        "3189 "
       ]
      },
      {
       "output_type": "stream",
       "stream": "stdout",
       "text": [
        "753\n",
        "3190 "
       ]
      },
      {
       "output_type": "stream",
       "stream": "stdout",
       "text": [
        "756\n",
        "3191 "
       ]
      },
      {
       "output_type": "stream",
       "stream": "stdout",
       "text": [
        "759\n",
        "3192 "
       ]
      },
      {
       "output_type": "stream",
       "stream": "stdout",
       "text": [
        "762\n",
        "3193 "
       ]
      },
      {
       "output_type": "stream",
       "stream": "stdout",
       "text": [
        "765\n",
        "3194 "
       ]
      },
      {
       "output_type": "stream",
       "stream": "stdout",
       "text": [
        "768\n",
        "3198 "
       ]
      },
      {
       "output_type": "stream",
       "stream": "stdout",
       "text": [
        "771\n",
        "3200 "
       ]
      },
      {
       "output_type": "stream",
       "stream": "stdout",
       "text": [
        "774\n",
        "3202 "
       ]
      },
      {
       "output_type": "stream",
       "stream": "stdout",
       "text": [
        "777\n",
        "3203 "
       ]
      },
      {
       "output_type": "stream",
       "stream": "stdout",
       "text": [
        "780\n",
        "3205 "
       ]
      },
      {
       "output_type": "stream",
       "stream": "stdout",
       "text": [
        "783\n",
        "3206 "
       ]
      },
      {
       "output_type": "stream",
       "stream": "stdout",
       "text": [
        "786\n",
        "3207 "
       ]
      },
      {
       "output_type": "stream",
       "stream": "stdout",
       "text": [
        "789\n",
        "3208 "
       ]
      },
      {
       "output_type": "stream",
       "stream": "stdout",
       "text": [
        "792\n",
        "3209 "
       ]
      },
      {
       "output_type": "stream",
       "stream": "stdout",
       "text": [
        "795\n",
        "3210 "
       ]
      },
      {
       "output_type": "stream",
       "stream": "stdout",
       "text": [
        "798\n",
        "3211 "
       ]
      },
      {
       "output_type": "stream",
       "stream": "stdout",
       "text": [
        "801\n",
        "3212 "
       ]
      },
      {
       "output_type": "stream",
       "stream": "stdout",
       "text": [
        "804\n",
        "3214 "
       ]
      },
      {
       "output_type": "stream",
       "stream": "stdout",
       "text": [
        "807\n",
        "3215 "
       ]
      },
      {
       "output_type": "stream",
       "stream": "stdout",
       "text": [
        "810\n",
        "3216 "
       ]
      },
      {
       "output_type": "stream",
       "stream": "stdout",
       "text": [
        "813\n",
        "3220 "
       ]
      },
      {
       "output_type": "stream",
       "stream": "stdout",
       "text": [
        "816\n",
        "3222 "
       ]
      },
      {
       "output_type": "stream",
       "stream": "stdout",
       "text": [
        "819\n",
        "3223 "
       ]
      },
      {
       "output_type": "stream",
       "stream": "stdout",
       "text": [
        "822\n",
        "3224 "
       ]
      },
      {
       "output_type": "stream",
       "stream": "stdout",
       "text": [
        "825\n",
        "3225 "
       ]
      },
      {
       "output_type": "stream",
       "stream": "stdout",
       "text": [
        "828\n",
        "3226 "
       ]
      },
      {
       "output_type": "stream",
       "stream": "stdout",
       "text": [
        "831\n",
        "3228 "
       ]
      },
      {
       "output_type": "stream",
       "stream": "stdout",
       "text": [
        "834\n",
        "3235 "
       ]
      },
      {
       "output_type": "stream",
       "stream": "stdout",
       "text": [
        "837\n",
        "3238 "
       ]
      },
      {
       "output_type": "stream",
       "stream": "stdout",
       "text": [
        "840\n",
        "3239 "
       ]
      },
      {
       "output_type": "stream",
       "stream": "stdout",
       "text": [
        "843\n",
        "3240 "
       ]
      },
      {
       "output_type": "stream",
       "stream": "stdout",
       "text": [
        "846\n",
        "3242 "
       ]
      },
      {
       "output_type": "stream",
       "stream": "stdout",
       "text": [
        "849\n",
        "3244 "
       ]
      },
      {
       "output_type": "stream",
       "stream": "stdout",
       "text": [
        "852\n",
        "3246 "
       ]
      },
      {
       "output_type": "stream",
       "stream": "stdout",
       "text": [
        "855\n",
        "3247 "
       ]
      },
      {
       "output_type": "stream",
       "stream": "stdout",
       "text": [
        "858\n",
        "3248 "
       ]
      },
      {
       "output_type": "stream",
       "stream": "stdout",
       "text": [
        "861\n",
        "3251 "
       ]
      },
      {
       "output_type": "stream",
       "stream": "stdout",
       "text": [
        "864\n",
        "3255 "
       ]
      },
      {
       "output_type": "stream",
       "stream": "stdout",
       "text": [
        "867\n",
        "3257 "
       ]
      },
      {
       "output_type": "stream",
       "stream": "stdout",
       "text": [
        "870\n",
        "3258 "
       ]
      },
      {
       "output_type": "stream",
       "stream": "stdout",
       "text": [
        "873\n",
        "3259 "
       ]
      },
      {
       "output_type": "stream",
       "stream": "stdout",
       "text": [
        "876\n",
        "3261 "
       ]
      },
      {
       "output_type": "stream",
       "stream": "stdout",
       "text": [
        "879\n",
        "3262 "
       ]
      },
      {
       "output_type": "stream",
       "stream": "stdout",
       "text": [
        "882\n",
        "3264 "
       ]
      },
      {
       "output_type": "stream",
       "stream": "stdout",
       "text": [
        "885\n",
        "3267 "
       ]
      },
      {
       "output_type": "stream",
       "stream": "stdout",
       "text": [
        "888\n",
        "3270 "
       ]
      },
      {
       "output_type": "stream",
       "stream": "stdout",
       "text": [
        "891\n",
        "3271 "
       ]
      },
      {
       "output_type": "stream",
       "stream": "stdout",
       "text": [
        "894\n",
        "3273 "
       ]
      },
      {
       "output_type": "stream",
       "stream": "stdout",
       "text": [
        "897\n",
        "3274 "
       ]
      },
      {
       "output_type": "stream",
       "stream": "stdout",
       "text": [
        "900\n",
        "3276"
       ]
      },
      {
       "output_type": "stream",
       "stream": "stdout",
       "text": [
        " 903\n",
        "3277 "
       ]
      },
      {
       "output_type": "stream",
       "stream": "stdout",
       "text": [
        "906\n",
        "3278 "
       ]
      },
      {
       "output_type": "stream",
       "stream": "stdout",
       "text": [
        "909\n",
        "3279 "
       ]
      },
      {
       "output_type": "stream",
       "stream": "stdout",
       "text": [
        "912\n",
        "3280 "
       ]
      },
      {
       "output_type": "stream",
       "stream": "stdout",
       "text": [
        "915\n",
        "3282 "
       ]
      },
      {
       "output_type": "stream",
       "stream": "stdout",
       "text": [
        "918\n",
        "3283 "
       ]
      },
      {
       "output_type": "stream",
       "stream": "stdout",
       "text": [
        "921\n",
        "3287 "
       ]
      },
      {
       "output_type": "stream",
       "stream": "stdout",
       "text": [
        "924\n",
        "3293 "
       ]
      },
      {
       "output_type": "stream",
       "stream": "stdout",
       "text": [
        "927\n",
        "3294 "
       ]
      },
      {
       "output_type": "stream",
       "stream": "stdout",
       "text": [
        "930\n",
        "3296 "
       ]
      },
      {
       "output_type": "stream",
       "stream": "stdout",
       "text": [
        "933\n",
        "3300 "
       ]
      },
      {
       "output_type": "stream",
       "stream": "stdout",
       "text": [
        "936\n",
        "3302 "
       ]
      },
      {
       "output_type": "stream",
       "stream": "stdout",
       "text": [
        "939\n",
        "3303 "
       ]
      },
      {
       "output_type": "stream",
       "stream": "stdout",
       "text": [
        "942\n",
        "3304 "
       ]
      },
      {
       "output_type": "stream",
       "stream": "stdout",
       "text": [
        "945\n",
        "3305 "
       ]
      },
      {
       "output_type": "stream",
       "stream": "stdout",
       "text": [
        "948\n",
        "3308 "
       ]
      },
      {
       "output_type": "stream",
       "stream": "stdout",
       "text": [
        "951\n",
        "3310 "
       ]
      },
      {
       "output_type": "stream",
       "stream": "stdout",
       "text": [
        "954\n",
        "3312 "
       ]
      },
      {
       "output_type": "stream",
       "stream": "stdout",
       "text": [
        "957\n",
        "3314 "
       ]
      },
      {
       "output_type": "stream",
       "stream": "stdout",
       "text": [
        "960\n",
        "3315 "
       ]
      },
      {
       "output_type": "stream",
       "stream": "stdout",
       "text": [
        "963\n",
        "3316 "
       ]
      },
      {
       "output_type": "stream",
       "stream": "stdout",
       "text": [
        "966\n",
        "3319 "
       ]
      },
      {
       "output_type": "stream",
       "stream": "stdout",
       "text": [
        "969\n",
        "3323 "
       ]
      },
      {
       "output_type": "stream",
       "stream": "stdout",
       "text": [
        "972\n",
        "3324 "
       ]
      },
      {
       "output_type": "stream",
       "stream": "stdout",
       "text": [
        "975\n",
        "3328 "
       ]
      },
      {
       "output_type": "stream",
       "stream": "stdout",
       "text": [
        "978\n",
        "3330 "
       ]
      },
      {
       "output_type": "stream",
       "stream": "stdout",
       "text": [
        "981\n",
        "3331 "
       ]
      },
      {
       "output_type": "stream",
       "stream": "stdout",
       "text": [
        "984\n",
        "3332 "
       ]
      },
      {
       "output_type": "stream",
       "stream": "stdout",
       "text": [
        "987\n",
        "3334 "
       ]
      },
      {
       "output_type": "stream",
       "stream": "stdout",
       "text": [
        "990\n",
        "3335 "
       ]
      },
      {
       "output_type": "stream",
       "stream": "stdout",
       "text": [
        "993\n",
        "3336 "
       ]
      },
      {
       "output_type": "stream",
       "stream": "stdout",
       "text": [
        "996\n",
        "3340 "
       ]
      },
      {
       "output_type": "stream",
       "stream": "stdout",
       "text": [
        "999\n",
        "3342 "
       ]
      },
      {
       "output_type": "stream",
       "stream": "stdout",
       "text": [
        "1002\n",
        "3343 "
       ]
      },
      {
       "output_type": "stream",
       "stream": "stdout",
       "text": [
        "1005\n",
        "3346 "
       ]
      },
      {
       "output_type": "stream",
       "stream": "stdout",
       "text": [
        "1008\n",
        "3349 "
       ]
      },
      {
       "output_type": "stream",
       "stream": "stdout",
       "text": [
        "1011\n",
        "3350 "
       ]
      },
      {
       "output_type": "stream",
       "stream": "stdout",
       "text": [
        "1014\n",
        "3351 "
       ]
      },
      {
       "output_type": "stream",
       "stream": "stdout",
       "text": [
        "1017\n",
        "3352 "
       ]
      },
      {
       "output_type": "stream",
       "stream": "stdout",
       "text": [
        "1020\n",
        "3355 "
       ]
      },
      {
       "output_type": "stream",
       "stream": "stdout",
       "text": [
        "1023\n",
        "3356 "
       ]
      },
      {
       "output_type": "stream",
       "stream": "stdout",
       "text": [
        "1026\n",
        "3359 "
       ]
      },
      {
       "output_type": "stream",
       "stream": "stdout",
       "text": [
        "1029\n",
        "3362 "
       ]
      },
      {
       "output_type": "stream",
       "stream": "stdout",
       "text": [
        "1032\n",
        "3363 "
       ]
      },
      {
       "output_type": "stream",
       "stream": "stdout",
       "text": [
        "1035\n",
        "3366 "
       ]
      },
      {
       "output_type": "stream",
       "stream": "stdout",
       "text": [
        "1038\n",
        "3368 "
       ]
      },
      {
       "output_type": "stream",
       "stream": "stdout",
       "text": [
        "1041\n",
        "3369 "
       ]
      },
      {
       "output_type": "stream",
       "stream": "stdout",
       "text": [
        "1044\n",
        "3370 "
       ]
      },
      {
       "output_type": "stream",
       "stream": "stdout",
       "text": [
        "1047\n",
        "3371 "
       ]
      },
      {
       "output_type": "stream",
       "stream": "stdout",
       "text": [
        "1050\n",
        "3372 "
       ]
      },
      {
       "output_type": "stream",
       "stream": "stdout",
       "text": [
        "1053\n",
        "3374 "
       ]
      },
      {
       "output_type": "stream",
       "stream": "stdout",
       "text": [
        "1056\n",
        "3375 "
       ]
      },
      {
       "output_type": "stream",
       "stream": "stdout",
       "text": [
        "1059\n",
        "3376 "
       ]
      },
      {
       "output_type": "stream",
       "stream": "stdout",
       "text": [
        "1062\n",
        "3377 "
       ]
      },
      {
       "output_type": "stream",
       "stream": "stdout",
       "text": [
        "1065\n",
        "3378 "
       ]
      },
      {
       "output_type": "stream",
       "stream": "stdout",
       "text": [
        "1068\n",
        "3379 "
       ]
      },
      {
       "output_type": "stream",
       "stream": "stdout",
       "text": [
        "1071\n",
        "3381 "
       ]
      },
      {
       "output_type": "stream",
       "stream": "stdout",
       "text": [
        "1074\n",
        "3385 "
       ]
      },
      {
       "output_type": "stream",
       "stream": "stdout",
       "text": [
        "1077\n",
        "3386 "
       ]
      },
      {
       "output_type": "stream",
       "stream": "stdout",
       "text": [
        "1080\n",
        "3387 "
       ]
      },
      {
       "output_type": "stream",
       "stream": "stdout",
       "text": [
        "1083\n",
        "3388 "
       ]
      },
      {
       "output_type": "stream",
       "stream": "stdout",
       "text": [
        "1086\n",
        "3389 "
       ]
      },
      {
       "output_type": "stream",
       "stream": "stdout",
       "text": [
        "1089\n",
        "3391 "
       ]
      },
      {
       "output_type": "stream",
       "stream": "stdout",
       "text": [
        "1092\n",
        "3392 "
       ]
      },
      {
       "output_type": "stream",
       "stream": "stdout",
       "text": [
        "1095\n",
        "3396 "
       ]
      },
      {
       "output_type": "stream",
       "stream": "stdout",
       "text": [
        "1098\n",
        "3398 "
       ]
      },
      {
       "output_type": "stream",
       "stream": "stdout",
       "text": [
        "1101\n",
        "3399 "
       ]
      },
      {
       "output_type": "stream",
       "stream": "stdout",
       "text": [
        "1104\n",
        "3403 "
       ]
      },
      {
       "output_type": "stream",
       "stream": "stdout",
       "text": [
        "1107\n",
        "3404 "
       ]
      },
      {
       "output_type": "stream",
       "stream": "stdout",
       "text": [
        "1110\n",
        "3405 "
       ]
      },
      {
       "output_type": "stream",
       "stream": "stdout",
       "text": [
        "1113\n",
        "3406 "
       ]
      },
      {
       "output_type": "stream",
       "stream": "stdout",
       "text": [
        "1116\n",
        "3407 "
       ]
      },
      {
       "output_type": "stream",
       "stream": "stdout",
       "text": [
        "1119\n",
        "3408 "
       ]
      },
      {
       "output_type": "stream",
       "stream": "stdout",
       "text": [
        "1122\n",
        "3409 "
       ]
      },
      {
       "output_type": "stream",
       "stream": "stdout",
       "text": [
        "1125\n",
        "3410"
       ]
      },
      {
       "output_type": "stream",
       "stream": "stdout",
       "text": [
        " 1128\n",
        "3411 "
       ]
      },
      {
       "output_type": "stream",
       "stream": "stdout",
       "text": [
        "1131\n",
        "3413 "
       ]
      },
      {
       "output_type": "stream",
       "stream": "stdout",
       "text": [
        "1134\n",
        "3414 "
       ]
      },
      {
       "output_type": "stream",
       "stream": "stdout",
       "text": [
        "1137\n",
        "3417 "
       ]
      },
      {
       "output_type": "stream",
       "stream": "stdout",
       "text": [
        "1140\n",
        "3418 "
       ]
      },
      {
       "output_type": "stream",
       "stream": "stdout",
       "text": [
        "1143\n",
        "3422 "
       ]
      },
      {
       "output_type": "stream",
       "stream": "stdout",
       "text": [
        "1146\n",
        "3423 "
       ]
      },
      {
       "output_type": "stream",
       "stream": "stdout",
       "text": [
        "1149\n",
        "3424 "
       ]
      },
      {
       "output_type": "stream",
       "stream": "stdout",
       "text": [
        "1152\n",
        "3426 "
       ]
      },
      {
       "output_type": "stream",
       "stream": "stdout",
       "text": [
        "1155\n",
        "3428 "
       ]
      },
      {
       "output_type": "stream",
       "stream": "stdout",
       "text": [
        "1158\n",
        "3430 "
       ]
      },
      {
       "output_type": "stream",
       "stream": "stdout",
       "text": [
        "1161\n",
        "3431 "
       ]
      },
      {
       "output_type": "stream",
       "stream": "stdout",
       "text": [
        "1164\n",
        "3432 "
       ]
      },
      {
       "output_type": "stream",
       "stream": "stdout",
       "text": [
        "1167\n",
        "3434 "
       ]
      },
      {
       "output_type": "stream",
       "stream": "stdout",
       "text": [
        "1170\n",
        "3435 "
       ]
      },
      {
       "output_type": "stream",
       "stream": "stdout",
       "text": [
        "1173\n",
        "3438 "
       ]
      },
      {
       "output_type": "stream",
       "stream": "stdout",
       "text": [
        "1176\n",
        "3439 "
       ]
      },
      {
       "output_type": "stream",
       "stream": "stdout",
       "text": [
        "1179\n",
        "3440 "
       ]
      },
      {
       "output_type": "stream",
       "stream": "stdout",
       "text": [
        "1182\n",
        "3441 "
       ]
      },
      {
       "output_type": "stream",
       "stream": "stdout",
       "text": [
        "1185\n",
        "3445 "
       ]
      },
      {
       "output_type": "stream",
       "stream": "stdout",
       "text": [
        "1188\n",
        "3447 "
       ]
      },
      {
       "output_type": "stream",
       "stream": "stdout",
       "text": [
        "1191\n",
        "3449 "
       ]
      },
      {
       "output_type": "stream",
       "stream": "stdout",
       "text": [
        "1194\n",
        "3456 "
       ]
      },
      {
       "output_type": "stream",
       "stream": "stdout",
       "text": [
        "1197\n",
        "3457 "
       ]
      },
      {
       "output_type": "stream",
       "stream": "stdout",
       "text": [
        "1200\n",
        "3458 "
       ]
      },
      {
       "output_type": "stream",
       "stream": "stdout",
       "text": [
        "1203\n",
        "3459 "
       ]
      },
      {
       "output_type": "stream",
       "stream": "stdout",
       "text": [
        "1206\n",
        "3460 "
       ]
      },
      {
       "output_type": "stream",
       "stream": "stdout",
       "text": [
        "1209\n",
        "3463 "
       ]
      },
      {
       "output_type": "stream",
       "stream": "stdout",
       "text": [
        "1212\n",
        "3466 "
       ]
      },
      {
       "output_type": "stream",
       "stream": "stdout",
       "text": [
        "1215\n",
        "3467 "
       ]
      },
      {
       "output_type": "stream",
       "stream": "stdout",
       "text": [
        "1218\n",
        "3471 "
       ]
      },
      {
       "output_type": "stream",
       "stream": "stdout",
       "text": [
        "1221\n",
        "3472 "
       ]
      },
      {
       "output_type": "stream",
       "stream": "stdout",
       "text": [
        "1224\n",
        "3473 "
       ]
      },
      {
       "output_type": "stream",
       "stream": "stdout",
       "text": [
        "1227\n",
        "3476 "
       ]
      },
      {
       "output_type": "stream",
       "stream": "stdout",
       "text": [
        "1230\n",
        "3477 "
       ]
      },
      {
       "output_type": "stream",
       "stream": "stdout",
       "text": [
        "1233\n",
        "3478 "
       ]
      },
      {
       "output_type": "stream",
       "stream": "stdout",
       "text": [
        "1236\n",
        "3479 "
       ]
      },
      {
       "output_type": "stream",
       "stream": "stdout",
       "text": [
        "1239\n",
        "3480 "
       ]
      },
      {
       "output_type": "stream",
       "stream": "stdout",
       "text": [
        "1242\n",
        "3481 "
       ]
      },
      {
       "output_type": "stream",
       "stream": "stdout",
       "text": [
        "1245\n",
        "3485 "
       ]
      },
      {
       "output_type": "stream",
       "stream": "stdout",
       "text": [
        "1248\n",
        "3486 "
       ]
      },
      {
       "output_type": "stream",
       "stream": "stdout",
       "text": [
        "1251\n",
        "3487 "
       ]
      },
      {
       "output_type": "stream",
       "stream": "stdout",
       "text": [
        "1254\n",
        "3489 "
       ]
      },
      {
       "output_type": "stream",
       "stream": "stdout",
       "text": [
        "1257\n",
        "3492 "
       ]
      },
      {
       "output_type": "stream",
       "stream": "stdout",
       "text": [
        "1260\n",
        "3494 "
       ]
      },
      {
       "output_type": "stream",
       "stream": "stdout",
       "text": [
        "1263\n",
        "3495 "
       ]
      },
      {
       "output_type": "stream",
       "stream": "stdout",
       "text": [
        "1266\n",
        "3496 "
       ]
      },
      {
       "output_type": "stream",
       "stream": "stdout",
       "text": [
        "1269\n",
        "3498 "
       ]
      },
      {
       "output_type": "stream",
       "stream": "stdout",
       "text": [
        "1272\n",
        "3500 "
       ]
      },
      {
       "output_type": "stream",
       "stream": "stdout",
       "text": [
        "1275\n",
        "3504 "
       ]
      },
      {
       "output_type": "stream",
       "stream": "stdout",
       "text": [
        "1278\n",
        "3507 "
       ]
      },
      {
       "output_type": "stream",
       "stream": "stdout",
       "text": [
        "1281\n",
        "3511 "
       ]
      },
      {
       "output_type": "stream",
       "stream": "stdout",
       "text": [
        "1284\n",
        "3512 "
       ]
      },
      {
       "output_type": "stream",
       "stream": "stdout",
       "text": [
        "1287\n",
        "3513 "
       ]
      },
      {
       "output_type": "stream",
       "stream": "stdout",
       "text": [
        "1290\n",
        "3514 "
       ]
      },
      {
       "output_type": "stream",
       "stream": "stdout",
       "text": [
        "1293\n",
        "3515 "
       ]
      },
      {
       "output_type": "stream",
       "stream": "stdout",
       "text": [
        "1296\n",
        "3516 "
       ]
      },
      {
       "output_type": "stream",
       "stream": "stdout",
       "text": [
        "1299\n",
        "3517 "
       ]
      },
      {
       "output_type": "stream",
       "stream": "stdout",
       "text": [
        "1302\n",
        "3519 "
       ]
      },
      {
       "output_type": "stream",
       "stream": "stdout",
       "text": [
        "1305\n",
        "3520 "
       ]
      },
      {
       "output_type": "stream",
       "stream": "stdout",
       "text": [
        "1308\n",
        "3522 "
       ]
      },
      {
       "output_type": "stream",
       "stream": "stdout",
       "text": [
        "1311\n",
        "3526 "
       ]
      },
      {
       "output_type": "stream",
       "stream": "stdout",
       "text": [
        "1314\n",
        "3527 "
       ]
      },
      {
       "output_type": "stream",
       "stream": "stdout",
       "text": [
        "1317\n",
        "3528 "
       ]
      },
      {
       "output_type": "stream",
       "stream": "stdout",
       "text": [
        "1320\n",
        "3529 "
       ]
      },
      {
       "output_type": "stream",
       "stream": "stdout",
       "text": [
        "1323\n",
        "3530 "
       ]
      },
      {
       "output_type": "stream",
       "stream": "stdout",
       "text": [
        "1326\n",
        "3531 "
       ]
      },
      {
       "output_type": "stream",
       "stream": "stdout",
       "text": [
        "1329\n",
        "3532 "
       ]
      },
      {
       "output_type": "stream",
       "stream": "stdout",
       "text": [
        "1332\n",
        "3534 "
       ]
      },
      {
       "output_type": "stream",
       "stream": "stdout",
       "text": [
        "1335\n",
        "3535 "
       ]
      },
      {
       "output_type": "stream",
       "stream": "stdout",
       "text": [
        "1338\n",
        "3538 "
       ]
      },
      {
       "output_type": "stream",
       "stream": "stdout",
       "text": [
        "1341\n",
        "3539 "
       ]
      },
      {
       "output_type": "stream",
       "stream": "stdout",
       "text": [
        "1344\n",
        "3540 "
       ]
      },
      {
       "output_type": "stream",
       "stream": "stdout",
       "text": [
        "1347\n",
        "3543 "
       ]
      },
      {
       "output_type": "stream",
       "stream": "stdout",
       "text": [
        "1350\n",
        "3544"
       ]
      },
      {
       "output_type": "stream",
       "stream": "stdout",
       "text": [
        " 1353\n",
        "3548 "
       ]
      },
      {
       "output_type": "stream",
       "stream": "stdout",
       "text": [
        "1356\n",
        "3550 "
       ]
      },
      {
       "output_type": "stream",
       "stream": "stdout",
       "text": [
        "1359\n",
        "3551 "
       ]
      },
      {
       "output_type": "stream",
       "stream": "stdout",
       "text": [
        "1362\n",
        "3552 "
       ]
      },
      {
       "output_type": "stream",
       "stream": "stdout",
       "text": [
        "1365\n",
        "3558 "
       ]
      },
      {
       "output_type": "stream",
       "stream": "stdout",
       "text": [
        "1368\n",
        "3561 "
       ]
      },
      {
       "output_type": "stream",
       "stream": "stdout",
       "text": [
        "1371\n",
        "3563 "
       ]
      },
      {
       "output_type": "stream",
       "stream": "stdout",
       "text": [
        "1374\n",
        "3564 "
       ]
      },
      {
       "output_type": "stream",
       "stream": "stdout",
       "text": [
        "1377\n",
        "3566 "
       ]
      },
      {
       "output_type": "stream",
       "stream": "stdout",
       "text": [
        "1380\n",
        "3567 "
       ]
      },
      {
       "output_type": "stream",
       "stream": "stdout",
       "text": [
        "1383\n",
        "3569 "
       ]
      },
      {
       "output_type": "stream",
       "stream": "stdout",
       "text": [
        "1386\n",
        "3570 "
       ]
      },
      {
       "output_type": "stream",
       "stream": "stdout",
       "text": [
        "1389\n",
        "3571 "
       ]
      },
      {
       "output_type": "stream",
       "stream": "stdout",
       "text": [
        "1392\n",
        "3572 "
       ]
      },
      {
       "output_type": "stream",
       "stream": "stdout",
       "text": [
        "1395\n",
        "3574 "
       ]
      },
      {
       "output_type": "stream",
       "stream": "stdout",
       "text": [
        "1398\n",
        "3575 "
       ]
      },
      {
       "output_type": "stream",
       "stream": "stdout",
       "text": [
        "1401\n",
        "3576 "
       ]
      },
      {
       "output_type": "stream",
       "stream": "stdout",
       "text": [
        "1404\n",
        "3578 "
       ]
      },
      {
       "output_type": "stream",
       "stream": "stdout",
       "text": [
        "1407\n",
        "3579 "
       ]
      },
      {
       "output_type": "stream",
       "stream": "stdout",
       "text": [
        "1410\n",
        "3580 "
       ]
      },
      {
       "output_type": "stream",
       "stream": "stdout",
       "text": [
        "1413\n",
        "3581 "
       ]
      },
      {
       "output_type": "stream",
       "stream": "stdout",
       "text": [
        "1416\n",
        "3582 "
       ]
      },
      {
       "output_type": "stream",
       "stream": "stdout",
       "text": [
        "1419\n",
        "3583 "
       ]
      },
      {
       "output_type": "stream",
       "stream": "stdout",
       "text": [
        "1422\n",
        "3584 "
       ]
      },
      {
       "output_type": "stream",
       "stream": "stdout",
       "text": [
        "1425\n",
        "3585 "
       ]
      },
      {
       "output_type": "stream",
       "stream": "stdout",
       "text": [
        "1428\n",
        "3586 "
       ]
      },
      {
       "output_type": "stream",
       "stream": "stdout",
       "text": [
        "1431\n",
        "3587 "
       ]
      },
      {
       "output_type": "stream",
       "stream": "stdout",
       "text": [
        "1434\n",
        "3588 "
       ]
      },
      {
       "output_type": "stream",
       "stream": "stdout",
       "text": [
        "1437\n",
        "3589 "
       ]
      },
      {
       "output_type": "stream",
       "stream": "stdout",
       "text": [
        "1440\n",
        "3590 "
       ]
      },
      {
       "output_type": "stream",
       "stream": "stdout",
       "text": [
        "1443\n",
        "3593 "
       ]
      },
      {
       "output_type": "stream",
       "stream": "stdout",
       "text": [
        "1446\n",
        "3594 "
       ]
      },
      {
       "output_type": "stream",
       "stream": "stdout",
       "text": [
        "1449\n",
        "3597 "
       ]
      },
      {
       "output_type": "stream",
       "stream": "stdout",
       "text": [
        "1452\n",
        "3598 "
       ]
      },
      {
       "output_type": "stream",
       "stream": "stdout",
       "text": [
        "1455\n",
        "3602 "
       ]
      },
      {
       "output_type": "stream",
       "stream": "stdout",
       "text": [
        "1458\n",
        "3603 "
       ]
      },
      {
       "output_type": "stream",
       "stream": "stdout",
       "text": [
        "1461\n",
        "3604 "
       ]
      },
      {
       "output_type": "stream",
       "stream": "stdout",
       "text": [
        "1464\n",
        "3608 "
       ]
      },
      {
       "output_type": "stream",
       "stream": "stdout",
       "text": [
        "1467\n",
        "3609 "
       ]
      },
      {
       "output_type": "stream",
       "stream": "stdout",
       "text": [
        "1470\n",
        "3610 "
       ]
      },
      {
       "output_type": "stream",
       "stream": "stdout",
       "text": [
        "1473\n",
        "3611 "
       ]
      },
      {
       "output_type": "stream",
       "stream": "stdout",
       "text": [
        "1476\n",
        "3612 "
       ]
      },
      {
       "output_type": "stream",
       "stream": "stdout",
       "text": [
        "1479\n",
        "3614 "
       ]
      },
      {
       "output_type": "stream",
       "stream": "stdout",
       "text": [
        "1482\n"
       ]
      }
     ],
     "prompt_number": 433
    },
    {
     "cell_type": "code",
     "collapsed": false,
     "input": [
      "len( assignments )"
     ],
     "language": "python",
     "metadata": {},
     "outputs": [
      {
       "metadata": {},
       "output_type": "pyout",
       "prompt_number": 435,
       "text": [
        "1482"
       ]
      }
     ],
     "prompt_number": 435
    },
    {
     "cell_type": "markdown",
     "metadata": {},
     "source": [
      "# Approve assignments"
     ]
    },
    {
     "cell_type": "code",
     "collapsed": false,
     "input": [
      "#assignment_ids = answer_df['assignment_id'].unique()\n",
      "#print len( assignment_ids )"
     ],
     "language": "python",
     "metadata": {},
     "outputs": [
      {
       "output_type": "stream",
       "stream": "stdout",
       "text": [
        "539\n"
       ]
      }
     ],
     "prompt_number": 73
    },
    {
     "cell_type": "code",
     "collapsed": false,
     "input": [
      "#ass = MTC.get_assignment( assignment_ids[0] )[0]\n",
      "#ass.AssignmentStatus"
     ],
     "language": "python",
     "metadata": {},
     "outputs": [
      {
       "metadata": {},
       "output_type": "pyout",
       "prompt_number": 80,
       "text": [
        "u'Approved'"
       ]
      }
     ],
     "prompt_number": 80
    },
    {
     "cell_type": "code",
     "collapsed": false,
     "input": [
      "# for ass_id in assignment_ids:\n",
      "\n",
      "#     try:\n",
      "#         MTC.approve_assignment( ass_id )\n",
      "#     except MTurkRequestError:\n",
      "#         pass"
     ],
     "language": "python",
     "metadata": {},
     "outputs": [],
     "prompt_number": 82
    },
    {
     "cell_type": "code",
     "collapsed": false,
     "input": [
      "#for assign in assignments:\n",
      "#    if assign.AssignmentStatus != 'Approved':\n",
      "#        MTC.approve_assignment( assign.AssignmentId )"
     ],
     "language": "python",
     "metadata": {},
     "outputs": [],
     "prompt_number": 264
    },
    {
     "cell_type": "markdown",
     "metadata": {},
     "source": [
      "# ETL"
     ]
    },
    {
     "cell_type": "code",
     "collapsed": false,
     "input": [
      "data = []\n",
      "indices = []"
     ],
     "language": "python",
     "metadata": {},
     "outputs": [],
     "prompt_number": 436
    },
    {
     "cell_type": "code",
     "collapsed": false,
     "input": [
      "for assign in assignments:\n",
      "    for answer in assign.answers[0]:\n",
      "    \n",
      "        qid    = answer.qid\n",
      "        fields = answer.fields\n",
      "        \n",
      "        if qid == 'workerId' or qid == 'Submit':\n",
      "            continue\n",
      "\n",
      "        qparts    = qid.split('_') \n",
      "        index     = qparts[0]\n",
      "\n",
      "        style_tag = qparts[-1]\n",
      "        style_tag = 'tagged_' + style_dict[ style_tag ].replace( ' ', '_' )\n",
      "        \n",
      "        response = fields[0] == 'yes'\n",
      "    \n",
      "        d = {\n",
      "        'hit_id'         : assign.HITId,\n",
      "        'assignment_id' : assign.AssignmentId,\n",
      "        'worker_id'      : assign.WorkerId,\n",
      "        style_tag        : response\n",
      "        }\n",
      "    \n",
      "        data += [ d ]\n",
      "        indices += [ index ]"
     ],
     "language": "python",
     "metadata": {},
     "outputs": [],
     "prompt_number": 437
    },
    {
     "cell_type": "code",
     "collapsed": false,
     "input": [
      "print len(data)\n",
      "print len(indices)"
     ],
     "language": "python",
     "metadata": {},
     "outputs": [
      {
       "output_type": "stream",
       "stream": "stdout",
       "text": [
        "17783\n",
        "17783\n"
       ]
      }
     ],
     "prompt_number": 438
    },
    {
     "cell_type": "code",
     "collapsed": false,
     "input": [
      "new_answer_df = pd.DataFrame( data, index=indices )"
     ],
     "language": "python",
     "metadata": {},
     "outputs": [],
     "prompt_number": 439
    },
    {
     "cell_type": "code",
     "collapsed": false,
     "input": [
      "print len( new_answer_df )"
     ],
     "language": "python",
     "metadata": {},
     "outputs": [
      {
       "output_type": "stream",
       "stream": "stdout",
       "text": [
        "17783\n"
       ]
      }
     ],
     "prompt_number": 440
    },
    {
     "cell_type": "code",
     "collapsed": false,
     "input": [
      "new_answer_df.ix[1]"
     ],
     "language": "python",
     "metadata": {},
     "outputs": [
      {
       "metadata": {},
       "output_type": "pyout",
       "prompt_number": 441,
       "text": [
        "assignment_id                   3E4GGUZ1T8QNM1Q77C1NR1IMBC92KJ\n",
        "hit_id                          3SBX2M1TKCMHEY5VYTZ6RIVAQ67Q4D\n",
        "tagged_Bright                                              NaN\n",
        "tagged_Depth_of_Field                                      NaN\n",
        "tagged_Detailed                                            NaN\n",
        "tagged_Ethereal                                            NaN\n",
        "tagged_Geometric_Composition                               NaN\n",
        "tagged_HDR                                                 NaN\n",
        "tagged_Hazy                                                NaN\n",
        "tagged_Horror                                              NaN\n",
        "tagged_Long_Exposure                                       NaN\n",
        "tagged_Macro                                               NaN\n",
        "tagged_Melancholy                                          NaN\n",
        "tagged_Minimal                                             NaN\n",
        "tagged_Noir                                                NaN\n",
        "tagged_Pastel                                              NaN\n",
        "tagged_Romantic                                            NaN\n",
        "tagged_Serene                                              NaN\n",
        "tagged_Sunny                                              True\n",
        "tagged_Vintage                                             NaN\n",
        "worker_id                                       A28AZ6BD1D01A1\n",
        "Name: 11433844095, dtype: object"
       ]
      }
     ],
     "prompt_number": 441
    },
    {
     "cell_type": "code",
     "collapsed": false,
     "input": [
      "print len( answer_df )\n",
      "print len( new_answer_df )"
     ],
     "language": "python",
     "metadata": {},
     "outputs": [
      {
       "output_type": "stream",
       "stream": "stdout",
       "text": [
        "84013\n",
        "17783\n"
       ]
      }
     ],
     "prompt_number": 442
    },
    {
     "cell_type": "code",
     "collapsed": false,
     "input": [
      "answer_df = pd.concat( [ answer_df, new_answer_df ] )"
     ],
     "language": "python",
     "metadata": {},
     "outputs": [],
     "prompt_number": 443
    },
    {
     "cell_type": "code",
     "collapsed": false,
     "input": [
      "print len( answer_df )"
     ],
     "language": "python",
     "metadata": {},
     "outputs": [
      {
       "output_type": "stream",
       "stream": "stdout",
       "text": [
        "101796\n"
       ]
      }
     ],
     "prompt_number": 444
    },
    {
     "cell_type": "code",
     "collapsed": false,
     "input": [
      "answer_df.ix[-1]"
     ],
     "language": "python",
     "metadata": {},
     "outputs": [
      {
       "metadata": {},
       "output_type": "pyout",
       "prompt_number": 445,
       "text": [
        "assignment_id                   3KV0LJBBH2KZG97V7ET47MIYC96RME\n",
        "hit_id                          3Z3R5YC0P2M44UUCZEPKNR3OZ3HFT6\n",
        "tagged_Bright                                              NaN\n",
        "tagged_Depth_of_Field                                      NaN\n",
        "tagged_Detailed                                            NaN\n",
        "tagged_Ethereal                                            NaN\n",
        "tagged_Geometric_Composition                               NaN\n",
        "tagged_HDR                                                 NaN\n",
        "tagged_Hazy                                                NaN\n",
        "tagged_Horror                                              NaN\n",
        "tagged_Long_Exposure                                       NaN\n",
        "tagged_Macro                                               NaN\n",
        "tagged_Melancholy                                          NaN\n",
        "tagged_Minimal                                             NaN\n",
        "tagged_Noir                                                NaN\n",
        "tagged_Pastel                                              NaN\n",
        "tagged_Romantic                                          False\n",
        "tagged_Serene                                              NaN\n",
        "tagged_Sunny                                               NaN\n",
        "tagged_Vintage                                             NaN\n",
        "worker_id                                       A1LJKHC0NH9TIX\n",
        "Name: 11427660036, dtype: object"
       ]
      }
     ],
     "prompt_number": 445
    },
    {
     "cell_type": "code",
     "collapsed": false,
     "input": [
      "'{}'.format( datetime.datetime.now().isoformat()[:-7] )"
     ],
     "language": "python",
     "metadata": {},
     "outputs": [
      {
       "metadata": {},
       "output_type": "pyout",
       "prompt_number": 446,
       "text": [
        "'2014-05-07T18:07:17'"
       ]
      }
     ],
     "prompt_number": 446
    },
    {
     "cell_type": "code",
     "collapsed": false,
     "input": [
      "import shutil\n",
      "import datetime\n",
      "oldfn = '../../mturk-results/mturk-answers.h5'\n",
      "newfn = '../../mturk-results/mturk-answers-{}.h5'.format( datetime.datetime.now().isoformat()[:-7] )\n",
      "shutil.copyfile( oldfn, newfn )"
     ],
     "language": "python",
     "metadata": {},
     "outputs": [],
     "prompt_number": 447
    },
    {
     "cell_type": "code",
     "collapsed": false,
     "input": [
      "answer_df.to_hdf( '../../mturk-results/mturk-answers.h5', 'df', mode='w')"
     ],
     "language": "python",
     "metadata": {},
     "outputs": [],
     "prompt_number": 448
    },
    {
     "cell_type": "code",
     "collapsed": false,
     "input": [
      "len( answer_df )"
     ],
     "language": "python",
     "metadata": {},
     "outputs": [
      {
       "metadata": {},
       "output_type": "pyout",
       "prompt_number": 449,
       "text": [
        "101796"
       ]
      }
     ],
     "prompt_number": 449
    },
    {
     "cell_type": "markdown",
     "metadata": {},
     "source": [
      "# Spam rejection"
     ]
    },
    {
     "cell_type": "code",
     "collapsed": false,
     "input": [
      "def test_spam( group ):\n",
      "    # if earlier HIT without spam rejection, accept\n",
      "    if len( group ) == 10:\n",
      "        return group\n",
      "#         return group.drop( group.index )\n",
      "    \n",
      "    # get the tagged_ column for the group, convert to style\n",
      "    tn = assignment_df_tag( group )[0]\n",
      "    sn = 'style_' + tn[7:]\n",
      "    \n",
      "    # get the spam rejection images\n",
      "    idx1, idx2 = spam_images[sn]\n",
      "    \n",
      "    # if both test images are false, reject the group\n",
      "    # return the dataframe with all rows removed\n",
      "    # (but still having same columns)\n",
      "    if not group.ix[idx1][tn] and not group.ix[idx2][tn]:\n",
      "        return group.drop( group.index )\n",
      "    \n",
      "    # otherwise, return as-is\n",
      "    return group"
     ],
     "language": "python",
     "metadata": {},
     "outputs": [],
     "prompt_number": 500
    },
    {
     "cell_type": "code",
     "collapsed": false,
     "input": [
      "grouped = answer_df.groupby( 'assignment_id', as_index=False )"
     ],
     "language": "python",
     "metadata": {},
     "outputs": [],
     "prompt_number": 501
    },
    {
     "cell_type": "code",
     "collapsed": false,
     "input": [
      "clean_df = grouped.apply( test_spam )"
     ],
     "language": "python",
     "metadata": {},
     "outputs": [],
     "prompt_number": 502
    },
    {
     "cell_type": "code",
     "collapsed": false,
     "input": [
      "print len( answer_df )\n",
      "print len( clean_df )\n",
      "print ( len(answer_df) - len(clean_df) ) / 10"
     ],
     "language": "python",
     "metadata": {},
     "outputs": [
      {
       "output_type": "stream",
       "stream": "stdout",
       "text": [
        "101796\n",
        "101472\n",
        "32\n"
       ]
      }
     ],
     "prompt_number": 503
    },
    {
     "cell_type": "code",
     "collapsed": false,
     "input": [
      "clean_df.to_hdf( '../../mturk-results/mturk-cleaned-answers.h5', 'df', mode='w')"
     ],
     "language": "python",
     "metadata": {},
     "outputs": [],
     "prompt_number": 454
    },
    {
     "cell_type": "markdown",
     "metadata": {},
     "source": [
      "# Summarize turker results"
     ]
    },
    {
     "cell_type": "code",
     "collapsed": false,
     "input": [
      "clean_df = clean_df.sort_index()"
     ],
     "language": "python",
     "metadata": {},
     "outputs": [],
     "prompt_number": 538
    },
    {
     "cell_type": "code",
     "collapsed": false,
     "input": [
      "grouped = clean_df.groupby( level=0 )"
     ],
     "language": "python",
     "metadata": {},
     "outputs": [],
     "prompt_number": 539
    },
    {
     "cell_type": "code",
     "collapsed": false,
     "input": [
      "print len( clean_df )\n",
      "print len( grouped )"
     ],
     "language": "python",
     "metadata": {},
     "outputs": [
      {
       "output_type": "stream",
       "stream": "stdout",
       "text": [
        "101472\n",
        "24871"
       ]
      },
      {
       "output_type": "stream",
       "stream": "stdout",
       "text": [
        "\n"
       ]
      }
     ],
     "prompt_number": 540
    },
    {
     "cell_type": "code",
     "collapsed": false,
     "input": [
      "grouped.groups.items()[:10]"
     ],
     "language": "python",
     "metadata": {},
     "outputs": [
      {
       "metadata": {},
       "output_type": "pyout",
       "prompt_number": 541,
       "text": [
        "[(u'13295535114', [u'13295535114', u'13295535114', u'13295535114']),\n",
        " (u'12675213613', [u'12675213613', u'12675213613', u'12675213613']),\n",
        " (u'12911727275', [u'12911727275', u'12911727275', u'12911727275']),\n",
        " (u'5481811968', [u'5481811968', u'5481811968', u'5481811968']),\n",
        " (u'13261418603', [u'13261418603', u'13261418603', u'13261418603']),\n",
        " (u'13223839474', [u'13223839474', u'13223839474', u'13223839474']),\n",
        " (u'502239383', [u'502239383', u'502239383', u'502239383']),\n",
        " (u'2317830067',\n",
        "  [u'2317830067',\n",
        "   u'2317830067',\n",
        "   u'2317830067',\n",
        "   u'2317830067',\n",
        "   u'2317830067',\n",
        "   u'2317830067']),\n",
        " (u'13226129015', [u'13226129015', u'13226129015', u'13226129015']),\n",
        " (u'9539319687', [u'9539319687', u'9539319687', u'9539319687'])]"
       ]
      }
     ],
     "prompt_number": 541
    },
    {
     "cell_type": "code",
     "collapsed": false,
     "input": [
      "grouped.groups.values()[0]"
     ],
     "language": "python",
     "metadata": {},
     "outputs": [
      {
       "metadata": {},
       "output_type": "pyout",
       "prompt_number": 542,
       "text": [
        "[u'13295535114', u'13295535114', u'13295535114']"
       ]
      }
     ],
     "prompt_number": 542
    },
    {
     "cell_type": "code",
     "collapsed": false,
     "input": [
      "test_df = clean_df.ix[ grouped.groups.values()[7] ]"
     ],
     "language": "python",
     "metadata": {},
     "outputs": [],
     "prompt_number": 543
    },
    {
     "cell_type": "code",
     "collapsed": false,
     "input": [
      "assignment_df_tag( test_df )"
     ],
     "language": "python",
     "metadata": {},
     "outputs": [
      {
       "metadata": {},
       "output_type": "pyout",
       "prompt_number": 544,
       "text": [
        "['tagged_Long_Exposure', 'tagged_Romantic']"
       ]
      }
     ],
     "prompt_number": 544
    },
    {
     "cell_type": "code",
     "collapsed": false,
     "input": [
      "def turker_majority_vote( group ):\n",
      "    \n",
      "    # get the tagged_ column for the group\n",
      "    tags = assignment_df_tag( group )\n",
      "#     if len( tags ) > 1: print tags\n",
      "\n",
      "    new_group = group.head( 1 )\n",
      "\n",
      "    for tn in tags:\n",
      "        tag_group = group.dropna( subset=[tn] )\n",
      "\n",
      "        df_len   = len( tag_group )\n",
      "        true_len = len( tag_group[ tag_group[tn] == True ] )\n",
      "        true_vote = true_len > df_len / 2.\n",
      "        \n",
      "        new_group[tn] = true_vote\n",
      "    \n",
      "    return new_group"
     ],
     "language": "python",
     "metadata": {},
     "outputs": [],
     "prompt_number": 547
    },
    {
     "cell_type": "code",
     "collapsed": false,
     "input": [
      "majority_df = grouped.apply( turker_majority_vote )"
     ],
     "language": "python",
     "metadata": {},
     "outputs": [],
     "prompt_number": 548
    },
    {
     "cell_type": "code",
     "collapsed": false,
     "input": [
      "print len( majority_df.index.unique() )\n",
      "print len( clean_df.index )\n",
      "print len( clean_df.index.unique() )"
     ],
     "language": "python",
     "metadata": {},
     "outputs": [
      {
       "output_type": "stream",
       "stream": "stdout",
       "text": [
        "24871\n",
        "101472\n",
        "24871\n"
       ]
      }
     ],
     "prompt_number": 549
    },
    {
     "cell_type": "code",
     "collapsed": false,
     "input": [
      "majority_df = majority_df.sort_index()\n",
      "majority_df.head( 10 )"
     ],
     "language": "python",
     "metadata": {},
     "outputs": [
      {
       "html": [
        "<div style=\"max-height:1000px;max-width:1500px;overflow:auto;\">\n",
        "<table border=\"1\" class=\"dataframe\">\n",
        "  <thead>\n",
        "    <tr style=\"text-align: right;\">\n",
        "      <th></th>\n",
        "      <th></th>\n",
        "      <th>assignment_id</th>\n",
        "      <th>hit_id</th>\n",
        "      <th>tagged_Bright</th>\n",
        "      <th>tagged_Depth_of_Field</th>\n",
        "      <th>tagged_Detailed</th>\n",
        "      <th>tagged_Ethereal</th>\n",
        "      <th>tagged_Geometric_Composition</th>\n",
        "      <th>tagged_HDR</th>\n",
        "      <th>tagged_Hazy</th>\n",
        "      <th>tagged_Horror</th>\n",
        "      <th>tagged_Long_Exposure</th>\n",
        "      <th>tagged_Macro</th>\n",
        "      <th>tagged_Melancholy</th>\n",
        "      <th>tagged_Minimal</th>\n",
        "      <th>tagged_Noir</th>\n",
        "      <th>tagged_Pastel</th>\n",
        "      <th>tagged_Romantic</th>\n",
        "      <th>tagged_Serene</th>\n",
        "      <th>tagged_Sunny</th>\n",
        "      <th>tagged_Vintage</th>\n",
        "      <th></th>\n",
        "    </tr>\n",
        "  </thead>\n",
        "  <tbody>\n",
        "    <tr>\n",
        "      <th>10002847526</th>\n",
        "      <th>10002847526</th>\n",
        "      <td> 3YT88D1N08XC7JMQBCFSABNEHQ9K3C</td>\n",
        "      <td> 3BFF0DJK8WBD8ZZY5YPJUQM3OT9TS1</td>\n",
        "      <td>   NaN</td>\n",
        "      <td> NaN</td>\n",
        "      <td>  NaN</td>\n",
        "      <td>   NaN</td>\n",
        "      <td> NaN</td>\n",
        "      <td> NaN</td>\n",
        "      <td> NaN</td>\n",
        "      <td> NaN</td>\n",
        "      <td> False</td>\n",
        "      <td> NaN</td>\n",
        "      <td>   NaN</td>\n",
        "      <td> NaN</td>\n",
        "      <td>   NaN</td>\n",
        "      <td>   NaN</td>\n",
        "      <td>   NaN</td>\n",
        "      <td> NaN</td>\n",
        "      <td> NaN</td>\n",
        "      <td> NaN</td>\n",
        "    </tr>\n",
        "    <tr>\n",
        "      <th>10004268914</th>\n",
        "      <th>10004268914</th>\n",
        "      <td> 3K5TEWLKGVA5DXYLVJ0MGQ0KG4NVIF</td>\n",
        "      <td> 3H781YYV6SHCYGUG435E59ION1AETT</td>\n",
        "      <td>   NaN</td>\n",
        "      <td> NaN</td>\n",
        "      <td>  NaN</td>\n",
        "      <td> False</td>\n",
        "      <td> NaN</td>\n",
        "      <td> NaN</td>\n",
        "      <td> NaN</td>\n",
        "      <td> NaN</td>\n",
        "      <td>   NaN</td>\n",
        "      <td> NaN</td>\n",
        "      <td> False</td>\n",
        "      <td> NaN</td>\n",
        "      <td>   NaN</td>\n",
        "      <td>   NaN</td>\n",
        "      <td>   NaN</td>\n",
        "      <td> NaN</td>\n",
        "      <td> NaN</td>\n",
        "      <td> NaN</td>\n",
        "    </tr>\n",
        "    <tr>\n",
        "      <th>10004468814</th>\n",
        "      <th>10004468814</th>\n",
        "      <td> 3PM8NZGV8YFAYKRZ866DDDORNSQXQ7</td>\n",
        "      <td> 322ZSN9Z5FJU6EXNFXT1WN6XAD7T4V</td>\n",
        "      <td>   NaN</td>\n",
        "      <td> NaN</td>\n",
        "      <td> True</td>\n",
        "      <td>   NaN</td>\n",
        "      <td> NaN</td>\n",
        "      <td> NaN</td>\n",
        "      <td> NaN</td>\n",
        "      <td> NaN</td>\n",
        "      <td>   NaN</td>\n",
        "      <td> NaN</td>\n",
        "      <td>   NaN</td>\n",
        "      <td> NaN</td>\n",
        "      <td>   NaN</td>\n",
        "      <td>   NaN</td>\n",
        "      <td>   NaN</td>\n",
        "      <td> NaN</td>\n",
        "      <td> NaN</td>\n",
        "      <td> NaN</td>\n",
        "    </tr>\n",
        "    <tr>\n",
        "      <th>10004487845</th>\n",
        "      <th>10004487845</th>\n",
        "      <td> 3C44YUNSI1OB02L3HTQCJ1VP15JDP2</td>\n",
        "      <td> 3087LXLJ6LF3OLXL1C1A3G1J1CTF06</td>\n",
        "      <td>   NaN</td>\n",
        "      <td> NaN</td>\n",
        "      <td> True</td>\n",
        "      <td>   NaN</td>\n",
        "      <td> NaN</td>\n",
        "      <td> NaN</td>\n",
        "      <td> NaN</td>\n",
        "      <td> NaN</td>\n",
        "      <td>   NaN</td>\n",
        "      <td> NaN</td>\n",
        "      <td>   NaN</td>\n",
        "      <td> NaN</td>\n",
        "      <td>   NaN</td>\n",
        "      <td>   NaN</td>\n",
        "      <td>   NaN</td>\n",
        "      <td> NaN</td>\n",
        "      <td> NaN</td>\n",
        "      <td> NaN</td>\n",
        "    </tr>\n",
        "    <tr>\n",
        "      <th>10007199026</th>\n",
        "      <th>10007199026</th>\n",
        "      <td> 34T446B1C0DY7TB50CGBKUCZ93GC0S</td>\n",
        "      <td> 35F6NGNVM7IRP1F6HVR8ZZQ71E47TY</td>\n",
        "      <td>   NaN</td>\n",
        "      <td> NaN</td>\n",
        "      <td>  NaN</td>\n",
        "      <td>   NaN</td>\n",
        "      <td> NaN</td>\n",
        "      <td> NaN</td>\n",
        "      <td> NaN</td>\n",
        "      <td> NaN</td>\n",
        "      <td>   NaN</td>\n",
        "      <td> NaN</td>\n",
        "      <td>   NaN</td>\n",
        "      <td> NaN</td>\n",
        "      <td>   NaN</td>\n",
        "      <td>   NaN</td>\n",
        "      <td> False</td>\n",
        "      <td> NaN</td>\n",
        "      <td> NaN</td>\n",
        "      <td> NaN</td>\n",
        "    </tr>\n",
        "    <tr>\n",
        "      <th>10007533796</th>\n",
        "      <th>10007533796</th>\n",
        "      <td> 3OSWBBLG1EWG9BNU3K0TDEHS4CXXDW</td>\n",
        "      <td> 3XDSWAMB21RK92IAR85OAG7YIJPQCR</td>\n",
        "      <td>   NaN</td>\n",
        "      <td> NaN</td>\n",
        "      <td>  NaN</td>\n",
        "      <td>   NaN</td>\n",
        "      <td> NaN</td>\n",
        "      <td> NaN</td>\n",
        "      <td> NaN</td>\n",
        "      <td> NaN</td>\n",
        "      <td>   NaN</td>\n",
        "      <td> NaN</td>\n",
        "      <td>   NaN</td>\n",
        "      <td> NaN</td>\n",
        "      <td>   NaN</td>\n",
        "      <td> False</td>\n",
        "      <td>   NaN</td>\n",
        "      <td> NaN</td>\n",
        "      <td> NaN</td>\n",
        "      <td> NaN</td>\n",
        "    </tr>\n",
        "    <tr>\n",
        "      <th>10008362764</th>\n",
        "      <th>10008362764</th>\n",
        "      <td> 3WT783CTPBGZRGEFYSD04B8I09GCBL</td>\n",
        "      <td> 3ULIZ0H1V94BTDPERJS1V9TGIQA512</td>\n",
        "      <td> False</td>\n",
        "      <td> NaN</td>\n",
        "      <td>  NaN</td>\n",
        "      <td>   NaN</td>\n",
        "      <td> NaN</td>\n",
        "      <td> NaN</td>\n",
        "      <td> NaN</td>\n",
        "      <td> NaN</td>\n",
        "      <td>   NaN</td>\n",
        "      <td> NaN</td>\n",
        "      <td>   NaN</td>\n",
        "      <td> NaN</td>\n",
        "      <td>   NaN</td>\n",
        "      <td>   NaN</td>\n",
        "      <td>   NaN</td>\n",
        "      <td> NaN</td>\n",
        "      <td> NaN</td>\n",
        "      <td> NaN</td>\n",
        "    </tr>\n",
        "    <tr>\n",
        "      <th>10008818046</th>\n",
        "      <th>10008818046</th>\n",
        "      <td> 3YJ6NA41JBFO3OLVRPCNMZQ27V2JPL</td>\n",
        "      <td> 3ODOP6T3ARJ0MF3AWI95V0X7AZ124H</td>\n",
        "      <td>   NaN</td>\n",
        "      <td> NaN</td>\n",
        "      <td>  NaN</td>\n",
        "      <td>   NaN</td>\n",
        "      <td> NaN</td>\n",
        "      <td> NaN</td>\n",
        "      <td> NaN</td>\n",
        "      <td> NaN</td>\n",
        "      <td>   NaN</td>\n",
        "      <td> NaN</td>\n",
        "      <td>   NaN</td>\n",
        "      <td> NaN</td>\n",
        "      <td>   NaN</td>\n",
        "      <td>   NaN</td>\n",
        "      <td> False</td>\n",
        "      <td> NaN</td>\n",
        "      <td> NaN</td>\n",
        "      <td> NaN</td>\n",
        "    </tr>\n",
        "    <tr>\n",
        "      <th>10009898286</th>\n",
        "      <th>10009898286</th>\n",
        "      <td> 3HVVDCPGTERCQ591U6MA1W6N924TY2</td>\n",
        "      <td> 36JW4WBR05JEZL3HZK8V9800O8UFH2</td>\n",
        "      <td>   NaN</td>\n",
        "      <td> NaN</td>\n",
        "      <td>  NaN</td>\n",
        "      <td>   NaN</td>\n",
        "      <td> NaN</td>\n",
        "      <td> NaN</td>\n",
        "      <td> NaN</td>\n",
        "      <td> NaN</td>\n",
        "      <td>   NaN</td>\n",
        "      <td> NaN</td>\n",
        "      <td>   NaN</td>\n",
        "      <td> NaN</td>\n",
        "      <td> False</td>\n",
        "      <td>   NaN</td>\n",
        "      <td>   NaN</td>\n",
        "      <td> NaN</td>\n",
        "      <td> NaN</td>\n",
        "      <td> NaN</td>\n",
        "    </tr>\n",
        "    <tr>\n",
        "      <th>10014486544</th>\n",
        "      <th>10014486544</th>\n",
        "      <td> 3QFUFYSY9YEM9TDGAFTE43NFNSZ4FM</td>\n",
        "      <td> 3XUSYT70IS06Q1JPA66KFGYYQEBD0M</td>\n",
        "      <td>   NaN</td>\n",
        "      <td> NaN</td>\n",
        "      <td>  NaN</td>\n",
        "      <td> False</td>\n",
        "      <td> NaN</td>\n",
        "      <td> NaN</td>\n",
        "      <td> NaN</td>\n",
        "      <td> NaN</td>\n",
        "      <td>   NaN</td>\n",
        "      <td> NaN</td>\n",
        "      <td>   NaN</td>\n",
        "      <td> NaN</td>\n",
        "      <td>   NaN</td>\n",
        "      <td>   NaN</td>\n",
        "      <td>   NaN</td>\n",
        "      <td> NaN</td>\n",
        "      <td> NaN</td>\n",
        "      <td> NaN</td>\n",
        "    </tr>\n",
        "  </tbody>\n",
        "</table>\n",
        "<p>10 rows \u00d7 21 columns</p>\n",
        "</div>"
       ],
       "metadata": {},
       "output_type": "pyout",
       "prompt_number": 550,
       "text": [
        "                                          assignment_id  \\\n",
        "10002847526 10002847526  3YT88D1N08XC7JMQBCFSABNEHQ9K3C   \n",
        "10004268914 10004268914  3K5TEWLKGVA5DXYLVJ0MGQ0KG4NVIF   \n",
        "10004468814 10004468814  3PM8NZGV8YFAYKRZ866DDDORNSQXQ7   \n",
        "10004487845 10004487845  3C44YUNSI1OB02L3HTQCJ1VP15JDP2   \n",
        "10007199026 10007199026  34T446B1C0DY7TB50CGBKUCZ93GC0S   \n",
        "10007533796 10007533796  3OSWBBLG1EWG9BNU3K0TDEHS4CXXDW   \n",
        "10008362764 10008362764  3WT783CTPBGZRGEFYSD04B8I09GCBL   \n",
        "10008818046 10008818046  3YJ6NA41JBFO3OLVRPCNMZQ27V2JPL   \n",
        "10009898286 10009898286  3HVVDCPGTERCQ591U6MA1W6N924TY2   \n",
        "10014486544 10014486544  3QFUFYSY9YEM9TDGAFTE43NFNSZ4FM   \n",
        "\n",
        "                                                 hit_id tagged_Bright  \\\n",
        "10002847526 10002847526  3BFF0DJK8WBD8ZZY5YPJUQM3OT9TS1           NaN   \n",
        "10004268914 10004268914  3H781YYV6SHCYGUG435E59ION1AETT           NaN   \n",
        "10004468814 10004468814  322ZSN9Z5FJU6EXNFXT1WN6XAD7T4V           NaN   \n",
        "10004487845 10004487845  3087LXLJ6LF3OLXL1C1A3G1J1CTF06           NaN   \n",
        "10007199026 10007199026  35F6NGNVM7IRP1F6HVR8ZZQ71E47TY           NaN   \n",
        "10007533796 10007533796  3XDSWAMB21RK92IAR85OAG7YIJPQCR           NaN   \n",
        "10008362764 10008362764  3ULIZ0H1V94BTDPERJS1V9TGIQA512         False   \n",
        "10008818046 10008818046  3ODOP6T3ARJ0MF3AWI95V0X7AZ124H           NaN   \n",
        "10009898286 10009898286  36JW4WBR05JEZL3HZK8V9800O8UFH2           NaN   \n",
        "10014486544 10014486544  3XUSYT70IS06Q1JPA66KFGYYQEBD0M           NaN   \n",
        "\n",
        "                        tagged_Depth_of_Field tagged_Detailed tagged_Ethereal  \\\n",
        "10002847526 10002847526                   NaN             NaN             NaN   \n",
        "10004268914 10004268914                   NaN             NaN           False   \n",
        "10004468814 10004468814                   NaN            True             NaN   \n",
        "10004487845 10004487845                   NaN            True             NaN   \n",
        "10007199026 10007199026                   NaN             NaN             NaN   \n",
        "10007533796 10007533796                   NaN             NaN             NaN   \n",
        "10008362764 10008362764                   NaN             NaN             NaN   \n",
        "10008818046 10008818046                   NaN             NaN             NaN   \n",
        "10009898286 10009898286                   NaN             NaN             NaN   \n",
        "10014486544 10014486544                   NaN             NaN           False   \n",
        "\n",
        "                        tagged_Geometric_Composition tagged_HDR tagged_Hazy  \\\n",
        "10002847526 10002847526                          NaN        NaN         NaN   \n",
        "10004268914 10004268914                          NaN        NaN         NaN   \n",
        "10004468814 10004468814                          NaN        NaN         NaN   \n",
        "10004487845 10004487845                          NaN        NaN         NaN   \n",
        "10007199026 10007199026                          NaN        NaN         NaN   \n",
        "10007533796 10007533796                          NaN        NaN         NaN   \n",
        "10008362764 10008362764                          NaN        NaN         NaN   \n",
        "10008818046 10008818046                          NaN        NaN         NaN   \n",
        "10009898286 10009898286                          NaN        NaN         NaN   \n",
        "10014486544 10014486544                          NaN        NaN         NaN   \n",
        "\n",
        "                        tagged_Horror tagged_Long_Exposure tagged_Macro  \\\n",
        "10002847526 10002847526           NaN                False          NaN   \n",
        "10004268914 10004268914           NaN                  NaN          NaN   \n",
        "10004468814 10004468814           NaN                  NaN          NaN   \n",
        "10004487845 10004487845           NaN                  NaN          NaN   \n",
        "10007199026 10007199026           NaN                  NaN          NaN   \n",
        "10007533796 10007533796           NaN                  NaN          NaN   \n",
        "10008362764 10008362764           NaN                  NaN          NaN   \n",
        "10008818046 10008818046           NaN                  NaN          NaN   \n",
        "10009898286 10009898286           NaN                  NaN          NaN   \n",
        "10014486544 10014486544           NaN                  NaN          NaN   \n",
        "\n",
        "                        tagged_Melancholy tagged_Minimal tagged_Noir  \\\n",
        "10002847526 10002847526               NaN            NaN         NaN   \n",
        "10004268914 10004268914             False            NaN         NaN   \n",
        "10004468814 10004468814               NaN            NaN         NaN   \n",
        "10004487845 10004487845               NaN            NaN         NaN   \n",
        "10007199026 10007199026               NaN            NaN         NaN   \n",
        "10007533796 10007533796               NaN            NaN         NaN   \n",
        "10008362764 10008362764               NaN            NaN         NaN   \n",
        "10008818046 10008818046               NaN            NaN         NaN   \n",
        "10009898286 10009898286               NaN            NaN       False   \n",
        "10014486544 10014486544               NaN            NaN         NaN   \n",
        "\n",
        "                        tagged_Pastel tagged_Romantic tagged_Serene  \\\n",
        "10002847526 10002847526           NaN             NaN           NaN   \n",
        "10004268914 10004268914           NaN             NaN           NaN   \n",
        "10004468814 10004468814           NaN             NaN           NaN   \n",
        "10004487845 10004487845           NaN             NaN           NaN   \n",
        "10007199026 10007199026           NaN           False           NaN   \n",
        "10007533796 10007533796         False             NaN           NaN   \n",
        "10008362764 10008362764           NaN             NaN           NaN   \n",
        "10008818046 10008818046           NaN           False           NaN   \n",
        "10009898286 10009898286           NaN             NaN           NaN   \n",
        "10014486544 10014486544           NaN             NaN           NaN   \n",
        "\n",
        "                        tagged_Sunny tagged_Vintage      \n",
        "10002847526 10002847526          NaN            NaN ...  \n",
        "10004268914 10004268914          NaN            NaN ...  \n",
        "10004468814 10004468814          NaN            NaN ...  \n",
        "10004487845 10004487845          NaN            NaN ...  \n",
        "10007199026 10007199026          NaN            NaN ...  \n",
        "10007533796 10007533796          NaN            NaN ...  \n",
        "10008362764 10008362764          NaN            NaN ...  \n",
        "10008818046 10008818046          NaN            NaN ...  \n",
        "10009898286 10009898286          NaN            NaN ...  \n",
        "10014486544 10014486544          NaN            NaN ...  \n",
        "\n",
        "[10 rows x 21 columns]"
       ]
      }
     ],
     "prompt_number": 550
    },
    {
     "cell_type": "code",
     "collapsed": false,
     "input": [
      "majority_df.to_hdf( '../../mturk-results/mturk-majority-answers.h5', 'df', mode='w')"
     ],
     "language": "python",
     "metadata": {},
     "outputs": [
      {
       "output_type": "stream",
       "stream": "stderr",
       "text": [
        "/Users/mmt/anaconda/envs/aphrodite/lib/python2.7/site-packages/pandas/io/pytables.py:2446: PerformanceWarning: \n",
        "your performance may suffer as PyTables will pickle object types that it cannot\n",
        "map directly to c-types [inferred_type->unicode,key->axis1_level0] [items->None]\n",
        "\n",
        "  warnings.warn(ws, PerformanceWarning)\n",
        "/Users/mmt/anaconda/envs/aphrodite/lib/python2.7/site-packages/pandas/io/pytables.py:2446: PerformanceWarning: \n",
        "your performance may suffer as PyTables will pickle object types that it cannot\n",
        "map directly to c-types [inferred_type->unicode,key->axis1_level1] [items->None]\n",
        "\n",
        "  warnings.warn(ws, PerformanceWarning)\n"
       ]
      }
     ],
     "prompt_number": 551
    },
    {
     "cell_type": "markdown",
     "metadata": {},
     "source": [
      "# Join with flickr dataframe"
     ]
    },
    {
     "cell_type": "code",
     "collapsed": false,
     "input": [
      "len( flickr_df.ix[ majority_df.index.unique() ] )"
     ],
     "language": "python",
     "metadata": {},
     "outputs": [
      {
       "metadata": {},
       "output_type": "pyout",
       "prompt_number": 555,
       "text": [
        "24871"
       ]
      }
     ],
     "prompt_number": 555
    },
    {
     "cell_type": "code",
     "collapsed": false,
     "input": [
      "# merge the answer dataframe with the corresponding rows of the flickr dataframe\n",
      "# join on the shared indices\n",
      "result_df = pd.merge( majority_df, \n",
      "                      flickr_df.ix[ majority_df.index.unique() ], \n",
      "                      left_index=True, right_index=True )"
     ],
     "language": "python",
     "metadata": {},
     "outputs": [],
     "prompt_number": 556
    },
    {
     "cell_type": "code",
     "collapsed": false,
     "input": [
      "len( result_df )"
     ],
     "language": "python",
     "metadata": {},
     "outputs": [
      {
       "metadata": {},
       "output_type": "pyout",
       "prompt_number": 557,
       "text": [
        "24871"
       ]
      }
     ],
     "prompt_number": 557
    },
    {
     "cell_type": "code",
     "collapsed": false,
     "input": [
      "result_df.to_hdf( '../../mturk-results/mturk-results.h5', 'df', mode='w')"
     ],
     "language": "python",
     "metadata": {},
     "outputs": [
      {
       "output_type": "stream",
       "stream": "stderr",
       "text": [
        "/Users/mmt/anaconda/envs/aphrodite/lib/python2.7/site-packages/pandas/io/pytables.py:2446: PerformanceWarning: \n",
        "your performance may suffer as PyTables will pickle object types that it cannot\n",
        "map directly to c-types [inferred_type->mixed,key->block0_values] [items->['assignment_id', 'hit_id', 'tagged_Bright', 'tagged_Depth_of_Field', 'tagged_Detailed', 'tagged_Ethereal', 'tagged_Geometric_Composition', 'tagged_HDR', 'tagged_Hazy', 'tagged_Horror', 'tagged_Long_Exposure', 'tagged_Macro', 'tagged_Melancholy', 'tagged_Minimal', 'tagged_Noir', 'tagged_Pastel', 'tagged_Romantic', 'tagged_Serene', 'tagged_Sunny', 'tagged_Vintage', 'worker_id', 'image_url', 'owner', 'page_url', 'style_Bokeh', 'style_Bright', 'style_Depth_of_Field', 'style_Detailed', 'style_Ethereal', 'style_Geometric_Composition', 'style_HDR', 'style_Hazy', 'style_Horror', 'style_Long_Exposure', 'style_Macro', 'style_Melancholy', 'style_Minimal', 'style_Noir', 'style_Pastel', 'style_Romantic', 'style_Serene', 'style_Sunny', 'style_Texture', 'style_Vintage', '_split']]\n",
        "\n",
        "  warnings.warn(ws, PerformanceWarning)\n"
       ]
      }
     ],
     "prompt_number": 558
    },
    {
     "cell_type": "code",
     "collapsed": false,
     "input": [],
     "language": "python",
     "metadata": {},
     "outputs": []
    }
   ],
   "metadata": {}
  }
 ]
}