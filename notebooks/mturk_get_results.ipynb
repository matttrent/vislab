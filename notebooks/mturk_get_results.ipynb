{
 "metadata": {
  "name": "",
  "signature": "sha256:2c6f0d7c277bf6cab1221649367b4ad44ce0c0b24101158256d0ca4b9f38539f"
 },
 "nbformat": 3,
 "nbformat_minor": 0,
 "worksheets": [
  {
   "cells": [
    {
     "cell_type": "code",
     "collapsed": false,
     "input": [
      "%load_ext autoreload\n",
      "%autoreload 2\n",
      "\n",
      "import sys\n",
      "import uuid\n",
      "import math\n",
      "import urllib\n",
      "import urlparse\n",
      "import time\n",
      "\n",
      "from boto.mturk.connection import *\n",
      "from boto.mturk.question import ExternalQuestion\n",
      "from boto.mturk.qualification import *\n",
      "from boto.mturk.price import *\n",
      "\n",
      "import pandas as pd\n",
      "import vislab.datasets"
     ],
     "language": "python",
     "metadata": {},
     "outputs": [
      {
       "output_type": "stream",
       "stream": "stdout",
       "text": [
        "The autoreload extension is already loaded. To reload it, use:\n",
        "  %reload_ext autoreload\n"
       ]
      }
     ],
     "prompt_number": 83
    },
    {
     "cell_type": "markdown",
     "metadata": {},
     "source": [
      "# Configuration"
     ]
    },
    {
     "cell_type": "code",
     "collapsed": false,
     "input": [
      "# style were are testing\n",
      "POS_STYLE = 'Vintage'\n",
      "\n",
      "# base url for the test server\n",
      "SERVER_URL = 'https://image-style-mturk.herokuapp.com/'\n",
      "\n",
      "# total positive + negative images in the set\n",
      "TOTAL_IMAGES  = 2000\n",
      "\n",
      "# split of positive/negative examples in the set\n",
      "POS_NEG_SPLIT = .5\n",
      "\n",
      "# we won't use the first n images from any of the different styles for inclusion \n",
      "# in any of the test tests.  this can be used to serve any number of purposes,\n",
      "# such as example images, spam-detection samples, etc...  example images are the\n",
      "# only current use.\n",
      "RESERVE_IMAGES = 100\n",
      "\n",
      "# how many images per hit\n",
      "IMAGES_PER_HIT = 10\n",
      "\n",
      "# how many different turkers we want to view each job\n",
      "HIT_REPEAT = 1\n",
      "\n",
      "# aws secret keys\n",
      "AWS_ACCESS_KEY_ID     = vislab.config['api_keys']['mturk_aaron']['awsAccessKeyId']\n",
      "AWS_SECRET_ACCESS_KEY = vislab.config['api_keys']['mturk_aaron']['awsSecretAccessKey']\n",
      "\n",
      "# mechanical turk server\n",
      "# AWS_HOST = 'mechanicalturk.sandbox.amazonaws.com'\n",
      "AWS_HOST = 'mechanicalturk.amazonaws.com'\n",
      "\n",
      "# top-level hit information\n",
      "HIT_TITLE    = 'Tag the style of photos';\n",
      "HIT_DESC     = 'Given examples of a given photographic style, tag whether or not a photo matches that style.'\n",
      "HIT_KEYWORDS = 'photograph, photographs, photo, photos, image, images, style, look, classification, tagging'\n",
      "\n",
      "# hit specifics\n",
      "HIT_DURATION = datetime.timedelta(7)  # 7 days\n",
      "HIT_PRICE = 0.1"
     ],
     "language": "python",
     "metadata": {},
     "outputs": [],
     "prompt_number": 84
    },
    {
     "cell_type": "markdown",
     "metadata": {},
     "source": [
      "# Helper functions"
     ]
    },
    {
     "cell_type": "code",
     "collapsed": false,
     "input": [
      "def assignment_df_tag( df, drop=True ):\n",
      "    if drop: df = df.dropna( axis=1 )\n",
      "    return [name for name in df.columns.tolist() if 'tagged' in name][0]\n",
      "\n",
      "def assignment_series_tag( ser, drop=True ):\n",
      "    if drop: ser = ser.dropna()\n",
      "    return [name for name in ser.index.tolist() if 'tagged' in name][0]"
     ],
     "language": "python",
     "metadata": {},
     "outputs": [],
     "prompt_number": 418
    },
    {
     "cell_type": "markdown",
     "metadata": {},
     "source": [
      "# Spam rejection images"
     ]
    },
    {
     "cell_type": "code",
     "collapsed": false,
     "input": [
      "spam_images = {}\n",
      "spam_images['style_Bright']                = [ '13276349735', '13202986955' ]\n",
      "spam_images['style_Depth_of_Field']        = [ '12275097686', '12618937364' ]\n",
      "spam_images['style_Detailed']\t             = [ '12678909473', '9584007214' ]\n",
      "spam_images['style_Ethereal']\t             = [ '11196553984', '12103191336' ]\n",
      "spam_images['style_Geometric_Composition'] = [ '12361280943', '11728222814' ]\n",
      "spam_images['style_HDR']\t                 = [ '12985120954', '13080484014' ]\n",
      "spam_images['style_Hazy']\t                 = [ '8123136180', '8710649981' ]\n",
      "spam_images['style_Horror']\t             = [ '3540879185', '3190181306' ]\n",
      "spam_images['style_Long_Exposure']\t     = [ '13077420234', '13039543873' ]\n",
      "spam_images['style_Macro']\t             = [ '12874682495', '13237561944' ]\n",
      "spam_images['style_Melancholy']\t         = [ '13035627133', '12652741963' ]\n",
      "spam_images['style_Minimal']\t             = [ '9389108329', '9499757804' ]\n",
      "spam_images['style_Noir']\t                 = [ '11158990436', '3330508474' ]\n",
      "spam_images['style_Pastel']\t             = [ '13163996094', '12772046043' ]\n",
      "spam_images['style_Romantic']\t             = [ '8875030224', '9390762719' ]\n",
      "spam_images['style_Serene']\t             = [ '9572023253', '9700306653' ]\n",
      "spam_images['style_Sunny']\t             = [ '11433844095', '11156368195' ]\n",
      "spam_images['style_Vintage']\t             = [ '5710850998', '5798828322' ]"
     ],
     "language": "python",
     "metadata": {},
     "outputs": [],
     "prompt_number": 419
    },
    {
     "cell_type": "markdown",
     "metadata": {},
     "source": [
      "# Setup MTurk"
     ]
    },
    {
     "cell_type": "code",
     "collapsed": false,
     "input": [
      "# create the mturk connection\n",
      "MTC = MTurkConnection(aws_access_key_id=AWS_ACCESS_KEY_ID,\n",
      "                      aws_secret_access_key=AWS_SECRET_ACCESS_KEY,\n",
      "                      host=AWS_HOST,is_secure=True)"
     ],
     "language": "python",
     "metadata": {},
     "outputs": [],
     "prompt_number": 85
    },
    {
     "cell_type": "markdown",
     "metadata": {},
     "source": [
      "# Data setup"
     ]
    },
    {
     "cell_type": "code",
     "collapsed": false,
     "input": [
      "flickr_df = vislab.datasets.flickr.get_df()"
     ],
     "language": "python",
     "metadata": {},
     "outputs": [],
     "prompt_number": 4
    },
    {
     "cell_type": "markdown",
     "metadata": {},
     "source": [
      "## Helper functions"
     ]
    },
    {
     "cell_type": "code",
     "collapsed": false,
     "input": [
      "import re\n",
      "from unicodedata import normalize\n",
      "\n",
      "_punct_re = re.compile(r'[\\t !\"#$%&\\'()*\\-/<=>?@\\[\\\\\\]^_`{|},.]+')\n",
      "\n",
      "def slugify(text, delim=u'-'):\n",
      "    \"\"\"Generates an slightly worse ASCII-only slug.\"\"\"\n",
      "    text = unicode( text )\n",
      "    result = []\n",
      "    for word in _punct_re.split(text.lower()):\n",
      "        word = normalize('NFKD', word).encode('ascii', 'ignore')\n",
      "        if word:\n",
      "            result.append(word)\n",
      "    return unicode(delim.join(result))"
     ],
     "language": "python",
     "metadata": {},
     "outputs": [],
     "prompt_number": 86
    },
    {
     "cell_type": "markdown",
     "metadata": {},
     "source": [
      "# Style tag name extraction"
     ]
    },
    {
     "cell_type": "code",
     "collapsed": false,
     "input": [
      "style_cols = [name for name in flickr_df.columns.tolist() if 'style' in name]\n",
      "style_cols.remove( 'style_Bokeh' )\n",
      "style_cols.remove( 'style_Texture' )\n",
      "print style_cols"
     ],
     "language": "python",
     "metadata": {},
     "outputs": [
      {
       "output_type": "stream",
       "stream": "stdout",
       "text": [
        "['style_Bright', 'style_Depth_of_Field', 'style_Detailed', 'style_Ethereal', 'style_Geometric_Composition', 'style_HDR', 'style_Hazy', 'style_Horror', 'style_Long_Exposure', 'style_Macro', 'style_Melancholy', 'style_Minimal', 'style_Noir', 'style_Pastel', 'style_Romantic', 'style_Serene', 'style_Sunny', 'style_Vintage']\n"
       ]
      }
     ],
     "prompt_number": 87
    },
    {
     "cell_type": "code",
     "collapsed": false,
     "input": [
      "style_names = [name[6:].replace('_', ' ') for name in style_cols]\n",
      "slug_names = [slugify(name) for name in style_names]\n",
      "style_dict = dict( zip( slug_names, style_names ) )\n",
      "style_dict"
     ],
     "language": "python",
     "metadata": {},
     "outputs": [
      {
       "metadata": {},
       "output_type": "pyout",
       "prompt_number": 88,
       "text": [
        "{u'bright': 'Bright',\n",
        " u'depth-of-field': 'Depth of Field',\n",
        " u'detailed': 'Detailed',\n",
        " u'ethereal': 'Ethereal',\n",
        " u'geometric-composition': 'Geometric Composition',\n",
        " u'hazy': 'Hazy',\n",
        " u'hdr': 'HDR',\n",
        " u'horror': 'Horror',\n",
        " u'long-exposure': 'Long Exposure',\n",
        " u'macro': 'Macro',\n",
        " u'melancholy': 'Melancholy',\n",
        " u'minimal': 'Minimal',\n",
        " u'noir': 'Noir',\n",
        " u'pastel': 'Pastel',\n",
        " u'romantic': 'Romantic',\n",
        " u'serene': 'Serene',\n",
        " u'sunny': 'Sunny',\n",
        " u'vintage': 'Vintage'}"
       ]
      }
     ],
     "prompt_number": 88
    },
    {
     "cell_type": "markdown",
     "metadata": {},
     "source": [
      "# Load existing work"
     ]
    },
    {
     "cell_type": "code",
     "collapsed": false,
     "input": [
      "answer_df = pd.read_hdf( '../../mturk-results/mturk-answers.h5', 'df' )"
     ],
     "language": "python",
     "metadata": {},
     "outputs": [],
     "prompt_number": 89
    },
    {
     "cell_type": "code",
     "collapsed": false,
     "input": [
      "print len( answer_df )"
     ],
     "language": "python",
     "metadata": {},
     "outputs": [
      {
       "output_type": "stream",
       "stream": "stdout",
       "text": [
        "5390\n"
       ]
      }
     ],
     "prompt_number": 90
    },
    {
     "cell_type": "markdown",
     "metadata": {},
     "source": [
      "# Collect HITs"
     ]
    },
    {
     "cell_type": "code",
     "collapsed": false,
     "input": [
      "HITs = []"
     ],
     "language": "python",
     "metadata": {},
     "outputs": [],
     "prompt_number": 397
    },
    {
     "cell_type": "code",
     "collapsed": false,
     "input": [
      "old_len = -1\n",
      "count = 1\n",
      "\n",
      "while len( HITs ) != old_len:\n",
      "\n",
      "    print count, len(HITs), old_len\n",
      "    hits = MTC.search_hits( page_size=100, \n",
      "                            page_number=count, \n",
      "                            sort_by='CreationTime', \n",
      "                            sort_direction='Ascending' )\n",
      "    \n",
      "    old_len = len( HITs )\n",
      "    HITs += hits \n",
      "    count += 1 "
     ],
     "language": "python",
     "metadata": {},
     "outputs": [
      {
       "output_type": "stream",
       "stream": "stdout",
       "text": [
        "1 0 -1\n",
        "2"
       ]
      },
      {
       "output_type": "stream",
       "stream": "stdout",
       "text": [
        " 100 0\n",
        "3"
       ]
      },
      {
       "output_type": "stream",
       "stream": "stdout",
       "text": [
        " 200 100\n",
        "4"
       ]
      },
      {
       "output_type": "stream",
       "stream": "stdout",
       "text": [
        " 300 200\n",
        "5"
       ]
      },
      {
       "output_type": "stream",
       "stream": "stdout",
       "text": [
        " 400 300\n",
        "6"
       ]
      },
      {
       "output_type": "stream",
       "stream": "stdout",
       "text": [
        " 500 400\n",
        "7"
       ]
      },
      {
       "output_type": "stream",
       "stream": "stdout",
       "text": [
        " 600 500\n",
        "8"
       ]
      },
      {
       "output_type": "stream",
       "stream": "stdout",
       "text": [
        " 700 600\n",
        "9"
       ]
      },
      {
       "output_type": "stream",
       "stream": "stdout",
       "text": [
        " 800 700\n",
        "10"
       ]
      },
      {
       "output_type": "stream",
       "stream": "stdout",
       "text": [
        " 900 800\n",
        "11"
       ]
      },
      {
       "output_type": "stream",
       "stream": "stdout",
       "text": [
        " 1000 900\n",
        "12"
       ]
      },
      {
       "output_type": "stream",
       "stream": "stdout",
       "text": [
        " 1100 1000\n",
        "13"
       ]
      },
      {
       "output_type": "stream",
       "stream": "stdout",
       "text": [
        " 1200 1100\n",
        "14"
       ]
      },
      {
       "output_type": "stream",
       "stream": "stdout",
       "text": [
        " 1300 1200\n",
        "15"
       ]
      },
      {
       "output_type": "stream",
       "stream": "stdout",
       "text": [
        " 1400 1300\n",
        "16"
       ]
      },
      {
       "output_type": "stream",
       "stream": "stdout",
       "text": [
        " 1500 1400\n",
        "17"
       ]
      },
      {
       "output_type": "stream",
       "stream": "stdout",
       "text": [
        " 1600 1500\n",
        "18"
       ]
      },
      {
       "output_type": "stream",
       "stream": "stdout",
       "text": [
        " 1700 1600\n",
        "19"
       ]
      },
      {
       "output_type": "stream",
       "stream": "stdout",
       "text": [
        " 1800 1700\n",
        "20"
       ]
      },
      {
       "output_type": "stream",
       "stream": "stdout",
       "text": [
        " 1900 1800\n",
        "21"
       ]
      },
      {
       "output_type": "stream",
       "stream": "stdout",
       "text": [
        " 2000 1900\n",
        "22"
       ]
      },
      {
       "output_type": "stream",
       "stream": "stdout",
       "text": [
        " 2100 2000\n",
        "23"
       ]
      },
      {
       "output_type": "stream",
       "stream": "stdout",
       "text": [
        " 2200 2100\n",
        "24"
       ]
      },
      {
       "output_type": "stream",
       "stream": "stdout",
       "text": [
        " 2300 2200\n",
        "25"
       ]
      },
      {
       "output_type": "stream",
       "stream": "stdout",
       "text": [
        " 2400 2300\n",
        "26"
       ]
      },
      {
       "output_type": "stream",
       "stream": "stdout",
       "text": [
        " 2500 2400\n",
        "27"
       ]
      },
      {
       "output_type": "stream",
       "stream": "stdout",
       "text": [
        " 2600 2500\n",
        "28"
       ]
      },
      {
       "output_type": "stream",
       "stream": "stdout",
       "text": [
        " 2700 2600\n",
        "29"
       ]
      },
      {
       "output_type": "stream",
       "stream": "stdout",
       "text": [
        " 2800 2700\n",
        "30"
       ]
      },
      {
       "output_type": "stream",
       "stream": "stdout",
       "text": [
        " 2900 2800\n",
        "31"
       ]
      },
      {
       "output_type": "stream",
       "stream": "stdout",
       "text": [
        " 3000 2900\n",
        "32"
       ]
      },
      {
       "output_type": "stream",
       "stream": "stdout",
       "text": [
        " 3100 3000\n",
        "33"
       ]
      },
      {
       "output_type": "stream",
       "stream": "stdout",
       "text": [
        " 3200 3100\n",
        "34"
       ]
      },
      {
       "output_type": "stream",
       "stream": "stdout",
       "text": [
        " 3300 3200\n",
        "35"
       ]
      },
      {
       "output_type": "stream",
       "stream": "stdout",
       "text": [
        " 3400 3300\n",
        "36"
       ]
      },
      {
       "output_type": "stream",
       "stream": "stdout",
       "text": [
        " 3500 3400\n",
        "37"
       ]
      },
      {
       "output_type": "stream",
       "stream": "stdout",
       "text": [
        " 3600 3500\n",
        "38"
       ]
      },
      {
       "output_type": "stream",
       "stream": "stdout",
       "text": [
        " 3615 3600\n"
       ]
      }
     ],
     "prompt_number": 398
    },
    {
     "cell_type": "code",
     "collapsed": false,
     "input": [
      "len( HITs )"
     ],
     "language": "python",
     "metadata": {},
     "outputs": [
      {
       "metadata": {},
       "output_type": "pyout",
       "prompt_number": 399,
       "text": [
        "3615"
       ]
      }
     ],
     "prompt_number": 399
    },
    {
     "cell_type": "code",
     "collapsed": false,
     "input": [
      "len( [hit for hit in HITs if hit.HITStatus == 'Reviewable' ] )"
     ],
     "language": "python",
     "metadata": {},
     "outputs": [
      {
       "metadata": {},
       "output_type": "pyout",
       "prompt_number": 400,
       "text": [
        "2364"
       ]
      }
     ],
     "prompt_number": 400
    },
    {
     "cell_type": "markdown",
     "metadata": {},
     "source": [
      "# Collect assignments"
     ]
    },
    {
     "cell_type": "code",
     "collapsed": false,
     "input": [
      "assignments = []"
     ],
     "language": "python",
     "metadata": {},
     "outputs": [],
     "prompt_number": 401
    },
    {
     "cell_type": "code",
     "collapsed": false,
     "input": [
      "batch_count = 0\n",
      "\n",
      "for i, hit in enumerate( HITs ):\n",
      "    \n",
      "    if hit.HITStatus != 'Reviewable':\n",
      "        continue\n",
      "    \n",
      "    if len( answer_df[ answer_df['hit_id'] == hit.HITId ] ) > 0:\n",
      "#         print 'ignoring', hit.HITId\n",
      "        continue\n",
      "    \n",
      "    if batch_count % 75 == 0 and batch_count != 0:\n",
      "        time.sleep( 20 )\n",
      "    \n",
      "    print i, \n",
      "    old_len = -1\n",
      "    count = 1\n",
      "    while len( assignments ) != old_len:\n",
      "\n",
      "        assigns = MTC.get_assignments( hit_id=hit.HITId, page_number=count, page_size=10 )\n",
      "    \n",
      "        old_len = len( assignments )\n",
      "        assignments += assigns\n",
      "        count += 1 \n",
      "    print len( assignments )\n",
      "    \n",
      "    batch_count += 1"
     ],
     "language": "python",
     "metadata": {},
     "outputs": [
      {
       "output_type": "stream",
       "stream": "stdout",
       "text": [
        "429 "
       ]
      },
      {
       "output_type": "stream",
       "stream": "stdout",
       "text": [
        "3\n",
        "476"
       ]
      },
      {
       "output_type": "stream",
       "stream": "stdout",
       "text": [
        " 6\n",
        "483 "
       ]
      },
      {
       "output_type": "stream",
       "stream": "stdout",
       "text": [
        "9\n",
        "507"
       ]
      },
      {
       "output_type": "stream",
       "stream": "stdout",
       "text": [
        " 12\n",
        "627"
       ]
      },
      {
       "output_type": "stream",
       "stream": "stdout",
       "text": [
        " 15\n",
        "646"
       ]
      },
      {
       "output_type": "stream",
       "stream": "stdout",
       "text": [
        " 18\n",
        "717"
       ]
      },
      {
       "output_type": "stream",
       "stream": "stdout",
       "text": [
        " 21\n",
        "789"
       ]
      },
      {
       "output_type": "stream",
       "stream": "stdout",
       "text": [
        " 24\n",
        "843"
       ]
      },
      {
       "output_type": "stream",
       "stream": "stdout",
       "text": [
        " 27\n",
        "951"
       ]
      },
      {
       "output_type": "stream",
       "stream": "stdout",
       "text": [
        " 30\n",
        "1003"
       ]
      },
      {
       "output_type": "stream",
       "stream": "stdout",
       "text": [
        " 33\n",
        "1037"
       ]
      },
      {
       "output_type": "stream",
       "stream": "stdout",
       "text": [
        " 36\n",
        "1042 "
       ]
      },
      {
       "output_type": "stream",
       "stream": "stdout",
       "text": [
        "39\n",
        "1060"
       ]
      },
      {
       "output_type": "stream",
       "stream": "stdout",
       "text": [
        " 42\n",
        "1090"
       ]
      },
      {
       "output_type": "stream",
       "stream": "stdout",
       "text": [
        " 45\n",
        "1096 "
       ]
      },
      {
       "output_type": "stream",
       "stream": "stdout",
       "text": [
        "48\n",
        "1107"
       ]
      },
      {
       "output_type": "stream",
       "stream": "stdout",
       "text": [
        " 51\n",
        "1154"
       ]
      },
      {
       "output_type": "stream",
       "stream": "stdout",
       "text": [
        " 54\n",
        "1168"
       ]
      },
      {
       "output_type": "stream",
       "stream": "stdout",
       "text": [
        " 57\n",
        "1201"
       ]
      },
      {
       "output_type": "stream",
       "stream": "stdout",
       "text": [
        " 60\n",
        "1238"
       ]
      },
      {
       "output_type": "stream",
       "stream": "stdout",
       "text": [
        " 63\n",
        "1240 "
       ]
      },
      {
       "output_type": "stream",
       "stream": "stdout",
       "text": [
        "66\n",
        "1254"
       ]
      },
      {
       "output_type": "stream",
       "stream": "stdout",
       "text": [
        " 69\n",
        "1258 "
       ]
      },
      {
       "output_type": "stream",
       "stream": "stdout",
       "text": [
        "72\n",
        "1269"
       ]
      },
      {
       "output_type": "stream",
       "stream": "stdout",
       "text": [
        " 75\n",
        "1276 "
       ]
      },
      {
       "output_type": "stream",
       "stream": "stdout",
       "text": [
        "78\n",
        "1348"
       ]
      },
      {
       "output_type": "stream",
       "stream": "stdout",
       "text": [
        " 81\n",
        "1366"
       ]
      },
      {
       "output_type": "stream",
       "stream": "stdout",
       "text": [
        " 84\n",
        "1438"
       ]
      },
      {
       "output_type": "stream",
       "stream": "stdout",
       "text": [
        " 87\n",
        "1491"
       ]
      },
      {
       "output_type": "stream",
       "stream": "stdout",
       "text": [
        " 90\n",
        "1503"
       ]
      },
      {
       "output_type": "stream",
       "stream": "stdout",
       "text": [
        " 93\n",
        "1528"
       ]
      },
      {
       "output_type": "stream",
       "stream": "stdout",
       "text": [
        " 96\n",
        "1539"
       ]
      },
      {
       "output_type": "stream",
       "stream": "stdout",
       "text": [
        " 99\n",
        "1557"
       ]
      },
      {
       "output_type": "stream",
       "stream": "stdout",
       "text": [
        " 102\n",
        "1575"
       ]
      },
      {
       "output_type": "stream",
       "stream": "stdout",
       "text": [
        " 105\n",
        "1581 "
       ]
      },
      {
       "output_type": "stream",
       "stream": "stdout",
       "text": [
        "108\n",
        "1582 "
       ]
      },
      {
       "output_type": "stream",
       "stream": "stdout",
       "text": [
        "111\n",
        "1636"
       ]
      },
      {
       "output_type": "stream",
       "stream": "stdout",
       "text": [
        " 114\n",
        "1665"
       ]
      },
      {
       "output_type": "stream",
       "stream": "stdout",
       "text": [
        " 117\n",
        "1672 "
       ]
      },
      {
       "output_type": "stream",
       "stream": "stdout",
       "text": [
        "120\n",
        "1701"
       ]
      },
      {
       "output_type": "stream",
       "stream": "stdout",
       "text": [
        " 123\n",
        "1719"
       ]
      },
      {
       "output_type": "stream",
       "stream": "stdout",
       "text": [
        " 126\n",
        "1726 "
       ]
      },
      {
       "output_type": "stream",
       "stream": "stdout",
       "text": [
        "129\n",
        "1737"
       ]
      },
      {
       "output_type": "stream",
       "stream": "stdout",
       "text": [
        " 132\n",
        "1744 "
       ]
      },
      {
       "output_type": "stream",
       "stream": "stdout",
       "text": [
        "135\n",
        "1762"
       ]
      },
      {
       "output_type": "stream",
       "stream": "stdout",
       "text": [
        " 138\n",
        "1774"
       ]
      },
      {
       "output_type": "stream",
       "stream": "stdout",
       "text": [
        " 141\n",
        "1779 "
       ]
      },
      {
       "output_type": "stream",
       "stream": "stdout",
       "text": [
        "144\n",
        "1780 "
       ]
      },
      {
       "output_type": "stream",
       "stream": "stdout",
       "text": [
        "147\n",
        "1797"
       ]
      },
      {
       "output_type": "stream",
       "stream": "stdout",
       "text": [
        " 150\n",
        "1798 "
       ]
      },
      {
       "output_type": "stream",
       "stream": "stdout",
       "text": [
        "153\n",
        "1816"
       ]
      },
      {
       "output_type": "stream",
       "stream": "stdout",
       "text": [
        " 156\n",
        "1817 "
       ]
      },
      {
       "output_type": "stream",
       "stream": "stdout",
       "text": [
        "159\n",
        "1818 "
       ]
      },
      {
       "output_type": "stream",
       "stream": "stdout",
       "text": [
        "162\n",
        "1819 "
       ]
      },
      {
       "output_type": "stream",
       "stream": "stdout",
       "text": [
        "165\n",
        "1820 "
       ]
      },
      {
       "output_type": "stream",
       "stream": "stdout",
       "text": [
        "168\n",
        "1823 "
       ]
      },
      {
       "output_type": "stream",
       "stream": "stdout",
       "text": [
        "171\n",
        "1825 "
       ]
      },
      {
       "output_type": "stream",
       "stream": "stdout",
       "text": [
        "174\n",
        "1827 "
       ]
      },
      {
       "output_type": "stream",
       "stream": "stdout",
       "text": [
        "177\n",
        "1828 "
       ]
      },
      {
       "output_type": "stream",
       "stream": "stdout",
       "text": [
        "180\n",
        "1830 "
       ]
      },
      {
       "output_type": "stream",
       "stream": "stdout",
       "text": [
        "183\n",
        "1831 "
       ]
      },
      {
       "output_type": "stream",
       "stream": "stdout",
       "text": [
        "186\n",
        "1832 "
       ]
      },
      {
       "output_type": "stream",
       "stream": "stdout",
       "text": [
        "189\n",
        "1835 "
       ]
      },
      {
       "output_type": "stream",
       "stream": "stdout",
       "text": [
        "192\n",
        "1837 "
       ]
      },
      {
       "output_type": "stream",
       "stream": "stdout",
       "text": [
        "195\n",
        "1838 "
       ]
      },
      {
       "output_type": "stream",
       "stream": "stdout",
       "text": [
        "198\n",
        "1843 "
       ]
      },
      {
       "output_type": "stream",
       "stream": "stdout",
       "text": [
        "201\n",
        "1844 "
       ]
      },
      {
       "output_type": "stream",
       "stream": "stdout",
       "text": [
        "204\n",
        "1846 "
       ]
      },
      {
       "output_type": "stream",
       "stream": "stdout",
       "text": [
        "207\n",
        "1848 "
       ]
      },
      {
       "output_type": "stream",
       "stream": "stdout",
       "text": [
        "210\n",
        "1849 "
       ]
      },
      {
       "output_type": "stream",
       "stream": "stdout",
       "text": [
        "213\n",
        "1850 "
       ]
      },
      {
       "output_type": "stream",
       "stream": "stdout",
       "text": [
        "216\n",
        "1852 "
       ]
      },
      {
       "output_type": "stream",
       "stream": "stdout",
       "text": [
        "219\n",
        "1853 "
       ]
      },
      {
       "output_type": "stream",
       "stream": "stdout",
       "text": [
        "222\n",
        "1854 "
       ]
      },
      {
       "output_type": "stream",
       "stream": "stdout",
       "text": [
        "225\n",
        "1855"
       ]
      },
      {
       "output_type": "stream",
       "stream": "stdout",
       "text": [
        " 228\n",
        "1856 "
       ]
      },
      {
       "output_type": "stream",
       "stream": "stdout",
       "text": [
        "231\n",
        "1857 "
       ]
      },
      {
       "output_type": "stream",
       "stream": "stdout",
       "text": [
        "234\n",
        "1860 "
       ]
      },
      {
       "output_type": "stream",
       "stream": "stdout",
       "text": [
        "237\n",
        "1861 "
       ]
      },
      {
       "output_type": "stream",
       "stream": "stdout",
       "text": [
        "240\n",
        "1862 "
       ]
      },
      {
       "output_type": "stream",
       "stream": "stdout",
       "text": [
        "243\n",
        "1863 "
       ]
      },
      {
       "output_type": "stream",
       "stream": "stdout",
       "text": [
        "246\n",
        "1864 "
       ]
      },
      {
       "output_type": "stream",
       "stream": "stdout",
       "text": [
        "249\n",
        "1865 "
       ]
      },
      {
       "output_type": "stream",
       "stream": "stdout",
       "text": [
        "252\n",
        "1866 "
       ]
      },
      {
       "output_type": "stream",
       "stream": "stdout",
       "text": [
        "255\n",
        "1868 "
       ]
      },
      {
       "output_type": "stream",
       "stream": "stdout",
       "text": [
        "258\n",
        "1870 "
       ]
      },
      {
       "output_type": "stream",
       "stream": "stdout",
       "text": [
        "261\n",
        "1871 "
       ]
      },
      {
       "output_type": "stream",
       "stream": "stdout",
       "text": [
        "264\n",
        "1872 "
       ]
      },
      {
       "output_type": "stream",
       "stream": "stdout",
       "text": [
        "267\n",
        "1873 "
       ]
      },
      {
       "output_type": "stream",
       "stream": "stdout",
       "text": [
        "270\n",
        "1874 "
       ]
      },
      {
       "output_type": "stream",
       "stream": "stdout",
       "text": [
        "273\n",
        "1875 "
       ]
      },
      {
       "output_type": "stream",
       "stream": "stdout",
       "text": [
        "276\n",
        "1877 "
       ]
      },
      {
       "output_type": "stream",
       "stream": "stdout",
       "text": [
        "279\n",
        "1879 "
       ]
      },
      {
       "output_type": "stream",
       "stream": "stdout",
       "text": [
        "282\n",
        "1880 "
       ]
      },
      {
       "output_type": "stream",
       "stream": "stdout",
       "text": [
        "285\n",
        "1881 "
       ]
      },
      {
       "output_type": "stream",
       "stream": "stdout",
       "text": [
        "288\n",
        "1883 "
       ]
      },
      {
       "output_type": "stream",
       "stream": "stdout",
       "text": [
        "291\n",
        "1884 "
       ]
      },
      {
       "output_type": "stream",
       "stream": "stdout",
       "text": [
        "294\n",
        "1885 "
       ]
      },
      {
       "output_type": "stream",
       "stream": "stdout",
       "text": [
        "297\n",
        "1886 "
       ]
      },
      {
       "output_type": "stream",
       "stream": "stdout",
       "text": [
        "300\n",
        "1889 "
       ]
      },
      {
       "output_type": "stream",
       "stream": "stdout",
       "text": [
        "303\n",
        "1890 "
       ]
      },
      {
       "output_type": "stream",
       "stream": "stdout",
       "text": [
        "306\n",
        "1891 "
       ]
      },
      {
       "output_type": "stream",
       "stream": "stdout",
       "text": [
        "309\n",
        "1892 "
       ]
      },
      {
       "output_type": "stream",
       "stream": "stdout",
       "text": [
        "312\n",
        "1893 "
       ]
      },
      {
       "output_type": "stream",
       "stream": "stdout",
       "text": [
        "315\n",
        "1894 "
       ]
      },
      {
       "output_type": "stream",
       "stream": "stdout",
       "text": [
        "318\n",
        "1896 "
       ]
      },
      {
       "output_type": "stream",
       "stream": "stdout",
       "text": [
        "321\n",
        "1897 "
       ]
      },
      {
       "output_type": "stream",
       "stream": "stdout",
       "text": [
        "324\n",
        "1898 "
       ]
      },
      {
       "output_type": "stream",
       "stream": "stdout",
       "text": [
        "327\n",
        "1899 "
       ]
      },
      {
       "output_type": "stream",
       "stream": "stdout",
       "text": [
        "330\n",
        "1901 "
       ]
      },
      {
       "output_type": "stream",
       "stream": "stdout",
       "text": [
        "333\n",
        "1902 "
       ]
      },
      {
       "output_type": "stream",
       "stream": "stdout",
       "text": [
        "336\n",
        "1904 "
       ]
      },
      {
       "output_type": "stream",
       "stream": "stdout",
       "text": [
        "339\n",
        "1906 "
       ]
      },
      {
       "output_type": "stream",
       "stream": "stdout",
       "text": [
        "342\n",
        "1907 "
       ]
      },
      {
       "output_type": "stream",
       "stream": "stdout",
       "text": [
        "345\n",
        "1909 "
       ]
      },
      {
       "output_type": "stream",
       "stream": "stdout",
       "text": [
        "348\n",
        "1910 "
       ]
      },
      {
       "output_type": "stream",
       "stream": "stdout",
       "text": [
        "351\n",
        "1911 "
       ]
      },
      {
       "output_type": "stream",
       "stream": "stdout",
       "text": [
        "354\n",
        "1914 "
       ]
      },
      {
       "output_type": "stream",
       "stream": "stdout",
       "text": [
        "357\n",
        "1915 "
       ]
      },
      {
       "output_type": "stream",
       "stream": "stdout",
       "text": [
        "360\n",
        "1917 "
       ]
      },
      {
       "output_type": "stream",
       "stream": "stdout",
       "text": [
        "363\n",
        "1918 "
       ]
      },
      {
       "output_type": "stream",
       "stream": "stdout",
       "text": [
        "366\n",
        "1920 "
       ]
      },
      {
       "output_type": "stream",
       "stream": "stdout",
       "text": [
        "369\n",
        "1921 "
       ]
      },
      {
       "output_type": "stream",
       "stream": "stdout",
       "text": [
        "372\n",
        "1922 "
       ]
      },
      {
       "output_type": "stream",
       "stream": "stdout",
       "text": [
        "375\n",
        "1924 "
       ]
      },
      {
       "output_type": "stream",
       "stream": "stdout",
       "text": [
        "378\n",
        "1925 "
       ]
      },
      {
       "output_type": "stream",
       "stream": "stdout",
       "text": [
        "381\n",
        "1926 "
       ]
      },
      {
       "output_type": "stream",
       "stream": "stdout",
       "text": [
        "384\n",
        "1927 "
       ]
      },
      {
       "output_type": "stream",
       "stream": "stdout",
       "text": [
        "387\n",
        "1928 "
       ]
      },
      {
       "output_type": "stream",
       "stream": "stdout",
       "text": [
        "390\n",
        "1932 "
       ]
      },
      {
       "output_type": "stream",
       "stream": "stdout",
       "text": [
        "393\n",
        "1933 "
       ]
      },
      {
       "output_type": "stream",
       "stream": "stdout",
       "text": [
        "396\n",
        "1934 "
       ]
      },
      {
       "output_type": "stream",
       "stream": "stdout",
       "text": [
        "399\n",
        "1936 "
       ]
      },
      {
       "output_type": "stream",
       "stream": "stdout",
       "text": [
        "402\n",
        "1937 "
       ]
      },
      {
       "output_type": "stream",
       "stream": "stdout",
       "text": [
        "405\n",
        "1938 "
       ]
      },
      {
       "output_type": "stream",
       "stream": "stdout",
       "text": [
        "408\n",
        "1939 "
       ]
      },
      {
       "output_type": "stream",
       "stream": "stdout",
       "text": [
        "411\n",
        "1940 "
       ]
      },
      {
       "output_type": "stream",
       "stream": "stdout",
       "text": [
        "414\n",
        "1941 "
       ]
      },
      {
       "output_type": "stream",
       "stream": "stdout",
       "text": [
        "417\n",
        "1942 "
       ]
      },
      {
       "output_type": "stream",
       "stream": "stdout",
       "text": [
        "420\n",
        "1943 "
       ]
      },
      {
       "output_type": "stream",
       "stream": "stdout",
       "text": [
        "423\n",
        "1945 "
       ]
      },
      {
       "output_type": "stream",
       "stream": "stdout",
       "text": [
        "426\n",
        "1946 "
       ]
      },
      {
       "output_type": "stream",
       "stream": "stdout",
       "text": [
        "429\n",
        "1947 "
       ]
      },
      {
       "output_type": "stream",
       "stream": "stdout",
       "text": [
        "432\n",
        "1948 "
       ]
      },
      {
       "output_type": "stream",
       "stream": "stdout",
       "text": [
        "435\n",
        "1951 "
       ]
      },
      {
       "output_type": "stream",
       "stream": "stdout",
       "text": [
        "438\n",
        "1953 "
       ]
      },
      {
       "output_type": "stream",
       "stream": "stdout",
       "text": [
        "441\n",
        "1954 "
       ]
      },
      {
       "output_type": "stream",
       "stream": "stdout",
       "text": [
        "444\n",
        "1955 "
       ]
      },
      {
       "output_type": "stream",
       "stream": "stdout",
       "text": [
        "447\n",
        "1956 "
       ]
      },
      {
       "output_type": "stream",
       "stream": "stdout",
       "text": [
        "450\n",
        "1957"
       ]
      },
      {
       "output_type": "stream",
       "stream": "stdout",
       "text": [
        " 453\n",
        "1958 "
       ]
      },
      {
       "output_type": "stream",
       "stream": "stdout",
       "text": [
        "456\n",
        "1959 "
       ]
      },
      {
       "output_type": "stream",
       "stream": "stdout",
       "text": [
        "459\n",
        "1960 "
       ]
      },
      {
       "output_type": "stream",
       "stream": "stdout",
       "text": [
        "462\n",
        "1961 "
       ]
      },
      {
       "output_type": "stream",
       "stream": "stdout",
       "text": [
        "465\n",
        "1962 "
       ]
      },
      {
       "output_type": "stream",
       "stream": "stdout",
       "text": [
        "468\n",
        "1963 "
       ]
      },
      {
       "output_type": "stream",
       "stream": "stdout",
       "text": [
        "471\n",
        "1964 "
       ]
      },
      {
       "output_type": "stream",
       "stream": "stdout",
       "text": [
        "474\n",
        "1965 "
       ]
      },
      {
       "output_type": "stream",
       "stream": "stdout",
       "text": [
        "477\n",
        "1966 "
       ]
      },
      {
       "output_type": "stream",
       "stream": "stdout",
       "text": [
        "480\n",
        "1967 "
       ]
      },
      {
       "output_type": "stream",
       "stream": "stdout",
       "text": [
        "483\n",
        "1969 "
       ]
      },
      {
       "output_type": "stream",
       "stream": "stdout",
       "text": [
        "486\n",
        "1970 "
       ]
      },
      {
       "output_type": "stream",
       "stream": "stdout",
       "text": [
        "489\n",
        "1971 "
       ]
      },
      {
       "output_type": "stream",
       "stream": "stdout",
       "text": [
        "492\n",
        "1972 "
       ]
      },
      {
       "output_type": "stream",
       "stream": "stdout",
       "text": [
        "495\n",
        "1973 "
       ]
      },
      {
       "output_type": "stream",
       "stream": "stdout",
       "text": [
        "498\n",
        "1974 "
       ]
      },
      {
       "output_type": "stream",
       "stream": "stdout",
       "text": [
        "501\n",
        "1975 "
       ]
      },
      {
       "output_type": "stream",
       "stream": "stdout",
       "text": [
        "504\n",
        "1976 "
       ]
      },
      {
       "output_type": "stream",
       "stream": "stdout",
       "text": [
        "507\n",
        "1977 "
       ]
      },
      {
       "output_type": "stream",
       "stream": "stdout",
       "text": [
        "510\n",
        "1978 "
       ]
      },
      {
       "output_type": "stream",
       "stream": "stdout",
       "text": [
        "513\n",
        "1979 "
       ]
      },
      {
       "output_type": "stream",
       "stream": "stdout",
       "text": [
        "516\n",
        "1981 "
       ]
      },
      {
       "output_type": "stream",
       "stream": "stdout",
       "text": [
        "519\n",
        "1982 "
       ]
      },
      {
       "output_type": "stream",
       "stream": "stdout",
       "text": [
        "522\n",
        "1983 "
       ]
      },
      {
       "output_type": "stream",
       "stream": "stdout",
       "text": [
        "525\n",
        "1984 "
       ]
      },
      {
       "output_type": "stream",
       "stream": "stdout",
       "text": [
        "528\n",
        "1986 "
       ]
      },
      {
       "output_type": "stream",
       "stream": "stdout",
       "text": [
        "531\n",
        "1987 "
       ]
      },
      {
       "output_type": "stream",
       "stream": "stdout",
       "text": [
        "534\n",
        "1988 "
       ]
      },
      {
       "output_type": "stream",
       "stream": "stdout",
       "text": [
        "537\n",
        "1989 "
       ]
      },
      {
       "output_type": "stream",
       "stream": "stdout",
       "text": [
        "540\n",
        "1992 "
       ]
      },
      {
       "output_type": "stream",
       "stream": "stdout",
       "text": [
        "543\n",
        "1994 "
       ]
      },
      {
       "output_type": "stream",
       "stream": "stdout",
       "text": [
        "546\n",
        "1995 "
       ]
      },
      {
       "output_type": "stream",
       "stream": "stdout",
       "text": [
        "549\n",
        "1997 "
       ]
      },
      {
       "output_type": "stream",
       "stream": "stdout",
       "text": [
        "552\n",
        "1999 "
       ]
      },
      {
       "output_type": "stream",
       "stream": "stdout",
       "text": [
        "555\n",
        "2000 "
       ]
      },
      {
       "output_type": "stream",
       "stream": "stdout",
       "text": [
        "558\n",
        "2002 "
       ]
      },
      {
       "output_type": "stream",
       "stream": "stdout",
       "text": [
        "561\n",
        "2004 "
       ]
      },
      {
       "output_type": "stream",
       "stream": "stdout",
       "text": [
        "564\n",
        "2005 "
       ]
      },
      {
       "output_type": "stream",
       "stream": "stdout",
       "text": [
        "567\n",
        "2007 "
       ]
      },
      {
       "output_type": "stream",
       "stream": "stdout",
       "text": [
        "570\n",
        "2008 "
       ]
      },
      {
       "output_type": "stream",
       "stream": "stdout",
       "text": [
        "573\n",
        "2009 "
       ]
      },
      {
       "output_type": "stream",
       "stream": "stdout",
       "text": [
        "576\n",
        "2010 "
       ]
      },
      {
       "output_type": "stream",
       "stream": "stdout",
       "text": [
        "579\n",
        "2011 "
       ]
      },
      {
       "output_type": "stream",
       "stream": "stdout",
       "text": [
        "582\n",
        "2012 "
       ]
      },
      {
       "output_type": "stream",
       "stream": "stdout",
       "text": [
        "585\n",
        "2014 "
       ]
      },
      {
       "output_type": "stream",
       "stream": "stdout",
       "text": [
        "588\n",
        "2015 "
       ]
      },
      {
       "output_type": "stream",
       "stream": "stdout",
       "text": [
        "591\n",
        "2017 "
       ]
      },
      {
       "output_type": "stream",
       "stream": "stdout",
       "text": [
        "594\n",
        "2018 "
       ]
      },
      {
       "output_type": "stream",
       "stream": "stdout",
       "text": [
        "597\n",
        "2019 "
       ]
      },
      {
       "output_type": "stream",
       "stream": "stdout",
       "text": [
        "600\n",
        "2022 "
       ]
      },
      {
       "output_type": "stream",
       "stream": "stdout",
       "text": [
        "603\n",
        "2023 "
       ]
      },
      {
       "output_type": "stream",
       "stream": "stdout",
       "text": [
        "606\n",
        "2024 "
       ]
      },
      {
       "output_type": "stream",
       "stream": "stdout",
       "text": [
        "609\n",
        "2025 "
       ]
      },
      {
       "output_type": "stream",
       "stream": "stdout",
       "text": [
        "612\n",
        "2027 "
       ]
      },
      {
       "output_type": "stream",
       "stream": "stdout",
       "text": [
        "615\n",
        "2028 "
       ]
      },
      {
       "output_type": "stream",
       "stream": "stdout",
       "text": [
        "618\n",
        "2030 "
       ]
      },
      {
       "output_type": "stream",
       "stream": "stdout",
       "text": [
        "621\n",
        "2031 "
       ]
      },
      {
       "output_type": "stream",
       "stream": "stdout",
       "text": [
        "624\n",
        "2032 "
       ]
      },
      {
       "output_type": "stream",
       "stream": "stdout",
       "text": [
        "627\n",
        "2033 "
       ]
      },
      {
       "output_type": "stream",
       "stream": "stdout",
       "text": [
        "630\n",
        "2035 "
       ]
      },
      {
       "output_type": "stream",
       "stream": "stdout",
       "text": [
        "633\n",
        "2036 "
       ]
      },
      {
       "output_type": "stream",
       "stream": "stdout",
       "text": [
        "636\n",
        "2037 "
       ]
      },
      {
       "output_type": "stream",
       "stream": "stdout",
       "text": [
        "639\n",
        "2038 "
       ]
      },
      {
       "output_type": "stream",
       "stream": "stdout",
       "text": [
        "642\n",
        "2040 "
       ]
      },
      {
       "output_type": "stream",
       "stream": "stdout",
       "text": [
        "645\n",
        "2041 "
       ]
      },
      {
       "output_type": "stream",
       "stream": "stdout",
       "text": [
        "648\n",
        "2046 "
       ]
      },
      {
       "output_type": "stream",
       "stream": "stdout",
       "text": [
        "651\n",
        "2047 "
       ]
      },
      {
       "output_type": "stream",
       "stream": "stdout",
       "text": [
        "654\n",
        "2048 "
       ]
      },
      {
       "output_type": "stream",
       "stream": "stdout",
       "text": [
        "657\n",
        "2049 "
       ]
      },
      {
       "output_type": "stream",
       "stream": "stdout",
       "text": [
        "660\n",
        "2052 "
       ]
      },
      {
       "output_type": "stream",
       "stream": "stdout",
       "text": [
        "663\n",
        "2053 "
       ]
      },
      {
       "output_type": "stream",
       "stream": "stdout",
       "text": [
        "666\n",
        "2054 "
       ]
      },
      {
       "output_type": "stream",
       "stream": "stdout",
       "text": [
        "669\n",
        "2055 "
       ]
      },
      {
       "output_type": "stream",
       "stream": "stdout",
       "text": [
        "672\n",
        "2056 "
       ]
      },
      {
       "output_type": "stream",
       "stream": "stdout",
       "text": [
        "675\n",
        "2058"
       ]
      },
      {
       "output_type": "stream",
       "stream": "stdout",
       "text": [
        " 678\n",
        "2059 "
       ]
      },
      {
       "output_type": "stream",
       "stream": "stdout",
       "text": [
        "681\n",
        "2062 "
       ]
      },
      {
       "output_type": "stream",
       "stream": "stdout",
       "text": [
        "684\n",
        "2064 "
       ]
      },
      {
       "output_type": "stream",
       "stream": "stdout",
       "text": [
        "687\n",
        "2066 "
       ]
      },
      {
       "output_type": "stream",
       "stream": "stdout",
       "text": [
        "690\n",
        "2068 "
       ]
      },
      {
       "output_type": "stream",
       "stream": "stdout",
       "text": [
        "693\n",
        "2069 "
       ]
      },
      {
       "output_type": "stream",
       "stream": "stdout",
       "text": [
        "696\n",
        "2071 "
       ]
      },
      {
       "output_type": "stream",
       "stream": "stdout",
       "text": [
        "699\n",
        "2072 "
       ]
      },
      {
       "output_type": "stream",
       "stream": "stdout",
       "text": [
        "702\n",
        "2073 "
       ]
      },
      {
       "output_type": "stream",
       "stream": "stdout",
       "text": [
        "705\n",
        "2074 "
       ]
      },
      {
       "output_type": "stream",
       "stream": "stdout",
       "text": [
        "708\n",
        "2076 "
       ]
      },
      {
       "output_type": "stream",
       "stream": "stdout",
       "text": [
        "711\n",
        "2077 "
       ]
      },
      {
       "output_type": "stream",
       "stream": "stdout",
       "text": [
        "714\n",
        "2079 "
       ]
      },
      {
       "output_type": "stream",
       "stream": "stdout",
       "text": [
        "717\n",
        "2082 "
       ]
      },
      {
       "output_type": "stream",
       "stream": "stdout",
       "text": [
        "720\n",
        "2084 "
       ]
      },
      {
       "output_type": "stream",
       "stream": "stdout",
       "text": [
        "723\n",
        "2085 "
       ]
      },
      {
       "output_type": "stream",
       "stream": "stdout",
       "text": [
        "726\n",
        "2086 "
       ]
      },
      {
       "output_type": "stream",
       "stream": "stdout",
       "text": [
        "729\n",
        "2087 "
       ]
      },
      {
       "output_type": "stream",
       "stream": "stdout",
       "text": [
        "732\n",
        "2089 "
       ]
      },
      {
       "output_type": "stream",
       "stream": "stdout",
       "text": [
        "735\n",
        "2090 "
       ]
      },
      {
       "output_type": "stream",
       "stream": "stdout",
       "text": [
        "738\n",
        "2091 "
       ]
      },
      {
       "output_type": "stream",
       "stream": "stdout",
       "text": [
        "741\n",
        "2094 "
       ]
      },
      {
       "output_type": "stream",
       "stream": "stdout",
       "text": [
        "744\n",
        "2095 "
       ]
      },
      {
       "output_type": "stream",
       "stream": "stdout",
       "text": [
        "747\n",
        "2097 "
       ]
      },
      {
       "output_type": "stream",
       "stream": "stdout",
       "text": [
        "750\n",
        "2099 "
       ]
      },
      {
       "output_type": "stream",
       "stream": "stdout",
       "text": [
        "753\n",
        "2100 "
       ]
      },
      {
       "output_type": "stream",
       "stream": "stdout",
       "text": [
        "756\n",
        "2102 "
       ]
      },
      {
       "output_type": "stream",
       "stream": "stdout",
       "text": [
        "759\n",
        "2105 "
       ]
      },
      {
       "output_type": "stream",
       "stream": "stdout",
       "text": [
        "762\n",
        "2107 "
       ]
      },
      {
       "output_type": "stream",
       "stream": "stdout",
       "text": [
        "765\n",
        "2108 "
       ]
      },
      {
       "output_type": "stream",
       "stream": "stdout",
       "text": [
        "768\n",
        "2109 "
       ]
      },
      {
       "output_type": "stream",
       "stream": "stdout",
       "text": [
        "771\n",
        "2110 "
       ]
      },
      {
       "output_type": "stream",
       "stream": "stdout",
       "text": [
        "774\n",
        "2111 "
       ]
      },
      {
       "output_type": "stream",
       "stream": "stdout",
       "text": [
        "777\n",
        "2113 "
       ]
      },
      {
       "output_type": "stream",
       "stream": "stdout",
       "text": [
        "780\n",
        "2115 "
       ]
      },
      {
       "output_type": "stream",
       "stream": "stdout",
       "text": [
        "783\n",
        "2116 "
       ]
      },
      {
       "output_type": "stream",
       "stream": "stdout",
       "text": [
        "786\n",
        "2118 "
       ]
      },
      {
       "output_type": "stream",
       "stream": "stdout",
       "text": [
        "789\n",
        "2119 "
       ]
      },
      {
       "output_type": "stream",
       "stream": "stdout",
       "text": [
        "792\n",
        "2120 "
       ]
      },
      {
       "output_type": "stream",
       "stream": "stdout",
       "text": [
        "795\n",
        "2121 "
       ]
      },
      {
       "output_type": "stream",
       "stream": "stdout",
       "text": [
        "798\n",
        "2123 "
       ]
      },
      {
       "output_type": "stream",
       "stream": "stdout",
       "text": [
        "801\n",
        "2124 "
       ]
      },
      {
       "output_type": "stream",
       "stream": "stdout",
       "text": [
        "804\n",
        "2125 "
       ]
      },
      {
       "output_type": "stream",
       "stream": "stdout",
       "text": [
        "807\n",
        "2126 "
       ]
      },
      {
       "output_type": "stream",
       "stream": "stdout",
       "text": [
        "810\n",
        "2127 "
       ]
      },
      {
       "output_type": "stream",
       "stream": "stdout",
       "text": [
        "813\n",
        "2128 "
       ]
      },
      {
       "output_type": "stream",
       "stream": "stdout",
       "text": [
        "816\n",
        "2131 "
       ]
      },
      {
       "output_type": "stream",
       "stream": "stdout",
       "text": [
        "819\n",
        "2132 "
       ]
      },
      {
       "output_type": "stream",
       "stream": "stdout",
       "text": [
        "822\n",
        "2133 "
       ]
      },
      {
       "output_type": "stream",
       "stream": "stdout",
       "text": [
        "825\n",
        "2134 "
       ]
      },
      {
       "output_type": "stream",
       "stream": "stdout",
       "text": [
        "828\n",
        "2135 "
       ]
      },
      {
       "output_type": "stream",
       "stream": "stdout",
       "text": [
        "831\n",
        "2136 "
       ]
      },
      {
       "output_type": "stream",
       "stream": "stdout",
       "text": [
        "834\n",
        "2138 "
       ]
      },
      {
       "output_type": "stream",
       "stream": "stdout",
       "text": [
        "837\n",
        "2139 "
       ]
      },
      {
       "output_type": "stream",
       "stream": "stdout",
       "text": [
        "840\n",
        "2140 "
       ]
      },
      {
       "output_type": "stream",
       "stream": "stdout",
       "text": [
        "843\n",
        "2141 "
       ]
      },
      {
       "output_type": "stream",
       "stream": "stdout",
       "text": [
        "846\n",
        "2142 "
       ]
      },
      {
       "output_type": "stream",
       "stream": "stdout",
       "text": [
        "849\n",
        "2143 "
       ]
      },
      {
       "output_type": "stream",
       "stream": "stdout",
       "text": [
        "852\n",
        "2144 "
       ]
      },
      {
       "output_type": "stream",
       "stream": "stdout",
       "text": [
        "855\n",
        "2145 "
       ]
      },
      {
       "output_type": "stream",
       "stream": "stdout",
       "text": [
        "858\n",
        "2146 "
       ]
      },
      {
       "output_type": "stream",
       "stream": "stdout",
       "text": [
        "861\n",
        "2148 "
       ]
      },
      {
       "output_type": "stream",
       "stream": "stdout",
       "text": [
        "864\n",
        "2149 "
       ]
      },
      {
       "output_type": "stream",
       "stream": "stdout",
       "text": [
        "867\n",
        "2151 "
       ]
      },
      {
       "output_type": "stream",
       "stream": "stdout",
       "text": [
        "870\n",
        "2153 "
       ]
      },
      {
       "output_type": "stream",
       "stream": "stdout",
       "text": [
        "873\n",
        "2154 "
       ]
      },
      {
       "output_type": "stream",
       "stream": "stdout",
       "text": [
        "876\n",
        "2155 "
       ]
      },
      {
       "output_type": "stream",
       "stream": "stdout",
       "text": [
        "879\n",
        "2156 "
       ]
      },
      {
       "output_type": "stream",
       "stream": "stdout",
       "text": [
        "882\n",
        "2157 "
       ]
      },
      {
       "output_type": "stream",
       "stream": "stdout",
       "text": [
        "885\n",
        "2159 "
       ]
      },
      {
       "output_type": "stream",
       "stream": "stdout",
       "text": [
        "888\n",
        "2160 "
       ]
      },
      {
       "output_type": "stream",
       "stream": "stdout",
       "text": [
        "891\n",
        "2161 "
       ]
      },
      {
       "output_type": "stream",
       "stream": "stdout",
       "text": [
        "894\n",
        "2162 "
       ]
      },
      {
       "output_type": "stream",
       "stream": "stdout",
       "text": [
        "897\n",
        "2164 "
       ]
      },
      {
       "output_type": "stream",
       "stream": "stdout",
       "text": [
        "900\n",
        "2166"
       ]
      },
      {
       "output_type": "stream",
       "stream": "stdout",
       "text": [
        " 903\n",
        "2167 "
       ]
      },
      {
       "output_type": "stream",
       "stream": "stdout",
       "text": [
        "906\n",
        "2169 "
       ]
      },
      {
       "output_type": "stream",
       "stream": "stdout",
       "text": [
        "909\n",
        "2170 "
       ]
      },
      {
       "output_type": "stream",
       "stream": "stdout",
       "text": [
        "912\n",
        "2171 "
       ]
      },
      {
       "output_type": "stream",
       "stream": "stdout",
       "text": [
        "915\n",
        "2172 "
       ]
      },
      {
       "output_type": "stream",
       "stream": "stdout",
       "text": [
        "918\n",
        "2173 "
       ]
      },
      {
       "output_type": "stream",
       "stream": "stdout",
       "text": [
        "921\n",
        "2174 "
       ]
      },
      {
       "output_type": "stream",
       "stream": "stdout",
       "text": [
        "924\n",
        "2176 "
       ]
      },
      {
       "output_type": "stream",
       "stream": "stdout",
       "text": [
        "927\n",
        "2177 "
       ]
      },
      {
       "output_type": "stream",
       "stream": "stdout",
       "text": [
        "930\n",
        "2179 "
       ]
      },
      {
       "output_type": "stream",
       "stream": "stdout",
       "text": [
        "933\n",
        "2181 "
       ]
      },
      {
       "output_type": "stream",
       "stream": "stdout",
       "text": [
        "936\n",
        "2182 "
       ]
      },
      {
       "output_type": "stream",
       "stream": "stdout",
       "text": [
        "939\n",
        "2183 "
       ]
      },
      {
       "output_type": "stream",
       "stream": "stdout",
       "text": [
        "942\n",
        "2185 "
       ]
      },
      {
       "output_type": "stream",
       "stream": "stdout",
       "text": [
        "945\n",
        "2186 "
       ]
      },
      {
       "output_type": "stream",
       "stream": "stdout",
       "text": [
        "948\n",
        "2187 "
       ]
      },
      {
       "output_type": "stream",
       "stream": "stdout",
       "text": [
        "951\n",
        "2188 "
       ]
      },
      {
       "output_type": "stream",
       "stream": "stdout",
       "text": [
        "954\n",
        "2190 "
       ]
      },
      {
       "output_type": "stream",
       "stream": "stdout",
       "text": [
        "957\n",
        "2191 "
       ]
      },
      {
       "output_type": "stream",
       "stream": "stdout",
       "text": [
        "960\n",
        "2192 "
       ]
      },
      {
       "output_type": "stream",
       "stream": "stdout",
       "text": [
        "963\n",
        "2193 "
       ]
      },
      {
       "output_type": "stream",
       "stream": "stdout",
       "text": [
        "966\n",
        "2194 "
       ]
      },
      {
       "output_type": "stream",
       "stream": "stdout",
       "text": [
        "969\n",
        "2195 "
       ]
      },
      {
       "output_type": "stream",
       "stream": "stdout",
       "text": [
        "972\n",
        "2196 "
       ]
      },
      {
       "output_type": "stream",
       "stream": "stdout",
       "text": [
        "975\n",
        "2197 "
       ]
      },
      {
       "output_type": "stream",
       "stream": "stdout",
       "text": [
        "978\n",
        "2198 "
       ]
      },
      {
       "output_type": "stream",
       "stream": "stdout",
       "text": [
        "981\n",
        "2199 "
       ]
      },
      {
       "output_type": "stream",
       "stream": "stdout",
       "text": [
        "984\n",
        "2200 "
       ]
      },
      {
       "output_type": "stream",
       "stream": "stdout",
       "text": [
        "987\n",
        "2203 "
       ]
      },
      {
       "output_type": "stream",
       "stream": "stdout",
       "text": [
        "990\n",
        "2205 "
       ]
      },
      {
       "output_type": "stream",
       "stream": "stdout",
       "text": [
        "993\n",
        "2207 "
       ]
      },
      {
       "output_type": "stream",
       "stream": "stdout",
       "text": [
        "996\n",
        "2208 "
       ]
      },
      {
       "output_type": "stream",
       "stream": "stdout",
       "text": [
        "999\n",
        "2209 "
       ]
      },
      {
       "output_type": "stream",
       "stream": "stdout",
       "text": [
        "1002\n",
        "2210 "
       ]
      },
      {
       "output_type": "stream",
       "stream": "stdout",
       "text": [
        "1005\n",
        "2212 "
       ]
      },
      {
       "output_type": "stream",
       "stream": "stdout",
       "text": [
        "1008\n",
        "2213 "
       ]
      },
      {
       "output_type": "stream",
       "stream": "stdout",
       "text": [
        "1011\n",
        "2215 "
       ]
      },
      {
       "output_type": "stream",
       "stream": "stdout",
       "text": [
        "1014\n",
        "2216 "
       ]
      },
      {
       "output_type": "stream",
       "stream": "stdout",
       "text": [
        "1017\n",
        "2217 "
       ]
      },
      {
       "output_type": "stream",
       "stream": "stdout",
       "text": [
        "1020\n",
        "2218 "
       ]
      },
      {
       "output_type": "stream",
       "stream": "stdout",
       "text": [
        "1023\n",
        "2221 "
       ]
      },
      {
       "output_type": "stream",
       "stream": "stdout",
       "text": [
        "1026\n",
        "2222 "
       ]
      },
      {
       "output_type": "stream",
       "stream": "stdout",
       "text": [
        "1029\n",
        "2223 "
       ]
      },
      {
       "output_type": "stream",
       "stream": "stdout",
       "text": [
        "1032\n",
        "2225 "
       ]
      },
      {
       "output_type": "stream",
       "stream": "stdout",
       "text": [
        "1035\n",
        "2226 "
       ]
      },
      {
       "output_type": "stream",
       "stream": "stdout",
       "text": [
        "1038\n",
        "2227 "
       ]
      },
      {
       "output_type": "stream",
       "stream": "stdout",
       "text": [
        "1041\n",
        "2228 "
       ]
      },
      {
       "output_type": "stream",
       "stream": "stdout",
       "text": [
        "1044\n",
        "2229 "
       ]
      },
      {
       "output_type": "stream",
       "stream": "stdout",
       "text": [
        "1047\n",
        "2230 "
       ]
      },
      {
       "output_type": "stream",
       "stream": "stdout",
       "text": [
        "1050\n",
        "2231 "
       ]
      },
      {
       "output_type": "stream",
       "stream": "stdout",
       "text": [
        "1053\n",
        "2233 "
       ]
      },
      {
       "output_type": "stream",
       "stream": "stdout",
       "text": [
        "1056\n",
        "2234 "
       ]
      },
      {
       "output_type": "stream",
       "stream": "stdout",
       "text": [
        "1059\n",
        "2235 "
       ]
      },
      {
       "output_type": "stream",
       "stream": "stdout",
       "text": [
        "1062\n",
        "2236 "
       ]
      },
      {
       "output_type": "stream",
       "stream": "stdout",
       "text": [
        "1065\n",
        "2238 "
       ]
      },
      {
       "output_type": "stream",
       "stream": "stdout",
       "text": [
        "1068\n",
        "2239 "
       ]
      },
      {
       "output_type": "stream",
       "stream": "stdout",
       "text": [
        "1071\n",
        "2241 "
       ]
      },
      {
       "output_type": "stream",
       "stream": "stdout",
       "text": [
        "1074\n",
        "2242 "
       ]
      },
      {
       "output_type": "stream",
       "stream": "stdout",
       "text": [
        "1077\n",
        "2243 "
       ]
      },
      {
       "output_type": "stream",
       "stream": "stdout",
       "text": [
        "1080\n",
        "2244 "
       ]
      },
      {
       "output_type": "stream",
       "stream": "stdout",
       "text": [
        "1083\n",
        "2246 "
       ]
      },
      {
       "output_type": "stream",
       "stream": "stdout",
       "text": [
        "1086\n",
        "2247 "
       ]
      },
      {
       "output_type": "stream",
       "stream": "stdout",
       "text": [
        "1089\n",
        "2248 "
       ]
      },
      {
       "output_type": "stream",
       "stream": "stdout",
       "text": [
        "1092\n",
        "2249 "
       ]
      },
      {
       "output_type": "stream",
       "stream": "stdout",
       "text": [
        "1095\n",
        "2251 "
       ]
      },
      {
       "output_type": "stream",
       "stream": "stdout",
       "text": [
        "1098\n",
        "2252 "
       ]
      },
      {
       "output_type": "stream",
       "stream": "stdout",
       "text": [
        "1101\n",
        "2253 "
       ]
      },
      {
       "output_type": "stream",
       "stream": "stdout",
       "text": [
        "1104\n",
        "2254 "
       ]
      },
      {
       "output_type": "stream",
       "stream": "stdout",
       "text": [
        "1107\n",
        "2255 "
       ]
      },
      {
       "output_type": "stream",
       "stream": "stdout",
       "text": [
        "1110\n",
        "2257 "
       ]
      },
      {
       "output_type": "stream",
       "stream": "stdout",
       "text": [
        "1113\n",
        "2258 "
       ]
      },
      {
       "output_type": "stream",
       "stream": "stdout",
       "text": [
        "1116\n",
        "2259 "
       ]
      },
      {
       "output_type": "stream",
       "stream": "stdout",
       "text": [
        "1119\n",
        "2260 "
       ]
      },
      {
       "output_type": "stream",
       "stream": "stdout",
       "text": [
        "1122\n",
        "2263 "
       ]
      },
      {
       "output_type": "stream",
       "stream": "stdout",
       "text": [
        "1125\n",
        "2264"
       ]
      },
      {
       "output_type": "stream",
       "stream": "stdout",
       "text": [
        " 1128\n",
        "2266 "
       ]
      },
      {
       "output_type": "stream",
       "stream": "stdout",
       "text": [
        "1131\n",
        "2267 "
       ]
      },
      {
       "output_type": "stream",
       "stream": "stdout",
       "text": [
        "1134\n",
        "2269 "
       ]
      },
      {
       "output_type": "stream",
       "stream": "stdout",
       "text": [
        "1137\n",
        "2270 "
       ]
      },
      {
       "output_type": "stream",
       "stream": "stdout",
       "text": [
        "1140\n",
        "2271 "
       ]
      },
      {
       "output_type": "stream",
       "stream": "stdout",
       "text": [
        "1143\n",
        "2272 "
       ]
      },
      {
       "output_type": "stream",
       "stream": "stdout",
       "text": [
        "1146\n",
        "2275 "
       ]
      },
      {
       "output_type": "stream",
       "stream": "stdout",
       "text": [
        "1149\n",
        "2276 "
       ]
      },
      {
       "output_type": "stream",
       "stream": "stdout",
       "text": [
        "1152\n",
        "2277 "
       ]
      },
      {
       "output_type": "stream",
       "stream": "stdout",
       "text": [
        "1155\n",
        "2278 "
       ]
      },
      {
       "output_type": "stream",
       "stream": "stdout",
       "text": [
        "1158\n",
        "2279 "
       ]
      },
      {
       "output_type": "stream",
       "stream": "stdout",
       "text": [
        "1161\n",
        "2280 "
       ]
      },
      {
       "output_type": "stream",
       "stream": "stdout",
       "text": [
        "1164\n",
        "2282 "
       ]
      },
      {
       "output_type": "stream",
       "stream": "stdout",
       "text": [
        "1167\n",
        "2283 "
       ]
      },
      {
       "output_type": "stream",
       "stream": "stdout",
       "text": [
        "1170\n",
        "2284 "
       ]
      },
      {
       "output_type": "stream",
       "stream": "stdout",
       "text": [
        "1173\n",
        "2285 "
       ]
      },
      {
       "output_type": "stream",
       "stream": "stdout",
       "text": [
        "1176\n",
        "2287 "
       ]
      },
      {
       "output_type": "stream",
       "stream": "stdout",
       "text": [
        "1179\n",
        "2288 "
       ]
      },
      {
       "output_type": "stream",
       "stream": "stdout",
       "text": [
        "1182\n",
        "2290 "
       ]
      },
      {
       "output_type": "stream",
       "stream": "stdout",
       "text": [
        "1185\n",
        "2291 "
       ]
      },
      {
       "output_type": "stream",
       "stream": "stdout",
       "text": [
        "1188\n",
        "2292 "
       ]
      },
      {
       "output_type": "stream",
       "stream": "stdout",
       "text": [
        "1191\n",
        "2293 "
       ]
      },
      {
       "output_type": "stream",
       "stream": "stdout",
       "text": [
        "1194\n",
        "2295 "
       ]
      },
      {
       "output_type": "stream",
       "stream": "stdout",
       "text": [
        "1197\n",
        "2298 "
       ]
      },
      {
       "output_type": "stream",
       "stream": "stdout",
       "text": [
        "1200\n",
        "2299 "
       ]
      },
      {
       "output_type": "stream",
       "stream": "stdout",
       "text": [
        "1203\n",
        "2300 "
       ]
      },
      {
       "output_type": "stream",
       "stream": "stdout",
       "text": [
        "1206\n",
        "2301 "
       ]
      },
      {
       "output_type": "stream",
       "stream": "stdout",
       "text": [
        "1209\n",
        "2302 "
       ]
      },
      {
       "output_type": "stream",
       "stream": "stdout",
       "text": [
        "1212\n",
        "2303 "
       ]
      },
      {
       "output_type": "stream",
       "stream": "stdout",
       "text": [
        "1215\n",
        "2304 "
       ]
      },
      {
       "output_type": "stream",
       "stream": "stdout",
       "text": [
        "1218\n",
        "2305 "
       ]
      },
      {
       "output_type": "stream",
       "stream": "stdout",
       "text": [
        "1221\n",
        "2306 "
       ]
      },
      {
       "output_type": "stream",
       "stream": "stdout",
       "text": [
        "1224\n",
        "2307 "
       ]
      },
      {
       "output_type": "stream",
       "stream": "stdout",
       "text": [
        "1227\n",
        "2308 "
       ]
      },
      {
       "output_type": "stream",
       "stream": "stdout",
       "text": [
        "1230\n",
        "2311 "
       ]
      },
      {
       "output_type": "stream",
       "stream": "stdout",
       "text": [
        "1233\n",
        "2312 "
       ]
      },
      {
       "output_type": "stream",
       "stream": "stdout",
       "text": [
        "1236\n",
        "2313 "
       ]
      },
      {
       "output_type": "stream",
       "stream": "stdout",
       "text": [
        "1239\n",
        "2315 "
       ]
      },
      {
       "output_type": "stream",
       "stream": "stdout",
       "text": [
        "1242\n",
        "2316 "
       ]
      },
      {
       "output_type": "stream",
       "stream": "stdout",
       "text": [
        "1245\n",
        "2318 "
       ]
      },
      {
       "output_type": "stream",
       "stream": "stdout",
       "text": [
        "1248\n",
        "2321 "
       ]
      },
      {
       "output_type": "stream",
       "stream": "stdout",
       "text": [
        "1251\n",
        "2323 "
       ]
      },
      {
       "output_type": "stream",
       "stream": "stdout",
       "text": [
        "1254\n",
        "2324 "
       ]
      },
      {
       "output_type": "stream",
       "stream": "stdout",
       "text": [
        "1257\n",
        "2325 "
       ]
      },
      {
       "output_type": "stream",
       "stream": "stdout",
       "text": [
        "1260\n",
        "2326 "
       ]
      },
      {
       "output_type": "stream",
       "stream": "stdout",
       "text": [
        "1263\n",
        "2327 "
       ]
      },
      {
       "output_type": "stream",
       "stream": "stdout",
       "text": [
        "1266\n",
        "2329 "
       ]
      },
      {
       "output_type": "stream",
       "stream": "stdout",
       "text": [
        "1269\n",
        "2331 "
       ]
      },
      {
       "output_type": "stream",
       "stream": "stdout",
       "text": [
        "1272\n",
        "2332 "
       ]
      },
      {
       "output_type": "stream",
       "stream": "stdout",
       "text": [
        "1275\n",
        "2333 "
       ]
      },
      {
       "output_type": "stream",
       "stream": "stdout",
       "text": [
        "1278\n",
        "2334 "
       ]
      },
      {
       "output_type": "stream",
       "stream": "stdout",
       "text": [
        "1281\n",
        "2335 "
       ]
      },
      {
       "output_type": "stream",
       "stream": "stdout",
       "text": [
        "1284\n",
        "2336 "
       ]
      },
      {
       "output_type": "stream",
       "stream": "stdout",
       "text": [
        "1287\n",
        "2338 "
       ]
      },
      {
       "output_type": "stream",
       "stream": "stdout",
       "text": [
        "1290\n",
        "2339 "
       ]
      },
      {
       "output_type": "stream",
       "stream": "stdout",
       "text": [
        "1293\n",
        "2341 "
       ]
      },
      {
       "output_type": "stream",
       "stream": "stdout",
       "text": [
        "1296\n",
        "2342 "
       ]
      },
      {
       "output_type": "stream",
       "stream": "stdout",
       "text": [
        "1299\n",
        "2343 "
       ]
      },
      {
       "output_type": "stream",
       "stream": "stdout",
       "text": [
        "1302\n",
        "2344 "
       ]
      },
      {
       "output_type": "stream",
       "stream": "stdout",
       "text": [
        "1305\n",
        "2346 "
       ]
      },
      {
       "output_type": "stream",
       "stream": "stdout",
       "text": [
        "1308\n",
        "2347 "
       ]
      },
      {
       "output_type": "stream",
       "stream": "stdout",
       "text": [
        "1311\n",
        "2349 "
       ]
      },
      {
       "output_type": "stream",
       "stream": "stdout",
       "text": [
        "1314\n",
        "2352 "
       ]
      },
      {
       "output_type": "stream",
       "stream": "stdout",
       "text": [
        "1317\n",
        "2353 "
       ]
      },
      {
       "output_type": "stream",
       "stream": "stdout",
       "text": [
        "1320\n",
        "2354 "
       ]
      },
      {
       "output_type": "stream",
       "stream": "stdout",
       "text": [
        "1323\n",
        "2356 "
       ]
      },
      {
       "output_type": "stream",
       "stream": "stdout",
       "text": [
        "1326\n",
        "2357 "
       ]
      },
      {
       "output_type": "stream",
       "stream": "stdout",
       "text": [
        "1329\n",
        "2359 "
       ]
      },
      {
       "output_type": "stream",
       "stream": "stdout",
       "text": [
        "1332\n",
        "2360 "
       ]
      },
      {
       "output_type": "stream",
       "stream": "stdout",
       "text": [
        "1335\n",
        "2361 "
       ]
      },
      {
       "output_type": "stream",
       "stream": "stdout",
       "text": [
        "1338\n",
        "2362 "
       ]
      },
      {
       "output_type": "stream",
       "stream": "stdout",
       "text": [
        "1341\n",
        "2363 "
       ]
      },
      {
       "output_type": "stream",
       "stream": "stdout",
       "text": [
        "1344\n",
        "2364 "
       ]
      },
      {
       "output_type": "stream",
       "stream": "stdout",
       "text": [
        "1347\n",
        "2365 "
       ]
      },
      {
       "output_type": "stream",
       "stream": "stdout",
       "text": [
        "1350\n",
        "2367"
       ]
      },
      {
       "output_type": "stream",
       "stream": "stdout",
       "text": [
        " 1353\n",
        "2370 "
       ]
      },
      {
       "output_type": "stream",
       "stream": "stdout",
       "text": [
        "1356\n",
        "2371 "
       ]
      },
      {
       "output_type": "stream",
       "stream": "stdout",
       "text": [
        "1359\n",
        "2372 "
       ]
      },
      {
       "output_type": "stream",
       "stream": "stdout",
       "text": [
        "1362\n",
        "2373 "
       ]
      },
      {
       "output_type": "stream",
       "stream": "stdout",
       "text": [
        "1365\n",
        "2375 "
       ]
      },
      {
       "output_type": "stream",
       "stream": "stdout",
       "text": [
        "1368\n",
        "2376 "
       ]
      },
      {
       "output_type": "stream",
       "stream": "stdout",
       "text": [
        "1371\n",
        "2377 "
       ]
      },
      {
       "output_type": "stream",
       "stream": "stdout",
       "text": [
        "1374\n",
        "2378 "
       ]
      },
      {
       "output_type": "stream",
       "stream": "stdout",
       "text": [
        "1377\n",
        "2379 "
       ]
      },
      {
       "output_type": "stream",
       "stream": "stdout",
       "text": [
        "1380\n",
        "2381 "
       ]
      },
      {
       "output_type": "stream",
       "stream": "stdout",
       "text": [
        "1383\n",
        "2383 "
       ]
      },
      {
       "output_type": "stream",
       "stream": "stdout",
       "text": [
        "1386\n",
        "2385 "
       ]
      },
      {
       "output_type": "stream",
       "stream": "stdout",
       "text": [
        "1389\n",
        "2388 "
       ]
      },
      {
       "output_type": "stream",
       "stream": "stdout",
       "text": [
        "1392\n",
        "2389 "
       ]
      },
      {
       "output_type": "stream",
       "stream": "stdout",
       "text": [
        "1395\n",
        "2390 "
       ]
      },
      {
       "output_type": "stream",
       "stream": "stdout",
       "text": [
        "1398\n",
        "2392 "
       ]
      },
      {
       "output_type": "stream",
       "stream": "stdout",
       "text": [
        "1401\n",
        "2393 "
       ]
      },
      {
       "output_type": "stream",
       "stream": "stdout",
       "text": [
        "1404\n",
        "2394 "
       ]
      },
      {
       "output_type": "stream",
       "stream": "stdout",
       "text": [
        "1407\n",
        "2395 "
       ]
      },
      {
       "output_type": "stream",
       "stream": "stdout",
       "text": [
        "1410\n",
        "2396 "
       ]
      },
      {
       "output_type": "stream",
       "stream": "stdout",
       "text": [
        "1413\n",
        "2397 "
       ]
      },
      {
       "output_type": "stream",
       "stream": "stdout",
       "text": [
        "1416\n",
        "2399 "
       ]
      },
      {
       "output_type": "stream",
       "stream": "stdout",
       "text": [
        "1419\n",
        "2400 "
       ]
      },
      {
       "output_type": "stream",
       "stream": "stdout",
       "text": [
        "1422\n",
        "2401 "
       ]
      },
      {
       "output_type": "stream",
       "stream": "stdout",
       "text": [
        "1425\n",
        "2403 "
       ]
      },
      {
       "output_type": "stream",
       "stream": "stdout",
       "text": [
        "1428\n",
        "2404 "
       ]
      },
      {
       "output_type": "stream",
       "stream": "stdout",
       "text": [
        "1431\n",
        "2405 "
       ]
      },
      {
       "output_type": "stream",
       "stream": "stdout",
       "text": [
        "1434\n",
        "2406 "
       ]
      },
      {
       "output_type": "stream",
       "stream": "stdout",
       "text": [
        "1437\n",
        "2407 "
       ]
      },
      {
       "output_type": "stream",
       "stream": "stdout",
       "text": [
        "1440\n",
        "2408 "
       ]
      },
      {
       "output_type": "stream",
       "stream": "stdout",
       "text": [
        "1443\n",
        "2410 "
       ]
      },
      {
       "output_type": "stream",
       "stream": "stdout",
       "text": [
        "1446\n",
        "2411 "
       ]
      },
      {
       "output_type": "stream",
       "stream": "stdout",
       "text": [
        "1449\n",
        "2412 "
       ]
      },
      {
       "output_type": "stream",
       "stream": "stdout",
       "text": [
        "1452\n",
        "2413 "
       ]
      },
      {
       "output_type": "stream",
       "stream": "stdout",
       "text": [
        "1455\n",
        "2414 "
       ]
      },
      {
       "output_type": "stream",
       "stream": "stdout",
       "text": [
        "1458\n",
        "2415 "
       ]
      },
      {
       "output_type": "stream",
       "stream": "stdout",
       "text": [
        "1461\n",
        "2416 "
       ]
      },
      {
       "output_type": "stream",
       "stream": "stdout",
       "text": [
        "1464\n",
        "2417 "
       ]
      },
      {
       "output_type": "stream",
       "stream": "stdout",
       "text": [
        "1467\n",
        "2418 "
       ]
      },
      {
       "output_type": "stream",
       "stream": "stdout",
       "text": [
        "1470\n",
        "2419 "
       ]
      },
      {
       "output_type": "stream",
       "stream": "stdout",
       "text": [
        "1473\n",
        "2421 "
       ]
      },
      {
       "output_type": "stream",
       "stream": "stdout",
       "text": [
        "1476\n",
        "2422 "
       ]
      },
      {
       "output_type": "stream",
       "stream": "stdout",
       "text": [
        "1479\n",
        "2424 "
       ]
      },
      {
       "output_type": "stream",
       "stream": "stdout",
       "text": [
        "1482\n",
        "2425 "
       ]
      },
      {
       "output_type": "stream",
       "stream": "stdout",
       "text": [
        "1485\n",
        "2426 "
       ]
      },
      {
       "output_type": "stream",
       "stream": "stdout",
       "text": [
        "1488\n",
        "2428 "
       ]
      },
      {
       "output_type": "stream",
       "stream": "stdout",
       "text": [
        "1491\n",
        "2429 "
       ]
      },
      {
       "output_type": "stream",
       "stream": "stdout",
       "text": [
        "1494\n",
        "2431 "
       ]
      },
      {
       "output_type": "stream",
       "stream": "stdout",
       "text": [
        "1497\n",
        "2432 "
       ]
      },
      {
       "output_type": "stream",
       "stream": "stdout",
       "text": [
        "1500\n",
        "2433 "
       ]
      },
      {
       "output_type": "stream",
       "stream": "stdout",
       "text": [
        "1503\n",
        "2434 "
       ]
      },
      {
       "output_type": "stream",
       "stream": "stdout",
       "text": [
        "1506\n",
        "2435 "
       ]
      },
      {
       "output_type": "stream",
       "stream": "stdout",
       "text": [
        "1509\n",
        "2437 "
       ]
      },
      {
       "output_type": "stream",
       "stream": "stdout",
       "text": [
        "1512\n",
        "2438 "
       ]
      },
      {
       "output_type": "stream",
       "stream": "stdout",
       "text": [
        "1515\n",
        "2439 "
       ]
      },
      {
       "output_type": "stream",
       "stream": "stdout",
       "text": [
        "1518\n",
        "2441 "
       ]
      },
      {
       "output_type": "stream",
       "stream": "stdout",
       "text": [
        "1521\n",
        "2442 "
       ]
      },
      {
       "output_type": "stream",
       "stream": "stdout",
       "text": [
        "1524\n",
        "2443 "
       ]
      },
      {
       "output_type": "stream",
       "stream": "stdout",
       "text": [
        "1527\n",
        "2444 "
       ]
      },
      {
       "output_type": "stream",
       "stream": "stdout",
       "text": [
        "1530\n",
        "2445 "
       ]
      },
      {
       "output_type": "stream",
       "stream": "stdout",
       "text": [
        "1533\n",
        "2446 "
       ]
      },
      {
       "output_type": "stream",
       "stream": "stdout",
       "text": [
        "1536\n",
        "2447 "
       ]
      },
      {
       "output_type": "stream",
       "stream": "stdout",
       "text": [
        "1539\n",
        "2449 "
       ]
      },
      {
       "output_type": "stream",
       "stream": "stdout",
       "text": [
        "1542\n",
        "2450 "
       ]
      },
      {
       "output_type": "stream",
       "stream": "stdout",
       "text": [
        "1545\n",
        "2451 "
       ]
      },
      {
       "output_type": "stream",
       "stream": "stdout",
       "text": [
        "1548\n",
        "2452 "
       ]
      },
      {
       "output_type": "stream",
       "stream": "stdout",
       "text": [
        "1551\n",
        "2453 "
       ]
      },
      {
       "output_type": "stream",
       "stream": "stdout",
       "text": [
        "1554\n",
        "2454 "
       ]
      },
      {
       "output_type": "stream",
       "stream": "stdout",
       "text": [
        "1557\n",
        "2455 "
       ]
      },
      {
       "output_type": "stream",
       "stream": "stdout",
       "text": [
        "1560\n",
        "2456 "
       ]
      },
      {
       "output_type": "stream",
       "stream": "stdout",
       "text": [
        "1563\n",
        "2457 "
       ]
      },
      {
       "output_type": "stream",
       "stream": "stdout",
       "text": [
        "1566\n",
        "2458 "
       ]
      },
      {
       "output_type": "stream",
       "stream": "stdout",
       "text": [
        "1569\n",
        "2460 "
       ]
      },
      {
       "output_type": "stream",
       "stream": "stdout",
       "text": [
        "1572\n",
        "2461 "
       ]
      },
      {
       "output_type": "stream",
       "stream": "stdout",
       "text": [
        "1575\n",
        "2462"
       ]
      },
      {
       "output_type": "stream",
       "stream": "stdout",
       "text": [
        " 1578\n",
        "2465 "
       ]
      },
      {
       "output_type": "stream",
       "stream": "stdout",
       "text": [
        "1581\n",
        "2466 "
       ]
      },
      {
       "output_type": "stream",
       "stream": "stdout",
       "text": [
        "1584\n",
        "2467 "
       ]
      },
      {
       "output_type": "stream",
       "stream": "stdout",
       "text": [
        "1587\n",
        "2468 "
       ]
      },
      {
       "output_type": "stream",
       "stream": "stdout",
       "text": [
        "1590\n",
        "2469 "
       ]
      },
      {
       "output_type": "stream",
       "stream": "stdout",
       "text": [
        "1593\n",
        "2473 "
       ]
      },
      {
       "output_type": "stream",
       "stream": "stdout",
       "text": [
        "1596\n",
        "2474 "
       ]
      },
      {
       "output_type": "stream",
       "stream": "stdout",
       "text": [
        "1599\n",
        "2475 "
       ]
      },
      {
       "output_type": "stream",
       "stream": "stdout",
       "text": [
        "1602\n",
        "2476 "
       ]
      },
      {
       "output_type": "stream",
       "stream": "stdout",
       "text": [
        "1605\n",
        "2478 "
       ]
      },
      {
       "output_type": "stream",
       "stream": "stdout",
       "text": [
        "1608\n",
        "2479 "
       ]
      },
      {
       "output_type": "stream",
       "stream": "stdout",
       "text": [
        "1611\n",
        "2480 "
       ]
      },
      {
       "output_type": "stream",
       "stream": "stdout",
       "text": [
        "1614\n",
        "2481 "
       ]
      },
      {
       "output_type": "stream",
       "stream": "stdout",
       "text": [
        "1617\n",
        "2482 "
       ]
      },
      {
       "output_type": "stream",
       "stream": "stdout",
       "text": [
        "1620\n",
        "2483 "
       ]
      },
      {
       "output_type": "stream",
       "stream": "stdout",
       "text": [
        "1623\n",
        "2484 "
       ]
      },
      {
       "output_type": "stream",
       "stream": "stdout",
       "text": [
        "1626\n",
        "2485 "
       ]
      },
      {
       "output_type": "stream",
       "stream": "stdout",
       "text": [
        "1629\n",
        "2486 "
       ]
      },
      {
       "output_type": "stream",
       "stream": "stdout",
       "text": [
        "1632\n",
        "2487 "
       ]
      },
      {
       "output_type": "stream",
       "stream": "stdout",
       "text": [
        "1635\n",
        "2488 "
       ]
      },
      {
       "output_type": "stream",
       "stream": "stdout",
       "text": [
        "1638\n",
        "2489 "
       ]
      },
      {
       "output_type": "stream",
       "stream": "stdout",
       "text": [
        "1641\n",
        "2491 "
       ]
      },
      {
       "output_type": "stream",
       "stream": "stdout",
       "text": [
        "1644\n",
        "2492 "
       ]
      },
      {
       "output_type": "stream",
       "stream": "stdout",
       "text": [
        "1647\n",
        "2493 "
       ]
      },
      {
       "output_type": "stream",
       "stream": "stdout",
       "text": [
        "1650\n",
        "2494 "
       ]
      },
      {
       "output_type": "stream",
       "stream": "stdout",
       "text": [
        "1653\n",
        "2495 "
       ]
      },
      {
       "output_type": "stream",
       "stream": "stdout",
       "text": [
        "1656\n",
        "2496 "
       ]
      },
      {
       "output_type": "stream",
       "stream": "stdout",
       "text": [
        "1659\n",
        "2498 "
       ]
      },
      {
       "output_type": "stream",
       "stream": "stdout",
       "text": [
        "1662\n",
        "2499 "
       ]
      },
      {
       "output_type": "stream",
       "stream": "stdout",
       "text": [
        "1665\n",
        "2500 "
       ]
      },
      {
       "output_type": "stream",
       "stream": "stdout",
       "text": [
        "1668\n",
        "2501 "
       ]
      },
      {
       "output_type": "stream",
       "stream": "stdout",
       "text": [
        "1671\n",
        "2502 "
       ]
      },
      {
       "output_type": "stream",
       "stream": "stdout",
       "text": [
        "1674\n",
        "2503 "
       ]
      },
      {
       "output_type": "stream",
       "stream": "stdout",
       "text": [
        "1677\n",
        "2504 "
       ]
      },
      {
       "output_type": "stream",
       "stream": "stdout",
       "text": [
        "1680\n",
        "2505 "
       ]
      },
      {
       "output_type": "stream",
       "stream": "stdout",
       "text": [
        "1683\n",
        "2506 "
       ]
      },
      {
       "output_type": "stream",
       "stream": "stdout",
       "text": [
        "1686\n",
        "2507 "
       ]
      },
      {
       "output_type": "stream",
       "stream": "stdout",
       "text": [
        "1689\n",
        "2509 "
       ]
      },
      {
       "output_type": "stream",
       "stream": "stdout",
       "text": [
        "1692\n",
        "2510 "
       ]
      },
      {
       "output_type": "stream",
       "stream": "stdout",
       "text": [
        "1695\n",
        "2511 "
       ]
      },
      {
       "output_type": "stream",
       "stream": "stdout",
       "text": [
        "1698\n",
        "2512 "
       ]
      },
      {
       "output_type": "stream",
       "stream": "stdout",
       "text": [
        "1701\n",
        "2513 "
       ]
      },
      {
       "output_type": "stream",
       "stream": "stdout",
       "text": [
        "1704\n",
        "2514 "
       ]
      },
      {
       "output_type": "stream",
       "stream": "stdout",
       "text": [
        "1707\n",
        "2516 "
       ]
      },
      {
       "output_type": "stream",
       "stream": "stdout",
       "text": [
        "1710\n",
        "2519 "
       ]
      },
      {
       "output_type": "stream",
       "stream": "stdout",
       "text": [
        "1713\n",
        "2520 "
       ]
      },
      {
       "output_type": "stream",
       "stream": "stdout",
       "text": [
        "1716\n",
        "2521 "
       ]
      },
      {
       "output_type": "stream",
       "stream": "stdout",
       "text": [
        "1719\n",
        "2522 "
       ]
      },
      {
       "output_type": "stream",
       "stream": "stdout",
       "text": [
        "1722\n",
        "2523 "
       ]
      },
      {
       "output_type": "stream",
       "stream": "stdout",
       "text": [
        "1725\n",
        "2524 "
       ]
      },
      {
       "output_type": "stream",
       "stream": "stdout",
       "text": [
        "1728\n",
        "2525 "
       ]
      },
      {
       "output_type": "stream",
       "stream": "stdout",
       "text": [
        "1731\n",
        "2526 "
       ]
      },
      {
       "output_type": "stream",
       "stream": "stdout",
       "text": [
        "1734\n",
        "2527 "
       ]
      },
      {
       "output_type": "stream",
       "stream": "stdout",
       "text": [
        "1737\n",
        "2528 "
       ]
      },
      {
       "output_type": "stream",
       "stream": "stdout",
       "text": [
        "1740\n",
        "2529 "
       ]
      },
      {
       "output_type": "stream",
       "stream": "stdout",
       "text": [
        "1743\n",
        "2531 "
       ]
      },
      {
       "output_type": "stream",
       "stream": "stdout",
       "text": [
        "1746\n",
        "2532 "
       ]
      },
      {
       "output_type": "stream",
       "stream": "stdout",
       "text": [
        "1749\n",
        "2533 "
       ]
      },
      {
       "output_type": "stream",
       "stream": "stdout",
       "text": [
        "1752\n",
        "2534 "
       ]
      },
      {
       "output_type": "stream",
       "stream": "stdout",
       "text": [
        "1755\n",
        "2535 "
       ]
      },
      {
       "output_type": "stream",
       "stream": "stdout",
       "text": [
        "1758\n",
        "2537 "
       ]
      },
      {
       "output_type": "stream",
       "stream": "stdout",
       "text": [
        "1761\n",
        "2539 "
       ]
      },
      {
       "output_type": "stream",
       "stream": "stdout",
       "text": [
        "1764\n",
        "2540 "
       ]
      },
      {
       "output_type": "stream",
       "stream": "stdout",
       "text": [
        "1767\n",
        "2541 "
       ]
      },
      {
       "output_type": "stream",
       "stream": "stdout",
       "text": [
        "1770\n",
        "2542 "
       ]
      },
      {
       "output_type": "stream",
       "stream": "stdout",
       "text": [
        "1773\n",
        "2543 "
       ]
      },
      {
       "output_type": "stream",
       "stream": "stdout",
       "text": [
        "1776\n",
        "2545 "
       ]
      },
      {
       "output_type": "stream",
       "stream": "stdout",
       "text": [
        "1779\n",
        "2546 "
       ]
      },
      {
       "output_type": "stream",
       "stream": "stdout",
       "text": [
        "1782\n",
        "2547 "
       ]
      },
      {
       "output_type": "stream",
       "stream": "stdout",
       "text": [
        "1785\n",
        "2548 "
       ]
      },
      {
       "output_type": "stream",
       "stream": "stdout",
       "text": [
        "1788\n",
        "2550 "
       ]
      },
      {
       "output_type": "stream",
       "stream": "stdout",
       "text": [
        "1791\n",
        "2551 "
       ]
      },
      {
       "output_type": "stream",
       "stream": "stdout",
       "text": [
        "1794\n",
        "2552 "
       ]
      },
      {
       "output_type": "stream",
       "stream": "stdout",
       "text": [
        "1797\n",
        "2553 "
       ]
      },
      {
       "output_type": "stream",
       "stream": "stdout",
       "text": [
        "1800\n",
        "2554"
       ]
      },
      {
       "output_type": "stream",
       "stream": "stdout",
       "text": [
        " 1803\n",
        "2555 "
       ]
      },
      {
       "output_type": "stream",
       "stream": "stdout",
       "text": [
        "1806\n",
        "2556 "
       ]
      },
      {
       "output_type": "stream",
       "stream": "stdout",
       "text": [
        "1809\n",
        "2557 "
       ]
      },
      {
       "output_type": "stream",
       "stream": "stdout",
       "text": [
        "1812\n",
        "2558 "
       ]
      },
      {
       "output_type": "stream",
       "stream": "stdout",
       "text": [
        "1815\n",
        "2559 "
       ]
      },
      {
       "output_type": "stream",
       "stream": "stdout",
       "text": [
        "1818\n",
        "2561 "
       ]
      },
      {
       "output_type": "stream",
       "stream": "stdout",
       "text": [
        "1821\n",
        "2563 "
       ]
      },
      {
       "output_type": "stream",
       "stream": "stdout",
       "text": [
        "1824\n",
        "2564 "
       ]
      },
      {
       "output_type": "stream",
       "stream": "stdout",
       "text": [
        "1827\n",
        "2565 "
       ]
      },
      {
       "output_type": "stream",
       "stream": "stdout",
       "text": [
        "1830\n",
        "2568 "
       ]
      },
      {
       "output_type": "stream",
       "stream": "stdout",
       "text": [
        "1833\n",
        "2569 "
       ]
      },
      {
       "output_type": "stream",
       "stream": "stdout",
       "text": [
        "1836\n",
        "2570 "
       ]
      },
      {
       "output_type": "stream",
       "stream": "stdout",
       "text": [
        "1839\n",
        "2572 "
       ]
      },
      {
       "output_type": "stream",
       "stream": "stdout",
       "text": [
        "1842\n",
        "2573 "
       ]
      },
      {
       "output_type": "stream",
       "stream": "stdout",
       "text": [
        "1845\n",
        "2574 "
       ]
      },
      {
       "output_type": "stream",
       "stream": "stdout",
       "text": [
        "1848\n",
        "2575 "
       ]
      },
      {
       "output_type": "stream",
       "stream": "stdout",
       "text": [
        "1851\n",
        "2576 "
       ]
      },
      {
       "output_type": "stream",
       "stream": "stdout",
       "text": [
        "1854\n",
        "2577 "
       ]
      },
      {
       "output_type": "stream",
       "stream": "stdout",
       "text": [
        "1857\n",
        "2578 "
       ]
      },
      {
       "output_type": "stream",
       "stream": "stdout",
       "text": [
        "1860\n",
        "2579 "
       ]
      },
      {
       "output_type": "stream",
       "stream": "stdout",
       "text": [
        "1863\n",
        "2580 "
       ]
      },
      {
       "output_type": "stream",
       "stream": "stdout",
       "text": [
        "1866\n",
        "2581 "
       ]
      },
      {
       "output_type": "stream",
       "stream": "stdout",
       "text": [
        "1869\n",
        "2583 "
       ]
      },
      {
       "output_type": "stream",
       "stream": "stdout",
       "text": [
        "1872\n",
        "2584 "
       ]
      },
      {
       "output_type": "stream",
       "stream": "stdout",
       "text": [
        "1875\n",
        "2586 "
       ]
      },
      {
       "output_type": "stream",
       "stream": "stdout",
       "text": [
        "1878\n",
        "2587 "
       ]
      },
      {
       "output_type": "stream",
       "stream": "stdout",
       "text": [
        "1881\n",
        "2588 "
       ]
      },
      {
       "output_type": "stream",
       "stream": "stdout",
       "text": [
        "1884\n",
        "2590 "
       ]
      },
      {
       "output_type": "stream",
       "stream": "stdout",
       "text": [
        "1887\n",
        "2591 "
       ]
      },
      {
       "output_type": "stream",
       "stream": "stdout",
       "text": [
        "1890\n",
        "2592 "
       ]
      },
      {
       "output_type": "stream",
       "stream": "stdout",
       "text": [
        "1893\n",
        "2594 "
       ]
      },
      {
       "output_type": "stream",
       "stream": "stdout",
       "text": [
        "1896\n",
        "2595 "
       ]
      },
      {
       "output_type": "stream",
       "stream": "stdout",
       "text": [
        "1899\n",
        "2596 "
       ]
      },
      {
       "output_type": "stream",
       "stream": "stdout",
       "text": [
        "1902\n",
        "2597 "
       ]
      },
      {
       "output_type": "stream",
       "stream": "stdout",
       "text": [
        "1905\n",
        "2599 "
       ]
      },
      {
       "output_type": "stream",
       "stream": "stdout",
       "text": [
        "1908\n",
        "2600 "
       ]
      },
      {
       "output_type": "stream",
       "stream": "stdout",
       "text": [
        "1911\n",
        "2601 "
       ]
      },
      {
       "output_type": "stream",
       "stream": "stdout",
       "text": [
        "1914\n",
        "2602 "
       ]
      },
      {
       "output_type": "stream",
       "stream": "stdout",
       "text": [
        "1917\n",
        "2604 "
       ]
      },
      {
       "output_type": "stream",
       "stream": "stdout",
       "text": [
        "1920\n",
        "2606 "
       ]
      },
      {
       "output_type": "stream",
       "stream": "stdout",
       "text": [
        "1923\n",
        "2608 "
       ]
      },
      {
       "output_type": "stream",
       "stream": "stdout",
       "text": [
        "1926\n",
        "2609 "
       ]
      },
      {
       "output_type": "stream",
       "stream": "stdout",
       "text": [
        "1929\n",
        "2611 "
       ]
      },
      {
       "output_type": "stream",
       "stream": "stdout",
       "text": [
        "1932\n",
        "2612 "
       ]
      },
      {
       "output_type": "stream",
       "stream": "stdout",
       "text": [
        "1935\n",
        "2613 "
       ]
      },
      {
       "output_type": "stream",
       "stream": "stdout",
       "text": [
        "1938\n",
        "2614 "
       ]
      },
      {
       "output_type": "stream",
       "stream": "stdout",
       "text": [
        "1941\n",
        "2615 "
       ]
      },
      {
       "output_type": "stream",
       "stream": "stdout",
       "text": [
        "1944\n",
        "2616 "
       ]
      },
      {
       "output_type": "stream",
       "stream": "stdout",
       "text": [
        "1947\n",
        "2617 "
       ]
      },
      {
       "output_type": "stream",
       "stream": "stdout",
       "text": [
        "1950\n",
        "2618 "
       ]
      },
      {
       "output_type": "stream",
       "stream": "stdout",
       "text": [
        "1953\n",
        "2619 "
       ]
      },
      {
       "output_type": "stream",
       "stream": "stdout",
       "text": [
        "1956\n",
        "2620 "
       ]
      },
      {
       "output_type": "stream",
       "stream": "stdout",
       "text": [
        "1959\n",
        "2622 "
       ]
      },
      {
       "output_type": "stream",
       "stream": "stdout",
       "text": [
        "1962\n",
        "2623 "
       ]
      },
      {
       "output_type": "stream",
       "stream": "stdout",
       "text": [
        "1965\n",
        "2624 "
       ]
      },
      {
       "output_type": "stream",
       "stream": "stdout",
       "text": [
        "1968\n",
        "2626 "
       ]
      },
      {
       "output_type": "stream",
       "stream": "stdout",
       "text": [
        "1971\n",
        "2627 "
       ]
      },
      {
       "output_type": "stream",
       "stream": "stdout",
       "text": [
        "1974\n",
        "2628 "
       ]
      },
      {
       "output_type": "stream",
       "stream": "stdout",
       "text": [
        "1977\n",
        "2629 "
       ]
      },
      {
       "output_type": "stream",
       "stream": "stdout",
       "text": [
        "1980\n",
        "2630 "
       ]
      },
      {
       "output_type": "stream",
       "stream": "stdout",
       "text": [
        "1983\n",
        "2631 "
       ]
      },
      {
       "output_type": "stream",
       "stream": "stdout",
       "text": [
        "1986\n",
        "2632 "
       ]
      },
      {
       "output_type": "stream",
       "stream": "stdout",
       "text": [
        "1989\n",
        "2634 "
       ]
      },
      {
       "output_type": "stream",
       "stream": "stdout",
       "text": [
        "1992\n",
        "2636 "
       ]
      },
      {
       "output_type": "stream",
       "stream": "stdout",
       "text": [
        "1995\n",
        "2637 "
       ]
      },
      {
       "output_type": "stream",
       "stream": "stdout",
       "text": [
        "1998\n",
        "2640 "
       ]
      },
      {
       "output_type": "stream",
       "stream": "stdout",
       "text": [
        "2001\n",
        "2641 "
       ]
      },
      {
       "output_type": "stream",
       "stream": "stdout",
       "text": [
        "2004\n",
        "2642 "
       ]
      },
      {
       "output_type": "stream",
       "stream": "stdout",
       "text": [
        "2007\n",
        "2643 "
       ]
      },
      {
       "output_type": "stream",
       "stream": "stdout",
       "text": [
        "2010\n",
        "2645 "
       ]
      },
      {
       "output_type": "stream",
       "stream": "stdout",
       "text": [
        "2013\n",
        "2646 "
       ]
      },
      {
       "output_type": "stream",
       "stream": "stdout",
       "text": [
        "2016\n",
        "2647 "
       ]
      },
      {
       "output_type": "stream",
       "stream": "stdout",
       "text": [
        "2019\n",
        "2648 "
       ]
      },
      {
       "output_type": "stream",
       "stream": "stdout",
       "text": [
        "2022\n",
        "2649 "
       ]
      },
      {
       "output_type": "stream",
       "stream": "stdout",
       "text": [
        "2025\n",
        "2650"
       ]
      },
      {
       "output_type": "stream",
       "stream": "stdout",
       "text": [
        " 2028\n",
        "2651 "
       ]
      },
      {
       "output_type": "stream",
       "stream": "stdout",
       "text": [
        "2031\n",
        "2652 "
       ]
      },
      {
       "output_type": "stream",
       "stream": "stdout",
       "text": [
        "2034\n",
        "2653 "
       ]
      },
      {
       "output_type": "stream",
       "stream": "stdout",
       "text": [
        "2037\n",
        "2654 "
       ]
      },
      {
       "output_type": "stream",
       "stream": "stdout",
       "text": [
        "2040\n",
        "2655 "
       ]
      },
      {
       "output_type": "stream",
       "stream": "stdout",
       "text": [
        "2043\n",
        "2658 "
       ]
      },
      {
       "output_type": "stream",
       "stream": "stdout",
       "text": [
        "2046\n",
        "2659 "
       ]
      },
      {
       "output_type": "stream",
       "stream": "stdout",
       "text": [
        "2049\n",
        "2660 "
       ]
      },
      {
       "output_type": "stream",
       "stream": "stdout",
       "text": [
        "2052\n",
        "2663 "
       ]
      },
      {
       "output_type": "stream",
       "stream": "stdout",
       "text": [
        "2055\n",
        "2665 "
       ]
      },
      {
       "output_type": "stream",
       "stream": "stdout",
       "text": [
        "2058\n",
        "2666 "
       ]
      },
      {
       "output_type": "stream",
       "stream": "stdout",
       "text": [
        "2061\n",
        "2667 "
       ]
      },
      {
       "output_type": "stream",
       "stream": "stdout",
       "text": [
        "2064\n",
        "2668 "
       ]
      },
      {
       "output_type": "stream",
       "stream": "stdout",
       "text": [
        "2067\n",
        "2669 "
       ]
      },
      {
       "output_type": "stream",
       "stream": "stdout",
       "text": [
        "2070\n",
        "2671 "
       ]
      },
      {
       "output_type": "stream",
       "stream": "stdout",
       "text": [
        "2073\n",
        "2672 "
       ]
      },
      {
       "output_type": "stream",
       "stream": "stdout",
       "text": [
        "2076\n",
        "2673 "
       ]
      },
      {
       "output_type": "stream",
       "stream": "stdout",
       "text": [
        "2079\n",
        "2677 "
       ]
      },
      {
       "output_type": "stream",
       "stream": "stdout",
       "text": [
        "2082\n",
        "2678 "
       ]
      },
      {
       "output_type": "stream",
       "stream": "stdout",
       "text": [
        "2085\n",
        "2679 "
       ]
      },
      {
       "output_type": "stream",
       "stream": "stdout",
       "text": [
        "2088\n",
        "2680 "
       ]
      },
      {
       "output_type": "stream",
       "stream": "stdout",
       "text": [
        "2091\n",
        "2681 "
       ]
      },
      {
       "output_type": "stream",
       "stream": "stdout",
       "text": [
        "2094\n",
        "2682 "
       ]
      },
      {
       "output_type": "stream",
       "stream": "stdout",
       "text": [
        "2097\n",
        "2683 "
       ]
      },
      {
       "output_type": "stream",
       "stream": "stdout",
       "text": [
        "2100\n",
        "2684 "
       ]
      },
      {
       "output_type": "stream",
       "stream": "stdout",
       "text": [
        "2103\n",
        "2687 "
       ]
      },
      {
       "output_type": "stream",
       "stream": "stdout",
       "text": [
        "2106\n",
        "2689 "
       ]
      },
      {
       "output_type": "stream",
       "stream": "stdout",
       "text": [
        "2109\n",
        "2690 "
       ]
      },
      {
       "output_type": "stream",
       "stream": "stdout",
       "text": [
        "2112\n",
        "2691 "
       ]
      },
      {
       "output_type": "stream",
       "stream": "stdout",
       "text": [
        "2115\n",
        "2692 "
       ]
      },
      {
       "output_type": "stream",
       "stream": "stdout",
       "text": [
        "2118\n",
        "2694 "
       ]
      },
      {
       "output_type": "stream",
       "stream": "stdout",
       "text": [
        "2121\n",
        "2695 "
       ]
      },
      {
       "output_type": "stream",
       "stream": "stdout",
       "text": [
        "2124\n",
        "2696 "
       ]
      },
      {
       "output_type": "stream",
       "stream": "stdout",
       "text": [
        "2127\n",
        "2698 "
       ]
      },
      {
       "output_type": "stream",
       "stream": "stdout",
       "text": [
        "2130\n",
        "2699 "
       ]
      },
      {
       "output_type": "stream",
       "stream": "stdout",
       "text": [
        "2133\n",
        "2700 "
       ]
      },
      {
       "output_type": "stream",
       "stream": "stdout",
       "text": [
        "2136\n",
        "2701 "
       ]
      },
      {
       "output_type": "stream",
       "stream": "stdout",
       "text": [
        "2139\n",
        "2702 "
       ]
      },
      {
       "output_type": "stream",
       "stream": "stdout",
       "text": [
        "2142\n",
        "2703 "
       ]
      },
      {
       "output_type": "stream",
       "stream": "stdout",
       "text": [
        "2145\n",
        "2704 "
       ]
      },
      {
       "output_type": "stream",
       "stream": "stdout",
       "text": [
        "2148\n",
        "2705 "
       ]
      },
      {
       "output_type": "stream",
       "stream": "stdout",
       "text": [
        "2151\n",
        "2707 "
       ]
      },
      {
       "output_type": "stream",
       "stream": "stdout",
       "text": [
        "2154\n",
        "2708 "
       ]
      },
      {
       "output_type": "stream",
       "stream": "stdout",
       "text": [
        "2157\n",
        "2709 "
       ]
      },
      {
       "output_type": "stream",
       "stream": "stdout",
       "text": [
        "2160\n",
        "2710 "
       ]
      },
      {
       "output_type": "stream",
       "stream": "stdout",
       "text": [
        "2163\n",
        "2712 "
       ]
      },
      {
       "output_type": "stream",
       "stream": "stdout",
       "text": [
        "2166\n",
        "2713 "
       ]
      },
      {
       "output_type": "stream",
       "stream": "stdout",
       "text": [
        "2169\n",
        "2714 "
       ]
      },
      {
       "output_type": "stream",
       "stream": "stdout",
       "text": [
        "2172\n",
        "2746 "
       ]
      },
      {
       "output_type": "stream",
       "stream": "stdout",
       "text": [
        "2175\n",
        "2890 "
       ]
      },
      {
       "output_type": "stream",
       "stream": "stdout",
       "text": [
        "2178\n",
        "3032 "
       ]
      },
      {
       "output_type": "stream",
       "stream": "stdout",
       "text": [
        "2181\n",
        "3034 "
       ]
      },
      {
       "output_type": "stream",
       "stream": "stdout",
       "text": [
        "2184\n",
        "3140 "
       ]
      },
      {
       "output_type": "stream",
       "stream": "stdout",
       "text": [
        "2187\n",
        "3560 "
       ]
      },
      {
       "output_type": "stream",
       "stream": "stdout",
       "text": [
        "2190\n"
       ]
      }
     ],
     "prompt_number": 402
    },
    {
     "cell_type": "code",
     "collapsed": false,
     "input": [
      "len( assignments )"
     ],
     "language": "python",
     "metadata": {},
     "outputs": [
      {
       "metadata": {},
       "output_type": "pyout",
       "prompt_number": 403,
       "text": [
        "2190"
       ]
      }
     ],
     "prompt_number": 403
    },
    {
     "cell_type": "markdown",
     "metadata": {},
     "source": [
      "# Approve assignments"
     ]
    },
    {
     "cell_type": "code",
     "collapsed": false,
     "input": [
      "#assignment_ids = answer_df['assignment_id'].unique()\n",
      "#print len( assignment_ids )"
     ],
     "language": "python",
     "metadata": {},
     "outputs": [
      {
       "output_type": "stream",
       "stream": "stdout",
       "text": [
        "539\n"
       ]
      }
     ],
     "prompt_number": 73
    },
    {
     "cell_type": "code",
     "collapsed": false,
     "input": [
      "#ass = MTC.get_assignment( assignment_ids[0] )[0]\n",
      "#ass.AssignmentStatus"
     ],
     "language": "python",
     "metadata": {},
     "outputs": [
      {
       "metadata": {},
       "output_type": "pyout",
       "prompt_number": 80,
       "text": [
        "u'Approved'"
       ]
      }
     ],
     "prompt_number": 80
    },
    {
     "cell_type": "code",
     "collapsed": false,
     "input": [
      "# for ass_id in assignment_ids:\n",
      "\n",
      "#     try:\n",
      "#         MTC.approve_assignment( ass_id )\n",
      "#     except MTurkRequestError:\n",
      "#         pass"
     ],
     "language": "python",
     "metadata": {},
     "outputs": [],
     "prompt_number": 82
    },
    {
     "cell_type": "code",
     "collapsed": false,
     "input": [
      "#for assign in assignments:\n",
      "#    if assign.AssignmentStatus != 'Approved':\n",
      "#        MTC.approve_assignment( assign.AssignmentId )"
     ],
     "language": "python",
     "metadata": {},
     "outputs": [],
     "prompt_number": 264
    },
    {
     "cell_type": "markdown",
     "metadata": {},
     "source": [
      "# ETL"
     ]
    },
    {
     "cell_type": "code",
     "collapsed": false,
     "input": [
      "data = []\n",
      "indices = []"
     ],
     "language": "python",
     "metadata": {},
     "outputs": [],
     "prompt_number": 404
    },
    {
     "cell_type": "code",
     "collapsed": false,
     "input": [
      "for assign in assignments:\n",
      "    for answer in assign.answers[0]:\n",
      "    \n",
      "        qid    = answer.qid\n",
      "        fields = answer.fields\n",
      "        \n",
      "        if qid == 'workerId' or qid == 'Submit':\n",
      "            continue\n",
      "\n",
      "        qparts    = qid.split('_') \n",
      "        index     = qparts[0]\n",
      "\n",
      "        style_tag = qparts[-1]\n",
      "        style_tag = 'tagged_' + style_dict[ style_tag ].replace( ' ', '_' )\n",
      "        \n",
      "        response = fields[0] == 'yes'\n",
      "    \n",
      "        d = {\n",
      "        'hit_id'         : assign.HITId,\n",
      "        'assignment_id' : assign.AssignmentId,\n",
      "        'worker_id'      : assign.WorkerId,\n",
      "        style_tag        : response\n",
      "        }\n",
      "    \n",
      "        data += [ d ]\n",
      "        indices += [ index ]"
     ],
     "language": "python",
     "metadata": {},
     "outputs": [],
     "prompt_number": 405
    },
    {
     "cell_type": "code",
     "collapsed": false,
     "input": [
      "print len(data)\n",
      "print len(indices)"
     ],
     "language": "python",
     "metadata": {},
     "outputs": [
      {
       "output_type": "stream",
       "stream": "stdout",
       "text": [
        "26280\n",
        "26280\n"
       ]
      }
     ],
     "prompt_number": 406
    },
    {
     "cell_type": "code",
     "collapsed": false,
     "input": [
      "new_answer_df = pd.DataFrame( data, index=indices )"
     ],
     "language": "python",
     "metadata": {},
     "outputs": [],
     "prompt_number": 407
    },
    {
     "cell_type": "code",
     "collapsed": false,
     "input": [
      "print len( new_answer_df )"
     ],
     "language": "python",
     "metadata": {},
     "outputs": [
      {
       "output_type": "stream",
       "stream": "stdout",
       "text": [
        "26280\n"
       ]
      }
     ],
     "prompt_number": 408
    },
    {
     "cell_type": "code",
     "collapsed": false,
     "input": [
      "new_answer_df.ix[1]"
     ],
     "language": "python",
     "metadata": {},
     "outputs": [
      {
       "metadata": {},
       "output_type": "pyout",
       "prompt_number": 409,
       "text": [
        "assignment_id                   3TMFV4NEP8DP3GMDC7TRP3PKKHC8WM\n",
        "hit_id                          3O71U79SRAO9V49EW1O78CRBUKLSM5\n",
        "tagged_Bright                                              NaN\n",
        "tagged_Depth_of_Field                                      NaN\n",
        "tagged_Detailed                                            NaN\n",
        "tagged_Ethereal                                            NaN\n",
        "tagged_Geometric_Composition                              True\n",
        "tagged_HDR                                                 NaN\n",
        "tagged_Hazy                                                NaN\n",
        "tagged_Horror                                              NaN\n",
        "tagged_Long_Exposure                                       NaN\n",
        "tagged_Macro                                               NaN\n",
        "tagged_Melancholy                                          NaN\n",
        "tagged_Minimal                                             NaN\n",
        "tagged_Noir                                                NaN\n",
        "tagged_Pastel                                              NaN\n",
        "tagged_Romantic                                            NaN\n",
        "tagged_Serene                                              NaN\n",
        "tagged_Sunny                                               NaN\n",
        "tagged_Vintage                                             NaN\n",
        "worker_id                                        AECIP6RO3TXXW\n",
        "Name: 13262114554, dtype: object"
       ]
      }
     ],
     "prompt_number": 409
    },
    {
     "cell_type": "code",
     "collapsed": false,
     "input": [
      "print len( answer_df )\n",
      "print len( new_answer_df )"
     ],
     "language": "python",
     "metadata": {},
     "outputs": [
      {
       "output_type": "stream",
       "stream": "stdout",
       "text": [
        "57733\n",
        "26280\n"
       ]
      }
     ],
     "prompt_number": 410
    },
    {
     "cell_type": "code",
     "collapsed": false,
     "input": [
      "answer_df = pd.concat( [ answer_df, new_answer_df ] )"
     ],
     "language": "python",
     "metadata": {},
     "outputs": [],
     "prompt_number": 411
    },
    {
     "cell_type": "code",
     "collapsed": false,
     "input": [
      "print len( answer_df )"
     ],
     "language": "python",
     "metadata": {},
     "outputs": [
      {
       "output_type": "stream",
       "stream": "stdout",
       "text": [
        "84013\n"
       ]
      }
     ],
     "prompt_number": 412
    },
    {
     "cell_type": "code",
     "collapsed": false,
     "input": [
      "answer_df.ix[-1]"
     ],
     "language": "python",
     "metadata": {},
     "outputs": [
      {
       "metadata": {},
       "output_type": "pyout",
       "prompt_number": 413,
       "text": [
        "assignment_id                   3EQHHY4HQSRAJCDBZ4I6RGT5O55G5H\n",
        "hit_id                          3YLPJ8OXX7C1NV67K7UYLQR3N9W4XQ\n",
        "tagged_Bright                                              NaN\n",
        "tagged_Depth_of_Field                                      NaN\n",
        "tagged_Detailed                                            NaN\n",
        "tagged_Ethereal                                            NaN\n",
        "tagged_Geometric_Composition                               NaN\n",
        "tagged_HDR                                                 NaN\n",
        "tagged_Hazy                                                NaN\n",
        "tagged_Horror                                              NaN\n",
        "tagged_Long_Exposure                                       NaN\n",
        "tagged_Macro                                               NaN\n",
        "tagged_Melancholy                                          NaN\n",
        "tagged_Minimal                                             NaN\n",
        "tagged_Noir                                                NaN\n",
        "tagged_Pastel                                              NaN\n",
        "tagged_Romantic                                          False\n",
        "tagged_Serene                                              NaN\n",
        "tagged_Sunny                                               NaN\n",
        "tagged_Vintage                                             NaN\n",
        "worker_id                                        AOZMBH3OIDCG0\n",
        "Name: 426991049, dtype: object"
       ]
      }
     ],
     "prompt_number": 413
    },
    {
     "cell_type": "code",
     "collapsed": false,
     "input": [
      "'{}'.format( datetime.datetime.now().isoformat()[:-7] )"
     ],
     "language": "python",
     "metadata": {},
     "outputs": [
      {
       "metadata": {},
       "output_type": "pyout",
       "prompt_number": 414,
       "text": [
        "'2014-05-07T17:37:16'"
       ]
      }
     ],
     "prompt_number": 414
    },
    {
     "cell_type": "code",
     "collapsed": false,
     "input": [
      "import shutil\n",
      "import datetime\n",
      "oldfn = '../../mturk-results/mturk-answers.h5'\n",
      "newfn = '../../mturk-results/mturk-answers-{}.h5'.format( datetime.datetime.now().isoformat()[:-7] )\n",
      "shutil.copyfile( oldfn, newfn )"
     ],
     "language": "python",
     "metadata": {},
     "outputs": [],
     "prompt_number": 415
    },
    {
     "cell_type": "code",
     "collapsed": false,
     "input": [
      "answer_df.to_hdf( '../../mturk-results/mturk-answers.h5', 'df', mode='w')"
     ],
     "language": "python",
     "metadata": {},
     "outputs": [],
     "prompt_number": 416
    },
    {
     "cell_type": "code",
     "collapsed": false,
     "input": [
      "len( answer_df )"
     ],
     "language": "python",
     "metadata": {},
     "outputs": [
      {
       "metadata": {},
       "output_type": "pyout",
       "prompt_number": 417,
       "text": [
        "84013"
       ]
      }
     ],
     "prompt_number": 417
    },
    {
     "cell_type": "markdown",
     "metadata": {},
     "source": [
      "# Spam rejection"
     ]
    },
    {
     "cell_type": "code",
     "collapsed": false,
     "input": [
      "def test_spam( group ):\n",
      "    # if earlier HIT without spam rejection, accept\n",
      "    if len( group ) == 10:\n",
      "        return group\n",
      "#         return group.drop( group.index )\n",
      "    \n",
      "    # get the tagged_ column for the group, convert to style\n",
      "    tn = assignment_df_tag( group )\n",
      "    sn = 'style_' + tn[7:]\n",
      "    \n",
      "    # get the spam rejection images\n",
      "    idx1, idx2 = spam_images[sn]\n",
      "    \n",
      "    # if both test images are false, reject the group\n",
      "    # return the dataframe with all rows removed\n",
      "    # (but still having same columns)\n",
      "    if not group.ix[idx1][tn] and not group.ix[idx2][tn]:\n",
      "        return group.drop( group.index )\n",
      "    \n",
      "    # otherwise, return as-is\n",
      "    return group"
     ],
     "language": "python",
     "metadata": {},
     "outputs": [],
     "prompt_number": 424
    },
    {
     "cell_type": "code",
     "collapsed": false,
     "input": [
      "grouped = answer_df.groupby( 'assignment_id', as_index=False )"
     ],
     "language": "python",
     "metadata": {},
     "outputs": [],
     "prompt_number": 421
    },
    {
     "cell_type": "code",
     "collapsed": false,
     "input": [
      "clean_df = grouped.apply( test_spam )"
     ],
     "language": "python",
     "metadata": {},
     "outputs": [],
     "prompt_number": 425
    },
    {
     "cell_type": "code",
     "collapsed": false,
     "input": [
      "print len( answer_df )\n",
      "print len( clean_df )\n",
      "print ( len(answer_df) - len(clean_df) ) / 10"
     ],
     "language": "python",
     "metadata": {},
     "outputs": [
      {
       "output_type": "stream",
       "stream": "stdout",
       "text": [
        "84013\n",
        "83689\n",
        "32\n"
       ]
      }
     ],
     "prompt_number": 426
    },
    {
     "cell_type": "code",
     "collapsed": false,
     "input": [
      "clean_df.to_hdf( '../../mturk-results/mturk-cleaned-answers.h5', 'df', mode='w')"
     ],
     "language": "python",
     "metadata": {},
     "outputs": [],
     "prompt_number": 427
    },
    {
     "cell_type": "markdown",
     "metadata": {},
     "source": [
      "# Join with flickr dataframe"
     ]
    },
    {
     "cell_type": "code",
     "collapsed": false,
     "input": [
      "len( flickr_df.ix[ pd.Series( answer_df.index ).drop_duplicates() ] )"
     ],
     "language": "python",
     "metadata": {},
     "outputs": [
      {
       "metadata": {},
       "output_type": "pyout",
       "prompt_number": 420,
       "text": [
        "21023"
       ]
      }
     ],
     "prompt_number": 420
    },
    {
     "cell_type": "code",
     "collapsed": false,
     "input": [
      "# merge the answer dataframe with the corresponding rows of the flickr dataframe\n",
      "# join on the shared indices\n",
      "result_df = pd.merge( answer_df, \n",
      "                      flickr_df.ix[ pd.Series( answer_df.index ).drop_duplicates() ], \n",
      "                      left_index=True, right_index=True )"
     ],
     "language": "python",
     "metadata": {},
     "outputs": [],
     "prompt_number": 70
    },
    {
     "cell_type": "code",
     "collapsed": false,
     "input": [
      "len( result_df )"
     ],
     "language": "python",
     "metadata": {},
     "outputs": [
      {
       "metadata": {},
       "output_type": "pyout",
       "prompt_number": 71,
       "text": [
        "5390"
       ]
      }
     ],
     "prompt_number": 71
    },
    {
     "cell_type": "code",
     "collapsed": false,
     "input": [
      "result_df.to_hdf( '../../mturk-results/mturk-results.h5', 'df', mode='w')"
     ],
     "language": "python",
     "metadata": {},
     "outputs": [],
     "prompt_number": 72
    }
   ],
   "metadata": {}
  }
 ]
}