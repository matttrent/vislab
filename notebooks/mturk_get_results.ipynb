{
 "metadata": {
  "name": "",
  "signature": "sha256:fc1d91d875620be59b23406933f3d5778bd076c98ef90ae2ec8f820d72601ec9"
 },
 "nbformat": 3,
 "nbformat_minor": 0,
 "worksheets": [
  {
   "cells": [
    {
     "cell_type": "code",
     "collapsed": false,
     "input": [
      "%load_ext autoreload\n",
      "%autoreload 2\n",
      "\n",
      "import sys\n",
      "import uuid\n",
      "import math\n",
      "import urllib\n",
      "import urlparse\n",
      "import time\n",
      "\n",
      "from boto.mturk.connection import *\n",
      "from boto.mturk.question import ExternalQuestion\n",
      "from boto.mturk.qualification import *\n",
      "from boto.mturk.price import *\n",
      "\n",
      "import pandas as pd\n",
      "import vislab.datasets"
     ],
     "language": "python",
     "metadata": {},
     "outputs": [],
     "prompt_number": 1
    },
    {
     "cell_type": "markdown",
     "metadata": {},
     "source": [
      "# Configuration"
     ]
    },
    {
     "cell_type": "code",
     "collapsed": false,
     "input": [
      "# style were are testing\n",
      "POS_STYLE = 'Vintage'\n",
      "\n",
      "# base url for the test server\n",
      "SERVER_URL = 'https://image-style-mturk.herokuapp.com/'\n",
      "\n",
      "# total positive + negative images in the set\n",
      "TOTAL_IMAGES  = 2000\n",
      "\n",
      "# split of positive/negative examples in the set\n",
      "POS_NEG_SPLIT = .5\n",
      "\n",
      "# we won't use the first n images from any of the different styles for inclusion \n",
      "# in any of the test tests.  this can be used to serve any number of purposes,\n",
      "# such as example images, spam-detection samples, etc...  example images are the\n",
      "# only current use.\n",
      "RESERVE_IMAGES = 100\n",
      "\n",
      "# how many images per hit\n",
      "IMAGES_PER_HIT = 10\n",
      "\n",
      "# how many different turkers we want to view each job\n",
      "HIT_REPEAT = 1\n",
      "\n",
      "# aws secret keys\n",
      "AWS_ACCESS_KEY_ID     = vislab.config['api_keys']['mturk_aaron']['awsAccessKeyId']\n",
      "AWS_SECRET_ACCESS_KEY = vislab.config['api_keys']['mturk_aaron']['awsSecretAccessKey']\n",
      "\n",
      "# mechanical turk server\n",
      "# AWS_HOST = 'mechanicalturk.sandbox.amazonaws.com'\n",
      "AWS_HOST = 'mechanicalturk.amazonaws.com'\n",
      "\n",
      "# top-level hit information\n",
      "HIT_TITLE    = 'Tag the style of photos';\n",
      "HIT_DESC     = 'Given examples of a given photographic style, tag whether or not a photo matches that style.'\n",
      "HIT_KEYWORDS = 'photograph, photographs, photo, photos, image, images, style, look, classification, tagging'\n",
      "\n",
      "# hit specifics\n",
      "HIT_DURATION = datetime.timedelta(7)  # 7 days\n",
      "HIT_PRICE = 0.1"
     ],
     "language": "python",
     "metadata": {},
     "outputs": [],
     "prompt_number": 2
    },
    {
     "cell_type": "markdown",
     "metadata": {},
     "source": [
      "# Helper functions"
     ]
    },
    {
     "cell_type": "code",
     "collapsed": false,
     "input": [
      "def assignment_df_tag( df, drop=True ):\n",
      "    if drop: df = df.dropna( axis=1, how='all' )\n",
      "    return [name for name in df.columns.tolist() if 'tagged' in name]\n",
      "\n",
      "def assignment_series_tag( ser, drop=True ):\n",
      "    if drop: ser = ser.dropna()\n",
      "    return [name for name in ser.index.tolist() if 'tagged' in name][0]"
     ],
     "language": "python",
     "metadata": {},
     "outputs": [],
     "prompt_number": 3
    },
    {
     "cell_type": "markdown",
     "metadata": {},
     "source": [
      "# Spam rejection images"
     ]
    },
    {
     "cell_type": "code",
     "collapsed": false,
     "input": [
      "spam_images = {}\n",
      "spam_images['style_Bright']                = [ '13276349735', '13202986955' ]\n",
      "spam_images['style_Depth_of_Field']        = [ '12275097686', '12618937364' ]\n",
      "spam_images['style_Detailed']\t             = [ '12678909473', '9584007214' ]\n",
      "spam_images['style_Ethereal']\t             = [ '11196553984', '12103191336' ]\n",
      "spam_images['style_Geometric_Composition'] = [ '12361280943', '11728222814' ]\n",
      "spam_images['style_HDR']\t                 = [ '12985120954', '13080484014' ]\n",
      "spam_images['style_Hazy']\t                 = [ '8123136180', '8710649981' ]\n",
      "spam_images['style_Horror']\t             = [ '3540879185', '3190181306' ]\n",
      "spam_images['style_Long_Exposure']\t     = [ '13077420234', '13039543873' ]\n",
      "spam_images['style_Macro']\t             = [ '12874682495', '13237561944' ]\n",
      "spam_images['style_Melancholy']\t         = [ '13035627133', '12652741963' ]\n",
      "spam_images['style_Minimal']\t             = [ '9389108329', '9499757804' ]\n",
      "spam_images['style_Noir']\t                 = [ '11158990436', '3330508474' ]\n",
      "spam_images['style_Pastel']\t             = [ '13163996094', '12772046043' ]\n",
      "spam_images['style_Romantic']\t             = [ '8875030224', '9390762719' ]\n",
      "spam_images['style_Serene']\t             = [ '9572023253', '9700306653' ]\n",
      "spam_images['style_Sunny']\t             = [ '11433844095', '11156368195' ]\n",
      "spam_images['style_Vintage']\t             = [ '5710850998', '5798828322' ]"
     ],
     "language": "python",
     "metadata": {},
     "outputs": [],
     "prompt_number": 4
    },
    {
     "cell_type": "markdown",
     "metadata": {},
     "source": [
      "# Setup MTurk"
     ]
    },
    {
     "cell_type": "code",
     "collapsed": false,
     "input": [
      "# create the mturk connection\n",
      "MTC = MTurkConnection(aws_access_key_id=AWS_ACCESS_KEY_ID,\n",
      "                      aws_secret_access_key=AWS_SECRET_ACCESS_KEY,\n",
      "                      host=AWS_HOST,is_secure=True)"
     ],
     "language": "python",
     "metadata": {},
     "outputs": [],
     "prompt_number": 5
    },
    {
     "cell_type": "markdown",
     "metadata": {},
     "source": [
      "# Data setup"
     ]
    },
    {
     "cell_type": "code",
     "collapsed": false,
     "input": [
      "flickr_df = vislab.datasets.flickr.get_df()"
     ],
     "language": "python",
     "metadata": {},
     "outputs": [],
     "prompt_number": 6
    },
    {
     "cell_type": "markdown",
     "metadata": {},
     "source": [
      "## Helper functions"
     ]
    },
    {
     "cell_type": "code",
     "collapsed": false,
     "input": [
      "import re\n",
      "from unicodedata import normalize\n",
      "\n",
      "_punct_re = re.compile(r'[\\t !\"#$%&\\'()*\\-/<=>?@\\[\\\\\\]^_`{|},.]+')\n",
      "\n",
      "def slugify(text, delim=u'-'):\n",
      "    \"\"\"Generates an slightly worse ASCII-only slug.\"\"\"\n",
      "    text = unicode( text )\n",
      "    result = []\n",
      "    for word in _punct_re.split(text.lower()):\n",
      "        word = normalize('NFKD', word).encode('ascii', 'ignore')\n",
      "        if word:\n",
      "            result.append(word)\n",
      "    return unicode(delim.join(result))"
     ],
     "language": "python",
     "metadata": {},
     "outputs": [],
     "prompt_number": 7
    },
    {
     "cell_type": "markdown",
     "metadata": {},
     "source": [
      "# Style tag name extraction"
     ]
    },
    {
     "cell_type": "code",
     "collapsed": false,
     "input": [
      "style_cols = [name for name in flickr_df.columns.tolist() if 'style' in name]\n",
      "style_cols.remove( 'style_Bokeh' )\n",
      "style_cols.remove( 'style_Texture' )\n",
      "print style_cols"
     ],
     "language": "python",
     "metadata": {},
     "outputs": [
      {
       "output_type": "stream",
       "stream": "stdout",
       "text": [
        "['style_Bright', 'style_Depth_of_Field', 'style_Detailed', 'style_Ethereal', 'style_Geometric_Composition', 'style_HDR', 'style_Hazy', 'style_Horror', 'style_Long_Exposure', 'style_Macro', 'style_Melancholy', 'style_Minimal', 'style_Noir', 'style_Pastel', 'style_Romantic', 'style_Serene', 'style_Sunny', 'style_Vintage']\n"
       ]
      }
     ],
     "prompt_number": 8
    },
    {
     "cell_type": "code",
     "collapsed": false,
     "input": [
      "style_names = [name[6:].replace('_', ' ') for name in style_cols]\n",
      "slug_names = [slugify(name) for name in style_names]\n",
      "style_dict = dict( zip( slug_names, style_names ) )\n",
      "style_dict"
     ],
     "language": "python",
     "metadata": {},
     "outputs": [
      {
       "metadata": {},
       "output_type": "pyout",
       "prompt_number": 9,
       "text": [
        "{u'bright': 'Bright',\n",
        " u'depth-of-field': 'Depth of Field',\n",
        " u'detailed': 'Detailed',\n",
        " u'ethereal': 'Ethereal',\n",
        " u'geometric-composition': 'Geometric Composition',\n",
        " u'hazy': 'Hazy',\n",
        " u'hdr': 'HDR',\n",
        " u'horror': 'Horror',\n",
        " u'long-exposure': 'Long Exposure',\n",
        " u'macro': 'Macro',\n",
        " u'melancholy': 'Melancholy',\n",
        " u'minimal': 'Minimal',\n",
        " u'noir': 'Noir',\n",
        " u'pastel': 'Pastel',\n",
        " u'romantic': 'Romantic',\n",
        " u'serene': 'Serene',\n",
        " u'sunny': 'Sunny',\n",
        " u'vintage': 'Vintage'}"
       ]
      }
     ],
     "prompt_number": 9
    },
    {
     "cell_type": "markdown",
     "metadata": {},
     "source": [
      "# Load existing work"
     ]
    },
    {
     "cell_type": "code",
     "collapsed": false,
     "input": [
      "answer_df = pd.read_hdf( '../../mturk-results/mturk-answers.h5', 'df' )"
     ],
     "language": "python",
     "metadata": {},
     "outputs": [],
     "prompt_number": 10
    },
    {
     "cell_type": "code",
     "collapsed": false,
     "input": [
      "print len( answer_df )"
     ],
     "language": "python",
     "metadata": {},
     "outputs": [
      {
       "output_type": "stream",
       "stream": "stdout",
       "text": [
        "119255\n"
       ]
      }
     ],
     "prompt_number": 11
    },
    {
     "cell_type": "markdown",
     "metadata": {},
     "source": [
      "# Collect HITs"
     ]
    },
    {
     "cell_type": "code",
     "collapsed": false,
     "input": [
      "HITs = []"
     ],
     "language": "python",
     "metadata": {},
     "outputs": [],
     "prompt_number": 440
    },
    {
     "cell_type": "code",
     "collapsed": false,
     "input": [
      "old_len = -1\n",
      "count = 1\n",
      "\n",
      "while len( HITs ) != old_len:\n",
      "\n",
      "    print count, len(HITs), old_len\n",
      "    hits = MTC.get_reviewable_hits( \n",
      "                page_size=100, \n",
      "                page_number=count, \n",
      "                sort_by='CreationTime', \n",
      "                sort_direction='Ascending'\n",
      "            )\n",
      "    \n",
      "    old_len = len( HITs )\n",
      "    HITs += hits \n",
      "    count += 1 "
     ],
     "language": "python",
     "metadata": {},
     "outputs": [
      {
       "output_type": "stream",
       "stream": "stdout",
       "text": [
        "1 0 -1\n",
        "2"
       ]
      },
      {
       "output_type": "stream",
       "stream": "stdout",
       "text": [
        " 100 0\n",
        "3"
       ]
      },
      {
       "output_type": "stream",
       "stream": "stdout",
       "text": [
        " 200 100\n",
        "4"
       ]
      },
      {
       "output_type": "stream",
       "stream": "stdout",
       "text": [
        " 300 200\n",
        "5"
       ]
      },
      {
       "output_type": "stream",
       "stream": "stdout",
       "text": [
        " 400 300\n",
        "6"
       ]
      },
      {
       "output_type": "stream",
       "stream": "stdout",
       "text": [
        " 500 400\n",
        "7"
       ]
      },
      {
       "output_type": "stream",
       "stream": "stdout",
       "text": [
        " 600 500\n",
        "8"
       ]
      },
      {
       "output_type": "stream",
       "stream": "stdout",
       "text": [
        " 700 600\n",
        "9"
       ]
      },
      {
       "output_type": "stream",
       "stream": "stdout",
       "text": [
        " 800 700\n",
        "10"
       ]
      },
      {
       "output_type": "stream",
       "stream": "stdout",
       "text": [
        " 900 800\n",
        "11"
       ]
      },
      {
       "output_type": "stream",
       "stream": "stdout",
       "text": [
        " 1000 900\n",
        "12"
       ]
      },
      {
       "output_type": "stream",
       "stream": "stdout",
       "text": [
        " 1100 1000\n",
        "13"
       ]
      },
      {
       "output_type": "stream",
       "stream": "stdout",
       "text": [
        " 1200 1100\n",
        "14"
       ]
      },
      {
       "output_type": "stream",
       "stream": "stdout",
       "text": [
        " 1300 1200\n",
        "15"
       ]
      },
      {
       "output_type": "stream",
       "stream": "stdout",
       "text": [
        " 1400 1300\n",
        "16"
       ]
      },
      {
       "output_type": "stream",
       "stream": "stdout",
       "text": [
        " 1500 1400\n",
        "17"
       ]
      },
      {
       "output_type": "stream",
       "stream": "stdout",
       "text": [
        " 1600 1500\n",
        "18"
       ]
      },
      {
       "output_type": "stream",
       "stream": "stdout",
       "text": [
        " 1700 1600\n",
        "19"
       ]
      },
      {
       "output_type": "stream",
       "stream": "stdout",
       "text": [
        " 1800 1700\n",
        "20"
       ]
      },
      {
       "output_type": "stream",
       "stream": "stdout",
       "text": [
        " 1900 1800\n",
        "21"
       ]
      },
      {
       "output_type": "stream",
       "stream": "stdout",
       "text": [
        " 2000 1900\n",
        "22"
       ]
      },
      {
       "output_type": "stream",
       "stream": "stdout",
       "text": [
        " 2100 2000\n",
        "23"
       ]
      },
      {
       "output_type": "stream",
       "stream": "stdout",
       "text": [
        " 2200 2100\n",
        "24"
       ]
      },
      {
       "output_type": "stream",
       "stream": "stdout",
       "text": [
        " 2300 2200\n",
        "25"
       ]
      },
      {
       "output_type": "stream",
       "stream": "stdout",
       "text": [
        " 2400 2300\n",
        "26"
       ]
      },
      {
       "output_type": "stream",
       "stream": "stdout",
       "text": [
        " 2500 2400\n",
        "27"
       ]
      },
      {
       "output_type": "stream",
       "stream": "stdout",
       "text": [
        " 2600 2500\n",
        "28"
       ]
      },
      {
       "output_type": "stream",
       "stream": "stdout",
       "text": [
        " 2700 2600\n",
        "29"
       ]
      },
      {
       "output_type": "stream",
       "stream": "stdout",
       "text": [
        " 2800 2700\n",
        "30"
       ]
      },
      {
       "output_type": "stream",
       "stream": "stdout",
       "text": [
        " 2900 2800\n",
        "31"
       ]
      },
      {
       "output_type": "stream",
       "stream": "stdout",
       "text": [
        " 3000 2900\n",
        "32"
       ]
      },
      {
       "output_type": "stream",
       "stream": "stdout",
       "text": [
        " 3100 3000\n",
        "33"
       ]
      },
      {
       "output_type": "stream",
       "stream": "stdout",
       "text": [
        " 3200 3100\n",
        "34"
       ]
      },
      {
       "output_type": "stream",
       "stream": "stdout",
       "text": [
        " 3300 3200\n",
        "35"
       ]
      },
      {
       "output_type": "stream",
       "stream": "stdout",
       "text": [
        " 3400 3300\n",
        "36"
       ]
      },
      {
       "output_type": "stream",
       "stream": "stdout",
       "text": [
        " 3500 3400\n",
        "37"
       ]
      },
      {
       "output_type": "stream",
       "stream": "stdout",
       "text": [
        " 3600 3500\n",
        "38"
       ]
      },
      {
       "output_type": "stream",
       "stream": "stdout",
       "text": [
        " 3700 3600\n",
        "39"
       ]
      },
      {
       "output_type": "stream",
       "stream": "stdout",
       "text": [
        " 3800 3700\n",
        "40"
       ]
      },
      {
       "output_type": "stream",
       "stream": "stdout",
       "text": [
        " 3900 3800\n",
        "41"
       ]
      },
      {
       "output_type": "stream",
       "stream": "stdout",
       "text": [
        " 4000 3900\n",
        "42"
       ]
      },
      {
       "output_type": "stream",
       "stream": "stdout",
       "text": [
        " 4100 4000\n",
        "43"
       ]
      },
      {
       "output_type": "stream",
       "stream": "stdout",
       "text": [
        " 4200 4100\n",
        "44"
       ]
      },
      {
       "output_type": "stream",
       "stream": "stdout",
       "text": [
        " 4300 4200\n",
        "45"
       ]
      },
      {
       "output_type": "stream",
       "stream": "stdout",
       "text": [
        " 4400 4300\n",
        "46"
       ]
      },
      {
       "output_type": "stream",
       "stream": "stdout",
       "text": [
        " 4500 4400\n",
        "47"
       ]
      },
      {
       "output_type": "stream",
       "stream": "stdout",
       "text": [
        " 4600 4500\n",
        "48"
       ]
      },
      {
       "output_type": "stream",
       "stream": "stdout",
       "text": [
        " 4700 4600\n",
        "49"
       ]
      },
      {
       "output_type": "stream",
       "stream": "stdout",
       "text": [
        " 4800 4700\n",
        "50"
       ]
      },
      {
       "output_type": "stream",
       "stream": "stdout",
       "text": [
        " 4900 4800\n",
        "51"
       ]
      },
      {
       "output_type": "stream",
       "stream": "stdout",
       "text": [
        " 5000 4900\n",
        "52"
       ]
      },
      {
       "output_type": "stream",
       "stream": "stdout",
       "text": [
        " 5100 5000\n",
        "53"
       ]
      },
      {
       "output_type": "stream",
       "stream": "stdout",
       "text": [
        " 5200 5100\n",
        "54"
       ]
      },
      {
       "output_type": "stream",
       "stream": "stdout",
       "text": [
        " 5300 5200\n",
        "55"
       ]
      },
      {
       "output_type": "stream",
       "stream": "stdout",
       "text": [
        " 5400 5300\n",
        "56"
       ]
      },
      {
       "output_type": "stream",
       "stream": "stdout",
       "text": [
        " 5500 5400\n",
        "57"
       ]
      },
      {
       "output_type": "stream",
       "stream": "stdout",
       "text": [
        " 5600 5500\n",
        "58"
       ]
      },
      {
       "output_type": "stream",
       "stream": "stdout",
       "text": [
        " 5700 5600\n",
        "59"
       ]
      },
      {
       "output_type": "stream",
       "stream": "stdout",
       "text": [
        " 5800 5700\n",
        "60"
       ]
      },
      {
       "output_type": "stream",
       "stream": "stdout",
       "text": [
        " 5900 5800\n",
        "61"
       ]
      },
      {
       "output_type": "stream",
       "stream": "stdout",
       "text": [
        " 5979 5900\n"
       ]
      }
     ],
     "prompt_number": 441
    },
    {
     "cell_type": "code",
     "collapsed": false,
     "input": [
      "len( HITs )"
     ],
     "language": "python",
     "metadata": {},
     "outputs": [
      {
       "metadata": {},
       "output_type": "pyout",
       "prompt_number": 442,
       "text": [
        "5979"
       ]
      }
     ],
     "prompt_number": 442
    },
    {
     "cell_type": "code",
     "collapsed": false,
     "input": [
      "hit = HITs[0]\n",
      "hit"
     ],
     "language": "python",
     "metadata": {},
     "outputs": [
      {
       "metadata": {},
       "output_type": "pyout",
       "prompt_number": 443,
       "text": [
        "<boto.mturk.connection.HIT at 0x119390b10>"
       ]
      }
     ],
     "prompt_number": 443
    },
    {
     "cell_type": "code",
     "collapsed": false,
     "input": [
      "print hit.HITId\n",
      "print hit.HIT"
     ],
     "language": "python",
     "metadata": {},
     "outputs": [
      {
       "output_type": "stream",
       "stream": "stdout",
       "text": [
        "3R5OYNIC2B8GV7J6DHLPZLHS0TBPTT\n",
        "\n"
       ]
      }
     ],
     "prompt_number": 444
    },
    {
     "cell_type": "code",
     "collapsed": false,
     "input": [
      "hithit = MTC.get_hit( hit.HITId )"
     ],
     "language": "python",
     "metadata": {},
     "outputs": [],
     "prompt_number": 445
    },
    {
     "cell_type": "code",
     "collapsed": false,
     "input": [
      "dir( hithit )"
     ],
     "language": "python",
     "metadata": {},
     "outputs": [
      {
       "metadata": {},
       "output_type": "pyout",
       "prompt_number": 446,
       "text": [
        "['GetHITResponse',\n",
        " 'OperationRequest',\n",
        " 'RequestId',\n",
        " '__add__',\n",
        " '__class__',\n",
        " '__contains__',\n",
        " '__delattr__',\n",
        " '__delitem__',\n",
        " '__delslice__',\n",
        " '__dict__',\n",
        " '__doc__',\n",
        " '__eq__',\n",
        " '__format__',\n",
        " '__ge__',\n",
        " '__getattribute__',\n",
        " '__getitem__',\n",
        " '__getslice__',\n",
        " '__gt__',\n",
        " '__hash__',\n",
        " '__iadd__',\n",
        " '__imul__',\n",
        " '__init__',\n",
        " '__iter__',\n",
        " '__le__',\n",
        " '__len__',\n",
        " '__lt__',\n",
        " '__module__',\n",
        " '__mul__',\n",
        " '__ne__',\n",
        " '__new__',\n",
        " '__reduce__',\n",
        " '__reduce_ex__',\n",
        " '__repr__',\n",
        " '__reversed__',\n",
        " '__rmul__',\n",
        " '__setattr__',\n",
        " '__setitem__',\n",
        " '__setslice__',\n",
        " '__sizeof__',\n",
        " '__str__',\n",
        " '__subclasshook__',\n",
        " '__weakref__',\n",
        " 'append',\n",
        " 'count',\n",
        " 'endElement',\n",
        " 'extend',\n",
        " 'index',\n",
        " 'insert',\n",
        " 'is_truncated',\n",
        " 'key_marker',\n",
        " 'marker',\n",
        " 'markers',\n",
        " 'next_generation_marker',\n",
        " 'next_key_marker',\n",
        " 'next_marker',\n",
        " 'next_token',\n",
        " 'next_upload_id_marker',\n",
        " 'next_version_id_marker',\n",
        " 'pop',\n",
        " 'remove',\n",
        " 'reverse',\n",
        " 'sort',\n",
        " 'startElement',\n",
        " 'status',\n",
        " 'to_boolean',\n",
        " 'version_id_marker']"
       ]
      }
     ],
     "prompt_number": 446
    },
    {
     "cell_type": "code",
     "collapsed": false,
     "input": [
      "hithit.CreationTime"
     ],
     "language": "python",
     "metadata": {},
     "outputs": [
      {
       "ename": "AttributeError",
       "evalue": "'ResultSet' object has no attribute 'CreationTime'",
       "output_type": "pyerr",
       "traceback": [
        "\u001b[0;31m---------------------------------------------------------------------------\u001b[0m\n\u001b[0;31mAttributeError\u001b[0m                            Traceback (most recent call last)",
        "\u001b[0;32m<ipython-input-323-854390dc767e>\u001b[0m in \u001b[0;36m<module>\u001b[0;34m()\u001b[0m\n\u001b[0;32m----> 1\u001b[0;31m \u001b[0mhithit\u001b[0m\u001b[0;34m.\u001b[0m\u001b[0mCreationTime\u001b[0m\u001b[0;34m\u001b[0m\u001b[0m\n\u001b[0m",
        "\u001b[0;31mAttributeError\u001b[0m: 'ResultSet' object has no attribute 'CreationTime'"
       ]
      }
     ],
     "prompt_number": 323
    },
    {
     "cell_type": "code",
     "collapsed": false,
     "input": [
      "hittime = datetime.datetime.strptime( hit.CreationTime, '%Y-%m-%dT%H:%M:%SZ')\n",
      "hittime"
     ],
     "language": "python",
     "metadata": {},
     "outputs": [
      {
       "metadata": {},
       "output_type": "pyout",
       "prompt_number": 253,
       "text": [
        "datetime.datetime(2014, 5, 8, 23, 21, 8)"
       ]
      }
     ],
     "prompt_number": 253
    },
    {
     "cell_type": "code",
     "collapsed": false,
     "input": [
      "today =  datetime.datetime( 2014, 5, 8 )\n",
      "today"
     ],
     "language": "python",
     "metadata": {},
     "outputs": [
      {
       "metadata": {},
       "output_type": "pyout",
       "prompt_number": 254,
       "text": [
        "datetime.datetime(2014, 5, 8, 0, 0)"
       ]
      }
     ],
     "prompt_number": 254
    },
    {
     "cell_type": "code",
     "collapsed": false,
     "input": [
      "hittime > today"
     ],
     "language": "python",
     "metadata": {},
     "outputs": [
      {
       "metadata": {},
       "output_type": "pyout",
       "prompt_number": 255,
       "text": [
        "True"
       ]
      }
     ],
     "prompt_number": 255
    },
    {
     "cell_type": "markdown",
     "metadata": {},
     "source": [
      "# Collect assignments"
     ]
    },
    {
     "cell_type": "code",
     "collapsed": false,
     "input": [
      "assignments = []"
     ],
     "language": "python",
     "metadata": {},
     "outputs": [],
     "prompt_number": 447
    },
    {
     "cell_type": "code",
     "collapsed": false,
     "input": [
      "batch_count = 0\n",
      "\n",
      "for i, hit in enumerate( HITs ):\n",
      "    \n",
      "#     hittime = datetime.datetime.strptime( hit.CreationTime, '%Y-%m-%dT%H:%M:%SZ')    \n",
      "#     if hittime < datetime.datetime( 2014, 5, 8 ):\n",
      "#         continue\n",
      "    \n",
      "#     if hit.HITStatus != 'Reviewable':\n",
      "#         continue\n",
      "    \n",
      "    if len( answer_df[ answer_df['hit_id'] == hit.HITId ] ) > 0:\n",
      "#         print 'ignoring', hit.HITId\n",
      "        continue\n",
      "    \n",
      "    if batch_count % 75 == 0 and batch_count != 0:\n",
      "        time.sleep( 20 )\n",
      "    \n",
      "    print i, \n",
      "    old_len = -1\n",
      "    count = 1\n",
      "    while len( assignments ) != old_len:\n",
      "\n",
      "        assigns = MTC.get_assignments( hit_id=hit.HITId, page_number=count, page_size=10 )\n",
      "    \n",
      "        old_len = len( assignments )\n",
      "        assignments += assigns\n",
      "        count += 1 \n",
      "    print len( assignments )\n",
      "    \n",
      "    batch_count += 1"
     ],
     "language": "python",
     "metadata": {},
     "outputs": [
      {
       "output_type": "stream",
       "stream": "stdout",
       "text": [
        "3187 "
       ]
      },
      {
       "output_type": "stream",
       "stream": "stdout",
       "text": [
        "3\n",
        "3440"
       ]
      },
      {
       "output_type": "stream",
       "stream": "stdout",
       "text": [
        " 6\n",
        "3442 "
       ]
      },
      {
       "output_type": "stream",
       "stream": "stdout",
       "text": [
        "9\n",
        "3464"
       ]
      },
      {
       "output_type": "stream",
       "stream": "stdout",
       "text": [
        " 12\n",
        "3466 "
       ]
      },
      {
       "output_type": "stream",
       "stream": "stdout",
       "text": [
        "15\n",
        "3474"
       ]
      },
      {
       "output_type": "stream",
       "stream": "stdout",
       "text": [
        " 18\n",
        "3486"
       ]
      },
      {
       "output_type": "stream",
       "stream": "stdout",
       "text": [
        " 21\n",
        "3492"
       ]
      },
      {
       "output_type": "stream",
       "stream": "stdout",
       "text": [
        " 24\n",
        "3503"
       ]
      },
      {
       "output_type": "stream",
       "stream": "stdout",
       "text": [
        " 27\n",
        "3506 "
       ]
      },
      {
       "output_type": "stream",
       "stream": "stdout",
       "text": [
        "30\n",
        "3508 "
       ]
      },
      {
       "output_type": "stream",
       "stream": "stdout",
       "text": [
        "33\n",
        "3555"
       ]
      },
      {
       "output_type": "stream",
       "stream": "stdout",
       "text": [
        " 36\n",
        "3568"
       ]
      },
      {
       "output_type": "stream",
       "stream": "stdout",
       "text": [
        " 39\n",
        "3590"
       ]
      },
      {
       "output_type": "stream",
       "stream": "stdout",
       "text": [
        " 42\n",
        "3591 "
       ]
      },
      {
       "output_type": "stream",
       "stream": "stdout",
       "text": [
        "45\n",
        "3628"
       ]
      },
      {
       "output_type": "stream",
       "stream": "stdout",
       "text": [
        " 48\n",
        "3631"
       ]
      },
      {
       "output_type": "stream",
       "stream": "stdout",
       "text": [
        " 51\n",
        "3635"
       ]
      },
      {
       "output_type": "stream",
       "stream": "stdout",
       "text": [
        " 54\n",
        "3647"
       ]
      },
      {
       "output_type": "stream",
       "stream": "stdout",
       "text": [
        " 57\n",
        "3659"
       ]
      },
      {
       "output_type": "stream",
       "stream": "stdout",
       "text": [
        " 60\n",
        "3667"
       ]
      },
      {
       "output_type": "stream",
       "stream": "stdout",
       "text": [
        " 63\n",
        "3674"
       ]
      },
      {
       "output_type": "stream",
       "stream": "stdout",
       "text": [
        " 66\n",
        "3676 "
       ]
      },
      {
       "output_type": "stream",
       "stream": "stdout",
       "text": [
        "69\n",
        "3684"
       ]
      },
      {
       "output_type": "stream",
       "stream": "stdout",
       "text": [
        " 72\n",
        "3686 "
       ]
      },
      {
       "output_type": "stream",
       "stream": "stdout",
       "text": [
        "75\n",
        "3695"
       ]
      },
      {
       "output_type": "stream",
       "stream": "stdout",
       "text": [
        " 78\n",
        "3721"
       ]
      },
      {
       "output_type": "stream",
       "stream": "stdout",
       "text": [
        " 81\n",
        "3731"
       ]
      },
      {
       "output_type": "stream",
       "stream": "stdout",
       "text": [
        " 84\n",
        "3733 "
       ]
      },
      {
       "output_type": "stream",
       "stream": "stdout",
       "text": [
        "87\n",
        "3753"
       ]
      },
      {
       "output_type": "stream",
       "stream": "stdout",
       "text": [
        " 90\n",
        "3770"
       ]
      },
      {
       "output_type": "stream",
       "stream": "stdout",
       "text": [
        " 93\n",
        "3772 "
       ]
      },
      {
       "output_type": "stream",
       "stream": "stdout",
       "text": [
        "96\n",
        "3782"
       ]
      },
      {
       "output_type": "stream",
       "stream": "stdout",
       "text": [
        " 99\n",
        "3785 "
       ]
      },
      {
       "output_type": "stream",
       "stream": "stdout",
       "text": [
        "102\n",
        "3787 "
       ]
      },
      {
       "output_type": "stream",
       "stream": "stdout",
       "text": [
        "105\n",
        "3801"
       ]
      },
      {
       "output_type": "stream",
       "stream": "stdout",
       "text": [
        " 108\n",
        "3809"
       ]
      },
      {
       "output_type": "stream",
       "stream": "stdout",
       "text": [
        " 111\n",
        "3825"
       ]
      },
      {
       "output_type": "stream",
       "stream": "stdout",
       "text": [
        " 114\n",
        "3836"
       ]
      },
      {
       "output_type": "stream",
       "stream": "stdout",
       "text": [
        " 117\n",
        "3848"
       ]
      },
      {
       "output_type": "stream",
       "stream": "stdout",
       "text": [
        " 120\n",
        "3852"
       ]
      },
      {
       "output_type": "stream",
       "stream": "stdout",
       "text": [
        " 123\n",
        "3854 "
       ]
      },
      {
       "output_type": "stream",
       "stream": "stdout",
       "text": [
        "126\n",
        "3856 "
       ]
      },
      {
       "output_type": "stream",
       "stream": "stdout",
       "text": [
        "129\n",
        "3858 "
       ]
      },
      {
       "output_type": "stream",
       "stream": "stdout",
       "text": [
        "132\n",
        "3865"
       ]
      },
      {
       "output_type": "stream",
       "stream": "stdout",
       "text": [
        " 135\n",
        "3877"
       ]
      },
      {
       "output_type": "stream",
       "stream": "stdout",
       "text": [
        " 138\n",
        "3891"
       ]
      },
      {
       "output_type": "stream",
       "stream": "stdout",
       "text": [
        " 141\n",
        "3893 "
       ]
      },
      {
       "output_type": "stream",
       "stream": "stdout",
       "text": [
        "144\n",
        "3905"
       ]
      },
      {
       "output_type": "stream",
       "stream": "stdout",
       "text": [
        " 147\n",
        "3907 "
       ]
      },
      {
       "output_type": "stream",
       "stream": "stdout",
       "text": [
        "150\n",
        "3932"
       ]
      },
      {
       "output_type": "stream",
       "stream": "stdout",
       "text": [
        " 153\n",
        "3936"
       ]
      },
      {
       "output_type": "stream",
       "stream": "stdout",
       "text": [
        " 156\n",
        "3939 "
       ]
      },
      {
       "output_type": "stream",
       "stream": "stdout",
       "text": [
        "159\n",
        "3945"
       ]
      },
      {
       "output_type": "stream",
       "stream": "stdout",
       "text": [
        " 162\n",
        "3956"
       ]
      },
      {
       "output_type": "stream",
       "stream": "stdout",
       "text": [
        " 165\n",
        "3978"
       ]
      },
      {
       "output_type": "stream",
       "stream": "stdout",
       "text": [
        " 168\n",
        "3979 "
       ]
      },
      {
       "output_type": "stream",
       "stream": "stdout",
       "text": [
        "171\n",
        "3981 "
       ]
      },
      {
       "output_type": "stream",
       "stream": "stdout",
       "text": [
        "174\n",
        "3983 "
       ]
      },
      {
       "output_type": "stream",
       "stream": "stdout",
       "text": [
        "177\n",
        "3988"
       ]
      },
      {
       "output_type": "stream",
       "stream": "stdout",
       "text": [
        " 180\n",
        "3989 "
       ]
      },
      {
       "output_type": "stream",
       "stream": "stdout",
       "text": [
        "183\n",
        "3990 "
       ]
      },
      {
       "output_type": "stream",
       "stream": "stdout",
       "text": [
        "186\n",
        "3991 "
       ]
      },
      {
       "output_type": "stream",
       "stream": "stdout",
       "text": [
        "189\n",
        "3993 "
       ]
      },
      {
       "output_type": "stream",
       "stream": "stdout",
       "text": [
        "192\n",
        "3995 "
       ]
      },
      {
       "output_type": "stream",
       "stream": "stdout",
       "text": [
        "195\n",
        "3997 "
       ]
      },
      {
       "output_type": "stream",
       "stream": "stdout",
       "text": [
        "198\n",
        "4000"
       ]
      },
      {
       "output_type": "stream",
       "stream": "stdout",
       "text": [
        " 201\n",
        "4001 "
       ]
      },
      {
       "output_type": "stream",
       "stream": "stdout",
       "text": [
        "204\n",
        "4002 "
       ]
      },
      {
       "output_type": "stream",
       "stream": "stdout",
       "text": [
        "207\n",
        "4003 "
       ]
      },
      {
       "output_type": "stream",
       "stream": "stdout",
       "text": [
        "210\n",
        "4006"
       ]
      },
      {
       "output_type": "stream",
       "stream": "stdout",
       "text": [
        " 213\n",
        "4007 "
       ]
      },
      {
       "output_type": "stream",
       "stream": "stdout",
       "text": [
        "216\n",
        "4008 "
       ]
      },
      {
       "output_type": "stream",
       "stream": "stdout",
       "text": [
        "219\n",
        "4009 "
       ]
      },
      {
       "output_type": "stream",
       "stream": "stdout",
       "text": [
        "222\n",
        "4011 "
       ]
      }
     ]
    },
    {
     "cell_type": "code",
     "collapsed": false,
     "input": [
      "len( assignments )"
     ],
     "language": "python",
     "metadata": {},
     "outputs": []
    },
    {
     "cell_type": "markdown",
     "metadata": {},
     "source": [
      "# Approve assignments"
     ]
    },
    {
     "cell_type": "code",
     "collapsed": false,
     "input": [
      "#assignment_ids = answer_df['assignment_id'].unique()\n",
      "#print len( assignment_ids )"
     ],
     "language": "python",
     "metadata": {},
     "outputs": []
    },
    {
     "cell_type": "code",
     "collapsed": false,
     "input": [
      "#ass = MTC.get_assignment( assignment_ids[0] )[0]\n",
      "#ass.AssignmentStatus"
     ],
     "language": "python",
     "metadata": {},
     "outputs": []
    },
    {
     "cell_type": "code",
     "collapsed": false,
     "input": [
      "# for ass_id in assignment_ids:\n",
      "\n",
      "#     try:\n",
      "#         MTC.approve_assignment( ass_id )\n",
      "#     except MTurkRequestError:\n",
      "#         pass"
     ],
     "language": "python",
     "metadata": {},
     "outputs": []
    },
    {
     "cell_type": "code",
     "collapsed": false,
     "input": [
      "#for assign in assignments:\n",
      "#    if assign.AssignmentStatus != 'Approved':\n",
      "#        MTC.approve_assignment( assign.AssignmentId )"
     ],
     "language": "python",
     "metadata": {},
     "outputs": []
    },
    {
     "cell_type": "markdown",
     "metadata": {},
     "source": [
      "# ETL"
     ]
    },
    {
     "cell_type": "code",
     "collapsed": false,
     "input": [
      "data = []\n",
      "indices = []"
     ],
     "language": "python",
     "metadata": {},
     "outputs": []
    },
    {
     "cell_type": "code",
     "collapsed": false,
     "input": [
      "for i, assign in enumerate( assignments ):\n",
      "    for answer in assign.answers[0]:\n",
      "    \n",
      "        qid    = answer.qid\n",
      "        fields = answer.fields\n",
      "        \n",
      "        if qid == 'workerId' or qid == 'Submit':\n",
      "            continue\n",
      "\n",
      "        qparts    = qid.split('_') \n",
      "        index     = qparts[0]\n",
      "\n",
      "        style_tag = qparts[-1]\n",
      "        \n",
      "        if style_tag not in style_dict.keys():\n",
      "            print i, assign.HITId, assign.AssignmentId\n",
      "            break\n",
      "        \n",
      "        style_tag = 'tagged_' + style_dict[ style_tag ].replace( ' ', '_' )\n",
      "        \n",
      "        response = fields[0] == 'yes'\n",
      "    \n",
      "        d = {\n",
      "        'hit_id'         : assign.HITId,\n",
      "        'assignment_id' : assign.AssignmentId,\n",
      "        'worker_id'      : assign.WorkerId,\n",
      "        style_tag        : response\n",
      "        }\n",
      "    \n",
      "        data += [ d ]\n",
      "        indices += [ index ]"
     ],
     "language": "python",
     "metadata": {},
     "outputs": []
    },
    {
     "cell_type": "code",
     "collapsed": false,
     "input": [
      "print len(data)\n",
      "print len(indices)"
     ],
     "language": "python",
     "metadata": {},
     "outputs": []
    },
    {
     "cell_type": "code",
     "collapsed": false,
     "input": [
      "new_answer_df = pd.DataFrame( data, index=indices )"
     ],
     "language": "python",
     "metadata": {},
     "outputs": []
    },
    {
     "cell_type": "code",
     "collapsed": false,
     "input": [
      "print len( new_answer_df )"
     ],
     "language": "python",
     "metadata": {},
     "outputs": []
    },
    {
     "cell_type": "code",
     "collapsed": false,
     "input": [
      "new_answer_df.ix[1]"
     ],
     "language": "python",
     "metadata": {},
     "outputs": []
    },
    {
     "cell_type": "code",
     "collapsed": false,
     "input": [
      "print len( answer_df )\n",
      "print len( new_answer_df )"
     ],
     "language": "python",
     "metadata": {},
     "outputs": []
    },
    {
     "cell_type": "code",
     "collapsed": false,
     "input": [
      "answer_df = pd.concat( [ answer_df, new_answer_df ] )"
     ],
     "language": "python",
     "metadata": {},
     "outputs": []
    },
    {
     "cell_type": "code",
     "collapsed": false,
     "input": [
      "print len( answer_df )"
     ],
     "language": "python",
     "metadata": {},
     "outputs": []
    },
    {
     "cell_type": "code",
     "collapsed": false,
     "input": [
      "answer_df.ix[-1]"
     ],
     "language": "python",
     "metadata": {},
     "outputs": []
    },
    {
     "cell_type": "code",
     "collapsed": false,
     "input": [
      "'{}'.format( datetime.datetime.now().isoformat()[:-7] )"
     ],
     "language": "python",
     "metadata": {},
     "outputs": []
    },
    {
     "cell_type": "code",
     "collapsed": false,
     "input": [
      "import shutil\n",
      "import datetime\n",
      "oldfn = '../../mturk-results/mturk-answers.h5'\n",
      "newfn = '../../mturk-results/mturk-answers-{}.h5'.format( datetime.datetime.now().isoformat()[:-7] )\n",
      "shutil.copyfile( oldfn, newfn )"
     ],
     "language": "python",
     "metadata": {},
     "outputs": []
    },
    {
     "cell_type": "code",
     "collapsed": false,
     "input": [
      "answer_df.to_hdf( '../../mturk-results/mturk-answers.h5', 'df', mode='w')"
     ],
     "language": "python",
     "metadata": {},
     "outputs": []
    },
    {
     "cell_type": "code",
     "collapsed": false,
     "input": [
      "len( answer_df )"
     ],
     "language": "python",
     "metadata": {},
     "outputs": []
    },
    {
     "cell_type": "markdown",
     "metadata": {},
     "source": [
      "# Spam rejection"
     ]
    },
    {
     "cell_type": "code",
     "collapsed": false,
     "input": [
      "def test_spam( group ):\n",
      "    # if earlier HIT without spam rejection, accept\n",
      "    if len( group ) == 10:\n",
      "        return group\n",
      "#         return group.drop( group.index )\n",
      "    \n",
      "    # get the tagged_ column for the group, convert to style\n",
      "    tn = assignment_df_tag( group )[0]\n",
      "    sn = 'style_' + tn[7:]\n",
      "    \n",
      "    # get the spam rejection images\n",
      "    idx1, idx2 = spam_images[sn]\n",
      "    \n",
      "    # if both test images are false, reject the group\n",
      "    # return the dataframe with all rows removed\n",
      "    # (but still having same columns)    \n",
      "    if not group.ix[ [idx1,idx2] ][tn].any():\n",
      "        return group.drop( group.index )\n",
      "    \n",
      "    # otherwise, return as-is\n",
      "    return group"
     ],
     "language": "python",
     "metadata": {},
     "outputs": []
    },
    {
     "cell_type": "code",
     "collapsed": false,
     "input": [
      "grouped = answer_df.groupby( 'assignment_id', as_index=False )"
     ],
     "language": "python",
     "metadata": {},
     "outputs": []
    },
    {
     "cell_type": "code",
     "collapsed": false,
     "input": [
      "clean_df = grouped.apply( test_spam )"
     ],
     "language": "python",
     "metadata": {},
     "outputs": []
    },
    {
     "cell_type": "code",
     "collapsed": false,
     "input": [
      "clean_df.head(10)"
     ],
     "language": "python",
     "metadata": {},
     "outputs": []
    },
    {
     "cell_type": "code",
     "collapsed": false,
     "input": [
      "print len( answer_df )\n",
      "print len( clean_df )\n",
      "print ( len(answer_df) - len(clean_df) ) / 10"
     ],
     "language": "python",
     "metadata": {},
     "outputs": []
    },
    {
     "cell_type": "code",
     "collapsed": false,
     "input": [
      "clean_df.to_hdf( '../../mturk-results/mturk-cleaned-answers.h5', 'df', mode='w')"
     ],
     "language": "python",
     "metadata": {},
     "outputs": []
    },
    {
     "cell_type": "markdown",
     "metadata": {},
     "source": [
      "# Summarize turker results"
     ]
    },
    {
     "cell_type": "code",
     "collapsed": false,
     "input": [
      "clean_df = clean_df.sort_index()"
     ],
     "language": "python",
     "metadata": {},
     "outputs": []
    },
    {
     "cell_type": "code",
     "collapsed": false,
     "input": [
      "grouped = clean_df.groupby( level=0, as_index=False )"
     ],
     "language": "python",
     "metadata": {},
     "outputs": []
    },
    {
     "cell_type": "code",
     "collapsed": false,
     "input": [
      "print len( clean_df )\n",
      "print len( grouped )"
     ],
     "language": "python",
     "metadata": {},
     "outputs": []
    },
    {
     "cell_type": "code",
     "collapsed": false,
     "input": [
      "for key, val in grouped.groups.items():\n",
      "    goon = False\n",
      "    for s in spam_images.values():\n",
      "        if key in s:\n",
      "            goon = True\n",
      "            break\n",
      "    if goon:\n",
      "        continue\n",
      "    \n",
      "    if len( val ) % 3 != 0:\n",
      "        print len( val ), val"
     ],
     "language": "python",
     "metadata": {},
     "outputs": []
    },
    {
     "cell_type": "code",
     "collapsed": false,
     "input": [
      "grouped.groups.values()[0]"
     ],
     "language": "python",
     "metadata": {},
     "outputs": []
    },
    {
     "cell_type": "code",
     "collapsed": false,
     "input": [
      "test_df = clean_df.ix[ grouped.groups.values()[7] ]"
     ],
     "language": "python",
     "metadata": {},
     "outputs": []
    },
    {
     "cell_type": "code",
     "collapsed": false,
     "input": [
      "assignment_df_tag( test_df )"
     ],
     "language": "python",
     "metadata": {},
     "outputs": []
    },
    {
     "cell_type": "code",
     "collapsed": false,
     "input": [
      "def turker_majority_vote( group ):\n",
      "    \n",
      "    # if we don't have at least 3 answers\n",
      "    if len( group ) < 3:\n",
      "        return group.drop( group.index )\n",
      "    \n",
      "    # get the tagged_ column for the group\n",
      "    tags = assignment_df_tag( group )\n",
      "#     if len( tags ) > 1: print tags\n",
      "\n",
      "    new_group = group.head( 1 )\n",
      "\n",
      "    for tn in tags:\n",
      "        cn = 'conf_' + tn[7:]\n",
      "        tag_group = group.dropna( subset=[tn] )\n",
      "\n",
      "        df_len   = len( tag_group )\n",
      "        true_len = len( tag_group[ tag_group[tn] == True ] )\n",
      "        \n",
      "        new_group[tn] = true_len >= df_len / 2.\n",
      "        new_group[cn] = true_len / float( df_len )\n",
      "    \n",
      "    return new_group"
     ],
     "language": "python",
     "metadata": {},
     "outputs": []
    },
    {
     "cell_type": "code",
     "collapsed": false,
     "input": [
      "majority_df = grouped.apply( turker_majority_vote )"
     ],
     "language": "python",
     "metadata": {},
     "outputs": []
    },
    {
     "cell_type": "code",
     "collapsed": false,
     "input": [
      "print len( majority_df.index.unique() )\n",
      "print len( clean_df.index )\n",
      "print len( clean_df.index.unique() )"
     ],
     "language": "python",
     "metadata": {},
     "outputs": []
    },
    {
     "cell_type": "code",
     "collapsed": false,
     "input": [
      "majority_df.ix[3]"
     ],
     "language": "python",
     "metadata": {},
     "outputs": []
    },
    {
     "cell_type": "code",
     "collapsed": false,
     "input": [
      "majority_df.head( 10 )"
     ],
     "language": "python",
     "metadata": {},
     "outputs": []
    },
    {
     "cell_type": "code",
     "collapsed": false,
     "input": [
      "majority_df.to_hdf( '../../mturk-results/mturk-majority-answers.h5', 'df', mode='w')"
     ],
     "language": "python",
     "metadata": {},
     "outputs": []
    },
    {
     "cell_type": "markdown",
     "metadata": {},
     "source": [
      "# Join with flickr dataframe"
     ]
    },
    {
     "cell_type": "code",
     "collapsed": false,
     "input": [
      "len( flickr_df.ix[ pd.Series( majority_df.index ).drop_duplicates() ] )"
     ],
     "language": "python",
     "metadata": {},
     "outputs": []
    },
    {
     "cell_type": "code",
     "collapsed": false,
     "input": [
      "# merge the answer dataframe with the corresponding rows of the flickr dataframe\n",
      "# join on the shared indices\n",
      "result_df = pd.merge( majority_df, \n",
      "                      flickr_df.ix[ pd.Series( majority_df.index ).drop_duplicates() ], \n",
      "                      left_index=True, right_index=True )"
     ],
     "language": "python",
     "metadata": {},
     "outputs": []
    },
    {
     "cell_type": "code",
     "collapsed": false,
     "input": [
      "len( result_df )"
     ],
     "language": "python",
     "metadata": {},
     "outputs": []
    },
    {
     "cell_type": "code",
     "collapsed": false,
     "input": [
      "result_df.head()"
     ],
     "language": "python",
     "metadata": {},
     "outputs": []
    },
    {
     "cell_type": "markdown",
     "metadata": {},
     "source": [
      "# Remove training images"
     ]
    },
    {
     "cell_type": "code",
     "collapsed": false,
     "input": [
      "result_df_test = result_df[ result_df['_split'] == 'test' ]"
     ],
     "language": "python",
     "metadata": {},
     "outputs": []
    },
    {
     "cell_type": "code",
     "collapsed": false,
     "input": [
      "print len( result_df )\n",
      "print len( result_df_test )"
     ],
     "language": "python",
     "metadata": {},
     "outputs": []
    },
    {
     "cell_type": "code",
     "collapsed": false,
     "input": [
      "result_df_test.to_hdf( '../../mturk-results/mturk-results.h5', 'df', mode='w')"
     ],
     "language": "python",
     "metadata": {},
     "outputs": []
    },
    {
     "cell_type": "markdown",
     "metadata": {},
     "source": [
      "# Extra"
     ]
    },
    {
     "cell_type": "code",
     "collapsed": false,
     "input": [
      "hit = HITs[4405]"
     ],
     "language": "python",
     "metadata": {},
     "outputs": [],
     "prompt_number": 239
    },
    {
     "cell_type": "code",
     "collapsed": false,
     "input": [
      "hit_df = result_df_test[ result_df_test['hit_id'] == hit.HITId ]\n",
      "hit_df"
     ],
     "language": "python",
     "metadata": {},
     "outputs": [
      {
       "html": [
        "<div style=\"max-height:1000px;max-width:1500px;overflow:auto;\">\n",
        "<table border=\"1\" class=\"dataframe\">\n",
        "  <thead>\n",
        "    <tr style=\"text-align: right;\">\n",
        "      <th></th>\n",
        "      <th>assignment_id</th>\n",
        "      <th>conf_Bright</th>\n",
        "      <th>conf_Depth_of_Field</th>\n",
        "      <th>conf_Detailed</th>\n",
        "      <th>conf_Ethereal</th>\n",
        "      <th>conf_Geometric_Composition</th>\n",
        "      <th>conf_HDR</th>\n",
        "      <th>conf_Hazy</th>\n",
        "      <th>conf_Horror</th>\n",
        "      <th>conf_Long_Exposure</th>\n",
        "      <th>conf_Macro</th>\n",
        "      <th>conf_Melancholy</th>\n",
        "      <th>conf_Minimal</th>\n",
        "      <th>conf_Noir</th>\n",
        "      <th>conf_Pastel</th>\n",
        "      <th>conf_Romantic</th>\n",
        "      <th>conf_Serene</th>\n",
        "      <th>conf_Sunny</th>\n",
        "      <th>conf_Vintage</th>\n",
        "      <th>hit_id</th>\n",
        "      <th></th>\n",
        "    </tr>\n",
        "  </thead>\n",
        "  <tbody>\n",
        "    <tr>\n",
        "      <th>11467028096</th>\n",
        "      <td> 3URFVVM165HRV8YVQXE3KZ1RYGQZUD</td>\n",
        "      <td>NaN</td>\n",
        "      <td>NaN</td>\n",
        "      <td>NaN</td>\n",
        "      <td>NaN</td>\n",
        "      <td>NaN</td>\n",
        "      <td>NaN</td>\n",
        "      <td>  0</td>\n",
        "      <td>NaN</td>\n",
        "      <td>NaN</td>\n",
        "      <td>NaN</td>\n",
        "      <td>NaN</td>\n",
        "      <td> 1.000000</td>\n",
        "      <td>NaN</td>\n",
        "      <td>NaN</td>\n",
        "      <td>NaN</td>\n",
        "      <td>NaN</td>\n",
        "      <td>NaN</td>\n",
        "      <td>NaN</td>\n",
        "      <td> 3FI30CQHVJI8PF7KYZVVTRKP0ZQ6BK</td>\n",
        "      <td>...</td>\n",
        "    </tr>\n",
        "    <tr>\n",
        "      <th>11471653905</th>\n",
        "      <td> 3LRLIPTPEQ8CR4LBKRU2XJ1KN4MAKR</td>\n",
        "      <td>NaN</td>\n",
        "      <td>NaN</td>\n",
        "      <td>NaN</td>\n",
        "      <td>NaN</td>\n",
        "      <td>NaN</td>\n",
        "      <td>NaN</td>\n",
        "      <td>  0</td>\n",
        "      <td>NaN</td>\n",
        "      <td>NaN</td>\n",
        "      <td>NaN</td>\n",
        "      <td>NaN</td>\n",
        "      <td> 0.666667</td>\n",
        "      <td>NaN</td>\n",
        "      <td>NaN</td>\n",
        "      <td>NaN</td>\n",
        "      <td>NaN</td>\n",
        "      <td>NaN</td>\n",
        "      <td>NaN</td>\n",
        "      <td> 3FI30CQHVJI8PF7KYZVVTRKP0ZQ6BK</td>\n",
        "      <td>...</td>\n",
        "    </tr>\n",
        "    <tr>\n",
        "      <th>11473352393</th>\n",
        "      <td> 3URFVVM165HRV8YVQXE3KZ1RYGQZUD</td>\n",
        "      <td>NaN</td>\n",
        "      <td>NaN</td>\n",
        "      <td>NaN</td>\n",
        "      <td>NaN</td>\n",
        "      <td>NaN</td>\n",
        "      <td>NaN</td>\n",
        "      <td>NaN</td>\n",
        "      <td>NaN</td>\n",
        "      <td>NaN</td>\n",
        "      <td>NaN</td>\n",
        "      <td>NaN</td>\n",
        "      <td> 0.333333</td>\n",
        "      <td>NaN</td>\n",
        "      <td>NaN</td>\n",
        "      <td>NaN</td>\n",
        "      <td>NaN</td>\n",
        "      <td>NaN</td>\n",
        "      <td>NaN</td>\n",
        "      <td> 3FI30CQHVJI8PF7KYZVVTRKP0ZQ6BK</td>\n",
        "      <td>...</td>\n",
        "    </tr>\n",
        "    <tr>\n",
        "      <th>12713606114</th>\n",
        "      <td> 317HQ483I7RS5SPCTSEV6967U7WIN8</td>\n",
        "      <td>NaN</td>\n",
        "      <td>NaN</td>\n",
        "      <td>NaN</td>\n",
        "      <td>NaN</td>\n",
        "      <td>NaN</td>\n",
        "      <td>NaN</td>\n",
        "      <td>NaN</td>\n",
        "      <td>NaN</td>\n",
        "      <td>NaN</td>\n",
        "      <td>NaN</td>\n",
        "      <td>NaN</td>\n",
        "      <td> 0.000000</td>\n",
        "      <td>NaN</td>\n",
        "      <td>NaN</td>\n",
        "      <td>NaN</td>\n",
        "      <td>NaN</td>\n",
        "      <td>NaN</td>\n",
        "      <td>NaN</td>\n",
        "      <td> 3FI30CQHVJI8PF7KYZVVTRKP0ZQ6BK</td>\n",
        "      <td>...</td>\n",
        "    </tr>\n",
        "    <tr>\n",
        "      <th>12784664313</th>\n",
        "      <td> 3LRLIPTPEQ8CR4LBKRU2XJ1KN4MAKR</td>\n",
        "      <td>NaN</td>\n",
        "      <td>NaN</td>\n",
        "      <td>NaN</td>\n",
        "      <td>NaN</td>\n",
        "      <td>NaN</td>\n",
        "      <td>NaN</td>\n",
        "      <td>NaN</td>\n",
        "      <td>NaN</td>\n",
        "      <td>NaN</td>\n",
        "      <td>NaN</td>\n",
        "      <td>NaN</td>\n",
        "      <td> 0.000000</td>\n",
        "      <td>NaN</td>\n",
        "      <td>NaN</td>\n",
        "      <td>NaN</td>\n",
        "      <td>NaN</td>\n",
        "      <td>NaN</td>\n",
        "      <td>NaN</td>\n",
        "      <td> 3FI30CQHVJI8PF7KYZVVTRKP0ZQ6BK</td>\n",
        "      <td>...</td>\n",
        "    </tr>\n",
        "    <tr>\n",
        "      <th>13006719264</th>\n",
        "      <td> 3LRLIPTPEQ8CR4LBKRU2XJ1KN4MAKR</td>\n",
        "      <td>NaN</td>\n",
        "      <td>NaN</td>\n",
        "      <td>NaN</td>\n",
        "      <td>NaN</td>\n",
        "      <td>NaN</td>\n",
        "      <td>NaN</td>\n",
        "      <td>NaN</td>\n",
        "      <td>NaN</td>\n",
        "      <td>NaN</td>\n",
        "      <td>NaN</td>\n",
        "      <td>NaN</td>\n",
        "      <td> 0.000000</td>\n",
        "      <td>NaN</td>\n",
        "      <td>NaN</td>\n",
        "      <td>NaN</td>\n",
        "      <td>NaN</td>\n",
        "      <td>NaN</td>\n",
        "      <td>NaN</td>\n",
        "      <td> 3FI30CQHVJI8PF7KYZVVTRKP0ZQ6BK</td>\n",
        "      <td>...</td>\n",
        "    </tr>\n",
        "    <tr>\n",
        "      <th>3620318747</th>\n",
        "      <td> 3LRLIPTPEQ8CR4LBKRU2XJ1KN4MAKR</td>\n",
        "      <td>NaN</td>\n",
        "      <td>NaN</td>\n",
        "      <td>NaN</td>\n",
        "      <td>NaN</td>\n",
        "      <td>NaN</td>\n",
        "      <td>NaN</td>\n",
        "      <td>NaN</td>\n",
        "      <td>NaN</td>\n",
        "      <td>NaN</td>\n",
        "      <td>NaN</td>\n",
        "      <td>NaN</td>\n",
        "      <td> 0.000000</td>\n",
        "      <td>  0</td>\n",
        "      <td>NaN</td>\n",
        "      <td>NaN</td>\n",
        "      <td>NaN</td>\n",
        "      <td>NaN</td>\n",
        "      <td>NaN</td>\n",
        "      <td> 3FI30CQHVJI8PF7KYZVVTRKP0ZQ6BK</td>\n",
        "      <td>...</td>\n",
        "    </tr>\n",
        "  </tbody>\n",
        "</table>\n",
        "<p>7 rows \u00d7 63 columns</p>\n",
        "</div>"
       ],
       "metadata": {},
       "output_type": "pyout",
       "prompt_number": 240,
       "text": [
        "                              assignment_id  conf_Bright  conf_Depth_of_Field  \\\n",
        "11467028096  3URFVVM165HRV8YVQXE3KZ1RYGQZUD          NaN                  NaN   \n",
        "11471653905  3LRLIPTPEQ8CR4LBKRU2XJ1KN4MAKR          NaN                  NaN   \n",
        "11473352393  3URFVVM165HRV8YVQXE3KZ1RYGQZUD          NaN                  NaN   \n",
        "12713606114  317HQ483I7RS5SPCTSEV6967U7WIN8          NaN                  NaN   \n",
        "12784664313  3LRLIPTPEQ8CR4LBKRU2XJ1KN4MAKR          NaN                  NaN   \n",
        "13006719264  3LRLIPTPEQ8CR4LBKRU2XJ1KN4MAKR          NaN                  NaN   \n",
        "3620318747   3LRLIPTPEQ8CR4LBKRU2XJ1KN4MAKR          NaN                  NaN   \n",
        "\n",
        "             conf_Detailed  conf_Ethereal  conf_Geometric_Composition  \\\n",
        "11467028096            NaN            NaN                         NaN   \n",
        "11471653905            NaN            NaN                         NaN   \n",
        "11473352393            NaN            NaN                         NaN   \n",
        "12713606114            NaN            NaN                         NaN   \n",
        "12784664313            NaN            NaN                         NaN   \n",
        "13006719264            NaN            NaN                         NaN   \n",
        "3620318747             NaN            NaN                         NaN   \n",
        "\n",
        "             conf_HDR  conf_Hazy  conf_Horror  conf_Long_Exposure  conf_Macro  \\\n",
        "11467028096       NaN          0          NaN                 NaN         NaN   \n",
        "11471653905       NaN          0          NaN                 NaN         NaN   \n",
        "11473352393       NaN        NaN          NaN                 NaN         NaN   \n",
        "12713606114       NaN        NaN          NaN                 NaN         NaN   \n",
        "12784664313       NaN        NaN          NaN                 NaN         NaN   \n",
        "13006719264       NaN        NaN          NaN                 NaN         NaN   \n",
        "3620318747        NaN        NaN          NaN                 NaN         NaN   \n",
        "\n",
        "             conf_Melancholy  conf_Minimal  conf_Noir  conf_Pastel  \\\n",
        "11467028096              NaN      1.000000        NaN          NaN   \n",
        "11471653905              NaN      0.666667        NaN          NaN   \n",
        "11473352393              NaN      0.333333        NaN          NaN   \n",
        "12713606114              NaN      0.000000        NaN          NaN   \n",
        "12784664313              NaN      0.000000        NaN          NaN   \n",
        "13006719264              NaN      0.000000        NaN          NaN   \n",
        "3620318747               NaN      0.000000          0          NaN   \n",
        "\n",
        "             conf_Romantic  conf_Serene  conf_Sunny  conf_Vintage  \\\n",
        "11467028096            NaN          NaN         NaN           NaN   \n",
        "11471653905            NaN          NaN         NaN           NaN   \n",
        "11473352393            NaN          NaN         NaN           NaN   \n",
        "12713606114            NaN          NaN         NaN           NaN   \n",
        "12784664313            NaN          NaN         NaN           NaN   \n",
        "13006719264            NaN          NaN         NaN           NaN   \n",
        "3620318747             NaN          NaN         NaN           NaN   \n",
        "\n",
        "                                     hit_id      \n",
        "11467028096  3FI30CQHVJI8PF7KYZVVTRKP0ZQ6BK ...  \n",
        "11471653905  3FI30CQHVJI8PF7KYZVVTRKP0ZQ6BK ...  \n",
        "11473352393  3FI30CQHVJI8PF7KYZVVTRKP0ZQ6BK ...  \n",
        "12713606114  3FI30CQHVJI8PF7KYZVVTRKP0ZQ6BK ...  \n",
        "12784664313  3FI30CQHVJI8PF7KYZVVTRKP0ZQ6BK ...  \n",
        "13006719264  3FI30CQHVJI8PF7KYZVVTRKP0ZQ6BK ...  \n",
        "3620318747   3FI30CQHVJI8PF7KYZVVTRKP0ZQ6BK ...  \n",
        "\n",
        "[7 rows x 63 columns]"
       ]
      }
     ],
     "prompt_number": 240
    },
    {
     "cell_type": "code",
     "collapsed": false,
     "input": [
      "flickr_df.ix[ hit_df.index.tolist()] ['_split']"
     ],
     "language": "python",
     "metadata": {},
     "outputs": [
      {
       "metadata": {},
       "output_type": "pyout",
       "prompt_number": 241,
       "text": [
        "11467028096    test\n",
        "11471653905    test\n",
        "11473352393    test\n",
        "12713606114    test\n",
        "12784664313    test\n",
        "13006719264    test\n",
        "3620318747     test\n",
        "Name: _split, dtype: object"
       ]
      }
     ],
     "prompt_number": 241
    },
    {
     "cell_type": "code",
     "collapsed": false,
     "input": [
      "test_df = pd.merge( clean_df, \n",
      "                      flickr_df.ix[ pd.Series( clean_df.index ).drop_duplicates() ], \n",
      "                      left_index=True, right_index=True )"
     ],
     "language": "python",
     "metadata": {},
     "outputs": [],
     "prompt_number": 242
    },
    {
     "cell_type": "code",
     "collapsed": false,
     "input": [
      "print len( test_df )\n",
      "print len( clean_df )"
     ],
     "language": "python",
     "metadata": {},
     "outputs": [
      {
       "output_type": "stream",
       "stream": "stdout",
       "text": [
        "136199\n",
        "136199\n"
       ]
      }
     ],
     "prompt_number": 243
    },
    {
     "cell_type": "code",
     "collapsed": false,
     "input": [
      "tdf2 = test_df[ test_df['hit_id'] == hit.HITId ]"
     ],
     "language": "python",
     "metadata": {},
     "outputs": [],
     "prompt_number": 244
    },
    {
     "cell_type": "code",
     "collapsed": false,
     "input": [
      "tdf2"
     ],
     "language": "python",
     "metadata": {},
     "outputs": [
      {
       "html": [
        "<div style=\"max-height:1000px;max-width:1500px;overflow:auto;\">\n",
        "<table border=\"1\" class=\"dataframe\">\n",
        "  <thead>\n",
        "    <tr style=\"text-align: right;\">\n",
        "      <th></th>\n",
        "      <th>assignment_id</th>\n",
        "      <th>hit_id</th>\n",
        "      <th>tagged_Bright</th>\n",
        "      <th>tagged_Depth_of_Field</th>\n",
        "      <th>tagged_Detailed</th>\n",
        "      <th>tagged_Ethereal</th>\n",
        "      <th>tagged_Geometric_Composition</th>\n",
        "      <th>tagged_HDR</th>\n",
        "      <th>tagged_Hazy</th>\n",
        "      <th>tagged_Horror</th>\n",
        "      <th>tagged_Long_Exposure</th>\n",
        "      <th>tagged_Macro</th>\n",
        "      <th>tagged_Melancholy</th>\n",
        "      <th>tagged_Minimal</th>\n",
        "      <th>tagged_Noir</th>\n",
        "      <th>tagged_Pastel</th>\n",
        "      <th>tagged_Romantic</th>\n",
        "      <th>tagged_Serene</th>\n",
        "      <th>tagged_Sunny</th>\n",
        "      <th>tagged_Vintage</th>\n",
        "      <th></th>\n",
        "    </tr>\n",
        "  </thead>\n",
        "  <tbody>\n",
        "    <tr>\n",
        "      <th>11456300643</th>\n",
        "      <td> 317HQ483I7RS5SPCTSEV6967U7WIN8</td>\n",
        "      <td> 3FI30CQHVJI8PF7KYZVVTRKP0ZQ6BK</td>\n",
        "      <td> NaN</td>\n",
        "      <td> NaN</td>\n",
        "      <td> NaN</td>\n",
        "      <td> NaN</td>\n",
        "      <td> NaN</td>\n",
        "      <td> NaN</td>\n",
        "      <td> NaN</td>\n",
        "      <td> NaN</td>\n",
        "      <td> NaN</td>\n",
        "      <td> NaN</td>\n",
        "      <td> NaN</td>\n",
        "      <td>  True</td>\n",
        "      <td> NaN</td>\n",
        "      <td> NaN</td>\n",
        "      <td> NaN</td>\n",
        "      <td> NaN</td>\n",
        "      <td> NaN</td>\n",
        "      <td> NaN</td>\n",
        "      <td>...</td>\n",
        "    </tr>\n",
        "    <tr>\n",
        "      <th>11456300643</th>\n",
        "      <td> 3LRLIPTPEQ8CR4LBKRU2XJ1KN4MAKR</td>\n",
        "      <td> 3FI30CQHVJI8PF7KYZVVTRKP0ZQ6BK</td>\n",
        "      <td> NaN</td>\n",
        "      <td> NaN</td>\n",
        "      <td> NaN</td>\n",
        "      <td> NaN</td>\n",
        "      <td> NaN</td>\n",
        "      <td> NaN</td>\n",
        "      <td> NaN</td>\n",
        "      <td> NaN</td>\n",
        "      <td> NaN</td>\n",
        "      <td> NaN</td>\n",
        "      <td> NaN</td>\n",
        "      <td> False</td>\n",
        "      <td> NaN</td>\n",
        "      <td> NaN</td>\n",
        "      <td> NaN</td>\n",
        "      <td> NaN</td>\n",
        "      <td> NaN</td>\n",
        "      <td> NaN</td>\n",
        "      <td>...</td>\n",
        "    </tr>\n",
        "    <tr>\n",
        "      <th>11456300643</th>\n",
        "      <td> 3URFVVM165HRV8YVQXE3KZ1RYGQZUD</td>\n",
        "      <td> 3FI30CQHVJI8PF7KYZVVTRKP0ZQ6BK</td>\n",
        "      <td> NaN</td>\n",
        "      <td> NaN</td>\n",
        "      <td> NaN</td>\n",
        "      <td> NaN</td>\n",
        "      <td> NaN</td>\n",
        "      <td> NaN</td>\n",
        "      <td> NaN</td>\n",
        "      <td> NaN</td>\n",
        "      <td> NaN</td>\n",
        "      <td> NaN</td>\n",
        "      <td> NaN</td>\n",
        "      <td>  True</td>\n",
        "      <td> NaN</td>\n",
        "      <td> NaN</td>\n",
        "      <td> NaN</td>\n",
        "      <td> NaN</td>\n",
        "      <td> NaN</td>\n",
        "      <td> NaN</td>\n",
        "      <td>...</td>\n",
        "    </tr>\n",
        "    <tr>\n",
        "      <th>11457978634</th>\n",
        "      <td> 3LRLIPTPEQ8CR4LBKRU2XJ1KN4MAKR</td>\n",
        "      <td> 3FI30CQHVJI8PF7KYZVVTRKP0ZQ6BK</td>\n",
        "      <td> NaN</td>\n",
        "      <td> NaN</td>\n",
        "      <td> NaN</td>\n",
        "      <td> NaN</td>\n",
        "      <td> NaN</td>\n",
        "      <td> NaN</td>\n",
        "      <td> NaN</td>\n",
        "      <td> NaN</td>\n",
        "      <td> NaN</td>\n",
        "      <td> NaN</td>\n",
        "      <td> NaN</td>\n",
        "      <td>  True</td>\n",
        "      <td> NaN</td>\n",
        "      <td> NaN</td>\n",
        "      <td> NaN</td>\n",
        "      <td> NaN</td>\n",
        "      <td> NaN</td>\n",
        "      <td> NaN</td>\n",
        "      <td>...</td>\n",
        "    </tr>\n",
        "    <tr>\n",
        "      <th>11457978634</th>\n",
        "      <td> 317HQ483I7RS5SPCTSEV6967U7WIN8</td>\n",
        "      <td> 3FI30CQHVJI8PF7KYZVVTRKP0ZQ6BK</td>\n",
        "      <td> NaN</td>\n",
        "      <td> NaN</td>\n",
        "      <td> NaN</td>\n",
        "      <td> NaN</td>\n",
        "      <td> NaN</td>\n",
        "      <td> NaN</td>\n",
        "      <td> NaN</td>\n",
        "      <td> NaN</td>\n",
        "      <td> NaN</td>\n",
        "      <td> NaN</td>\n",
        "      <td> NaN</td>\n",
        "      <td> False</td>\n",
        "      <td> NaN</td>\n",
        "      <td> NaN</td>\n",
        "      <td> NaN</td>\n",
        "      <td> NaN</td>\n",
        "      <td> NaN</td>\n",
        "      <td> NaN</td>\n",
        "      <td>...</td>\n",
        "    </tr>\n",
        "    <tr>\n",
        "      <th>11457978634</th>\n",
        "      <td> 3URFVVM165HRV8YVQXE3KZ1RYGQZUD</td>\n",
        "      <td> 3FI30CQHVJI8PF7KYZVVTRKP0ZQ6BK</td>\n",
        "      <td> NaN</td>\n",
        "      <td> NaN</td>\n",
        "      <td> NaN</td>\n",
        "      <td> NaN</td>\n",
        "      <td> NaN</td>\n",
        "      <td> NaN</td>\n",
        "      <td> NaN</td>\n",
        "      <td> NaN</td>\n",
        "      <td> NaN</td>\n",
        "      <td> NaN</td>\n",
        "      <td> NaN</td>\n",
        "      <td> False</td>\n",
        "      <td> NaN</td>\n",
        "      <td> NaN</td>\n",
        "      <td> NaN</td>\n",
        "      <td> NaN</td>\n",
        "      <td> NaN</td>\n",
        "      <td> NaN</td>\n",
        "      <td>...</td>\n",
        "    </tr>\n",
        "    <tr>\n",
        "      <th>11467028096</th>\n",
        "      <td> 3URFVVM165HRV8YVQXE3KZ1RYGQZUD</td>\n",
        "      <td> 3FI30CQHVJI8PF7KYZVVTRKP0ZQ6BK</td>\n",
        "      <td> NaN</td>\n",
        "      <td> NaN</td>\n",
        "      <td> NaN</td>\n",
        "      <td> NaN</td>\n",
        "      <td> NaN</td>\n",
        "      <td> NaN</td>\n",
        "      <td> NaN</td>\n",
        "      <td> NaN</td>\n",
        "      <td> NaN</td>\n",
        "      <td> NaN</td>\n",
        "      <td> NaN</td>\n",
        "      <td>  True</td>\n",
        "      <td> NaN</td>\n",
        "      <td> NaN</td>\n",
        "      <td> NaN</td>\n",
        "      <td> NaN</td>\n",
        "      <td> NaN</td>\n",
        "      <td> NaN</td>\n",
        "      <td>...</td>\n",
        "    </tr>\n",
        "    <tr>\n",
        "      <th>11467028096</th>\n",
        "      <td> 317HQ483I7RS5SPCTSEV6967U7WIN8</td>\n",
        "      <td> 3FI30CQHVJI8PF7KYZVVTRKP0ZQ6BK</td>\n",
        "      <td> NaN</td>\n",
        "      <td> NaN</td>\n",
        "      <td> NaN</td>\n",
        "      <td> NaN</td>\n",
        "      <td> NaN</td>\n",
        "      <td> NaN</td>\n",
        "      <td> NaN</td>\n",
        "      <td> NaN</td>\n",
        "      <td> NaN</td>\n",
        "      <td> NaN</td>\n",
        "      <td> NaN</td>\n",
        "      <td>  True</td>\n",
        "      <td> NaN</td>\n",
        "      <td> NaN</td>\n",
        "      <td> NaN</td>\n",
        "      <td> NaN</td>\n",
        "      <td> NaN</td>\n",
        "      <td> NaN</td>\n",
        "      <td>...</td>\n",
        "    </tr>\n",
        "    <tr>\n",
        "      <th>11467028096</th>\n",
        "      <td> 3LRLIPTPEQ8CR4LBKRU2XJ1KN4MAKR</td>\n",
        "      <td> 3FI30CQHVJI8PF7KYZVVTRKP0ZQ6BK</td>\n",
        "      <td> NaN</td>\n",
        "      <td> NaN</td>\n",
        "      <td> NaN</td>\n",
        "      <td> NaN</td>\n",
        "      <td> NaN</td>\n",
        "      <td> NaN</td>\n",
        "      <td> NaN</td>\n",
        "      <td> NaN</td>\n",
        "      <td> NaN</td>\n",
        "      <td> NaN</td>\n",
        "      <td> NaN</td>\n",
        "      <td>  True</td>\n",
        "      <td> NaN</td>\n",
        "      <td> NaN</td>\n",
        "      <td> NaN</td>\n",
        "      <td> NaN</td>\n",
        "      <td> NaN</td>\n",
        "      <td> NaN</td>\n",
        "      <td>...</td>\n",
        "    </tr>\n",
        "    <tr>\n",
        "      <th>11471653905</th>\n",
        "      <td> 3LRLIPTPEQ8CR4LBKRU2XJ1KN4MAKR</td>\n",
        "      <td> 3FI30CQHVJI8PF7KYZVVTRKP0ZQ6BK</td>\n",
        "      <td> NaN</td>\n",
        "      <td> NaN</td>\n",
        "      <td> NaN</td>\n",
        "      <td> NaN</td>\n",
        "      <td> NaN</td>\n",
        "      <td> NaN</td>\n",
        "      <td> NaN</td>\n",
        "      <td> NaN</td>\n",
        "      <td> NaN</td>\n",
        "      <td> NaN</td>\n",
        "      <td> NaN</td>\n",
        "      <td>  True</td>\n",
        "      <td> NaN</td>\n",
        "      <td> NaN</td>\n",
        "      <td> NaN</td>\n",
        "      <td> NaN</td>\n",
        "      <td> NaN</td>\n",
        "      <td> NaN</td>\n",
        "      <td>...</td>\n",
        "    </tr>\n",
        "    <tr>\n",
        "      <th>11471653905</th>\n",
        "      <td> 317HQ483I7RS5SPCTSEV6967U7WIN8</td>\n",
        "      <td> 3FI30CQHVJI8PF7KYZVVTRKP0ZQ6BK</td>\n",
        "      <td> NaN</td>\n",
        "      <td> NaN</td>\n",
        "      <td> NaN</td>\n",
        "      <td> NaN</td>\n",
        "      <td> NaN</td>\n",
        "      <td> NaN</td>\n",
        "      <td> NaN</td>\n",
        "      <td> NaN</td>\n",
        "      <td> NaN</td>\n",
        "      <td> NaN</td>\n",
        "      <td> NaN</td>\n",
        "      <td> False</td>\n",
        "      <td> NaN</td>\n",
        "      <td> NaN</td>\n",
        "      <td> NaN</td>\n",
        "      <td> NaN</td>\n",
        "      <td> NaN</td>\n",
        "      <td> NaN</td>\n",
        "      <td>...</td>\n",
        "    </tr>\n",
        "    <tr>\n",
        "      <th>11471653905</th>\n",
        "      <td> 3URFVVM165HRV8YVQXE3KZ1RYGQZUD</td>\n",
        "      <td> 3FI30CQHVJI8PF7KYZVVTRKP0ZQ6BK</td>\n",
        "      <td> NaN</td>\n",
        "      <td> NaN</td>\n",
        "      <td> NaN</td>\n",
        "      <td> NaN</td>\n",
        "      <td> NaN</td>\n",
        "      <td> NaN</td>\n",
        "      <td> NaN</td>\n",
        "      <td> NaN</td>\n",
        "      <td> NaN</td>\n",
        "      <td> NaN</td>\n",
        "      <td> NaN</td>\n",
        "      <td>  True</td>\n",
        "      <td> NaN</td>\n",
        "      <td> NaN</td>\n",
        "      <td> NaN</td>\n",
        "      <td> NaN</td>\n",
        "      <td> NaN</td>\n",
        "      <td> NaN</td>\n",
        "      <td>...</td>\n",
        "    </tr>\n",
        "    <tr>\n",
        "      <th>11473352393</th>\n",
        "      <td> 3URFVVM165HRV8YVQXE3KZ1RYGQZUD</td>\n",
        "      <td> 3FI30CQHVJI8PF7KYZVVTRKP0ZQ6BK</td>\n",
        "      <td> NaN</td>\n",
        "      <td> NaN</td>\n",
        "      <td> NaN</td>\n",
        "      <td> NaN</td>\n",
        "      <td> NaN</td>\n",
        "      <td> NaN</td>\n",
        "      <td> NaN</td>\n",
        "      <td> NaN</td>\n",
        "      <td> NaN</td>\n",
        "      <td> NaN</td>\n",
        "      <td> NaN</td>\n",
        "      <td> False</td>\n",
        "      <td> NaN</td>\n",
        "      <td> NaN</td>\n",
        "      <td> NaN</td>\n",
        "      <td> NaN</td>\n",
        "      <td> NaN</td>\n",
        "      <td> NaN</td>\n",
        "      <td>...</td>\n",
        "    </tr>\n",
        "    <tr>\n",
        "      <th>11473352393</th>\n",
        "      <td> 3LRLIPTPEQ8CR4LBKRU2XJ1KN4MAKR</td>\n",
        "      <td> 3FI30CQHVJI8PF7KYZVVTRKP0ZQ6BK</td>\n",
        "      <td> NaN</td>\n",
        "      <td> NaN</td>\n",
        "      <td> NaN</td>\n",
        "      <td> NaN</td>\n",
        "      <td> NaN</td>\n",
        "      <td> NaN</td>\n",
        "      <td> NaN</td>\n",
        "      <td> NaN</td>\n",
        "      <td> NaN</td>\n",
        "      <td> NaN</td>\n",
        "      <td> NaN</td>\n",
        "      <td>  True</td>\n",
        "      <td> NaN</td>\n",
        "      <td> NaN</td>\n",
        "      <td> NaN</td>\n",
        "      <td> NaN</td>\n",
        "      <td> NaN</td>\n",
        "      <td> NaN</td>\n",
        "      <td>...</td>\n",
        "    </tr>\n",
        "    <tr>\n",
        "      <th>11473352393</th>\n",
        "      <td> 317HQ483I7RS5SPCTSEV6967U7WIN8</td>\n",
        "      <td> 3FI30CQHVJI8PF7KYZVVTRKP0ZQ6BK</td>\n",
        "      <td> NaN</td>\n",
        "      <td> NaN</td>\n",
        "      <td> NaN</td>\n",
        "      <td> NaN</td>\n",
        "      <td> NaN</td>\n",
        "      <td> NaN</td>\n",
        "      <td> NaN</td>\n",
        "      <td> NaN</td>\n",
        "      <td> NaN</td>\n",
        "      <td> NaN</td>\n",
        "      <td> NaN</td>\n",
        "      <td> False</td>\n",
        "      <td> NaN</td>\n",
        "      <td> NaN</td>\n",
        "      <td> NaN</td>\n",
        "      <td> NaN</td>\n",
        "      <td> NaN</td>\n",
        "      <td> NaN</td>\n",
        "      <td>...</td>\n",
        "    </tr>\n",
        "    <tr>\n",
        "      <th>12713606114</th>\n",
        "      <td> 317HQ483I7RS5SPCTSEV6967U7WIN8</td>\n",
        "      <td> 3FI30CQHVJI8PF7KYZVVTRKP0ZQ6BK</td>\n",
        "      <td> NaN</td>\n",
        "      <td> NaN</td>\n",
        "      <td> NaN</td>\n",
        "      <td> NaN</td>\n",
        "      <td> NaN</td>\n",
        "      <td> NaN</td>\n",
        "      <td> NaN</td>\n",
        "      <td> NaN</td>\n",
        "      <td> NaN</td>\n",
        "      <td> NaN</td>\n",
        "      <td> NaN</td>\n",
        "      <td> False</td>\n",
        "      <td> NaN</td>\n",
        "      <td> NaN</td>\n",
        "      <td> NaN</td>\n",
        "      <td> NaN</td>\n",
        "      <td> NaN</td>\n",
        "      <td> NaN</td>\n",
        "      <td>...</td>\n",
        "    </tr>\n",
        "    <tr>\n",
        "      <th>12713606114</th>\n",
        "      <td> 3URFVVM165HRV8YVQXE3KZ1RYGQZUD</td>\n",
        "      <td> 3FI30CQHVJI8PF7KYZVVTRKP0ZQ6BK</td>\n",
        "      <td> NaN</td>\n",
        "      <td> NaN</td>\n",
        "      <td> NaN</td>\n",
        "      <td> NaN</td>\n",
        "      <td> NaN</td>\n",
        "      <td> NaN</td>\n",
        "      <td> NaN</td>\n",
        "      <td> NaN</td>\n",
        "      <td> NaN</td>\n",
        "      <td> NaN</td>\n",
        "      <td> NaN</td>\n",
        "      <td> False</td>\n",
        "      <td> NaN</td>\n",
        "      <td> NaN</td>\n",
        "      <td> NaN</td>\n",
        "      <td> NaN</td>\n",
        "      <td> NaN</td>\n",
        "      <td> NaN</td>\n",
        "      <td>...</td>\n",
        "    </tr>\n",
        "    <tr>\n",
        "      <th>12713606114</th>\n",
        "      <td> 3LRLIPTPEQ8CR4LBKRU2XJ1KN4MAKR</td>\n",
        "      <td> 3FI30CQHVJI8PF7KYZVVTRKP0ZQ6BK</td>\n",
        "      <td> NaN</td>\n",
        "      <td> NaN</td>\n",
        "      <td> NaN</td>\n",
        "      <td> NaN</td>\n",
        "      <td> NaN</td>\n",
        "      <td> NaN</td>\n",
        "      <td> NaN</td>\n",
        "      <td> NaN</td>\n",
        "      <td> NaN</td>\n",
        "      <td> NaN</td>\n",
        "      <td> NaN</td>\n",
        "      <td> False</td>\n",
        "      <td> NaN</td>\n",
        "      <td> NaN</td>\n",
        "      <td> NaN</td>\n",
        "      <td> NaN</td>\n",
        "      <td> NaN</td>\n",
        "      <td> NaN</td>\n",
        "      <td>...</td>\n",
        "    </tr>\n",
        "    <tr>\n",
        "      <th>12784664313</th>\n",
        "      <td> 3LRLIPTPEQ8CR4LBKRU2XJ1KN4MAKR</td>\n",
        "      <td> 3FI30CQHVJI8PF7KYZVVTRKP0ZQ6BK</td>\n",
        "      <td> NaN</td>\n",
        "      <td> NaN</td>\n",
        "      <td> NaN</td>\n",
        "      <td> NaN</td>\n",
        "      <td> NaN</td>\n",
        "      <td> NaN</td>\n",
        "      <td> NaN</td>\n",
        "      <td> NaN</td>\n",
        "      <td> NaN</td>\n",
        "      <td> NaN</td>\n",
        "      <td> NaN</td>\n",
        "      <td> False</td>\n",
        "      <td> NaN</td>\n",
        "      <td> NaN</td>\n",
        "      <td> NaN</td>\n",
        "      <td> NaN</td>\n",
        "      <td> NaN</td>\n",
        "      <td> NaN</td>\n",
        "      <td>...</td>\n",
        "    </tr>\n",
        "    <tr>\n",
        "      <th>12784664313</th>\n",
        "      <td> 3URFVVM165HRV8YVQXE3KZ1RYGQZUD</td>\n",
        "      <td> 3FI30CQHVJI8PF7KYZVVTRKP0ZQ6BK</td>\n",
        "      <td> NaN</td>\n",
        "      <td> NaN</td>\n",
        "      <td> NaN</td>\n",
        "      <td> NaN</td>\n",
        "      <td> NaN</td>\n",
        "      <td> NaN</td>\n",
        "      <td> NaN</td>\n",
        "      <td> NaN</td>\n",
        "      <td> NaN</td>\n",
        "      <td> NaN</td>\n",
        "      <td> NaN</td>\n",
        "      <td> False</td>\n",
        "      <td> NaN</td>\n",
        "      <td> NaN</td>\n",
        "      <td> NaN</td>\n",
        "      <td> NaN</td>\n",
        "      <td> NaN</td>\n",
        "      <td> NaN</td>\n",
        "      <td>...</td>\n",
        "    </tr>\n",
        "    <tr>\n",
        "      <th>12784664313</th>\n",
        "      <td> 317HQ483I7RS5SPCTSEV6967U7WIN8</td>\n",
        "      <td> 3FI30CQHVJI8PF7KYZVVTRKP0ZQ6BK</td>\n",
        "      <td> NaN</td>\n",
        "      <td> NaN</td>\n",
        "      <td> NaN</td>\n",
        "      <td> NaN</td>\n",
        "      <td> NaN</td>\n",
        "      <td> NaN</td>\n",
        "      <td> NaN</td>\n",
        "      <td> NaN</td>\n",
        "      <td> NaN</td>\n",
        "      <td> NaN</td>\n",
        "      <td> NaN</td>\n",
        "      <td> False</td>\n",
        "      <td> NaN</td>\n",
        "      <td> NaN</td>\n",
        "      <td> NaN</td>\n",
        "      <td> NaN</td>\n",
        "      <td> NaN</td>\n",
        "      <td> NaN</td>\n",
        "      <td>...</td>\n",
        "    </tr>\n",
        "    <tr>\n",
        "      <th>13006719264</th>\n",
        "      <td> 3LRLIPTPEQ8CR4LBKRU2XJ1KN4MAKR</td>\n",
        "      <td> 3FI30CQHVJI8PF7KYZVVTRKP0ZQ6BK</td>\n",
        "      <td> NaN</td>\n",
        "      <td> NaN</td>\n",
        "      <td> NaN</td>\n",
        "      <td> NaN</td>\n",
        "      <td> NaN</td>\n",
        "      <td> NaN</td>\n",
        "      <td> NaN</td>\n",
        "      <td> NaN</td>\n",
        "      <td> NaN</td>\n",
        "      <td> NaN</td>\n",
        "      <td> NaN</td>\n",
        "      <td> False</td>\n",
        "      <td> NaN</td>\n",
        "      <td> NaN</td>\n",
        "      <td> NaN</td>\n",
        "      <td> NaN</td>\n",
        "      <td> NaN</td>\n",
        "      <td> NaN</td>\n",
        "      <td>...</td>\n",
        "    </tr>\n",
        "    <tr>\n",
        "      <th>13006719264</th>\n",
        "      <td> 317HQ483I7RS5SPCTSEV6967U7WIN8</td>\n",
        "      <td> 3FI30CQHVJI8PF7KYZVVTRKP0ZQ6BK</td>\n",
        "      <td> NaN</td>\n",
        "      <td> NaN</td>\n",
        "      <td> NaN</td>\n",
        "      <td> NaN</td>\n",
        "      <td> NaN</td>\n",
        "      <td> NaN</td>\n",
        "      <td> NaN</td>\n",
        "      <td> NaN</td>\n",
        "      <td> NaN</td>\n",
        "      <td> NaN</td>\n",
        "      <td> NaN</td>\n",
        "      <td> False</td>\n",
        "      <td> NaN</td>\n",
        "      <td> NaN</td>\n",
        "      <td> NaN</td>\n",
        "      <td> NaN</td>\n",
        "      <td> NaN</td>\n",
        "      <td> NaN</td>\n",
        "      <td>...</td>\n",
        "    </tr>\n",
        "    <tr>\n",
        "      <th>13006719264</th>\n",
        "      <td> 3URFVVM165HRV8YVQXE3KZ1RYGQZUD</td>\n",
        "      <td> 3FI30CQHVJI8PF7KYZVVTRKP0ZQ6BK</td>\n",
        "      <td> NaN</td>\n",
        "      <td> NaN</td>\n",
        "      <td> NaN</td>\n",
        "      <td> NaN</td>\n",
        "      <td> NaN</td>\n",
        "      <td> NaN</td>\n",
        "      <td> NaN</td>\n",
        "      <td> NaN</td>\n",
        "      <td> NaN</td>\n",
        "      <td> NaN</td>\n",
        "      <td> NaN</td>\n",
        "      <td> False</td>\n",
        "      <td> NaN</td>\n",
        "      <td> NaN</td>\n",
        "      <td> NaN</td>\n",
        "      <td> NaN</td>\n",
        "      <td> NaN</td>\n",
        "      <td> NaN</td>\n",
        "      <td>...</td>\n",
        "    </tr>\n",
        "    <tr>\n",
        "      <th>13271140013</th>\n",
        "      <td> 317HQ483I7RS5SPCTSEV6967U7WIN8</td>\n",
        "      <td> 3FI30CQHVJI8PF7KYZVVTRKP0ZQ6BK</td>\n",
        "      <td> NaN</td>\n",
        "      <td> NaN</td>\n",
        "      <td> NaN</td>\n",
        "      <td> NaN</td>\n",
        "      <td> NaN</td>\n",
        "      <td> NaN</td>\n",
        "      <td> NaN</td>\n",
        "      <td> NaN</td>\n",
        "      <td> NaN</td>\n",
        "      <td> NaN</td>\n",
        "      <td> NaN</td>\n",
        "      <td> False</td>\n",
        "      <td> NaN</td>\n",
        "      <td> NaN</td>\n",
        "      <td> NaN</td>\n",
        "      <td> NaN</td>\n",
        "      <td> NaN</td>\n",
        "      <td> NaN</td>\n",
        "      <td>...</td>\n",
        "    </tr>\n",
        "    <tr>\n",
        "      <th>13271140013</th>\n",
        "      <td> 3LRLIPTPEQ8CR4LBKRU2XJ1KN4MAKR</td>\n",
        "      <td> 3FI30CQHVJI8PF7KYZVVTRKP0ZQ6BK</td>\n",
        "      <td> NaN</td>\n",
        "      <td> NaN</td>\n",
        "      <td> NaN</td>\n",
        "      <td> NaN</td>\n",
        "      <td> NaN</td>\n",
        "      <td> NaN</td>\n",
        "      <td> NaN</td>\n",
        "      <td> NaN</td>\n",
        "      <td> NaN</td>\n",
        "      <td> NaN</td>\n",
        "      <td> NaN</td>\n",
        "      <td> False</td>\n",
        "      <td> NaN</td>\n",
        "      <td> NaN</td>\n",
        "      <td> NaN</td>\n",
        "      <td> NaN</td>\n",
        "      <td> NaN</td>\n",
        "      <td> NaN</td>\n",
        "      <td>...</td>\n",
        "    </tr>\n",
        "    <tr>\n",
        "      <th>13271140013</th>\n",
        "      <td> 3URFVVM165HRV8YVQXE3KZ1RYGQZUD</td>\n",
        "      <td> 3FI30CQHVJI8PF7KYZVVTRKP0ZQ6BK</td>\n",
        "      <td> NaN</td>\n",
        "      <td> NaN</td>\n",
        "      <td> NaN</td>\n",
        "      <td> NaN</td>\n",
        "      <td> NaN</td>\n",
        "      <td> NaN</td>\n",
        "      <td> NaN</td>\n",
        "      <td> NaN</td>\n",
        "      <td> NaN</td>\n",
        "      <td> NaN</td>\n",
        "      <td> NaN</td>\n",
        "      <td> False</td>\n",
        "      <td> NaN</td>\n",
        "      <td> NaN</td>\n",
        "      <td> NaN</td>\n",
        "      <td> NaN</td>\n",
        "      <td> NaN</td>\n",
        "      <td> NaN</td>\n",
        "      <td>...</td>\n",
        "    </tr>\n",
        "    <tr>\n",
        "      <th>3620318747</th>\n",
        "      <td> 3LRLIPTPEQ8CR4LBKRU2XJ1KN4MAKR</td>\n",
        "      <td> 3FI30CQHVJI8PF7KYZVVTRKP0ZQ6BK</td>\n",
        "      <td> NaN</td>\n",
        "      <td> NaN</td>\n",
        "      <td> NaN</td>\n",
        "      <td> NaN</td>\n",
        "      <td> NaN</td>\n",
        "      <td> NaN</td>\n",
        "      <td> NaN</td>\n",
        "      <td> NaN</td>\n",
        "      <td> NaN</td>\n",
        "      <td> NaN</td>\n",
        "      <td> NaN</td>\n",
        "      <td> False</td>\n",
        "      <td> NaN</td>\n",
        "      <td> NaN</td>\n",
        "      <td> NaN</td>\n",
        "      <td> NaN</td>\n",
        "      <td> NaN</td>\n",
        "      <td> NaN</td>\n",
        "      <td>...</td>\n",
        "    </tr>\n",
        "    <tr>\n",
        "      <th>3620318747</th>\n",
        "      <td> 3URFVVM165HRV8YVQXE3KZ1RYGQZUD</td>\n",
        "      <td> 3FI30CQHVJI8PF7KYZVVTRKP0ZQ6BK</td>\n",
        "      <td> NaN</td>\n",
        "      <td> NaN</td>\n",
        "      <td> NaN</td>\n",
        "      <td> NaN</td>\n",
        "      <td> NaN</td>\n",
        "      <td> NaN</td>\n",
        "      <td> NaN</td>\n",
        "      <td> NaN</td>\n",
        "      <td> NaN</td>\n",
        "      <td> NaN</td>\n",
        "      <td> NaN</td>\n",
        "      <td> False</td>\n",
        "      <td> NaN</td>\n",
        "      <td> NaN</td>\n",
        "      <td> NaN</td>\n",
        "      <td> NaN</td>\n",
        "      <td> NaN</td>\n",
        "      <td> NaN</td>\n",
        "      <td>...</td>\n",
        "    </tr>\n",
        "    <tr>\n",
        "      <th>3620318747</th>\n",
        "      <td> 317HQ483I7RS5SPCTSEV6967U7WIN8</td>\n",
        "      <td> 3FI30CQHVJI8PF7KYZVVTRKP0ZQ6BK</td>\n",
        "      <td> NaN</td>\n",
        "      <td> NaN</td>\n",
        "      <td> NaN</td>\n",
        "      <td> NaN</td>\n",
        "      <td> NaN</td>\n",
        "      <td> NaN</td>\n",
        "      <td> NaN</td>\n",
        "      <td> NaN</td>\n",
        "      <td> NaN</td>\n",
        "      <td> NaN</td>\n",
        "      <td> NaN</td>\n",
        "      <td> False</td>\n",
        "      <td> NaN</td>\n",
        "      <td> NaN</td>\n",
        "      <td> NaN</td>\n",
        "      <td> NaN</td>\n",
        "      <td> NaN</td>\n",
        "      <td> NaN</td>\n",
        "      <td>...</td>\n",
        "    </tr>\n",
        "    <tr>\n",
        "      <th>9389108329</th>\n",
        "      <td> 3URFVVM165HRV8YVQXE3KZ1RYGQZUD</td>\n",
        "      <td> 3FI30CQHVJI8PF7KYZVVTRKP0ZQ6BK</td>\n",
        "      <td> NaN</td>\n",
        "      <td> NaN</td>\n",
        "      <td> NaN</td>\n",
        "      <td> NaN</td>\n",
        "      <td> NaN</td>\n",
        "      <td> NaN</td>\n",
        "      <td> NaN</td>\n",
        "      <td> NaN</td>\n",
        "      <td> NaN</td>\n",
        "      <td> NaN</td>\n",
        "      <td> NaN</td>\n",
        "      <td>  True</td>\n",
        "      <td> NaN</td>\n",
        "      <td> NaN</td>\n",
        "      <td> NaN</td>\n",
        "      <td> NaN</td>\n",
        "      <td> NaN</td>\n",
        "      <td> NaN</td>\n",
        "      <td>...</td>\n",
        "    </tr>\n",
        "    <tr>\n",
        "      <th>9389108329</th>\n",
        "      <td> 3LRLIPTPEQ8CR4LBKRU2XJ1KN4MAKR</td>\n",
        "      <td> 3FI30CQHVJI8PF7KYZVVTRKP0ZQ6BK</td>\n",
        "      <td> NaN</td>\n",
        "      <td> NaN</td>\n",
        "      <td> NaN</td>\n",
        "      <td> NaN</td>\n",
        "      <td> NaN</td>\n",
        "      <td> NaN</td>\n",
        "      <td> NaN</td>\n",
        "      <td> NaN</td>\n",
        "      <td> NaN</td>\n",
        "      <td> NaN</td>\n",
        "      <td> NaN</td>\n",
        "      <td>  True</td>\n",
        "      <td> NaN</td>\n",
        "      <td> NaN</td>\n",
        "      <td> NaN</td>\n",
        "      <td> NaN</td>\n",
        "      <td> NaN</td>\n",
        "      <td> NaN</td>\n",
        "      <td>...</td>\n",
        "    </tr>\n",
        "    <tr>\n",
        "      <th>9389108329</th>\n",
        "      <td> 317HQ483I7RS5SPCTSEV6967U7WIN8</td>\n",
        "      <td> 3FI30CQHVJI8PF7KYZVVTRKP0ZQ6BK</td>\n",
        "      <td> NaN</td>\n",
        "      <td> NaN</td>\n",
        "      <td> NaN</td>\n",
        "      <td> NaN</td>\n",
        "      <td> NaN</td>\n",
        "      <td> NaN</td>\n",
        "      <td> NaN</td>\n",
        "      <td> NaN</td>\n",
        "      <td> NaN</td>\n",
        "      <td> NaN</td>\n",
        "      <td> NaN</td>\n",
        "      <td>  True</td>\n",
        "      <td> NaN</td>\n",
        "      <td> NaN</td>\n",
        "      <td> NaN</td>\n",
        "      <td> NaN</td>\n",
        "      <td> NaN</td>\n",
        "      <td> NaN</td>\n",
        "      <td>...</td>\n",
        "    </tr>\n",
        "    <tr>\n",
        "      <th>9499757804</th>\n",
        "      <td> 3URFVVM165HRV8YVQXE3KZ1RYGQZUD</td>\n",
        "      <td> 3FI30CQHVJI8PF7KYZVVTRKP0ZQ6BK</td>\n",
        "      <td> NaN</td>\n",
        "      <td> NaN</td>\n",
        "      <td> NaN</td>\n",
        "      <td> NaN</td>\n",
        "      <td> NaN</td>\n",
        "      <td> NaN</td>\n",
        "      <td> NaN</td>\n",
        "      <td> NaN</td>\n",
        "      <td> NaN</td>\n",
        "      <td> NaN</td>\n",
        "      <td> NaN</td>\n",
        "      <td>  True</td>\n",
        "      <td> NaN</td>\n",
        "      <td> NaN</td>\n",
        "      <td> NaN</td>\n",
        "      <td> NaN</td>\n",
        "      <td> NaN</td>\n",
        "      <td> NaN</td>\n",
        "      <td>...</td>\n",
        "    </tr>\n",
        "    <tr>\n",
        "      <th>9499757804</th>\n",
        "      <td> 317HQ483I7RS5SPCTSEV6967U7WIN8</td>\n",
        "      <td> 3FI30CQHVJI8PF7KYZVVTRKP0ZQ6BK</td>\n",
        "      <td> NaN</td>\n",
        "      <td> NaN</td>\n",
        "      <td> NaN</td>\n",
        "      <td> NaN</td>\n",
        "      <td> NaN</td>\n",
        "      <td> NaN</td>\n",
        "      <td> NaN</td>\n",
        "      <td> NaN</td>\n",
        "      <td> NaN</td>\n",
        "      <td> NaN</td>\n",
        "      <td> NaN</td>\n",
        "      <td>  True</td>\n",
        "      <td> NaN</td>\n",
        "      <td> NaN</td>\n",
        "      <td> NaN</td>\n",
        "      <td> NaN</td>\n",
        "      <td> NaN</td>\n",
        "      <td> NaN</td>\n",
        "      <td>...</td>\n",
        "    </tr>\n",
        "    <tr>\n",
        "      <th>9499757804</th>\n",
        "      <td> 3LRLIPTPEQ8CR4LBKRU2XJ1KN4MAKR</td>\n",
        "      <td> 3FI30CQHVJI8PF7KYZVVTRKP0ZQ6BK</td>\n",
        "      <td> NaN</td>\n",
        "      <td> NaN</td>\n",
        "      <td> NaN</td>\n",
        "      <td> NaN</td>\n",
        "      <td> NaN</td>\n",
        "      <td> NaN</td>\n",
        "      <td> NaN</td>\n",
        "      <td> NaN</td>\n",
        "      <td> NaN</td>\n",
        "      <td> NaN</td>\n",
        "      <td> NaN</td>\n",
        "      <td>  True</td>\n",
        "      <td> NaN</td>\n",
        "      <td> NaN</td>\n",
        "      <td> NaN</td>\n",
        "      <td> NaN</td>\n",
        "      <td> NaN</td>\n",
        "      <td> NaN</td>\n",
        "      <td>...</td>\n",
        "    </tr>\n",
        "  </tbody>\n",
        "</table>\n",
        "<p>36 rows \u00d7 45 columns</p>\n",
        "</div>"
       ],
       "metadata": {},
       "output_type": "pyout",
       "prompt_number": 245,
       "text": [
        "                              assignment_id                          hit_id  \\\n",
        "11456300643  317HQ483I7RS5SPCTSEV6967U7WIN8  3FI30CQHVJI8PF7KYZVVTRKP0ZQ6BK   \n",
        "11456300643  3LRLIPTPEQ8CR4LBKRU2XJ1KN4MAKR  3FI30CQHVJI8PF7KYZVVTRKP0ZQ6BK   \n",
        "11456300643  3URFVVM165HRV8YVQXE3KZ1RYGQZUD  3FI30CQHVJI8PF7KYZVVTRKP0ZQ6BK   \n",
        "11457978634  3LRLIPTPEQ8CR4LBKRU2XJ1KN4MAKR  3FI30CQHVJI8PF7KYZVVTRKP0ZQ6BK   \n",
        "11457978634  317HQ483I7RS5SPCTSEV6967U7WIN8  3FI30CQHVJI8PF7KYZVVTRKP0ZQ6BK   \n",
        "11457978634  3URFVVM165HRV8YVQXE3KZ1RYGQZUD  3FI30CQHVJI8PF7KYZVVTRKP0ZQ6BK   \n",
        "11467028096  3URFVVM165HRV8YVQXE3KZ1RYGQZUD  3FI30CQHVJI8PF7KYZVVTRKP0ZQ6BK   \n",
        "11467028096  317HQ483I7RS5SPCTSEV6967U7WIN8  3FI30CQHVJI8PF7KYZVVTRKP0ZQ6BK   \n",
        "11467028096  3LRLIPTPEQ8CR4LBKRU2XJ1KN4MAKR  3FI30CQHVJI8PF7KYZVVTRKP0ZQ6BK   \n",
        "11471653905  3LRLIPTPEQ8CR4LBKRU2XJ1KN4MAKR  3FI30CQHVJI8PF7KYZVVTRKP0ZQ6BK   \n",
        "11471653905  317HQ483I7RS5SPCTSEV6967U7WIN8  3FI30CQHVJI8PF7KYZVVTRKP0ZQ6BK   \n",
        "11471653905  3URFVVM165HRV8YVQXE3KZ1RYGQZUD  3FI30CQHVJI8PF7KYZVVTRKP0ZQ6BK   \n",
        "11473352393  3URFVVM165HRV8YVQXE3KZ1RYGQZUD  3FI30CQHVJI8PF7KYZVVTRKP0ZQ6BK   \n",
        "11473352393  3LRLIPTPEQ8CR4LBKRU2XJ1KN4MAKR  3FI30CQHVJI8PF7KYZVVTRKP0ZQ6BK   \n",
        "11473352393  317HQ483I7RS5SPCTSEV6967U7WIN8  3FI30CQHVJI8PF7KYZVVTRKP0ZQ6BK   \n",
        "12713606114  317HQ483I7RS5SPCTSEV6967U7WIN8  3FI30CQHVJI8PF7KYZVVTRKP0ZQ6BK   \n",
        "12713606114  3URFVVM165HRV8YVQXE3KZ1RYGQZUD  3FI30CQHVJI8PF7KYZVVTRKP0ZQ6BK   \n",
        "12713606114  3LRLIPTPEQ8CR4LBKRU2XJ1KN4MAKR  3FI30CQHVJI8PF7KYZVVTRKP0ZQ6BK   \n",
        "12784664313  3LRLIPTPEQ8CR4LBKRU2XJ1KN4MAKR  3FI30CQHVJI8PF7KYZVVTRKP0ZQ6BK   \n",
        "12784664313  3URFVVM165HRV8YVQXE3KZ1RYGQZUD  3FI30CQHVJI8PF7KYZVVTRKP0ZQ6BK   \n",
        "12784664313  317HQ483I7RS5SPCTSEV6967U7WIN8  3FI30CQHVJI8PF7KYZVVTRKP0ZQ6BK   \n",
        "13006719264  3LRLIPTPEQ8CR4LBKRU2XJ1KN4MAKR  3FI30CQHVJI8PF7KYZVVTRKP0ZQ6BK   \n",
        "13006719264  317HQ483I7RS5SPCTSEV6967U7WIN8  3FI30CQHVJI8PF7KYZVVTRKP0ZQ6BK   \n",
        "13006719264  3URFVVM165HRV8YVQXE3KZ1RYGQZUD  3FI30CQHVJI8PF7KYZVVTRKP0ZQ6BK   \n",
        "13271140013  317HQ483I7RS5SPCTSEV6967U7WIN8  3FI30CQHVJI8PF7KYZVVTRKP0ZQ6BK   \n",
        "13271140013  3LRLIPTPEQ8CR4LBKRU2XJ1KN4MAKR  3FI30CQHVJI8PF7KYZVVTRKP0ZQ6BK   \n",
        "13271140013  3URFVVM165HRV8YVQXE3KZ1RYGQZUD  3FI30CQHVJI8PF7KYZVVTRKP0ZQ6BK   \n",
        "3620318747   3LRLIPTPEQ8CR4LBKRU2XJ1KN4MAKR  3FI30CQHVJI8PF7KYZVVTRKP0ZQ6BK   \n",
        "3620318747   3URFVVM165HRV8YVQXE3KZ1RYGQZUD  3FI30CQHVJI8PF7KYZVVTRKP0ZQ6BK   \n",
        "3620318747   317HQ483I7RS5SPCTSEV6967U7WIN8  3FI30CQHVJI8PF7KYZVVTRKP0ZQ6BK   \n",
        "9389108329   3URFVVM165HRV8YVQXE3KZ1RYGQZUD  3FI30CQHVJI8PF7KYZVVTRKP0ZQ6BK   \n",
        "9389108329   3LRLIPTPEQ8CR4LBKRU2XJ1KN4MAKR  3FI30CQHVJI8PF7KYZVVTRKP0ZQ6BK   \n",
        "9389108329   317HQ483I7RS5SPCTSEV6967U7WIN8  3FI30CQHVJI8PF7KYZVVTRKP0ZQ6BK   \n",
        "9499757804   3URFVVM165HRV8YVQXE3KZ1RYGQZUD  3FI30CQHVJI8PF7KYZVVTRKP0ZQ6BK   \n",
        "9499757804   317HQ483I7RS5SPCTSEV6967U7WIN8  3FI30CQHVJI8PF7KYZVVTRKP0ZQ6BK   \n",
        "9499757804   3LRLIPTPEQ8CR4LBKRU2XJ1KN4MAKR  3FI30CQHVJI8PF7KYZVVTRKP0ZQ6BK   \n",
        "\n",
        "            tagged_Bright tagged_Depth_of_Field tagged_Detailed  \\\n",
        "11456300643           NaN                   NaN             NaN   \n",
        "11456300643           NaN                   NaN             NaN   \n",
        "11456300643           NaN                   NaN             NaN   \n",
        "11457978634           NaN                   NaN             NaN   \n",
        "11457978634           NaN                   NaN             NaN   \n",
        "11457978634           NaN                   NaN             NaN   \n",
        "11467028096           NaN                   NaN             NaN   \n",
        "11467028096           NaN                   NaN             NaN   \n",
        "11467028096           NaN                   NaN             NaN   \n",
        "11471653905           NaN                   NaN             NaN   \n",
        "11471653905           NaN                   NaN             NaN   \n",
        "11471653905           NaN                   NaN             NaN   \n",
        "11473352393           NaN                   NaN             NaN   \n",
        "11473352393           NaN                   NaN             NaN   \n",
        "11473352393           NaN                   NaN             NaN   \n",
        "12713606114           NaN                   NaN             NaN   \n",
        "12713606114           NaN                   NaN             NaN   \n",
        "12713606114           NaN                   NaN             NaN   \n",
        "12784664313           NaN                   NaN             NaN   \n",
        "12784664313           NaN                   NaN             NaN   \n",
        "12784664313           NaN                   NaN             NaN   \n",
        "13006719264           NaN                   NaN             NaN   \n",
        "13006719264           NaN                   NaN             NaN   \n",
        "13006719264           NaN                   NaN             NaN   \n",
        "13271140013           NaN                   NaN             NaN   \n",
        "13271140013           NaN                   NaN             NaN   \n",
        "13271140013           NaN                   NaN             NaN   \n",
        "3620318747            NaN                   NaN             NaN   \n",
        "3620318747            NaN                   NaN             NaN   \n",
        "3620318747            NaN                   NaN             NaN   \n",
        "9389108329            NaN                   NaN             NaN   \n",
        "9389108329            NaN                   NaN             NaN   \n",
        "9389108329            NaN                   NaN             NaN   \n",
        "9499757804            NaN                   NaN             NaN   \n",
        "9499757804            NaN                   NaN             NaN   \n",
        "9499757804            NaN                   NaN             NaN   \n",
        "\n",
        "            tagged_Ethereal tagged_Geometric_Composition tagged_HDR  \\\n",
        "11456300643             NaN                          NaN        NaN   \n",
        "11456300643             NaN                          NaN        NaN   \n",
        "11456300643             NaN                          NaN        NaN   \n",
        "11457978634             NaN                          NaN        NaN   \n",
        "11457978634             NaN                          NaN        NaN   \n",
        "11457978634             NaN                          NaN        NaN   \n",
        "11467028096             NaN                          NaN        NaN   \n",
        "11467028096             NaN                          NaN        NaN   \n",
        "11467028096             NaN                          NaN        NaN   \n",
        "11471653905             NaN                          NaN        NaN   \n",
        "11471653905             NaN                          NaN        NaN   \n",
        "11471653905             NaN                          NaN        NaN   \n",
        "11473352393             NaN                          NaN        NaN   \n",
        "11473352393             NaN                          NaN        NaN   \n",
        "11473352393             NaN                          NaN        NaN   \n",
        "12713606114             NaN                          NaN        NaN   \n",
        "12713606114             NaN                          NaN        NaN   \n",
        "12713606114             NaN                          NaN        NaN   \n",
        "12784664313             NaN                          NaN        NaN   \n",
        "12784664313             NaN                          NaN        NaN   \n",
        "12784664313             NaN                          NaN        NaN   \n",
        "13006719264             NaN                          NaN        NaN   \n",
        "13006719264             NaN                          NaN        NaN   \n",
        "13006719264             NaN                          NaN        NaN   \n",
        "13271140013             NaN                          NaN        NaN   \n",
        "13271140013             NaN                          NaN        NaN   \n",
        "13271140013             NaN                          NaN        NaN   \n",
        "3620318747              NaN                          NaN        NaN   \n",
        "3620318747              NaN                          NaN        NaN   \n",
        "3620318747              NaN                          NaN        NaN   \n",
        "9389108329              NaN                          NaN        NaN   \n",
        "9389108329              NaN                          NaN        NaN   \n",
        "9389108329              NaN                          NaN        NaN   \n",
        "9499757804              NaN                          NaN        NaN   \n",
        "9499757804              NaN                          NaN        NaN   \n",
        "9499757804              NaN                          NaN        NaN   \n",
        "\n",
        "            tagged_Hazy tagged_Horror tagged_Long_Exposure tagged_Macro  \\\n",
        "11456300643         NaN           NaN                  NaN          NaN   \n",
        "11456300643         NaN           NaN                  NaN          NaN   \n",
        "11456300643         NaN           NaN                  NaN          NaN   \n",
        "11457978634         NaN           NaN                  NaN          NaN   \n",
        "11457978634         NaN           NaN                  NaN          NaN   \n",
        "11457978634         NaN           NaN                  NaN          NaN   \n",
        "11467028096         NaN           NaN                  NaN          NaN   \n",
        "11467028096         NaN           NaN                  NaN          NaN   \n",
        "11467028096         NaN           NaN                  NaN          NaN   \n",
        "11471653905         NaN           NaN                  NaN          NaN   \n",
        "11471653905         NaN           NaN                  NaN          NaN   \n",
        "11471653905         NaN           NaN                  NaN          NaN   \n",
        "11473352393         NaN           NaN                  NaN          NaN   \n",
        "11473352393         NaN           NaN                  NaN          NaN   \n",
        "11473352393         NaN           NaN                  NaN          NaN   \n",
        "12713606114         NaN           NaN                  NaN          NaN   \n",
        "12713606114         NaN           NaN                  NaN          NaN   \n",
        "12713606114         NaN           NaN                  NaN          NaN   \n",
        "12784664313         NaN           NaN                  NaN          NaN   \n",
        "12784664313         NaN           NaN                  NaN          NaN   \n",
        "12784664313         NaN           NaN                  NaN          NaN   \n",
        "13006719264         NaN           NaN                  NaN          NaN   \n",
        "13006719264         NaN           NaN                  NaN          NaN   \n",
        "13006719264         NaN           NaN                  NaN          NaN   \n",
        "13271140013         NaN           NaN                  NaN          NaN   \n",
        "13271140013         NaN           NaN                  NaN          NaN   \n",
        "13271140013         NaN           NaN                  NaN          NaN   \n",
        "3620318747          NaN           NaN                  NaN          NaN   \n",
        "3620318747          NaN           NaN                  NaN          NaN   \n",
        "3620318747          NaN           NaN                  NaN          NaN   \n",
        "9389108329          NaN           NaN                  NaN          NaN   \n",
        "9389108329          NaN           NaN                  NaN          NaN   \n",
        "9389108329          NaN           NaN                  NaN          NaN   \n",
        "9499757804          NaN           NaN                  NaN          NaN   \n",
        "9499757804          NaN           NaN                  NaN          NaN   \n",
        "9499757804          NaN           NaN                  NaN          NaN   \n",
        "\n",
        "            tagged_Melancholy tagged_Minimal tagged_Noir tagged_Pastel  \\\n",
        "11456300643               NaN           True         NaN           NaN   \n",
        "11456300643               NaN          False         NaN           NaN   \n",
        "11456300643               NaN           True         NaN           NaN   \n",
        "11457978634               NaN           True         NaN           NaN   \n",
        "11457978634               NaN          False         NaN           NaN   \n",
        "11457978634               NaN          False         NaN           NaN   \n",
        "11467028096               NaN           True         NaN           NaN   \n",
        "11467028096               NaN           True         NaN           NaN   \n",
        "11467028096               NaN           True         NaN           NaN   \n",
        "11471653905               NaN           True         NaN           NaN   \n",
        "11471653905               NaN          False         NaN           NaN   \n",
        "11471653905               NaN           True         NaN           NaN   \n",
        "11473352393               NaN          False         NaN           NaN   \n",
        "11473352393               NaN           True         NaN           NaN   \n",
        "11473352393               NaN          False         NaN           NaN   \n",
        "12713606114               NaN          False         NaN           NaN   \n",
        "12713606114               NaN          False         NaN           NaN   \n",
        "12713606114               NaN          False         NaN           NaN   \n",
        "12784664313               NaN          False         NaN           NaN   \n",
        "12784664313               NaN          False         NaN           NaN   \n",
        "12784664313               NaN          False         NaN           NaN   \n",
        "13006719264               NaN          False         NaN           NaN   \n",
        "13006719264               NaN          False         NaN           NaN   \n",
        "13006719264               NaN          False         NaN           NaN   \n",
        "13271140013               NaN          False         NaN           NaN   \n",
        "13271140013               NaN          False         NaN           NaN   \n",
        "13271140013               NaN          False         NaN           NaN   \n",
        "3620318747                NaN          False         NaN           NaN   \n",
        "3620318747                NaN          False         NaN           NaN   \n",
        "3620318747                NaN          False         NaN           NaN   \n",
        "9389108329                NaN           True         NaN           NaN   \n",
        "9389108329                NaN           True         NaN           NaN   \n",
        "9389108329                NaN           True         NaN           NaN   \n",
        "9499757804                NaN           True         NaN           NaN   \n",
        "9499757804                NaN           True         NaN           NaN   \n",
        "9499757804                NaN           True         NaN           NaN   \n",
        "\n",
        "            tagged_Romantic tagged_Serene tagged_Sunny tagged_Vintage      \n",
        "11456300643             NaN           NaN          NaN            NaN ...  \n",
        "11456300643             NaN           NaN          NaN            NaN ...  \n",
        "11456300643             NaN           NaN          NaN            NaN ...  \n",
        "11457978634             NaN           NaN          NaN            NaN ...  \n",
        "11457978634             NaN           NaN          NaN            NaN ...  \n",
        "11457978634             NaN           NaN          NaN            NaN ...  \n",
        "11467028096             NaN           NaN          NaN            NaN ...  \n",
        "11467028096             NaN           NaN          NaN            NaN ...  \n",
        "11467028096             NaN           NaN          NaN            NaN ...  \n",
        "11471653905             NaN           NaN          NaN            NaN ...  \n",
        "11471653905             NaN           NaN          NaN            NaN ...  \n",
        "11471653905             NaN           NaN          NaN            NaN ...  \n",
        "11473352393             NaN           NaN          NaN            NaN ...  \n",
        "11473352393             NaN           NaN          NaN            NaN ...  \n",
        "11473352393             NaN           NaN          NaN            NaN ...  \n",
        "12713606114             NaN           NaN          NaN            NaN ...  \n",
        "12713606114             NaN           NaN          NaN            NaN ...  \n",
        "12713606114             NaN           NaN          NaN            NaN ...  \n",
        "12784664313             NaN           NaN          NaN            NaN ...  \n",
        "12784664313             NaN           NaN          NaN            NaN ...  \n",
        "12784664313             NaN           NaN          NaN            NaN ...  \n",
        "13006719264             NaN           NaN          NaN            NaN ...  \n",
        "13006719264             NaN           NaN          NaN            NaN ...  \n",
        "13006719264             NaN           NaN          NaN            NaN ...  \n",
        "13271140013             NaN           NaN          NaN            NaN ...  \n",
        "13271140013             NaN           NaN          NaN            NaN ...  \n",
        "13271140013             NaN           NaN          NaN            NaN ...  \n",
        "3620318747              NaN           NaN          NaN            NaN ...  \n",
        "3620318747              NaN           NaN          NaN            NaN ...  \n",
        "3620318747              NaN           NaN          NaN            NaN ...  \n",
        "9389108329              NaN           NaN          NaN            NaN ...  \n",
        "9389108329              NaN           NaN          NaN            NaN ...  \n",
        "9389108329              NaN           NaN          NaN            NaN ...  \n",
        "9499757804              NaN           NaN          NaN            NaN ...  \n",
        "9499757804              NaN           NaN          NaN            NaN ...  \n",
        "9499757804              NaN           NaN          NaN            NaN ...  \n",
        "\n",
        "[36 rows x 45 columns]"
       ]
      }
     ],
     "prompt_number": 245
    },
    {
     "cell_type": "code",
     "collapsed": false,
     "input": [
      "tdf2.index.unique()"
     ],
     "language": "python",
     "metadata": {},
     "outputs": [
      {
       "metadata": {},
       "output_type": "pyout",
       "prompt_number": 92,
       "text": [
        "array([u'11286539835', u'12044957665', u'12292767913', u'12742208184',\n",
        "       u'13228235244', u'3190181306', u'3540879185', u'3949909149',\n",
        "       u'3952822028', u'3953309872', u'3957098696', u'3957345462'], dtype=object)"
       ]
      }
     ],
     "prompt_number": 92
    },
    {
     "cell_type": "code",
     "collapsed": false,
     "input": [
      "tdf3 = tdf2[ tdf2['_split'] == 'test' ]"
     ],
     "language": "python",
     "metadata": {},
     "outputs": [],
     "prompt_number": 78
    },
    {
     "cell_type": "code",
     "collapsed": false,
     "input": [
      "for idx in tdf3.index.unique():\n",
      "    print len( tdf2.ix[idx] )"
     ],
     "language": "python",
     "metadata": {},
     "outputs": [
      {
       "output_type": "stream",
       "stream": "stdout",
       "text": [
        "3\n",
        "3\n",
        "3\n",
        "3\n",
        "3\n",
        "3\n",
        "3\n",
        "3\n",
        "3\n",
        "3\n"
       ]
      }
     ],
     "prompt_number": 81
    },
    {
     "cell_type": "code",
     "collapsed": false,
     "input": [],
     "language": "python",
     "metadata": {},
     "outputs": []
    }
   ],
   "metadata": {}
  }
 ]
}