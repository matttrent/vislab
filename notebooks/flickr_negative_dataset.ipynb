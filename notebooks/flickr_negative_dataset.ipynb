{
 "metadata": {
  "name": ""
 },
 "nbformat": 3,
 "nbformat_minor": 0,
 "worksheets": [
  {
   "cells": [
    {
     "cell_type": "code",
     "collapsed": false,
     "input": [
      "%load_ext autoreload\n",
      "%autoreload 2\n",
      "import pandas as pd\n",
      "import vislab.datasets.flickr\n",
      "from vislab import util"
     ],
     "language": "python",
     "metadata": {},
     "outputs": [],
     "prompt_number": 1
    },
    {
     "cell_type": "code",
     "collapsed": false,
     "input": [
      "vislab.datasets.flickr.get_photos_for_interesting( 50000 )"
     ],
     "language": "python",
     "metadata": {},
     "outputs": [
      {
       "output_type": "stream",
       "stream": "stdout",
       "text": [
        "\n",
        "get_photos_for_interesting\n",
        "No new photos need to be fetched.\n"
       ]
      }
     ],
     "prompt_number": 2
    },
    {
     "cell_type": "code",
     "collapsed": false,
     "input": [
      "for k,v in util.get_mongodb_client()['flickr']['Interesting'].find_one().iteritems():\n",
      "    print k, ':', v\n",
      "print '---'\n",
      "for k,v in util.get_mongodb_client()['flickr']['HDR'].find_one().iteritems():\n",
      "    print k, ':', v"
     ],
     "language": "python",
     "metadata": {},
     "outputs": [
      {
       "output_type": "stream",
       "stream": "stdout",
       "text": [
        "isfamily : 0\n",
        "title : Sunrise on the ocean. Gasp\u00e9sie, Canada.\n",
        "farm : 4\n",
        "ispublic : 1\n",
        "owner : 21692577@N02\n",
        "rejected : False\n",
        "server : 3765\n",
        "image_id : f_13085253013\n",
        "secret : 57ae6ab1ae\n",
        "isfriend : 0\n",
        "_id : 5320b9b99a050315e38a7e1d\n",
        "id : 13085253013\n",
        "---\n",
        "isfamily"
       ]
      },
      {
       "output_type": "stream",
       "stream": "stdout",
       "text": [
        " : 0\n",
        "title : The Kessler (1)\n",
        "farm : 8\n",
        "ispublic : 1\n",
        "owner : 78620262@N06\n",
        "rejected : False\n",
        "server : 7395\n",
        "image_id : f_13110447943\n",
        "secret : 39bb525ec7\n",
        "isfriend : 0\n",
        "_id : 5320bb439a050317a1d21305\n",
        "id : 13110447943\n"
       ]
      }
     ],
     "prompt_number": 3
    },
    {
     "cell_type": "code",
     "collapsed": false,
     "input": [
      "collection = util.get_mongodb_client()['flickr']['Interesting']\n",
      "collection.ensure_index('image_id')\n",
      "collection_size = collection.find({'rejected': False}).count()\n",
      "print collection_size"
     ],
     "language": "python",
     "metadata": {},
     "outputs": [
      {
       "output_type": "stream",
       "stream": "stdout",
       "text": [
        "50000\n"
       ]
      }
     ],
     "prompt_number": 4
    },
    {
     "cell_type": "code",
     "collapsed": false,
     "input": [
      "interesting = list( collection.find() )\n",
      "print( len( interesting ) )"
     ],
     "language": "python",
     "metadata": {},
     "outputs": [
      {
       "output_type": "stream",
       "stream": "stdout",
       "text": [
        "50000\n"
       ]
      }
     ],
     "prompt_number": 5
    },
    {
     "cell_type": "code",
     "collapsed": false,
     "input": [
      "interesting[0]"
     ],
     "language": "python",
     "metadata": {},
     "outputs": [
      {
       "metadata": {},
       "output_type": "pyout",
       "prompt_number": 6,
       "text": [
        "{u'_id': ObjectId('5320b9b99a050315e38a7e1d'),\n",
        " u'farm': 4,\n",
        " u'id': u'13085253013',\n",
        " u'image_id': u'f_13085253013',\n",
        " u'isfamily': 0,\n",
        " u'isfriend': 0,\n",
        " u'ispublic': 1,\n",
        " u'owner': u'21692577@N02',\n",
        " u'rejected': False,\n",
        " u'secret': u'57ae6ab1ae',\n",
        " u'server': u'3765',\n",
        " u'title': u'Sunrise on the ocean. Gasp\\xe9sie, Canada.'}"
       ]
      }
     ],
     "prompt_number": 6
    },
    {
     "cell_type": "code",
     "collapsed": false,
     "input": [
      "flickr_df = vislab.datasets.flickr.load_flickr_df( force=True )"
     ],
     "language": "python",
     "metadata": {},
     "outputs": [],
     "prompt_number": 7
    },
    {
     "cell_type": "code",
     "collapsed": false,
     "input": [
      "len( flickr_df )"
     ],
     "language": "python",
     "metadata": {},
     "outputs": [
      {
       "metadata": {},
       "output_type": "pyout",
       "prompt_number": 8,
       "text": [
        "66551"
       ]
      }
     ],
     "prompt_number": 8
    },
    {
     "cell_type": "code",
     "collapsed": false,
     "input": [
      "print flickr_df.columns.tolist()"
     ],
     "language": "python",
     "metadata": {},
     "outputs": [
      {
       "output_type": "stream",
       "stream": "stdout",
       "text": [
        "['image_url', 'page_url', 'style_Bright,_Energetic', 'style_Depth_of_Field', 'style_Ethereal', 'style_Geometric_Composition', 'style_HDR', 'style_Hazy', 'style_Horror', 'style_Interesting', 'style_Long_Exposure', 'style_Macro', 'style_Melancholy', 'style_Minimal', 'style_Noir', 'style_Romantic', 'style_Serene', 'style_Soft,_Pastel', 'style_Sunny', 'style_Vintage', '_split']\n"
       ]
      }
     ],
     "prompt_number": 9
    },
    {
     "cell_type": "code",
     "collapsed": false,
     "input": [
      "flickr_df.ix[0]"
     ],
     "language": "python",
     "metadata": {},
     "outputs": [
      {
       "metadata": {},
       "output_type": "pyout",
       "prompt_number": 10,
       "text": [
        "image_url                      http://farm3.staticflickr.com/2828/10047569094...\n",
        "page_url                       http://www.flickr.com/photos/96506100@N04/1004...\n",
        "style_Bright,_Energetic                                                    False\n",
        "style_Depth_of_Field                                                       False\n",
        "style_Ethereal                                                             False\n",
        "style_Geometric_Composition                                                False\n",
        "style_HDR                                                                  False\n",
        "style_Hazy                                                                 False\n",
        "style_Horror                                                               False\n",
        "style_Interesting                                                          False\n",
        "style_Long_Exposure                                                        False\n",
        "style_Macro                                                                False\n",
        "style_Melancholy                                                           False\n",
        "style_Minimal                                                              False\n",
        "style_Noir                                                                 False\n",
        "style_Romantic                                                              True\n",
        "style_Serene                                                               False\n",
        "style_Soft,_Pastel                                                         False\n",
        "style_Sunny                                                                False\n",
        "style_Vintage                                                              False\n",
        "_split                                                                      test\n",
        "Name: f_10047569094, dtype: object"
       ]
      }
     ],
     "prompt_number": 10
    },
    {
     "cell_type": "code",
     "collapsed": false,
     "input": [
      "interesting_df = flickr_df[ flickr_df['style_Interesting'] == True ]\n",
      "len( interesting_df )"
     ],
     "language": "python",
     "metadata": {},
     "outputs": [
      {
       "metadata": {},
       "output_type": "pyout",
       "prompt_number": 11,
       "text": [
        "50012"
       ]
      }
     ],
     "prompt_number": 11
    },
    {
     "cell_type": "code",
     "collapsed": false,
     "input": [
      "interesting_df.ix[1]"
     ],
     "language": "python",
     "metadata": {},
     "outputs": [
      {
       "metadata": {},
       "output_type": "pyout",
       "prompt_number": 12,
       "text": [
        "image_url                      http://farm3.staticflickr.com/2886/11113350935...\n",
        "page_url                       http://www.flickr.com/photos/23981716@N04/1111...\n",
        "style_Bright,_Energetic                                                    False\n",
        "style_Depth_of_Field                                                       False\n",
        "style_Ethereal                                                             False\n",
        "style_Geometric_Composition                                                False\n",
        "style_HDR                                                                  False\n",
        "style_Hazy                                                                 False\n",
        "style_Horror                                                               False\n",
        "style_Interesting                                                           True\n",
        "style_Long_Exposure                                                        False\n",
        "style_Macro                                                                False\n",
        "style_Melancholy                                                           False\n",
        "style_Minimal                                                              False\n",
        "style_Noir                                                                 False\n",
        "style_Romantic                                                             False\n",
        "style_Serene                                                               False\n",
        "style_Soft,_Pastel                                                         False\n",
        "style_Sunny                                                                False\n",
        "style_Vintage                                                              False\n",
        "_split                                                                     train\n",
        "Name: f_11113350935, dtype: object"
       ]
      }
     ],
     "prompt_number": 12
    },
    {
     "cell_type": "code",
     "collapsed": false,
     "input": [],
     "language": "python",
     "metadata": {},
     "outputs": []
    }
   ],
   "metadata": {}
  }
 ]
}