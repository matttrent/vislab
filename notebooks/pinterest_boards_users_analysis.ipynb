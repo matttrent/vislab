{
 "metadata": {
  "name": ""
 },
 "nbformat": 3,
 "nbformat_minor": 0,
 "worksheets": [
  {
   "cells": [
    {
     "cell_type": "code",
     "collapsed": false,
     "input": [
      "import pandas as pd"
     ],
     "language": "python",
     "metadata": {},
     "outputs": [],
     "prompt_number": 1
    },
    {
     "cell_type": "code",
     "collapsed": false,
     "input": [
      "df = pd.read_hdf('../data/results/boards_users_df_feb27.h5', 'df')\n",
      "df.shape"
     ],
     "language": "python",
     "metadata": {},
     "outputs": [
      {
       "metadata": {},
       "output_type": "pyout",
       "prompt_number": 4,
       "text": [
        "(1339814, 53)"
       ]
      }
     ],
     "prompt_number": 4
    },
    {
     "cell_type": "code",
     "collapsed": false,
     "input": [
      "# Board name for all users.\n",
      "df['board_name'].value_counts()"
     ],
     "language": "python",
     "metadata": {},
     "outputs": [
      {
       "metadata": {},
       "output_type": "pyout",
       "prompt_number": 5,
       "text": [
        "Art                         2642\n",
        "For the Home                2454\n",
        "Photography                 2436\n",
        "Christmas                   2326\n",
        "My Style                    2134\n",
        "DIY                         2022\n",
        "Hair                        1670\n",
        "Halloween                   1648\n",
        "Products I Love             1647\n",
        "Food                        1547\n",
        "Architecture                1438\n",
        "Favorite Places & Spaces    1430\n",
        "Fashion                     1402\n",
        "Easter                      1367\n",
        "Quotes                      1312\n",
        "...\n",
        "My Life & Giveaways                         1\n",
        "Caffeine Rush                               1\n",
        "PATTERN-TEMPLATE                            1\n",
        "\u222b Giraffes \u222b                                1\n",
        "A Work Ethic                                1\n",
        "Fashion on the Red Carpet                   1\n",
        "Objects and things                          1\n",
        "Reclaimed panelling                         1\n",
        "Pet-friendly Design                         1\n",
        "Food I Want To Eat: Sweet                   1\n",
        "Leather Touch                               1\n",
        "The lion the witch & my kind of Wardrobe    1\n",
        "Photo Art!                                  1\n",
        "Life as a Nurse                             1\n",
        "Health and Food                             1\n",
        "Length: 778672, dtype: int64"
       ]
      }
     ],
     "prompt_number": 5
    },
    {
     "cell_type": "code",
     "collapsed": false,
     "input": [
      "# Board name stats for users who had a board for 'bokeh'.\n",
      "query = 'bokeh'\n",
      "ind = df['query_{}'.format(query)]\n",
      "df['board_name'][ind].value_counts()"
     ],
     "language": "python",
     "metadata": {},
     "outputs": [
      {
       "metadata": {},
       "output_type": "pyout",
       "prompt_number": 6,
       "text": [
        "Bokeh              240\n",
        "Photography         99\n",
        "Christmas           81\n",
        "Flowers             77\n",
        "Art                 71\n",
        "Halloween           55\n",
        "DIY                 54\n",
        "Winter              51\n",
        "Products I Love     46\n",
        "Reflections         44\n",
        "For the Home        44\n",
        "Summer              44\n",
        "Easter              44\n",
        "My Style            43\n",
        "Architecture        42\n",
        "...\n",
        "Collection of Still Photography                    1\n",
        "WRECK THiS JOURNAL .                               1\n",
        "Edward Weston                                      1\n",
        "~SNooPY & FRieNds~                                 1\n",
        "Stacked                                            1\n",
        "No Sew Projects                                    1\n",
        "HO  HO  HO                                         1\n",
        "PAINT my world                                     1\n",
        "Botanical                                          1\n",
        "Not just cheese!!! - Homemade Better Made Hacks    1\n",
        "\"Sparkle\" & Bokeh                                  1\n",
        "Linens And Lace                                    1\n",
        "\u2764Peacock\u22b1(\u0306\u0303\u0303(\u0306\u0303\u0303(\u0306\u0303\u0303\u22b0\u2764                            1\n",
        "*~ WARM & COZY ~*                                  1\n",
        "Christmas Sketchbook                               1\n",
        "Length: 40450, dtype: int64"
       ]
      }
     ],
     "prompt_number": 6
    }
   ],
   "metadata": {}
  }
 ]
}